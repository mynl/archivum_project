{
 "cells": [
  {
   "cell_type": "markdown",
   "id": "a6d26c4a-b453-4a8c-9221-82f62a72fb10",
   "metadata": {},
   "source": [
    "# Full Text RipGrep Search \n",
    "\n",
    "```bash\n",
    "rg -n --json --stats --files \"(?:spectral|coherent) risk measure\" \n",
    "```\n",
    "\n",
    "## Provenance\n",
    "* Created new 2025-05-18 at Bignor!"
   ]
  },
  {
   "cell_type": "code",
   "execution_count": 4,
   "id": "e6ecff33-da4d-44b1-87dc-0d45ee9ef06a",
   "metadata": {},
   "outputs": [
    {
     "name": "stdout",
     "output_type": "stream",
     "text": [
      "The autotime extension is already loaded. To reload it, use:\n",
      "  %reload_ext autotime\n",
      "time: 0 ns (started: 2025-05-18 09:08:43 +01:00)\n"
     ]
    }
   ],
   "source": [
    "from ripgrepy import Ripgrepy\n",
    "from pathlib import Path\n",
    "import pandas as pd\n",
    "from functools import partial \n",
    "import re\n",
    "\n",
    "RG = partial(Ripgrepy, rg_path='C:\\\\ProgramData\\\\chocolatey\\\\bin\\\\rg.exe')\n",
    "%load_ext autotime"
   ]
  },
  {
   "cell_type": "code",
   "execution_count": 6,
   "id": "be693a73-fbf5-490e-a8ca-7fc6499ef70e",
   "metadata": {},
   "outputs": [
    {
     "name": "stdout",
     "output_type": "stream",
     "text": [
      "time: 344 ms (started: 2025-05-18 09:08:59 +01:00)\n"
     ]
    }
   ],
   "source": [
    "rg = RG(\"(?:spectral|coherent) risk measure\", '\\\\tmp'\n",
    "       ).n().stats().json().run()"
   ]
  },
  {
   "cell_type": "code",
   "execution_count": 7,
   "id": "80c7132f-569f-47a3-83e6-d82b33a08b9d",
   "metadata": {},
   "outputs": [
    {
     "name": "stdout",
     "output_type": "stream",
     "text": [
      "time: 265 ms (started: 2025-05-18 09:09:04 +01:00)\n"
     ]
    }
   ],
   "source": [
    "data = rg.as_dict"
   ]
  },
  {
   "cell_type": "code",
   "execution_count": 8,
   "id": "fbfd9f9a-9853-4e18-b14b-9e12d4cc6ca7",
   "metadata": {},
   "outputs": [
    {
     "data": {
      "text/plain": [
       "(list,\n",
       " 10728,\n",
       " {'path': {'text': '\\\\tmp\\\\Acerbi2002-2740-2510.txt'},\n",
       "  'lines': {'text': 'a coherent risk measure because it simply doesn’t fulﬁll one of the axioms of coherence.\\r\\n'},\n",
       "  'line_number': 28,\n",
       "  'absolute_offset': 1818,\n",
       "  'submatches': [{'match': {'text': 'coherent risk measure'},\n",
       "    'start': 2,\n",
       "    'end': 23}]})"
      ]
     },
     "execution_count": 8,
     "metadata": {},
     "output_type": "execute_result"
    },
    {
     "name": "stdout",
     "output_type": "stream",
     "text": [
      "time: 16 ms (started: 2025-05-18 09:09:08 +01:00)\n"
     ]
    }
   ],
   "source": [
    "d = data\n",
    "type(d), len(d), d[2]['data']"
   ]
  },
  {
   "cell_type": "code",
   "execution_count": 9,
   "id": "e7108ef7-7dbb-4314-9a03-00677859b07b",
   "metadata": {},
   "outputs": [
    {
     "name": "stdout",
     "output_type": "stream",
     "text": [
      "time: 47 ms (started: 2025-05-18 09:09:15 +01:00)\n"
     ]
    }
   ],
   "source": [
    "records = [\n",
    "    {\n",
    "        \"filename\": match[\"data\"][\"path\"][\"text\"],\n",
    "        \"line\": match[\"data\"][\"lines\"][\"text\"].rstrip(\"\\r\\n\"),\n",
    "        \"line_number\": match[\"data\"][\"line_number\"],\n",
    "        \"absolute_offset\": match[\"data\"][\"absolute_offset\"],\n",
    "    }\n",
    "    for match in data if match.get(\"type\") == \"match\"\n",
    "]\n",
    "\n",
    "df = pd.DataFrame(records)"
   ]
  },
  {
   "cell_type": "code",
   "execution_count": 10,
   "id": "14e53e11-f6fc-4edd-b586-0410d64ea9bd",
   "metadata": {},
   "outputs": [
    {
     "data": {
      "text/plain": [
       "10728"
      ]
     },
     "execution_count": 10,
     "metadata": {},
     "output_type": "execute_result"
    },
    {
     "name": "stdout",
     "output_type": "stream",
     "text": [
      "time: 0 ns (started: 2025-05-18 09:09:27 +01:00)\n"
     ]
    }
   ],
   "source": [
    "len(df)"
   ]
  },
  {
   "cell_type": "code",
   "execution_count": 11,
   "id": "47930294-400e-459f-9019-836a16d4a607",
   "metadata": {},
   "outputs": [
    {
     "data": {
      "text/html": [
       "<div>\n",
       "<style scoped>\n",
       "    .dataframe tbody tr th:only-of-type {\n",
       "        vertical-align: middle;\n",
       "    }\n",
       "\n",
       "    .dataframe tbody tr th {\n",
       "        vertical-align: top;\n",
       "    }\n",
       "\n",
       "    .dataframe thead th {\n",
       "        text-align: right;\n",
       "    }\n",
       "</style>\n",
       "<table border=\"1\" class=\"dataframe\">\n",
       "  <thead>\n",
       "    <tr style=\"text-align: right;\">\n",
       "      <th></th>\n",
       "      <th>filename</th>\n",
       "      <th>line</th>\n",
       "      <th>line_number</th>\n",
       "      <th>absolute_offset</th>\n",
       "    </tr>\n",
       "  </thead>\n",
       "  <tbody>\n",
       "    <tr>\n",
       "      <th>0</th>\n",
       "      <td>\\tmp\\Acerbi2007-5802-5309.txt</td>\n",
       "      <td>Fischer, T., Examples of coherent risk measure...</td>\n",
       "      <td>1007</td>\n",
       "      <td>28826</td>\n",
       "    </tr>\n",
       "    <tr>\n",
       "      <th>1</th>\n",
       "      <td>\\tmp\\Acerbi2002-2740-2510.txt</td>\n",
       "      <td>formulation of the concept of coherent risk me...</td>\n",
       "      <td>24</td>\n",
       "      <td>1429</td>\n",
       "    </tr>\n",
       "    <tr>\n",
       "      <th>2</th>\n",
       "      <td>\\tmp\\Acerbi2002-2740-2510.txt</td>\n",
       "      <td>a coherent risk measure because it simply does...</td>\n",
       "      <td>28</td>\n",
       "      <td>1818</td>\n",
       "    </tr>\n",
       "    <tr>\n",
       "      <th>3</th>\n",
       "      <td>\\tmp\\Acerbi2002-2740-2510.txt</td>\n",
       "      <td>In this article we have seen that at least one...</td>\n",
       "      <td>380</td>\n",
       "      <td>18078</td>\n",
       "    </tr>\n",
       "    <tr>\n",
       "      <th>4</th>\n",
       "      <td>\\tmp\\Acerbi2002b-1992-1831.txt</td>\n",
       "      <td>We study a space of coherent risk measures M/ ...</td>\n",
       "      <td>7</td>\n",
       "      <td>157</td>\n",
       "    </tr>\n",
       "  </tbody>\n",
       "</table>\n",
       "</div>"
      ],
      "text/plain": [
       "                         filename  \\\n",
       "0   \\tmp\\Acerbi2007-5802-5309.txt   \n",
       "1   \\tmp\\Acerbi2002-2740-2510.txt   \n",
       "2   \\tmp\\Acerbi2002-2740-2510.txt   \n",
       "3   \\tmp\\Acerbi2002-2740-2510.txt   \n",
       "4  \\tmp\\Acerbi2002b-1992-1831.txt   \n",
       "\n",
       "                                                line  line_number  \\\n",
       "0  Fischer, T., Examples of coherent risk measure...         1007   \n",
       "1  formulation of the concept of coherent risk me...           24   \n",
       "2  a coherent risk measure because it simply does...           28   \n",
       "3  In this article we have seen that at least one...          380   \n",
       "4  We study a space of coherent risk measures M/ ...            7   \n",
       "\n",
       "   absolute_offset  \n",
       "0            28826  \n",
       "1             1429  \n",
       "2             1818  \n",
       "3            18078  \n",
       "4              157  "
      ]
     },
     "execution_count": 11,
     "metadata": {},
     "output_type": "execute_result"
    },
    {
     "name": "stdout",
     "output_type": "stream",
     "text": [
      "time: 16 ms (started: 2025-05-18 09:09:30 +01:00)\n"
     ]
    }
   ],
   "source": [
    "df.head()"
   ]
  },
  {
   "cell_type": "code",
   "execution_count": 16,
   "id": "1ffdfdca-faf9-4d61-8557-3ffb26f77e2a",
   "metadata": {},
   "outputs": [
    {
     "data": {
      "text/html": [
       "<div>\n",
       "<style scoped>\n",
       "    .dataframe tbody tr th:only-of-type {\n",
       "        vertical-align: middle;\n",
       "    }\n",
       "\n",
       "    .dataframe tbody tr th {\n",
       "        vertical-align: top;\n",
       "    }\n",
       "\n",
       "    .dataframe thead th {\n",
       "        text-align: right;\n",
       "    }\n",
       "</style>\n",
       "<table border=\"1\" class=\"dataframe\">\n",
       "  <thead>\n",
       "    <tr style=\"text-align: right;\">\n",
       "      <th></th>\n",
       "      <th>filename</th>\n",
       "      <th>line</th>\n",
       "      <th>line_number</th>\n",
       "      <th>absolute_offset</th>\n",
       "    </tr>\n",
       "  </thead>\n",
       "  <tbody>\n",
       "    <tr>\n",
       "      <th>0</th>\n",
       "      <td>\\tmp\\Acerbi2007-5802-5309.txt</td>\n",
       "      <td>Fischer, T., Examples of coherent risk measure...</td>\n",
       "      <td>1007</td>\n",
       "      <td>28826</td>\n",
       "    </tr>\n",
       "  </tbody>\n",
       "</table>\n",
       "</div>"
      ],
      "text/plain": [
       "                        filename  \\\n",
       "0  \\tmp\\Acerbi2007-5802-5309.txt   \n",
       "\n",
       "                                                line  line_number  \\\n",
       "0  Fischer, T., Examples of coherent risk measure...         1007   \n",
       "\n",
       "   absolute_offset  \n",
       "0            28826  "
      ]
     },
     "execution_count": 16,
     "metadata": {},
     "output_type": "execute_result"
    },
    {
     "name": "stdout",
     "output_type": "stream",
     "text": [
      "time: 15 ms (started: 2025-05-18 09:15:59 +01:00)\n"
     ]
    }
   ],
   "source": [
    "df.loc[[0]]"
   ]
  },
  {
   "cell_type": "code",
   "execution_count": 28,
   "id": "da2596b9-1eb7-4386-98f6-a0551f856916",
   "metadata": {},
   "outputs": [
    {
     "name": "stdout",
     "output_type": "stream",
     "text": [
      "time: 0 ns (started: 2025-05-18 09:43:37 +01:00)\n"
     ]
    }
   ],
   "source": [
    "m = 1\n",
    "t = Path(df.loc[m, 'filename']).read_bytes() # text(encoding='utf-8')"
   ]
  },
  {
   "cell_type": "code",
   "execution_count": 29,
   "id": "13ebc22e-fb8c-45b1-b8a8-0e671758bcb8",
   "metadata": {},
   "outputs": [
    {
     "ename": "TypeError",
     "evalue": "a bytes-like object is required, not 'str'",
     "output_type": "error",
     "traceback": [
      "\u001b[1;31m---------------------------------------------------------------------------\u001b[0m",
      "\u001b[1;31mTypeError\u001b[0m                                 Traceback (most recent call last)",
      "Cell \u001b[1;32mIn[29], line 1\u001b[0m\n\u001b[1;32m----> 1\u001b[0m \u001b[43mt\u001b[49m\u001b[38;5;241;43m.\u001b[39;49m\u001b[43msplit\u001b[49m\u001b[43m(\u001b[49m\u001b[38;5;124;43m'\u001b[39;49m\u001b[38;5;130;43;01m\\n\u001b[39;49;00m\u001b[38;5;124;43m'\u001b[39;49m\u001b[43m)\u001b[49m[df\u001b[38;5;241m.\u001b[39mloc[m, \u001b[38;5;124m'\u001b[39m\u001b[38;5;124mline_number\u001b[39m\u001b[38;5;124m'\u001b[39m] \u001b[38;5;241m-\u001b[39m \u001b[38;5;241m1\u001b[39m]\n",
      "\u001b[1;31mTypeError\u001b[0m: a bytes-like object is required, not 'str'"
     ]
    },
    {
     "name": "stdout",
     "output_type": "stream",
     "text": [
      "time: 16 ms (started: 2025-05-18 09:43:41 +01:00)\n"
     ]
    }
   ],
   "source": [
    "t.split('\\n')[df.loc[m, 'line_number'] - 1]"
   ]
  },
  {
   "cell_type": "code",
   "execution_count": 30,
   "id": "8f5323da-c7b1-4c02-9f3b-e799b2e4089f",
   "metadata": {},
   "outputs": [
    {
     "data": {
      "text/plain": [
       "b's via an axiomatic\\r\\nformulation of the c'"
      ]
     },
     "execution_count": 30,
     "metadata": {},
     "output_type": "execute_result"
    },
    {
     "name": "stdout",
     "output_type": "stream",
     "text": [
      "time: 16 ms (started: 2025-05-18 09:43:50 +01:00)\n"
     ]
    }
   ],
   "source": [
    "t[df.loc[m, 'absolute_offset'] - 20: df.loc[m, 'absolute_offset'] + 20]"
   ]
  },
  {
   "cell_type": "code",
   "execution_count": 21,
   "id": "569408c0-1246-4e4a-b253-8fd06b7a4592",
   "metadata": {},
   "outputs": [
    {
     "data": {
      "text/plain": [
       "28266"
      ]
     },
     "execution_count": 21,
     "metadata": {},
     "output_type": "execute_result"
    },
    {
     "name": "stdout",
     "output_type": "stream",
     "text": [
      "time: 0 ns (started: 2025-05-18 09:32:40 +01:00)\n"
     ]
    }
   ],
   "source": [
    "len(t)"
   ]
  },
  {
   "cell_type": "code",
   "execution_count": 31,
   "id": "b87decab-e56c-4ef2-b25a-762ab23dbc9e",
   "metadata": {},
   "outputs": [
    {
     "ename": "TypeError",
     "evalue": "argument should be integer or bytes-like object, not 'str'",
     "output_type": "error",
     "traceback": [
      "\u001b[1;31m---------------------------------------------------------------------------\u001b[0m",
      "\u001b[1;31mTypeError\u001b[0m                                 Traceback (most recent call last)",
      "Cell \u001b[1;32mIn[31], line 1\u001b[0m\n\u001b[1;32m----> 1\u001b[0m \u001b[43mt\u001b[49m\u001b[38;5;241;43m.\u001b[39;49m\u001b[43mfind\u001b[49m\u001b[43m(\u001b[49m\u001b[38;5;124;43m'\u001b[39;49m\u001b[38;5;124;43mcoherent risk measure\u001b[39;49m\u001b[38;5;124;43m'\u001b[39;49m\u001b[43m)\u001b[49m\n",
      "\u001b[1;31mTypeError\u001b[0m: argument should be integer or bytes-like object, not 'str'"
     ]
    },
    {
     "name": "stdout",
     "output_type": "stream",
     "text": [
      "time: 32 ms (started: 2025-05-18 09:44:09 +01:00)\n"
     ]
    }
   ],
   "source": [
    "t.find('coherent risk measure')"
   ]
  },
  {
   "cell_type": "code",
   "execution_count": 41,
   "id": "709c1ce5-fab4-444e-89af-04b48028cd3a",
   "metadata": {},
   "outputs": [
    {
     "data": {
      "text/html": [
       "<div>\n",
       "<style scoped>\n",
       "    .dataframe tbody tr th:only-of-type {\n",
       "        vertical-align: middle;\n",
       "    }\n",
       "\n",
       "    .dataframe tbody tr th {\n",
       "        vertical-align: top;\n",
       "    }\n",
       "\n",
       "    .dataframe thead th {\n",
       "        text-align: right;\n",
       "    }\n",
       "</style>\n",
       "<table border=\"1\" class=\"dataframe\">\n",
       "  <thead>\n",
       "    <tr style=\"text-align: right;\">\n",
       "      <th></th>\n",
       "      <th>filename</th>\n",
       "      <th>line</th>\n",
       "      <th>line_number</th>\n",
       "      <th>absolute_offset</th>\n",
       "    </tr>\n",
       "  </thead>\n",
       "  <tbody>\n",
       "    <tr>\n",
       "      <th>0</th>\n",
       "      <td>\\tmp\\Acerbi2002-2740-2510.txt</td>\n",
       "      <td>formulation of the concept of coherent risk me...</td>\n",
       "      <td>24</td>\n",
       "      <td>1429</td>\n",
       "    </tr>\n",
       "    <tr>\n",
       "      <th>1</th>\n",
       "      <td>\\tmp\\Acerbi2002-2740-2510.txt</td>\n",
       "      <td>a coherent risk measure because it simply does...</td>\n",
       "      <td>28</td>\n",
       "      <td>1818</td>\n",
       "    </tr>\n",
       "    <tr>\n",
       "      <th>2</th>\n",
       "      <td>\\tmp\\Acerbi2002-2740-2510.txt</td>\n",
       "      <td>In this article we have seen that at least one...</td>\n",
       "      <td>380</td>\n",
       "      <td>18078</td>\n",
       "    </tr>\n",
       "    <tr>\n",
       "      <th>3</th>\n",
       "      <td>\\tmp\\Acerbi2002b-1992-1831.txt</td>\n",
       "      <td>We study a space of coherent risk measures M/ ...</td>\n",
       "      <td>7</td>\n",
       "      <td>157</td>\n",
       "    </tr>\n",
       "    <tr>\n",
       "      <th>4</th>\n",
       "      <td>\\tmp\\Acerbi2002b-1992-1831.txt</td>\n",
       "      <td>Deﬁnition 3.1 (risk aversion function and spec...</td>\n",
       "      <td>312</td>\n",
       "      <td>13882</td>\n",
       "    </tr>\n",
       "    <tr>\n",
       "      <th>...</th>\n",
       "      <td>...</td>\n",
       "      <td>...</td>\n",
       "      <td>...</td>\n",
       "      <td>...</td>\n",
       "    </tr>\n",
       "    <tr>\n",
       "      <th>2299</th>\n",
       "      <td>\\tmp\\Zhu2018-2589-2374.txt</td>\n",
       "      <td>measure Mφ(·) reduces to the spectral risk mea...</td>\n",
       "      <td>632</td>\n",
       "      <td>21062</td>\n",
       "    </tr>\n",
       "    <tr>\n",
       "      <th>2300</th>\n",
       "      <td>\\tmp\\Zhu2018-2589-2374.txt</td>\n",
       "      <td>coherent risk measure (Acerbi, 2002).</td>\n",
       "      <td>633</td>\n",
       "      <td>21141</td>\n",
       "    </tr>\n",
       "    <tr>\n",
       "      <th>2301</th>\n",
       "      <td>\\tmp\\Zhu2018-2589-2374.txt</td>\n",
       "      <td>Corollary 3.2 (extreme-case spectral risk meas...</td>\n",
       "      <td>634</td>\n",
       "      <td>21180</td>\n",
       "    </tr>\n",
       "    <tr>\n",
       "      <th>2302</th>\n",
       "      <td>\\tmp\\Zhu2018-2589-2374.txt</td>\n",
       "      <td>sult, we analysed a special case of the cohere...</td>\n",
       "      <td>909</td>\n",
       "      <td>29559</td>\n",
       "    </tr>\n",
       "    <tr>\n",
       "      <th>2303</th>\n",
       "      <td>\\tmp\\Zhu2018-2589-2374.txt</td>\n",
       "      <td>Kusuoka, S., 2011. On law invariant coherent r...</td>\n",
       "      <td>961</td>\n",
       "      <td>32523</td>\n",
       "    </tr>\n",
       "  </tbody>\n",
       "</table>\n",
       "<p>2304 rows × 4 columns</p>\n",
       "</div>"
      ],
      "text/plain": [
       "                            filename  \\\n",
       "0      \\tmp\\Acerbi2002-2740-2510.txt   \n",
       "1      \\tmp\\Acerbi2002-2740-2510.txt   \n",
       "2      \\tmp\\Acerbi2002-2740-2510.txt   \n",
       "3     \\tmp\\Acerbi2002b-1992-1831.txt   \n",
       "4     \\tmp\\Acerbi2002b-1992-1831.txt   \n",
       "...                              ...   \n",
       "2299      \\tmp\\Zhu2018-2589-2374.txt   \n",
       "2300      \\tmp\\Zhu2018-2589-2374.txt   \n",
       "2301      \\tmp\\Zhu2018-2589-2374.txt   \n",
       "2302      \\tmp\\Zhu2018-2589-2374.txt   \n",
       "2303      \\tmp\\Zhu2018-2589-2374.txt   \n",
       "\n",
       "                                                   line  line_number  \\\n",
       "0     formulation of the concept of coherent risk me...           24   \n",
       "1     a coherent risk measure because it simply does...           28   \n",
       "2     In this article we have seen that at least one...          380   \n",
       "3     We study a space of coherent risk measures M/ ...            7   \n",
       "4     Deﬁnition 3.1 (risk aversion function and spec...          312   \n",
       "...                                                 ...          ...   \n",
       "2299  measure Mφ(·) reduces to the spectral risk mea...          632   \n",
       "2300              coherent risk measure (Acerbi, 2002).          633   \n",
       "2301  Corollary 3.2 (extreme-case spectral risk meas...          634   \n",
       "2302  sult, we analysed a special case of the cohere...          909   \n",
       "2303  Kusuoka, S., 2011. On law invariant coherent r...          961   \n",
       "\n",
       "      absolute_offset  \n",
       "0                1429  \n",
       "1                1818  \n",
       "2               18078  \n",
       "3                 157  \n",
       "4               13882  \n",
       "...               ...  \n",
       "2299            21062  \n",
       "2300            21141  \n",
       "2301            21180  \n",
       "2302            29559  \n",
       "2303            32523  \n",
       "\n",
       "[2304 rows x 4 columns]"
      ]
     },
     "execution_count": 41,
     "metadata": {},
     "output_type": "execute_result"
    }
   ],
   "source": [
    "df"
   ]
  },
  {
   "cell_type": "code",
   "execution_count": null,
   "id": "883a0a56-0cb1-4894-a1a5-0ff0a4eee676",
   "metadata": {},
   "outputs": [],
   "source": []
  },
  {
   "cell_type": "code",
   "execution_count": 27,
   "id": "bc1f65c2-f9af-4ae8-af13-41a8872a820f",
   "metadata": {},
   "outputs": [],
   "source": [
    "from pprint import pprint"
   ]
  },
  {
   "cell_type": "code",
   "execution_count": 28,
   "id": "851ebec9-b765-4498-9918-db481380c94a",
   "metadata": {},
   "outputs": [
    {
     "name": "stdout",
     "output_type": "stream",
     "text": [
      "[{'data': {'absolute_offset': 1429,\n",
      "           'line_number': 24,\n",
      "           'lines': {'text': 'formulation of the concept of coherent risk '\n",
      "                             'measure. With this result, risk management '\n",
      "                             'became\\r\\n'},\n",
      "           'path': {'text': '\\\\tmp\\\\Acerbi2002-2740-2510.txt'},\n",
      "           'submatches': [{'end': 51,\n",
      "                           'match': {'text': 'coherent risk measure'},\n",
      "                           'start': 30}]},\n",
      "  'type': 'match'},\n",
      " {'data': {'absolute_offset': 1818,\n",
      "           'line_number': 28,\n",
      "           'lines': {'text': 'a coherent risk measure because it simply '\n",
      "                             'doesn’t fulﬁll one of the axioms of '\n",
      "                             'coherence.\\r\\n'},\n",
      "           'path': {'text': '\\\\tmp\\\\Acerbi2002-2740-2510.txt'},\n",
      "           'submatches': [{'end': 23,\n",
      "                           'match': {'text': 'coherent risk measure'},\n",
      "                           'start': 2}]},\n",
      "  'type': 'match'},\n",
      " {'data': {'absolute_offset': 18078,\n",
      "           'line_number': 380,\n",
      "           'lines': {'text': 'In this article we have seen that at least one '\n",
      "                             'specimen of the class of coherent risk '\n",
      "                             'measures\\r\\n'},\n",
      "           'path': {'text': '\\\\tmp\\\\Acerbi2002-2740-2510.txt'},\n",
      "           'submatches': [{'end': 93,\n",
      "                           'match': {'text': 'coherent risk measure'},\n",
      "                           'start': 72}]},\n",
      "  'type': 'match'}]\n"
     ]
    }
   ],
   "source": [
    "pprint(d[:3])"
   ]
  }
 ],
 "metadata": {
  "kernelspec": {
   "display_name": "Python 3 (ipykernel)",
   "language": "python",
   "name": "python3"
  },
  "language_info": {
   "codemirror_mode": {
    "name": "ipython",
    "version": 3
   },
   "file_extension": ".py",
   "mimetype": "text/x-python",
   "name": "python",
   "nbconvert_exporter": "python",
   "pygments_lexer": "ipython3",
   "version": "3.10.14"
  }
 },
 "nbformat": 4,
 "nbformat_minor": 5
}
