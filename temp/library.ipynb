{
 "cells": [
  {
   "cell_type": "markdown",
   "id": "fa40ab05-85c6-4037-9d39-ef6c632981ac",
   "metadata": {},
   "source": [
    "# Library - working with the real thing!\n",
    "\n",
    "## Provenance\n",
    "* Created new: 2025-05024"
   ]
  },
  {
   "cell_type": "code",
   "execution_count": 2,
   "id": "77372764-35f3-4313-b0c4-381564c03374",
   "metadata": {},
   "outputs": [
    {
     "name": "stdout",
     "output_type": "stream",
     "text": [
      "time: 0 ns (started: 2025-05-24 12:58:57 +01:00)\n"
     ]
    }
   ],
   "source": [
    "import archivum as arc\n",
    "import archivum.library as arcl\n",
    "from archivum.utilities import fGT\n",
    "%load_ext autotime"
   ]
  },
  {
   "cell_type": "code",
   "execution_count": 5,
   "id": "966e2539-8961-4175-b058-b4a2c47c6aad",
   "metadata": {},
   "outputs": [
    {
     "name": "stdout",
     "output_type": "stream",
     "text": [
      "time: 15 ms (started: 2025-05-24 13:00:26 +01:00)\n"
     ]
    }
   ],
   "source": [
    "lib = arcl.Library('uber-library')"
   ]
  },
  {
   "cell_type": "code",
   "execution_count": 6,
   "id": "13bc5b25-4979-4099-a357-82ec6b6f691e",
   "metadata": {},
   "outputs": [
    {
     "data": {
      "text/plain": [
       "{'library': 'Uber Library',\n",
       " 'description': 'Mendeley port from May 2025 plus books',\n",
       " 'database': 'C:\\\\Users\\\\steve\\\\AppData\\\\Local\\\\archivum\\\\uber-library.archivum-feather',\n",
       " 'bibtex_file': '\\\\s\\\\telos\\\\biblio\\\\uber-library.bib',\n",
       " 'pdf_dir': '\\\\temp\\\\uber-library-test\\\\',\n",
       " 'btree': False,\n",
       " 'btree_depth': 8,\n",
       " 'watched_dirs': ['c:\\\\users\\\\steve\\\\downloads'],\n",
       " 'file_formats': ['*.pdf', '*.dvi', '*.djvu', '*.epub', '*.mobi'],\n",
       " 'full_text': True,\n",
       " 'follow_symlinks': False,\n",
       " 'hash_files': True,\n",
       " 'hash_workers': 6,\n",
       " 'last_indexed': 1747343876222530400,\n",
       " 'timezone': 'Europe/London',\n",
       " 'tablefmt': 'mixed_grid'}"
      ]
     },
     "execution_count": 6,
     "metadata": {},
     "output_type": "execute_result"
    },
    {
     "name": "stdout",
     "output_type": "stream",
     "text": [
      "time: 0 ns (started: 2025-05-24 13:01:15 +01:00)\n"
     ]
    }
   ],
   "source": [
    "lib.config"
   ]
  },
  {
   "cell_type": "code",
   "execution_count": 7,
   "id": "cdda7de1-55a6-412a-94d3-c6c1cd5af165",
   "metadata": {},
   "outputs": [
    {
     "data": {
      "text/html": [
       "<div>\n",
       "<style scoped>\n",
       "    .dataframe tbody tr th:only-of-type {\n",
       "        vertical-align: middle;\n",
       "    }\n",
       "\n",
       "    .dataframe tbody tr th {\n",
       "        vertical-align: top;\n",
       "    }\n",
       "\n",
       "    .dataframe thead th {\n",
       "        text-align: right;\n",
       "    }\n",
       "</style>\n",
       "<table border=\"1\" class=\"dataframe\">\n",
       "  <thead>\n",
       "    <tr style=\"text-align: right;\">\n",
       "      <th></th>\n",
       "      <th>value</th>\n",
       "    </tr>\n",
       "    <tr>\n",
       "      <th>key</th>\n",
       "      <th></th>\n",
       "    </tr>\n",
       "  </thead>\n",
       "  <tbody>\n",
       "    <tr>\n",
       "      <th>library</th>\n",
       "      <td>Uber Library</td>\n",
       "    </tr>\n",
       "    <tr>\n",
       "      <th>description</th>\n",
       "      <td>Mendeley port from May 2025 plus books</td>\n",
       "    </tr>\n",
       "    <tr>\n",
       "      <th>database</th>\n",
       "      <td>C:\\Users\\steve\\AppData\\Local\\archivum\\uber-library.archivum-feather</td>\n",
       "    </tr>\n",
       "    <tr>\n",
       "      <th>bibtex_file</th>\n",
       "      <td>\\s\\telos\\biblio\\uber-library.bib</td>\n",
       "    </tr>\n",
       "    <tr>\n",
       "      <th>pdf_dir</th>\n",
       "      <td>\\temp\\uber-library-test\\</td>\n",
       "    </tr>\n",
       "    <tr>\n",
       "      <th>btree</th>\n",
       "      <td>False</td>\n",
       "    </tr>\n",
       "    <tr>\n",
       "      <th>btree_depth</th>\n",
       "      <td>8</td>\n",
       "    </tr>\n",
       "    <tr>\n",
       "      <th>watched_dirs</th>\n",
       "      <td>[c:\\users\\steve\\downloads]</td>\n",
       "    </tr>\n",
       "    <tr>\n",
       "      <th>file_formats</th>\n",
       "      <td>[*.pdf, *.dvi, *.djvu, *.epub, *.mobi]</td>\n",
       "    </tr>\n",
       "    <tr>\n",
       "      <th>full_text</th>\n",
       "      <td>True</td>\n",
       "    </tr>\n",
       "    <tr>\n",
       "      <th>follow_symlinks</th>\n",
       "      <td>False</td>\n",
       "    </tr>\n",
       "    <tr>\n",
       "      <th>hash_files</th>\n",
       "      <td>True</td>\n",
       "    </tr>\n",
       "    <tr>\n",
       "      <th>hash_workers</th>\n",
       "      <td>6</td>\n",
       "    </tr>\n",
       "    <tr>\n",
       "      <th>last_indexed</th>\n",
       "      <td>1747343876222530400</td>\n",
       "    </tr>\n",
       "    <tr>\n",
       "      <th>timezone</th>\n",
       "      <td>Europe/London</td>\n",
       "    </tr>\n",
       "    <tr>\n",
       "      <th>tablefmt</th>\n",
       "      <td>mixed_grid</td>\n",
       "    </tr>\n",
       "  </tbody>\n",
       "</table>\n",
       "</div>"
      ],
      "text/plain": [
       "                                                                               value\n",
       "key                                                                                 \n",
       "library                                                                 Uber Library\n",
       "description                                   Mendeley port from May 2025 plus books\n",
       "database         C:\\Users\\steve\\AppData\\Local\\archivum\\uber-library.archivum-feather\n",
       "bibtex_file                                         \\s\\telos\\biblio\\uber-library.bib\n",
       "pdf_dir                                                     \\temp\\uber-library-test\\\n",
       "btree                                                                          False\n",
       "btree_depth                                                                        8\n",
       "watched_dirs                                              [c:\\users\\steve\\downloads]\n",
       "file_formats                                  [*.pdf, *.dvi, *.djvu, *.epub, *.mobi]\n",
       "full_text                                                                       True\n",
       "follow_symlinks                                                                False\n",
       "hash_files                                                                      True\n",
       "hash_workers                                                                       6\n",
       "last_indexed                                                     1747343876222530400\n",
       "timezone                                                               Europe/London\n",
       "tablefmt                                                                  mixed_grid"
      ]
     },
     "execution_count": 7,
     "metadata": {},
     "output_type": "execute_result"
    },
    {
     "name": "stdout",
     "output_type": "stream",
     "text": [
      "time: 15 ms (started: 2025-05-24 13:01:19 +01:00)\n"
     ]
    }
   ],
   "source": [
    "lib.config_df"
   ]
  },
  {
   "cell_type": "code",
   "execution_count": 9,
   "id": "bf857ea2-9b84-47e6-a121-2afe3c7f529a",
   "metadata": {},
   "outputs": [
    {
     "data": {
      "text/plain": [
       "Index(['type', 'tag', 'author', 'doi', 'file', 'journal', 'pages', 'title',\n",
       "       'volume', 'year', 'publisher', 'url', 'institution', 'number',\n",
       "       'mendeley-tags', 'booktitle', 'edition', 'month', 'address', 'editor',\n",
       "       'arc-citations'],\n",
       "      dtype='object')"
      ]
     },
     "execution_count": 9,
     "metadata": {},
     "output_type": "execute_result"
    },
    {
     "name": "stdout",
     "output_type": "stream",
     "text": [
      "time: 0 ns (started: 2025-05-24 13:03:17 +01:00)\n"
     ]
    }
   ],
   "source": [
    "lib.database.columns"
   ]
  },
  {
   "cell_type": "code",
   "execution_count": 11,
   "id": "61e7e1c8-e009-4c73-afd1-3b1b6865c372",
   "metadata": {},
   "outputs": [
    {
     "data": {
      "text/plain": [
       "[WindowsPath('C:/Users/steve/AppData/Local/archivum/uber-library.archivum-config')]"
      ]
     },
     "execution_count": 11,
     "metadata": {},
     "output_type": "execute_result"
    },
    {
     "name": "stdout",
     "output_type": "stream",
     "text": [
      "time: 15 ms (started: 2025-05-24 13:04:04 +01:00)\n"
     ]
    }
   ],
   "source": [
    "lib.list()"
   ]
  },
  {
   "cell_type": "code",
   "execution_count": 15,
   "id": "b5ea7f59-3c31-412b-8cd1-0ea50815f725",
   "metadata": {},
   "outputs": [
    {
     "data": {
      "text/html": [
       "<div>\n",
       "<style scoped>\n",
       "    .dataframe tbody tr th:only-of-type {\n",
       "        vertical-align: middle;\n",
       "    }\n",
       "\n",
       "    .dataframe tbody tr th {\n",
       "        vertical-align: top;\n",
       "    }\n",
       "\n",
       "    .dataframe thead th {\n",
       "        text-align: right;\n",
       "    }\n",
       "</style>\n",
       "<table border=\"1\" class=\"dataframe\">\n",
       "  <thead>\n",
       "    <tr style=\"text-align: right;\">\n",
       "      <th>library</th>\n",
       "      <th>Uber Library</th>\n",
       "    </tr>\n",
       "    <tr>\n",
       "      <th>key</th>\n",
       "      <th></th>\n",
       "    </tr>\n",
       "  </thead>\n",
       "  <tbody>\n",
       "    <tr>\n",
       "      <th>description</th>\n",
       "      <td>Mendeley port from May 2025 plus books</td>\n",
       "    </tr>\n",
       "    <tr>\n",
       "      <th>database</th>\n",
       "      <td>C:\\Users\\steve\\AppData\\Local\\archivum\\uber-library.archivum-feather</td>\n",
       "    </tr>\n",
       "    <tr>\n",
       "      <th>bibtex_file</th>\n",
       "      <td>\\s\\telos\\biblio\\uber-library.bib</td>\n",
       "    </tr>\n",
       "    <tr>\n",
       "      <th>pdf_dir</th>\n",
       "      <td>\\temp\\uber-library-test\\</td>\n",
       "    </tr>\n",
       "    <tr>\n",
       "      <th>btree</th>\n",
       "      <td>False</td>\n",
       "    </tr>\n",
       "    <tr>\n",
       "      <th>btree_depth</th>\n",
       "      <td>8</td>\n",
       "    </tr>\n",
       "    <tr>\n",
       "      <th>watched_dirs</th>\n",
       "      <td>[c:\\users\\steve\\downloads]</td>\n",
       "    </tr>\n",
       "    <tr>\n",
       "      <th>file_formats</th>\n",
       "      <td>[*.pdf, *.dvi, *.djvu, *.epub, *.mobi]</td>\n",
       "    </tr>\n",
       "    <tr>\n",
       "      <th>full_text</th>\n",
       "      <td>True</td>\n",
       "    </tr>\n",
       "    <tr>\n",
       "      <th>follow_symlinks</th>\n",
       "      <td>False</td>\n",
       "    </tr>\n",
       "    <tr>\n",
       "      <th>hash_files</th>\n",
       "      <td>True</td>\n",
       "    </tr>\n",
       "    <tr>\n",
       "      <th>hash_workers</th>\n",
       "      <td>6</td>\n",
       "    </tr>\n",
       "    <tr>\n",
       "      <th>last_indexed</th>\n",
       "      <td>1747343876222530400</td>\n",
       "    </tr>\n",
       "    <tr>\n",
       "      <th>timezone</th>\n",
       "      <td>Europe/London</td>\n",
       "    </tr>\n",
       "    <tr>\n",
       "      <th>tablefmt</th>\n",
       "      <td>mixed_grid</td>\n",
       "    </tr>\n",
       "  </tbody>\n",
       "</table>\n",
       "</div>"
      ],
      "text/plain": [
       "library                                                                 Uber Library\n",
       "key                                                                                 \n",
       "description                                   Mendeley port from May 2025 plus books\n",
       "database         C:\\Users\\steve\\AppData\\Local\\archivum\\uber-library.archivum-feather\n",
       "bibtex_file                                         \\s\\telos\\biblio\\uber-library.bib\n",
       "pdf_dir                                                     \\temp\\uber-library-test\\\n",
       "btree                                                                          False\n",
       "btree_depth                                                                        8\n",
       "watched_dirs                                              [c:\\users\\steve\\downloads]\n",
       "file_formats                                  [*.pdf, *.dvi, *.djvu, *.epub, *.mobi]\n",
       "full_text                                                                       True\n",
       "follow_symlinks                                                                False\n",
       "hash_files                                                                      True\n",
       "hash_workers                                                                       6\n",
       "last_indexed                                                     1747343876222530400\n",
       "timezone                                                               Europe/London\n",
       "tablefmt                                                                  mixed_grid"
      ]
     },
     "execution_count": 15,
     "metadata": {},
     "output_type": "execute_result"
    },
    {
     "name": "stdout",
     "output_type": "stream",
     "text": [
      "time: 16 ms (started: 2025-05-24 13:05:01 +01:00)\n"
     ]
    }
   ],
   "source": [
    "lib.list_deets()"
   ]
  },
  {
   "cell_type": "code",
   "execution_count": null,
   "id": "d7e264ea-030f-48e8-98bc-cf3285a108ec",
   "metadata": {},
   "outputs": [],
   "source": []
  }
 ],
 "metadata": {
  "kernelspec": {
   "display_name": "Python 3 (ipykernel)",
   "language": "python",
   "name": "python3"
  },
  "language_info": {
   "codemirror_mode": {
    "name": "ipython",
    "version": 3
   },
   "file_extension": ".py",
   "mimetype": "text/x-python",
   "name": "python",
   "nbconvert_exporter": "python",
   "pygments_lexer": "ipython3",
   "version": "3.10.13"
  }
 },
 "nbformat": 4,
 "nbformat_minor": 5
}
