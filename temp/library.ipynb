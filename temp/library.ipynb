{
 "cells": [
  {
   "cell_type": "markdown",
   "id": "fa40ab05-85c6-4037-9d39-ef6c632981ac",
   "metadata": {},
   "source": [
    "# Library - working with the real thing!\n",
    "\n",
    "## Provenance\n",
    "* Created new: 2025-05024"
   ]
  },
  {
   "cell_type": "code",
   "execution_count": 26,
   "id": "77372764-35f3-4313-b0c4-381564c03374",
   "metadata": {},
   "outputs": [
    {
     "name": "stdout",
     "output_type": "stream",
     "text": [
      "The autotime extension is already loaded. To reload it, use:\n",
      "  %reload_ext autotime\n",
      "time: 0 ns (started: 2025-05-24 16:50:51 +01:00)\n"
     ]
    }
   ],
   "source": [
    "import pandas as pd \n",
    "from pathlib import Path \n",
    "\n",
    "import archivum as arc\n",
    "import archivum.library as arcl\n",
    "import archivum.parser as arcp\n",
    "import archivum.document as arcd\n",
    "from archivum.utilities import fGT\n",
    "%load_ext autotime"
   ]
  },
  {
   "cell_type": "code",
   "execution_count": 4,
   "id": "582a7bab-5662-45eb-b859-8396fd2b449b",
   "metadata": {},
   "outputs": [
    {
     "data": {
      "text/plain": [
       "[WindowsPath('C:/Users/steve/AppData/Local/archivum/books.archivum-config'),\n",
       " WindowsPath('C:/Users/steve/AppData/Local/archivum/uber-library.archivum-config')]"
      ]
     },
     "execution_count": 4,
     "metadata": {},
     "output_type": "execute_result"
    },
    {
     "name": "stdout",
     "output_type": "stream",
     "text": [
      "time: 0 ns (started: 2025-05-24 16:46:15 +01:00)\n"
     ]
    }
   ],
   "source": [
    "arcl.Library.list()"
   ]
  },
  {
   "cell_type": "code",
   "execution_count": 7,
   "id": "fb017129-b4f5-4c4a-a57e-8436cc61e665",
   "metadata": {},
   "outputs": [
    {
     "data": {
      "text/html": [
       "<div>\n",
       "<style scoped>\n",
       "    .dataframe tbody tr th:only-of-type {\n",
       "        vertical-align: middle;\n",
       "    }\n",
       "\n",
       "    .dataframe tbody tr th {\n",
       "        vertical-align: top;\n",
       "    }\n",
       "\n",
       "    .dataframe thead th {\n",
       "        text-align: right;\n",
       "    }\n",
       "</style>\n",
       "<table border=\"1\" class=\"dataframe\">\n",
       "  <thead>\n",
       "    <tr style=\"text-align: right;\">\n",
       "      <th>key</th>\n",
       "      <th>description</th>\n",
       "      <th>database</th>\n",
       "      <th>columns</th>\n",
       "      <th>bibtex_file</th>\n",
       "      <th>pdf_dir</th>\n",
       "      <th>file_formats</th>\n",
       "      <th>hash_files</th>\n",
       "      <th>hash_workers</th>\n",
       "      <th>last_indexed</th>\n",
       "      <th>timezone</th>\n",
       "      <th>tablefmt</th>\n",
       "      <th>btree</th>\n",
       "      <th>btree_depth</th>\n",
       "      <th>watched_dirs</th>\n",
       "      <th>full_text</th>\n",
       "    </tr>\n",
       "    <tr>\n",
       "      <th>name</th>\n",
       "      <th></th>\n",
       "      <th></th>\n",
       "      <th></th>\n",
       "      <th></th>\n",
       "      <th></th>\n",
       "      <th></th>\n",
       "      <th></th>\n",
       "      <th></th>\n",
       "      <th></th>\n",
       "      <th></th>\n",
       "      <th></th>\n",
       "      <th></th>\n",
       "      <th></th>\n",
       "      <th></th>\n",
       "      <th></th>\n",
       "    </tr>\n",
       "  </thead>\n",
       "  <tbody>\n",
       "    <tr>\n",
       "      <th>books</th>\n",
       "      <td>downloaded books</td>\n",
       "      <td>C:\\Users\\steve\\AppData\\Local\\archivum\\books.archivum-feather</td>\n",
       "      <td>[type, tag, author, doi, file, journal, pages, title, volume, year, publisher, url, institution,...</td>\n",
       "      <td>\\s\\telos\\biblio\\books-test.bib</td>\n",
       "      <td>NOT USED YET</td>\n",
       "      <td>[*.pdf]</td>\n",
       "      <td>True</td>\n",
       "      <td>6</td>\n",
       "      <td>0</td>\n",
       "      <td>Europe/London</td>\n",
       "      <td>mixed_grid</td>\n",
       "      <td></td>\n",
       "      <td></td>\n",
       "      <td></td>\n",
       "      <td></td>\n",
       "    </tr>\n",
       "    <tr>\n",
       "      <th>Uber Library</th>\n",
       "      <td>Mendeley port from May 2025 plus books</td>\n",
       "      <td>C:\\Users\\steve\\AppData\\Local\\archivum\\uber-library.archivum-feather</td>\n",
       "      <td>[type, tag, author, doi, file, journal, pages, title, volume, year, publisher, url, institution,...</td>\n",
       "      <td>\\s\\telos\\biblio\\uber-library.bib</td>\n",
       "      <td>\\s\\library</td>\n",
       "      <td>[*.pdf, *.dvi, *.djvu, *.epub, *.mobi]</td>\n",
       "      <td>True</td>\n",
       "      <td>6</td>\n",
       "      <td>0</td>\n",
       "      <td>Europe/London</td>\n",
       "      <td>mixed_grid</td>\n",
       "      <td>False</td>\n",
       "      <td>8</td>\n",
       "      <td>[c:\\users\\steve\\downloads]</td>\n",
       "      <td>True</td>\n",
       "    </tr>\n",
       "  </tbody>\n",
       "</table>\n",
       "</div>"
      ],
      "text/plain": [
       "key                                      description  \\\n",
       "name                                                   \n",
       "books                               downloaded books   \n",
       "Uber Library  Mendeley port from May 2025 plus books   \n",
       "\n",
       "key                                                                      database  \\\n",
       "name                                                                                \n",
       "books                C:\\Users\\steve\\AppData\\Local\\archivum\\books.archivum-feather   \n",
       "Uber Library  C:\\Users\\steve\\AppData\\Local\\archivum\\uber-library.archivum-feather   \n",
       "\n",
       "key                                                                                                       columns  \\\n",
       "name                                                                                                                \n",
       "books         [type, tag, author, doi, file, journal, pages, title, volume, year, publisher, url, institution,...   \n",
       "Uber Library  [type, tag, author, doi, file, journal, pages, title, volume, year, publisher, url, institution,...   \n",
       "\n",
       "key                                bibtex_file       pdf_dir  \\\n",
       "name                                                           \n",
       "books           \\s\\telos\\biblio\\books-test.bib  NOT USED YET   \n",
       "Uber Library  \\s\\telos\\biblio\\uber-library.bib    \\s\\library   \n",
       "\n",
       "key                                     file_formats hash_files hash_workers  \\\n",
       "name                                                                           \n",
       "books                                        [*.pdf]       True            6   \n",
       "Uber Library  [*.pdf, *.dvi, *.djvu, *.epub, *.mobi]       True            6   \n",
       "\n",
       "key          last_indexed       timezone    tablefmt  btree btree_depth  \\\n",
       "name                                                                      \n",
       "books                   0  Europe/London  mixed_grid                      \n",
       "Uber Library            0  Europe/London  mixed_grid  False           8   \n",
       "\n",
       "key                         watched_dirs full_text  \n",
       "name                                                \n",
       "books                                               \n",
       "Uber Library  [c:\\users\\steve\\downloads]      True  "
      ]
     },
     "execution_count": 7,
     "metadata": {},
     "output_type": "execute_result"
    },
    {
     "name": "stdout",
     "output_type": "stream",
     "text": [
      "time: 31 ms (started: 2025-05-24 16:46:52 +01:00)\n"
     ]
    }
   ],
   "source": [
    "arcl.Library.list_deets()"
   ]
  },
  {
   "cell_type": "code",
   "execution_count": 8,
   "id": "8b583963-7c7c-444a-ac58-1999d098f020",
   "metadata": {},
   "outputs": [
    {
     "data": {
      "text/plain": [
       "(Library(uber-library.archivum-config), Library(books.archivum-config))"
      ]
     },
     "execution_count": 8,
     "metadata": {},
     "output_type": "execute_result"
    },
    {
     "name": "stdout",
     "output_type": "stream",
     "text": [
      "time: 15 ms (started: 2025-05-24 16:47:14 +01:00)\n"
     ]
    }
   ],
   "source": [
    "lib = arcl.Library('uber-library')\n",
    "books = arcl.Library('books')\n",
    "lib, books"
   ]
  },
  {
   "cell_type": "code",
   "execution_count": 13,
   "id": "3cb0f6ab-4b5f-4962-a0cb-72294025cb94",
   "metadata": {},
   "outputs": [
    {
     "data": {
      "text/plain": [
       "{'name': 'Uber Library',\n",
       " 'description': 'Mendeley port from May 2025 plus books',\n",
       " 'database': 'C:\\\\Users\\\\steve\\\\AppData\\\\Local\\\\archivum\\\\uber-library.archivum-feather',\n",
       " 'columns': ['type',\n",
       "  'tag',\n",
       "  'author',\n",
       "  'doi',\n",
       "  'file',\n",
       "  'journal',\n",
       "  'pages',\n",
       "  'title',\n",
       "  'volume',\n",
       "  'year',\n",
       "  'publisher',\n",
       "  'url',\n",
       "  'institution',\n",
       "  'number',\n",
       "  'mendeley-tags',\n",
       "  'booktitle',\n",
       "  'edition',\n",
       "  'month',\n",
       "  'address',\n",
       "  'editor',\n",
       "  'arc-citations'],\n",
       " 'bibtex_file': '\\\\s\\\\telos\\\\biblio\\\\uber-library.bib',\n",
       " 'pdf_dir': '\\\\s\\\\library',\n",
       " 'btree': False,\n",
       " 'btree_depth': 8,\n",
       " 'watched_dirs': ['c:\\\\users\\\\steve\\\\downloads'],\n",
       " 'file_formats': ['*.pdf', '*.dvi', '*.djvu', '*.epub', '*.mobi'],\n",
       " 'full_text': True,\n",
       " 'hash_files': True,\n",
       " 'hash_workers': 6,\n",
       " 'last_indexed': 0,\n",
       " 'timezone': 'Europe/London',\n",
       " 'tablefmt': 'mixed_grid'}"
      ]
     },
     "execution_count": 13,
     "metadata": {},
     "output_type": "execute_result"
    },
    {
     "name": "stdout",
     "output_type": "stream",
     "text": [
      "time: 0 ns (started: 2025-05-24 16:47:53 +01:00)\n"
     ]
    }
   ],
   "source": [
    "lib.config"
   ]
  },
  {
   "cell_type": "code",
   "execution_count": 14,
   "id": "37a8b6b3-9074-412b-a30d-3785d88017de",
   "metadata": {},
   "outputs": [
    {
     "data": {
      "text/html": [
       "<div>\n",
       "<style scoped>\n",
       "    .dataframe tbody tr th:only-of-type {\n",
       "        vertical-align: middle;\n",
       "    }\n",
       "\n",
       "    .dataframe tbody tr th {\n",
       "        vertical-align: top;\n",
       "    }\n",
       "\n",
       "    .dataframe thead th {\n",
       "        text-align: right;\n",
       "    }\n",
       "</style>\n",
       "<table border=\"1\" class=\"dataframe\">\n",
       "  <thead>\n",
       "    <tr style=\"text-align: right;\">\n",
       "      <th></th>\n",
       "      <th>value</th>\n",
       "    </tr>\n",
       "    <tr>\n",
       "      <th>key</th>\n",
       "      <th></th>\n",
       "    </tr>\n",
       "  </thead>\n",
       "  <tbody>\n",
       "    <tr>\n",
       "      <th>name</th>\n",
       "      <td>Uber Library</td>\n",
       "    </tr>\n",
       "    <tr>\n",
       "      <th>description</th>\n",
       "      <td>Mendeley port from May 2025 plus books</td>\n",
       "    </tr>\n",
       "    <tr>\n",
       "      <th>database</th>\n",
       "      <td>C:\\Users\\steve\\AppData\\Local\\archivum\\uber-library.archivum-feather</td>\n",
       "    </tr>\n",
       "    <tr>\n",
       "      <th>columns</th>\n",
       "      <td>[type, tag, author, doi, file, journal, pages, title, volume, year, publisher, url, institution,...</td>\n",
       "    </tr>\n",
       "    <tr>\n",
       "      <th>bibtex_file</th>\n",
       "      <td>\\s\\telos\\biblio\\uber-library.bib</td>\n",
       "    </tr>\n",
       "    <tr>\n",
       "      <th>pdf_dir</th>\n",
       "      <td>\\s\\library</td>\n",
       "    </tr>\n",
       "    <tr>\n",
       "      <th>btree</th>\n",
       "      <td>False</td>\n",
       "    </tr>\n",
       "    <tr>\n",
       "      <th>btree_depth</th>\n",
       "      <td>8</td>\n",
       "    </tr>\n",
       "    <tr>\n",
       "      <th>watched_dirs</th>\n",
       "      <td>[c:\\users\\steve\\downloads]</td>\n",
       "    </tr>\n",
       "    <tr>\n",
       "      <th>file_formats</th>\n",
       "      <td>[*.pdf, *.dvi, *.djvu, *.epub, *.mobi]</td>\n",
       "    </tr>\n",
       "    <tr>\n",
       "      <th>full_text</th>\n",
       "      <td>True</td>\n",
       "    </tr>\n",
       "    <tr>\n",
       "      <th>hash_files</th>\n",
       "      <td>True</td>\n",
       "    </tr>\n",
       "    <tr>\n",
       "      <th>hash_workers</th>\n",
       "      <td>6</td>\n",
       "    </tr>\n",
       "    <tr>\n",
       "      <th>last_indexed</th>\n",
       "      <td>0</td>\n",
       "    </tr>\n",
       "    <tr>\n",
       "      <th>timezone</th>\n",
       "      <td>Europe/London</td>\n",
       "    </tr>\n",
       "    <tr>\n",
       "      <th>tablefmt</th>\n",
       "      <td>mixed_grid</td>\n",
       "    </tr>\n",
       "  </tbody>\n",
       "</table>\n",
       "</div>"
      ],
      "text/plain": [
       "                                                                                                            value\n",
       "key                                                                                                              \n",
       "name                                                                                                 Uber Library\n",
       "description                                                                Mendeley port from May 2025 plus books\n",
       "database                                      C:\\Users\\steve\\AppData\\Local\\archivum\\uber-library.archivum-feather\n",
       "columns       [type, tag, author, doi, file, journal, pages, title, volume, year, publisher, url, institution,...\n",
       "bibtex_file                                                                      \\s\\telos\\biblio\\uber-library.bib\n",
       "pdf_dir                                                                                                \\s\\library\n",
       "btree                                                                                                       False\n",
       "btree_depth                                                                                                     8\n",
       "watched_dirs                                                                           [c:\\users\\steve\\downloads]\n",
       "file_formats                                                               [*.pdf, *.dvi, *.djvu, *.epub, *.mobi]\n",
       "full_text                                                                                                    True\n",
       "hash_files                                                                                                   True\n",
       "hash_workers                                                                                                    6\n",
       "last_indexed                                                                                                    0\n",
       "timezone                                                                                            Europe/London\n",
       "tablefmt                                                                                               mixed_grid"
      ]
     },
     "execution_count": 14,
     "metadata": {},
     "output_type": "execute_result"
    },
    {
     "name": "stdout",
     "output_type": "stream",
     "text": [
      "time: 0 ns (started: 2025-05-24 16:47:55 +01:00)\n"
     ]
    }
   ],
   "source": [
    "lib.config_df"
   ]
  },
  {
   "cell_type": "markdown",
   "id": "4d3ef786-e977-4ff2-8a42-b27d22811547",
   "metadata": {},
   "source": [
    "# Querying"
   ]
  },
  {
   "cell_type": "code",
   "execution_count": 9,
   "id": "d8a5a779-a7df-44bb-84b2-23cf025459be",
   "metadata": {},
   "outputs": [
    {
     "name": "stdout",
     "output_type": "stream",
     "text": [
      "ArcParser created debug = True\n",
      "LOGGER: TOP NUMBER -> clause\n",
      "\t[0] TOP='top'\n",
      "\t[1] NUMBER='10'\n",
      "LOGGER: clause -> clause_list\n",
      "\t[0] clause=('top', 10)\n",
      "LOGGER: FLAG -> flags       \n",
      "\t[0] FLAG='recent'\n",
      "LOGGER: flags -> clause     \n",
      "\t[0] flags={'recent': True}\n",
      "LOGGER: clause_list clause -> clause_list\n",
      "\t[0] clause_list=[('top', 10)]\n",
      "\t[1] clause=('flags', {'recent': True})\n",
      "LOGGER: IDENTIFIER TILDE REGEX_SLASHED -> regex\n",
      "\t[0] IDENTIFIER='author'\n",
      "\t[1] TILDE='~'\n",
      "\t[2] REGEX_SLASHED='Delbaen|Cummins|Wang, R'\n",
      "LOGGER: regex -> regexes    \n",
      "\t[0] regex=('author', 'Delbaen|Cummins|Wang, R')\n",
      "LOGGER: regexes -> clause   \n",
      "\t[0] regexes=[('author', 'Delbaen|Cummins|Wang, R')]\n",
      "LOGGER: clause_list clause -> clause_list\n",
      "\t[0] clause_list=[('top', 10), ('flags', {'recent': True})]\n",
      "\t[1] clause=('regexes', [('author', 'Delbaen|Cummins|Wang, R')])\n",
      "LOGGER: clause_list -> query\n",
      "\t[0] clause_list=[('top', 10), ('flags', {'recent': True}), ('regexes', [('author', 'Delbaen|Cummins|Wang, R')])]\n",
      "--------------------------------------------------------------------------------\n",
      "Parsed result query spec\n",
      "========================\n",
      "\n",
      "{'flags': {'recent': True},\n",
      " 'regexes': [('author', 'Delbaen|Cummins|Wang, R')],\n",
      " 'select': {},\n",
      " 'sort': [],\n",
      " 'top': 10,\n",
      " 'where': None}\n",
      "time: 0 ns (started: 2025-05-24 16:47:22 +01:00)\n"
     ]
    }
   ],
   "source": [
    "# arcp.parse_test('verbose top 10 ! milde')\n",
    "# arcp.parse_test('verbose tag ~ Mild where tag ==\"article\"', debug=True)\n",
    "# arcp.parse_test('recent top 10 author ~ (Wang, R)', debug=True)\n",
    "arcp.parse_test('top 10 recent author ~ /Delbaen|Cummins|Wang, R/', debug=True)"
   ]
  },
  {
   "cell_type": "code",
   "execution_count": 63,
   "id": "a3403b9a-0ea7-4f5c-a812-c7b7730539ac",
   "metadata": {},
   "outputs": [
    {
     "name": "stdout",
     "output_type": "stream",
     "text": [
      "Parsing Error: Unexpected end of input\n",
      "time: 0 ns (started: 2025-05-24 13:48:04 +01:00)\n"
     ]
    }
   ],
   "source": [
    "r = arcp.parser('verbose top 10 ! milde where type==\"article\"')\n",
    "r"
   ]
  },
  {
   "cell_type": "code",
   "execution_count": 75,
   "id": "73f25d85-8905-47b2-8fd7-594a2981e38d",
   "metadata": {},
   "outputs": [
    {
     "data": {
      "text/plain": [
       "Library(uber-library.archivum-config)"
      ]
     },
     "execution_count": 75,
     "metadata": {},
     "output_type": "execute_result"
    },
    {
     "name": "stdout",
     "output_type": "stream",
     "text": [
      "time: 16 ms (started: 2025-05-24 14:01:47 +01:00)\n"
     ]
    }
   ],
   "source": [
    "lib"
   ]
  },
  {
   "cell_type": "code",
   "execution_count": 10,
   "id": "406dd375-1873-43d2-bf4e-37ea9b455669",
   "metadata": {},
   "outputs": [
    {
     "name": "stdout",
     "output_type": "stream",
     "text": [
      "{'select': {}, 'sort': [], 'regexes': [('author', 'Delbaen|Cummins|Wang, R')], 'where': None, 'top': 10, 'flags': {'recent': True}}\n",
      "['tag', 'year', 'type', 'author', 'title']\n"
     ]
    },
    {
     "data": {
      "text/html": [
       "<div>\n",
       "<style scoped>\n",
       "    .dataframe tbody tr th:only-of-type {\n",
       "        vertical-align: middle;\n",
       "    }\n",
       "\n",
       "    .dataframe tbody tr th {\n",
       "        vertical-align: top;\n",
       "    }\n",
       "\n",
       "    .dataframe thead th {\n",
       "        text-align: right;\n",
       "    }\n",
       "</style>\n",
       "<table border=\"1\" class=\"dataframe\">\n",
       "  <thead>\n",
       "    <tr style=\"text-align: right;\">\n",
       "      <th></th>\n",
       "      <th>year</th>\n",
       "      <th>type</th>\n",
       "      <th>author</th>\n",
       "      <th>title</th>\n",
       "    </tr>\n",
       "    <tr>\n",
       "      <th>tag</th>\n",
       "      <th></th>\n",
       "      <th></th>\n",
       "      <th></th>\n",
       "      <th></th>\n",
       "    </tr>\n",
       "  </thead>\n",
       "  <tbody>\n",
       "    <tr>\n",
       "      <th>Chen2025a</th>\n",
       "      <td>2025</td>\n",
       "      <td>unpublished</td>\n",
       "      <td>Chen, Yuyu and Hu, Taizhong and Wang, Ruodu and Zou, Zhenfeng</td>\n",
       "      <td>Diversification for infinite-mean Pareto models without risk aversion</td>\n",
       "    </tr>\n",
       "    <tr>\n",
       "      <th>Chen2025</th>\n",
       "      <td>2025</td>\n",
       "      <td>article</td>\n",
       "      <td>Chen, Yuyu and Wang, Ruodu</td>\n",
       "      <td>Infinite-mean models in risk management: Discussions and recent advances</td>\n",
       "    </tr>\n",
       "    <tr>\n",
       "      <th>Cote2025</th>\n",
       "      <td>2025</td>\n",
       "      <td>article</td>\n",
       "      <td>Côté, Benjamin and Wang, Ruodu</td>\n",
       "      <td>On convex order and supermodular order without finite mean</td>\n",
       "    </tr>\n",
       "    <tr>\n",
       "      <th>Koike2024</th>\n",
       "      <td>2024</td>\n",
       "      <td>article</td>\n",
       "      <td>Koike, Takaaki and Lin, Liyuan and Wang, Ruodu</td>\n",
       "      <td>Joint Mixability and Notions of Negative Dependence</td>\n",
       "    </tr>\n",
       "    <tr>\n",
       "      <th>Pesenti2024</th>\n",
       "      <td>2024</td>\n",
       "      <td>article</td>\n",
       "      <td>Pesenti, Silvana M. and Wang, Qiuqi and Wang, Ruodu</td>\n",
       "      <td>Optimizing distortion riskmetrics with distributional uncertainty</td>\n",
       "    </tr>\n",
       "    <tr>\n",
       "      <th>Ghossoub2024</th>\n",
       "      <td>2024</td>\n",
       "      <td>article</td>\n",
       "      <td>Ghossoub, Mario and Ren, Qinghua and Wang, Ruodu</td>\n",
       "      <td>Counter-monotonic risk allocations and distortion risk measures</td>\n",
       "    </tr>\n",
       "    <tr>\n",
       "      <th>Guan2024</th>\n",
       "      <td>2024</td>\n",
       "      <td>article</td>\n",
       "      <td>Guan, Yuanying and Huang, Muqiao and Wang, Ruodu</td>\n",
       "      <td>A new characterization of second-order stochastic dominance</td>\n",
       "    </tr>\n",
       "    <tr>\n",
       "      <th>Guan2024b</th>\n",
       "      <td>2024</td>\n",
       "      <td>article</td>\n",
       "      <td>Guan, Yuanying and Jiao, Zhanyi and Wang, Ruodu</td>\n",
       "      <td>A Reverse ES (CVaR) Optimization Formula</td>\n",
       "    </tr>\n",
       "    <tr>\n",
       "      <th>Ghossoub2024d</th>\n",
       "      <td>2024</td>\n",
       "      <td>article</td>\n",
       "      <td>Ghossoub, Mario and Principi, Giulio and Wang, Ruodu</td>\n",
       "      <td>Allocation Mechanisms in Decentralized Exchange Markets with Frictions</td>\n",
       "    </tr>\n",
       "    <tr>\n",
       "      <th>Lauzier2024</th>\n",
       "      <td>2024</td>\n",
       "      <td>unpublished</td>\n",
       "      <td>Lauzier, Jean-Gabriel and Lin, Liyuan and Wang, Ruodu</td>\n",
       "      <td>Negatively dependent optimal risk sharing</td>\n",
       "    </tr>\n",
       "  </tbody>\n",
       "</table>\n",
       "</div>"
      ],
      "text/plain": [
       "               year         type  \\\n",
       "tag                                \n",
       "Chen2025a      2025  unpublished   \n",
       "Chen2025       2025      article   \n",
       "Cote2025       2025      article   \n",
       "Koike2024      2024      article   \n",
       "Pesenti2024    2024      article   \n",
       "Ghossoub2024   2024      article   \n",
       "Guan2024       2024      article   \n",
       "Guan2024b      2024      article   \n",
       "Ghossoub2024d  2024      article   \n",
       "Lauzier2024    2024  unpublished   \n",
       "\n",
       "                                                                      author  \\\n",
       "tag                                                                            \n",
       "Chen2025a      Chen, Yuyu and Hu, Taizhong and Wang, Ruodu and Zou, Zhenfeng   \n",
       "Chen2025                                          Chen, Yuyu and Wang, Ruodu   \n",
       "Cote2025                                      Côté, Benjamin and Wang, Ruodu   \n",
       "Koike2024                     Koike, Takaaki and Lin, Liyuan and Wang, Ruodu   \n",
       "Pesenti2024              Pesenti, Silvana M. and Wang, Qiuqi and Wang, Ruodu   \n",
       "Ghossoub2024                Ghossoub, Mario and Ren, Qinghua and Wang, Ruodu   \n",
       "Guan2024                    Guan, Yuanying and Huang, Muqiao and Wang, Ruodu   \n",
       "Guan2024b                    Guan, Yuanying and Jiao, Zhanyi and Wang, Ruodu   \n",
       "Ghossoub2024d           Ghossoub, Mario and Principi, Giulio and Wang, Ruodu   \n",
       "Lauzier2024            Lauzier, Jean-Gabriel and Lin, Liyuan and Wang, Ruodu   \n",
       "\n",
       "                                                                                  title  \n",
       "tag                                                                                      \n",
       "Chen2025a         Diversification for infinite-mean Pareto models without risk aversion  \n",
       "Chen2025       Infinite-mean models in risk management: Discussions and recent advances  \n",
       "Cote2025                     On convex order and supermodular order without finite mean  \n",
       "Koike2024                           Joint Mixability and Notions of Negative Dependence  \n",
       "Pesenti2024           Optimizing distortion riskmetrics with distributional uncertainty  \n",
       "Ghossoub2024            Counter-monotonic risk allocations and distortion risk measures  \n",
       "Guan2024                    A new characterization of second-order stochastic dominance  \n",
       "Guan2024b                                      A Reverse ES (CVaR) Optimization Formula  \n",
       "Ghossoub2024d    Allocation Mechanisms in Decentralized Exchange Markets with Frictions  \n",
       "Lauzier2024                                   Negatively dependent optimal risk sharing  "
      ]
     },
     "execution_count": 10,
     "metadata": {},
     "output_type": "execute_result"
    },
    {
     "name": "stdout",
     "output_type": "stream",
     "text": [
      "time: 63 ms (started: 2025-05-24 16:47:30 +01:00)\n"
     ]
    }
   ],
   "source": [
    "lib.querex('top 10 recent author ~ /Delbaen|Cummins|Wang, R/')"
   ]
  },
  {
   "cell_type": "code",
   "execution_count": 84,
   "id": "1a616d19-f11b-4043-b2a6-e6e3da2215e0",
   "metadata": {},
   "outputs": [
    {
     "name": "stdout",
     "output_type": "stream",
     "text": [
      "{'select': {}, 'sort': [], 'regexes': [], 'where': None, 'top': 10, 'flags': {'recent': True}}\n"
     ]
    },
    {
     "data": {
      "text/html": [
       "<div>\n",
       "<style scoped>\n",
       "    .dataframe tbody tr th:only-of-type {\n",
       "        vertical-align: middle;\n",
       "    }\n",
       "\n",
       "    .dataframe tbody tr th {\n",
       "        vertical-align: top;\n",
       "    }\n",
       "\n",
       "    .dataframe thead th {\n",
       "        text-align: right;\n",
       "    }\n",
       "</style>\n",
       "<table border=\"1\" class=\"dataframe\">\n",
       "  <thead>\n",
       "    <tr style=\"text-align: right;\">\n",
       "      <th></th>\n",
       "      <th>type</th>\n",
       "      <th>tag</th>\n",
       "      <th>author</th>\n",
       "      <th>title</th>\n",
       "      <th>year</th>\n",
       "    </tr>\n",
       "  </thead>\n",
       "  <tbody>\n",
       "    <tr>\n",
       "      <th>1643</th>\n",
       "      <td>article</td>\n",
       "      <td>Nemirovski209</td>\n",
       "      <td>Nemirovski, Arkadi S. and Todd, Michael J.</td>\n",
       "      <td>Interior-point methods for optimization</td>\n",
       "      <td>209</td>\n",
       "    </tr>\n",
       "    <tr>\n",
       "      <th>2124</th>\n",
       "      <td>misc</td>\n",
       "      <td>Reed2025</td>\n",
       "      <td>Reed, Lord and Hodge, Lord and President, Deputy and Clayton, Doyle</td>\n",
       "      <td>JUDGMENT For Women Scotland Ltd (Appellant) v The Scottish Ministers (Respondent) before Lady Ro...</td>\n",
       "      <td>2025</td>\n",
       "    </tr>\n",
       "    <tr>\n",
       "      <th>3255</th>\n",
       "      <td>article</td>\n",
       "      <td>Centrone2025</td>\n",
       "      <td>Centrone, Francesca and {Rosazza Gianin}, Emanuela</td>\n",
       "      <td>Capital Allocation Rules and Generalized Collapse to the Mean</td>\n",
       "      <td>2025</td>\n",
       "    </tr>\n",
       "    <tr>\n",
       "      <th>1679</th>\n",
       "      <td>article</td>\n",
       "      <td>Dhaene2025</td>\n",
       "      <td>Dhaene, Jan and Robert, Christian Y. and Cheung, Ka Chun and Denuit, Michel M.</td>\n",
       "      <td>An axiomatic characterization of the quantile risk-sharing rule</td>\n",
       "      <td>2025</td>\n",
       "    </tr>\n",
       "    <tr>\n",
       "      <th>6043</th>\n",
       "      <td>article</td>\n",
       "      <td>Vecchi2025</td>\n",
       "      <td>Vecchi, Corrado De and Scherer, Matthias</td>\n",
       "      <td>Pricing insurance contracts with an existing portfolio as background risk</td>\n",
       "      <td>2025</td>\n",
       "    </tr>\n",
       "    <tr>\n",
       "      <th>5503</th>\n",
       "      <td>unpublished</td>\n",
       "      <td>Chen2025a</td>\n",
       "      <td>Chen, Yuyu and Hu, Taizhong and Wang, Ruodu and Zou, Zhenfeng</td>\n",
       "      <td>Diversification for infinite-mean Pareto models without risk aversion</td>\n",
       "      <td>2025</td>\n",
       "    </tr>\n",
       "    <tr>\n",
       "      <th>4033</th>\n",
       "      <td>unpublished</td>\n",
       "      <td>Aase2025</td>\n",
       "      <td>Aase, Knut K.</td>\n",
       "      <td>Pareto Optimal Insurance Policies: Kinks with or without frictions</td>\n",
       "      <td>2025</td>\n",
       "    </tr>\n",
       "    <tr>\n",
       "      <th>1358</th>\n",
       "      <td>article</td>\n",
       "      <td>BarLev2025</td>\n",
       "      <td>Bar-Lev, Shaul K. and Letac, Gérard</td>\n",
       "      <td>Chainability of infinitely divisible measures</td>\n",
       "      <td>2025</td>\n",
       "    </tr>\n",
       "    <tr>\n",
       "      <th>1261</th>\n",
       "      <td>article</td>\n",
       "      <td>Cheung2025</td>\n",
       "      <td>Cheung, Ka Chun and Yam, Sheung Chi Phillip and Yuen, Fei Lung and Zhang, Yiying</td>\n",
       "      <td>Optimal design of reinsurance contracts under adverse selection with a continuum of types</td>\n",
       "      <td>2025</td>\n",
       "    </tr>\n",
       "    <tr>\n",
       "      <th>2529</th>\n",
       "      <td>book</td>\n",
       "      <td>Vytnova2025</td>\n",
       "      <td>Vytnova, Polina L. and Wormell, Caroline L.</td>\n",
       "      <td>Hausdorff dimension of the Apollonian gasket</td>\n",
       "      <td>2025</td>\n",
       "    </tr>\n",
       "  </tbody>\n",
       "</table>\n",
       "</div>"
      ],
      "text/plain": [
       "             type            tag  \\\n",
       "1643      article  Nemirovski209   \n",
       "2124         misc       Reed2025   \n",
       "3255      article   Centrone2025   \n",
       "1679      article     Dhaene2025   \n",
       "6043      article     Vecchi2025   \n",
       "5503  unpublished      Chen2025a   \n",
       "4033  unpublished       Aase2025   \n",
       "1358      article     BarLev2025   \n",
       "1261      article     Cheung2025   \n",
       "2529         book    Vytnova2025   \n",
       "\n",
       "                                                                                author  \\\n",
       "1643                                        Nemirovski, Arkadi S. and Todd, Michael J.   \n",
       "2124               Reed, Lord and Hodge, Lord and President, Deputy and Clayton, Doyle   \n",
       "3255                                Centrone, Francesca and {Rosazza Gianin}, Emanuela   \n",
       "1679    Dhaene, Jan and Robert, Christian Y. and Cheung, Ka Chun and Denuit, Michel M.   \n",
       "6043                                          Vecchi, Corrado De and Scherer, Matthias   \n",
       "5503                     Chen, Yuyu and Hu, Taizhong and Wang, Ruodu and Zou, Zhenfeng   \n",
       "4033                                                                     Aase, Knut K.   \n",
       "1358                                               Bar-Lev, Shaul K. and Letac, Gérard   \n",
       "1261  Cheung, Ka Chun and Yam, Sheung Chi Phillip and Yuen, Fei Lung and Zhang, Yiying   \n",
       "2529                                       Vytnova, Polina L. and Wormell, Caroline L.   \n",
       "\n",
       "                                                                                                    title  \\\n",
       "1643                                                              Interior-point methods for optimization   \n",
       "2124  JUDGMENT For Women Scotland Ltd (Appellant) v The Scottish Ministers (Respondent) before Lady Ro...   \n",
       "3255                                        Capital Allocation Rules and Generalized Collapse to the Mean   \n",
       "1679                                      An axiomatic characterization of the quantile risk-sharing rule   \n",
       "6043                            Pricing insurance contracts with an existing portfolio as background risk   \n",
       "5503                                Diversification for infinite-mean Pareto models without risk aversion   \n",
       "4033                                   Pareto Optimal Insurance Policies: Kinks with or without frictions   \n",
       "1358                                                        Chainability of infinitely divisible measures   \n",
       "1261            Optimal design of reinsurance contracts under adverse selection with a continuum of types   \n",
       "2529                                                         Hausdorff dimension of the Apollonian gasket   \n",
       "\n",
       "      year  \n",
       "1643   209  \n",
       "2124  2025  \n",
       "3255  2025  \n",
       "1679  2025  \n",
       "6043  2025  \n",
       "5503  2025  \n",
       "4033  2025  \n",
       "1358  2025  \n",
       "1261  2025  \n",
       "2529  2025  "
      ]
     },
     "execution_count": 84,
     "metadata": {},
     "output_type": "execute_result"
    },
    {
     "name": "stdout",
     "output_type": "stream",
     "text": [
      "time: 16 ms (started: 2025-05-24 14:05:07 +01:00)\n"
     ]
    }
   ],
   "source": [
    "lib.querex('top 10 recent')"
   ]
  },
  {
   "cell_type": "code",
   "execution_count": null,
   "id": "133779e5-d22b-42a5-bcf8-f7dc7714ef75",
   "metadata": {},
   "outputs": [],
   "source": []
  },
  {
   "cell_type": "code",
   "execution_count": null,
   "id": "83f679c7-baaf-42de-91bb-5b623c8252c7",
   "metadata": {},
   "outputs": [],
   "source": []
  },
  {
   "cell_type": "markdown",
   "id": "4d7ff02f-2499-493f-86df-d06eb0d4e6f3",
   "metadata": {},
   "source": [
    "# Distinct items"
   ]
  },
  {
   "cell_type": "code",
   "execution_count": 18,
   "id": "ba527d41-cdb6-4251-a03b-d84254a9f5a1",
   "metadata": {},
   "outputs": [
    {
     "data": {
      "text/plain": [
       "['A. K. Peters',\n",
       " 'ACM Press',\n",
       " 'AEI-Brookings Joint Center fro Regulatory Studies',\n",
       " 'AICPCU',\n",
       " 'Academic Press',\n",
       " 'Actex',\n",
       " 'Addison Wesley',\n",
       " 'Addison-Wesley',\n",
       " 'Almqvist & Wiksell',\n",
       " 'American Mathematical Society']"
      ]
     },
     "execution_count": 18,
     "metadata": {},
     "output_type": "execute_result"
    },
    {
     "name": "stdout",
     "output_type": "stream",
     "text": [
      "time: 0 ns (started: 2025-05-24 16:48:57 +01:00)\n"
     ]
    }
   ],
   "source": [
    "lib.distinct('publisher')[:10]"
   ]
  },
  {
   "cell_type": "code",
   "execution_count": 19,
   "id": "96a0be6b-9e6f-43e7-9b26-39f985b5dd7d",
   "metadata": {},
   "outputs": [
    {
     "data": {
      "text/plain": [
       "['116 Mich. L. Re.',\n",
       " '1Mathematical Intelligencer',\n",
       " '1Stochastic Processes and their Applications',\n",
       " '2003 IEEE Computer Society Conference on Computer Vision and Pattern Recognition, 2003. Proceedings.',\n",
       " '2012 International Conference on Systems and Informatics (ICSAI2012)',\n",
       " '2Variance',\n",
       " '30th Annual Symposium on Foundations of Computer Science',\n",
       " '31st International Congress of Actuaries',\n",
       " '34th International Conference on Machine Learning, ICML 2017',\n",
       " 'A Modern Course on Statistical Distributions in Scientific Work']"
      ]
     },
     "execution_count": 19,
     "metadata": {},
     "output_type": "execute_result"
    },
    {
     "name": "stdout",
     "output_type": "stream",
     "text": [
      "time: 15 ms (started: 2025-05-24 16:49:09 +01:00)\n"
     ]
    }
   ],
   "source": [
    "lib.distinct('journal')[:10]"
   ]
  },
  {
   "cell_type": "code",
   "execution_count": 22,
   "id": "c041805e-3b80-42bc-86e3-fb18807eb089",
   "metadata": {},
   "outputs": [
    {
     "data": {
      "text/plain": [
       "['Abdikerimova, Samal',\n",
       " 'Abowd, John M.',\n",
       " 'Abraham, Andreas',\n",
       " 'Abraham, Jon',\n",
       " 'Abraham, Paul',\n",
       " 'Abraham, R.',\n",
       " 'Abraham, Sarah',\n",
       " 'Abramowitz, Milton',\n",
       " 'Abreu, Dilip',\n",
       " 'Accenture']"
      ]
     },
     "execution_count": 22,
     "metadata": {},
     "output_type": "execute_result"
    },
    {
     "name": "stdout",
     "output_type": "stream",
     "text": [
      "time: 15 ms (started: 2025-05-24 16:49:34 +01:00)\n"
     ]
    }
   ],
   "source": [
    "lib.distinct('author')[20:30]"
   ]
  },
  {
   "cell_type": "code",
   "execution_count": null,
   "id": "5f0d8488-bb73-46e1-9ec1-4beddf29fb98",
   "metadata": {},
   "outputs": [],
   "source": []
  },
  {
   "cell_type": "code",
   "execution_count": null,
   "id": "070ea7ac-cf39-4eac-b865-c626e2306ace",
   "metadata": {},
   "outputs": [],
   "source": []
  },
  {
   "cell_type": "markdown",
   "id": "86364dc2-aa8a-4a57-86d8-5a336d87bb8c",
   "metadata": {},
   "source": [
    "# Document <--> Library interface!!"
   ]
  },
  {
   "cell_type": "code",
   "execution_count": 23,
   "id": "19dafadb-284e-414d-a93a-bfd6c6314d0c",
   "metadata": {},
   "outputs": [
    {
     "name": "stdout",
     "output_type": "stream",
     "text": [
      "time: 0 ns (started: 2025-05-24 16:49:52 +01:00)\n"
     ]
    }
   ],
   "source": [
    "docs = arcd.Documents(lib)"
   ]
  },
  {
   "cell_type": "code",
   "execution_count": 25,
   "id": "d33c5ec1-bee6-4aff-bfd1-11885d8c3e25",
   "metadata": {},
   "outputs": [
    {
     "data": {
      "text/html": [
       "<div>\n",
       "<style scoped>\n",
       "    .dataframe tbody tr th:only-of-type {\n",
       "        vertical-align: middle;\n",
       "    }\n",
       "\n",
       "    .dataframe tbody tr th {\n",
       "        vertical-align: top;\n",
       "    }\n",
       "\n",
       "    .dataframe thead th {\n",
       "        text-align: right;\n",
       "    }\n",
       "</style>\n",
       "<table border=\"1\" class=\"dataframe\">\n",
       "  <thead>\n",
       "    <tr style=\"text-align: right;\">\n",
       "      <th></th>\n",
       "      <th>name</th>\n",
       "      <th>path</th>\n",
       "      <th>mod</th>\n",
       "      <th>create</th>\n",
       "      <th>access</th>\n",
       "      <th>node</th>\n",
       "      <th>links</th>\n",
       "      <th>size</th>\n",
       "      <th>suffix</th>\n",
       "    </tr>\n",
       "  </thead>\n",
       "  <tbody>\n",
       "    <tr>\n",
       "      <th>0</th>\n",
       "      <td>2014_Data Platforms Map.pdf</td>\n",
       "      <td>/s/library/451 Research/2014_Data Platforms Map.pdf</td>\n",
       "      <td>2019-04-16 04:20:54.132530300+01:00</td>\n",
       "      <td>2021-04-19 16:00:05.571927500+01:00</td>\n",
       "      <td>2025-05-24 15:03:39.454344700+01:00</td>\n",
       "      <td>1688849862281996</td>\n",
       "      <td>1</td>\n",
       "      <td>180561</td>\n",
       "      <td>pdf</td>\n",
       "    </tr>\n",
       "    <tr>\n",
       "      <th>1</th>\n",
       "      <td>2015_Data Platform Map.pdf</td>\n",
       "      <td>/s/library/451 Research/2015_Data Platform Map.pdf</td>\n",
       "      <td>2019-04-16 04:20:57.109569300+01:00</td>\n",
       "      <td>2021-04-19 16:00:01.849926400+01:00</td>\n",
       "      <td>2025-05-24 15:03:39.818037700+01:00</td>\n",
       "      <td>1970324838992334</td>\n",
       "      <td>1</td>\n",
       "      <td>170911</td>\n",
       "      <td>pdf</td>\n",
       "    </tr>\n",
       "    <tr>\n",
       "      <th>2</th>\n",
       "      <td>2004_Best's Insolvency Study, PropertyCasualty U.S. Insurers 1969-2002.pdf</td>\n",
       "      <td>/s/library/A. M. Best/2004_Best's Insolvency Study, PropertyCasualty U.S. Insurers 1969-2002.pdf</td>\n",
       "      <td>2019-04-16 04:08:56.674587300+01:00</td>\n",
       "      <td>2021-04-19 15:59:04.968459900+01:00</td>\n",
       "      <td>2025-05-24 15:04:21.312358500+01:00</td>\n",
       "      <td>14073748837057834</td>\n",
       "      <td>1</td>\n",
       "      <td>2735924</td>\n",
       "      <td>pdf</td>\n",
       "    </tr>\n",
       "    <tr>\n",
       "      <th>3</th>\n",
       "      <td>2005_An Explanation Of Best's Rating System.pdf</td>\n",
       "      <td>/s/library/A. M. Best/2005_An Explanation Of Best's Rating System.pdf</td>\n",
       "      <td>2019-04-16 04:08:56.973754600+01:00</td>\n",
       "      <td>2021-04-19 15:59:46.299927600+01:00</td>\n",
       "      <td>2025-05-24 15:04:20.392617100+01:00</td>\n",
       "      <td>2251799815693502</td>\n",
       "      <td>1</td>\n",
       "      <td>156808</td>\n",
       "      <td>pdf</td>\n",
       "    </tr>\n",
       "    <tr>\n",
       "      <th>4</th>\n",
       "      <td>2005_Best's Impairment Rate and Rating Transition Study, 1977-2005(2).pdf</td>\n",
       "      <td>/s/library/A. M. Best/2005_Best's Impairment Rate and Rating Transition Study, 1977-2005(2).pdf</td>\n",
       "      <td>2019-04-16 04:13:35.362361900+01:00</td>\n",
       "      <td>2021-04-19 16:00:59.751962300+01:00</td>\n",
       "      <td>2025-05-24 15:04:20.346833400+01:00</td>\n",
       "      <td>1125899908865539</td>\n",
       "      <td>1</td>\n",
       "      <td>285006</td>\n",
       "      <td>pdf</td>\n",
       "    </tr>\n",
       "  </tbody>\n",
       "</table>\n",
       "</div>"
      ],
      "text/plain": [
       "                                                                         name  \\\n",
       "0                                                 2014_Data Platforms Map.pdf   \n",
       "1                                                  2015_Data Platform Map.pdf   \n",
       "2  2004_Best's Insolvency Study, PropertyCasualty U.S. Insurers 1969-2002.pdf   \n",
       "3                             2005_An Explanation Of Best's Rating System.pdf   \n",
       "4   2005_Best's Impairment Rate and Rating Transition Study, 1977-2005(2).pdf   \n",
       "\n",
       "                                                                                               path  \\\n",
       "0                                               /s/library/451 Research/2014_Data Platforms Map.pdf   \n",
       "1                                                /s/library/451 Research/2015_Data Platform Map.pdf   \n",
       "2  /s/library/A. M. Best/2004_Best's Insolvency Study, PropertyCasualty U.S. Insurers 1969-2002.pdf   \n",
       "3                             /s/library/A. M. Best/2005_An Explanation Of Best's Rating System.pdf   \n",
       "4   /s/library/A. M. Best/2005_Best's Impairment Rate and Rating Transition Study, 1977-2005(2).pdf   \n",
       "\n",
       "                                  mod                              create  \\\n",
       "0 2019-04-16 04:20:54.132530300+01:00 2021-04-19 16:00:05.571927500+01:00   \n",
       "1 2019-04-16 04:20:57.109569300+01:00 2021-04-19 16:00:01.849926400+01:00   \n",
       "2 2019-04-16 04:08:56.674587300+01:00 2021-04-19 15:59:04.968459900+01:00   \n",
       "3 2019-04-16 04:08:56.973754600+01:00 2021-04-19 15:59:46.299927600+01:00   \n",
       "4 2019-04-16 04:13:35.362361900+01:00 2021-04-19 16:00:59.751962300+01:00   \n",
       "\n",
       "                               access               node  links     size  \\\n",
       "0 2025-05-24 15:03:39.454344700+01:00   1688849862281996      1   180561   \n",
       "1 2025-05-24 15:03:39.818037700+01:00   1970324838992334      1   170911   \n",
       "2 2025-05-24 15:04:21.312358500+01:00  14073748837057834      1  2735924   \n",
       "3 2025-05-24 15:04:20.392617100+01:00   2251799815693502      1   156808   \n",
       "4 2025-05-24 15:04:20.346833400+01:00   1125899908865539      1   285006   \n",
       "\n",
       "  suffix  \n",
       "0    pdf  \n",
       "1    pdf  \n",
       "2    pdf  \n",
       "3    pdf  \n",
       "4    pdf  "
      ]
     },
     "execution_count": 25,
     "metadata": {},
     "output_type": "execute_result"
    },
    {
     "name": "stdout",
     "output_type": "stream",
     "text": [
      "time: 0 ns (started: 2025-05-24 16:50:02 +01:00)\n"
     ]
    }
   ],
   "source": [
    "docs.document_df.head()"
   ]
  },
  {
   "cell_type": "code",
   "execution_count": null,
   "id": "bd31b574-b8ea-4355-8824-a5ea61ed6169",
   "metadata": {},
   "outputs": [],
   "source": []
  },
  {
   "cell_type": "code",
   "execution_count": 27,
   "id": "540542d1-4c29-4fc4-864e-9ab41635a2bd",
   "metadata": {},
   "outputs": [
    {
     "data": {
      "text/html": [
       "<div>\n",
       "<style scoped>\n",
       "    .dataframe tbody tr th:only-of-type {\n",
       "        vertical-align: middle;\n",
       "    }\n",
       "\n",
       "    .dataframe tbody tr th {\n",
       "        vertical-align: top;\n",
       "    }\n",
       "\n",
       "    .dataframe thead th {\n",
       "        text-align: right;\n",
       "    }\n",
       "</style>\n",
       "<table border=\"1\" class=\"dataframe\">\n",
       "  <thead>\n",
       "    <tr style=\"text-align: right;\">\n",
       "      <th></th>\n",
       "      <th>idx</th>\n",
       "      <th>drive</th>\n",
       "      <th>file</th>\n",
       "      <th>type</th>\n",
       "    </tr>\n",
       "    <tr>\n",
       "      <th>i</th>\n",
       "      <th></th>\n",
       "      <th></th>\n",
       "      <th></th>\n",
       "      <th></th>\n",
       "    </tr>\n",
       "  </thead>\n",
       "  <tbody>\n",
       "    <tr>\n",
       "      <th>1</th>\n",
       "      <td>1</td>\n",
       "      <td>C\\</td>\n",
       "      <td>/S/Library/Schmidt/2003_The true invariant of an arbitrage free portfolio.pdf</td>\n",
       "      <td>pdf</td>\n",
       "    </tr>\n",
       "    <tr>\n",
       "      <th>2</th>\n",
       "      <td>2</td>\n",
       "      <td>C\\</td>\n",
       "      <td>/S/Library/Bahnemann/2015_Distributions for Actuaries.pdf</td>\n",
       "      <td>pdf</td>\n",
       "    </tr>\n",
       "    <tr>\n",
       "      <th>2</th>\n",
       "      <td>2</td>\n",
       "      <td>C\\</td>\n",
       "      <td>/S/Library/Bahnemann/2015_Distributions for Actuaries(2).pdf</td>\n",
       "      <td>pdf</td>\n",
       "    </tr>\n",
       "    <tr>\n",
       "      <th>3</th>\n",
       "      <td>3</td>\n",
       "      <td>C\\</td>\n",
       "      <td>/S/Library/Khoshnevisan/2011_Topics in Probability Levy Processes.pdf</td>\n",
       "      <td>pdf</td>\n",
       "    </tr>\n",
       "    <tr>\n",
       "      <th>4</th>\n",
       "      <td>4</td>\n",
       "      <td>C\\</td>\n",
       "      <td>/S/Library/Mahul/2003_Efficient Risk Sharing within a Catastrophe Insurance Pool.pdf</td>\n",
       "      <td>pdf</td>\n",
       "    </tr>\n",
       "    <tr>\n",
       "      <th>...</th>\n",
       "      <td>...</td>\n",
       "      <td>...</td>\n",
       "      <td>...</td>\n",
       "      <td>...</td>\n",
       "    </tr>\n",
       "    <tr>\n",
       "      <th>6114</th>\n",
       "      <td>6114</td>\n",
       "      <td>C\\</td>\n",
       "      <td>/S/Library/Froot/2007_Risk management, capital budgeting, and capital structure policy for insur...</td>\n",
       "      <td>pdf</td>\n",
       "    </tr>\n",
       "    <tr>\n",
       "      <th>6115</th>\n",
       "      <td>6115</td>\n",
       "      <td>C\\</td>\n",
       "      <td>/S/Library/Penner/2007_Dynamic convex risk measures time consistency, prudence, and sustainabili...</td>\n",
       "      <td>pdf</td>\n",
       "    </tr>\n",
       "    <tr>\n",
       "      <th>6116</th>\n",
       "      <td>6116</td>\n",
       "      <td>C\\</td>\n",
       "      <td>/S/Library/Davies, Gallant, Shields/2010_Q3 2010 Aon Corporation Earnings Conference Call on Oct...</td>\n",
       "      <td>pdf</td>\n",
       "    </tr>\n",
       "    <tr>\n",
       "      <th>6117</th>\n",
       "      <td>6117</td>\n",
       "      <td>C\\</td>\n",
       "      <td>/S/Library/Mahadevan, Yong/2011_Probability, physics, and the coin toss.pdf</td>\n",
       "      <td>pdf</td>\n",
       "    </tr>\n",
       "    <tr>\n",
       "      <th>6118</th>\n",
       "      <td>6118</td>\n",
       "      <td>C\\</td>\n",
       "      <td>/S/Library/Petak, Elahi/2000_The Northridge Earthquake, USA and Its Economic and Social Impacts.pdf</td>\n",
       "      <td>pdf</td>\n",
       "    </tr>\n",
       "  </tbody>\n",
       "</table>\n",
       "<p>6079 rows × 4 columns</p>\n",
       "</div>"
      ],
      "text/plain": [
       "       idx drive  \\\n",
       "i                  \n",
       "1        1    C\\   \n",
       "2        2    C\\   \n",
       "2        2    C\\   \n",
       "3        3    C\\   \n",
       "4        4    C\\   \n",
       "...    ...   ...   \n",
       "6114  6114    C\\   \n",
       "6115  6115    C\\   \n",
       "6116  6116    C\\   \n",
       "6117  6117    C\\   \n",
       "6118  6118    C\\   \n",
       "\n",
       "                                                                                                     file  \\\n",
       "i                                                                                                           \n",
       "1                           /S/Library/Schmidt/2003_The true invariant of an arbitrage free portfolio.pdf   \n",
       "2                                               /S/Library/Bahnemann/2015_Distributions for Actuaries.pdf   \n",
       "2                                            /S/Library/Bahnemann/2015_Distributions for Actuaries(2).pdf   \n",
       "3                                   /S/Library/Khoshnevisan/2011_Topics in Probability Levy Processes.pdf   \n",
       "4                    /S/Library/Mahul/2003_Efficient Risk Sharing within a Catastrophe Insurance Pool.pdf   \n",
       "...                                                                                                   ...   \n",
       "6114  /S/Library/Froot/2007_Risk management, capital budgeting, and capital structure policy for insur...   \n",
       "6115  /S/Library/Penner/2007_Dynamic convex risk measures time consistency, prudence, and sustainabili...   \n",
       "6116  /S/Library/Davies, Gallant, Shields/2010_Q3 2010 Aon Corporation Earnings Conference Call on Oct...   \n",
       "6117                          /S/Library/Mahadevan, Yong/2011_Probability, physics, and the coin toss.pdf   \n",
       "6118  /S/Library/Petak, Elahi/2000_The Northridge Earthquake, USA and Its Economic and Social Impacts.pdf   \n",
       "\n",
       "     type  \n",
       "i          \n",
       "1     pdf  \n",
       "2     pdf  \n",
       "2     pdf  \n",
       "3     pdf  \n",
       "4     pdf  \n",
       "...   ...  \n",
       "6114  pdf  \n",
       "6115  pdf  \n",
       "6116  pdf  \n",
       "6117  pdf  \n",
       "6118  pdf  \n",
       "\n",
       "[6079 rows x 4 columns]"
      ]
     },
     "execution_count": 27,
     "metadata": {},
     "output_type": "execute_result"
    },
    {
     "name": "stdout",
     "output_type": "stream",
     "text": [
      "time: 422 ms (started: 2025-05-24 16:51:29 +01:00)\n"
     ]
    }
   ],
   "source": [
    "docs.library_file_df"
   ]
  },
  {
   "cell_type": "code",
   "execution_count": 28,
   "id": "a88b2c3c-e810-4c32-91ad-641ba8d0e77b",
   "metadata": {},
   "outputs": [
    {
     "name": "stdout",
     "output_type": "stream",
     "text": [
      "time: 0 ns (started: 2025-05-24 22:40:57 +01:00)\n"
     ]
    }
   ],
   "source": [
    "import os"
   ]
  },
  {
   "cell_type": "code",
   "execution_count": 30,
   "id": "3d2bdc7a-8643-4972-a2cd-752fbb3b5150",
   "metadata": {},
   "outputs": [
    {
     "name": "stdout",
     "output_type": "stream",
     "text": [
      "time: 0 ns (started: 2025-05-24 22:41:29 +01:00)\n"
     ]
    },
    {
     "data": {
      "text/plain": [
       "\u001b[1;31mDocstring:\u001b[0m\n",
       "Set the access and modified time of path.\n",
       "\n",
       "path may always be specified as a string.\n",
       "On some platforms, path may also be specified as an open file descriptor.\n",
       "  If this functionality is unavailable, using it raises an exception.\n",
       "\n",
       "If times is not None, it must be a tuple (atime, mtime);\n",
       "    atime and mtime should be expressed as float seconds since the epoch.\n",
       "If ns is specified, it must be a tuple (atime_ns, mtime_ns);\n",
       "    atime_ns and mtime_ns should be expressed as integer nanoseconds\n",
       "    since the epoch.\n",
       "If times is None and ns is unspecified, utime uses the current time.\n",
       "Specifying tuples for both times and ns is an error.\n",
       "\n",
       "If dir_fd is not None, it should be a file descriptor open to a directory,\n",
       "  and path should be relative; path will then be relative to that directory.\n",
       "If follow_symlinks is False, and the last element of the path is a symbolic\n",
       "  link, utime will modify the symbolic link itself instead of the file the\n",
       "  link points to.\n",
       "It is an error to use dir_fd or follow_symlinks when specifying path\n",
       "  as an open file descriptor.\n",
       "dir_fd and follow_symlinks may not be available on your platform.\n",
       "  If they are unavailable, using them will raise a NotImplementedError.\n",
       "\u001b[1;31mType:\u001b[0m      builtin_function_or_method"
      ]
     },
     "metadata": {},
     "output_type": "display_data"
    }
   ],
   "source": [
    "os.utime??"
   ]
  },
  {
   "cell_type": "code",
   "execution_count": 48,
   "id": "72ea3ab7-c607-4538-b522-db97d2d0e30d",
   "metadata": {},
   "outputs": [
    {
     "name": "stdout",
     "output_type": "stream",
     "text": [
      "time: 16 ms (started: 2025-05-24 23:18:02 +01:00)\n"
     ]
    }
   ],
   "source": [
    "import hashlib\n",
    "import os\n",
    "from pathlib import Path\n",
    "\n",
    "def hash_file_restore_atime(fname: str, reset=True) -> str:\n",
    "    path = Path(fname)\n",
    "    stat = path.stat()\n",
    "    atime_ns, mtime_ns = stat.st_atime_ns, stat.st_mtime_ns\n",
    "    print(atime_ns, mtime_ns)\n",
    "    print(pd.to_datetime(atime_ns, unit='ns'))\n",
    "    h = hashlib.blake2b()\n",
    "    with path.open('rb') as f:\n",
    "        while chunk := f.read(8192):\n",
    "            h.update(chunk)\n",
    "\n",
    "    stat2 = path.stat()\n",
    "    atime_ns2, mtime_ns2 = stat2.st_atime_ns, stat2.st_mtime_ns\n",
    "    print(atime_ns2 - atime_ns, mtime_ns2 - mtime_ns)\n",
    "\n",
    "    if reset:\n",
    "        os.utime(path, ns=(atime_ns, mtime_ns-123076198399300))  # restore access + modified times\n",
    "\n",
    "    stat2 = path.stat()\n",
    "    atime_ns2, mtime_ns2 = stat2.st_atime_ns, stat2.st_mtime_ns\n",
    "    print(atime_ns2 - atime_ns, mtime_ns2 - mtime_ns)\n",
    "    \n",
    "    return h.hexdigest()\n"
   ]
  },
  {
   "cell_type": "code",
   "execution_count": 49,
   "id": "b0536a5d-2b66-48ad-b8a9-4985ab27140a",
   "metadata": {},
   "outputs": [
    {
     "name": "stdout",
     "output_type": "stream",
     "text": [
      "1748123076198399300 1747876923801600700\n",
      "2025-05-24 21:44:36.198399300\n",
      "2007086433200 0\n",
      "0 -123076198399300\n"
     ]
    },
    {
     "data": {
      "text/plain": [
       "'a1302d7cb7f0dbebde628ea0d80bd6265042b6c6621742e430178adc1a80b68eef0f83fce20aad6d2ec903c40146383b11e63bc52c27fe831f902801b8ccc4fe'"
      ]
     },
     "execution_count": 49,
     "metadata": {},
     "output_type": "execute_result"
    },
    {
     "name": "stdout",
     "output_type": "stream",
     "text": [
      "time: 0 ns (started: 2025-05-24 23:18:03 +01:00)\n"
     ]
    }
   ],
   "source": [
    "hash_file_restore_atime('\\\\tmp\\\\f1.md', True)"
   ]
  },
  {
   "cell_type": "code",
   "execution_count": 50,
   "id": "b40e40ed-5d77-43ce-95c2-5f29a923251b",
   "metadata": {},
   "outputs": [
    {
     "name": "stdout",
     "output_type": "stream",
     "text": [
      "1748123466769775500 1748123085416988100\n",
      "2025-05-24 21:51:06.769775500\n",
      "1640889111800 0\n",
      "1640889111800 0\n"
     ]
    },
    {
     "data": {
      "text/plain": [
       "'31e5b8e126236e61d12dc8477706b5a9b4a10526761675678e3220b95bfd9ca98de1d6ec91a5fc571aaddf372d720134470b715961cc1446dda974e3adf46ea3'"
      ]
     },
     "execution_count": 50,
     "metadata": {},
     "output_type": "execute_result"
    },
    {
     "name": "stdout",
     "output_type": "stream",
     "text": [
      "time: 0 ns (started: 2025-05-24 23:18:27 +01:00)\n"
     ]
    }
   ],
   "source": [
    "hash_file_restore_atime('\\\\tmp\\\\f2.md', False)"
   ]
  },
  {
   "cell_type": "code",
   "execution_count": null,
   "id": "3aa20a12-129c-4998-a7d9-13353a1e926b",
   "metadata": {},
   "outputs": [],
   "source": []
  }
 ],
 "metadata": {
  "kernelspec": {
   "display_name": "Python 3 (ipykernel)",
   "language": "python",
   "name": "python3"
  },
  "language_info": {
   "codemirror_mode": {
    "name": "ipython",
    "version": 3
   },
   "file_extension": ".py",
   "mimetype": "text/x-python",
   "name": "python",
   "nbconvert_exporter": "python",
   "pygments_lexer": "ipython3",
   "version": "3.10.13"
  }
 },
 "nbformat": 4,
 "nbformat_minor": 5
}
