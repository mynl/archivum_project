{
 "cells": [
  {
   "cell_type": "markdown",
   "id": "1dd3d7d5-25d7-4bcd-9189-3223cdbef451",
   "metadata": {},
   "source": [
    "# Various snippets to keep other files tidy\n",
    "## Provenance\n",
    "* Created new 2025-05-21"
   ]
  },
  {
   "cell_type": "markdown",
   "id": "27b1f9b2-ef46-4f79-85d5-d2ff7680032b",
   "metadata": {},
   "source": [
    "# Files and file match"
   ]
  },
  {
   "cell_type": "code",
   "execution_count": null,
   "id": "23df1ccc-9305-4581-bbb5-25e70b172f67",
   "metadata": {},
   "outputs": [],
   "source": []
  },
  {
   "cell_type": "code",
   "execution_count": 550,
   "id": "081e4aae-aaff-478b-b826-6f93317e3ca2",
   "metadata": {},
   "outputs": [
    {
     "name": "stdout",
     "output_type": "stream",
     "text": [
      "time: 969 ms (started: 2025-05-19 21:03:13 +01:00)\n"
     ]
    }
   ],
   "source": [
    "b._file_field_df = None\n",
    "ffdf = b.file_field_df"
   ]
  },
  {
   "cell_type": "code",
   "execution_count": 551,
   "id": "f1c96e36-562f-42ca-84d1-8d6e46d65f88",
   "metadata": {},
   "outputs": [
    {
     "data": {
      "text/plain": [
       "6079"
      ]
     },
     "execution_count": 551,
     "metadata": {},
     "output_type": "execute_result"
    },
    {
     "name": "stdout",
     "output_type": "stream",
     "text": [
      "time: 0 ns (started: 2025-05-19 21:03:15 +01:00)\n"
     ]
    }
   ],
   "source": [
    "len(ffdf)"
   ]
  },
  {
   "cell_type": "code",
   "execution_count": 553,
   "id": "b2eb732b-c8b0-40e9-84ee-79d8156b423b",
   "metadata": {},
   "outputs": [
    {
     "data": {
      "text/plain": [
       "True"
      ]
     },
     "execution_count": 553,
     "metadata": {},
     "output_type": "execute_result"
    },
    {
     "name": "stdout",
     "output_type": "stream",
     "text": [
      "time: 0 ns (started: 2025-05-19 21:03:21 +01:00)\n"
     ]
    }
   ],
   "source": [
    "all(ffdf.index == ffdf.idx)"
   ]
  },
  {
   "cell_type": "code",
   "execution_count": 554,
   "id": "126ce363-e503-4483-97ee-dbe0c791330d",
   "metadata": {},
   "outputs": [
    {
     "data": {
      "text/html": [
       "<div>\n",
       "<style scoped>\n",
       "    .dataframe tbody tr th:only-of-type {\n",
       "        vertical-align: middle;\n",
       "    }\n",
       "\n",
       "    .dataframe tbody tr th {\n",
       "        vertical-align: top;\n",
       "    }\n",
       "\n",
       "    .dataframe thead th {\n",
       "        text-align: right;\n",
       "    }\n",
       "</style>\n",
       "<table border=\"1\" class=\"dataframe\">\n",
       "  <thead>\n",
       "    <tr style=\"text-align: right;\">\n",
       "      <th></th>\n",
       "      <th>idx</th>\n",
       "      <th>drive</th>\n",
       "      <th>file</th>\n",
       "      <th>type</th>\n",
       "    </tr>\n",
       "    <tr>\n",
       "      <th>i</th>\n",
       "      <th></th>\n",
       "      <th></th>\n",
       "      <th></th>\n",
       "      <th></th>\n",
       "    </tr>\n",
       "  </thead>\n",
       "  <tbody>\n",
       "    <tr>\n",
       "      <th>1</th>\n",
       "      <td>1</td>\n",
       "      <td>C\\</td>\n",
       "      <td>/S/Library/Schmidt/2003_The true invariant of ...</td>\n",
       "      <td>pdf</td>\n",
       "    </tr>\n",
       "    <tr>\n",
       "      <th>2</th>\n",
       "      <td>2</td>\n",
       "      <td>C\\</td>\n",
       "      <td>/S/Library/Bahnemann/2015_Distributions for Ac...</td>\n",
       "      <td>pdf</td>\n",
       "    </tr>\n",
       "    <tr>\n",
       "      <th>2</th>\n",
       "      <td>2</td>\n",
       "      <td>C\\</td>\n",
       "      <td>/S/Library/Bahnemann/2015_Distributions for Ac...</td>\n",
       "      <td>pdf</td>\n",
       "    </tr>\n",
       "    <tr>\n",
       "      <th>3</th>\n",
       "      <td>3</td>\n",
       "      <td>C\\</td>\n",
       "      <td>/S/Library/Khoshnevisan/2011_Topics in Probabi...</td>\n",
       "      <td>pdf</td>\n",
       "    </tr>\n",
       "    <tr>\n",
       "      <th>4</th>\n",
       "      <td>4</td>\n",
       "      <td>C\\</td>\n",
       "      <td>/S/Library/Mahul/2003_Efficient Risk Sharing w...</td>\n",
       "      <td>pdf</td>\n",
       "    </tr>\n",
       "  </tbody>\n",
       "</table>\n",
       "</div>"
      ],
      "text/plain": [
       "   idx drive                                               file type\n",
       "i                                                                   \n",
       "1    1    C\\  /S/Library/Schmidt/2003_The true invariant of ...  pdf\n",
       "2    2    C\\  /S/Library/Bahnemann/2015_Distributions for Ac...  pdf\n",
       "2    2    C\\  /S/Library/Bahnemann/2015_Distributions for Ac...  pdf\n",
       "3    3    C\\  /S/Library/Khoshnevisan/2011_Topics in Probabi...  pdf\n",
       "4    4    C\\  /S/Library/Mahul/2003_Efficient Risk Sharing w...  pdf"
      ]
     },
     "execution_count": 554,
     "metadata": {},
     "output_type": "execute_result"
    },
    {
     "name": "stdout",
     "output_type": "stream",
     "text": [
      "time: 32 ms (started: 2025-05-19 21:03:23 +01:00)\n"
     ]
    }
   ],
   "source": [
    "ffdf.head()"
   ]
  },
  {
   "cell_type": "code",
   "execution_count": 541,
   "id": "d2a681ad-13e9-4305-b3e7-13eef6a4dad5",
   "metadata": {},
   "outputs": [
    {
     "data": {
      "text/plain": [
       "6079"
      ]
     },
     "execution_count": 541,
     "metadata": {},
     "output_type": "execute_result"
    },
    {
     "name": "stdout",
     "output_type": "stream",
     "text": [
      "time: 0 ns (started: 2025-05-19 21:00:54 +01:00)\n"
     ]
    }
   ],
   "source": [
    "len(ffdf)"
   ]
  },
  {
   "cell_type": "code",
   "execution_count": 560,
   "id": "d66877d5-4924-44fd-b4ee-6d0128dcca84",
   "metadata": {},
   "outputs": [
    {
     "data": {
      "text/html": [
       "<div>\n",
       "<style scoped>\n",
       "    .dataframe tbody tr th:only-of-type {\n",
       "        vertical-align: middle;\n",
       "    }\n",
       "\n",
       "    .dataframe tbody tr th {\n",
       "        vertical-align: top;\n",
       "    }\n",
       "\n",
       "    .dataframe thead th {\n",
       "        text-align: right;\n",
       "    }\n",
       "</style>\n",
       "<table border=\"1\" class=\"dataframe\">\n",
       "  <thead>\n",
       "    <tr style=\"text-align: right;\">\n",
       "      <th></th>\n",
       "      <th>count</th>\n",
       "    </tr>\n",
       "    <tr>\n",
       "      <th>idx</th>\n",
       "      <th></th>\n",
       "    </tr>\n",
       "  </thead>\n",
       "  <tbody>\n",
       "    <tr>\n",
       "      <th>2</th>\n",
       "      <td>2</td>\n",
       "    </tr>\n",
       "    <tr>\n",
       "      <th>76</th>\n",
       "      <td>2</td>\n",
       "    </tr>\n",
       "    <tr>\n",
       "      <th>380</th>\n",
       "      <td>2</td>\n",
       "    </tr>\n",
       "    <tr>\n",
       "      <th>420</th>\n",
       "      <td>2</td>\n",
       "    </tr>\n",
       "    <tr>\n",
       "      <th>453</th>\n",
       "      <td>2</td>\n",
       "    </tr>\n",
       "    <tr>\n",
       "      <th>...</th>\n",
       "      <td>...</td>\n",
       "    </tr>\n",
       "    <tr>\n",
       "      <th>2797</th>\n",
       "      <td>3</td>\n",
       "    </tr>\n",
       "    <tr>\n",
       "      <th>3077</th>\n",
       "      <td>3</td>\n",
       "    </tr>\n",
       "    <tr>\n",
       "      <th>4823</th>\n",
       "      <td>3</td>\n",
       "    </tr>\n",
       "    <tr>\n",
       "      <th>5201</th>\n",
       "      <td>3</td>\n",
       "    </tr>\n",
       "    <tr>\n",
       "      <th>6015</th>\n",
       "      <td>3</td>\n",
       "    </tr>\n",
       "  </tbody>\n",
       "</table>\n",
       "<p>118 rows × 1 columns</p>\n",
       "</div>"
      ],
      "text/plain": [
       "      count\n",
       "idx        \n",
       "2         2\n",
       "76        2\n",
       "380       2\n",
       "420       2\n",
       "453       2\n",
       "...     ...\n",
       "2797      3\n",
       "3077      3\n",
       "4823      3\n",
       "5201      3\n",
       "6015      3\n",
       "\n",
       "[118 rows x 1 columns]"
      ]
     },
     "execution_count": 560,
     "metadata": {},
     "output_type": "execute_result"
    },
    {
     "name": "stdout",
     "output_type": "stream",
     "text": [
      "time: 31 ms (started: 2025-05-19 21:04:20 +01:00)\n"
     ]
    }
   ],
   "source": [
    "ffdf.groupby(by='idx').file.count().to_frame('count').query('count > 1').sort_values('count')"
   ]
  },
  {
   "cell_type": "code",
   "execution_count": 561,
   "id": "72b7fa7b-789f-4640-846d-27a71f671d74",
   "metadata": {},
   "outputs": [
    {
     "data": {
      "text/plain": [
       "count    246\n",
       "dtype: int64"
      ]
     },
     "execution_count": 561,
     "metadata": {},
     "output_type": "execute_result"
    },
    {
     "name": "stdout",
     "output_type": "stream",
     "text": [
      "time: 0 ns (started: 2025-05-19 21:04:33 +01:00)\n"
     ]
    }
   ],
   "source": [
    "_.sum()"
   ]
  },
  {
   "cell_type": "code",
   "execution_count": null,
   "id": "ea33252e-c5d6-4d6d-85f0-9016115a8f60",
   "metadata": {},
   "outputs": [],
   "source": [
    "missing = []\n",
    "for i, r in ffdf.iterrows():\n",
    "    if not Path(r.file).exists():\n",
    "        print(i, r.file)\n",
    "        missing.append([i, r.file])"
   ]
  },
  {
   "cell_type": "code",
   "execution_count": 526,
   "id": "ea8376a4-89ac-4849-bdfe-c49198a7607c",
   "metadata": {},
   "outputs": [
    {
     "data": {
      "text/plain": [
       "[[5,\n",
       "  \"/S/Library/Jiang, Koo, Wang/2025_The Road Not Taken Evaluating the Consequences of the U.S.'s Non-Adoption of IFRS in 2012.pdf\"],\n",
       " [37,\n",
       "  \"/S/Library/Filipovi{\\\\'{c}}, Svindland/2008_Optimal capital and risk allocations for law- and cash-invariant convex functions.pdf\"],\n",
       " [39,\n",
       "  \"/S/Library/Heras, Balb{\\\\'{a}}s, Vilar/2012_Conditional tail expectation and premium calculation.pdf\"]]"
      ]
     },
     "execution_count": 526,
     "metadata": {},
     "output_type": "execute_result"
    },
    {
     "name": "stdout",
     "output_type": "stream",
     "text": [
      "time: 0 ns (started: 2025-05-19 20:44:06 +01:00)\n"
     ]
    }
   ],
   "source": [
    "missing[:3]"
   ]
  },
  {
   "cell_type": "code",
   "execution_count": 525,
   "id": "25794bb1-c979-4af4-a996-8b0c3a2f400c",
   "metadata": {},
   "outputs": [
    {
     "data": {
      "text/plain": [
       "479"
      ]
     },
     "execution_count": 525,
     "metadata": {},
     "output_type": "execute_result"
    },
    {
     "name": "stdout",
     "output_type": "stream",
     "text": [
      "time: 0 ns (started: 2025-05-19 20:43:58 +01:00)\n"
     ]
    }
   ],
   "source": [
    "len(missing)"
   ]
  },
  {
   "cell_type": "code",
   "execution_count": 314,
   "id": "b81db157-ccd8-4f97-8509-7af04a418460",
   "metadata": {},
   "outputs": [
    {
     "data": {
      "text/plain": [
       "array(['/S/Library/Schmidt/2003_The true invariant of an arbitrage free portfolio.pdf',\n",
       "       '/S/Library/Bahnemann/2015_Distributions for Actuaries.pdf',\n",
       "       '/S/Library/Bahnemann/2015_Distributions for Actuaries(2).pdf',\n",
       "       '/S/Library/Khoshnevisan/2011_Topics in Probability Levy Processes.pdf',\n",
       "       '/S/Library/Mahul/2003_Efficient Risk Sharing within a Catastrophe Insurance Pool.pdf'],\n",
       "      dtype=object)"
      ]
     },
     "execution_count": 314,
     "metadata": {},
     "output_type": "execute_result"
    },
    {
     "name": "stdout",
     "output_type": "stream",
     "text": [
      "time: 0 ns (started: 2025-05-18 21:50:10 +01:00)\n"
     ]
    }
   ],
   "source": [
    "ffdf.head().drop(columns='i').file.values"
   ]
  },
  {
   "cell_type": "code",
   "execution_count": 533,
   "id": "74237198-5393-470a-9266-69c2490f23fc",
   "metadata": {},
   "outputs": [
    {
     "data": {
      "text/plain": [
       "6128"
      ]
     },
     "execution_count": 533,
     "metadata": {},
     "output_type": "execute_result"
    },
    {
     "name": "stdout",
     "output_type": "stream",
     "text": [
      "time: 2.14 s (started: 2025-05-19 20:54:30 +01:00)\n"
     ]
    }
   ],
   "source": [
    "actual_files = [str(i.as_posix()) for i in Path('\\\\S\\\\Library').rglob('*.pdf')]\n",
    "len(actual_files)"
   ]
  },
  {
   "cell_type": "code",
   "execution_count": 534,
   "id": "16de6bc2-5e80-43a0-b21e-abf1fb918533",
   "metadata": {},
   "outputs": [
    {
     "data": {
      "text/plain": [
       "['/S/Library/451 Research/2014_Data Platforms Map.pdf',\n",
       " '/S/Library/451 Research/2015_Data Platform Map.pdf',\n",
       " \"/S/Library/A. M. Best/2004_Best's Insolvency Study, PropertyCasualty U.S. Insurers 1969-2002.pdf\"]"
      ]
     },
     "execution_count": 534,
     "metadata": {},
     "output_type": "execute_result"
    },
    {
     "name": "stdout",
     "output_type": "stream",
     "text": [
      "time: 16 ms (started: 2025-05-19 20:54:33 +01:00)\n"
     ]
    }
   ],
   "source": [
    "actual_files[:3]"
   ]
  },
  {
   "cell_type": "code",
   "execution_count": null,
   "id": "84de74c5-ab1a-4e87-8ba9-f631a0edaaf1",
   "metadata": {},
   "outputs": [],
   "source": []
  },
  {
   "cell_type": "code",
   "execution_count": 537,
   "id": "03ce38da-5e32-4322-9dc9-26b0c7d52c13",
   "metadata": {},
   "outputs": [
    {
     "name": "stdout",
     "output_type": "stream",
     "text": [
      "time: 19.7 s (started: 2025-05-19 20:57:50 +01:00)\n"
     ]
    }
   ],
   "source": [
    "ans = []\n",
    "for i, m in missing:\n",
    "    best_match = min(actual_files,\n",
    "        key=lambda alt: Levenshtein.distance(m, alt))\n",
    "    ans.append([i, m, best_match])"
   ]
  },
  {
   "cell_type": "code",
   "execution_count": null,
   "id": "9ec55d79-ba8c-4c99-823b-8cab25f5261f",
   "metadata": {},
   "outputs": [],
   "source": [
    "ansdf = pd.DataFrame(ans, columns=['idx', 'missing', 'match'])"
   ]
  },
  {
   "cell_type": "code",
   "execution_count": null,
   "id": "afec1279-d095-49cf-bacd-1e9e1fb5d7a9",
   "metadata": {},
   "outputs": [],
   "source": [
    "fGT(ansdf.head(100))"
   ]
  },
  {
   "cell_type": "code",
   "execution_count": null,
   "id": "1ddfc45e-7bb9-43d8-a64a-f3e525334179",
   "metadata": {},
   "outputs": [
    {
     "name": "stdout",
     "output_type": "stream",
     "text": [
      "Best match: apple, Distance: 1\n",
      "time: 125 ms (started: 2025-05-19 20:51:25 +01:00)\n"
     ]
    }
   ],
   "source": [
    "# List of alternatives\n",
    "alts = [\"apple\", \"banana\", \"orange\", \"grape\", \"pineapple\"]\n",
    "\n",
    "# String to match\n",
    "s = \"applle\"\n",
    "\n",
    "# Find the best match using Levenshtein distance\n",
    "best_match = min(alts, key=lambda alt: Levenshtein.distance(s, alt))\n",
    "\n",
    "# Calculate the distance (edit distance)\n",
    "distance = Levenshtein.distance(s, best_match)\n",
    "\n",
    "print(f\"Best match: {best_match}, Distance: {distance}\")"
   ]
  },
  {
   "cell_type": "markdown",
   "id": "baae3d5a-a1fb-4b3a-87ab-7a1cb91a8ab0",
   "metadata": {},
   "source": [
    "# Citations\n",
    "Extracting and parsing."
   ]
  },
  {
   "cell_type": "code",
   "execution_count": null,
   "id": "bef8bd9a-0edd-4b03-a71f-cae06a5ef2aa",
   "metadata": {},
   "outputs": [],
   "source": []
  },
  {
   "cell_type": "code",
   "execution_count": 658,
   "id": "3f0e4c17-049c-4c1d-af29-7e589e7784f5",
   "metadata": {},
   "outputs": [
    {
     "data": {
      "text/html": [
       "<div class=\"greater-table\">\n",
       "<style>\n",
       "    #TRKFH5VCYVQUY  {\n",
       "    border-collapse: collapse;\n",
       "    font-family: \"Roboto\", \"Open Sans Condensed\", \"Arial\", 'Segoe UI', sans-serif;\n",
       "    font-size: 0.9em;\n",
       "    width: auto;\n",
       "    \n",
       "    margin: 10px auto;\n",
       "    border: none;\n",
       "    overflow: auto;\n",
       "    margin-left: auto;\n",
       "    margin-right: auto;\n",
       "    }\n",
       "    \n",
       "    #TRKFH5VCYVQUY caption {\n",
       "        padding: 4px 10px 2px 10px;\n",
       "        font-size: 1.1em;\n",
       "        text-align: center;\n",
       "        font-weight: normal;\n",
       "        caption-side: top;\n",
       "    }\n",
       "    #TRKFH5VCYVQUY thead {\n",
       "        \n",
       "        border-top: 1px solid #000;\n",
       "        border-bottom: 1px solid #000;\n",
       "        font-size: 1.0em;\n",
       "        }\n",
       "    #TRKFH5VCYVQUY tbody {\n",
       "        \n",
       "        border-bottom: 1px solid #000;\n",
       "        }\n",
       "    #TRKFH5VCYVQUY th  {\n",
       "        vertical-align: bottom;\n",
       "        padding: 4px 10px 4px 10px;\n",
       "    }\n",
       "    #TRKFH5VCYVQUY td {\n",
       "        \n",
       "        padding: 2px 10px 2px 10px;\n",
       "        vertical-align: top;\n",
       "    }\n",
       "    \n",
       "    #TRKFH5VCYVQUY .grt-hrule-0 {\n",
       "        border-top: 0px solid #000;\n",
       "    }\n",
       "    #TRKFH5VCYVQUY .grt-hrule-1 {\n",
       "        border-top: 0px solid #000;\n",
       "    }\n",
       "    #TRKFH5VCYVQUY .grt-hrule-2 {\n",
       "        border-top: 0px solid #000;\n",
       "    }\n",
       "    \n",
       "    #TRKFH5VCYVQUY .grt-bhrule-0 {\n",
       "        border-bottom: 0px solid #000;\n",
       "    }\n",
       "    #TRKFH5VCYVQUY .grt-bhrule-1 {\n",
       "        border-bottom: 0px solid #000;\n",
       "    }\n",
       "    #TRKFH5VCYVQUY .grt-vrule-index {\n",
       "        border-left: 1px solid #000;\n",
       "    }\n",
       "    #TRKFH5VCYVQUY .grt-vrule-0 {\n",
       "        border-left: 0px solid #000;\n",
       "    }\n",
       "    #TRKFH5VCYVQUY .grt-vrule-1 {\n",
       "        border-left: 0px solid #000;\n",
       "    }\n",
       "    #TRKFH5VCYVQUY .grt-vrule-2 {\n",
       "        border-left: 0px solid #000;\n",
       "    }\n",
       "    #TRKFH5VCYVQUY .grt-left {\n",
       "        text-align: left;\n",
       "    }\n",
       "    #TRKFH5VCYVQUY .grt-center {\n",
       "        text-align: center;\n",
       "    }\n",
       "    #TRKFH5VCYVQUY .grt-right {\n",
       "        text-align: right;\n",
       "        font-variant-numeric: tabular-nums;\n",
       "    }\n",
       "    #TRKFH5VCYVQUY .grt-head {\n",
       "        font-family: \"Times New Roman\", 'Courier New';\n",
       "        font-size: 1.0em;\n",
       "    }\n",
       "    #TRKFH5VCYVQUY .grt-bold {\n",
       "        font-weight: bold;\n",
       "    }\n",
       "\n",
       "    #TRKFH5VCYVQUY .grt-c-0 { width: 4.0em; }\n",
       "    #TRKFH5VCYVQUY .grt-c-1 { width: 31.599999999999998em; }\n",
       "    #TRKFH5VCYVQUY .grt-c-2 { width: 42.4em; }\n",
       "    #TRKFH5VCYVQUY .grt-c-3 { width: 3.4em; }\n",
       "    #TRKFH5VCYVQUY .grt-c-4 { width: 295.0em; }\n",
       "</style>\n",
       "<table id=\"TRKFH5VCYVQUY\">\n",
       "<colgroup>\n",
       "<col style=\"width: 2.4em;\"/>\n",
       "<col style=\"width: 18.959999999999997em;\"/>\n",
       "<col style=\"width: 25.439999999999998em;\"/>\n",
       "<col style=\"width: 2.04em;\"/>\n",
       "<col style=\"width: 177.0em;\"/>\n",
       "</colgroup>\n",
       "<thead>\n",
       "<tr>\n",
       "<th class=\"grt-left\">index</th>\n",
       "<th class=\"grt-center grt-vrule-index\" colspan=\"1\">author</th>\n",
       "<th class=\"grt-center grt-vrule-0\" colspan=\"1\">title</th>\n",
       "<th class=\"grt-center grt-vrule-0\" colspan=\"1\">year</th>\n",
       "<th class=\"grt-center grt-vrule-0\" colspan=\"1\">annote</th>\n",
       "</tr>\n",
       "</thead>\n",
       "<tbody>\n",
       "<tr>\n",
       "<td class=\"grt-c-0 grt-left\">3414</td>\n",
       "<td class=\"grt-c-1 grt-left grt-vrule-index\">Csoka, Peter and Pinter, Miklos</td>\n",
       "<td class=\"grt-c-2 grt-left grt-vrule-0\">{On the Impossibility of Fair Risk Allocation}</td>\n",
       "<td class=\"grt-c-3 grt-left grt-vrule-0\">2016</td>\n",
       "<td class=\"grt-c-4 grt-left grt-vrule-0\">From Duplicate 2 (On the Impossibility of Fair Risk Allocation - Csoka, Peter; Pinter, Miklos)\n",
       "\n",
       "27 Google Citations</td>\n",
       "</tr>\n",
       "<tr>\n",
       "<td class=\"grt-c-0 grt-left\">3996</td>\n",
       "<td class=\"grt-c-1 grt-left grt-vrule-index\">Modigliani, Franco and Miller, Merton H</td>\n",
       "<td class=\"grt-c-2 grt-left grt-vrule-0\">{The cost of capital, corporate fiance and the theory of investment}</td>\n",
       "<td class=\"grt-c-3 grt-left grt-vrule-0\">1958</td>\n",
       "<td class=\"grt-c-4 grt-left grt-vrule-0\">22000 citations</td>\n",
       "</tr>\n",
       "<tr>\n",
       "<td class=\"grt-c-0 grt-left\">5271</td>\n",
       "<td class=\"grt-c-1 grt-left grt-vrule-index\">Camerer, Colin F. and Ho, Teck Hua</td>\n",
       "<td class=\"grt-c-2 grt-left grt-vrule-0\">{Violations of the betweenness axiom and nonlinearity in probability}</td>\n",
       "<td class=\"grt-c-3 grt-left grt-vrule-0\">1994</td>\n",
       "<td class=\"grt-c-4 grt-left grt-vrule-0\">755 GSCitations</td>\n",
       "</tr>\n",
       "<tr>\n",
       "<td class=\"grt-c-0 grt-left\">6028</td>\n",
       "<td class=\"grt-c-1 grt-left grt-vrule-index\">Lecun, Yann and Bengio, Yoshua and Hinton, Geoffrey</td>\n",
       "<td class=\"grt-c-2 grt-left grt-vrule-0\">{Deep learning}</td>\n",
       "<td class=\"grt-c-3 grt-left grt-vrule-0\">2015</td>\n",
       "<td class=\"grt-c-4 grt-left grt-vrule-0\">2. \"Deep learning\" (2015)\n",
       "Nature\n",
       "16,750 citations\n",
       "This paper stands out not just because of its high number of citations, but because there was a difference of more than 10,000 between its citation count and the second most-cited Nature paper in the 2019 Google Scholar Metrics report.\n",
       "Authored by 2018 Turing Award winners, Yann LeCun, Yoshua Bengio and Geoffrey Hinton – known collectively as the 'Godfathers of AI' – the paper is a seminal review of the potential of the AI technologies.</td>\n",
       "</tr>\n",
       "</tbody>\n",
       "</table></div>"
      ],
      "text/latex": [
       "\n",
       "\\begin{tikzpicture}[\n",
       "    auto,\n",
       "    transform shape,\n",
       "    nosep/.style={inner sep=0},\n",
       "    table/.style={\n",
       "        matrix of nodes,\n",
       "        row sep=0.125em,\n",
       "        column sep=0.375em,\n",
       "        nodes in empty cells,\n",
       "        nodes={rectangle, scale=0.635, text badly ragged },\n",
       "\trow 1/.style={nodes={text=black, anchor=north, inner ysep=0, text height=0, text depth=0}},\n",
       "\trow 2/.style={nodes={text=black, anchor=south, inner ysep=.2em, minimum height=1.3em, font=\\bfseries}},\n",
       "\tcolumn  1/.style={nodes={align=left  }, text height=0.9em, text depth=0.2em, inner xsep=0.375em, inner ysep=0, text width=3.00em},\n",
       "\tcolumn  2/.style={nodes={align=left  }, nosep, text width=30.60em},\n",
       "\tcolumn  3/.style={nodes={align=left  }, nosep, text width=41.40em},\n",
       "\tcolumn  4/.style={nodes={align=left  }, nosep, text width=2.40em},\n",
       "\tcolumn  5/.style={nodes={align=left  }, nosep, text width=294.00em},\n",
       "\tcolumn  6/.style={text height=0.9em, text depth=0.2em, nosep, text width=0em}\t}]\n",
       "\\matrix (TRKFH5VCYVQUY) [table, ampersand replacement=\\&]{\n",
       "      \\&                                                     \\&                                                                       \\&      \\&                                                                                                                                                                                                                                                                                                                                                                                                                                                                                                            \\& \\\\\n",
       " index\\grtspacer \\& author\\grtspacer                                    \\& title\\grtspacer                                                       \\& year\\grtspacer \\& annote\\grtspacer                                                                                                                                                                                                                                                                                                                                                                                                                                                                                           \\& \\\\\n",
       " 3414 \\& Csoka, Peter and Pinter, Miklos                     \\& {On the Impossibility of Fair Risk Allocation}                        \\& 2016 \\& From Duplicate 2 (On the Impossibility of Fair Risk Allocation - Csoka, Peter; Pinter, Miklos)\n",
       "\n",
       "27 Google Citations                                                                                                                                                                                                                                                                                                                                                                                        \\& \\\\\n",
       " 3996 \\& Modigliani, Franco and Miller, Merton H             \\& {The cost of capital, corporate fiance and the theory of investment}  \\& 1958 \\& 22000 citations                                                                                                                                                                                                                                                                                                                                                                                                                                                                                            \\& \\\\\n",
       " 5271 \\& Camerer, Colin F. and Ho, Teck Hua                  \\& {Violations of the betweenness axiom and nonlinearity in probability} \\& 1994 \\& 755 GSCitations                                                                                                                                                                                                                                                                                                                                                                                                                                                                                            \\& \\\\\n",
       " 6028 \\& Lecun, Yann and Bengio, Yoshua and Hinton, Geoffrey \\& {Deep learning}                                                       \\& 2015 \\& 2. \"Deep learning\" (2015)\n",
       "Nature\n",
       "16,750 citations\n",
       "This paper stands out not just because of its high number of citations, but because there was a difference of more than 10,000 between its citation count and the second most-cited Nature paper in the 2019 Google Scholar Metrics report.\n",
       "Authored by 2018 Turing Award winners, Yann LeCun, Yoshua Bengio and Geoffrey Hinton – known collectively as the 'Godfathers of AI' – the paper is a seminal review of the potential of the AI technologies. \\& \\\\\n",
       "};\n",
       "\n",
       "\\path[draw, thick] (TRKFH5VCYVQUY-1-1.south west)  -- (TRKFH5VCYVQUY-1-6.south east);\n",
       "\\path[draw, semithick] ([yshift=-0.0625em]TRKFH5VCYVQUY-2-1.south west)  -- ([yshift=-0.0625em]TRKFH5VCYVQUY-2-6.south east);\n",
       "\\path[draw, thick] ([yshift=-0.3125em]TRKFH5VCYVQUY-6-1.base west)  -- ([yshift=-0.3125em]TRKFH5VCYVQUY-6-6.base east);\n",
       "\\path[draw, very thin] ([xshift=-0.1875em]TRKFH5VCYVQUY-1-2.south west)  -- ([yshift=-0.3125em, xshift=-0.1875em]TRKFH5VCYVQUY-6-2.base west);\n",
       "\n",
       "\n",
       "\n",
       "\\end{tikzpicture}\n"
      ],
      "text/plain": [
       "GreaterTable(df_id=TRKFH5VCYVQUY)"
      ]
     },
     "execution_count": 658,
     "metadata": {},
     "output_type": "execute_result"
    },
    {
     "name": "stdout",
     "output_type": "stream",
     "text": [
      "time: 62 ms (started: 2025-05-20 08:10:15 +01:00)\n"
     ]
    }
   ],
   "source": [
    "fGT(b.df.loc[b.df.annote.str.contains('[Cc]itations', regex=True), ['author', 'title', 'year', 'annote']])"
   ]
  },
  {
   "cell_type": "code",
   "execution_count": null,
   "id": "c8fa61ec-1fb9-4528-a5bb-7e18a2e92559",
   "metadata": {},
   "outputs": [],
   "source": [
    "fGT(b.df.loc[b.df.abstract.str.contains('[Cc]itations?', regex=True), ['author', 'title', 'year', 'abstract']])"
   ]
  },
  {
   "cell_type": "code",
   "execution_count": 757,
   "id": "1ec85557-b5b4-4db0-a5f9-7bc8994bf7a1",
   "metadata": {},
   "outputs": [
    {
     "name": "stdout",
     "output_type": "stream",
     "text": [
      "time: 0 ns (started: 2025-05-20 08:45:38 +01:00)\n"
     ]
    }
   ],
   "source": [
    "# regex to extract group like 1000, 2K, 1,000, 1K-2K etc.\n",
    "pat = r'([\\dKk\\- ]+)\\+? +(?: Google | GS )?[Cc]itations?'"
   ]
  },
  {
   "cell_type": "code",
   "execution_count": 752,
   "id": "8690835b-52c8-4b25-9688-9f4c130ab3a2",
   "metadata": {},
   "outputs": [
    {
     "name": "stdout",
     "output_type": "stream",
     "text": [
      "time: 0 ns (started: 2025-05-20 08:43:06 +01:00)\n"
     ]
    }
   ],
   "source": [
    "df = b.df.copy()"
   ]
  },
  {
   "cell_type": "code",
   "execution_count": 758,
   "id": "f5d00938-0c7c-4c7c-8fed-49e335b7ec25",
   "metadata": {},
   "outputs": [
    {
     "data": {
      "text/plain": [
       "124           195\n",
       "146          6652\n",
       "228     1000-2500\n",
       "229          5345\n",
       "233            66\n",
       "          ...    \n",
       "5990     500-1000\n",
       "5996     500-1000\n",
       "6035    1000-2500\n",
       "6036    1000-2500\n",
       "6108          108\n",
       "Name: 0, Length: 197, dtype: object"
      ]
     },
     "execution_count": 758,
     "metadata": {},
     "output_type": "execute_result"
    },
    {
     "name": "stdout",
     "output_type": "stream",
     "text": [
      "time: 203 ms (started: 2025-05-20 08:45:40 +01:00)\n"
     ]
    }
   ],
   "source": [
    "v = df.loc[:, 'abstract'].str.extract(pat)[0].str.strip().dropna()\n",
    "v"
   ]
  },
  {
   "cell_type": "code",
   "execution_count": 759,
   "id": "17c3d413-ce69-4cf1-ac17-5da5810703b1",
   "metadata": {},
   "outputs": [
    {
     "data": {
      "text/plain": [
       "'500+ citations'"
      ]
     },
     "execution_count": 759,
     "metadata": {},
     "output_type": "execute_result"
    },
    {
     "name": "stdout",
     "output_type": "stream",
     "text": [
      "time: 0 ns (started: 2025-05-20 08:45:41 +01:00)\n"
     ]
    }
   ],
   "source": [
    "df.loc[2780, 'abstract']"
   ]
  },
  {
   "cell_type": "code",
   "execution_count": 761,
   "id": "7a2a153b-cbcf-4ef5-bc3d-55e02d750874",
   "metadata": {},
   "outputs": [
    {
     "data": {
      "text/plain": [
       "('500',)"
      ]
     },
     "execution_count": 761,
     "metadata": {},
     "output_type": "execute_result"
    },
    {
     "name": "stdout",
     "output_type": "stream",
     "text": [
      "time: 0 ns (started: 2025-05-20 08:45:51 +01:00)\n"
     ]
    }
   ],
   "source": [
    "re.search(pat, df.loc[2780, 'abstract']).groups(1)"
   ]
  },
  {
   "cell_type": "code",
   "execution_count": 762,
   "id": "add46ca1-e20b-4184-a541-949b05244ea3",
   "metadata": {},
   "outputs": [
    {
     "name": "stdout",
     "output_type": "stream",
     "text": [
      "time: 0 ns (started: 2025-05-20 08:45:53 +01:00)\n"
     ]
    }
   ],
   "source": [
    "def parse_citations(s):\n",
    "    try:\n",
    "        return int(s)\n",
    "    except ValueError:\n",
    "        pass\n",
    "        # print('not int')\n",
    "\n",
    "    try:\n",
    "        if s.find('-') > 0:\n",
    "            l, r = s.split('-')        \n",
    "            l = int(l.strip())\n",
    "            r = int(r.strip())\n",
    "            return (l + r) // 2\n",
    "    except ValueError:\n",
    "        pass\n",
    "        # print('not range')\n",
    "\n",
    "    s = s.lower()\n",
    "    try:\n",
    "        if s.find('k') > 0:\n",
    "            return parse_citations(s.replace('k', '000')) \n",
    "    except ValueError:\n",
    "        # print('not K')\n",
    "        pass\n",
    "\n",
    "    return f'Unable to parse {s}'\n",
    "    # return -99"
   ]
  },
  {
   "cell_type": "code",
   "execution_count": 686,
   "id": "e9d46379-62d7-4469-b37e-e8b28fc76e55",
   "metadata": {},
   "outputs": [
    {
     "data": {
      "text/html": [
       "<div class=\"greater-table\">\n",
       "<style>\n",
       "    #TJK2QYWXFOMDR  {\n",
       "    border-collapse: collapse;\n",
       "    font-family: \"Roboto\", \"Open Sans Condensed\", \"Arial\", 'Segoe UI', sans-serif;\n",
       "    font-size: 0.9em;\n",
       "    width: auto;\n",
       "    \n",
       "    margin: 10px auto;\n",
       "    border: none;\n",
       "    overflow: auto;\n",
       "    margin-left: auto;\n",
       "    margin-right: auto;\n",
       "    }\n",
       "    \n",
       "    #TJK2QYWXFOMDR caption {\n",
       "        padding: 4px 10px 2px 10px;\n",
       "        font-size: 1.1em;\n",
       "        text-align: center;\n",
       "        font-weight: normal;\n",
       "        caption-side: top;\n",
       "    }\n",
       "    #TJK2QYWXFOMDR thead {\n",
       "        \n",
       "        border-top: 1px solid #000;\n",
       "        border-bottom: 1px solid #000;\n",
       "        font-size: 1.0em;\n",
       "        }\n",
       "    #TJK2QYWXFOMDR tbody {\n",
       "        \n",
       "        border-bottom: 1px solid #000;\n",
       "        }\n",
       "    #TJK2QYWXFOMDR th  {\n",
       "        vertical-align: bottom;\n",
       "        padding: 4px 10px 4px 10px;\n",
       "    }\n",
       "    #TJK2QYWXFOMDR td {\n",
       "        \n",
       "        padding: 2px 10px 2px 10px;\n",
       "        vertical-align: top;\n",
       "    }\n",
       "    \n",
       "    #TJK2QYWXFOMDR .grt-hrule-0 {\n",
       "        border-top: 0px solid #000;\n",
       "    }\n",
       "    #TJK2QYWXFOMDR .grt-hrule-1 {\n",
       "        border-top: 0px solid #000;\n",
       "    }\n",
       "    #TJK2QYWXFOMDR .grt-hrule-2 {\n",
       "        border-top: 0px solid #000;\n",
       "    }\n",
       "    \n",
       "    #TJK2QYWXFOMDR .grt-bhrule-0 {\n",
       "        border-bottom: 0px solid #000;\n",
       "    }\n",
       "    #TJK2QYWXFOMDR .grt-bhrule-1 {\n",
       "        border-bottom: 0px solid #000;\n",
       "    }\n",
       "    #TJK2QYWXFOMDR .grt-vrule-index {\n",
       "        border-left: 1px solid #000;\n",
       "    }\n",
       "    #TJK2QYWXFOMDR .grt-vrule-0 {\n",
       "        border-left: 0px solid #000;\n",
       "    }\n",
       "    #TJK2QYWXFOMDR .grt-vrule-1 {\n",
       "        border-left: 0px solid #000;\n",
       "    }\n",
       "    #TJK2QYWXFOMDR .grt-vrule-2 {\n",
       "        border-left: 0px solid #000;\n",
       "    }\n",
       "    #TJK2QYWXFOMDR .grt-left {\n",
       "        text-align: left;\n",
       "    }\n",
       "    #TJK2QYWXFOMDR .grt-center {\n",
       "        text-align: center;\n",
       "    }\n",
       "    #TJK2QYWXFOMDR .grt-right {\n",
       "        text-align: right;\n",
       "        font-variant-numeric: tabular-nums;\n",
       "    }\n",
       "    #TJK2QYWXFOMDR .grt-head {\n",
       "        font-family: \"Times New Roman\", 'Courier New';\n",
       "        font-size: 1.0em;\n",
       "    }\n",
       "    #TJK2QYWXFOMDR .grt-bold {\n",
       "        font-weight: bold;\n",
       "    }\n",
       "\n",
       "    #TJK2QYWXFOMDR .grt-c-0 { width: 5.8em; }\n",
       "    #TJK2QYWXFOMDR .grt-c-1 { width: 30.4em; }\n",
       "</style>\n",
       "<table id=\"TJK2QYWXFOMDR\">\n",
       "<colgroup>\n",
       "<col style=\"width: 3.48em;\"/>\n",
       "<col style=\"width: 18.24em;\"/>\n",
       "</colgroup>\n",
       "<thead>\n",
       "<tr>\n",
       "<th class=\"grt-left\">index</th>\n",
       "<th class=\"grt-center grt-vrule-index\" colspan=\"1\">822</th>\n",
       "</tr>\n",
       "</thead>\n",
       "<tbody>\n",
       "<tr>\n",
       "<td class=\"grt-c-0 grt-left\">title</td>\n",
       "<td class=\"grt-c-1 grt-left grt-vrule-index\">{Identity-based encryption from the Weil pairing}</td>\n",
       "</tr>\n",
       "<tr>\n",
       "<td class=\"grt-c-0 grt-left\">abstract</td>\n",
       "<td class=\"grt-c-1 grt-left grt-vrule-index\">7000 GS citations!</td>\n",
       "</tr>\n",
       "</tbody>\n",
       "</table></div>"
      ],
      "text/latex": [
       "\n",
       "\\begin{tikzpicture}[\n",
       "    auto,\n",
       "    transform shape,\n",
       "    nosep/.style={inner sep=0},\n",
       "    table/.style={\n",
       "        matrix of nodes,\n",
       "        row sep=0.125em,\n",
       "        column sep=0.375em,\n",
       "        nodes in empty cells,\n",
       "        nodes={rectangle, scale=0.635, text badly ragged },\n",
       "\trow 1/.style={nodes={text=black, anchor=north, inner ysep=0, text height=0, text depth=0}},\n",
       "\trow 2/.style={nodes={text=black, anchor=south, inner ysep=.2em, minimum height=1.3em, font=\\bfseries}},\n",
       "\tcolumn  1/.style={nodes={align=left  }, text height=0.9em, text depth=0.2em, inner xsep=0.375em, inner ysep=0, text width=4.80em},\n",
       "\tcolumn  2/.style={nodes={align=left  }, nosep, text width=46.30em},\n",
       "\tcolumn  3/.style={text height=0.9em, text depth=0.2em, nosep, text width=0em}\t}]\n",
       "\\matrix (TJK2QYWXFOMDR) [table, ampersand replacement=\\&]{\n",
       "          \\&                                                   \\& \\\\\n",
       " index\\grtspacer \\& 822\\grtspacer                                     \\& \\\\\n",
       " title    \\& {Identity-based encryption from the Weil pairing} \\& \\\\\n",
       " abstract \\& 7000 GS citations!                                \\& \\\\\n",
       "};\n",
       "\n",
       "\\path[draw, thick] (TJK2QYWXFOMDR-1-1.south west)  -- (TJK2QYWXFOMDR-1-3.south east);\n",
       "\\path[draw, semithick] ([yshift=-0.0625em]TJK2QYWXFOMDR-2-1.south west)  -- ([yshift=-0.0625em]TJK2QYWXFOMDR-2-3.south east);\n",
       "\\path[draw, thick] ([yshift=-0.3125em]TJK2QYWXFOMDR-4-1.base west)  -- ([yshift=-0.3125em]TJK2QYWXFOMDR-4-3.base east);\n",
       "\\path[draw, very thin] ([xshift=-0.1875em]TJK2QYWXFOMDR-1-2.south west)  -- ([yshift=-0.3125em, xshift=-0.1875em]TJK2QYWXFOMDR-4-2.base west);\n",
       "\n",
       "\n",
       "\n",
       "\\end{tikzpicture}\n"
      ],
      "text/plain": [
       "GreaterTable(df_id=TJK2QYWXFOMDR)"
      ]
     },
     "execution_count": 686,
     "metadata": {},
     "output_type": "execute_result"
    },
    {
     "name": "stdout",
     "output_type": "stream",
     "text": [
      "time: 47 ms (started: 2025-05-20 08:27:35 +01:00)\n"
     ]
    }
   ],
   "source": [
    "fGT(df.loc[822, ['title', 'abstract']])"
   ]
  },
  {
   "cell_type": "code",
   "execution_count": null,
   "id": "706376df-973b-427d-8176-510445391d03",
   "metadata": {},
   "outputs": [],
   "source": []
  },
  {
   "cell_type": "code",
   "execution_count": 763,
   "id": "3b8b3583-084a-4139-9667-cf64aaf0d40b",
   "metadata": {},
   "outputs": [
    {
     "data": {
      "text/plain": [
       "124     195\n",
       "146    6652\n",
       "228    1750\n",
       "229    5345\n",
       "233      66\n",
       "Name: 0, dtype: object"
      ]
     },
     "execution_count": 763,
     "metadata": {},
     "output_type": "execute_result"
    },
    {
     "name": "stdout",
     "output_type": "stream",
     "text": [
      "time: 16 ms (started: 2025-05-20 08:46:01 +01:00)\n"
     ]
    }
   ],
   "source": [
    "w = v.map(parse_citations)\n",
    "w.head()"
   ]
  },
  {
   "cell_type": "code",
   "execution_count": 764,
   "id": "5b90b16f-727f-40b0-813d-724549bbf3d0",
   "metadata": {},
   "outputs": [
    {
     "data": {
      "text/plain": [
       "'500'"
      ]
     },
     "execution_count": 764,
     "metadata": {},
     "output_type": "execute_result"
    },
    {
     "name": "stdout",
     "output_type": "stream",
     "text": [
      "time: 16 ms (started: 2025-05-20 08:46:03 +01:00)\n"
     ]
    }
   ],
   "source": [
    "v[2780]"
   ]
  },
  {
   "cell_type": "code",
   "execution_count": 765,
   "id": "0bd4fe51-b62e-4487-9420-ddc27899db62",
   "metadata": {},
   "outputs": [
    {
     "data": {
      "text/html": [
       "<div>\n",
       "<style scoped>\n",
       "    .dataframe tbody tr th:only-of-type {\n",
       "        vertical-align: middle;\n",
       "    }\n",
       "\n",
       "    .dataframe tbody tr th {\n",
       "        vertical-align: top;\n",
       "    }\n",
       "\n",
       "    .dataframe thead th {\n",
       "        text-align: right;\n",
       "    }\n",
       "</style>\n",
       "<table border=\"1\" class=\"dataframe\">\n",
       "  <thead>\n",
       "    <tr style=\"text-align: right;\">\n",
       "      <th></th>\n",
       "      <th>author</th>\n",
       "      <th>year</th>\n",
       "      <th>abstract</th>\n",
       "    </tr>\n",
       "  </thead>\n",
       "  <tbody>\n",
       "    <tr>\n",
       "      <th>5431</th>\n",
       "      <td>Bunz, Benedikt and Bootle, Jonathan and Boneh,...</td>\n",
       "      <td>2018</td>\n",
       "      <td>Boneh - 71444 citations...h = 108; Stanford</td>\n",
       "    </tr>\n",
       "  </tbody>\n",
       "</table>\n",
       "</div>"
      ],
      "text/plain": [
       "                                                 author  year  \\\n",
       "5431  Bunz, Benedikt and Bootle, Jonathan and Boneh,...  2018   \n",
       "\n",
       "                                         abstract  \n",
       "5431  Boneh - 71444 citations...h = 108; Stanford  "
      ]
     },
     "execution_count": 765,
     "metadata": {},
     "output_type": "execute_result"
    },
    {
     "name": "stdout",
     "output_type": "stream",
     "text": [
      "time: 32 ms (started: 2025-05-20 08:46:05 +01:00)\n"
     ]
    }
   ],
   "source": [
    "df.loc[w[w.str.contains('Unab', regex=True, na=False)].index, ['author', 'year', 'abstract']]"
   ]
  },
  {
   "cell_type": "code",
   "execution_count": 721,
   "id": "5885bd14-8b7b-4301-a47f-b109109ab652",
   "metadata": {},
   "outputs": [
    {
     "data": {
      "text/plain": [
       "Series([], Name: 0, dtype: object)"
      ]
     },
     "execution_count": 721,
     "metadata": {},
     "output_type": "execute_result"
    },
    {
     "name": "stdout",
     "output_type": "stream",
     "text": [
      "time: 16 ms (started: 2025-05-20 08:35:23 +01:00)\n"
     ]
    }
   ],
   "source": [
    "w[w.str.contains('195', regex=True, na=False)]"
   ]
  },
  {
   "cell_type": "code",
   "execution_count": 711,
   "id": "c0a568b9-1bab-4e2d-951e-f4a31b775f8f",
   "metadata": {},
   "outputs": [
    {
     "data": {
      "text/plain": [
       "'195 '"
      ]
     },
     "execution_count": 711,
     "metadata": {},
     "output_type": "execute_result"
    },
    {
     "name": "stdout",
     "output_type": "stream",
     "text": [
      "time: 15 ms (started: 2025-05-20 08:33:16 +01:00)\n"
     ]
    }
   ],
   "source": [
    "v[124]"
   ]
  },
  {
   "cell_type": "code",
   "execution_count": null,
   "id": "9f2488a4-7034-488b-9d30-2968778a643a",
   "metadata": {},
   "outputs": [],
   "source": [
    "# apply extract and parse\n",
    "fGT(v.map(parse_citations))"
   ]
  },
  {
   "cell_type": "code",
   "execution_count": null,
   "id": "bfe44665-ac69-486e-b093-785b1359940d",
   "metadata": {},
   "outputs": [],
   "source": []
  },
  {
   "cell_type": "markdown",
   "id": "db6bd1c6-7ded-48fe-99ec-042c0219edf5",
   "metadata": {},
   "source": [
    "# Encoding check - via Excel"
   ]
  },
  {
   "cell_type": "code",
   "execution_count": 768,
   "id": "cde1d774-86fd-47b0-b7dd-f30979cc479a",
   "metadata": {},
   "outputs": [
    {
     "name": "stdout",
     "output_type": "stream",
     "text": [
      "time: 15 ms (started: 2025-05-20 22:44:48 +01:00)\n"
     ]
    }
   ],
   "source": [
    "test = pd.DataFrame([(i, chr(i)) for i in range(65, 10000)], columns=['ord', 'char'])"
   ]
  },
  {
   "cell_type": "code",
   "execution_count": 770,
   "id": "3a0050e3-fd06-4887-af6c-01263af800a5",
   "metadata": {},
   "outputs": [
    {
     "name": "stdout",
     "output_type": "stream",
     "text": [
      "time: 16 ms (started: 2025-05-20 22:45:16 +01:00)\n"
     ]
    }
   ],
   "source": [
    "test.to_csv('dm.csv', encoding='utf-8-sig')"
   ]
  },
  {
   "cell_type": "code",
   "execution_count": 776,
   "id": "673d0447-da29-469e-a918-ecbe1dec8c23",
   "metadata": {},
   "outputs": [
    {
     "name": "stdout",
     "output_type": "stream",
     "text": [
      "time: 16 ms (started: 2025-05-20 22:49:19 +01:00)\n"
     ]
    }
   ],
   "source": [
    "test2 = pd.read_csv('dm2.csv', encoding='utf-8-sig', index_col=0)"
   ]
  },
  {
   "cell_type": "code",
   "execution_count": 777,
   "id": "b5617a62-cee2-4851-a0f7-ac338d4f5cdd",
   "metadata": {},
   "outputs": [
    {
     "data": {
      "text/html": [
       "<div>\n",
       "<style scoped>\n",
       "    .dataframe tbody tr th:only-of-type {\n",
       "        vertical-align: middle;\n",
       "    }\n",
       "\n",
       "    .dataframe tbody tr th {\n",
       "        vertical-align: top;\n",
       "    }\n",
       "\n",
       "    .dataframe thead th {\n",
       "        text-align: right;\n",
       "    }\n",
       "</style>\n",
       "<table border=\"1\" class=\"dataframe\">\n",
       "  <thead>\n",
       "    <tr style=\"text-align: right;\">\n",
       "      <th></th>\n",
       "      <th>ord</th>\n",
       "      <th>char</th>\n",
       "    </tr>\n",
       "  </thead>\n",
       "  <tbody>\n",
       "    <tr>\n",
       "      <th>0</th>\n",
       "      <td>65</td>\n",
       "      <td>A</td>\n",
       "    </tr>\n",
       "    <tr>\n",
       "      <th>1</th>\n",
       "      <td>66</td>\n",
       "      <td>B</td>\n",
       "    </tr>\n",
       "    <tr>\n",
       "      <th>2</th>\n",
       "      <td>67</td>\n",
       "      <td>C</td>\n",
       "    </tr>\n",
       "    <tr>\n",
       "      <th>3</th>\n",
       "      <td>68</td>\n",
       "      <td>D</td>\n",
       "    </tr>\n",
       "    <tr>\n",
       "      <th>4</th>\n",
       "      <td>69</td>\n",
       "      <td>E</td>\n",
       "    </tr>\n",
       "  </tbody>\n",
       "</table>\n",
       "</div>"
      ],
      "text/plain": [
       "   ord char\n",
       "0   65    A\n",
       "1   66    B\n",
       "2   67    C\n",
       "3   68    D\n",
       "4   69    E"
      ]
     },
     "execution_count": 777,
     "metadata": {},
     "output_type": "execute_result"
    },
    {
     "name": "stdout",
     "output_type": "stream",
     "text": [
      "time: 0 ns (started: 2025-05-20 22:49:20 +01:00)\n"
     ]
    }
   ],
   "source": [
    "test2.head()"
   ]
  },
  {
   "cell_type": "code",
   "execution_count": 779,
   "id": "e1d8cb25-932d-41e9-a606-3439800a6c97",
   "metadata": {},
   "outputs": [
    {
     "data": {
      "text/plain": [
       "True"
      ]
     },
     "execution_count": 779,
     "metadata": {},
     "output_type": "execute_result"
    },
    {
     "name": "stdout",
     "output_type": "stream",
     "text": [
      "time: 0 ns (started: 2025-05-20 22:49:40 +01:00)\n"
     ]
    }
   ],
   "source": [
    "all(test2==test)"
   ]
  },
  {
   "cell_type": "code",
   "execution_count": 772,
   "id": "0035d868-94f4-45c3-a6e5-9f59b60bff74",
   "metadata": {},
   "outputs": [
    {
     "data": {
      "text/html": [
       "<div class=\"greater-table\">\n",
       "<style>\n",
       "    #T23FTHWODYRQU  {\n",
       "    border-collapse: collapse;\n",
       "    font-family: \"Roboto\", \"Open Sans Condensed\", \"Arial\", 'Segoe UI', sans-serif;\n",
       "    font-size: 0.9em;\n",
       "    width: auto;\n",
       "    \n",
       "    margin: 10px auto;\n",
       "    border: none;\n",
       "    overflow: auto;\n",
       "    margin-left: auto;\n",
       "    margin-right: auto;\n",
       "    }\n",
       "    \n",
       "    #T23FTHWODYRQU caption {\n",
       "        padding: 4px 10px 2px 10px;\n",
       "        font-size: 1.1em;\n",
       "        text-align: center;\n",
       "        font-weight: normal;\n",
       "        caption-side: top;\n",
       "    }\n",
       "    #T23FTHWODYRQU thead {\n",
       "        \n",
       "        border-top: 1px solid #000;\n",
       "        border-bottom: 1px solid #000;\n",
       "        font-size: 1.0em;\n",
       "        }\n",
       "    #T23FTHWODYRQU tbody {\n",
       "        \n",
       "        border-bottom: 1px solid #000;\n",
       "        }\n",
       "    #T23FTHWODYRQU th  {\n",
       "        vertical-align: bottom;\n",
       "        padding: 4px 10px 4px 10px;\n",
       "    }\n",
       "    #T23FTHWODYRQU td {\n",
       "        \n",
       "        padding: 2px 10px 2px 10px;\n",
       "        vertical-align: top;\n",
       "    }\n",
       "    \n",
       "    #T23FTHWODYRQU .grt-hrule-0 {\n",
       "        border-top: 0px solid #000;\n",
       "    }\n",
       "    #T23FTHWODYRQU .grt-hrule-1 {\n",
       "        border-top: 0px solid #000;\n",
       "    }\n",
       "    #T23FTHWODYRQU .grt-hrule-2 {\n",
       "        border-top: 0px solid #000;\n",
       "    }\n",
       "    \n",
       "    #T23FTHWODYRQU .grt-bhrule-0 {\n",
       "        border-bottom: 0px solid #000;\n",
       "    }\n",
       "    #T23FTHWODYRQU .grt-bhrule-1 {\n",
       "        border-bottom: 0px solid #000;\n",
       "    }\n",
       "    #T23FTHWODYRQU .grt-vrule-index {\n",
       "        border-left: 1px solid #000;\n",
       "    }\n",
       "    #T23FTHWODYRQU .grt-vrule-0 {\n",
       "        border-left: 0px solid #000;\n",
       "    }\n",
       "    #T23FTHWODYRQU .grt-vrule-1 {\n",
       "        border-left: 0px solid #000;\n",
       "    }\n",
       "    #T23FTHWODYRQU .grt-vrule-2 {\n",
       "        border-left: 0px solid #000;\n",
       "    }\n",
       "    #T23FTHWODYRQU .grt-left {\n",
       "        text-align: left;\n",
       "    }\n",
       "    #T23FTHWODYRQU .grt-center {\n",
       "        text-align: center;\n",
       "    }\n",
       "    #T23FTHWODYRQU .grt-right {\n",
       "        text-align: right;\n",
       "        font-variant-numeric: tabular-nums;\n",
       "    }\n",
       "    #T23FTHWODYRQU .grt-head {\n",
       "        font-family: \"Times New Roman\", 'Courier New';\n",
       "        font-size: 1.0em;\n",
       "    }\n",
       "    #T23FTHWODYRQU .grt-bold {\n",
       "        font-weight: bold;\n",
       "    }\n",
       "\n",
       "    #T23FTHWODYRQU .grt-c-0 { width: 4.0em; }\n",
       "    #T23FTHWODYRQU .grt-c-1 { width: 2.8000000000000003em; }\n",
       "    #T23FTHWODYRQU .grt-c-2 { width: 3.4em; }\n",
       "</style>\n",
       "<table id=\"T23FTHWODYRQU\">\n",
       "<colgroup>\n",
       "<col style=\"width: 2.4em;\"/>\n",
       "<col style=\"width: 1.6800000000000002em;\"/>\n",
       "<col style=\"width: 2.04em;\"/>\n",
       "</colgroup>\n",
       "<thead>\n",
       "<tr>\n",
       "<th class=\"grt-left\">index</th>\n",
       "<th class=\"grt-center grt-vrule-index\" colspan=\"1\">ord</th>\n",
       "<th class=\"grt-center grt-vrule-0\" colspan=\"1\">char</th>\n",
       "</tr>\n",
       "</thead>\n",
       "<tbody>\n",
       "<tr>\n",
       "<td class=\"grt-c-0 grt-left\">0</td>\n",
       "<td class=\"grt-c-1 grt-right grt-vrule-index\">65</td>\n",
       "<td class=\"grt-c-2 grt-left grt-vrule-0\">A</td>\n",
       "</tr>\n",
       "<tr>\n",
       "<td class=\"grt-c-0 grt-left\">1</td>\n",
       "<td class=\"grt-c-1 grt-right grt-vrule-index\">66</td>\n",
       "<td class=\"grt-c-2 grt-left grt-vrule-0\">B</td>\n",
       "</tr>\n",
       "<tr>\n",
       "<td class=\"grt-c-0 grt-left\">2</td>\n",
       "<td class=\"grt-c-1 grt-right grt-vrule-index\">67</td>\n",
       "<td class=\"grt-c-2 grt-left grt-vrule-0\">C</td>\n",
       "</tr>\n",
       "<tr>\n",
       "<td class=\"grt-c-0 grt-left\">3</td>\n",
       "<td class=\"grt-c-1 grt-right grt-vrule-index\">68</td>\n",
       "<td class=\"grt-c-2 grt-left grt-vrule-0\">D</td>\n",
       "</tr>\n",
       "<tr>\n",
       "<td class=\"grt-c-0 grt-left\">4</td>\n",
       "<td class=\"grt-c-1 grt-right grt-vrule-index\">69</td>\n",
       "<td class=\"grt-c-2 grt-left grt-vrule-0\">E</td>\n",
       "</tr>\n",
       "</tbody>\n",
       "</table></div>"
      ],
      "text/latex": [
       "\n",
       "\\begin{tikzpicture}[\n",
       "    auto,\n",
       "    transform shape,\n",
       "    nosep/.style={inner sep=0},\n",
       "    table/.style={\n",
       "        matrix of nodes,\n",
       "        row sep=0.125em,\n",
       "        column sep=0.375em,\n",
       "        nodes in empty cells,\n",
       "        nodes={rectangle, scale=0.635, text badly ragged },\n",
       "\trow 1/.style={nodes={text=black, anchor=north, inner ysep=0, text height=0, text depth=0}},\n",
       "\trow 2/.style={nodes={text=black, anchor=south, inner ysep=.2em, minimum height=1.3em, font=\\bfseries}},\n",
       "\tcolumn  1/.style={nodes={align=left  }, text height=0.9em, text depth=0.2em, inner xsep=0.375em, inner ysep=0, text width=3.00em},\n",
       "\tcolumn  2/.style={nodes={align=right }, nosep, text width=2.83em},\n",
       "\tcolumn  3/.style={nodes={align=left  }, nosep, text width=3.78em},\n",
       "\tcolumn  4/.style={text height=0.9em, text depth=0.2em, nosep, text width=0em}\t}]\n",
       "\\matrix (T23FTHWODYRQU) [table, ampersand replacement=\\&]{\n",
       "   \\&    \\&   \\& \\\\\n",
       " index\\grtspacer \\& ord\\grtspacer \\& char\\grtspacer \\& \\\\\n",
       " 0 \\& 65 \\& A \\& \\\\\n",
       " 1 \\& 66 \\& B \\& \\\\\n",
       " 2 \\& 67 \\& C \\& \\\\\n",
       " 3 \\& 68 \\& D \\& \\\\\n",
       " 4 \\& 69 \\& E \\& \\\\\n",
       "};\n",
       "\n",
       "\\path[draw, thick] (T23FTHWODYRQU-1-1.south west)  -- (T23FTHWODYRQU-1-4.south east);\n",
       "\\path[draw, semithick] ([yshift=-0.0625em]T23FTHWODYRQU-2-1.south west)  -- ([yshift=-0.0625em]T23FTHWODYRQU-2-4.south east);\n",
       "\\path[draw, thick] ([yshift=-0.3125em]T23FTHWODYRQU-7-1.base west)  -- ([yshift=-0.3125em]T23FTHWODYRQU-7-4.base east);\n",
       "\\path[draw, very thin] ([xshift=-0.1875em]T23FTHWODYRQU-1-2.south west)  -- ([yshift=-0.3125em, xshift=-0.1875em]T23FTHWODYRQU-7-2.base west);\n",
       "\n",
       "\n",
       "\n",
       "\\end{tikzpicture}\n"
      ],
      "text/plain": [
       "GreaterTable(df_id=T23FTHWODYRQU)"
      ]
     },
     "execution_count": 772,
     "metadata": {},
     "output_type": "execute_result"
    },
    {
     "name": "stdout",
     "output_type": "stream",
     "text": [
      "time: 15 ms (started: 2025-05-20 22:48:29 +01:00)\n"
     ]
    }
   ],
   "source": [
    "fGT(test.head())"
   ]
  },
  {
   "cell_type": "markdown",
   "id": "55918439-1ee7-435b-acba-74bb10f5c486",
   "metadata": {},
   "source": [
    "# Searching"
   ]
  },
  {
   "cell_type": "code",
   "execution_count": null,
   "id": "82f618ac-cd1c-4288-a0e5-f8de97bb6aa6",
   "metadata": {},
   "outputs": [],
   "source": [
    "b.df.loc[b.df.author.str.contains('Bloch|Deligne', regex=True, case=False).fillna(False)]"
   ]
  },
  {
   "cell_type": "code",
   "execution_count": null,
   "id": "102453ea-04b7-4a50-a84b-84d538c8a17d",
   "metadata": {},
   "outputs": [],
   "source": []
  },
  {
   "cell_type": "markdown",
   "id": "fb09872e-b6aa-40a8-aa43-1c4aadf7ccbe",
   "metadata": {},
   "source": [
    "# Bibtex parser read\n",
    "to  prove it is very slow. "
   ]
  },
  {
   "cell_type": "code",
   "execution_count": 42,
   "id": "447b3fa7-4841-4ad4-9f53-cbaf7d81cb48",
   "metadata": {},
   "outputs": [
    {
     "data": {
      "text/plain": [
       "('library.bib', WindowsPath('library.bib'), True, 'books.bib')"
      ]
     },
     "execution_count": 42,
     "metadata": {},
     "output_type": "execute_result"
    },
    {
     "name": "stdout",
     "output_type": "stream",
     "text": [
      "time: 0 ns (started: 2025-05-17 10:12:17 +01:00)\n"
     ]
    }
   ],
   "source": [
    "scbt.LIBRARY_BIB, p, p.exists(), scbt.BOOKS_BIB"
   ]
  },
  {
   "cell_type": "code",
   "execution_count": 43,
   "id": "fd74af9d-b7f1-4e4c-ba3b-1f5ddc406c9a",
   "metadata": {},
   "outputs": [
    {
     "name": "stdout",
     "output_type": "stream",
     "text": [
      "time: 437 ms (started: 2025-05-17 10:12:29 +01:00)\n"
     ]
    }
   ],
   "source": [
    "bdb = scbt.bibtex_read() # too slow... scbt.BOOKS_BIB)"
   ]
  },
  {
   "cell_type": "code",
   "execution_count": 44,
   "id": "a63b30c5-f861-49a9-b7fd-7be67de638d9",
   "metadata": {},
   "outputs": [
    {
     "ename": "TypeError",
     "evalue": "object of type 'BibDatabase' has no len()",
     "output_type": "error",
     "traceback": [
      "\u001b[1;31m---------------------------------------------------------------------------\u001b[0m",
      "\u001b[1;31mTypeError\u001b[0m                                 Traceback (most recent call last)",
      "Cell \u001b[1;32mIn[44], line 1\u001b[0m\n\u001b[1;32m----> 1\u001b[0m \u001b[38;5;28;43mlen\u001b[39;49m\u001b[43m(\u001b[49m\u001b[43mbdb\u001b[49m\u001b[43m)\u001b[49m\n",
      "\u001b[1;31mTypeError\u001b[0m: object of type 'BibDatabase' has no len()"
     ]
    },
    {
     "name": "stdout",
     "output_type": "stream",
     "text": [
      "time: 47 ms (started: 2025-05-17 10:12:36 +01:00)\n"
     ]
    }
   ],
   "source": [
    "len(bdb)"
   ]
  },
  {
   "cell_type": "code",
   "execution_count": null,
   "id": "24d264c7-2bf1-4c58-a94b-5b072cb5b591",
   "metadata": {},
   "outputs": [],
   "source": []
  }
 ],
 "metadata": {
  "kernelspec": {
   "display_name": "Python 3 (ipykernel)",
   "language": "python",
   "name": "python3"
  },
  "language_info": {
   "codemirror_mode": {
    "name": "ipython",
    "version": 3
   },
   "file_extension": ".py",
   "mimetype": "text/x-python",
   "name": "python",
   "nbconvert_exporter": "python",
   "pygments_lexer": "ipython3",
   "version": "3.10.14"
  }
 },
 "nbformat": 4,
 "nbformat_minor": 5
}
