{
 "cells": [
  {
   "cell_type": "markdown",
   "id": "1dd3d7d5-25d7-4bcd-9189-3223cdbef451",
   "metadata": {
    "jp-MarkdownHeadingCollapsed": true
   },
   "source": [
    "# Various snippets to keep other files tidy\n",
    "## Provenance\n",
    "\n",
    "* Created new 2025-05-21"
   ]
  },
  {
   "cell_type": "markdown",
   "id": "27b1f9b2-ef46-4f79-85d5-d2ff7680032b",
   "metadata": {},
   "source": [
    "# Files and file match"
   ]
  },
  {
   "cell_type": "code",
   "execution_count": null,
   "id": "23df1ccc-9305-4581-bbb5-25e70b172f67",
   "metadata": {},
   "outputs": [],
   "source": []
  },
  {
   "cell_type": "code",
   "execution_count": 550,
   "id": "081e4aae-aaff-478b-b826-6f93317e3ca2",
   "metadata": {},
   "outputs": [
    {
     "name": "stdout",
     "output_type": "stream",
     "text": [
      "time: 969 ms (started: 2025-05-19 21:03:13 +01:00)\n"
     ]
    }
   ],
   "source": [
    "b._file_field_df = None\n",
    "ffdf = b.file_field_df"
   ]
  },
  {
   "cell_type": "code",
   "execution_count": 551,
   "id": "f1c96e36-562f-42ca-84d1-8d6e46d65f88",
   "metadata": {},
   "outputs": [
    {
     "data": {
      "text/plain": [
       "6079"
      ]
     },
     "execution_count": 551,
     "metadata": {},
     "output_type": "execute_result"
    },
    {
     "name": "stdout",
     "output_type": "stream",
     "text": [
      "time: 0 ns (started: 2025-05-19 21:03:15 +01:00)\n"
     ]
    }
   ],
   "source": [
    "len(ffdf)"
   ]
  },
  {
   "cell_type": "code",
   "execution_count": 553,
   "id": "b2eb732b-c8b0-40e9-84ee-79d8156b423b",
   "metadata": {},
   "outputs": [
    {
     "data": {
      "text/plain": [
       "True"
      ]
     },
     "execution_count": 553,
     "metadata": {},
     "output_type": "execute_result"
    },
    {
     "name": "stdout",
     "output_type": "stream",
     "text": [
      "time: 0 ns (started: 2025-05-19 21:03:21 +01:00)\n"
     ]
    }
   ],
   "source": [
    "all(ffdf.index == ffdf.idx)"
   ]
  },
  {
   "cell_type": "code",
   "execution_count": 554,
   "id": "126ce363-e503-4483-97ee-dbe0c791330d",
   "metadata": {},
   "outputs": [
    {
     "data": {
      "text/html": [
       "<div>\n",
       "<style scoped>\n",
       "    .dataframe tbody tr th:only-of-type {\n",
       "        vertical-align: middle;\n",
       "    }\n",
       "\n",
       "    .dataframe tbody tr th {\n",
       "        vertical-align: top;\n",
       "    }\n",
       "\n",
       "    .dataframe thead th {\n",
       "        text-align: right;\n",
       "    }\n",
       "</style>\n",
       "<table border=\"1\" class=\"dataframe\">\n",
       "  <thead>\n",
       "    <tr style=\"text-align: right;\">\n",
       "      <th></th>\n",
       "      <th>idx</th>\n",
       "      <th>drive</th>\n",
       "      <th>file</th>\n",
       "      <th>type</th>\n",
       "    </tr>\n",
       "    <tr>\n",
       "      <th>i</th>\n",
       "      <th></th>\n",
       "      <th></th>\n",
       "      <th></th>\n",
       "      <th></th>\n",
       "    </tr>\n",
       "  </thead>\n",
       "  <tbody>\n",
       "    <tr>\n",
       "      <th>1</th>\n",
       "      <td>1</td>\n",
       "      <td>C\\</td>\n",
       "      <td>/S/Library/Schmidt/2003_The true invariant of ...</td>\n",
       "      <td>pdf</td>\n",
       "    </tr>\n",
       "    <tr>\n",
       "      <th>2</th>\n",
       "      <td>2</td>\n",
       "      <td>C\\</td>\n",
       "      <td>/S/Library/Bahnemann/2015_Distributions for Ac...</td>\n",
       "      <td>pdf</td>\n",
       "    </tr>\n",
       "    <tr>\n",
       "      <th>2</th>\n",
       "      <td>2</td>\n",
       "      <td>C\\</td>\n",
       "      <td>/S/Library/Bahnemann/2015_Distributions for Ac...</td>\n",
       "      <td>pdf</td>\n",
       "    </tr>\n",
       "    <tr>\n",
       "      <th>3</th>\n",
       "      <td>3</td>\n",
       "      <td>C\\</td>\n",
       "      <td>/S/Library/Khoshnevisan/2011_Topics in Probabi...</td>\n",
       "      <td>pdf</td>\n",
       "    </tr>\n",
       "    <tr>\n",
       "      <th>4</th>\n",
       "      <td>4</td>\n",
       "      <td>C\\</td>\n",
       "      <td>/S/Library/Mahul/2003_Efficient Risk Sharing w...</td>\n",
       "      <td>pdf</td>\n",
       "    </tr>\n",
       "  </tbody>\n",
       "</table>\n",
       "</div>"
      ],
      "text/plain": [
       "   idx drive                                               file type\n",
       "i                                                                   \n",
       "1    1    C\\  /S/Library/Schmidt/2003_The true invariant of ...  pdf\n",
       "2    2    C\\  /S/Library/Bahnemann/2015_Distributions for Ac...  pdf\n",
       "2    2    C\\  /S/Library/Bahnemann/2015_Distributions for Ac...  pdf\n",
       "3    3    C\\  /S/Library/Khoshnevisan/2011_Topics in Probabi...  pdf\n",
       "4    4    C\\  /S/Library/Mahul/2003_Efficient Risk Sharing w...  pdf"
      ]
     },
     "execution_count": 554,
     "metadata": {},
     "output_type": "execute_result"
    },
    {
     "name": "stdout",
     "output_type": "stream",
     "text": [
      "time: 32 ms (started: 2025-05-19 21:03:23 +01:00)\n"
     ]
    }
   ],
   "source": [
    "ffdf.head()"
   ]
  },
  {
   "cell_type": "code",
   "execution_count": 541,
   "id": "d2a681ad-13e9-4305-b3e7-13eef6a4dad5",
   "metadata": {},
   "outputs": [
    {
     "data": {
      "text/plain": [
       "6079"
      ]
     },
     "execution_count": 541,
     "metadata": {},
     "output_type": "execute_result"
    },
    {
     "name": "stdout",
     "output_type": "stream",
     "text": [
      "time: 0 ns (started: 2025-05-19 21:00:54 +01:00)\n"
     ]
    }
   ],
   "source": [
    "len(ffdf)"
   ]
  },
  {
   "cell_type": "code",
   "execution_count": 560,
   "id": "d66877d5-4924-44fd-b4ee-6d0128dcca84",
   "metadata": {},
   "outputs": [
    {
     "data": {
      "text/html": [
       "<div>\n",
       "<style scoped>\n",
       "    .dataframe tbody tr th:only-of-type {\n",
       "        vertical-align: middle;\n",
       "    }\n",
       "\n",
       "    .dataframe tbody tr th {\n",
       "        vertical-align: top;\n",
       "    }\n",
       "\n",
       "    .dataframe thead th {\n",
       "        text-align: right;\n",
       "    }\n",
       "</style>\n",
       "<table border=\"1\" class=\"dataframe\">\n",
       "  <thead>\n",
       "    <tr style=\"text-align: right;\">\n",
       "      <th></th>\n",
       "      <th>count</th>\n",
       "    </tr>\n",
       "    <tr>\n",
       "      <th>idx</th>\n",
       "      <th></th>\n",
       "    </tr>\n",
       "  </thead>\n",
       "  <tbody>\n",
       "    <tr>\n",
       "      <th>2</th>\n",
       "      <td>2</td>\n",
       "    </tr>\n",
       "    <tr>\n",
       "      <th>76</th>\n",
       "      <td>2</td>\n",
       "    </tr>\n",
       "    <tr>\n",
       "      <th>380</th>\n",
       "      <td>2</td>\n",
       "    </tr>\n",
       "    <tr>\n",
       "      <th>420</th>\n",
       "      <td>2</td>\n",
       "    </tr>\n",
       "    <tr>\n",
       "      <th>453</th>\n",
       "      <td>2</td>\n",
       "    </tr>\n",
       "    <tr>\n",
       "      <th>...</th>\n",
       "      <td>...</td>\n",
       "    </tr>\n",
       "    <tr>\n",
       "      <th>2797</th>\n",
       "      <td>3</td>\n",
       "    </tr>\n",
       "    <tr>\n",
       "      <th>3077</th>\n",
       "      <td>3</td>\n",
       "    </tr>\n",
       "    <tr>\n",
       "      <th>4823</th>\n",
       "      <td>3</td>\n",
       "    </tr>\n",
       "    <tr>\n",
       "      <th>5201</th>\n",
       "      <td>3</td>\n",
       "    </tr>\n",
       "    <tr>\n",
       "      <th>6015</th>\n",
       "      <td>3</td>\n",
       "    </tr>\n",
       "  </tbody>\n",
       "</table>\n",
       "<p>118 rows × 1 columns</p>\n",
       "</div>"
      ],
      "text/plain": [
       "      count\n",
       "idx        \n",
       "2         2\n",
       "76        2\n",
       "380       2\n",
       "420       2\n",
       "453       2\n",
       "...     ...\n",
       "2797      3\n",
       "3077      3\n",
       "4823      3\n",
       "5201      3\n",
       "6015      3\n",
       "\n",
       "[118 rows x 1 columns]"
      ]
     },
     "execution_count": 560,
     "metadata": {},
     "output_type": "execute_result"
    },
    {
     "name": "stdout",
     "output_type": "stream",
     "text": [
      "time: 31 ms (started: 2025-05-19 21:04:20 +01:00)\n"
     ]
    }
   ],
   "source": [
    "ffdf.groupby(by='idx').file.count().to_frame('count').query('count > 1').sort_values('count')"
   ]
  },
  {
   "cell_type": "code",
   "execution_count": 561,
   "id": "72b7fa7b-789f-4640-846d-27a71f671d74",
   "metadata": {},
   "outputs": [
    {
     "data": {
      "text/plain": [
       "count    246\n",
       "dtype: int64"
      ]
     },
     "execution_count": 561,
     "metadata": {},
     "output_type": "execute_result"
    },
    {
     "name": "stdout",
     "output_type": "stream",
     "text": [
      "time: 0 ns (started: 2025-05-19 21:04:33 +01:00)\n"
     ]
    }
   ],
   "source": [
    "_.sum()"
   ]
  },
  {
   "cell_type": "code",
   "execution_count": null,
   "id": "ea33252e-c5d6-4d6d-85f0-9016115a8f60",
   "metadata": {},
   "outputs": [],
   "source": [
    "missing = []\n",
    "for i, r in ffdf.iterrows():\n",
    "    if not Path(r.file).exists():\n",
    "        print(i, r.file)\n",
    "        missing.append([i, r.file])"
   ]
  },
  {
   "cell_type": "code",
   "execution_count": 526,
   "id": "ea8376a4-89ac-4849-bdfe-c49198a7607c",
   "metadata": {},
   "outputs": [
    {
     "data": {
      "text/plain": [
       "[[5,\n",
       "  \"/S/Library/Jiang, Koo, Wang/2025_The Road Not Taken Evaluating the Consequences of the U.S.'s Non-Adoption of IFRS in 2012.pdf\"],\n",
       " [37,\n",
       "  \"/S/Library/Filipovi{\\\\'{c}}, Svindland/2008_Optimal capital and risk allocations for law- and cash-invariant convex functions.pdf\"],\n",
       " [39,\n",
       "  \"/S/Library/Heras, Balb{\\\\'{a}}s, Vilar/2012_Conditional tail expectation and premium calculation.pdf\"]]"
      ]
     },
     "execution_count": 526,
     "metadata": {},
     "output_type": "execute_result"
    },
    {
     "name": "stdout",
     "output_type": "stream",
     "text": [
      "time: 0 ns (started: 2025-05-19 20:44:06 +01:00)\n"
     ]
    }
   ],
   "source": [
    "missing[:3]"
   ]
  },
  {
   "cell_type": "code",
   "execution_count": 525,
   "id": "25794bb1-c979-4af4-a996-8b0c3a2f400c",
   "metadata": {},
   "outputs": [
    {
     "data": {
      "text/plain": [
       "479"
      ]
     },
     "execution_count": 525,
     "metadata": {},
     "output_type": "execute_result"
    },
    {
     "name": "stdout",
     "output_type": "stream",
     "text": [
      "time: 0 ns (started: 2025-05-19 20:43:58 +01:00)\n"
     ]
    }
   ],
   "source": [
    "len(missing)"
   ]
  },
  {
   "cell_type": "code",
   "execution_count": 314,
   "id": "b81db157-ccd8-4f97-8509-7af04a418460",
   "metadata": {},
   "outputs": [
    {
     "data": {
      "text/plain": [
       "array(['/S/Library/Schmidt/2003_The true invariant of an arbitrage free portfolio.pdf',\n",
       "       '/S/Library/Bahnemann/2015_Distributions for Actuaries.pdf',\n",
       "       '/S/Library/Bahnemann/2015_Distributions for Actuaries(2).pdf',\n",
       "       '/S/Library/Khoshnevisan/2011_Topics in Probability Levy Processes.pdf',\n",
       "       '/S/Library/Mahul/2003_Efficient Risk Sharing within a Catastrophe Insurance Pool.pdf'],\n",
       "      dtype=object)"
      ]
     },
     "execution_count": 314,
     "metadata": {},
     "output_type": "execute_result"
    },
    {
     "name": "stdout",
     "output_type": "stream",
     "text": [
      "time: 0 ns (started: 2025-05-18 21:50:10 +01:00)\n"
     ]
    }
   ],
   "source": [
    "ffdf.head().drop(columns='i').file.values"
   ]
  },
  {
   "cell_type": "code",
   "execution_count": 533,
   "id": "74237198-5393-470a-9266-69c2490f23fc",
   "metadata": {},
   "outputs": [
    {
     "data": {
      "text/plain": [
       "6128"
      ]
     },
     "execution_count": 533,
     "metadata": {},
     "output_type": "execute_result"
    },
    {
     "name": "stdout",
     "output_type": "stream",
     "text": [
      "time: 2.14 s (started: 2025-05-19 20:54:30 +01:00)\n"
     ]
    }
   ],
   "source": [
    "actual_files = [str(i.as_posix()) for i in Path('\\\\S\\\\Library').rglob('*.pdf')]\n",
    "len(actual_files)"
   ]
  },
  {
   "cell_type": "code",
   "execution_count": 534,
   "id": "16de6bc2-5e80-43a0-b21e-abf1fb918533",
   "metadata": {},
   "outputs": [
    {
     "data": {
      "text/plain": [
       "['/S/Library/451 Research/2014_Data Platforms Map.pdf',\n",
       " '/S/Library/451 Research/2015_Data Platform Map.pdf',\n",
       " \"/S/Library/A. M. Best/2004_Best's Insolvency Study, PropertyCasualty U.S. Insurers 1969-2002.pdf\"]"
      ]
     },
     "execution_count": 534,
     "metadata": {},
     "output_type": "execute_result"
    },
    {
     "name": "stdout",
     "output_type": "stream",
     "text": [
      "time: 16 ms (started: 2025-05-19 20:54:33 +01:00)\n"
     ]
    }
   ],
   "source": [
    "actual_files[:3]"
   ]
  },
  {
   "cell_type": "code",
   "execution_count": null,
   "id": "84de74c5-ab1a-4e87-8ba9-f631a0edaaf1",
   "metadata": {},
   "outputs": [],
   "source": []
  },
  {
   "cell_type": "code",
   "execution_count": 537,
   "id": "03ce38da-5e32-4322-9dc9-26b0c7d52c13",
   "metadata": {},
   "outputs": [
    {
     "name": "stdout",
     "output_type": "stream",
     "text": [
      "time: 19.7 s (started: 2025-05-19 20:57:50 +01:00)\n"
     ]
    }
   ],
   "source": [
    "ans = []\n",
    "for i, m in missing:\n",
    "    best_match = min(actual_files,\n",
    "        key=lambda alt: Levenshtein.distance(m, alt))\n",
    "    ans.append([i, m, best_match])"
   ]
  },
  {
   "cell_type": "code",
   "execution_count": null,
   "id": "9ec55d79-ba8c-4c99-823b-8cab25f5261f",
   "metadata": {},
   "outputs": [],
   "source": [
    "ansdf = pd.DataFrame(ans, columns=['idx', 'missing', 'match'])"
   ]
  },
  {
   "cell_type": "code",
   "execution_count": null,
   "id": "afec1279-d095-49cf-bacd-1e9e1fb5d7a9",
   "metadata": {},
   "outputs": [],
   "source": [
    "fGT(ansdf.head(100))"
   ]
  },
  {
   "cell_type": "code",
   "execution_count": null,
   "id": "1ddfc45e-7bb9-43d8-a64a-f3e525334179",
   "metadata": {},
   "outputs": [
    {
     "name": "stdout",
     "output_type": "stream",
     "text": [
      "Best match: apple, Distance: 1\n",
      "time: 125 ms (started: 2025-05-19 20:51:25 +01:00)\n"
     ]
    }
   ],
   "source": [
    "# List of alternatives\n",
    "alts = [\"apple\", \"banana\", \"orange\", \"grape\", \"pineapple\"]\n",
    "\n",
    "# String to match\n",
    "s = \"applle\"\n",
    "\n",
    "# Find the best match using Levenshtein distance\n",
    "best_match = min(alts, key=lambda alt: Levenshtein.distance(s, alt))\n",
    "\n",
    "# Calculate the distance (edit distance)\n",
    "distance = Levenshtein.distance(s, best_match)\n",
    "\n",
    "print(f\"Best match: {best_match}, Distance: {distance}\")"
   ]
  },
  {
   "cell_type": "markdown",
   "id": "baae3d5a-a1fb-4b3a-87ab-7a1cb91a8ab0",
   "metadata": {},
   "source": [
    "# Citations\n",
    "Extracting and parsing."
   ]
  },
  {
   "cell_type": "code",
   "execution_count": null,
   "id": "bef8bd9a-0edd-4b03-a71f-cae06a5ef2aa",
   "metadata": {},
   "outputs": [],
   "source": []
  },
  {
   "cell_type": "code",
   "execution_count": null,
   "id": "bfe44665-ac69-486e-b093-785b1359940d",
   "metadata": {},
   "outputs": [],
   "source": []
  },
  {
   "cell_type": "markdown",
   "id": "55918439-1ee7-435b-acba-74bb10f5c486",
   "metadata": {},
   "source": [
    "# Searching"
   ]
  },
  {
   "cell_type": "code",
   "execution_count": null,
   "id": "82f618ac-cd1c-4288-a0e5-f8de97bb6aa6",
   "metadata": {},
   "outputs": [],
   "source": [
    "b.df.loc[b.df.author.str.contains('Bloch|Deligne', regex=True, case=False).fillna(False)]"
   ]
  },
  {
   "cell_type": "code",
   "execution_count": null,
   "id": "102453ea-04b7-4a50-a84b-84d538c8a17d",
   "metadata": {},
   "outputs": [],
   "source": []
  },
  {
   "cell_type": "markdown",
   "id": "fb09872e-b6aa-40a8-aa43-1c4aadf7ccbe",
   "metadata": {},
   "source": [
    "# Bibtex parser read\n",
    "to  prove it is very slow. "
   ]
  },
  {
   "cell_type": "code",
   "execution_count": 42,
   "id": "447b3fa7-4841-4ad4-9f53-cbaf7d81cb48",
   "metadata": {},
   "outputs": [
    {
     "data": {
      "text/plain": [
       "('library.bib', WindowsPath('library.bib'), True, 'books.bib')"
      ]
     },
     "execution_count": 42,
     "metadata": {},
     "output_type": "execute_result"
    },
    {
     "name": "stdout",
     "output_type": "stream",
     "text": [
      "time: 0 ns (started: 2025-05-17 10:12:17 +01:00)\n"
     ]
    }
   ],
   "source": [
    "scbt.LIBRARY_BIB, p, p.exists(), scbt.BOOKS_BIB"
   ]
  },
  {
   "cell_type": "code",
   "execution_count": 43,
   "id": "fd74af9d-b7f1-4e4c-ba3b-1f5ddc406c9a",
   "metadata": {},
   "outputs": [
    {
     "name": "stdout",
     "output_type": "stream",
     "text": [
      "time: 437 ms (started: 2025-05-17 10:12:29 +01:00)\n"
     ]
    }
   ],
   "source": [
    "bdb = scbt.bibtex_read() # too slow... scbt.BOOKS_BIB)"
   ]
  },
  {
   "cell_type": "code",
   "execution_count": 44,
   "id": "a63b30c5-f861-49a9-b7fd-7be67de638d9",
   "metadata": {},
   "outputs": [
    {
     "ename": "TypeError",
     "evalue": "object of type 'BibDatabase' has no len()",
     "output_type": "error",
     "traceback": [
      "\u001b[1;31m---------------------------------------------------------------------------\u001b[0m",
      "\u001b[1;31mTypeError\u001b[0m                                 Traceback (most recent call last)",
      "Cell \u001b[1;32mIn[44], line 1\u001b[0m\n\u001b[1;32m----> 1\u001b[0m \u001b[38;5;28;43mlen\u001b[39;49m\u001b[43m(\u001b[49m\u001b[43mbdb\u001b[49m\u001b[43m)\u001b[49m\n",
      "\u001b[1;31mTypeError\u001b[0m: object of type 'BibDatabase' has no len()"
     ]
    },
    {
     "name": "stdout",
     "output_type": "stream",
     "text": [
      "time: 47 ms (started: 2025-05-17 10:12:36 +01:00)\n"
     ]
    }
   ],
   "source": [
    "len(bdb)"
   ]
  },
  {
   "cell_type": "code",
   "execution_count": null,
   "id": "24d264c7-2bf1-4c58-a94b-5b072cb5b591",
   "metadata": {},
   "outputs": [],
   "source": []
  }
 ],
 "metadata": {
  "kernelspec": {
   "display_name": "Python 3 (ipykernel)",
   "language": "python",
   "name": "python3"
  },
  "language_info": {
   "codemirror_mode": {
    "name": "ipython",
    "version": 3
   },
   "file_extension": ".py",
   "mimetype": "text/x-python",
   "name": "python",
   "nbconvert_exporter": "python",
   "pygments_lexer": "ipython3",
   "version": "3.10.13"
  }
 },
 "nbformat": 4,
 "nbformat_minor": 5
}
