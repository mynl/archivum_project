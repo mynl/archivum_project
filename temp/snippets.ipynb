{
 "cells": [
  {
   "cell_type": "markdown",
   "id": "1dd3d7d5-25d7-4bcd-9189-3223cdbef451",
   "metadata": {},
   "source": [
    "# Various snippets to keep other files tidy\n",
    "## Provenance\n",
    "\n",
    "* Created new 2025-05-21"
   ]
  },
  {
   "cell_type": "code",
   "execution_count": null,
   "id": "102453ea-04b7-4a50-a84b-84d538c8a17d",
   "metadata": {},
   "outputs": [],
   "source": []
  },
  {
   "cell_type": "markdown",
   "id": "fb09872e-b6aa-40a8-aa43-1c4aadf7ccbe",
   "metadata": {},
   "source": [
    "# Bibtex parser read\n",
    "to  prove it is very slow. Yes, it really is...we get it."
   ]
  },
  {
   "cell_type": "code",
   "execution_count": null,
   "id": "1e3142e5-ad01-4b5b-ac2c-0a7e2010ddf7",
   "metadata": {},
   "outputs": [],
   "source": [
    "import great2_bibtex as scbt"
   ]
  },
  {
   "cell_type": "code",
   "execution_count": 42,
   "id": "447b3fa7-4841-4ad4-9f53-cbaf7d81cb48",
   "metadata": {},
   "outputs": [
    {
     "data": {
      "text/plain": [
       "('library.bib', WindowsPath('library.bib'), True, 'books.bib')"
      ]
     },
     "execution_count": 42,
     "metadata": {},
     "output_type": "execute_result"
    },
    {
     "name": "stdout",
     "output_type": "stream",
     "text": [
      "time: 0 ns (started: 2025-05-17 10:12:17 +01:00)\n"
     ]
    }
   ],
   "source": [
    "scbt.LIBRARY_BIB, p, p.exists(), scbt.BOOKS_BIB"
   ]
  },
  {
   "cell_type": "code",
   "execution_count": 43,
   "id": "fd74af9d-b7f1-4e4c-ba3b-1f5ddc406c9a",
   "metadata": {},
   "outputs": [
    {
     "name": "stdout",
     "output_type": "stream",
     "text": [
      "time: 437 ms (started: 2025-05-17 10:12:29 +01:00)\n"
     ]
    }
   ],
   "source": [
    "bdb = scbt.bibtex_read() # too slow... scbt.BOOKS_BIB)"
   ]
  },
  {
   "cell_type": "code",
   "execution_count": 44,
   "id": "a63b30c5-f861-49a9-b7fd-7be67de638d9",
   "metadata": {},
   "outputs": [
    {
     "ename": "TypeError",
     "evalue": "object of type 'BibDatabase' has no len()",
     "output_type": "error",
     "traceback": [
      "\u001b[1;31m---------------------------------------------------------------------------\u001b[0m",
      "\u001b[1;31mTypeError\u001b[0m                                 Traceback (most recent call last)",
      "Cell \u001b[1;32mIn[44], line 1\u001b[0m\n\u001b[1;32m----> 1\u001b[0m \u001b[38;5;28;43mlen\u001b[39;49m\u001b[43m(\u001b[49m\u001b[43mbdb\u001b[49m\u001b[43m)\u001b[49m\n",
      "\u001b[1;31mTypeError\u001b[0m: object of type 'BibDatabase' has no len()"
     ]
    },
    {
     "name": "stdout",
     "output_type": "stream",
     "text": [
      "time: 47 ms (started: 2025-05-17 10:12:36 +01:00)\n"
     ]
    }
   ],
   "source": [
    "len(bdb)"
   ]
  },
  {
   "cell_type": "code",
   "execution_count": null,
   "id": "24d264c7-2bf1-4c58-a94b-5b072cb5b591",
   "metadata": {},
   "outputs": [],
   "source": []
  }
 ],
 "metadata": {
  "kernelspec": {
   "display_name": "Python 3 (ipykernel)",
   "language": "python",
   "name": "python3"
  },
  "language_info": {
   "codemirror_mode": {
    "name": "ipython",
    "version": 3
   },
   "file_extension": ".py",
   "mimetype": "text/x-python",
   "name": "python",
   "nbconvert_exporter": "python",
   "pygments_lexer": "ipython3",
   "version": "3.10.13"
  }
 },
 "nbformat": 4,
 "nbformat_minor": 5
}
