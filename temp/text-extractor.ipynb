{
 "cells": [
  {
   "cell_type": "markdown",
   "id": "d8e27447-065d-4d32-b267-d54ba92b32fb",
   "metadata": {},
   "source": [
    "# CLI Tests and Text Extractor from PDF Files\n",
    "## Provenance\n",
    "* Created new 2025-05-17 at Bignor!"
   ]
  },
  {
   "cell_type": "code",
   "execution_count": null,
   "id": "34a40ac1-1464-4e52-842e-4a0789fdd81e",
   "metadata": {},
   "outputs": [],
   "source": [
    "from pathlib import Path \n",
    "import pandas as pd\n",
    "import re\n",
    "import numpy as np\n",
    "from functools import partial\n",
    "from pprint import pprint as pp\n",
    "from random import sample\n",
    "\n",
    "import pymupdf # fritz  # PyMuPDF\n",
    "import Levenshtein\n",
    "\n",
    "%load_ext autotime\n",
    "%load_ext autoreload"
   ]
  },
  {
   "cell_type": "code",
   "execution_count": null,
   "id": "c2e127de-fa84-40fd-8aa4-ad1f74b5f416",
   "metadata": {},
   "outputs": [],
   "source": [
    "%autoreload 1\n",
    "%aimport archivum.mendeley_port\n",
    "%aimport archivum.library\n",
    "%aimport archivum.utilities\n",
    "%aimport archivum.document\n",
    "%aimport archivum.crossref\n",
    "%aimport archivum.gui\n",
    "%aimport archivum.parser\n",
    "%aimport archivum.reference\n",
    "%aimport archivum.cli\n",
    "%aimport archivum.utilities\n",
    "%aimport archivum.querex\n",
    "\n",
    "%aimport scratch \n",
    "%aimport greater_tables.greater_tables \n",
    "%aimport greater_tables.test_tables \n",
    "    \n",
    "\n",
    "import archivum.mendeley_port as arcm\n",
    "import archivum.library as arcl\n",
    "import archivum.utilities as arcu\n",
    "import archivum.document as arcd\n",
    "import archivum.crossref as arcc\n",
    "import archivum.gui as arcg\n",
    "import archivum.parser as arcp\n",
    "import archivum.reference as arcr\n",
    "import archivum.cli as cli \n",
    "\n",
    "import greater_tables.test_tables as tt\n",
    "from greater_tables.greater_tables import GT\n",
    "\n",
    "from archivum.utilities import fGT\n",
    "import scratch as sc \n",
    "%aimport"
   ]
  },
  {
   "cell_type": "code",
   "execution_count": null,
   "id": "27eccc90-f772-41a1-b439-914d413e24ee",
   "metadata": {},
   "outputs": [],
   "source": [
    "lib = arcl.Library('uber-library')\n",
    "lib.get_library_path_list()"
   ]
  },
  {
   "cell_type": "code",
   "execution_count": null,
   "id": "5cb0897f-1160-43ee-adab-aa7e21ca8317",
   "metadata": {},
   "outputs": [],
   "source": [
    "lib.text_dir_full_name"
   ]
  },
  {
   "cell_type": "code",
   "execution_count": null,
   "id": "7ef6a62f-20b2-4592-a5ee-858297ac0550",
   "metadata": {},
   "outputs": [],
   "source": [
    "str(lib.text_dir_path)"
   ]
  },
  {
   "cell_type": "code",
   "execution_count": null,
   "id": "dcfc5f34-cfa4-4fcc-b431-a9861c8536ac",
   "metadata": {},
   "outputs": [],
   "source": [
    "cli"
   ]
  },
  {
   "cell_type": "code",
   "execution_count": null,
   "id": "5e418a34-7c89-4dbb-aedd-3239c23f1c9d",
   "metadata": {},
   "outputs": [],
   "source": [
    "cli.entry.commands"
   ]
  },
  {
   "cell_type": "code",
   "execution_count": null,
   "id": "870fd6f4-260d-4254-899f-f20ca9373864",
   "metadata": {},
   "outputs": [],
   "source": [
    "import subprocess\n",
    "from rich.console import Console\n",
    "from rich.text import Text\n",
    "import json\n",
    "console = Console()"
   ]
  },
  {
   "cell_type": "code",
   "execution_count": null,
   "id": "36e007cd-045e-4ffb-83b3-5681e2971498",
   "metadata": {},
   "outputs": [],
   "source": [
    "cmd = ['rg', '--json', '--stats', '-C', '1', 'elicitability', '-g', \"*.md\", '\\\\temp\\\\pdf-full-text']"
   ]
  },
  {
   "cell_type": "code",
   "execution_count": null,
   "id": "a880d371-b0cc-4fad-86a7-ec7db7e42b2a",
   "metadata": {},
   "outputs": [],
   "source": [
    "proc = subprocess.Popen(cmd, stdout=subprocess.PIPE, stderr=subprocess.PIPE, text=True, \n",
    "                   encoding='utf-8')"
   ]
  },
  {
   "cell_type": "code",
   "execution_count": null,
   "id": "92bd8870-a47a-46af-8ab6-e72b3d9b32bd",
   "metadata": {},
   "outputs": [],
   "source": [
    "cli.entry(args=['open-library', 'uber-library'], standalone_mode=False)\n",
    "cli.entry(args=['get-distinct-values', ], standalone_mode=False)"
   ]
  },
  {
   "cell_type": "code",
   "execution_count": null,
   "id": "78413002-e60d-477f-b087-4f9a83a9038f",
   "metadata": {},
   "outputs": [],
   "source": [
    "cli.entry(args=['open-library', 'uber-library'], standalone_mode=False)\n",
    "cli.entry(args=['rg', r\"Hahn\\-?Banach theorem\"], standalone_mode=False)"
   ]
  },
  {
   "cell_type": "code",
   "execution_count": null,
   "id": "35a9450e-ad5e-4237-ba83-c668767f6743",
   "metadata": {},
   "outputs": [],
   "source": [
    "cli.entry(args=[\"list-libraries\"], standalone_mode=False)"
   ]
  },
  {
   "cell_type": "code",
   "execution_count": null,
   "id": "31a3bdda-a789-43e4-bc20-32adcf4ae01c",
   "metadata": {},
   "outputs": [],
   "source": [
    "cli.entry(args=['open-library', 'uber-library'], standalone_mode=False)"
   ]
  },
  {
   "cell_type": "code",
   "execution_count": null,
   "id": "2823ff56-01af-4866-bb00-03e11408b764",
   "metadata": {},
   "outputs": [],
   "source": [
    "cli.entry(args=[\"list-libraries\", \"-d\"], standalone_mode=False)"
   ]
  },
  {
   "cell_type": "code",
   "execution_count": null,
   "id": "a837e4c2-a159-40cc-9c2a-2c5fd60a6954",
   "metadata": {},
   "outputs": [],
   "source": [
    "cli.entry(args=['open-library', 'uber-library'], standalone_mode=False)"
   ]
  },
  {
   "cell_type": "code",
   "execution_count": null,
   "id": "682a700c-d48f-4d0c-b910-8ade192ff31f",
   "metadata": {},
   "outputs": [],
   "source": [
    "cli.entry(args=['rg', 'distortion risk measures'], standalone_mode=False)"
   ]
  },
  {
   "cell_type": "code",
   "execution_count": null,
   "id": "61756150-90f0-420c-bfe4-c8f1a36b5f63",
   "metadata": {},
   "outputs": [],
   "source": [
    "cli.entry(args=['get-library-stats'], standalone_mode=False)"
   ]
  },
  {
   "cell_type": "code",
   "execution_count": null,
   "id": "850b66be-d4ea-451b-9916-eedb06497baf",
   "metadata": {},
   "outputs": [],
   "source": [
    "cli.entry(args=['open-library', 'uber-library'], standalone_mode=False)\n",
    "cli.entry(args=['get-distinct-values', ], standalone_mode=False)"
   ]
  },
  {
   "cell_type": "code",
   "execution_count": null,
   "id": "a4fe23af-583a-41df-a241-e5283dd107ac",
   "metadata": {},
   "outputs": [],
   "source": [
    "cli.entry(args=['open-library', 'uber-library'], standalone_mode=False)\n",
    "cli.entry(args=['get-distinct-values', '-f author'], standalone_mode=False)"
   ]
  },
  {
   "cell_type": "code",
   "execution_count": null,
   "id": "fa6cd198-944d-4840-b2a2-10689c29c51d",
   "metadata": {},
   "outputs": [],
   "source": [
    "lib.list()"
   ]
  },
  {
   "cell_type": "code",
   "execution_count": null,
   "id": "99e958dd-5a4f-4148-87fa-ad3318729ea9",
   "metadata": {},
   "outputs": [],
   "source": [
    "cli.entry(args=['merge-library', 'othername'], standalone_mode=False)"
   ]
  },
  {
   "cell_type": "code",
   "execution_count": null,
   "id": "ccfb2680-0fdf-48f2-92ce-50c982ba29ad",
   "metadata": {},
   "outputs": [],
   "source": [
    "ans = cli.make_query_completer_static(lib.ref_df)"
   ]
  },
  {
   "cell_type": "code",
   "execution_count": null,
   "id": "6c4954bc-8dbe-4a0e-af49-1aa848f5ecfb",
   "metadata": {},
   "outputs": [],
   "source": [
    "cli.entry(args=['open-library', 'uber-library'], standalone_mode=False)"
   ]
  },
  {
   "cell_type": "code",
   "execution_count": null,
   "id": "d07b66c8-7f5c-4d7b-b2d4-1d32d0d1cb53",
   "metadata": {},
   "outputs": [],
   "source": [
    "cli.entry(args=['open-library', 'uber-library'], standalone_mode=False)\n",
    "cli.entry(args=['query-library'], standalone_mode=False)"
   ]
  },
  {
   "cell_type": "code",
   "execution_count": null,
   "id": "f988af01-d8ff-4ddc-a75e-0be22bcedaa6",
   "metadata": {},
   "outputs": [],
   "source": [
    "cli.entry(args=['open-library', 'uber-library'], standalone_mode=False)\n",
    "cli.entry(args=['new', '-m'], standalone_mode=False)"
   ]
  },
  {
   "cell_type": "markdown",
   "id": "b14c2b4b-38d9-4527-9d30-19b987d4dfa7",
   "metadata": {},
   "source": [
    "# NEW AND IMPORT"
   ]
  },
  {
   "cell_type": "code",
   "execution_count": null,
   "id": "3b4a4e0f-c6e5-4d57-9368-46bd43c9daa4",
   "metadata": {},
   "outputs": [],
   "source": [
    "df = cli.LibraryContext.last_new\n",
    "df.head()"
   ]
  },
  {
   "cell_type": "code",
   "execution_count": null,
   "id": "044da9a3-1b13-4421-8c8d-569617dc7db9",
   "metadata": {},
   "outputs": [],
   "source": [
    "d = cli.LibraryContext.last_new.iloc[0,0]\n",
    "d"
   ]
  },
  {
   "cell_type": "code",
   "execution_count": null,
   "id": "588b811e-8de7-4313-b9c7-e751e1cb84ef",
   "metadata": {},
   "outputs": [],
   "source": [
    "txt = d.extract_text()"
   ]
  },
  {
   "cell_type": "code",
   "execution_count": null,
   "id": "2a4f3996-4b46-4f96-ae77-be121d354a05",
   "metadata": {},
   "outputs": [],
   "source": []
  },
  {
   "cell_type": "code",
   "execution_count": null,
   "id": "59b7fa25-4430-4b62-ba12-0526608e60a0",
   "metadata": {},
   "outputs": [],
   "source": [
    "d._text_dir_path"
   ]
  },
  {
   "cell_type": "code",
   "execution_count": null,
   "id": "c6e85efd-ddb2-4749-bb93-94a03402a49f",
   "metadata": {},
   "outputs": [],
   "source": [
    "arcu.info(d)"
   ]
  },
  {
   "cell_type": "code",
   "execution_count": null,
   "id": "0becb4de-dddc-4849-bdf9-f326a6e30175",
   "metadata": {},
   "outputs": [],
   "source": [
    "cli.LibraryContext.last_new.meta_crossref"
   ]
  },
  {
   "cell_type": "code",
   "execution_count": null,
   "id": "6f534754-a793-4bae-8958-2835db3aee94",
   "metadata": {},
   "outputs": [],
   "source": [
    "r = arcc.search(cli.LibraryContext.last_new.meta_crossref.iloc[14])"
   ]
  },
  {
   "cell_type": "code",
   "execution_count": null,
   "id": "8ffa4ffc-4734-4933-9a7d-786b9831ff36",
   "metadata": {},
   "outputs": [],
   "source": [
    "arcl.BASE_DIR"
   ]
  },
  {
   "cell_type": "code",
   "execution_count": null,
   "id": "9d67d909-b619-4aea-af71-72bdea1a294d",
   "metadata": {},
   "outputs": [],
   "source": [
    "rans = []\n",
    "for rf in r:\n",
    "    ref = arcr.Reference.from_crossref(rf, lib)\n",
    "    rans.append(ref)\n",
    "    print(ref.title, ref.author, ref.journal, ref.year)"
   ]
  },
  {
   "cell_type": "code",
   "execution_count": null,
   "id": "14f33340-7ba8-4edf-85fe-d7860fef15bb",
   "metadata": {},
   "outputs": [],
   "source": [
    "for rf in r: print(rf)"
   ]
  },
  {
   "cell_type": "code",
   "execution_count": null,
   "id": "d006d1d6-3960-4c1a-bca2-21e6ceef52ad",
   "metadata": {},
   "outputs": [],
   "source": [
    "pd.concat([pd.Series(ref.to_dict(), name='value').to_frame() for ref in rans], axis=1).T[['author', 'title', 'year', 'journal']]"
   ]
  },
  {
   "cell_type": "code",
   "execution_count": null,
   "id": "09598dfc-8bf1-435c-905a-ede090b72355",
   "metadata": {},
   "outputs": [],
   "source": [
    "cli.LibraryContext.last_new#.path[0]"
   ]
  },
  {
   "cell_type": "code",
   "execution_count": null,
   "id": "0d74eddf-ebed-45c5-b450-1fec84069b73",
   "metadata": {},
   "outputs": [],
   "source": [
    "# cli.entry(args=['open-library', 'uber-library'], standalone_mode=False)\n",
    "cli.entry(args=['close-library', ], standalone_mode=False)\n",
    "cli.entry(args=['get-library-stats'], standalone_mode=False)"
   ]
  },
  {
   "cell_type": "code",
   "execution_count": null,
   "id": "e6ef9105-a4e0-49b3-9493-b38e995951a2",
   "metadata": {},
   "outputs": [],
   "source": [
    "cli.entry(args=[\"list-libraries\", '-d'], standalone_mode=False)"
   ]
  },
  {
   "cell_type": "code",
   "execution_count": null,
   "id": "21ec4ccd-0ebc-4e9f-8131-f525fa3dd51f",
   "metadata": {},
   "outputs": [],
   "source": [
    "result = lib.database.querex('top 5 recent verbose')\n",
    "print(fGT(result))"
   ]
  },
  {
   "cell_type": "code",
   "execution_count": null,
   "id": "93d88d24-06da-4861-90a4-e8203009457e",
   "metadata": {},
   "outputs": [],
   "source": [
    "f = fGT(lib.querex('top 10 where year == 2024 !/Wang, R/ sort title'))\n",
    "print(f)"
   ]
  },
  {
   "cell_type": "code",
   "execution_count": null,
   "id": "04b1585c-da66-4095-99b2-1857be8be740",
   "metadata": {},
   "outputs": [],
   "source": [
    "f = fGT(lib.database.querex('top 10 recent !/Wang, R/'))\n",
    "print(f)"
   ]
  },
  {
   "cell_type": "markdown",
   "id": "53e9ff9a-6e28-4306-b221-63cc73d708d4",
   "metadata": {
    "jp-MarkdownHeadingCollapsed": true
   },
   "source": [
    "# GUI"
   ]
  },
  {
   "cell_type": "code",
   "execution_count": null,
   "id": "f4ec87f0-3114-4f91-8fe6-cad2f0664e26",
   "metadata": {},
   "outputs": [],
   "source": [
    "def edit_book_info():\n",
    "    import tkinter as tk\n",
    "    from tkinter import messagebox\n",
    "\n",
    "    def on_done():\n",
    "        nonlocal result\n",
    "        result = {\n",
    "            \"Title\": title_var.get(),\n",
    "            \"Author\": author_var.get(),\n",
    "            \"Year\": year_var.get()\n",
    "        }\n",
    "        root.destroy()\n",
    "\n",
    "    def on_cancel():\n",
    "        root.destroy()\n",
    "\n",
    "    result = None\n",
    "    root = tk.Tk()\n",
    "    root.title(\"Edit Book\")\n",
    "\n",
    "    tk.Label(root, text=\"Title\").grid(row=0, column=0, sticky=\"e\")\n",
    "    tk.Label(root, text=\"Author\").grid(row=1, column=0, sticky=\"e\")\n",
    "    tk.Label(root, text=\"Year\").grid(row=2, column=0, sticky=\"e\")\n",
    "\n",
    "    title_var = tk.StringVar(value=\"The Great Gatsby\")\n",
    "    author_var = tk.StringVar(value=\"F. Scott Fitzgerald\")\n",
    "    year_var = tk.StringVar(value=\"1925\")\n",
    "\n",
    "    tk.Entry(root, textvariable=title_var).grid(row=0, column=1)\n",
    "    tk.Entry(root, textvariable=author_var).grid(row=1, column=1)\n",
    "    tk.Entry(root, textvariable=year_var).grid(row=2, column=1)\n",
    "\n",
    "    tk.Button(root, text=\"Cancel\", command=on_cancel).grid(row=3, column=0, pady=10)\n",
    "    tk.Button(root, text=\"Done\", command=on_done).grid(row=3, column=1, pady=10)\n",
    "\n",
    "    root.mainloop()\n",
    "    return result\n"
   ]
  },
  {
   "cell_type": "code",
   "execution_count": null,
   "id": "d21b5ca3-1ac6-42c4-b469-0e4dc250d5fd",
   "metadata": {},
   "outputs": [],
   "source": [
    "import tkinter as tk\n",
    "\n",
    "def edit_fields(data, mandatory=(), title=\"Edit Info\"):\n",
    "    result = None\n",
    "    fields = dict(data)\n",
    "    for key in mandatory:\n",
    "        fields.setdefault(key, \"\")\n",
    "\n",
    "    def on_done():\n",
    "        nonlocal result\n",
    "        result = {k: vars_[k].get() for k in fields}\n",
    "        root.destroy()\n",
    "\n",
    "    def on_cancel():\n",
    "        root.destroy()\n",
    "\n",
    "    root = tk.Tk()\n",
    "    root.title(title)\n",
    "\n",
    "    vars_ = {}\n",
    "    for row, (key, value) in enumerate(fields.items()):\n",
    "        tk.Label(root, text=key).grid(row=row, column=0, sticky=\"e\", padx=5, pady=2)\n",
    "        var = tk.StringVar(value=value)\n",
    "        vars_[key] = var\n",
    "        tk.Entry(root, textvariable=var).grid(row=row, column=1, padx=5, pady=2)\n",
    "\n",
    "    row += 1\n",
    "    tk.Button(root, text=\"Cancel\", width=10, command=on_cancel).grid(row=row, column=0, pady=10)\n",
    "    tk.Button(root, text=\"Done\", width=10, command=on_done).grid(row=row, column=1, pady=10)\n",
    "\n",
    "    root.mainloop()\n",
    "    return result\n"
   ]
  },
  {
   "cell_type": "code",
   "execution_count": null,
   "id": "153dd0aa-3d15-49a7-8c26-96bde32a74d2",
   "metadata": {},
   "outputs": [],
   "source": [
    "bi = {'title': \"Once upon a time in America\", \n",
    "     'author': 'LeLilo, Don.', \n",
    "     'year': 2008}\n",
    "mand = ['title', 'publisher']"
   ]
  },
  {
   "cell_type": "code",
   "execution_count": null,
   "id": "03ccfa66-9e09-45d6-bd56-3935f706509b",
   "metadata": {},
   "outputs": [],
   "source": [
    "edit_fields(bi, mand)"
   ]
  },
  {
   "cell_type": "code",
   "execution_count": null,
   "id": "bd3336c9-df1b-4657-a16c-d591583221fa",
   "metadata": {},
   "outputs": [],
   "source": [
    "edit_book_info()"
   ]
  },
  {
   "cell_type": "code",
   "execution_count": null,
   "id": "5db55708-b8f0-4c3d-812a-9f5cc01766c5",
   "metadata": {},
   "outputs": [],
   "source": [
    "import tkinter as tk\n",
    "from tkinter import ttk\n",
    "\n",
    "def edit_fields(data, mandatory=(), title=\"Edit Info\", known_values=None):\n",
    "    result = None\n",
    "    fields = dict(data)\n",
    "    for key in mandatory:\n",
    "        fields.setdefault(key, \"\")\n",
    "\n",
    "    known_values = known_values or {}\n",
    "    vars_ = {}\n",
    "\n",
    "    def on_done():\n",
    "        nonlocal result\n",
    "        result = {k: vars_[k].get() for k in fields}\n",
    "        root.destroy()\n",
    "\n",
    "    def on_cancel():\n",
    "        root.destroy()\n",
    "\n",
    "    def setup_combobox(box, values):\n",
    "        def on_key(event):\n",
    "            val = box.get().lower()\n",
    "            matches = [v for v in values if val in v.lower()]\n",
    "            if matches:\n",
    "                box['values'] = matches\n",
    "            else:\n",
    "                box['values'] = values\n",
    "        box.bind('<KeyRelease>', on_key)\n",
    "        \n",
    "    root = tk.Tk()\n",
    "    root.title(title)\n",
    "    root.geometry(\"700x400\")  # wider window\n",
    "\n",
    "    for row, (key, value) in enumerate(fields.items()):\n",
    "        tk.Label(root, text=key).grid(row=row, column=0, sticky=\"e\", padx=5, pady=4)\n",
    "        var = tk.StringVar(value=value)\n",
    "        vars_[key] = var\n",
    "\n",
    "        if key in known_values:\n",
    "            box = ttk.Combobox(root, textvariable=var, values=known_values[key])\n",
    "            box.config(width=80)\n",
    "            box.grid(row=row, column=1, padx=5, pady=4)\n",
    "            setup_combobox(box, known_values[key])\n",
    "        else:\n",
    "            tk.Entry(root, textvariable=var, width=80).grid(row=row, column=1, padx=5, pady=4)\n",
    "\n",
    "    row += 1\n",
    "    btn_frame = tk.Frame(root)\n",
    "    btn_frame.grid(row=row, column=0, columnspan=2, pady=20)\n",
    "    tk.Button(btn_frame, text=\"Cancel\", width=12, command=on_cancel).pack(side=\"left\", padx=10)\n",
    "    tk.Button(btn_frame, text=\"Done\", width=12, command=on_done).pack(side=\"right\", padx=10)\n",
    "\n",
    "    root.mainloop()\n",
    "    return result\n"
   ]
  },
  {
   "cell_type": "code",
   "execution_count": null,
   "id": "5d95a1dc-ade8-4d97-a04f-37ad404dc2b2",
   "metadata": {},
   "outputs": [],
   "source": [
    "import tkinter as tk\n",
    "from tkinter import ttk\n",
    "from rapidfuzz import process\n",
    "\n",
    "def edit_fields(data, mandatory=(), title=\"Edit Info\", known_values=None):\n",
    "    result = None\n",
    "    fields = dict(data)\n",
    "    for key in mandatory:\n",
    "        fields.setdefault(key, \"\")\n",
    "    \n",
    "    FONT = (\"Segoe UI\", 10)\n",
    "\n",
    "    known_values = known_values or {}\n",
    "    vars_ = {}\n",
    "\n",
    "    def on_done():\n",
    "        nonlocal result\n",
    "        result = {k: vars_[k].get() for k in fields}\n",
    "        root.destroy()\n",
    "\n",
    "    def on_cancel():\n",
    "        root.destroy()\n",
    "\n",
    "    def on_next():\n",
    "\n",
    "    def on_previous()\n",
    "    \n",
    "    def setup_fuzzy_combobox(box, values):\n",
    "        def on_key(event):\n",
    "            current = box.get()\n",
    "            if current:\n",
    "                match, score, _ = process.extractOne(current, values, score_cutoff=40)\n",
    "                if match:\n",
    "                    box.set(match)\n",
    "        box.bind('<FocusOut>', on_key)\n",
    "        box.bind('<Tab>', on_key)\n",
    "\n",
    "    root = tk.Tk()\n",
    "    root.title(title)\n",
    "    root.geometry(\"800x500\")\n",
    "\n",
    "    for row, (key, value) in enumerate(fields.items()):\n",
    "        tk.Label(root, text=key).grid(row=row, column=0, sticky=\"e\", padx=5, pady=4)\n",
    "        var = tk.StringVar(value=value)\n",
    "        vars_[key] = var\n",
    "\n",
    "        if key in known_values:\n",
    "            box = ttk.Combobox(root, textvariable=var, values=known_values[key], width=80, font=FONT)\n",
    "            box.grid(row=row, column=1, padx=5, pady=4)\n",
    "            setup_fuzzy_combobox(box, known_values[key])\n",
    "        else:\n",
    "            tk.Entry(root, textvariable=var, width=82, font=FONT).grid(row=row, column=1, padx=5, pady=4)\n",
    "\n",
    "    row += 1\n",
    "    btn_frame = tk.Frame(root)\n",
    "    btn_frame.grid(row=row, column=0, columnspan=2, pady=20)\n",
    "    tk.Button(btn_frame, text=\"Cancel\", width=12, command=on_cancel).pack(side=\"left\", padx=10)\n",
    "    tk.Button(btn_frame, text=\"Done\", width=12, command=on_done).pack(side=\"right\", padx=10)\n",
    "    tk.Button(btn_frame, text=\"Previous\", width=12, command=on_previous).pack(side=\"right\", padx=10)\n",
    "    tk.Button(btn_frame, text=\"Next\", width=12, command=on_next).pack(side=\"right\", padx=10)\n",
    "\n",
    "    root.mainloop()\n",
    "    return result\n"
   ]
  },
  {
   "cell_type": "code",
   "execution_count": null,
   "id": "047581d0-fe33-4954-aefa-eb79a636d5ea",
   "metadata": {},
   "outputs": [],
   "source": [
    "import tkinter as tk\n",
    "from tkinter import ttk\n",
    "from rapidfuzz import process\n",
    "import pandas as pd\n",
    "\n",
    "def edit_fields_from_df(df, i, mandatory=(), title=\"Edit Row\", known_values=None):\n",
    "    result = None\n",
    "    rowcount = len(df)\n",
    "    fields = df.iloc[i].to_dict()\n",
    "    for key in mandatory:\n",
    "        fields.setdefault(key, \"\")\n",
    "\n",
    "    known_values = known_values or {}\n",
    "    vars_ = {}\n",
    "\n",
    "    def load_row(idx):\n",
    "        for k in fields:\n",
    "            val = str(df.iloc[idx].get(k, \"\"))\n",
    "            vars_[k].set(val)\n",
    "\n",
    "    def save_row():\n",
    "        return {k: vars_[k].get() for k in fields}\n",
    "\n",
    "    def on_done():\n",
    "        nonlocal result\n",
    "        result = (save_row(), current[0])\n",
    "        root.destroy()\n",
    "\n",
    "    def on_cancel():\n",
    "        root.destroy()\n",
    "\n",
    "    def on_prev():\n",
    "        if current[0] > 0:\n",
    "            current[0] -= 1\n",
    "            load_row(current[0])\n",
    "\n",
    "    def on_next():\n",
    "        if current[0] < rowcount - 1:\n",
    "            current[0] += 1\n",
    "            load_row(current[0])\n",
    "\n",
    "    def setup_fuzzy_combobox(box, values):\n",
    "        def on_key(event):\n",
    "            current = box.get()\n",
    "            if current:\n",
    "                match, score, _ = process.extractOne(current, values, score_cutoff=70)\n",
    "                if match and match != current:\n",
    "                    box.set(match)\n",
    "                    box.icursor(tk.END)\n",
    "        box.bind('<KeyRelease>', on_key)\n",
    "\n",
    "    current = [i]  # mutable index holder\n",
    "    root = tk.Tk()\n",
    "    root.title(title)\n",
    "    root.geometry(\"800x500\")\n",
    "\n",
    "    for row, key in enumerate(fields):\n",
    "        tk.Label(root, text=key).grid(row=row, column=0, sticky=\"e\", padx=5, pady=4)\n",
    "        var = tk.StringVar()\n",
    "        vars_[key] = var\n",
    "\n",
    "        if key in known_values:\n",
    "            box = ttk.Combobox(root, textvariable=var, values=known_values[key], width=80)\n",
    "            box.grid(row=row, column=1, padx=5, pady=4)\n",
    "            setup_fuzzy_combobox(box, known_values[key])\n",
    "        else:\n",
    "            tk.Entry(root, textvariable=var, width=80).grid(row=row, column=1, padx=5, pady=4)\n",
    "\n",
    "    load_row(i)\n",
    "\n",
    "    row += 1\n",
    "    btn_frame = tk.Frame(root)\n",
    "    btn_frame.grid(row=row, column=0, columnspan=2, pady=20)\n",
    "    tk.Button(btn_frame, text=\"Previous\", width=12, command=on_prev).pack(side=\"left\", padx=5)\n",
    "    tk.Button(btn_frame, text=\"Next\", width=12, command=on_next).pack(side=\"left\", padx=5)\n",
    "    tk.Button(btn_frame, text=\"Cancel\", width=12, command=on_cancel).pack(side=\"left\", padx=20)\n",
    "    tk.Button(btn_frame, text=\"Done\", width=12, command=on_done).pack(side=\"left\", padx=5)\n",
    "\n",
    "    root.mainloop()\n",
    "    return result\n"
   ]
  },
  {
   "cell_type": "code",
   "execution_count": null,
   "id": "499838fe-a16b-429b-8bb5-d2c55becc416",
   "metadata": {},
   "outputs": [],
   "source": [
    "mandatory = ['type', 'author', 'title', 'year', 'journal', 'publisher']\n",
    "defaults = {\n",
    "    k: lib.distinct(k) for k in mandatory\n",
    "}"
   ]
  },
  {
   "cell_type": "code",
   "execution_count": null,
   "id": "7ba386a0-e1ec-4652-8f25-c5a416397f78",
   "metadata": {},
   "outputs": [],
   "source": [
    "# def edit_fields_from_df(df, i, mandatory=(), title=\"Edit Row\", known_values=None):\n",
    "updated = edit_fields_from_df(lib.ref_df.sample(20).reset_index(drop=True)[mandatory], 0, mandatory, title=\"Edit Book Info\", known_values=defaults)\n",
    "updated"
   ]
  }
 ],
 "metadata": {
  "kernelspec": {
   "display_name": "Python 3 (ipykernel)",
   "language": "python",
   "name": "python3"
  },
  "language_info": {
   "codemirror_mode": {
    "name": "ipython",
    "version": 3
   },
   "file_extension": ".py",
   "mimetype": "text/x-python",
   "name": "python",
   "nbconvert_exporter": "python",
   "pygments_lexer": "ipython3",
   "version": "3.13.3"
  }
 },
 "nbformat": 4,
 "nbformat_minor": 5
}
