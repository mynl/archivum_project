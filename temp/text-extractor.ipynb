{
 "cells": [
  {
   "cell_type": "markdown",
   "id": "d8e27447-065d-4d32-b267-d54ba92b32fb",
   "metadata": {},
   "source": [
    "# Text Extractor from PDF Files\n",
    "## Provenance\n",
    "* Created new 2025-05-17 at Bignor!"
   ]
  },
  {
   "cell_type": "code",
   "execution_count": 20,
   "id": "290bb032-5acb-4793-9901-c9f5cf88078f",
   "metadata": {},
   "outputs": [
    {
     "name": "stdout",
     "output_type": "stream",
     "text": [
      "The autotime extension is already loaded. To reload it, use:\n",
      "  %reload_ext autotime\n",
      "time: 0 ns (started: 2025-05-29 23:58:32 +01:00)\n"
     ]
    }
   ],
   "source": [
    "from pathlib import Path \n",
    "import pandas as pd\n",
    "import re\n",
    "import numpy as np\n",
    "from functools import partial\n",
    "from pprint import pprint as pp\n",
    "from random import sample\n",
    "\n",
    "import fitz  # PyMuPDF\n",
    "import Levenshtein\n",
    "\n",
    "import archivum.mendeley_port as arcm\n",
    "import archivum.library as arcl\n",
    "import archivum.utilities as arcu\n",
    "import archivum.document as arcd\n",
    "import archivum.crossref as arcc\n",
    "import archivum.gui as arcg\n",
    "import archivum.parser as arcp\n",
    "import archivum.reference as arcr\n",
    "from archivum.utilities import fGT\n",
    "\n",
    "%load_ext autotime"
   ]
  },
  {
   "cell_type": "code",
   "execution_count": 17,
   "id": "5f08fff1-8fb7-418b-8e4f-f23221499e00",
   "metadata": {},
   "outputs": [
    {
     "name": "stdout",
     "output_type": "stream",
     "text": [
      "23:57:51 | archivum.library.__init__      | INFO     | config_path = C:\\Users\\steve\\AppData\\Local\\archivum\\uber-library.archivum-config\n"
     ]
    },
    {
     "data": {
      "text/html": [
       "<div>\n",
       "<style scoped>\n",
       "    .dataframe tbody tr th:only-of-type {\n",
       "        vertical-align: middle;\n",
       "    }\n",
       "\n",
       "    .dataframe tbody tr th {\n",
       "        vertical-align: top;\n",
       "    }\n",
       "\n",
       "    .dataframe thead th {\n",
       "        text-align: right;\n",
       "    }\n",
       "</style>\n",
       "<table border=\"1\" class=\"dataframe\">\n",
       "  <thead>\n",
       "    <tr style=\"text-align: right;\">\n",
       "      <th></th>\n",
       "      <th>references</th>\n",
       "      <th>documents</th>\n",
       "    </tr>\n",
       "  </thead>\n",
       "  <tbody>\n",
       "    <tr>\n",
       "      <th>objects</th>\n",
       "      <td>6118</td>\n",
       "      <td>6132</td>\n",
       "    </tr>\n",
       "    <tr>\n",
       "      <th>no children</th>\n",
       "      <td>167</td>\n",
       "      <td>156</td>\n",
       "    </tr>\n",
       "    <tr>\n",
       "      <th>children</th>\n",
       "      <td>5951</td>\n",
       "      <td>5976</td>\n",
       "    </tr>\n",
       "    <tr>\n",
       "      <th>1 child</th>\n",
       "      <td>5833</td>\n",
       "      <td>5883</td>\n",
       "    </tr>\n",
       "    <tr>\n",
       "      <th>2 children</th>\n",
       "      <td>108</td>\n",
       "      <td>86</td>\n",
       "    </tr>\n",
       "    <tr>\n",
       "      <th>3 children</th>\n",
       "      <td>10</td>\n",
       "      <td>4</td>\n",
       "    </tr>\n",
       "    <tr>\n",
       "      <th>4+ children</th>\n",
       "      <td>0</td>\n",
       "      <td>3</td>\n",
       "    </tr>\n",
       "  </tbody>\n",
       "</table>\n",
       "</div>"
      ],
      "text/plain": [
       "             references  documents\n",
       "objects            6118       6132\n",
       "no children         167        156\n",
       "children           5951       5976\n",
       "1 child            5833       5883\n",
       "2 children          108         86\n",
       "3 children           10          4\n",
       "4+ children           0          3"
      ]
     },
     "execution_count": 17,
     "metadata": {},
     "output_type": "execute_result"
    },
    {
     "name": "stdout",
     "output_type": "stream",
     "text": [
      "time: 656 ms (started: 2025-05-29 23:57:51 +01:00)\n"
     ]
    }
   ],
   "source": [
    "lib = arcl.Library('uber-library')\n",
    "lib.stats()"
   ]
  },
  {
   "cell_type": "code",
   "execution_count": 21,
   "id": "d7ddd359-a990-48c0-b802-1dec9ef6c7b8",
   "metadata": {},
   "outputs": [
    {
     "data": {
      "text/plain": [
       "{'select': {'include': [], 'exclude': []},\n",
       " 'sort': [],\n",
       " 'regex': [('title', 'Risk Measure')],\n",
       " 'where': None,\n",
       " 'top': 10,\n",
       " 'flags': ['recent']}"
      ]
     },
     "execution_count": 21,
     "metadata": {},
     "output_type": "execute_result"
    },
    {
     "name": "stdout",
     "output_type": "stream",
     "text": [
      "time: 31 ms (started: 2025-05-29 23:58:36 +01:00)\n"
     ]
    }
   ],
   "source": [
    "arcp.parser('top 10 recent title ~ /Risk Measure/')"
   ]
  },
  {
   "cell_type": "code",
   "execution_count": 25,
   "id": "d311c78e-6597-49c4-b729-2003d9274625",
   "metadata": {},
   "outputs": [
    {
     "data": {
      "text/html": [
       "<div class=\"greater-table\">\n",
       "<style>\n",
       "    #T2AA6N5QDXCHB  {\n",
       "    border-collapse: collapse;\n",
       "    font-family: \"Roboto\", \"Open Sans Condensed\", \"Arial\", 'Segoe UI', sans-serif;\n",
       "    font-size: 0.9em;\n",
       "    width: auto;\n",
       "    \n",
       "    margin: 10px auto;\n",
       "    border: none;\n",
       "    overflow: auto;\n",
       "    margin-left: auto;\n",
       "    margin-right: auto;\n",
       "    }\n",
       "    \n",
       "    #T2AA6N5QDXCHB caption {\n",
       "        padding: 4px 10px 2px 10px;\n",
       "        font-size: 1.1em;\n",
       "        text-align: center;\n",
       "        font-weight: normal;\n",
       "        caption-side: top;\n",
       "    }\n",
       "    #T2AA6N5QDXCHB thead {\n",
       "        \n",
       "        border-top: 1px solid #000;\n",
       "        border-bottom: 1px solid #000;\n",
       "        font-size: 1.0em;\n",
       "        }\n",
       "    #T2AA6N5QDXCHB tbody {\n",
       "        \n",
       "        border-bottom: 1px solid #000;\n",
       "        }\n",
       "    #T2AA6N5QDXCHB th  {\n",
       "        vertical-align: bottom;\n",
       "        padding: 4px 10px 4px 10px;\n",
       "    }\n",
       "    #T2AA6N5QDXCHB td {\n",
       "        \n",
       "        padding: 2px 10px 2px 10px;\n",
       "        vertical-align: top;\n",
       "    }\n",
       "    \n",
       "    #T2AA6N5QDXCHB .grt-hrule-0 {\n",
       "        border-top: 0px solid #000;\n",
       "    }\n",
       "    #T2AA6N5QDXCHB .grt-hrule-1 {\n",
       "        border-top: 0px solid #000;\n",
       "    }\n",
       "    #T2AA6N5QDXCHB .grt-hrule-2 {\n",
       "        border-top: 0px solid #000;\n",
       "    }\n",
       "    \n",
       "    #T2AA6N5QDXCHB .grt-bhrule-0 {\n",
       "        border-bottom: 0px solid #000;\n",
       "    }\n",
       "    #T2AA6N5QDXCHB .grt-bhrule-1 {\n",
       "        border-bottom: 0px solid #000;\n",
       "    }\n",
       "    #T2AA6N5QDXCHB .grt-vrule-index {\n",
       "        border-left: 1px solid #000;\n",
       "    }\n",
       "    #T2AA6N5QDXCHB .grt-vrule-0 {\n",
       "        border-left: 0px solid #000;\n",
       "    }\n",
       "    #T2AA6N5QDXCHB .grt-vrule-1 {\n",
       "        border-left: 0px solid #000;\n",
       "    }\n",
       "    #T2AA6N5QDXCHB .grt-vrule-2 {\n",
       "        border-left: 0px solid #000;\n",
       "    }\n",
       "    #T2AA6N5QDXCHB .grt-left {\n",
       "        text-align: left;\n",
       "    }\n",
       "    #T2AA6N5QDXCHB .grt-center {\n",
       "        text-align: center;\n",
       "    }\n",
       "    #T2AA6N5QDXCHB .grt-right {\n",
       "        text-align: right;\n",
       "        font-variant-numeric: tabular-nums;\n",
       "    }\n",
       "    #T2AA6N5QDXCHB .grt-head {\n",
       "        font-family: \"Times New Roman\", 'Courier New';\n",
       "        font-size: 1.0em;\n",
       "    }\n",
       "    #T2AA6N5QDXCHB .grt-bold {\n",
       "        font-weight: bold;\n",
       "    }\n",
       "\n",
       "    #T2AA6N5QDXCHB .grt-c-0 { width: 8.2em; }\n",
       "    #T2AA6N5QDXCHB .grt-c-1 { width: 5.199999999999999em; }\n",
       "    #T2AA6N5QDXCHB .grt-c-2 { width: 3.4em; }\n",
       "    #T2AA6N5QDXCHB .grt-c-3 { width: 47.800000000000004em; }\n",
       "    #T2AA6N5QDXCHB .grt-c-4 { width: 42.4em; }\n",
       "</style>\n",
       "<table id=\"T2AA6N5QDXCHB\">\n",
       "<caption>Query: top 10 recent title ~ /Collapse to the Mean/, 5 rows returned, showing top 10.</caption>\n",
       "<colgroup>\n",
       "<col style=\"width: 4.919999999999999em;\"/>\n",
       "<col style=\"width: 3.1199999999999997em;\"/>\n",
       "<col style=\"width: 2.04em;\"/>\n",
       "<col style=\"width: 28.680000000000003em;\"/>\n",
       "<col style=\"width: 25.439999999999998em;\"/>\n",
       "</colgroup>\n",
       "<thead>\n",
       "<tr>\n",
       "<th class=\"grt-left\" colspan=\"1\">tag</th>\n",
       "<th class=\"grt-center grt-vrule-0\" colspan=\"1\">type</th>\n",
       "<th class=\"grt-center grt-vrule-0\" colspan=\"1\">year</th>\n",
       "<th class=\"grt-center grt-vrule-0\" colspan=\"1\">author</th>\n",
       "<th class=\"grt-center grt-vrule-0\" colspan=\"1\">title</th>\n",
       "</tr>\n",
       "</thead>\n",
       "<tbody>\n",
       "<tr>\n",
       "<td class=\"grt-c-0 grt-left\">Centrone2025</td>\n",
       "<td class=\"grt-c-1 grt-left grt-vrule-0\">article</td>\n",
       "<td class=\"grt-c-2 grt-right grt-vrule-0\">2025</td>\n",
       "<td class=\"grt-c-3 grt-left grt-vrule-0\">Centrone, Francesca and {Rosazza Gianin}, Emanuela</td>\n",
       "<td class=\"grt-c-4 grt-left grt-vrule-0\">Capital Allocation Rules and Generalized Collapse to the Mean</td>\n",
       "</tr>\n",
       "<tr>\n",
       "<td class=\"grt-c-0 grt-left\">Liebrich2022</td>\n",
       "<td class=\"grt-c-1 grt-left grt-vrule-0\">article</td>\n",
       "<td class=\"grt-c-2 grt-right grt-vrule-0\">2022</td>\n",
       "<td class=\"grt-c-3 grt-left grt-vrule-0\">Liebrich, Felix Benedikt and Munari, Cosimo</td>\n",
       "<td class=\"grt-c-4 grt-left grt-vrule-0\">Law-invariant functionals that collapse to the mean: beyond convexity</td>\n",
       "</tr>\n",
       "<tr>\n",
       "<td class=\"grt-c-0 grt-left\">Bellini2021</td>\n",
       "<td class=\"grt-c-1 grt-left grt-vrule-0\">article</td>\n",
       "<td class=\"grt-c-2 grt-right grt-vrule-0\">2021</td>\n",
       "<td class=\"grt-c-3 grt-left grt-vrule-0\">Bellini, Fabio and Koch-Medina, Pablo and Munari, Cosimo and Svindland, Gregor</td>\n",
       "<td class=\"grt-c-4 grt-left grt-vrule-0\">Law-invariant functionals that collapse to the mean</td>\n",
       "</tr>\n",
       "<tr>\n",
       "<td class=\"grt-c-0 grt-left\">Bellini2021a</td>\n",
       "<td class=\"grt-c-1 grt-left grt-vrule-0\">article</td>\n",
       "<td class=\"grt-c-2 grt-right grt-vrule-0\">2021</td>\n",
       "<td class=\"grt-c-3 grt-left grt-vrule-0\">Bellini, Fabio and Koch-Medina, Pablo and Munari, Cosimo and Svindland, Gregor</td>\n",
       "<td class=\"grt-c-4 grt-left grt-vrule-0\">Law-invariant functionals that collapse to the mean</td>\n",
       "</tr>\n",
       "<tr>\n",
       "<td class=\"grt-c-0 grt-left\">Chen2021a</td>\n",
       "<td class=\"grt-c-1 grt-left grt-vrule-0\">article</td>\n",
       "<td class=\"grt-c-2 grt-right grt-vrule-0\">2021</td>\n",
       "<td class=\"grt-c-3 grt-left grt-vrule-0\">Chen, Shengzhong and Gao, Niushan and Leung, Denny H. and Li, Lei</td>\n",
       "<td class=\"grt-c-4 grt-left grt-vrule-0\">Do law-invariant linear functionals collapse to the mean?</td>\n",
       "</tr>\n",
       "</tbody>\n",
       "</table></div>"
      ],
      "text/latex": [
       "\n",
       "\\begin{tikzpicture}[\n",
       "    auto,\n",
       "    transform shape,\n",
       "    nosep/.style={inner sep=0},\n",
       "    table/.style={\n",
       "        matrix of nodes,\n",
       "        row sep=0.125em,\n",
       "        column sep=0.375em,\n",
       "        nodes in empty cells,\n",
       "        nodes={rectangle, scale=0.635, text badly ragged },\n",
       "\trow 1/.style={nodes={text=black, anchor=north, inner ysep=0, text height=0, text depth=0}},\n",
       "\trow 2/.style={nodes={text=black, anchor=south, inner ysep=.2em, minimum height=1.3em, font=\\bfseries}},\n",
       "\tcolumn  1/.style={nodes={align=left  }, text height=0.9em, text depth=0.2em, inner xsep=0.375em, inner ysep=0, text width=7.20em},\n",
       "\tcolumn  2/.style={nodes={align=left  }, nosep, text width=4.20em},\n",
       "\tcolumn  3/.style={nodes={align=right }, nosep, text width=2.40em},\n",
       "\tcolumn  4/.style={nodes={align=left  }, nosep, text width=46.80em},\n",
       "\tcolumn  5/.style={nodes={align=left  }, nosep, text width=41.40em},\n",
       "\tcolumn  6/.style={text height=0.9em, text depth=0.2em, nosep, text width=0em}\t}]\n",
       "\\matrix (T2AA6N5QDXCHB) [table, ampersand replacement=\\&]{\n",
       "              \\&         \\&      \\&                                                                                \\&                                                                       \\& \\\\\n",
       " tag\\grtspacer \\& type\\grtspacer \\& year\\grtspacer \\& author\\grtspacer                                                               \\& title\\grtspacer                                                       \\& \\\\\n",
       " Centrone2025 \\& article \\& 2025 \\& Centrone, Francesca and {Rosazza Gianin}, Emanuela                             \\& Capital Allocation Rules and Generalized Collapse to the Mean         \\& \\\\\n",
       " Liebrich2022 \\& article \\& 2022 \\& Liebrich, Felix Benedikt and Munari, Cosimo                                    \\& Law-invariant functionals that collapse to the mean: beyond convexity \\& \\\\\n",
       " Bellini2021  \\& article \\& 2021 \\& Bellini, Fabio and Koch-Medina, Pablo and Munari, Cosimo and Svindland, Gregor \\& Law-invariant functionals that collapse to the mean                   \\& \\\\\n",
       " Bellini2021a \\& article \\& 2021 \\& Bellini, Fabio and Koch-Medina, Pablo and Munari, Cosimo and Svindland, Gregor \\& Law-invariant functionals that collapse to the mean                   \\& \\\\\n",
       " Chen2021a    \\& article \\& 2021 \\& Chen, Shengzhong and Gao, Niushan and Leung, Denny H. and Li, Lei              \\& Do law-invariant linear functionals collapse to the mean?             \\& \\\\\n",
       "};\n",
       "\n",
       "\\path[draw, thick] (T2AA6N5QDXCHB-1-1.south west)  -- (T2AA6N5QDXCHB-1-6.south east);\n",
       "\\path[draw, semithick] ([yshift=-0.0625em]T2AA6N5QDXCHB-2-1.south west)  -- ([yshift=-0.0625em]T2AA6N5QDXCHB-2-6.south east);\n",
       "\\path[draw, thick] ([yshift=-0.3125em]T2AA6N5QDXCHB-7-1.base west)  -- ([yshift=-0.3125em]T2AA6N5QDXCHB-7-6.base east);\n",
       "\n",
       "\n",
       "\n",
       "\\end{tikzpicture}\n"
      ],
      "text/plain": [
       "GreaterTable(df_id=T2AA6N5QDXCHB)"
      ]
     },
     "execution_count": 25,
     "metadata": {},
     "output_type": "execute_result"
    },
    {
     "name": "stdout",
     "output_type": "stream",
     "text": [
      "time: 62 ms (started: 2025-05-30 00:00:47 +01:00)\n"
     ]
    }
   ],
   "source": [
    "fGT(lib.ref_df.querex('top 10 recent title ~ /Collapse to the Mean/'))"
   ]
  },
  {
   "cell_type": "code",
   "execution_count": 5,
   "id": "3298f722-6f16-40ff-8157-ddb5dc1b60bc",
   "metadata": {},
   "outputs": [
    {
     "data": {
      "text/html": [
       "<div>\n",
       "<style scoped>\n",
       "    .dataframe tbody tr th:only-of-type {\n",
       "        vertical-align: middle;\n",
       "    }\n",
       "\n",
       "    .dataframe tbody tr th {\n",
       "        vertical-align: top;\n",
       "    }\n",
       "\n",
       "    .dataframe thead th {\n",
       "        text-align: right;\n",
       "    }\n",
       "</style>\n",
       "<table border=\"1\" class=\"dataframe\">\n",
       "  <thead>\n",
       "    <tr style=\"text-align: right;\">\n",
       "      <th></th>\n",
       "      <th>distinct</th>\n",
       "      <th>missing</th>\n",
       "    </tr>\n",
       "  </thead>\n",
       "  <tbody>\n",
       "    <tr>\n",
       "      <th>tag</th>\n",
       "      <td>6118</td>\n",
       "      <td>0</td>\n",
       "    </tr>\n",
       "    <tr>\n",
       "      <th>type</th>\n",
       "      <td>10</td>\n",
       "      <td>0</td>\n",
       "    </tr>\n",
       "    <tr>\n",
       "      <th>author</th>\n",
       "      <td>4662</td>\n",
       "      <td>5</td>\n",
       "    </tr>\n",
       "    <tr>\n",
       "      <th>doi</th>\n",
       "      <td>2539</td>\n",
       "      <td>3431</td>\n",
       "    </tr>\n",
       "    <tr>\n",
       "      <th>journal</th>\n",
       "      <td>1225</td>\n",
       "      <td>2643</td>\n",
       "    </tr>\n",
       "    <tr>\n",
       "      <th>pages</th>\n",
       "      <td>2749</td>\n",
       "      <td>2233</td>\n",
       "    </tr>\n",
       "    <tr>\n",
       "      <th>title</th>\n",
       "      <td>5902</td>\n",
       "      <td>0</td>\n",
       "    </tr>\n",
       "    <tr>\n",
       "      <th>volume</th>\n",
       "      <td>454</td>\n",
       "      <td>3143</td>\n",
       "    </tr>\n",
       "    <tr>\n",
       "      <th>year</th>\n",
       "      <td>100</td>\n",
       "      <td>256</td>\n",
       "    </tr>\n",
       "    <tr>\n",
       "      <th>publisher</th>\n",
       "      <td>169</td>\n",
       "      <td>5579</td>\n",
       "    </tr>\n",
       "    <tr>\n",
       "      <th>url</th>\n",
       "      <td>1387</td>\n",
       "      <td>4672</td>\n",
       "    </tr>\n",
       "    <tr>\n",
       "      <th>institution</th>\n",
       "      <td>108</td>\n",
       "      <td>5983</td>\n",
       "    </tr>\n",
       "    <tr>\n",
       "      <th>number</th>\n",
       "      <td>371</td>\n",
       "      <td>2934</td>\n",
       "    </tr>\n",
       "    <tr>\n",
       "      <th>mendeley-tags</th>\n",
       "      <td>187</td>\n",
       "      <td>4425</td>\n",
       "    </tr>\n",
       "    <tr>\n",
       "      <th>booktitle</th>\n",
       "      <td>241</td>\n",
       "      <td>5842</td>\n",
       "    </tr>\n",
       "    <tr>\n",
       "      <th>edition</th>\n",
       "      <td>13</td>\n",
       "      <td>6053</td>\n",
       "    </tr>\n",
       "    <tr>\n",
       "      <th>month</th>\n",
       "      <td>13</td>\n",
       "      <td>5939</td>\n",
       "    </tr>\n",
       "    <tr>\n",
       "      <th>address</th>\n",
       "      <td>39</td>\n",
       "      <td>6029</td>\n",
       "    </tr>\n",
       "    <tr>\n",
       "      <th>editor</th>\n",
       "      <td>14</td>\n",
       "      <td>6105</td>\n",
       "    </tr>\n",
       "    <tr>\n",
       "      <th>arc-citations</th>\n",
       "      <td>144</td>\n",
       "      <td>5915</td>\n",
       "    </tr>\n",
       "    <tr>\n",
       "      <th>arc-source</th>\n",
       "      <td>1</td>\n",
       "      <td>0</td>\n",
       "    </tr>\n",
       "  </tbody>\n",
       "</table>\n",
       "</div>"
      ],
      "text/plain": [
       "               distinct  missing\n",
       "tag                6118        0\n",
       "type                 10        0\n",
       "author             4662        5\n",
       "doi                2539     3431\n",
       "journal            1225     2643\n",
       "pages              2749     2233\n",
       "title              5902        0\n",
       "volume              454     3143\n",
       "year                100      256\n",
       "publisher           169     5579\n",
       "url                1387     4672\n",
       "institution         108     5983\n",
       "number              371     2934\n",
       "mendeley-tags       187     4425\n",
       "booktitle           241     5842\n",
       "edition              13     6053\n",
       "month                13     5939\n",
       "address              39     6029\n",
       "editor               14     6105\n",
       "arc-citations       144     5915\n",
       "arc-source            1        0"
      ]
     },
     "execution_count": 5,
     "metadata": {},
     "output_type": "execute_result"
    },
    {
     "name": "stdout",
     "output_type": "stream",
     "text": [
      "time: 47 ms (started: 2025-05-28 14:29:06 +01:00)\n"
     ]
    }
   ],
   "source": [
    "lib.stats_ref_fields()"
   ]
  },
  {
   "cell_type": "code",
   "execution_count": 186,
   "id": "96ed0b40-4091-4818-a54c-021b3b406786",
   "metadata": {},
   "outputs": [
    {
     "data": {
      "text/plain": [
       "[WindowsPath('/users/steve/downloads/1-s2.0-S016766872500037X-main.pdf'),\n",
       " WindowsPath('/users/steve/downloads/1-s2.0-S0167668725000599-main.pdf'),\n",
       " WindowsPath('/users/steve/downloads/1176996608.pdf'),\n",
       " WindowsPath('/users/steve/downloads/12-AAP857.pdf'),\n",
       " WindowsPath('/users/steve/downloads/2023-Dhaene-Robert-Cheung-Denuit.pdf'),\n",
       " WindowsPath('/users/steve/downloads/2305.17743v2.pdf'),\n",
       " WindowsPath('/users/steve/downloads/3_Obstfeld.pdf'),\n",
       " WindowsPath('/users/steve/downloads/9309211v2.pdf'),\n",
       " WindowsPath('/users/steve/downloads/CT 12 10738 - Legacy Filing Packet 08-14-2012 {AFM ap}.pdf'),\n",
       " WindowsPath('/users/steve/downloads/Explanatory Memorandum.pdf'),\n",
       " WindowsPath('/users/steve/downloads/Gaussian emergence - accompanying note.pdf'),\n",
       " WindowsPath('/users/steve/downloads/Gaussian emergence for stochastic reserve risk modelling.pdf'),\n",
       " WindowsPath('/users/steve/downloads/gross-zagier.pdf'),\n",
       " WindowsPath('/users/steve/downloads/NJ HO 2024 Filing.pdf'),\n",
       " WindowsPath('/users/steve/downloads/rpm_2010_handouts_rr3-appel.pdf'),\n",
       " WindowsPath('/users/steve/downloads/ssrn-2143344.pdf'),\n",
       " WindowsPath('/users/steve/downloads/ssrn-4424087.pdf'),\n",
       " WindowsPath('/users/steve/downloads/ssrn-955472.pdf'),\n",
       " WindowsPath('/users/steve/downloads/Tanner-Wong-1987.pdf'),\n",
       " WindowsPath('/users/steve/downloads/Units of Risk.pdf')]"
      ]
     },
     "execution_count": 186,
     "metadata": {},
     "output_type": "execute_result"
    },
    {
     "name": "stdout",
     "output_type": "stream",
     "text": [
      "time: 0 ns (started: 2025-05-28 10:18:09 +01:00)\n"
     ]
    }
   ],
   "source": [
    "ps2 = list(Path('\\\\users\\\\steve\\\\downloads').glob('*.pdf'))\n",
    "ps2"
   ]
  },
  {
   "cell_type": "code",
   "execution_count": null,
   "id": "60f6fb49-2a1e-4eb5-be1b-d86fdc48a9a8",
   "metadata": {},
   "outputs": [],
   "source": [
    "text_dir_name='\\\\temp\\\\pdf-full-text'\n",
    "extractor='pdftotext'\n",
    "pDocument = partial(arcd.Document, text_dir_path=Path(text_dir_name), extractor=extractor)\n",
    "ps = lib.doc_df.sample(200).path\n",
    "\n",
    "ans = []\n",
    "for p in ps:\n",
    "    p = Path(p)\n",
    "    d = pDocument(p)\n",
    "    a = d.meta_data(lib)\n",
    "    ans.append([p.name, a.author, a.author_ex, a.subject, a.title, a.raw])\n",
    "\n",
    "df = pd.DataFrame(ans, columns=['name', 'author', 'author_ex', 'subject', 'title', 'raw'])\n",
    "fGT(df)"
   ]
  },
  {
   "cell_type": "markdown",
   "id": "53e9ff9a-6e28-4306-b221-63cc73d708d4",
   "metadata": {},
   "source": [
    "# GUI"
   ]
  },
  {
   "cell_type": "code",
   "execution_count": 10,
   "id": "f4ec87f0-3114-4f91-8fe6-cad2f0664e26",
   "metadata": {},
   "outputs": [
    {
     "name": "stdout",
     "output_type": "stream",
     "text": [
      "time: 0 ns (started: 2025-05-27 23:20:03 +01:00)\n"
     ]
    }
   ],
   "source": [
    "def edit_book_info():\n",
    "    import tkinter as tk\n",
    "    from tkinter import messagebox\n",
    "\n",
    "    def on_done():\n",
    "        nonlocal result\n",
    "        result = {\n",
    "            \"Title\": title_var.get(),\n",
    "            \"Author\": author_var.get(),\n",
    "            \"Year\": year_var.get()\n",
    "        }\n",
    "        root.destroy()\n",
    "\n",
    "    def on_cancel():\n",
    "        root.destroy()\n",
    "\n",
    "    result = None\n",
    "    root = tk.Tk()\n",
    "    root.title(\"Edit Book\")\n",
    "\n",
    "    tk.Label(root, text=\"Title\").grid(row=0, column=0, sticky=\"e\")\n",
    "    tk.Label(root, text=\"Author\").grid(row=1, column=0, sticky=\"e\")\n",
    "    tk.Label(root, text=\"Year\").grid(row=2, column=0, sticky=\"e\")\n",
    "\n",
    "    title_var = tk.StringVar(value=\"The Great Gatsby\")\n",
    "    author_var = tk.StringVar(value=\"F. Scott Fitzgerald\")\n",
    "    year_var = tk.StringVar(value=\"1925\")\n",
    "\n",
    "    tk.Entry(root, textvariable=title_var).grid(row=0, column=1)\n",
    "    tk.Entry(root, textvariable=author_var).grid(row=1, column=1)\n",
    "    tk.Entry(root, textvariable=year_var).grid(row=2, column=1)\n",
    "\n",
    "    tk.Button(root, text=\"Cancel\", command=on_cancel).grid(row=3, column=0, pady=10)\n",
    "    tk.Button(root, text=\"Done\", command=on_done).grid(row=3, column=1, pady=10)\n",
    "\n",
    "    root.mainloop()\n",
    "    return result\n"
   ]
  },
  {
   "cell_type": "code",
   "execution_count": 12,
   "id": "d21b5ca3-1ac6-42c4-b469-0e4dc250d5fd",
   "metadata": {},
   "outputs": [
    {
     "name": "stdout",
     "output_type": "stream",
     "text": [
      "time: 16 ms (started: 2025-05-27 23:23:06 +01:00)\n"
     ]
    }
   ],
   "source": [
    "import tkinter as tk\n",
    "\n",
    "def edit_fields(data, mandatory=(), title=\"Edit Info\"):\n",
    "    result = None\n",
    "    fields = dict(data)\n",
    "    for key in mandatory:\n",
    "        fields.setdefault(key, \"\")\n",
    "\n",
    "    def on_done():\n",
    "        nonlocal result\n",
    "        result = {k: vars_[k].get() for k in fields}\n",
    "        root.destroy()\n",
    "\n",
    "    def on_cancel():\n",
    "        root.destroy()\n",
    "\n",
    "    root = tk.Tk()\n",
    "    root.title(title)\n",
    "\n",
    "    vars_ = {}\n",
    "    for row, (key, value) in enumerate(fields.items()):\n",
    "        tk.Label(root, text=key).grid(row=row, column=0, sticky=\"e\", padx=5, pady=2)\n",
    "        var = tk.StringVar(value=value)\n",
    "        vars_[key] = var\n",
    "        tk.Entry(root, textvariable=var).grid(row=row, column=1, padx=5, pady=2)\n",
    "\n",
    "    row += 1\n",
    "    tk.Button(root, text=\"Cancel\", width=10, command=on_cancel).grid(row=row, column=0, pady=10)\n",
    "    tk.Button(root, text=\"Done\", width=10, command=on_done).grid(row=row, column=1, pady=10)\n",
    "\n",
    "    root.mainloop()\n",
    "    return result\n"
   ]
  },
  {
   "cell_type": "code",
   "execution_count": 13,
   "id": "153dd0aa-3d15-49a7-8c26-96bde32a74d2",
   "metadata": {},
   "outputs": [
    {
     "name": "stdout",
     "output_type": "stream",
     "text": [
      "time: 0 ns (started: 2025-05-27 23:23:51 +01:00)\n"
     ]
    }
   ],
   "source": [
    "bi = {'title': \"Once upon a time in America\", \n",
    "     'author': 'LeLilo, Don.', \n",
    "     'year': 2008}\n",
    "mand = ['title', 'publisher']"
   ]
  },
  {
   "cell_type": "code",
   "execution_count": 14,
   "id": "03ccfa66-9e09-45d6-bd56-3935f706509b",
   "metadata": {},
   "outputs": [
    {
     "data": {
      "text/plain": [
       "{'title': 'Once upon a time in America',\n",
       " 'author': 'LeLilo, Don.',\n",
       " 'year': '2008',\n",
       " 'publisher': ''}"
      ]
     },
     "execution_count": 14,
     "metadata": {},
     "output_type": "execute_result"
    },
    {
     "name": "stdout",
     "output_type": "stream",
     "text": [
      "time: 13.8 s (started: 2025-05-27 23:24:01 +01:00)\n"
     ]
    }
   ],
   "source": [
    "edit_fields(bi, mand)"
   ]
  },
  {
   "cell_type": "code",
   "execution_count": 11,
   "id": "bd3336c9-df1b-4657-a16c-d591583221fa",
   "metadata": {},
   "outputs": [
    {
     "data": {
      "text/plain": [
       "{'Title': 'The Great Gatsby', 'Author': 'F. Scott Fitzgerald', 'Year': '1925'}"
      ]
     },
     "execution_count": 11,
     "metadata": {},
     "output_type": "execute_result"
    },
    {
     "name": "stdout",
     "output_type": "stream",
     "text": [
      "time: 20.4 s (started: 2025-05-27 23:20:11 +01:00)\n"
     ]
    }
   ],
   "source": [
    "edit_book_info()"
   ]
  },
  {
   "cell_type": "code",
   "execution_count": 48,
   "id": "5db55708-b8f0-4c3d-812a-9f5cc01766c5",
   "metadata": {},
   "outputs": [
    {
     "name": "stdout",
     "output_type": "stream",
     "text": [
      "time: 0 ns (started: 2025-05-27 23:39:52 +01:00)\n"
     ]
    }
   ],
   "source": [
    "import tkinter as tk\n",
    "from tkinter import ttk\n",
    "\n",
    "def edit_fields(data, mandatory=(), title=\"Edit Info\", known_values=None):\n",
    "    result = None\n",
    "    fields = dict(data)\n",
    "    for key in mandatory:\n",
    "        fields.setdefault(key, \"\")\n",
    "\n",
    "    known_values = known_values or {}\n",
    "    vars_ = {}\n",
    "\n",
    "    def on_done():\n",
    "        nonlocal result\n",
    "        result = {k: vars_[k].get() for k in fields}\n",
    "        root.destroy()\n",
    "\n",
    "    def on_cancel():\n",
    "        root.destroy()\n",
    "\n",
    "    def setup_combobox(box, values):\n",
    "        def on_key(event):\n",
    "            val = box.get().lower()\n",
    "            matches = [v for v in values if val in v.lower()]\n",
    "            if matches:\n",
    "                box['values'] = matches\n",
    "            else:\n",
    "                box['values'] = values\n",
    "        box.bind('<KeyRelease>', on_key)\n",
    "        \n",
    "    root = tk.Tk()\n",
    "    root.title(title)\n",
    "    root.geometry(\"700x400\")  # wider window\n",
    "\n",
    "    for row, (key, value) in enumerate(fields.items()):\n",
    "        tk.Label(root, text=key).grid(row=row, column=0, sticky=\"e\", padx=5, pady=4)\n",
    "        var = tk.StringVar(value=value)\n",
    "        vars_[key] = var\n",
    "\n",
    "        if key in known_values:\n",
    "            box = ttk.Combobox(root, textvariable=var, values=known_values[key])\n",
    "            box.config(width=80)\n",
    "            box.grid(row=row, column=1, padx=5, pady=4)\n",
    "            setup_combobox(box, known_values[key])\n",
    "        else:\n",
    "            tk.Entry(root, textvariable=var, width=80).grid(row=row, column=1, padx=5, pady=4)\n",
    "\n",
    "    row += 1\n",
    "    btn_frame = tk.Frame(root)\n",
    "    btn_frame.grid(row=row, column=0, columnspan=2, pady=20)\n",
    "    tk.Button(btn_frame, text=\"Cancel\", width=12, command=on_cancel).pack(side=\"left\", padx=10)\n",
    "    tk.Button(btn_frame, text=\"Done\", width=12, command=on_done).pack(side=\"right\", padx=10)\n",
    "\n",
    "    root.mainloop()\n",
    "    return result\n"
   ]
  },
  {
   "cell_type": "code",
   "execution_count": 71,
   "id": "5d95a1dc-ade8-4d97-a04f-37ad404dc2b2",
   "metadata": {},
   "outputs": [
    {
     "name": "stdout",
     "output_type": "stream",
     "text": [
      "time: 0 ns (started: 2025-05-27 23:54:36 +01:00)\n"
     ]
    }
   ],
   "source": [
    "import tkinter as tk\n",
    "from tkinter import ttk\n",
    "from rapidfuzz import process\n",
    "\n",
    "def edit_fields(data, mandatory=(), title=\"Edit Info\", known_values=None):\n",
    "    result = None\n",
    "    fields = dict(data)\n",
    "    for key in mandatory:\n",
    "        fields.setdefault(key, \"\")\n",
    "    \n",
    "    FONT = (\"Segoe UI\", 10)\n",
    "\n",
    "    known_values = known_values or {}\n",
    "    vars_ = {}\n",
    "\n",
    "    def on_done():\n",
    "        nonlocal result\n",
    "        result = {k: vars_[k].get() for k in fields}\n",
    "        root.destroy()\n",
    "\n",
    "    def on_cancel():\n",
    "        root.destroy()\n",
    "\n",
    "    def on_next():\n",
    "\n",
    "    def on_previous()\n",
    "    \n",
    "    def setup_fuzzy_combobox(box, values):\n",
    "        def on_key(event):\n",
    "            current = box.get()\n",
    "            if current:\n",
    "                match, score, _ = process.extractOne(current, values, score_cutoff=40)\n",
    "                if match:\n",
    "                    box.set(match)\n",
    "        box.bind('<FocusOut>', on_key)\n",
    "        box.bind('<Tab>', on_key)\n",
    "\n",
    "    root = tk.Tk()\n",
    "    root.title(title)\n",
    "    root.geometry(\"800x500\")\n",
    "\n",
    "    for row, (key, value) in enumerate(fields.items()):\n",
    "        tk.Label(root, text=key).grid(row=row, column=0, sticky=\"e\", padx=5, pady=4)\n",
    "        var = tk.StringVar(value=value)\n",
    "        vars_[key] = var\n",
    "\n",
    "        if key in known_values:\n",
    "            box = ttk.Combobox(root, textvariable=var, values=known_values[key], width=80, font=FONT)\n",
    "            box.grid(row=row, column=1, padx=5, pady=4)\n",
    "            setup_fuzzy_combobox(box, known_values[key])\n",
    "        else:\n",
    "            tk.Entry(root, textvariable=var, width=82, font=FONT).grid(row=row, column=1, padx=5, pady=4)\n",
    "\n",
    "    row += 1\n",
    "    btn_frame = tk.Frame(root)\n",
    "    btn_frame.grid(row=row, column=0, columnspan=2, pady=20)\n",
    "    tk.Button(btn_frame, text=\"Cancel\", width=12, command=on_cancel).pack(side=\"left\", padx=10)\n",
    "    tk.Button(btn_frame, text=\"Done\", width=12, command=on_done).pack(side=\"right\", padx=10)\n",
    "    tk.Button(btn_frame, text=\"Previous\", width=12, command=on_previous).pack(side=\"right\", padx=10)\n",
    "    tk.Button(btn_frame, text=\"Next\", width=12, command=on_next).pack(side=\"right\", padx=10)\n",
    "\n",
    "    root.mainloop()\n",
    "    return result\n"
   ]
  },
  {
   "cell_type": "code",
   "execution_count": 76,
   "id": "047581d0-fe33-4954-aefa-eb79a636d5ea",
   "metadata": {},
   "outputs": [
    {
     "name": "stdout",
     "output_type": "stream",
     "text": [
      "time: 0 ns (started: 2025-05-28 00:02:34 +01:00)\n"
     ]
    }
   ],
   "source": [
    "import tkinter as tk\n",
    "from tkinter import ttk\n",
    "from rapidfuzz import process\n",
    "import pandas as pd\n",
    "\n",
    "def edit_fields_from_df(df, i, mandatory=(), title=\"Edit Row\", known_values=None):\n",
    "    result = None\n",
    "    rowcount = len(df)\n",
    "    fields = df.iloc[i].to_dict()\n",
    "    for key in mandatory:\n",
    "        fields.setdefault(key, \"\")\n",
    "\n",
    "    known_values = known_values or {}\n",
    "    vars_ = {}\n",
    "\n",
    "    def load_row(idx):\n",
    "        for k in fields:\n",
    "            val = str(df.iloc[idx].get(k, \"\"))\n",
    "            vars_[k].set(val)\n",
    "\n",
    "    def save_row():\n",
    "        return {k: vars_[k].get() for k in fields}\n",
    "\n",
    "    def on_done():\n",
    "        nonlocal result\n",
    "        result = (save_row(), current[0])\n",
    "        root.destroy()\n",
    "\n",
    "    def on_cancel():\n",
    "        root.destroy()\n",
    "\n",
    "    def on_prev():\n",
    "        if current[0] > 0:\n",
    "            current[0] -= 1\n",
    "            load_row(current[0])\n",
    "\n",
    "    def on_next():\n",
    "        if current[0] < rowcount - 1:\n",
    "            current[0] += 1\n",
    "            load_row(current[0])\n",
    "\n",
    "    def setup_fuzzy_combobox(box, values):\n",
    "        def on_key(event):\n",
    "            current = box.get()\n",
    "            if current:\n",
    "                match, score, _ = process.extractOne(current, values, score_cutoff=70)\n",
    "                if match and match != current:\n",
    "                    box.set(match)\n",
    "                    box.icursor(tk.END)\n",
    "        box.bind('<KeyRelease>', on_key)\n",
    "\n",
    "    current = [i]  # mutable index holder\n",
    "    root = tk.Tk()\n",
    "    root.title(title)\n",
    "    root.geometry(\"800x500\")\n",
    "\n",
    "    for row, key in enumerate(fields):\n",
    "        tk.Label(root, text=key).grid(row=row, column=0, sticky=\"e\", padx=5, pady=4)\n",
    "        var = tk.StringVar()\n",
    "        vars_[key] = var\n",
    "\n",
    "        if key in known_values:\n",
    "            box = ttk.Combobox(root, textvariable=var, values=known_values[key], width=80)\n",
    "            box.grid(row=row, column=1, padx=5, pady=4)\n",
    "            setup_fuzzy_combobox(box, known_values[key])\n",
    "        else:\n",
    "            tk.Entry(root, textvariable=var, width=80).grid(row=row, column=1, padx=5, pady=4)\n",
    "\n",
    "    load_row(i)\n",
    "\n",
    "    row += 1\n",
    "    btn_frame = tk.Frame(root)\n",
    "    btn_frame.grid(row=row, column=0, columnspan=2, pady=20)\n",
    "    tk.Button(btn_frame, text=\"Previous\", width=12, command=on_prev).pack(side=\"left\", padx=5)\n",
    "    tk.Button(btn_frame, text=\"Next\", width=12, command=on_next).pack(side=\"left\", padx=5)\n",
    "    tk.Button(btn_frame, text=\"Cancel\", width=12, command=on_cancel).pack(side=\"left\", padx=20)\n",
    "    tk.Button(btn_frame, text=\"Done\", width=12, command=on_done).pack(side=\"left\", padx=5)\n",
    "\n",
    "    root.mainloop()\n",
    "    return result\n"
   ]
  },
  {
   "cell_type": "code",
   "execution_count": 80,
   "id": "499838fe-a16b-429b-8bb5-d2c55becc416",
   "metadata": {},
   "outputs": [
    {
     "name": "stdout",
     "output_type": "stream",
     "text": [
      "time: 32 ms (started: 2025-05-28 00:04:24 +01:00)\n"
     ]
    }
   ],
   "source": [
    "mandatory = ['type', 'author', 'title', 'year', 'journal', 'publisher']\n",
    "defaults = {\n",
    "    k: lib.distinct(k) for k in mandatory\n",
    "}"
   ]
  },
  {
   "cell_type": "code",
   "execution_count": 81,
   "id": "7ba386a0-e1ec-4652-8f25-c5a416397f78",
   "metadata": {},
   "outputs": [
    {
     "name": "stdout",
     "output_type": "stream",
     "text": [
      "time: 58.5 s (started: 2025-05-28 00:04:29 +01:00)\n"
     ]
    }
   ],
   "source": [
    "# def edit_fields_from_df(df, i, mandatory=(), title=\"Edit Row\", known_values=None):\n",
    "updated = edit_fields_from_df(lib.ref_df.sample(20).reset_index(drop=True)[mandatory], 0, mandatory, title=\"Edit Book Info\", known_values=defaults)\n",
    "updated"
   ]
  },
  {
   "cell_type": "code",
   "execution_count": null,
   "id": "f741c1bf-e6a4-4e68-9dc2-9f8a61911b2e",
   "metadata": {},
   "outputs": [],
   "source": []
  },
  {
   "cell_type": "code",
   "execution_count": 79,
   "id": "81ac776e-0354-4400-893a-acf56baf664a",
   "metadata": {},
   "outputs": [
    {
     "data": {
      "text/html": [
       "<div>\n",
       "<style scoped>\n",
       "    .dataframe tbody tr th:only-of-type {\n",
       "        vertical-align: middle;\n",
       "    }\n",
       "\n",
       "    .dataframe tbody tr th {\n",
       "        vertical-align: top;\n",
       "    }\n",
       "\n",
       "    .dataframe thead th {\n",
       "        text-align: right;\n",
       "    }\n",
       "</style>\n",
       "<table border=\"1\" class=\"dataframe\">\n",
       "  <thead>\n",
       "    <tr style=\"text-align: right;\">\n",
       "      <th></th>\n",
       "      <th>0</th>\n",
       "      <th>1</th>\n",
       "      <th>2</th>\n",
       "      <th>3</th>\n",
       "      <th>4</th>\n",
       "    </tr>\n",
       "  </thead>\n",
       "  <tbody>\n",
       "    <tr>\n",
       "      <th>tag</th>\n",
       "      <td>Peng2019</td>\n",
       "      <td>Cummins2009a</td>\n",
       "      <td>Ali2017</td>\n",
       "      <td>Keich2005</td>\n",
       "      <td>Ridley1976</td>\n",
       "    </tr>\n",
       "    <tr>\n",
       "      <th>type</th>\n",
       "      <td>article</td>\n",
       "      <td>article</td>\n",
       "      <td>article</td>\n",
       "      <td>article</td>\n",
       "      <td>book</td>\n",
       "    </tr>\n",
       "    <tr>\n",
       "      <th>author</th>\n",
       "      <td>Peng, Shige</td>\n",
       "      <td>Cummins, J. David and Weiss, Mary A. and Zi, Hongmin</td>\n",
       "      <td>Ali, Muneeb and Shea, Ryan and Nelson, Jude and Freedman, Michael J.</td>\n",
       "      <td>Keich, Uri</td>\n",
       "      <td>Ridley, B. K.</td>\n",
       "    </tr>\n",
       "    <tr>\n",
       "      <th>doi</th>\n",
       "      <td>10.1186/s41546-019-0038-2</td>\n",
       "      <td>10.1287/mnsc.45.9.1254</td>\n",
       "      <td></td>\n",
       "      <td></td>\n",
       "      <td>10.1119/1.11114</td>\n",
       "    </tr>\n",
       "    <tr>\n",
       "      <th>journal</th>\n",
       "      <td>Probability, Uncertainty and Quantitative Risk</td>\n",
       "      <td>Management Science</td>\n",
       "      <td></td>\n",
       "      <td>Journal of Computational Biology</td>\n",
       "      <td></td>\n",
       "    </tr>\n",
       "    <tr>\n",
       "      <th>pages</th>\n",
       "      <td>1--8</td>\n",
       "      <td>1254--1269</td>\n",
       "      <td></td>\n",
       "      <td>416--430</td>\n",
       "      <td></td>\n",
       "    </tr>\n",
       "    <tr>\n",
       "      <th>title</th>\n",
       "      <td>{Law of large numbers and central limit theorem under nonlinear expectations}</td>\n",
       "      <td>{Organizational Form and Efficiency: The Coexistence of Stock and Mutual Property-Liability Insu...</td>\n",
       "      <td>{Blockstack: A New Internet for Decentralized Applications}</td>\n",
       "      <td>{sFFT: A Faster Accurate Computation of the p-Value of the Entropy Score}</td>\n",
       "      <td>{Time, Space and Things}</td>\n",
       "    </tr>\n",
       "    <tr>\n",
       "      <th>volume</th>\n",
       "      <td>4</td>\n",
       "      <td>45</td>\n",
       "      <td></td>\n",
       "      <td>12</td>\n",
       "      <td></td>\n",
       "    </tr>\n",
       "    <tr>\n",
       "      <th>year</th>\n",
       "      <td>2019</td>\n",
       "      <td>2009</td>\n",
       "      <td>2017</td>\n",
       "      <td>2005</td>\n",
       "      <td>1976</td>\n",
       "    </tr>\n",
       "    <tr>\n",
       "      <th>publisher</th>\n",
       "      <td></td>\n",
       "      <td></td>\n",
       "      <td></td>\n",
       "      <td></td>\n",
       "      <td>Penguin Books Ltd.</td>\n",
       "    </tr>\n",
       "    <tr>\n",
       "      <th>url</th>\n",
       "      <td></td>\n",
       "      <td></td>\n",
       "      <td>https://blockstack.org/whitepaper.pdf</td>\n",
       "      <td></td>\n",
       "      <td></td>\n",
       "    </tr>\n",
       "    <tr>\n",
       "      <th>institution</th>\n",
       "      <td></td>\n",
       "      <td></td>\n",
       "      <td></td>\n",
       "      <td></td>\n",
       "      <td></td>\n",
       "    </tr>\n",
       "    <tr>\n",
       "      <th>number</th>\n",
       "      <td>1</td>\n",
       "      <td>9</td>\n",
       "      <td></td>\n",
       "      <td>4</td>\n",
       "      <td></td>\n",
       "    </tr>\n",
       "    <tr>\n",
       "      <th>mendeley-tags</th>\n",
       "      <td></td>\n",
       "      <td>Cummins</td>\n",
       "      <td></td>\n",
       "      <td>FFT</td>\n",
       "      <td>Book</td>\n",
       "    </tr>\n",
       "    <tr>\n",
       "      <th>booktitle</th>\n",
       "      <td></td>\n",
       "      <td></td>\n",
       "      <td></td>\n",
       "      <td></td>\n",
       "      <td></td>\n",
       "    </tr>\n",
       "    <tr>\n",
       "      <th>edition</th>\n",
       "      <td></td>\n",
       "      <td></td>\n",
       "      <td></td>\n",
       "      <td></td>\n",
       "      <td></td>\n",
       "    </tr>\n",
       "    <tr>\n",
       "      <th>month</th>\n",
       "      <td></td>\n",
       "      <td></td>\n",
       "      <td></td>\n",
       "      <td></td>\n",
       "      <td></td>\n",
       "    </tr>\n",
       "    <tr>\n",
       "      <th>address</th>\n",
       "      <td></td>\n",
       "      <td></td>\n",
       "      <td></td>\n",
       "      <td></td>\n",
       "      <td></td>\n",
       "    </tr>\n",
       "    <tr>\n",
       "      <th>editor</th>\n",
       "      <td></td>\n",
       "      <td></td>\n",
       "      <td></td>\n",
       "      <td></td>\n",
       "      <td></td>\n",
       "    </tr>\n",
       "    <tr>\n",
       "      <th>arc-citations</th>\n",
       "      <td>0</td>\n",
       "      <td>0</td>\n",
       "      <td>0</td>\n",
       "      <td>0</td>\n",
       "      <td>0</td>\n",
       "    </tr>\n",
       "    <tr>\n",
       "      <th>arc-source</th>\n",
       "      <td>mendeley</td>\n",
       "      <td>mendeley</td>\n",
       "      <td>mendeley</td>\n",
       "      <td>mendeley</td>\n",
       "      <td>mendeley</td>\n",
       "    </tr>\n",
       "  </tbody>\n",
       "</table>\n",
       "</div>"
      ],
      "text/plain": [
       "                                                                                           0  \\\n",
       "tag                                                                                 Peng2019   \n",
       "type                                                                                 article   \n",
       "author                                                                           Peng, Shige   \n",
       "doi                                                                10.1186/s41546-019-0038-2   \n",
       "journal                                       Probability, Uncertainty and Quantitative Risk   \n",
       "pages                                                                                   1--8   \n",
       "title          {Law of large numbers and central limit theorem under nonlinear expectations}   \n",
       "volume                                                                                     4   \n",
       "year                                                                                    2019   \n",
       "publisher                                                                                      \n",
       "url                                                                                            \n",
       "institution                                                                                    \n",
       "number                                                                                     1   \n",
       "mendeley-tags                                                                                  \n",
       "booktitle                                                                                      \n",
       "edition                                                                                        \n",
       "month                                                                                          \n",
       "address                                                                                        \n",
       "editor                                                                                         \n",
       "arc-citations                                                                              0   \n",
       "arc-source                                                                          mendeley   \n",
       "\n",
       "                                                                                                                 1  \\\n",
       "tag                                                                                                   Cummins2009a   \n",
       "type                                                                                                       article   \n",
       "author                                                        Cummins, J. David and Weiss, Mary A. and Zi, Hongmin   \n",
       "doi                                                                                         10.1287/mnsc.45.9.1254   \n",
       "journal                                                                                         Management Science   \n",
       "pages                                                                                                   1254--1269   \n",
       "title          {Organizational Form and Efficiency: The Coexistence of Stock and Mutual Property-Liability Insu...   \n",
       "volume                                                                                                          45   \n",
       "year                                                                                                          2009   \n",
       "publisher                                                                                                            \n",
       "url                                                                                                                  \n",
       "institution                                                                                                          \n",
       "number                                                                                                           9   \n",
       "mendeley-tags                                                                                              Cummins   \n",
       "booktitle                                                                                                            \n",
       "edition                                                                                                              \n",
       "month                                                                                                                \n",
       "address                                                                                                              \n",
       "editor                                                                                                               \n",
       "arc-citations                                                                                                    0   \n",
       "arc-source                                                                                                mendeley   \n",
       "\n",
       "                                                                                  2  \\\n",
       "tag                                                                         Ali2017   \n",
       "type                                                                        article   \n",
       "author         Ali, Muneeb and Shea, Ryan and Nelson, Jude and Freedman, Michael J.   \n",
       "doi                                                                                   \n",
       "journal                                                                               \n",
       "pages                                                                                 \n",
       "title                   {Blockstack: A New Internet for Decentralized Applications}   \n",
       "volume                                                                                \n",
       "year                                                                           2017   \n",
       "publisher                                                                             \n",
       "url                                           https://blockstack.org/whitepaper.pdf   \n",
       "institution                                                                           \n",
       "number                                                                                \n",
       "mendeley-tags                                                                         \n",
       "booktitle                                                                             \n",
       "edition                                                                               \n",
       "month                                                                                 \n",
       "address                                                                               \n",
       "editor                                                                                \n",
       "arc-citations                                                                     0   \n",
       "arc-source                                                                 mendeley   \n",
       "\n",
       "                                                                                       3  \\\n",
       "tag                                                                            Keich2005   \n",
       "type                                                                             article   \n",
       "author                                                                        Keich, Uri   \n",
       "doi                                                                                        \n",
       "journal                                                 Journal of Computational Biology   \n",
       "pages                                                                           416--430   \n",
       "title          {sFFT: A Faster Accurate Computation of the p-Value of the Entropy Score}   \n",
       "volume                                                                                12   \n",
       "year                                                                                2005   \n",
       "publisher                                                                                  \n",
       "url                                                                                        \n",
       "institution                                                                                \n",
       "number                                                                                 4   \n",
       "mendeley-tags                                                                        FFT   \n",
       "booktitle                                                                                  \n",
       "edition                                                                                    \n",
       "month                                                                                      \n",
       "address                                                                                    \n",
       "editor                                                                                     \n",
       "arc-citations                                                                          0   \n",
       "arc-source                                                                      mendeley   \n",
       "\n",
       "                                      4  \n",
       "tag                          Ridley1976  \n",
       "type                               book  \n",
       "author                    Ridley, B. K.  \n",
       "doi                     10.1119/1.11114  \n",
       "journal                                  \n",
       "pages                                    \n",
       "title          {Time, Space and Things}  \n",
       "volume                                   \n",
       "year                               1976  \n",
       "publisher            Penguin Books Ltd.  \n",
       "url                                      \n",
       "institution                              \n",
       "number                                   \n",
       "mendeley-tags                      Book  \n",
       "booktitle                                \n",
       "edition                                  \n",
       "month                                    \n",
       "address                                  \n",
       "editor                                   \n",
       "arc-citations                         0  \n",
       "arc-source                     mendeley  "
      ]
     },
     "execution_count": 79,
     "metadata": {},
     "output_type": "execute_result"
    },
    {
     "name": "stdout",
     "output_type": "stream",
     "text": [
      "time: 0 ns (started: 2025-05-28 00:04:09 +01:00)\n"
     ]
    }
   ],
   "source": [
    "lib.ref_df.sample(20).reset_index(drop=True).head().T#[mandatory]"
   ]
  },
  {
   "cell_type": "code",
   "execution_count": 72,
   "id": "7afb7827-d7d0-4835-bcef-d05555c3d544",
   "metadata": {},
   "outputs": [
    {
     "name": "stdout",
     "output_type": "stream",
     "text": [
      "time: 4.7 s (started: 2025-05-27 23:54:36 +01:00)\n"
     ]
    }
   ],
   "source": [
    "i = i + 1\n",
    "data = {k:v for k, v in lib.ref_df.loc[i].items() if v != ''}\n",
    "updated = edit_fields(data, mandatory, title=\"Edit Book Info\", known_values=defaults)\n",
    "updated"
   ]
  },
  {
   "cell_type": "code",
   "execution_count": 19,
   "id": "0ab7ca4a-072a-4394-86c0-514dfa907170",
   "metadata": {},
   "outputs": [
    {
     "name": "stdout",
     "output_type": "stream",
     "text": [
      "time: 31 ms (started: 2025-05-27 23:29:58 +01:00)\n"
     ]
    }
   ],
   "source": [
    "lib = arcl.Library('uber-library')"
   ]
  },
  {
   "cell_type": "code",
   "execution_count": 63,
   "id": "78c7c879-1828-4a1a-817e-4086d5efe188",
   "metadata": {},
   "outputs": [
    {
     "name": "stdout",
     "output_type": "stream",
     "text": [
      "time: 0 ns (started: 2025-05-27 23:49:21 +01:00)\n"
     ]
    }
   ],
   "source": [
    "i = 202"
   ]
  },
  {
   "cell_type": "code",
   "execution_count": 37,
   "id": "8e5d1549-6fa3-4569-bb67-7b69fc0b081a",
   "metadata": {},
   "outputs": [
    {
     "name": "stdout",
     "output_type": "stream",
     "text": [
      "time: 0 ns (started: 2025-05-27 23:34:26 +01:00)\n"
     ]
    }
   ],
   "source": []
  },
  {
   "cell_type": "code",
   "execution_count": 38,
   "id": "d51dc88b-8b60-4235-8b5f-b5dfc6cb9f22",
   "metadata": {},
   "outputs": [
    {
     "name": "stdout",
     "output_type": "stream",
     "text": [
      "time: 16 ms (started: 2025-05-27 23:34:28 +01:00)\n"
     ]
    }
   ],
   "source": []
  },
  {
   "cell_type": "code",
   "execution_count": 40,
   "id": "d074cf68-64ed-41b1-ab99-422536c03faa",
   "metadata": {},
   "outputs": [
    {
     "name": "stdout",
     "output_type": "stream",
     "text": [
      "time: 15 ms (started: 2025-05-27 23:34:48 +01:00)\n"
     ]
    }
   ],
   "source": [
    "data = lib.ref_df.querex('select journal, publisher tag ~ Mildenhall2024')[mandatory].iloc[0].to_dict()"
   ]
  },
  {
   "cell_type": "code",
   "execution_count": 54,
   "id": "474b1975-e466-48dc-abcb-d920722c8d99",
   "metadata": {},
   "outputs": [
    {
     "data": {
      "text/plain": [
       "{'tag': 'Shen2024',\n",
       " 'type': 'article',\n",
       " 'author': 'Shen, Yi and {Van Oosten}, Zachary and Wang, Ruodu',\n",
       " 'pages': '1--51',\n",
       " 'title': '{Partially Law-Invariant Risk Measures}',\n",
       " 'year': '2024',\n",
       " 'url': 'http://arxiv.org/abs/2401.17265',\n",
       " 'number': 'June',\n",
       " 'mendeley-tags': 'WangR',\n",
       " 'arc-citations': 0,\n",
       " 'arc-source': 'mendeley'}"
      ]
     },
     "execution_count": 54,
     "metadata": {},
     "output_type": "execute_result"
    },
    {
     "name": "stdout",
     "output_type": "stream",
     "text": [
      "time: 0 ns (started: 2025-05-27 23:43:02 +01:00)\n"
     ]
    }
   ],
   "source": []
  },
  {
   "cell_type": "code",
   "execution_count": 18,
   "id": "747774f6-e2f0-4ba1-afc0-70897f0d5e28",
   "metadata": {},
   "outputs": [
    {
     "name": "stdout",
     "output_type": "stream",
     "text": [
      "{'Title': '1984', 'Author': 'George Orwell', 'Genre': 'Fiction|', 'Year': ''}\n",
      "time: 16.3 s (started: 2025-05-27 23:29:16 +01:00)\n"
     ]
    }
   ],
   "source": [
    "\n",
    "data = {\"Title\": \"1984\", \"Author\": \"George Orwell\", 'Genre': 'Fiction|'}\n",
    "mandatory = [\"Title\", \"Author\", \"Year\", \"Genre\"]\n",
    "known = {\"Genre\": [\"Fiction\", \"Non-fiction\", \"Sci-Fi\", \"Fantasy\", \"Other\"]}\n",
    "updated = edit_fields(data, mandatory, title=\"Edit Book Info\", known_values=known)\n",
    "print(updated)\n"
   ]
  },
  {
   "cell_type": "code",
   "execution_count": 51,
   "id": "59ad11d0-6ac2-4f2c-8165-3a8f3b49ca89",
   "metadata": {},
   "outputs": [
    {
     "data": {
      "text/plain": [
       "['Report',\n",
       " 'article',\n",
       " 'book',\n",
       " 'incollection',\n",
       " 'inproceedings',\n",
       " 'manual',\n",
       " 'misc',\n",
       " 'phdthesis',\n",
       " 'techreport',\n",
       " 'unpublished']"
      ]
     },
     "execution_count": 51,
     "metadata": {},
     "output_type": "execute_result"
    },
    {
     "name": "stdout",
     "output_type": "stream",
     "text": [
      "time: 16 ms (started: 2025-05-27 23:41:28 +01:00)\n"
     ]
    }
   ],
   "source": [
    "defaults['type']"
   ]
  },
  {
   "cell_type": "code",
   "execution_count": 200,
   "id": "4a3f42d3-43bc-46ad-b3af-94901a3e865a",
   "metadata": {},
   "outputs": [
    {
     "name": "stdout",
     "output_type": "stream",
     "text": [
      "time: 0 ns (started: 2025-05-28 10:55:25 +01:00)\n"
     ]
    }
   ],
   "source": [
    "lib._trie = None"
   ]
  },
  {
   "cell_type": "code",
   "execution_count": null,
   "id": "91254a21-c1e0-4e20-881d-512b4584fe75",
   "metadata": {},
   "outputs": [],
   "source": []
  },
  {
   "cell_type": "code",
   "execution_count": 203,
   "id": "16decea5-d928-4bd2-a998-29488ec37889",
   "metadata": {},
   "outputs": [
    {
     "name": "stdout",
     "output_type": "stream",
     "text": [
      "Tsanakas, Andr is not a key...adding\n"
     ]
    },
    {
     "data": {
      "text/plain": [
       "'Tsanakas, Andreas'"
      ]
     },
     "execution_count": 203,
     "metadata": {},
     "output_type": "execute_result"
    },
    {
     "name": "stdout",
     "output_type": "stream",
     "text": [
      "time: 15 ms (started: 2025-05-28 10:55:55 +01:00)\n"
     ]
    }
   ],
   "source": [
    "lib.to_name_ex('Tsanakas, Andr')"
   ]
  },
  {
   "cell_type": "code",
   "execution_count": 82,
   "id": "d31dabed-10c6-403e-9911-d04474e5e6bf",
   "metadata": {},
   "outputs": [
    {
     "name": "stdout",
     "output_type": "stream",
     "text": [
      "time: 156 ms (started: 2025-05-28 00:06:29 +01:00)\n"
     ]
    }
   ],
   "source": [
    "import requests\n",
    "\n",
    "def lookup_doi(doi: str) -> dict | None:\n",
    "    url = f\"https://api.crossref.org/works/{doi}\"\n",
    "    resp = requests.get(url, headers={\"User-Agent\": \"DOI lookup script\"})\n",
    "    if resp.status_code == 200:\n",
    "        return resp.json()[\"message\"]\n",
    "    return None\n"
   ]
  },
  {
   "cell_type": "code",
   "execution_count": 83,
   "id": "319ad04f-ae1f-4061-82a1-e0541262d859",
   "metadata": {},
   "outputs": [
    {
     "name": "stdout",
     "output_type": "stream",
     "text": [
      "Measured measurement\n",
      "Aspelmeyer Markus\n",
      "time: 1.11 s (started: 2025-05-28 00:06:42 +01:00)\n"
     ]
    }
   ],
   "source": [
    "data = lookup_doi(\"10.1038/nphys1170\")\n",
    "if data:\n",
    "    print(data[\"title\"][0])\n",
    "    print(data[\"author\"][0][\"family\"], data[\"author\"][0][\"given\"])\n"
   ]
  },
  {
   "cell_type": "code",
   "execution_count": 91,
   "id": "1b051f1b-d8ae-4b9a-b516-2b39dd4dd22c",
   "metadata": {},
   "outputs": [
    {
     "name": "stdout",
     "output_type": "stream",
     "text": [
      "time: 16 ms (started: 2025-05-28 00:10:55 +01:00)\n"
     ]
    }
   ],
   "source": [
    "def extract_bibtex_fields(data: dict) -> dict:\n",
    "    authors = data.get(\"author\", [])\n",
    "    author_str = \" and \".join(\n",
    "        f\"{a['family']}, {a.get('given', '')}\".strip() for a in authors\n",
    "    )\n",
    "\n",
    "    return {\n",
    "        \"title\": data.get(\"title\", [\"\"])[0],\n",
    "        \"author\": author_str,\n",
    "        \"year\": data.get(\"issued\", {}).get(\"date-parts\", [[None]])[0][0],\n",
    "        \"journal\": data.get(\"container-title\", [\"\"])[0],\n",
    "        \"volume\": data.get(\"volume\", \"\"),\n",
    "        \"number\": data.get(\"issue\", \"\"),\n",
    "        \"pages\": data.get(\"page\", \"\"),\n",
    "        \"doi\": data.get(\"DOI\", \"\"),\n",
    "        \"url\": data.get(\"URL\", \"\")\n",
    "    }\n"
   ]
  },
  {
   "cell_type": "code",
   "execution_count": null,
   "id": "5f373704-e457-4366-9558-6c65be6d4393",
   "metadata": {},
   "outputs": [],
   "source": [
    "for d in dois[40:45]:\n",
    "    data = lookup_doi(d)\n",
    "    if data:\n",
    "        print(d)\n",
    "        print('-' * len(d))\n",
    "        print(extract_bibtex_fields(data))\n",
    "        print()\n",
    "    else:\n",
    "        print(f'FAIL {d}\\n')"
   ]
  },
  {
   "cell_type": "code",
   "execution_count": 95,
   "id": "d6632c25-b919-4fb4-ab2a-c79ec9bd8c6b",
   "metadata": {},
   "outputs": [
    {
     "data": {
      "text/plain": [
       "2538"
      ]
     },
     "execution_count": 95,
     "metadata": {},
     "output_type": "execute_result"
    },
    {
     "name": "stdout",
     "output_type": "stream",
     "text": [
      "time: 0 ns (started: 2025-05-28 00:12:29 +01:00)\n"
     ]
    }
   ],
   "source": [
    "len(dois)"
   ]
  },
  {
   "cell_type": "code",
   "execution_count": 84,
   "id": "925cef4f-f35e-4823-b2a0-3b8db4b14f8e",
   "metadata": {},
   "outputs": [
    {
     "name": "stdout",
     "output_type": "stream",
     "text": [
      "time: 0 ns (started: 2025-05-28 00:07:03 +01:00)\n"
     ]
    }
   ],
   "source": [
    "dois = lib.distinct('doi')"
   ]
  },
  {
   "cell_type": "code",
   "execution_count": 96,
   "id": "56d73cc1-4626-4df8-977f-28f26f4e82e2",
   "metadata": {},
   "outputs": [
    {
     "name": "stdout",
     "output_type": "stream",
     "text": [
      "time: 0 ns (started: 2025-05-28 00:13:10 +01:00)\n"
     ]
    }
   ],
   "source": [
    "def search_doi_by_title(title: str) -> dict | None:\n",
    "    url = \"https://api.crossref.org/works\"\n",
    "    params = {\"query.title\": title, \"rows\": 1}\n",
    "    headers = {\n",
    "        \"User-Agent\": \"archivum/1.1 (mailto:mynl@me.com)\"\n",
    "    }\n",
    "    resp = requests.get(url, params=params, headers=headers)\n",
    "    if resp.status_code == 200:\n",
    "        items = resp.json()[\"message\"][\"items\"]\n",
    "        return items[0] if items else None\n",
    "    return None\n"
   ]
  },
  {
   "cell_type": "code",
   "execution_count": 102,
   "id": "59182686-2efa-47a5-88fd-540fabb88710",
   "metadata": {},
   "outputs": [
    {
     "name": "stdout",
     "output_type": "stream",
     "text": [
      "10.1007/bf01388809\n",
      "time: 2.75 s (started: 2025-05-28 00:19:46 +01:00)\n"
     ]
    }
   ],
   "source": [
    "result = search_doi_by_title()\n",
    "if result:\n",
    "    print(result[\"DOI\"])"
   ]
  },
  {
   "cell_type": "code",
   "execution_count": 103,
   "id": "6cc7fca9-16b0-4dd6-bd41-4eba133c45bd",
   "metadata": {},
   "outputs": [
    {
     "data": {
      "text/plain": [
       "{'title': 'Heegner points and derivatives ofL-series',\n",
       " 'author': 'Gross, Benedict H. and Zagier, Don B.',\n",
       " 'year': 1986,\n",
       " 'journal': 'Inventiones Mathematicae',\n",
       " 'volume': '84',\n",
       " 'number': '2',\n",
       " 'pages': '225-320',\n",
       " 'doi': '10.1007/bf01388809',\n",
       " 'url': 'https://doi.org/10.1007/bf01388809'}"
      ]
     },
     "execution_count": 103,
     "metadata": {},
     "output_type": "execute_result"
    },
    {
     "name": "stdout",
     "output_type": "stream",
     "text": [
      "time: 16 ms (started: 2025-05-28 00:19:51 +01:00)\n"
     ]
    }
   ],
   "source": [
    "extract_bibtex_fields(result)"
   ]
  },
  {
   "cell_type": "code",
   "execution_count": 100,
   "id": "c2f61cbc-6f4b-493d-b2ec-648858f569e1",
   "metadata": {},
   "outputs": [
    {
     "name": "stdout",
     "output_type": "stream",
     "text": [
      "time: 0 ns (started: 2025-05-28 00:18:12 +01:00)\n"
     ]
    }
   ],
   "source": [
    "from pprint import pprint"
   ]
  },
  {
   "cell_type": "code",
   "execution_count": null,
   "id": "2613ae1b-63c6-4a8b-9b68-ea7a8aa68c4e",
   "metadata": {},
   "outputs": [],
   "source": [
    "pprint(result)"
   ]
  },
  {
   "cell_type": "code",
   "execution_count": 220,
   "id": "d5e0dcc6-8fe0-4b00-8245-1b1ae57eff59",
   "metadata": {},
   "outputs": [
    {
     "data": {
      "text/plain": [
       "Library(uber-library.archivum-config)"
      ]
     },
     "execution_count": 220,
     "metadata": {},
     "output_type": "execute_result"
    },
    {
     "name": "stdout",
     "output_type": "stream",
     "text": [
      "time: 0 ns (started: 2025-05-28 11:44:31 +01:00)\n"
     ]
    }
   ],
   "source": [
    "lib"
   ]
  },
  {
   "cell_type": "code",
   "execution_count": 223,
   "id": "84c3beb8-0037-4ca1-8b6e-f1856795b7ec",
   "metadata": {},
   "outputs": [
    {
     "data": {
      "text/plain": [
       "1"
      ]
     },
     "execution_count": 223,
     "metadata": {},
     "output_type": "execute_result"
    },
    {
     "name": "stdout",
     "output_type": "stream",
     "text": [
      "time: 0 ns (started: 2025-05-28 11:45:44 +01:00)\n"
     ]
    }
   ],
   "source": [
    "len(r)"
   ]
  },
  {
   "cell_type": "code",
   "execution_count": null,
   "id": "afd6db55-6d9b-4b9c-8ace-dd234f8d234b",
   "metadata": {},
   "outputs": [],
   "source": [
    "r = arcc.search(title=\"Heegner points and derivatives of L-series\", rows=1)\n",
    "arcc.to_bibtex(r[0])\n",
    "\n",
    "arcc.to_bibtex(r[0], lib)"
   ]
  },
  {
   "cell_type": "code",
   "execution_count": 226,
   "id": "f08bb447-acc3-404e-adf2-5121e7933b7f",
   "metadata": {},
   "outputs": [
    {
     "data": {
      "text/plain": [
       "{'type': 'article',\n",
       " 'title': 'Heegner points and derivatives ofL-series',\n",
       " 'year': 1986,\n",
       " 'doi': '10.1007/bf01388809',\n",
       " 'url': 'https://doi.org/10.1007/bf01388809',\n",
       " 'author': 'Gross, Benedict H. and Zagier, Don B.',\n",
       " 'journal': 'Inventiones Mathematicae',\n",
       " 'volume': '84',\n",
       " 'number': '2',\n",
       " 'pages': '225-320'}"
      ]
     },
     "execution_count": 226,
     "metadata": {},
     "output_type": "execute_result"
    },
    {
     "name": "stdout",
     "output_type": "stream",
     "text": [
      "time: 0 ns (started: 2025-05-28 11:47:01 +01:00)\n"
     ]
    }
   ],
   "source": [
    "arcc.to_bibtex(r[0], lib)"
   ]
  },
  {
   "cell_type": "code",
   "execution_count": 231,
   "id": "8727b554-400b-4dfe-8565-3c2701120d1e",
   "metadata": {},
   "outputs": [
    {
     "name": "stdout",
     "output_type": "stream",
     "text": [
      "time: 0 ns (started: 2025-05-28 13:50:42 +01:00)\n"
     ]
    }
   ],
   "source": [
    "r = arcr.Reference('Mild2025', 'journal', 'My splendid thing', 2025, author='Mildenhall, Stephen J.')"
   ]
  },
  {
   "cell_type": "code",
   "execution_count": 232,
   "id": "c702b7ca-d408-4c04-9a3f-1ce214a01340",
   "metadata": {},
   "outputs": [
    {
     "data": {
      "text/plain": [
       "Reference(tag='Mild2025', type='journal', title='My splendid thing', year=2025, author='Mildenhall, Stephen J.', journal=None, volume=None, number=None, month=None, pages=None, edition=None, booktitle=None, editor=None, publisher=None, institution=None, address=None, doi=None, url=None, file=None, source=None, mendeley_tags=None, arc_citations=None, arc_source=None)"
      ]
     },
     "execution_count": 232,
     "metadata": {},
     "output_type": "execute_result"
    },
    {
     "name": "stdout",
     "output_type": "stream",
     "text": [
      "time: 0 ns (started: 2025-05-28 13:50:48 +01:00)\n"
     ]
    }
   ],
   "source": [
    "r"
   ]
  },
  {
   "cell_type": "code",
   "execution_count": 239,
   "id": "bc15fea3-6d2c-42df-bf56-0a43ba3238c0",
   "metadata": {},
   "outputs": [
    {
     "data": {
      "text/plain": [
       "{'tag': 'Mild2025',\n",
       " 'type': 'journal',\n",
       " 'title': 'My splendid thing',\n",
       " 'year': 2025,\n",
       " 'author': 'Mildenhall, Stephen J.',\n",
       " 'journal': '',\n",
       " 'volume': '',\n",
       " 'number': '',\n",
       " 'month': '',\n",
       " 'pages': '',\n",
       " 'edition': '',\n",
       " 'booktitle': '',\n",
       " 'editor': '',\n",
       " 'publisher': '',\n",
       " 'institution': '',\n",
       " 'address': '',\n",
       " 'doi': '',\n",
       " 'url': '',\n",
       " 'file': '',\n",
       " 'source': '',\n",
       " 'mendeley_tags': '',\n",
       " 'arc_citations': '',\n",
       " 'arc_source': ''}"
      ]
     },
     "execution_count": 239,
     "metadata": {},
     "output_type": "execute_result"
    },
    {
     "name": "stdout",
     "output_type": "stream",
     "text": [
      "time: 0 ns (started: 2025-05-28 13:58:26 +01:00)\n"
     ]
    }
   ],
   "source": [
    "r.to_dict(fillna='')"
   ]
  },
  {
   "cell_type": "code",
   "execution_count": null,
   "id": "b4d788bc-c747-48f4-b059-df0c6d1f67d9",
   "metadata": {},
   "outputs": [],
   "source": [
    "r = arcc.search(author='Stephen Mildenhall', rows=5)\n",
    "print(len(r))\n",
    "\n",
    "for _ in r:\n",
    "    ref = arcr.Reference.from_crossref(_, lib)\n",
    "    pp(ref.to_dict())"
   ]
  },
  {
   "cell_type": "code",
   "execution_count": 47,
   "id": "ac9906a4-d184-470e-b2a4-ade847d915dd",
   "metadata": {},
   "outputs": [
    {
     "data": {
      "text/plain": [
       "['mendeley']"
      ]
     },
     "execution_count": 47,
     "metadata": {},
     "output_type": "execute_result"
    },
    {
     "name": "stdout",
     "output_type": "stream",
     "text": [
      "time: 16 ms (started: 2025-05-28 15:03:19 +01:00)\n"
     ]
    }
   ],
   "source": [
    "lib.distinct('arc-source')"
   ]
  },
  {
   "cell_type": "code",
   "execution_count": 43,
   "id": "fedbafc8-11f5-412b-87c6-964fa26d631c",
   "metadata": {},
   "outputs": [
    {
     "name": "stdout",
     "output_type": "stream",
     "text": [
      "{'author': 'Mildenhall, Stephen J.',\n",
      " 'doi': '10.3390/risks5020031',\n",
      " 'journal': 'Risks',\n",
      " 'number': '2',\n",
      " 'pages': '31',\n",
      " 'source': 'crossref',\n",
      " 'tag': 'Mildenhall2017',\n",
      " 'title': 'Actuarial Geometry',\n",
      " 'type': 'article',\n",
      " 'url': 'https://doi.org/10.3390/risks5020031',\n",
      " 'volume': '5',\n",
      " 'year': 2017}\n",
      "time: 0 ns (started: 2025-05-28 15:01:57 +01:00)\n"
     ]
    }
   ],
   "source": [
    "pp(ref.to_dict())"
   ]
  },
  {
   "cell_type": "code",
   "execution_count": 67,
   "id": "e23628d9-8dc9-42f3-811b-18a71f08b124",
   "metadata": {},
   "outputs": [
    {
     "data": {
      "text/plain": [
       "'AMBest2008b'"
      ]
     },
     "execution_count": 67,
     "metadata": {},
     "output_type": "execute_result"
    },
    {
     "name": "stdout",
     "output_type": "stream",
     "text": [
      "time: 15 ms (started: 2025-05-28 15:07:13 +01:00)\n"
     ]
    }
   ],
   "source": [
    "s = [i for i in lib.distinct('tag') if re.search(r'^AMBest2008', i)][-1]\n",
    "s"
   ]
  },
  {
   "cell_type": "code",
   "execution_count": 71,
   "id": "751a92dc-5622-4a12-8054-8ad7762f778c",
   "metadata": {},
   "outputs": [
    {
     "data": {
      "text/plain": [
       "'b'"
      ]
     },
     "execution_count": 71,
     "metadata": {},
     "output_type": "execute_result"
    },
    {
     "name": "stdout",
     "output_type": "stream",
     "text": [
      "time: 0 ns (started: 2025-05-28 15:07:59 +01:00)\n"
     ]
    }
   ],
   "source": [
    "chr(ord('a') + 1)"
   ]
  },
  {
   "cell_type": "code",
   "execution_count": 72,
   "id": "c161a3f9-4c7d-4043-a719-b5b4992bd7a9",
   "metadata": {},
   "outputs": [
    {
     "data": {
      "text/plain": [
       "'AMBest2008c'"
      ]
     },
     "execution_count": 72,
     "metadata": {},
     "output_type": "execute_result"
    },
    {
     "name": "stdout",
     "output_type": "stream",
     "text": [
      "time: 0 ns (started: 2025-05-28 15:08:14 +01:00)\n"
     ]
    }
   ],
   "source": [
    "t = s[:-1] + chr(ord(s[-1])+1)\n",
    "t"
   ]
  },
  {
   "cell_type": "code",
   "execution_count": 137,
   "id": "569baf36-9734-492e-b986-bb5dfe696d84",
   "metadata": {},
   "outputs": [
    {
     "data": {
      "text/plain": [
       "'aaasd'"
      ]
     },
     "execution_count": 137,
     "metadata": {},
     "output_type": "execute_result"
    },
    {
     "name": "stdout",
     "output_type": "stream",
     "text": [
      "time: 0 ns (started: 2025-05-28 23:13:09 +01:00)\n"
     ]
    }
   ],
   "source": [
    "x = ''\n",
    "y = x or 'aaasd'\n",
    "y"
   ]
  },
  {
   "cell_type": "code",
   "execution_count": 126,
   "id": "09e70814-5b42-4f09-abde-82114e21493f",
   "metadata": {},
   "outputs": [
    {
     "data": {
      "text/plain": [
       "True"
      ]
     },
     "execution_count": 126,
     "metadata": {},
     "output_type": "execute_result"
    },
    {
     "name": "stdout",
     "output_type": "stream",
     "text": [
      "time: 0 ns (started: 2025-05-28 15:43:57 +01:00)\n"
     ]
    }
   ],
   "source": [
    "(Path().home() / 'downloads').exists()"
   ]
  },
  {
   "cell_type": "code",
   "execution_count": 131,
   "id": "d47efa63-e7a7-49eb-8aa9-6cce26fa3b1f",
   "metadata": {},
   "outputs": [
    {
     "name": "stdout",
     "output_type": "stream",
     "text": [
      "time: 0 ns (started: 2025-05-28 17:49:10 +01:00)\n"
     ]
    }
   ],
   "source": [
    "import archivum.cli as cli"
   ]
  },
  {
   "cell_type": "code",
   "execution_count": 136,
   "id": "11c2eda6-a221-4244-97fb-2d8230b2645d",
   "metadata": {},
   "outputs": [
    {
     "ename": "RuntimeError",
     "evalue": "asyncio.run() cannot be called from a running event loop",
     "output_type": "error",
     "traceback": [
      "\u001b[1;31m---------------------------------------------------------------------------\u001b[0m",
      "\u001b[1;31mRuntimeError\u001b[0m                              Traceback (most recent call last)",
      "Cell \u001b[1;32mIn[136], line 1\u001b[0m\n\u001b[1;32m----> 1\u001b[0m \u001b[43mcli\u001b[49m\u001b[38;5;241;43m.\u001b[39;49m\u001b[43mstart_uber_repl\u001b[49m\u001b[43m(\u001b[49m\u001b[38;5;124;43m'\u001b[39;49m\u001b[38;5;124;43m'\u001b[39;49m\u001b[43m,\u001b[49m\u001b[43m \u001b[49m\u001b[38;5;28;43;01mFalse\u001b[39;49;00m\u001b[43m)\u001b[49m\n",
      "File \u001b[1;32m~\\Documents\\CloudStation\\TELOS\\Python\\archivum_project\\archivum\\cli.py:363\u001b[0m, in \u001b[0;36mstart_uber_repl\u001b[1;34m(start, debug)\u001b[0m\n\u001b[0;32m    361\u001b[0m \u001b[38;5;28;01mwhile\u001b[39;00m \u001b[38;5;28;01mTrue\u001b[39;00m:\n\u001b[0;32m    362\u001b[0m     \u001b[38;5;28;01mtry\u001b[39;00m:\n\u001b[1;32m--> 363\u001b[0m         q \u001b[38;5;241m=\u001b[39m start \u001b[38;5;28;01mif\u001b[39;00m start \u001b[38;5;28;01melse\u001b[39;00m \u001b[43msession\u001b[49m\u001b[38;5;241;43m.\u001b[39;49m\u001b[43mprompt\u001b[49m\u001b[43m(\u001b[49m\n\u001b[0;32m    364\u001b[0m \u001b[43m            \u001b[49m\u001b[43mHTML\u001b[49m\u001b[43m(\u001b[49m\u001b[38;5;124;43mf\u001b[39;49m\u001b[38;5;124;43m'\u001b[39;49m\u001b[38;5;124;43m<ansired>archivum > </ansired>\u001b[39;49m\u001b[38;5;124;43m'\u001b[39;49m\u001b[43m)\u001b[49m\n\u001b[0;32m    365\u001b[0m \u001b[43m        \u001b[49m\u001b[43m)\u001b[49m\u001b[38;5;241m.\u001b[39mstrip()\n\u001b[0;32m    366\u001b[0m         start \u001b[38;5;241m=\u001b[39m \u001b[38;5;124m'\u001b[39m\u001b[38;5;124m'\u001b[39m\n\u001b[0;32m    368\u001b[0m         \u001b[38;5;28;01mif\u001b[39;00m q \u001b[38;5;129;01min\u001b[39;00m {\u001b[38;5;124m'\u001b[39m\u001b[38;5;124mexit\u001b[39m\u001b[38;5;124m'\u001b[39m, \u001b[38;5;124m'\u001b[39m\u001b[38;5;124m;\u001b[39m\u001b[38;5;124m'\u001b[39m, \u001b[38;5;124m'\u001b[39m\u001b[38;5;124mx\u001b[39m\u001b[38;5;124m'\u001b[39m, \u001b[38;5;124m'\u001b[39m\u001b[38;5;124m..\u001b[39m\u001b[38;5;124m'\u001b[39m}:\n",
      "File \u001b[1;32m~\\miniconda3\\envs\\working310\\lib\\site-packages\\prompt_toolkit\\shortcuts\\prompt.py:1026\u001b[0m, in \u001b[0;36mPromptSession.prompt\u001b[1;34m(self, message, editing_mode, refresh_interval, vi_mode, lexer, completer, complete_in_thread, is_password, key_bindings, bottom_toolbar, style, color_depth, cursor, include_default_pygments_style, style_transformation, swap_light_and_dark_colors, rprompt, multiline, prompt_continuation, wrap_lines, enable_history_search, search_ignore_case, complete_while_typing, validate_while_typing, complete_style, auto_suggest, validator, clipboard, mouse_support, input_processors, placeholder, reserve_space_for_menu, enable_system_prompt, enable_suspend, enable_open_in_editor, tempfile_suffix, tempfile, default, accept_default, pre_run, set_exception_handler, handle_sigint, in_thread, inputhook)\u001b[0m\n\u001b[0;32m   1023\u001b[0m     \u001b[38;5;28;01mwith\u001b[39;00m \u001b[38;5;28mself\u001b[39m\u001b[38;5;241m.\u001b[39m_dumb_prompt(\u001b[38;5;28mself\u001b[39m\u001b[38;5;241m.\u001b[39mmessage) \u001b[38;5;28;01mas\u001b[39;00m dump_app:\n\u001b[0;32m   1024\u001b[0m         \u001b[38;5;28;01mreturn\u001b[39;00m dump_app\u001b[38;5;241m.\u001b[39mrun(in_thread\u001b[38;5;241m=\u001b[39min_thread, handle_sigint\u001b[38;5;241m=\u001b[39mhandle_sigint)\n\u001b[1;32m-> 1026\u001b[0m \u001b[38;5;28;01mreturn\u001b[39;00m \u001b[38;5;28;43mself\u001b[39;49m\u001b[38;5;241;43m.\u001b[39;49m\u001b[43mapp\u001b[49m\u001b[38;5;241;43m.\u001b[39;49m\u001b[43mrun\u001b[49m\u001b[43m(\u001b[49m\n\u001b[0;32m   1027\u001b[0m \u001b[43m    \u001b[49m\u001b[43mset_exception_handler\u001b[49m\u001b[38;5;241;43m=\u001b[39;49m\u001b[43mset_exception_handler\u001b[49m\u001b[43m,\u001b[49m\n\u001b[0;32m   1028\u001b[0m \u001b[43m    \u001b[49m\u001b[43min_thread\u001b[49m\u001b[38;5;241;43m=\u001b[39;49m\u001b[43min_thread\u001b[49m\u001b[43m,\u001b[49m\n\u001b[0;32m   1029\u001b[0m \u001b[43m    \u001b[49m\u001b[43mhandle_sigint\u001b[49m\u001b[38;5;241;43m=\u001b[39;49m\u001b[43mhandle_sigint\u001b[49m\u001b[43m,\u001b[49m\n\u001b[0;32m   1030\u001b[0m \u001b[43m    \u001b[49m\u001b[43minputhook\u001b[49m\u001b[38;5;241;43m=\u001b[39;49m\u001b[43minputhook\u001b[49m\u001b[43m,\u001b[49m\n\u001b[0;32m   1031\u001b[0m \u001b[43m\u001b[49m\u001b[43m)\u001b[49m\n",
      "File \u001b[1;32m~\\miniconda3\\envs\\working310\\lib\\site-packages\\prompt_toolkit\\application\\application.py:998\u001b[0m, in \u001b[0;36mApplication.run\u001b[1;34m(self, pre_run, set_exception_handler, handle_sigint, in_thread, inputhook)\u001b[0m\n\u001b[0;32m    994\u001b[0m         \u001b[38;5;28;01mreturn\u001b[39;00m loop\u001b[38;5;241m.\u001b[39mrun_until_complete(coro)\n\u001b[0;32m    996\u001b[0m \u001b[38;5;28;01melse\u001b[39;00m:\n\u001b[0;32m    997\u001b[0m     \u001b[38;5;66;03m# No loop installed. Run like usual.\u001b[39;00m\n\u001b[1;32m--> 998\u001b[0m     \u001b[38;5;28;01mreturn\u001b[39;00m \u001b[43masyncio\u001b[49m\u001b[38;5;241;43m.\u001b[39;49m\u001b[43mrun\u001b[49m\u001b[43m(\u001b[49m\u001b[43mcoro\u001b[49m\u001b[43m)\u001b[49m\n",
      "File \u001b[1;32m~\\miniconda3\\envs\\working310\\lib\\asyncio\\runners.py:33\u001b[0m, in \u001b[0;36mrun\u001b[1;34m(main, debug)\u001b[0m\n\u001b[0;32m      9\u001b[0m \u001b[38;5;250m\u001b[39m\u001b[38;5;124;03m\"\"\"Execute the coroutine and return the result.\u001b[39;00m\n\u001b[0;32m     10\u001b[0m \n\u001b[0;32m     11\u001b[0m \u001b[38;5;124;03mThis function runs the passed coroutine, taking care of\u001b[39;00m\n\u001b[1;32m   (...)\u001b[0m\n\u001b[0;32m     30\u001b[0m \u001b[38;5;124;03m    asyncio.run(main())\u001b[39;00m\n\u001b[0;32m     31\u001b[0m \u001b[38;5;124;03m\"\"\"\u001b[39;00m\n\u001b[0;32m     32\u001b[0m \u001b[38;5;28;01mif\u001b[39;00m events\u001b[38;5;241m.\u001b[39m_get_running_loop() \u001b[38;5;129;01mis\u001b[39;00m \u001b[38;5;129;01mnot\u001b[39;00m \u001b[38;5;28;01mNone\u001b[39;00m:\n\u001b[1;32m---> 33\u001b[0m     \u001b[38;5;28;01mraise\u001b[39;00m \u001b[38;5;167;01mRuntimeError\u001b[39;00m(\n\u001b[0;32m     34\u001b[0m         \u001b[38;5;124m\"\u001b[39m\u001b[38;5;124masyncio.run() cannot be called from a running event loop\u001b[39m\u001b[38;5;124m\"\u001b[39m)\n\u001b[0;32m     36\u001b[0m \u001b[38;5;28;01mif\u001b[39;00m \u001b[38;5;129;01mnot\u001b[39;00m coroutines\u001b[38;5;241m.\u001b[39miscoroutine(main):\n\u001b[0;32m     37\u001b[0m     \u001b[38;5;28;01mraise\u001b[39;00m \u001b[38;5;167;01mValueError\u001b[39;00m(\u001b[38;5;124m\"\u001b[39m\u001b[38;5;124ma coroutine was expected, got \u001b[39m\u001b[38;5;132;01m{!r}\u001b[39;00m\u001b[38;5;124m\"\u001b[39m\u001b[38;5;241m.\u001b[39mformat(main))\n",
      "\u001b[1;31mRuntimeError\u001b[0m: asyncio.run() cannot be called from a running event loop"
     ]
    },
    {
     "name": "stdout",
     "output_type": "stream",
     "text": [
      "time: 485 ms (started: 2025-05-28 17:53:31 +01:00)\n"
     ]
    }
   ],
   "source": [
    "cli.start_uber_repl('', False)"
   ]
  },
  {
   "cell_type": "code",
   "execution_count": 134,
   "id": "de054a7e-49f8-46d8-ba41-940cdac727cb",
   "metadata": {},
   "outputs": [
    {
     "name": "stdout",
     "output_type": "stream",
     "text": [
      "time: 0 ns (started: 2025-05-28 17:50:57 +01:00)\n"
     ]
    }
   ],
   "source": [
    "if '': 10"
   ]
  },
  {
   "cell_type": "code",
   "execution_count": 138,
   "id": "eaf2baec-df38-4571-be31-38cd7b5614a9",
   "metadata": {},
   "outputs": [
    {
     "data": {
      "text/plain": [
       "('uber-library', WindowsPath('C:/Users/steve/AppData/Local/archivum'))"
      ]
     },
     "execution_count": 138,
     "metadata": {},
     "output_type": "execute_result"
    },
    {
     "name": "stdout",
     "output_type": "stream",
     "text": [
      "time: 16 ms (started: 2025-05-28 23:15:24 +01:00)\n"
     ]
    }
   ],
   "source": [
    "from archivum import DEFAULT_CONFIG_FILE, BASE_DIR\n",
    "DEFAULT_CONFIG_FILE, BASE_DIR"
   ]
  },
  {
   "cell_type": "code",
   "execution_count": 140,
   "id": "8d867df6-bf6f-4275-9193-8d1247870a39",
   "metadata": {},
   "outputs": [
    {
     "data": {
      "text/plain": [
       "['a', 'b', 'c']"
      ]
     },
     "execution_count": 140,
     "metadata": {},
     "output_type": "execute_result"
    },
    {
     "name": "stdout",
     "output_type": "stream",
     "text": [
      "time: 0 ns (started: 2025-05-29 08:08:42 +01:00)\n"
     ]
    }
   ],
   "source": [
    "l = list('abcd')\n",
    "l.remove('d')\n",
    "l"
   ]
  },
  {
   "cell_type": "code",
   "execution_count": 141,
   "id": "e00466af-0fb6-475f-8162-b0dcf896da9d",
   "metadata": {},
   "outputs": [
    {
     "ename": "ValueError",
     "evalue": "list.remove(x): x not in list",
     "output_type": "error",
     "traceback": [
      "\u001b[1;31m---------------------------------------------------------------------------\u001b[0m",
      "\u001b[1;31mValueError\u001b[0m                                Traceback (most recent call last)",
      "Cell \u001b[1;32mIn[141], line 1\u001b[0m\n\u001b[1;32m----> 1\u001b[0m \u001b[43ml\u001b[49m\u001b[38;5;241;43m.\u001b[39;49m\u001b[43mremove\u001b[49m\u001b[43m(\u001b[49m\u001b[38;5;124;43m'\u001b[39;49m\u001b[38;5;124;43md\u001b[39;49m\u001b[38;5;124;43m'\u001b[39;49m\u001b[43m)\u001b[49m\n",
      "\u001b[1;31mValueError\u001b[0m: list.remove(x): x not in list"
     ]
    },
    {
     "name": "stdout",
     "output_type": "stream",
     "text": [
      "time: 16 ms (started: 2025-05-29 08:08:49 +01:00)\n"
     ]
    }
   ],
   "source": [
    "l.remove('d')"
   ]
  },
  {
   "cell_type": "code",
   "execution_count": 149,
   "id": "345b035d-79ab-474e-9646-1386ffe21374",
   "metadata": {},
   "outputs": [
    {
     "name": "stdout",
     "output_type": "stream",
     "text": [
      "time: 0 ns (started: 2025-05-29 09:25:56 +01:00)\n"
     ]
    }
   ],
   "source": [
    "c = type('EmptyLibrary', (), {'name': 'No library open'})"
   ]
  },
  {
   "cell_type": "code",
   "execution_count": 150,
   "id": "e9c9b2ea-3622-4d3e-80bb-d19725b2b31a",
   "metadata": {},
   "outputs": [
    {
     "name": "stdout",
     "output_type": "stream",
     "text": [
      "time: 0 ns (started: 2025-05-29 09:25:56 +01:00)\n"
     ]
    }
   ],
   "source": [
    "l = c()"
   ]
  },
  {
   "cell_type": "code",
   "execution_count": 151,
   "id": "1b0176be-9045-4e3b-8bf8-bdd52e0daf84",
   "metadata": {},
   "outputs": [
    {
     "data": {
      "text/plain": [
       "'No library open'"
      ]
     },
     "execution_count": 151,
     "metadata": {},
     "output_type": "execute_result"
    },
    {
     "name": "stdout",
     "output_type": "stream",
     "text": [
      "time: 0 ns (started: 2025-05-29 09:25:57 +01:00)\n"
     ]
    }
   ],
   "source": [
    "l.name"
   ]
  },
  {
   "cell_type": "code",
   "execution_count": 152,
   "id": "db1ef338-344c-4feb-a10b-d86c5bfe80a4",
   "metadata": {},
   "outputs": [
    {
     "data": {
      "text/plain": [
       "27"
      ]
     },
     "execution_count": 152,
     "metadata": {},
     "output_type": "execute_result"
    },
    {
     "name": "stdout",
     "output_type": "stream",
     "text": [
      "time: 0 ns (started: 2025-05-29 09:53:44 +01:00)\n"
     ]
    }
   ],
   "source": [
    "len('archivum.cli.list_libraries')"
   ]
  },
  {
   "cell_type": "code",
   "execution_count": 162,
   "id": "b9f0828f-2914-456d-b800-dbac584cb604",
   "metadata": {},
   "outputs": [
    {
     "name": "stdout",
     "output_type": "stream",
     "text": [
      "30\n"
     ]
    },
    {
     "data": {
      "text/plain": [
       "'a long string of text askdfj a'"
      ]
     },
     "execution_count": 162,
     "metadata": {},
     "output_type": "execute_result"
    },
    {
     "name": "stdout",
     "output_type": "stream",
     "text": [
      "time: 0 ns (started: 2025-05-29 10:21:04 +01:00)\n"
     ]
    }
   ],
   "source": [
    "a = 'a long string of text askdfj a'\n",
    "print(len(a))\n",
    "f'{a[-120:].strip():<20}'"
   ]
  },
  {
   "cell_type": "code",
   "execution_count": 175,
   "id": "de7ce2ce-0d46-45ca-948c-be6a249d819b",
   "metadata": {},
   "outputs": [
    {
     "name": "stdout",
     "output_type": "stream",
     "text": [
      "10:40:06 | archivum.library.__init__      | INFO     | config_path = C:\\Users\\steve\\AppData\\Local\\archivum\\books.archivum-config\n",
      "10:40:06 | archivum.library.__init__      | INFO     | config_path = C:\\Users\\steve\\AppData\\Local\\archivum\\uber-library.archivum-config\n",
      "10:40:06 | archivum.library.list_deets    | INFO     | key            name                             description  \\\n",
      "value         books                        downloaded books   \n",
      "value  Uber Library  Mendeley port from May 2025 plus books   \n",
      "\n",
      "key                         bibtex_file     pdf_dir        text_dir_name  \\\n",
      "value    \\S\\Telos\\biblio\\books-test.bib    \\S\\BOOKS  \\temp\\pdf-full-text   \n",
      "value  \\S\\Telos\\biblio\\uber-library.bib  \\S\\Library  \\temp\\pdf-full-text   \n",
      "\n",
      "key    extractor                watched_dirs  \n",
      "value  pdftotext  [c:\\users\\steve\\downloads]  \n",
      "value  pdftotext  [c:\\users\\steve\\downloads]  \n",
      "time: 62 ms (started: 2025-05-29 10:40:06 +01:00)\n"
     ]
    }
   ],
   "source": [
    "df = arcl.Library.list_deets()"
   ]
  },
  {
   "cell_type": "code",
   "execution_count": 176,
   "id": "df2d855c-cd10-41b5-98a7-191bfad02a72",
   "metadata": {},
   "outputs": [
    {
     "data": {
      "text/html": [
       "<div class=\"greater-table\">\n",
       "<style>\n",
       "    #TFGM4ENQYBLFI  {\n",
       "    border-collapse: collapse;\n",
       "    font-family: \"Roboto\", \"Open Sans Condensed\", \"Arial\", 'Segoe UI', sans-serif;\n",
       "    font-size: 0.9em;\n",
       "    width: auto;\n",
       "    \n",
       "    margin: 10px auto;\n",
       "    border: none;\n",
       "    overflow: auto;\n",
       "    margin-left: auto;\n",
       "    margin-right: auto;\n",
       "    }\n",
       "    \n",
       "    #TFGM4ENQYBLFI caption {\n",
       "        padding: 4px 10px 2px 10px;\n",
       "        font-size: 1.1em;\n",
       "        text-align: center;\n",
       "        font-weight: normal;\n",
       "        caption-side: top;\n",
       "    }\n",
       "    #TFGM4ENQYBLFI thead {\n",
       "        \n",
       "        border-top: 1px solid #000;\n",
       "        border-bottom: 1px solid #000;\n",
       "        font-size: 1.0em;\n",
       "        }\n",
       "    #TFGM4ENQYBLFI tbody {\n",
       "        \n",
       "        border-bottom: 1px solid #000;\n",
       "        }\n",
       "    #TFGM4ENQYBLFI th  {\n",
       "        vertical-align: bottom;\n",
       "        padding: 4px 10px 4px 10px;\n",
       "    }\n",
       "    #TFGM4ENQYBLFI td {\n",
       "        \n",
       "        padding: 2px 10px 2px 10px;\n",
       "        vertical-align: top;\n",
       "    }\n",
       "    \n",
       "    #TFGM4ENQYBLFI .grt-hrule-0 {\n",
       "        border-top: 0px solid #000;\n",
       "    }\n",
       "    #TFGM4ENQYBLFI .grt-hrule-1 {\n",
       "        border-top: 0px solid #000;\n",
       "    }\n",
       "    #TFGM4ENQYBLFI .grt-hrule-2 {\n",
       "        border-top: 0px solid #000;\n",
       "    }\n",
       "    \n",
       "    #TFGM4ENQYBLFI .grt-bhrule-0 {\n",
       "        border-bottom: 0px solid #000;\n",
       "    }\n",
       "    #TFGM4ENQYBLFI .grt-bhrule-1 {\n",
       "        border-bottom: 0px solid #000;\n",
       "    }\n",
       "    #TFGM4ENQYBLFI .grt-vrule-index {\n",
       "        border-left: 1px solid #000;\n",
       "    }\n",
       "    #TFGM4ENQYBLFI .grt-vrule-0 {\n",
       "        border-left: 0px solid #000;\n",
       "    }\n",
       "    #TFGM4ENQYBLFI .grt-vrule-1 {\n",
       "        border-left: 0px solid #000;\n",
       "    }\n",
       "    #TFGM4ENQYBLFI .grt-vrule-2 {\n",
       "        border-left: 0px solid #000;\n",
       "    }\n",
       "    #TFGM4ENQYBLFI .grt-left {\n",
       "        text-align: left;\n",
       "    }\n",
       "    #TFGM4ENQYBLFI .grt-center {\n",
       "        text-align: center;\n",
       "    }\n",
       "    #TFGM4ENQYBLFI .grt-right {\n",
       "        text-align: right;\n",
       "        font-variant-numeric: tabular-nums;\n",
       "    }\n",
       "    #TFGM4ENQYBLFI .grt-head {\n",
       "        font-family: \"Times New Roman\", 'Courier New';\n",
       "        font-size: 1.0em;\n",
       "    }\n",
       "    #TFGM4ENQYBLFI .grt-bold {\n",
       "        font-weight: bold;\n",
       "    }\n",
       "\n",
       "    #TFGM4ENQYBLFI .grt-c-0 { width: 8.2em; }\n",
       "    #TFGM4ENQYBLFI .grt-c-1 { width: 23.799999999999997em; }\n",
       "    #TFGM4ENQYBLFI .grt-c-2 { width: 20.2em; }\n",
       "    #TFGM4ENQYBLFI .grt-c-3 { width: 6.999999999999999em; }\n",
       "    #TFGM4ENQYBLFI .grt-c-4 { width: 12.4em; }\n",
       "    #TFGM4ENQYBLFI .grt-c-5 { width: 6.3999999999999995em; }\n",
       "    #TFGM4ENQYBLFI .grt-c-6 { width: 19.599999999999998em; }\n",
       "</style>\n",
       "<table id=\"TFGM4ENQYBLFI\">\n",
       "<colgroup>\n",
       "<col style=\"width: 4.919999999999999em;\"/>\n",
       "<col style=\"width: 14.279999999999998em;\"/>\n",
       "<col style=\"width: 12.12em;\"/>\n",
       "<col style=\"width: 4.199999999999999em;\"/>\n",
       "<col style=\"width: 7.4399999999999995em;\"/>\n",
       "<col style=\"width: 3.8399999999999994em;\"/>\n",
       "<col style=\"width: 11.759999999999998em;\"/>\n",
       "</colgroup>\n",
       "<thead>\n",
       "<tr>\n",
       "<th class=\"grt-left\" colspan=\"1\">name</th>\n",
       "<th class=\"grt-center grt-vrule-0\" colspan=\"1\">description</th>\n",
       "<th class=\"grt-center grt-vrule-0\" colspan=\"1\">bibtex_file</th>\n",
       "<th class=\"grt-center grt-vrule-0\" colspan=\"1\">pdf_dir</th>\n",
       "<th class=\"grt-center grt-vrule-0\" colspan=\"1\">text_dir_name</th>\n",
       "<th class=\"grt-center grt-vrule-0\" colspan=\"1\">extractor</th>\n",
       "<th class=\"grt-center grt-vrule-0\" colspan=\"1\">watched_dirs</th>\n",
       "</tr>\n",
       "</thead>\n",
       "<tbody>\n",
       "<tr>\n",
       "<td class=\"grt-c-0 grt-left\">books</td>\n",
       "<td class=\"grt-c-1 grt-left grt-vrule-0\">downloaded books</td>\n",
       "<td class=\"grt-c-2 grt-left grt-vrule-0\">\\S\\Telos\\biblio\\books-test.bib</td>\n",
       "<td class=\"grt-c-3 grt-left grt-vrule-0\">\\S\\BOOKS</td>\n",
       "<td class=\"grt-c-4 grt-left grt-vrule-0\">\\temp\\pdf-full-text</td>\n",
       "<td class=\"grt-c-5 grt-left grt-vrule-0\">pdftotext</td>\n",
       "<td class=\"grt-c-6 grt-left grt-vrule-0\">['c:\\\\users\\\\steve\\\\downloads']</td>\n",
       "</tr>\n",
       "<tr>\n",
       "<td class=\"grt-c-0 grt-left\">Uber Library</td>\n",
       "<td class=\"grt-c-1 grt-left grt-vrule-0\">Mendeley port from May 2025 plus books</td>\n",
       "<td class=\"grt-c-2 grt-left grt-vrule-0\">\\S\\Telos\\biblio\\uber-library.bib</td>\n",
       "<td class=\"grt-c-3 grt-left grt-vrule-0\">\\S\\Library</td>\n",
       "<td class=\"grt-c-4 grt-left grt-vrule-0\">\\temp\\pdf-full-text</td>\n",
       "<td class=\"grt-c-5 grt-left grt-vrule-0\">pdftotext</td>\n",
       "<td class=\"grt-c-6 grt-left grt-vrule-0\">['c:\\\\users\\\\steve\\\\downloads']</td>\n",
       "</tr>\n",
       "</tbody>\n",
       "</table></div>"
      ],
      "text/latex": [
       "\n",
       "\\begin{tikzpicture}[\n",
       "    auto,\n",
       "    transform shape,\n",
       "    nosep/.style={inner sep=0},\n",
       "    table/.style={\n",
       "        matrix of nodes,\n",
       "        row sep=0.125em,\n",
       "        column sep=0.375em,\n",
       "        nodes in empty cells,\n",
       "        nodes={rectangle, scale=0.635, text badly ragged },\n",
       "\trow 1/.style={nodes={text=black, anchor=north, inner ysep=0, text height=0, text depth=0}},\n",
       "\trow 2/.style={nodes={text=black, anchor=south, inner ysep=.2em, minimum height=1.3em, font=\\bfseries}},\n",
       "\tcolumn  1/.style={nodes={align=left  }, text height=0.9em, text depth=0.2em, inner xsep=0.375em, inner ysep=0, text width=7.20em},\n",
       "\tcolumn  2/.style={nodes={align=left  }, nosep, text width=22.80em},\n",
       "\tcolumn  3/.style={nodes={align=left  }, nosep, text width=19.20em},\n",
       "\tcolumn  4/.style={nodes={align=left  }, nosep, text width=6.00em},\n",
       "\tcolumn  5/.style={nodes={align=left  }, nosep, text width=11.40em},\n",
       "\tcolumn  6/.style={nodes={align=left  }, nosep, text width=5.40em},\n",
       "\tcolumn  7/.style={nodes={align=left  }, nosep, text width=18.60em},\n",
       "\tcolumn  8/.style={text height=0.9em, text depth=0.2em, nosep, text width=0em}\t}]\n",
       "\\matrix (TFGM4ENQYBLFI) [table, ampersand replacement=\\&]{\n",
       "              \\&                                        \\&                                  \\&            \\&                     \\&           \\&                                 \\& \\\\\n",
       " name\\grtspacer \\& description\\grtspacer                  \\& bibtex\\_file\\grtspacer           \\& pdf\\_dir\\grtspacer \\& text\\_dir\\_name\\grtspacer \\& extractor\\grtspacer \\& watched\\_dirs\\grtspacer         \\& \\\\\n",
       " books        \\& downloaded books                       \\& \\S\\Telos\\biblio\\books-test.bib   \\& \\S\\BOOKS   \\& \\temp\\pdf-full-text \\& pdftotext \\& ['c:\\\\users\\\\steve\\\\downloads'] \\& \\\\\n",
       " Uber Library \\& Mendeley port from May 2025 plus books \\& \\S\\Telos\\biblio\\uber-library.bib \\& \\S\\Library \\& \\temp\\pdf-full-text \\& pdftotext \\& ['c:\\\\users\\\\steve\\\\downloads'] \\& \\\\\n",
       "};\n",
       "\n",
       "\\path[draw, thick] (TFGM4ENQYBLFI-1-1.south west)  -- (TFGM4ENQYBLFI-1-8.south east);\n",
       "\\path[draw, semithick] ([yshift=-0.0625em]TFGM4ENQYBLFI-2-1.south west)  -- ([yshift=-0.0625em]TFGM4ENQYBLFI-2-8.south east);\n",
       "\\path[draw, thick] ([yshift=-0.3125em]TFGM4ENQYBLFI-4-1.base west)  -- ([yshift=-0.3125em]TFGM4ENQYBLFI-4-8.base east);\n",
       "\n",
       "\n",
       "\n",
       "\\end{tikzpicture}\n"
      ],
      "text/plain": [
       "GreaterTable(df_id=TFGM4ENQYBLFI)"
      ]
     },
     "execution_count": 176,
     "metadata": {},
     "output_type": "execute_result"
    },
    {
     "name": "stdout",
     "output_type": "stream",
     "text": [
      "time: 31 ms (started: 2025-05-29 10:40:11 +01:00)\n"
     ]
    }
   ],
   "source": [
    "fGT(df)"
   ]
  },
  {
   "cell_type": "code",
   "execution_count": 169,
   "id": "7db98072-335f-46d2-b03d-62f978cc9c54",
   "metadata": {},
   "outputs": [
    {
     "data": {
      "text/plain": [
       "[WindowsPath('C:/Users/steve/AppData/Local/archivum/books.archivum-config'),\n",
       " WindowsPath('C:/Users/steve/AppData/Local/archivum/uber-library.archivum-config')]"
      ]
     },
     "execution_count": 169,
     "metadata": {},
     "output_type": "execute_result"
    },
    {
     "name": "stdout",
     "output_type": "stream",
     "text": [
      "time: 16 ms (started: 2025-05-29 10:36:49 +01:00)\n"
     ]
    }
   ],
   "source": [
    "arcl.Library.get_library_list()"
   ]
  },
  {
   "cell_type": "code",
   "execution_count": 171,
   "id": "1ca4c9f0-7e46-4dcb-83d5-364b8883c4a3",
   "metadata": {},
   "outputs": [
    {
     "name": "stdout",
     "output_type": "stream",
     "text": [
      "books.archivum-config\n",
      "uber-library.archivum-config\n",
      "time: 16 ms (started: 2025-05-29 10:36:57 +01:00)\n"
     ]
    }
   ],
   "source": [
    "print(arcl.Library.list())"
   ]
  },
  {
   "cell_type": "code",
   "execution_count": 177,
   "id": "8eb53b48-0d32-43b8-aa00-d31dc948e904",
   "metadata": {},
   "outputs": [
    {
     "data": {
      "text/plain": [
       "Library(uber-library.archivum-config)"
      ]
     },
     "execution_count": 177,
     "metadata": {},
     "output_type": "execute_result"
    },
    {
     "name": "stdout",
     "output_type": "stream",
     "text": [
      "time: 16 ms (started: 2025-05-29 10:42:07 +01:00)\n"
     ]
    }
   ],
   "source": [
    "lib"
   ]
  },
  {
   "cell_type": "code",
   "execution_count": 178,
   "id": "7cefdd9f-d078-49e5-8afa-32569c2325d9",
   "metadata": {},
   "outputs": [
    {
     "data": {
      "text/html": [
       "<div>\n",
       "<style scoped>\n",
       "    .dataframe tbody tr th:only-of-type {\n",
       "        vertical-align: middle;\n",
       "    }\n",
       "\n",
       "    .dataframe tbody tr th {\n",
       "        vertical-align: top;\n",
       "    }\n",
       "\n",
       "    .dataframe thead th {\n",
       "        text-align: right;\n",
       "    }\n",
       "</style>\n",
       "<table border=\"1\" class=\"dataframe\">\n",
       "  <thead>\n",
       "    <tr style=\"text-align: right;\">\n",
       "      <th></th>\n",
       "      <th>references</th>\n",
       "      <th>documents</th>\n",
       "    </tr>\n",
       "  </thead>\n",
       "  <tbody>\n",
       "    <tr>\n",
       "      <th>objects</th>\n",
       "      <td>6118</td>\n",
       "      <td>6132</td>\n",
       "    </tr>\n",
       "    <tr>\n",
       "      <th>no children</th>\n",
       "      <td>167</td>\n",
       "      <td>156</td>\n",
       "    </tr>\n",
       "    <tr>\n",
       "      <th>children</th>\n",
       "      <td>5951</td>\n",
       "      <td>5976</td>\n",
       "    </tr>\n",
       "    <tr>\n",
       "      <th>1 child</th>\n",
       "      <td>5833</td>\n",
       "      <td>5883</td>\n",
       "    </tr>\n",
       "    <tr>\n",
       "      <th>2 children</th>\n",
       "      <td>108</td>\n",
       "      <td>86</td>\n",
       "    </tr>\n",
       "    <tr>\n",
       "      <th>3 children</th>\n",
       "      <td>10</td>\n",
       "      <td>4</td>\n",
       "    </tr>\n",
       "    <tr>\n",
       "      <th>4+ children</th>\n",
       "      <td>0</td>\n",
       "      <td>3</td>\n",
       "    </tr>\n",
       "  </tbody>\n",
       "</table>\n",
       "</div>"
      ],
      "text/plain": [
       "             references  documents\n",
       "objects            6118       6132\n",
       "no children         167        156\n",
       "children           5951       5976\n",
       "1 child            5833       5883\n",
       "2 children          108         86\n",
       "3 children           10          4\n",
       "4+ children           0          3"
      ]
     },
     "execution_count": 178,
     "metadata": {},
     "output_type": "execute_result"
    },
    {
     "name": "stdout",
     "output_type": "stream",
     "text": [
      "time: 31 ms (started: 2025-05-29 10:42:11 +01:00)\n"
     ]
    }
   ],
   "source": [
    "lib.stats()"
   ]
  },
  {
   "cell_type": "code",
   "execution_count": 181,
   "id": "449879eb-dcab-4838-ba5f-cc1ca77b3502",
   "metadata": {},
   "outputs": [
    {
     "data": {
      "text/html": [
       "<div>\n",
       "<style scoped>\n",
       "    .dataframe tbody tr th:only-of-type {\n",
       "        vertical-align: middle;\n",
       "    }\n",
       "\n",
       "    .dataframe tbody tr th {\n",
       "        vertical-align: top;\n",
       "    }\n",
       "\n",
       "    .dataframe thead th {\n",
       "        text-align: right;\n",
       "    }\n",
       "</style>\n",
       "<table border=\"1\" class=\"dataframe\">\n",
       "  <thead>\n",
       "    <tr style=\"text-align: right;\">\n",
       "      <th></th>\n",
       "      <th>distinct</th>\n",
       "      <th>missing</th>\n",
       "    </tr>\n",
       "  </thead>\n",
       "  <tbody>\n",
       "    <tr>\n",
       "      <th>tag</th>\n",
       "      <td>6118</td>\n",
       "      <td>0</td>\n",
       "    </tr>\n",
       "    <tr>\n",
       "      <th>type</th>\n",
       "      <td>10</td>\n",
       "      <td>0</td>\n",
       "    </tr>\n",
       "    <tr>\n",
       "      <th>author</th>\n",
       "      <td>4662</td>\n",
       "      <td>5</td>\n",
       "    </tr>\n",
       "    <tr>\n",
       "      <th>doi</th>\n",
       "      <td>2539</td>\n",
       "      <td>3431</td>\n",
       "    </tr>\n",
       "    <tr>\n",
       "      <th>journal</th>\n",
       "      <td>1225</td>\n",
       "      <td>2643</td>\n",
       "    </tr>\n",
       "    <tr>\n",
       "      <th>pages</th>\n",
       "      <td>2749</td>\n",
       "      <td>2233</td>\n",
       "    </tr>\n",
       "    <tr>\n",
       "      <th>title</th>\n",
       "      <td>5902</td>\n",
       "      <td>0</td>\n",
       "    </tr>\n",
       "    <tr>\n",
       "      <th>volume</th>\n",
       "      <td>454</td>\n",
       "      <td>3143</td>\n",
       "    </tr>\n",
       "    <tr>\n",
       "      <th>year</th>\n",
       "      <td>100</td>\n",
       "      <td>256</td>\n",
       "    </tr>\n",
       "    <tr>\n",
       "      <th>publisher</th>\n",
       "      <td>169</td>\n",
       "      <td>5579</td>\n",
       "    </tr>\n",
       "    <tr>\n",
       "      <th>url</th>\n",
       "      <td>1387</td>\n",
       "      <td>4672</td>\n",
       "    </tr>\n",
       "    <tr>\n",
       "      <th>institution</th>\n",
       "      <td>108</td>\n",
       "      <td>5983</td>\n",
       "    </tr>\n",
       "    <tr>\n",
       "      <th>number</th>\n",
       "      <td>371</td>\n",
       "      <td>2934</td>\n",
       "    </tr>\n",
       "    <tr>\n",
       "      <th>mendeley-tags</th>\n",
       "      <td>187</td>\n",
       "      <td>4425</td>\n",
       "    </tr>\n",
       "    <tr>\n",
       "      <th>booktitle</th>\n",
       "      <td>241</td>\n",
       "      <td>5842</td>\n",
       "    </tr>\n",
       "    <tr>\n",
       "      <th>edition</th>\n",
       "      <td>13</td>\n",
       "      <td>6053</td>\n",
       "    </tr>\n",
       "    <tr>\n",
       "      <th>month</th>\n",
       "      <td>13</td>\n",
       "      <td>5939</td>\n",
       "    </tr>\n",
       "    <tr>\n",
       "      <th>address</th>\n",
       "      <td>39</td>\n",
       "      <td>6029</td>\n",
       "    </tr>\n",
       "    <tr>\n",
       "      <th>editor</th>\n",
       "      <td>14</td>\n",
       "      <td>6105</td>\n",
       "    </tr>\n",
       "    <tr>\n",
       "      <th>arc-citations</th>\n",
       "      <td>144</td>\n",
       "      <td>5915</td>\n",
       "    </tr>\n",
       "    <tr>\n",
       "      <th>arc-source</th>\n",
       "      <td>1</td>\n",
       "      <td>0</td>\n",
       "    </tr>\n",
       "  </tbody>\n",
       "</table>\n",
       "</div>"
      ],
      "text/plain": [
       "               distinct  missing\n",
       "tag                6118        0\n",
       "type                 10        0\n",
       "author             4662        5\n",
       "doi                2539     3431\n",
       "journal            1225     2643\n",
       "pages              2749     2233\n",
       "title              5902        0\n",
       "volume              454     3143\n",
       "year                100      256\n",
       "publisher           169     5579\n",
       "url                1387     4672\n",
       "institution         108     5983\n",
       "number              371     2934\n",
       "mendeley-tags       187     4425\n",
       "booktitle           241     5842\n",
       "edition              13     6053\n",
       "month                13     5939\n",
       "address              39     6029\n",
       "editor               14     6105\n",
       "arc-citations       144     5915\n",
       "arc-source            1        0"
      ]
     },
     "execution_count": 181,
     "metadata": {},
     "output_type": "execute_result"
    },
    {
     "name": "stdout",
     "output_type": "stream",
     "text": [
      "time: 31 ms (started: 2025-05-29 10:42:22 +01:00)\n"
     ]
    }
   ],
   "source": [
    "lib.distinct_values_by_field()"
   ]
  },
  {
   "cell_type": "code",
   "execution_count": 182,
   "id": "7ee920d2-1049-4eb3-9f5e-c7b342302451",
   "metadata": {},
   "outputs": [
    {
     "data": {
      "text/plain": [
       "['Report',\n",
       " 'article',\n",
       " 'book',\n",
       " 'incollection',\n",
       " 'inproceedings',\n",
       " 'manual',\n",
       " 'misc',\n",
       " 'phdthesis',\n",
       " 'techreport',\n",
       " 'unpublished']"
      ]
     },
     "execution_count": 182,
     "metadata": {},
     "output_type": "execute_result"
    },
    {
     "name": "stdout",
     "output_type": "stream",
     "text": [
      "time: 16 ms (started: 2025-05-29 10:42:35 +01:00)\n"
     ]
    }
   ],
   "source": [
    "lib.distinct('type')"
   ]
  },
  {
   "cell_type": "code",
   "execution_count": 186,
   "id": "96b41940-4552-48c2-b781-5c66cd7806d9",
   "metadata": {},
   "outputs": [
    {
     "data": {
      "text/html": [
       "<div>\n",
       "<style scoped>\n",
       "    .dataframe tbody tr th:only-of-type {\n",
       "        vertical-align: middle;\n",
       "    }\n",
       "\n",
       "    .dataframe tbody tr th {\n",
       "        vertical-align: top;\n",
       "    }\n",
       "\n",
       "    .dataframe thead th {\n",
       "        text-align: right;\n",
       "    }\n",
       "</style>\n",
       "<table border=\"1\" class=\"dataframe\">\n",
       "  <thead>\n",
       "    <tr style=\"text-align: right;\">\n",
       "      <th></th>\n",
       "      <th>count</th>\n",
       "    </tr>\n",
       "    <tr>\n",
       "      <th>type</th>\n",
       "      <th></th>\n",
       "    </tr>\n",
       "  </thead>\n",
       "  <tbody>\n",
       "    <tr>\n",
       "      <th>article</th>\n",
       "      <td>4980</td>\n",
       "    </tr>\n",
       "    <tr>\n",
       "      <th>book</th>\n",
       "      <td>418</td>\n",
       "    </tr>\n",
       "    <tr>\n",
       "      <th>techreport</th>\n",
       "      <td>413</td>\n",
       "    </tr>\n",
       "    <tr>\n",
       "      <th>misc</th>\n",
       "      <td>133</td>\n",
       "    </tr>\n",
       "    <tr>\n",
       "      <th>incollection</th>\n",
       "      <td>59</td>\n",
       "    </tr>\n",
       "    <tr>\n",
       "      <th>unpublished</th>\n",
       "      <td>59</td>\n",
       "    </tr>\n",
       "    <tr>\n",
       "      <th>inproceedings</th>\n",
       "      <td>44</td>\n",
       "    </tr>\n",
       "    <tr>\n",
       "      <th>phdthesis</th>\n",
       "      <td>10</td>\n",
       "    </tr>\n",
       "    <tr>\n",
       "      <th>Report</th>\n",
       "      <td>1</td>\n",
       "    </tr>\n",
       "    <tr>\n",
       "      <th>manual</th>\n",
       "      <td>1</td>\n",
       "    </tr>\n",
       "  </tbody>\n",
       "</table>\n",
       "</div>"
      ],
      "text/plain": [
       "               count\n",
       "type                \n",
       "article         4980\n",
       "book             418\n",
       "techreport       413\n",
       "misc             133\n",
       "incollection      59\n",
       "unpublished       59\n",
       "inproceedings     44\n",
       "phdthesis         10\n",
       "Report             1\n",
       "manual             1"
      ]
     },
     "execution_count": 186,
     "metadata": {},
     "output_type": "execute_result"
    },
    {
     "name": "stdout",
     "output_type": "stream",
     "text": [
      "time: 0 ns (started: 2025-05-29 10:44:09 +01:00)\n"
     ]
    }
   ],
   "source": [
    "lib.ref_df['type'].value_counts().to_frame('count').sort_values('count', ascending=False).head(20)"
   ]
  },
  {
   "cell_type": "code",
   "execution_count": 198,
   "id": "1f766080-2321-4b3d-abe8-098bd1444a92",
   "metadata": {},
   "outputs": [
    {
     "data": {
      "text/html": [
       "<div>\n",
       "<style scoped>\n",
       "    .dataframe tbody tr th:only-of-type {\n",
       "        vertical-align: middle;\n",
       "    }\n",
       "\n",
       "    .dataframe tbody tr th {\n",
       "        vertical-align: top;\n",
       "    }\n",
       "\n",
       "    .dataframe thead th {\n",
       "        text-align: right;\n",
       "    }\n",
       "</style>\n",
       "<table border=\"1\" class=\"dataframe\">\n",
       "  <thead>\n",
       "    <tr style=\"text-align: right;\">\n",
       "      <th></th>\n",
       "      <th>count</th>\n",
       "    </tr>\n",
       "    <tr>\n",
       "      <th>type</th>\n",
       "      <th></th>\n",
       "    </tr>\n",
       "  </thead>\n",
       "  <tbody>\n",
       "    <tr>\n",
       "      <th>article</th>\n",
       "      <td>10561</td>\n",
       "    </tr>\n",
       "    <tr>\n",
       "      <th>book</th>\n",
       "      <td>697</td>\n",
       "    </tr>\n",
       "    <tr>\n",
       "      <th>techreport</th>\n",
       "      <td>585</td>\n",
       "    </tr>\n",
       "    <tr>\n",
       "      <th>unpublished</th>\n",
       "      <td>313</td>\n",
       "    </tr>\n",
       "    <tr>\n",
       "      <th>misc</th>\n",
       "      <td>200</td>\n",
       "    </tr>\n",
       "    <tr>\n",
       "      <th>incollection</th>\n",
       "      <td>106</td>\n",
       "    </tr>\n",
       "    <tr>\n",
       "      <th>inproceedings</th>\n",
       "      <td>79</td>\n",
       "    </tr>\n",
       "    <tr>\n",
       "      <th>phdthesis</th>\n",
       "      <td>10</td>\n",
       "    </tr>\n",
       "    <tr>\n",
       "      <th>Report</th>\n",
       "      <td>2</td>\n",
       "    </tr>\n",
       "    <tr>\n",
       "      <th>manual</th>\n",
       "      <td>1</td>\n",
       "    </tr>\n",
       "  </tbody>\n",
       "</table>\n",
       "</div>"
      ],
      "text/plain": [
       "               count\n",
       "type                \n",
       "article        10561\n",
       "book             697\n",
       "techreport       585\n",
       "unpublished      313\n",
       "misc             200\n",
       "incollection     106\n",
       "inproceedings     79\n",
       "phdthesis         10\n",
       "Report             2\n",
       "manual             1"
      ]
     },
     "execution_count": 198,
     "metadata": {},
     "output_type": "execute_result"
    },
    {
     "name": "stdout",
     "output_type": "stream",
     "text": [
      "time: 0 ns (started: 2025-05-29 10:51:21 +01:00)\n"
     ]
    }
   ],
   "source": [
    "lib.distinct_value_counts('type')"
   ]
  },
  {
   "cell_type": "code",
   "execution_count": 196,
   "id": "37d39d38-43f5-4fc1-a8b1-9b6a6ffbe81a",
   "metadata": {},
   "outputs": [
    {
     "data": {
      "text/plain": [
       "True"
      ]
     },
     "execution_count": 196,
     "metadata": {},
     "output_type": "execute_result"
    },
    {
     "name": "stdout",
     "output_type": "stream",
     "text": [
      "time: 0 ns (started: 2025-05-29 10:50:23 +01:00)\n"
     ]
    }
   ],
   "source": [
    "pd.DataFrame([]).empty"
   ]
  },
  {
   "cell_type": "code",
   "execution_count": 197,
   "id": "c6125d49-9b9c-4236-be47-ec8532ebf135",
   "metadata": {},
   "outputs": [
    {
     "data": {
      "text/plain": [
       "''"
      ]
     },
     "execution_count": 197,
     "metadata": {},
     "output_type": "execute_result"
    },
    {
     "name": "stdout",
     "output_type": "stream",
     "text": [
      "time: 0 ns (started: 2025-05-29 10:50:49 +01:00)\n"
     ]
    }
   ],
   "source": [
    "str(fGT(None))"
   ]
  },
  {
   "cell_type": "code",
   "execution_count": 201,
   "id": "bb6a2dbe-6abc-4d93-850c-577e58bd18f2",
   "metadata": {},
   "outputs": [
    {
     "name": "stdout",
     "output_type": "stream",
     "text": [
      "10:55:10 | archivum.library.__init__      | INFO     | config_path = C:\\Users\\steve\\AppData\\Local\\archivum\\books.archivum-config\n",
      "10:55:10 | archivum.library.__init__      | INFO     | config_path = C:\\Users\\steve\\AppData\\Local\\archivum\\uber-library.archivum-config\n",
      "10:55:10 | archivum.library.list_deets    | INFO     | key  index          name                             description  \\\n",
      "0    value         books                        downloaded books   \n",
      "1    value  Uber Library  Mendeley port from May 2025 plus books   \n",
      "\n",
      "key                       bibtex_file     pdf_dir        text_dir_name  \\\n",
      "0      \\S\\Telos\\biblio\\books-test.bib    \\S\\BOOKS  \\temp\\pdf-full-text   \n",
      "1    \\S\\Telos\\biblio\\uber-library.bib  \\S\\Library  \\temp\\pdf-full-text   \n",
      "\n",
      "key  extractor                watched_dirs  \n",
      "0    pdftotext  [c:\\users\\steve\\downloads]  \n",
      "1    pdftotext  [c:\\users\\steve\\downloads]  \n"
     ]
    },
    {
     "data": {
      "text/html": [
       "<div>\n",
       "<style scoped>\n",
       "    .dataframe tbody tr th:only-of-type {\n",
       "        vertical-align: middle;\n",
       "    }\n",
       "\n",
       "    .dataframe tbody tr th {\n",
       "        vertical-align: top;\n",
       "    }\n",
       "\n",
       "    .dataframe thead th {\n",
       "        text-align: right;\n",
       "    }\n",
       "</style>\n",
       "<table border=\"1\" class=\"dataframe\">\n",
       "  <thead>\n",
       "    <tr style=\"text-align: right;\">\n",
       "      <th>key</th>\n",
       "      <th>index</th>\n",
       "      <th>name</th>\n",
       "      <th>description</th>\n",
       "      <th>bibtex_file</th>\n",
       "      <th>pdf_dir</th>\n",
       "      <th>text_dir_name</th>\n",
       "      <th>extractor</th>\n",
       "      <th>watched_dirs</th>\n",
       "    </tr>\n",
       "  </thead>\n",
       "  <tbody>\n",
       "    <tr>\n",
       "      <th>0</th>\n",
       "      <td>value</td>\n",
       "      <td>books</td>\n",
       "      <td>downloaded books</td>\n",
       "      <td>\\S\\Telos\\biblio\\books-test.bib</td>\n",
       "      <td>\\S\\BOOKS</td>\n",
       "      <td>\\temp\\pdf-full-text</td>\n",
       "      <td>pdftotext</td>\n",
       "      <td>[c:\\users\\steve\\downloads]</td>\n",
       "    </tr>\n",
       "    <tr>\n",
       "      <th>1</th>\n",
       "      <td>value</td>\n",
       "      <td>Uber Library</td>\n",
       "      <td>Mendeley port from May 2025 plus books</td>\n",
       "      <td>\\S\\Telos\\biblio\\uber-library.bib</td>\n",
       "      <td>\\S\\Library</td>\n",
       "      <td>\\temp\\pdf-full-text</td>\n",
       "      <td>pdftotext</td>\n",
       "      <td>[c:\\users\\steve\\downloads]</td>\n",
       "    </tr>\n",
       "  </tbody>\n",
       "</table>\n",
       "</div>"
      ],
      "text/plain": [
       "key  index          name                             description  \\\n",
       "0    value         books                        downloaded books   \n",
       "1    value  Uber Library  Mendeley port from May 2025 plus books   \n",
       "\n",
       "key                       bibtex_file     pdf_dir        text_dir_name  \\\n",
       "0      \\S\\Telos\\biblio\\books-test.bib    \\S\\BOOKS  \\temp\\pdf-full-text   \n",
       "1    \\S\\Telos\\biblio\\uber-library.bib  \\S\\Library  \\temp\\pdf-full-text   \n",
       "\n",
       "key  extractor                watched_dirs  \n",
       "0    pdftotext  [c:\\users\\steve\\downloads]  \n",
       "1    pdftotext  [c:\\users\\steve\\downloads]  "
      ]
     },
     "execution_count": 201,
     "metadata": {},
     "output_type": "execute_result"
    },
    {
     "name": "stdout",
     "output_type": "stream",
     "text": [
      "time: 62 ms (started: 2025-05-29 10:55:10 +01:00)\n"
     ]
    }
   ],
   "source": [
    "lib.list_deets()#.reset_index(drop=False)"
   ]
  },
  {
   "cell_type": "code",
   "execution_count": 204,
   "id": "acd2118e-536f-4b34-bcf5-1a992b58b502",
   "metadata": {},
   "outputs": [
    {
     "data": {
      "text/html": [
       "<div class=\"greater-table\">\n",
       "<style>\n",
       "    #T2HBEZTMV7HJC  {\n",
       "    border-collapse: collapse;\n",
       "    font-family: \"Roboto\", \"Open Sans Condensed\", \"Arial\", 'Segoe UI', sans-serif;\n",
       "    font-size: 0.9em;\n",
       "    width: auto;\n",
       "    \n",
       "    margin: 10px auto;\n",
       "    border: none;\n",
       "    overflow: auto;\n",
       "    margin-left: auto;\n",
       "    margin-right: auto;\n",
       "    }\n",
       "    \n",
       "    #T2HBEZTMV7HJC caption {\n",
       "        padding: 4px 10px 2px 10px;\n",
       "        font-size: 1.1em;\n",
       "        text-align: center;\n",
       "        font-weight: normal;\n",
       "        caption-side: top;\n",
       "    }\n",
       "    #T2HBEZTMV7HJC thead {\n",
       "        \n",
       "        border-top: 1px solid #000;\n",
       "        border-bottom: 1px solid #000;\n",
       "        font-size: 1.0em;\n",
       "        }\n",
       "    #T2HBEZTMV7HJC tbody {\n",
       "        \n",
       "        border-bottom: 1px solid #000;\n",
       "        }\n",
       "    #T2HBEZTMV7HJC th  {\n",
       "        vertical-align: bottom;\n",
       "        padding: 4px 10px 4px 10px;\n",
       "    }\n",
       "    #T2HBEZTMV7HJC td {\n",
       "        \n",
       "        padding: 2px 10px 2px 10px;\n",
       "        vertical-align: top;\n",
       "    }\n",
       "    \n",
       "    #T2HBEZTMV7HJC .grt-hrule-0 {\n",
       "        border-top: 0px solid #000;\n",
       "    }\n",
       "    #T2HBEZTMV7HJC .grt-hrule-1 {\n",
       "        border-top: 0px solid #000;\n",
       "    }\n",
       "    #T2HBEZTMV7HJC .grt-hrule-2 {\n",
       "        border-top: 0px solid #000;\n",
       "    }\n",
       "    \n",
       "    #T2HBEZTMV7HJC .grt-bhrule-0 {\n",
       "        border-bottom: 0px solid #000;\n",
       "    }\n",
       "    #T2HBEZTMV7HJC .grt-bhrule-1 {\n",
       "        border-bottom: 0px solid #000;\n",
       "    }\n",
       "    #T2HBEZTMV7HJC .grt-vrule-index {\n",
       "        border-left: 1px solid #000;\n",
       "    }\n",
       "    #T2HBEZTMV7HJC .grt-vrule-0 {\n",
       "        border-left: 0px solid #000;\n",
       "    }\n",
       "    #T2HBEZTMV7HJC .grt-vrule-1 {\n",
       "        border-left: 0px solid #000;\n",
       "    }\n",
       "    #T2HBEZTMV7HJC .grt-vrule-2 {\n",
       "        border-left: 0px solid #000;\n",
       "    }\n",
       "    #T2HBEZTMV7HJC .grt-left {\n",
       "        text-align: left;\n",
       "    }\n",
       "    #T2HBEZTMV7HJC .grt-center {\n",
       "        text-align: center;\n",
       "    }\n",
       "    #T2HBEZTMV7HJC .grt-right {\n",
       "        text-align: right;\n",
       "        font-variant-numeric: tabular-nums;\n",
       "    }\n",
       "    #T2HBEZTMV7HJC .grt-head {\n",
       "        font-family: \"Times New Roman\", 'Courier New';\n",
       "        font-size: 1.0em;\n",
       "    }\n",
       "    #T2HBEZTMV7HJC .grt-bold {\n",
       "        font-weight: bold;\n",
       "    }\n",
       "\n",
       "    #T2HBEZTMV7HJC .grt-c-0 { width: 7.6em; }\n",
       "    #T2HBEZTMV7HJC .grt-c-1 { width: 6.999999999999999em; }\n",
       "    #T2HBEZTMV7HJC .grt-c-2 { width: 6.3999999999999995em; }\n",
       "</style>\n",
       "<table id=\"T2HBEZTMV7HJC\">\n",
       "<colgroup>\n",
       "<col style=\"width: 4.56em;\"/>\n",
       "<col style=\"width: 4.199999999999999em;\"/>\n",
       "<col style=\"width: 3.8399999999999994em;\"/>\n",
       "</colgroup>\n",
       "<thead>\n",
       "<tr>\n",
       "<th class=\"grt-left\" colspan=\"1\">index</th>\n",
       "<th class=\"grt-center grt-vrule-0\" colspan=\"1\">references</th>\n",
       "<th class=\"grt-center grt-vrule-0\" colspan=\"1\">documents</th>\n",
       "</tr>\n",
       "</thead>\n",
       "<tbody>\n",
       "<tr>\n",
       "<td class=\"grt-c-0 grt-left\">objects</td>\n",
       "<td class=\"grt-c-1 grt-right grt-vrule-0\">6,118</td>\n",
       "<td class=\"grt-c-2 grt-right grt-vrule-0\">6,132</td>\n",
       "</tr>\n",
       "<tr>\n",
       "<td class=\"grt-c-0 grt-left\">no children</td>\n",
       "<td class=\"grt-c-1 grt-right grt-vrule-0\">167</td>\n",
       "<td class=\"grt-c-2 grt-right grt-vrule-0\">156</td>\n",
       "</tr>\n",
       "<tr>\n",
       "<td class=\"grt-c-0 grt-left\">children</td>\n",
       "<td class=\"grt-c-1 grt-right grt-vrule-0\">5,951</td>\n",
       "<td class=\"grt-c-2 grt-right grt-vrule-0\">5,976</td>\n",
       "</tr>\n",
       "<tr>\n",
       "<td class=\"grt-c-0 grt-left\">1 child</td>\n",
       "<td class=\"grt-c-1 grt-right grt-vrule-0\">5,833</td>\n",
       "<td class=\"grt-c-2 grt-right grt-vrule-0\">5,883</td>\n",
       "</tr>\n",
       "<tr>\n",
       "<td class=\"grt-c-0 grt-left\">2 children</td>\n",
       "<td class=\"grt-c-1 grt-right grt-vrule-0\">108</td>\n",
       "<td class=\"grt-c-2 grt-right grt-vrule-0\">86</td>\n",
       "</tr>\n",
       "<tr>\n",
       "<td class=\"grt-c-0 grt-left\">3 children</td>\n",
       "<td class=\"grt-c-1 grt-right grt-vrule-0\">10</td>\n",
       "<td class=\"grt-c-2 grt-right grt-vrule-0\">4</td>\n",
       "</tr>\n",
       "<tr>\n",
       "<td class=\"grt-c-0 grt-left\">4+ children</td>\n",
       "<td class=\"grt-c-1 grt-right grt-vrule-0\">0</td>\n",
       "<td class=\"grt-c-2 grt-right grt-vrule-0\">3</td>\n",
       "</tr>\n",
       "</tbody>\n",
       "</table></div>"
      ],
      "text/latex": [
       "\n",
       "\\begin{tikzpicture}[\n",
       "    auto,\n",
       "    transform shape,\n",
       "    nosep/.style={inner sep=0},\n",
       "    table/.style={\n",
       "        matrix of nodes,\n",
       "        row sep=0.125em,\n",
       "        column sep=0.375em,\n",
       "        nodes in empty cells,\n",
       "        nodes={rectangle, scale=0.635, text badly ragged },\n",
       "\trow 1/.style={nodes={text=black, anchor=north, inner ysep=0, text height=0, text depth=0}},\n",
       "\trow 2/.style={nodes={text=black, anchor=south, inner ysep=.2em, minimum height=1.3em, font=\\bfseries}},\n",
       "\tcolumn  1/.style={nodes={align=left  }, text height=0.9em, text depth=0.2em, inner xsep=0.375em, inner ysep=0, text width=10.39em},\n",
       "\tcolumn  2/.style={nodes={align=right }, nosep, text width=9.45em},\n",
       "\tcolumn  3/.style={nodes={align=right }, nosep, text width=8.50em},\n",
       "\tcolumn  4/.style={text height=0.9em, text depth=0.2em, nosep, text width=0em}\t}]\n",
       "\\matrix (T2HBEZTMV7HJC) [table, ampersand replacement=\\&]{\n",
       "             \\&       \\&       \\& \\\\\n",
       " index\\grtspacer \\& references\\grtspacer \\& documents\\grtspacer \\& \\\\\n",
       " objects     \\& 6,118 \\& 6,132 \\& \\\\\n",
       " no children \\&   167 \\&   156 \\& \\\\\n",
       " children    \\& 5,951 \\& 5,976 \\& \\\\\n",
       " 1 child     \\& 5,833 \\& 5,883 \\& \\\\\n",
       " 2 children  \\&   108 \\&    86 \\& \\\\\n",
       " 3 children  \\&    10 \\&     4 \\& \\\\\n",
       " 4+ children \\&     0 \\&     3 \\& \\\\\n",
       "};\n",
       "\n",
       "\\path[draw, thick] (T2HBEZTMV7HJC-1-1.south west)  -- (T2HBEZTMV7HJC-1-4.south east);\n",
       "\\path[draw, semithick] ([yshift=-0.0625em]T2HBEZTMV7HJC-2-1.south west)  -- ([yshift=-0.0625em]T2HBEZTMV7HJC-2-4.south east);\n",
       "\\path[draw, thick] ([yshift=-0.3125em]T2HBEZTMV7HJC-9-1.base west)  -- ([yshift=-0.3125em]T2HBEZTMV7HJC-9-4.base east);\n",
       "\n",
       "\n",
       "\n",
       "\\end{tikzpicture}\n"
      ],
      "text/plain": [
       "GreaterTable(df_id=T2HBEZTMV7HJC)"
      ]
     },
     "execution_count": 204,
     "metadata": {},
     "output_type": "execute_result"
    },
    {
     "name": "stdout",
     "output_type": "stream",
     "text": [
      "time: 31 ms (started: 2025-05-29 10:56:58 +01:00)\n"
     ]
    }
   ],
   "source": [
    "fGT(lib.stats().reset_index(drop=False))"
   ]
  },
  {
   "cell_type": "code",
   "execution_count": 3,
   "id": "da745b9f-1e9c-420d-bde8-783cafc2dfa6",
   "metadata": {},
   "outputs": [],
   "source": [
    "from archivum.parser import ArcLexer, ArcParser , grammar"
   ]
  },
  {
   "cell_type": "code",
   "execution_count": 6,
   "id": "2629f223-5536-4284-858f-e4fbe09a2928",
   "metadata": {},
   "outputs": [
    {
     "name": "stdout",
     "output_type": "stream",
     "text": [
      "C:\\Users\\steve\\Documents\\CloudStation\\TELOS\\Python\\archivum_project\\temp\\grammar.md\n"
     ]
    },
    {
     "name": "stderr",
     "output_type": "stream",
     "text": [
      "WARNING: 8 shift/reduce conflicts\n"
     ]
    },
    {
     "data": {
      "text/plain": [
       "'GRAMMAR\\n=======\\n\\nclause_list         \\t::= \\n                    \\t | clause_list clause\\n                    \\t | clause\\n\\nclause              \\t::= TOP NUMBER\\n                    \\t | flags\\n                    \\t | regexes\\n                    \\t | SELECT select_list\\n                    \\t | WHERE where_clause_expression\\n                    \\t | ORDER_BY column_sort_list\\n\\nflags               \\t::= FLAG flags\\n                    \\t | FLAG\\n\\nregexes             \\t::= regexes AND regex\\n                    \\t | regex\\n\\nregex               \\t::= IDENTIFIER TILDE REGEX_SLASHED\\n                    \\t | IDENTIFIER TILDE IDENTIFIER\\n                    \\t | BANG REGEX_SLASHED\\n                    \\t | BANG IDENTIFIER\\n\\nselect_list         \\t::= select_list \",\" select_item\\n                    \\t | select_item\\n\\nselect_item         \\t::= IDENTIFIER\\n                    \\t | NOT IDENTIFIER\\n                    \\t | STAR\\n\\nwhere_clause_expression\\t::= where_clause_expression AND where_clause\\n                    \\t | where_clause\\n\\nwhere_clause        \\t::= IDENTIFIER EQ_TEST QUOTED_STRING\\n                    \\t | IDENTIFIER EQ_TEST IDENTIFIER\\n                    \\t | IDENTIFIER EQ_TEST NUMBER\\n                    \\t | IDENTIFIER EQ_TEST DATETIME\\n\\ncolumn_sort_list    \\t::= column_sort_list \",\" column_sort\\n                    \\t | column_sort\\n\\ncolumn_sort         \\t::= IDENTIFIER\\n                    \\t | NOT IDENTIFIER\\n\\n\\n\\nTOKENS\\n======\\n        IDENTIFIER, NUMBER, QUOTED_STRING, REGEX_SLASHED,\\n        DATETIME, SELECT, ORDER_BY, WHERE, TOP, EQ_TEST, AND,\\n        FLAG, STAR, NOT, DATETIME, TILDE, BANG\\n\\nDEFINITIONS\\n===========\\n    SELECT = \\'select|SELECT\\'\\n    ORDER_BY = \\'order|ORDER|sort|SORT\\'\\n    WHERE = \\'where|WHERE\\'\\n    TOP = \\'top|TOP\\'\\n    AND = \\'and|AND\\'    # just AND, otherwise into parens, order of ops etc.\\n    FLAG = \\'recent|RECENT|verbose|VERBOSE\\'\\n\\n    STAR = r\\'\\x08\\\\*\\x08\\'\\n    TILDE = r\\'\\x08~\\x08\\'\\n    BANG = r\\'\\x08!\\x08\\'\\n    # to reverse sort order\\n    NOT = r\\'\\\\-\\'\\n    EQ_TEST = r\\'==|<=|<|>|>=\\'\\n    DATETIME complex regex\\n    NUMBER = r\\'-?(\\\\d+(\\\\.\\\\d*)?|\\\\.\\\\d+)(%|[eE][+-]?\\\\d+)?|inf|-inf\\'\\n    QUOTED_STRING = r\\'\\'\\'\"([^\"\\\\]|\\\\.)*\"|\\'([^\\'\\\\]|\\\\.)*\\'\\'\\'\\'\\n    IDENTIFIER = r\\'[a-z_][a-z0-9_]*\\'\\n    REGEX_SLASHED = r\\'/([^/\\\\]|\\\\.)*/\\'\\n'"
      ]
     },
     "execution_count": 6,
     "metadata": {},
     "output_type": "execute_result"
    }
   ],
   "source": [
    "grammar()"
   ]
  },
  {
   "cell_type": "code",
   "execution_count": 1,
   "id": "2834b732-36dd-46af-86d7-f8adb334657c",
   "metadata": {},
   "outputs": [
    {
     "data": {
      "text/plain": [
       "10"
      ]
     },
     "execution_count": 1,
     "metadata": {},
     "output_type": "execute_result"
    }
   ],
   "source": [
    "10"
   ]
  },
  {
   "cell_type": "code",
   "execution_count": 2,
   "id": "4e384cb2-4469-43f6-96b7-55b0597cbe47",
   "metadata": {},
   "outputs": [
    {
     "name": "stderr",
     "output_type": "stream",
     "text": [
      "WARNING: 8 shift/reduce conflicts\n"
     ]
    }
   ],
   "source": [
    "import archivum.lazy_parser as arcz"
   ]
  },
  {
   "cell_type": "code",
   "execution_count": 20,
   "id": "96dacb96-a10d-493a-86ce-cf76b89e2202",
   "metadata": {},
   "outputs": [],
   "source": [
    "import archivum.parser as arcp\n",
    "import archivum.library as arcl\n",
    "from archivum.utilities import fGT"
   ]
  },
  {
   "cell_type": "code",
   "execution_count": 33,
   "id": "58e98dc8-521d-4993-b4f7-cfa34a4b9a90",
   "metadata": {},
   "outputs": [
    {
     "name": "stdout",
     "output_type": "stream",
     "text": [
      "12:02:29 | archivum.library.__init__      | INFO     | config_path = C:\\Users\\steve\\AppData\\Local\\archivum\\uber-library.archivum-config\n"
     ]
    }
   ],
   "source": [
    "lib = arcl.Library('uber-library')"
   ]
  },
  {
   "cell_type": "code",
   "execution_count": 1,
   "id": "b9725d98-1682-44ed-9dd8-1f6a56c983ed",
   "metadata": {},
   "outputs": [],
   "source": [
    "querex_test_cases = [\n",
    "    '',\n",
    "    'top 4',\n",
    "    'recent',\n",
    "    'recent top 3',\n",
    "    'verbose recent top 17',\n",
    "    'select *',\n",
    "    'top 10 select *',\n",
    "    'where year == 2024',\n",
    "    'where year == \"2024\"',\n",
    "    'where type == \"book\"',\n",
    "    '! Delbaen',\n",
    "    '! /Wang, R/ and journal ~ Annals',\n",
    "    'recent top 3 author ~ /Wang, R/',\n",
    "    'verbose top 5 recent select journal author ~ /Wang, R/',\n",
    "    'top 5 select journal author ~ /Wang, R/',\n",
    "    'top 6 order author',\n",
    "    'top 7 order journal',\n",
    "    'top 8 select journal where year == 2024 order author',\n",
    "    'verbose top 9 select journal where year == 2024 order -journal, author',\n",
    "    'recent top 10  verbose select *, -c ! /Wang, R/ and journal ~ [A-J]+ where year == 2024 and publisher ==  \"Springer\" and mod > 2024-05',\n",
    "    'top 10 select c, d, -a, e recent ! /Wang, R/ and journal ~ [A-J]+ where year == 2024 and publisher ==  \"Springer\" and mod > 2024 order name, year', \n",
    "    'error',\n",
    "]"
   ]
  },
  {
   "cell_type": "code",
   "execution_count": null,
   "id": "d37bf2ba-b7ba-43ca-b0b8-1cd10cd314c1",
   "metadata": {},
   "outputs": [],
   "source": [
    "import archivum.parser as arcp\n",
    "import archivum.library as arcl\n",
    "from archivum.utilities import fGT\n",
    "lib = arcl.Library('uber-library')"
   ]
  },
  {
   "cell_type": "code",
   "execution_count": 44,
   "id": "47f187c6-b2d4-4b76-ae74-74c956859da6",
   "metadata": {},
   "outputs": [
    {
     "name": "stdout",
     "output_type": "stream",
     "text": [
      "'error'\n",
      "Parsing Error: Unexpected end of input\n",
      "Synt error Parsing Error: Unexpected end of input\n"
     ]
    }
   ],
   "source": [
    "for q in querex_test_cases[-1:]:\n",
    "    print(repr(q))\n",
    "    try:\n",
    "        r = lib.ref_df.querex(q) \n",
    "    except ValueError as e:\n",
    "        print('Synt error', e)\n",
    "    else:\n",
    "        # print(sorted(r.columns))\n",
    "        display(fGT(r.head(10)))"
   ]
  },
  {
   "cell_type": "code",
   "execution_count": 172,
   "id": "692de5d7-5ce5-4b6f-87bc-acd011f9615a",
   "metadata": {},
   "outputs": [
    {
     "name": "stdout",
     "output_type": "stream",
     "text": [
      "time: 0 ns (started: 2025-05-29 23:07:48 +01:00)\n"
     ]
    }
   ],
   "source": [
    "%load_ext autotime"
   ]
  },
  {
   "cell_type": "code",
   "execution_count": null,
   "id": "9c42bf7b-71ad-43df-9577-a4f88794eff8",
   "metadata": {},
   "outputs": [],
   "source": [
    "arck.parse_test('recent top 10  verbose select a, b, -c, d name ~ Wang and xx ~ yy AND journal ~ [A-E]+', 1, 1);"
   ]
  },
  {
   "cell_type": "code",
   "execution_count": null,
   "id": "d1f48dc5-e4da-4dca-87ac-0017ce108288",
   "metadata": {},
   "outputs": [],
   "source": [
    "arck.parse_test('recent top 10  verbose select *, -c ! /Wang, R/ and journal ~ [A-J]+ where year == 2024 and publisher ==  \"Springer\" and mod > 2024-05', 1, 1);"
   ]
  },
  {
   "cell_type": "code",
   "execution_count": null,
   "id": "31d8945e-8464-4d7b-bfa9-e041a525b207",
   "metadata": {},
   "outputs": [],
   "source": [
    "arck.parse_test('top 10 select c, d, -a, e recent ! /Wang, R/ and journal ~ [A-J]+ where year == 2024 and publisher ==  \"Springer\" and mod > 2024 order name, year', 0, 1);"
   ]
  },
  {
   "cell_type": "code",
   "execution_count": 9,
   "id": "6e89995a-da02-4486-ae31-72ea31cb786b",
   "metadata": {},
   "outputs": [
    {
     "name": "stdout",
     "output_type": "stream",
     "text": [
      "\n",
      "====================================================================================================\n",
      "QUERY 12:'\\nselect g, h, i \\nverbose \\nselect k \\norder f recent \\norder name, year, -c, d, -e\\n'\n",
      "====================================================================================================\n",
      "Tokens\n",
      "======\n",
      "  SELECT          'select'\n",
      "  IDENTIFIER      'g'\n",
      "  COMMA           ','\n",
      "  IDENTIFIER      'h'\n",
      "  COMMA           ','\n",
      "  IDENTIFIER      'i'\n",
      "  IDENTIFIER      'verbose'\n",
      "  SELECT          'select'\n",
      "  IDENTIFIER      'k'\n",
      "  IDENTIFIER      'order'\n",
      "  IDENTIFIER      'f'\n",
      "  IDENTIFIER      'recent'\n",
      "  IDENTIFIER      'order'\n",
      "  IDENTIFIER      'name'\n",
      "  COMMA           ','\n",
      "  IDENTIFIER      'year'\n",
      "  COMMA           ','\n",
      "  NOT             '-'\n",
      "  IDENTIFIER      'c'\n",
      "  COMMA           ','\n",
      "  IDENTIFIER      'd'\n",
      "  COMMA           ','\n",
      "  NOT             '-'\n",
      "  IDENTIFIER      'e'\n",
      "\n",
      "Transformed result query spec\n",
      "=============================\n",
      "\n",
      "{'flags': ['verbose', 'recent'],\n",
      " 'regex': [],\n",
      " 'select': {'exclude': [], 'include': ['g', 'h', 'i', 'k']},\n",
      " 'sort': [('f', True),\n",
      "          ('name', True),\n",
      "          ('year', True),\n",
      "          ('c', False),\n",
      "          ('d', True),\n",
      "          ('e', False)],\n",
      " 'top': -1,\n",
      " 'where': None}\n"
     ]
    }
   ],
   "source": [
    "arck.parse_test(12, '''\n",
    "select g, h, i \n",
    "verbose \n",
    "select k \n",
    "order f recent \n",
    "order name, year, -c, d, -e\n",
    "''', 0, 1);"
   ]
  },
  {
   "cell_type": "code",
   "execution_count": 11,
   "id": "ed1282eb-8f26-4edb-b54d-971c9f9d9d77",
   "metadata": {},
   "outputs": [
    {
     "name": "stdout",
     "output_type": "stream",
     "text": [
      "time: 0 ns (started: 2025-05-29 23:51:04 +01:00)\n"
     ]
    }
   ],
   "source": [
    "%load_ext autotime"
   ]
  },
  {
   "cell_type": "code",
   "execution_count": 14,
   "id": "6d8194a3-0478-4cc0-a50b-30544a4cc7c8",
   "metadata": {},
   "outputs": [
    {
     "data": {
      "text/plain": [
       "True"
      ]
     },
     "execution_count": 14,
     "metadata": {},
     "output_type": "execute_result"
    },
    {
     "name": "stdout",
     "output_type": "stream",
     "text": [
      "time: 0 ns (started: 2025-05-29 23:56:11 +01:00)\n"
     ]
    }
   ],
   "source": [
    "isinstance(12, int)"
   ]
  },
  {
   "cell_type": "code",
   "execution_count": 3,
   "id": "3ed861be-a6ae-4ecf-9232-fb4fb1baddae",
   "metadata": {},
   "outputs": [],
   "source": [
    "import archivum.parser as arck  \n",
    "from pprint import pprint as pp"
   ]
  },
  {
   "cell_type": "code",
   "execution_count": 15,
   "id": "8566e73c-8620-4fbb-9da5-6758b5ca32f1",
   "metadata": {},
   "outputs": [
    {
     "name": "stdout",
     "output_type": "stream",
     "text": [
      "********************ERROR********************\n",
      "Error [#21] Parsing Error: Unexpected end-of-input. Expected one of: \n",
      "\t* TILDE\n",
      "\t* TILDE\n",
      "\n",
      "time: 687 ms (started: 2025-05-29 23:56:19 +01:00)\n"
     ]
    }
   ],
   "source": [
    "ans = {}\n",
    "for i, q in enumerate(querex_test_cases):\n",
    "    # print('\\n' + '-' * 80)\n",
    "    # print('query: ' + repr(q))\n",
    "    try:\n",
    "        # r = arck.parse_test(i, q, 0, 0)\n",
    "        r = arck.parser(q, False)\n",
    "    except Exception as e:\n",
    "        print('*' * 20 + 'ERROR' + '*' * 20)\n",
    "        print(f'Error [#{i}] {e}')\n",
    "        ans[i] = (q, 'ERROR')\n",
    "    else:\n",
    "        ans[i] = (q, r)\n",
    "        pass\n",
    "        # duplicates output \n",
    "        # print(r)"
   ]
  },
  {
   "cell_type": "code",
   "execution_count": 212,
   "id": "250595e8-7ec1-4de1-8743-9d5c8c6377ab",
   "metadata": {},
   "outputs": [
    {
     "data": {
      "text/plain": [
       "{0: ('',\n",
       "  {'select': {'include': [], 'exclude': []},\n",
       "   'sort': [],\n",
       "   'regex': [],\n",
       "   'where': None,\n",
       "   'top': -1,\n",
       "   'flags': []}),\n",
       " 1: ('top 4',\n",
       "  {'select': {'include': [], 'exclude': []},\n",
       "   'sort': [],\n",
       "   'regex': [],\n",
       "   'where': None,\n",
       "   'top': 4,\n",
       "   'flags': []}),\n",
       " 2: ('recent',\n",
       "  {'select': {'include': [], 'exclude': []},\n",
       "   'sort': [],\n",
       "   'regex': [],\n",
       "   'where': None,\n",
       "   'top': -1,\n",
       "   'flags': ['recent']}),\n",
       " 3: ('recent top 3',\n",
       "  {'select': {'include': [], 'exclude': []},\n",
       "   'sort': [],\n",
       "   'regex': [],\n",
       "   'where': None,\n",
       "   'top': 3,\n",
       "   'flags': ['recent']}),\n",
       " 4: ('verbose recent top 17',\n",
       "  {'select': {'include': [], 'exclude': []},\n",
       "   'sort': [],\n",
       "   'regex': [],\n",
       "   'where': None,\n",
       "   'top': 17,\n",
       "   'flags': ['verbose', 'recent']}),\n",
       " 5: ('select *',\n",
       "  {'select': {'include': ['*'], 'exclude': []},\n",
       "   'sort': [],\n",
       "   'regex': [],\n",
       "   'where': None,\n",
       "   'top': -1,\n",
       "   'flags': []}),\n",
       " 6: ('top 10 select *',\n",
       "  {'select': {'include': ['*'], 'exclude': []},\n",
       "   'sort': [],\n",
       "   'regex': [],\n",
       "   'where': None,\n",
       "   'top': 10,\n",
       "   'flags': []}),\n",
       " 7: ('where year == 2024',\n",
       "  {'select': {'include': [], 'exclude': []},\n",
       "   'sort': [],\n",
       "   'regex': [],\n",
       "   'where': 'year == \"2024\"',\n",
       "   'top': -1,\n",
       "   'flags': []}),\n",
       " 8: ('where year == \"2024\"',\n",
       "  {'select': {'include': [], 'exclude': []},\n",
       "   'sort': [],\n",
       "   'regex': [],\n",
       "   'where': 'year == \"2024\"',\n",
       "   'top': -1,\n",
       "   'flags': []}),\n",
       " 9: ('where type == \"book\"',\n",
       "  {'select': {'include': [], 'exclude': []},\n",
       "   'sort': [],\n",
       "   'regex': [],\n",
       "   'where': 'type == \"book\"',\n",
       "   'top': -1,\n",
       "   'flags': []}),\n",
       " 10: ('! Delbaen',\n",
       "  {'select': {'include': [], 'exclude': []},\n",
       "   'sort': [],\n",
       "   'regex': [('BANG', 'Delbaen')],\n",
       "   'where': None,\n",
       "   'top': -1,\n",
       "   'flags': []}),\n",
       " 11: ('! /Wang, R/ and journal ~ Annals',\n",
       "  {'select': {'include': [], 'exclude': []},\n",
       "   'sort': [],\n",
       "   'regex': [('BANG', 'Wang, R'), ('journal', 'Annals')],\n",
       "   'where': None,\n",
       "   'top': -1,\n",
       "   'flags': []}),\n",
       " 12: ('recent top 3 author ~ /Wang, R/',\n",
       "  {'select': {'include': [], 'exclude': []},\n",
       "   'sort': [],\n",
       "   'regex': [('author', 'Wang, R')],\n",
       "   'where': None,\n",
       "   'top': 3,\n",
       "   'flags': ['recent']}),\n",
       " 13: ('verbose top 5 recent select journal author ~ /Wang, R/',\n",
       "  {'select': {'include': ['journal'], 'exclude': []},\n",
       "   'sort': [],\n",
       "   'regex': [('author', 'Wang, R')],\n",
       "   'where': None,\n",
       "   'top': 5,\n",
       "   'flags': ['verbose', 'recent']}),\n",
       " 14: ('top 5 select journal author ~ /Wang, R/',\n",
       "  {'select': {'include': ['journal'], 'exclude': []},\n",
       "   'sort': [],\n",
       "   'regex': [('author', 'Wang, R')],\n",
       "   'where': None,\n",
       "   'top': 5,\n",
       "   'flags': []}),\n",
       " 15: ('top 6 order author',\n",
       "  {'select': {'include': [], 'exclude': []},\n",
       "   'sort': [('author', True)],\n",
       "   'regex': [],\n",
       "   'where': None,\n",
       "   'top': 6,\n",
       "   'flags': []}),\n",
       " 16: ('top 7 order journal',\n",
       "  {'select': {'include': [], 'exclude': []},\n",
       "   'sort': [('journal', True)],\n",
       "   'regex': [],\n",
       "   'where': None,\n",
       "   'top': 7,\n",
       "   'flags': []}),\n",
       " 17: ('top 8 select journal where year == 2024 order author',\n",
       "  {'select': {'include': ['journal'], 'exclude': []},\n",
       "   'sort': [('author', True)],\n",
       "   'regex': [],\n",
       "   'where': 'year == \"2024\"',\n",
       "   'top': 8,\n",
       "   'flags': []}),\n",
       " 18: ('verbose top 9 select journal where year == 2024 order -journal, author',\n",
       "  {'select': {'include': ['journal'], 'exclude': []},\n",
       "   'sort': [('journal', False), ('author', True)],\n",
       "   'regex': [],\n",
       "   'where': 'year == \"2024\"',\n",
       "   'top': 9,\n",
       "   'flags': ['verbose']}),\n",
       " 19: ('error', 'ERROR')}"
      ]
     },
     "execution_count": 212,
     "metadata": {},
     "output_type": "execute_result"
    },
    {
     "name": "stdout",
     "output_type": "stream",
     "text": [
      "time: 16 ms (started: 2025-05-29 23:27:51 +01:00)\n"
     ]
    }
   ],
   "source": [
    "ans"
   ]
  },
  {
   "cell_type": "code",
   "execution_count": 53,
   "id": "5372a9e6-7a49-44c3-bd06-5b4a0b6152f3",
   "metadata": {},
   "outputs": [
    {
     "data": {
      "text/plain": [
       "{'top': 4}"
      ]
     },
     "execution_count": 53,
     "metadata": {},
     "output_type": "execute_result"
    }
   ],
   "source": [
    "r"
   ]
  },
  {
   "cell_type": "code",
   "execution_count": 57,
   "id": "bb2f5ef0-f07e-482f-b63e-a7cb9934d10e",
   "metadata": {},
   "outputs": [
    {
     "name": "stdout",
     "output_type": "stream",
     "text": [
      "''\n",
      "{'flags': {}, 'regexes': [], 'select': {}, 'sort': [], 'top': -1, 'where': None}\n",
      "None\n",
      "'top 4'\n",
      "{'flags': {}, 'regexes': [], 'select': {}, 'sort': [], 'top': 4, 'where': None}\n",
      "None\n",
      "'recent'\n",
      "{'flags': {'recent': True},\n",
      " 'regexes': [],\n",
      " 'select': {},\n",
      " 'sort': [],\n",
      " 'top': -1,\n",
      " 'where': None}\n",
      "None\n",
      "'recent top 3'\n",
      "{'flags': {'recent': True},\n",
      " 'regexes': [],\n",
      " 'select': {},\n",
      " 'sort': [],\n",
      " 'top': 3,\n",
      " 'where': None}\n",
      "None\n",
      "'verbose recent top 17'\n",
      "{'flags': {'recent': True, 'verbose': True},\n",
      " 'regexes': [],\n",
      " 'select': {},\n",
      " 'sort': [],\n",
      " 'top': 17,\n",
      " 'where': None}\n",
      "None\n",
      "'select *'\n",
      "{'flags': {},\n",
      " 'regexes': [],\n",
      " 'select': {'exclude': [], 'include': ['*']},\n",
      " 'sort': [],\n",
      " 'top': -1,\n",
      " 'where': None}\n",
      "None\n",
      "'top 10 select *'\n",
      "{'flags': {},\n",
      " 'regexes': [],\n",
      " 'select': {'exclude': [], 'include': ['*']},\n",
      " 'sort': [],\n",
      " 'top': 10,\n",
      " 'where': None}\n",
      "None\n",
      "'where year == 2024'\n",
      "{'flags': {},\n",
      " 'regexes': [],\n",
      " 'select': {},\n",
      " 'sort': [],\n",
      " 'top': -1,\n",
      " 'where': 'year == 2024'}\n",
      "None\n",
      "'where year == \"2024\"'\n",
      "{'flags': {},\n",
      " 'regexes': [],\n",
      " 'select': {},\n",
      " 'sort': [],\n",
      " 'top': -1,\n",
      " 'where': 'year == \"2024\"'}\n",
      "None\n",
      "'where type == \"book\"'\n",
      "{'flags': {},\n",
      " 'regexes': [],\n",
      " 'select': {},\n",
      " 'sort': [],\n",
      " 'top': -1,\n",
      " 'where': 'type == \"book\"'}\n",
      "None\n",
      "'! Delbaen'\n",
      "{'flags': {},\n",
      " 'regexes': [('BANG', 'Delbaen')],\n",
      " 'select': {},\n",
      " 'sort': [],\n",
      " 'top': -1,\n",
      " 'where': None}\n",
      "None\n",
      "'! /Wang, R/'\n",
      "{'flags': {},\n",
      " 'regexes': [('BANG', 'Wang, R')],\n",
      " 'select': {},\n",
      " 'sort': [],\n",
      " 'top': -1,\n",
      " 'where': None}\n",
      "None\n",
      "'! /Wang, R'\n",
      "{'flags': {},\n",
      " 'regexes': [('BANG', 'Wang, R')],\n",
      " 'select': {},\n",
      " 'sort': [],\n",
      " 'top': -1,\n",
      " 'where': None}\n",
      "None\n",
      "'recent top 3 author ~ /Wang, R/'\n",
      "{'flags': {'recent': True},\n",
      " 'regexes': [('author', 'Wang, R')],\n",
      " 'select': {},\n",
      " 'sort': [],\n",
      " 'top': 3,\n",
      " 'where': None}\n",
      "None\n",
      "'verbose top 5 recent select journal author ~ /Wang, R/'\n",
      "{'flags': {'recent': True},\n",
      " 'regexes': [('author', 'Wang, R')],\n",
      " 'select': {'exclude': [], 'include': ['journal']},\n",
      " 'sort': [],\n",
      " 'top': 5,\n",
      " 'where': None}\n",
      "None\n",
      "'top 6 order author'\n",
      "{'flags': {},\n",
      " 'regexes': [],\n",
      " 'select': {},\n",
      " 'sort': [('author', True)],\n",
      " 'top': 6,\n",
      " 'where': None}\n",
      "None\n",
      "'top 7 order journal'\n",
      "{'flags': {},\n",
      " 'regexes': [],\n",
      " 'select': {},\n",
      " 'sort': [('journal', True)],\n",
      " 'top': 7,\n",
      " 'where': None}\n",
      "None\n",
      "'verbose top 8 select journal where year == 2024 order author'\n",
      "{'flags': {'verbose': True},\n",
      " 'regexes': [],\n",
      " 'select': {'exclude': [], 'include': ['journal']},\n",
      " 'sort': [('author', True)],\n",
      " 'top': 8,\n",
      " 'where': 'year == 2024'}\n",
      "None\n",
      "'verbose top 9 select journal where year == 2024 order -journal, author'\n",
      "{'flags': {'verbose': True},\n",
      " 'regexes': [],\n",
      " 'select': {'exclude': [], 'include': ['journal']},\n",
      " 'sort': [('journal', False), ('author', True)],\n",
      " 'top': 9,\n",
      " 'where': 'year == 2024'}\n",
      "None\n",
      "'error'\n"
     ]
    },
    {
     "ename": "ValueError",
     "evalue": "Parsing Error: Unexpected end of input",
     "output_type": "error",
     "traceback": [
      "\u001b[1;31m---------------------------------------------------------------------------\u001b[0m",
      "\u001b[1;31mSyntaxError\u001b[0m                               Traceback (most recent call last)",
      "File \u001b[1;32m~\\Documents\\CloudStation\\TELOS\\Python\\archivum_project\\archivum\\parser.py:23\u001b[0m, in \u001b[0;36mparse_test\u001b[1;34m(text, debug, show_tokens)\u001b[0m\n\u001b[0;32m     22\u001b[0m     \u001b[38;5;28mprint\u001b[39m(\u001b[38;5;124m'\u001b[39m\u001b[38;5;124m-\u001b[39m\u001b[38;5;124m'\u001b[39m \u001b[38;5;241m*\u001b[39m \u001b[38;5;241m80\u001b[39m)\n\u001b[1;32m---> 23\u001b[0m result \u001b[38;5;241m=\u001b[39m \u001b[43mparser\u001b[49m\u001b[38;5;241;43m.\u001b[39;49m\u001b[43mparse\u001b[49m\u001b[43m(\u001b[49m\u001b[38;5;28;43miter\u001b[39;49m\u001b[43m(\u001b[49m\u001b[43mtokens\u001b[49m\u001b[43m)\u001b[49m\u001b[43m)\u001b[49m\n\u001b[0;32m     24\u001b[0m \u001b[38;5;28;01mif\u001b[39;00m debug:\n",
      "File \u001b[1;32m~\\Documents\\CloudStation\\TELOS\\Python\\aggregate_project\\aggregate\\sly\\yacc.py:2190\u001b[0m, in \u001b[0;36mParser.parse\u001b[1;34m(self, tokens)\u001b[0m\n\u001b[0;32m   2188\u001b[0m     errtoken \u001b[38;5;241m=\u001b[39m lookahead\n\u001b[1;32m-> 2190\u001b[0m tok \u001b[38;5;241m=\u001b[39m \u001b[38;5;28;43mself\u001b[39;49m\u001b[38;5;241;43m.\u001b[39;49m\u001b[43merror\u001b[49m\u001b[43m(\u001b[49m\u001b[43merrtoken\u001b[49m\u001b[43m)\u001b[49m\n\u001b[0;32m   2191\u001b[0m \u001b[38;5;28;01mif\u001b[39;00m tok:\n\u001b[0;32m   2192\u001b[0m     \u001b[38;5;66;03m# User must have done some kind of panic\u001b[39;00m\n\u001b[0;32m   2193\u001b[0m     \u001b[38;5;66;03m# mode recovery on their own.  The\u001b[39;00m\n\u001b[0;32m   2194\u001b[0m     \u001b[38;5;66;03m# returned token is the next lookahead\u001b[39;00m\n",
      "File \u001b[1;32m~\\Documents\\CloudStation\\TELOS\\Python\\archivum_project\\archivum\\parser.py:396\u001b[0m, in \u001b[0;36mArcParser.error\u001b[1;34m(self, p)\u001b[0m\n\u001b[0;32m    395\u001b[0m \u001b[38;5;28;01melse\u001b[39;00m:\n\u001b[1;32m--> 396\u001b[0m     \u001b[38;5;28;01mraise\u001b[39;00m \u001b[38;5;167;01mSyntaxError\u001b[39;00m(\u001b[38;5;124m\"\u001b[39m\u001b[38;5;124mUnexpected end of input\u001b[39m\u001b[38;5;124m\"\u001b[39m)\n",
      "\u001b[1;31mSyntaxError\u001b[0m: Unexpected end of input",
      "\nDuring handling of the above exception, another exception occurred:\n",
      "\u001b[1;31mValueError\u001b[0m                                Traceback (most recent call last)",
      "Cell \u001b[1;32mIn[57], line 3\u001b[0m\n\u001b[0;32m      1\u001b[0m \u001b[38;5;28;01mfor\u001b[39;00m q \u001b[38;5;129;01min\u001b[39;00m querex_test_cases:\n\u001b[0;32m      2\u001b[0m     \u001b[38;5;28mprint\u001b[39m(\u001b[38;5;28mrepr\u001b[39m(q))\n\u001b[1;32m----> 3\u001b[0m     r \u001b[38;5;241m=\u001b[39m \u001b[43marcp\u001b[49m\u001b[38;5;241;43m.\u001b[39;49m\u001b[43mparse_test\u001b[49m\u001b[43m(\u001b[49m\u001b[43mq\u001b[49m\u001b[43m,\u001b[49m\u001b[43m \u001b[49m\u001b[38;5;241;43m0\u001b[39;49m\u001b[43m,\u001b[49m\u001b[43m \u001b[49m\u001b[38;5;241;43m0\u001b[39;49m\u001b[43m)\u001b[49m\n\u001b[0;32m      4\u001b[0m     pp(r)\n",
      "File \u001b[1;32m~\\Documents\\CloudStation\\TELOS\\Python\\archivum_project\\archivum\\parser.py:30\u001b[0m, in \u001b[0;36mparse_test\u001b[1;34m(text, debug, show_tokens)\u001b[0m\n\u001b[0;32m     28\u001b[0m     pprint(result)\n\u001b[0;32m     29\u001b[0m \u001b[38;5;28;01mexcept\u001b[39;00m \u001b[38;5;167;01mException\u001b[39;00m \u001b[38;5;28;01mas\u001b[39;00m e:\n\u001b[1;32m---> 30\u001b[0m     \u001b[38;5;28;01mraise\u001b[39;00m \u001b[38;5;167;01mValueError\u001b[39;00m(\u001b[38;5;124mf\u001b[39m\u001b[38;5;124m'\u001b[39m\u001b[38;5;124mParsing Error: \u001b[39m\u001b[38;5;132;01m{\u001b[39;00me\u001b[38;5;132;01m}\u001b[39;00m\u001b[38;5;124m'\u001b[39m)\n",
      "\u001b[1;31mValueError\u001b[0m: Parsing Error: Unexpected end of input"
     ]
    }
   ],
   "source": [
    "for q in querex_test_cases:\n",
    "    print(repr(q))\n",
    "    r = arcp.parse_test(q, 0, 0)\n",
    "    pp(r)"
   ]
  },
  {
   "cell_type": "code",
   "execution_count": null,
   "id": "a884ca70-8cdc-4ffe-a8ce-d1280b7a8b9e",
   "metadata": {},
   "outputs": [],
   "source": []
  }
 ],
 "metadata": {
  "kernelspec": {
   "display_name": "Python 3 (ipykernel)",
   "language": "python",
   "name": "python3"
  },
  "language_info": {
   "codemirror_mode": {
    "name": "ipython",
    "version": 3
   },
   "file_extension": ".py",
   "mimetype": "text/x-python",
   "name": "python",
   "nbconvert_exporter": "python",
   "pygments_lexer": "ipython3",
   "version": "3.10.13"
  }
 },
 "nbformat": 4,
 "nbformat_minor": 5
}
