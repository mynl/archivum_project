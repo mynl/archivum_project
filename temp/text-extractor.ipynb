{
 "cells": [
  {
   "cell_type": "markdown",
   "id": "d8e27447-065d-4d32-b267-d54ba92b32fb",
   "metadata": {},
   "source": [
    "# Text Extractor from PDF Files\n",
    "## Provenance\n",
    "* Created new 2025-05-17 at Bignor!"
   ]
  },
  {
   "cell_type": "code",
   "execution_count": 49,
   "id": "290bb032-5acb-4793-9901-c9f5cf88078f",
   "metadata": {},
   "outputs": [
    {
     "name": "stdout",
     "output_type": "stream",
     "text": [
      "time: 0 ns (started: 2025-05-17 22:06:25 +01:00)\n"
     ]
    }
   ],
   "source": [
    "from pathlib import Path \n",
    "import pandas as pd\n",
    "import re\n",
    "import scratch as sc\n",
    "import great2_bibtex as scbt\n",
    "from functools import partial\n",
    "from greater_tables import GT\n",
    "fGT = partial(GT, large_ok=True)\n",
    "\n",
    "import fitz  # PyMuPDF\n",
    "from random import sample\n",
    "\n",
    "%load_ext autotime"
   ]
  },
  {
   "cell_type": "code",
   "execution_count": 20,
   "id": "a0578558-13c7-400c-9ae3-45ed1200577c",
   "metadata": {},
   "outputs": [
    {
     "name": "stdout",
     "output_type": "stream",
     "text": [
      "time: 282 ms (started: 2025-05-17 18:09:23 +01:00)\n"
     ]
    }
   ],
   "source": [
    "p = Path('library.bib')\n",
    "b = sc.Bib2df(p)"
   ]
  },
  {
   "cell_type": "code",
   "execution_count": 24,
   "id": "4dac1bdb-586a-4659-9a21-a7e4b93e29c0",
   "metadata": {},
   "outputs": [
    {
     "name": "stdout",
     "output_type": "stream",
     "text": [
      "time: 0 ns (started: 2025-05-17 18:09:50 +01:00)\n"
     ]
    }
   ],
   "source": [
    "files = b.file_field_df"
   ]
  },
  {
   "cell_type": "code",
   "execution_count": 31,
   "id": "cf8bf854-b593-4690-9d58-08a037059d9a",
   "metadata": {},
   "outputs": [
    {
     "data": {
      "text/html": [
       "<div>\n",
       "<style scoped>\n",
       "    .dataframe tbody tr th:only-of-type {\n",
       "        vertical-align: middle;\n",
       "    }\n",
       "\n",
       "    .dataframe tbody tr th {\n",
       "        vertical-align: top;\n",
       "    }\n",
       "\n",
       "    .dataframe thead th {\n",
       "        text-align: right;\n",
       "    }\n",
       "</style>\n",
       "<table border=\"1\" class=\"dataframe\">\n",
       "  <thead>\n",
       "    <tr style=\"text-align: right;\">\n",
       "      <th></th>\n",
       "      <th>type</th>\n",
       "      <th>tag</th>\n",
       "      <th>author</th>\n",
       "      <th>doi</th>\n",
       "      <th>file</th>\n",
       "      <th>issn</th>\n",
       "      <th>journal</th>\n",
       "      <th>keywords</th>\n",
       "      <th>pages</th>\n",
       "      <th>title</th>\n",
       "      <th>...</th>\n",
       "      <th>edition</th>\n",
       "      <th>month</th>\n",
       "      <th>address</th>\n",
       "      <th>editor</th>\n",
       "      <th>series</th>\n",
       "      <th>chapter</th>\n",
       "      <th>annote</th>\n",
       "      <th>school</th>\n",
       "      <th>organization</th>\n",
       "      <th>howpublished</th>\n",
       "    </tr>\n",
       "  </thead>\n",
       "  <tbody>\n",
       "    <tr>\n",
       "      <th>0</th>\n",
       "      <td>article</td>\n",
       "      <td>Schmidt2003</td>\n",
       "      <td>Schmidt, Anatoly B.</td>\n",
       "      <td>10.1016/S0378-4371(02)01551-0</td>\n",
       "      <td>:C\\:/S/Library/Schmidt/2003_The true invariant...</td>\n",
       "      <td>03784371</td>\n",
       "      <td>Physica A: Statistical Mechanics and its Appli...</td>\n",
       "      <td>Arbitrage free portfolio,Option pricing</td>\n",
       "      <td>535--538</td>\n",
       "      <td>{The true invariant of an arbitrage free portf...</td>\n",
       "      <td>...</td>\n",
       "      <td></td>\n",
       "      <td></td>\n",
       "      <td></td>\n",
       "      <td></td>\n",
       "      <td></td>\n",
       "      <td></td>\n",
       "      <td></td>\n",
       "      <td></td>\n",
       "      <td></td>\n",
       "      <td></td>\n",
       "    </tr>\n",
       "    <tr>\n",
       "      <th>1</th>\n",
       "      <td>book</td>\n",
       "      <td>Bahnemann2015</td>\n",
       "      <td>Bahnemann, David</td>\n",
       "      <td></td>\n",
       "      <td>:C\\:/S/Library/Bahnemann/2015_Distributions fo...</td>\n",
       "      <td></td>\n",
       "      <td></td>\n",
       "      <td></td>\n",
       "      <td></td>\n",
       "      <td>{Distributions for Actuaries}</td>\n",
       "      <td>...</td>\n",
       "      <td></td>\n",
       "      <td></td>\n",
       "      <td></td>\n",
       "      <td></td>\n",
       "      <td></td>\n",
       "      <td></td>\n",
       "      <td></td>\n",
       "      <td></td>\n",
       "      <td></td>\n",
       "      <td></td>\n",
       "    </tr>\n",
       "  </tbody>\n",
       "</table>\n",
       "<p>2 rows × 29 columns</p>\n",
       "</div>"
      ],
      "text/plain": [
       "      type            tag               author                            doi  \\\n",
       "0  article    Schmidt2003  Schmidt, Anatoly B.  10.1016/S0378-4371(02)01551-0   \n",
       "1     book  Bahnemann2015     Bahnemann, David                                  \n",
       "\n",
       "                                                file      issn  \\\n",
       "0  :C\\:/S/Library/Schmidt/2003_The true invariant...  03784371   \n",
       "1  :C\\:/S/Library/Bahnemann/2015_Distributions fo...             \n",
       "\n",
       "                                             journal  \\\n",
       "0  Physica A: Statistical Mechanics and its Appli...   \n",
       "1                                                      \n",
       "\n",
       "                                  keywords     pages  \\\n",
       "0  Arbitrage free portfolio,Option pricing  535--538   \n",
       "1                                                      \n",
       "\n",
       "                                               title  ... edition month  \\\n",
       "0  {The true invariant of an arbitrage free portf...  ...                 \n",
       "1                      {Distributions for Actuaries}  ...                 \n",
       "\n",
       "  address editor series chapter annote school organization howpublished  \n",
       "0                                                                        \n",
       "1                                                                        \n",
       "\n",
       "[2 rows x 29 columns]"
      ]
     },
     "execution_count": 31,
     "metadata": {},
     "output_type": "execute_result"
    },
    {
     "name": "stdout",
     "output_type": "stream",
     "text": [
      "time: 16 ms (started: 2025-05-17 18:11:41 +01:00)\n"
     ]
    }
   ],
   "source": [
    "b.df.head(2)"
   ]
  },
  {
   "cell_type": "code",
   "execution_count": null,
   "id": "795c64cf-4a44-440f-934d-bcc6d209340e",
   "metadata": {},
   "outputs": [],
   "source": [
    "j = 0\n",
    "good = []\n",
    "bad = []\n",
    "verybad = []\n",
    "for i, r in b.df.iloc[3860:].iterrows():\n",
    "    fs = files.query('i == @i')\n",
    "    for f in fs.file:\n",
    "        pin = Path(f)\n",
    "        try:\n",
    "            if pin.exists():\n",
    "                good.append(pin)\n",
    "                txt = extract_text_fitz(str(pin))\n",
    "                pout = Path('\\\\tmp') / f'{r.tag}-{i}-{j}.txt'\n",
    "                j += 1\n",
    "                pout.write_text(txt, encoding='utf-8')\n",
    "                print(f'{i: 4d} {r.tag:<20s}  {len(txt):8d}  {pout.name:30s}\\t{f}')\n",
    "            else:\n",
    "                bad.append(str(pin))\n",
    "        except Exception as e:\n",
    "            print(e)\n",
    "            verybad.append(str(pin))"
   ]
  },
  {
   "cell_type": "code",
   "execution_count": 43,
   "id": "f9fd6da4-f977-4c54-9bff-de1ad44288db",
   "metadata": {},
   "outputs": [
    {
     "data": {
      "text/plain": [
       "(5599, 479, 4, 6078)"
      ]
     },
     "execution_count": 43,
     "metadata": {},
     "output_type": "execute_result"
    },
    {
     "name": "stdout",
     "output_type": "stream",
     "text": [
      "time: 0 ns (started: 2025-05-17 21:26:42 +01:00)\n"
     ]
    }
   ],
   "source": [
    "len(good), len(bad), len(verybad), len(files)"
   ]
  },
  {
   "cell_type": "code",
   "execution_count": 40,
   "id": "27dae9c7-6b98-423e-af0c-5adf73ee18af",
   "metadata": {},
   "outputs": [
    {
     "name": "stdout",
     "output_type": "stream",
     "text": [
      "   2 Khoshnevisan2011        150803  Khoshnevisan2011-2-3.txt      \t/S/Library/Khoshnevisan/2011_Topics in Probability Levy Processes.pdf\n",
      "time: 0 ns (started: 2025-05-17 18:21:07 +01:00)\n"
     ]
    }
   ],
   "source": [
    "print(f'{i: 4d} {r.tag:<20s}  {len(txt):8d}  {pout.name:30s}\\t{f}')"
   ]
  },
  {
   "cell_type": "code",
   "execution_count": 50,
   "id": "cd6aeb4f-ab9b-40ee-a8f6-c70223fd1bc9",
   "metadata": {},
   "outputs": [
    {
     "name": "stdout",
     "output_type": "stream",
     "text": [
      "time: 0 ns (started: 2025-05-17 22:06:41 +01:00)\n"
     ]
    }
   ],
   "source": [
    "def extract_text_fitz(pdf_path: Path) -> str:\n",
    "    with fitz.open(pdf_path) as doc:\n",
    "        return \"\\n\".join(page.get_text() for page in doc)"
   ]
  },
  {
   "cell_type": "code",
   "execution_count": 16,
   "id": "9e8961df-020f-4773-a39c-6a039913c7fb",
   "metadata": {},
   "outputs": [
    {
     "name": "stdout",
     "output_type": "stream",
     "text": [
      "time: 32 ms (started: 2025-05-17 17:23:51 +01:00)\n"
     ]
    }
   ],
   "source": [
    "d = fitz.open(bit[1])"
   ]
  },
  {
   "cell_type": "code",
   "execution_count": 54,
   "id": "9512a5fa-ba65-4e33-b53e-92a0b01ffd2d",
   "metadata": {},
   "outputs": [
    {
     "data": {
      "text/plain": [
       "312"
      ]
     },
     "execution_count": 54,
     "metadata": {},
     "output_type": "execute_result"
    },
    {
     "name": "stdout",
     "output_type": "stream",
     "text": [
      "time: 15 ms (started: 2025-05-17 22:08:14 +01:00)\n"
     ]
    }
   ],
   "source": [
    "books = list(Path('\\\\s\\\\books').rglob('*.pdf'))\n",
    "len(books)"
   ]
  },
  {
   "cell_type": "code",
   "execution_count": 53,
   "id": "02b7f968-b0f4-46d1-987e-96fe5a3e515d",
   "metadata": {},
   "outputs": [
    {
     "data": {
      "text/plain": [
       "[WindowsPath('/s/books/(Cambridge Mathematical Library) A. Zygmund - Trigonometric Series, Volume I & II Combined-Cambridge University Press (2002).pdf'),\n",
       " WindowsPath('/s/books/(Cambridge Mathematical Library) Yitzhak Katznelson - An Introduction To Harmonic Analysis-Cambridge University Press (2004).pdf'),\n",
       " WindowsPath('/s/books/(Chapman & Hall_CRC Probability Series) J. Hoffmann-Jorgensen - Probability With a View Towards Statistics, Volume II-Chapman and Hall_CRC (1994).pdf')]"
      ]
     },
     "execution_count": 53,
     "metadata": {},
     "output_type": "execute_result"
    },
    {
     "name": "stdout",
     "output_type": "stream",
     "text": [
      "time: 0 ns (started: 2025-05-17 22:07:42 +01:00)\n"
     ]
    }
   ],
   "source": [
    "b[:3]"
   ]
  },
  {
   "cell_type": "code",
   "execution_count": 58,
   "id": "2e9651d9-25cd-45c2-81a4-77f8250dcf7b",
   "metadata": {},
   "outputs": [
    {
     "name": "stdout",
     "output_type": "stream",
     "text": [
      "1784830 \\s\\books\\(Cambridge Mathematical Library) A. Zygmund - Trigonometric Series, Volume I & II Combined-Cambridge University Press (2002).pdf\n",
      "491772 \\s\\books\\(Cambridge Mathematical Library) Yitzhak Katznelson - An Introduction To Harmonic Analysis-Cambridge University Press (2004).pdf\n",
      "1045671 \\s\\books\\(Chapman & Hall_CRC Probability Series) J. Hoffmann-Jorgensen - Probability With a View Towards Statistics, Volume II-Chapman and Hall_CRC (1994).pdf\n",
      "277553 \\s\\books\\(EAA Series) Mario V. Wüthrich (auth.) - Market-Consistent Actuarial Valuation-Springer International Publishing (2016) Wuthrich.pdf\n",
      "392705 \\s\\books\\(Graduate Texts in Mathematics 116) John L. Kelley, T. P. Srinivasan (auth.) - Measure and Integral_ Volume 1-Springer-Verlag New York (1988).pdf\n",
      "876396 \\s\\books\\(Graduate Texts in Mathematics 249) Loukas Grafakos (auth.) - Classical Fourier analysis-Springer New York (2009).pdf\n",
      "926978 \\s\\books\\(Graduate Texts in Mathematics 250) Loukas Grafakos (auth.) - Modern Fourier analysis-Springer New York (2009).pdf\n",
      "1796552 \\s\\books\\(Grundlehren der mathematischen Wissenschaften) Cédric Villani - Optimal transport, old and new-Springer (2009).pdf\n",
      "379027 \\s\\books\\(Lecture Notes in Mathematics 1876) Horst Herrlich (auth.) - Axiom of Choice-Springer-Verlag Berlin Heidelberg (2006).pdf\n",
      "481003 \\s\\books\\(Princeton lectures in analysis 1) Elias M. Stein, Rami Shakarchi - Fourier analysis_ an introduction-Princeton University Press (2003).pdf\n",
      "1294387 \\s\\books\\(Springer Monographs in Mathematics) Akihiro Kanamori (auth.) - The higher infinite_ Large cardinals in set theory from their beginnings-Springer-Verlag.pdf\n",
      "2123793 \\s\\books\\(Springer Praxis Books _ Astronomy and Planetary Sciences) David L. Meier - Black Hole Astrophysics_ The Engine Paradigm-Springer (2012).pdf\n",
      "686915 \\s\\books\\(Springer Series in Operations Research and Financial Engineering) John P. Nolan - Univariate Stable Distributions_ Models for Heavy Tailed Data-Springer (2020).pdf\n",
      "841288 \\s\\books\\(Universitext) Thomas Mikosch (auth.) - Non-life insurance mathematics_ An introduction with the Poisson process-Springer-Verlag Berlin Heidelberg (2009).pdf\n",
      "307880 \\s\\books\\(Veröffentlichungen des Instituts für Versicherungswissenschaft der Universität Mannheim, Bd. 28.) by Bjørn Sundt. - An introduction to non-life insurance mathematics-VVW (1993.).pdf\n",
      "667423 \\s\\books\\1980_Set Theory An Introduction to Independence Proofs by Kunen.pdf\n",
      "987253 \\s\\books\\2003_Infinite Divisibility of Probability Distributions on the Real Line.pdf\n",
      "215150 \\s\\books\\30-Second Genetics The 50 Most Revolutionary Discoveries in Genetics, Each Explained in Half a Minute (Jonathan Weitzman, Matthew Weitzman  (eds.)) (Z-Library).pdf\n",
      "428826 \\s\\books\\A Book of Set Theory by Charles C Pinter (z-lib.org).pdf\n",
      "716006 \\s\\books\\A course in p-adic analysis (Alaim M. Robert).pdf\n",
      "2868213 \\s\\books\\A Dictionary of Modern English Usage, 2e by Fowler H.W., Gowers Ernest. (z-lib.org).pdf\n",
      "536419 \\s\\books\\A Primer of Real Functions by Jr, Ralph Philip Boas (z-lib.org).pdf\n",
      "767000 \\s\\books\\A Tour Through Mathematical Logic by Robert S. Wolf (z-lib.org).pdf\n",
      "933595 \\s\\books\\A User’s Guide to Measure Theoretic Probability (David Pollard) (z-lib.org).pdf\n",
      "743658 \\s\\books\\Academic Writing for Graduate Students Essential Tasks and Skills (John M. Swales, Christine B. Feak) (Z-Library).pdf\n",
      "555695 \\s\\books\\Acts of God and Man by Michael R. Powers (z-lib.org).epub.pdf\n",
      "524080 \\s\\books\\Adams fallacy a guide to economic theology (Smith, AdamFoley, Duncan K) (Z-Library).pdf\n",
      "318638 \\s\\books\\Advances in mathematical economics by Shigeo Kusuoka, Akira Yamazaki (z-lib.org).pdf\n",
      "225668 \\s\\books\\Advances in Mathematical Economics, Volume 9 (Advances in Mathematical Economics) by S. Kusuoka, A. Yamazaki (z-lib.org).pdf\n",
      "724338 \\s\\books\\Advances on Theoretical and Methodological Aspects of Probability and Statistics (Balakrishnan, N) (Z-Library).pdf\n",
      "922164 \\s\\books\\Aggregation Functions (Grabisch M., Marichal J.... (Z-Library).pdf\n",
      "1630065 \\s\\books\\Algebraic Geometry I Schemes With Examples and Exercises by Ulrich Görtz, Torsten Wedhorn (auth.) (z-lib.org).pdf\n",
      "1415032 \\s\\books\\An Incomplete Education 3,684 Things You Should Have Learned but Probably Didn’t by Judy Jones, William Wilson (z-lib.org).pdf\n",
      "519345 \\s\\books\\An Introduction to Copulas (Springer Series in Statistics) (Roger B. Nelsen) (Z-Library).pdf\n",
      "461949 \\s\\books\\An Introduction to Measure Theory (Graduate Studies in Mathematics) by Terrence Tao (z-lib.org).pdf\n",
      "360739 \\s\\books\\An Introduction to Ramsey Theory Fast Functions, Infinity, and Metamathematics (Student Mathematical Library) by Matthew Katz, Jan Reimann (z-lib.org).pdf\n",
      "609068 \\s\\books\\An Introduction to the Theory of Stellar Structure and Evolution (Dina Prialnik) (Z-Library).pdf\n",
      "398619 \\s\\books\\An Introduction to the Theory of Surreal Numbers (Harry Gonshor) (z-lib.org).pdf\n",
      "161086 \\s\\books\\An Outline of Set Theory (James M. Henle (auth.)) (z-lib.org).pdf\n",
      "755012 \\s\\books\\An_Epsilon_of_Room,_I_Real_Analysis_by_Terrence_T_16895728_(z-lib.org).pdf\n",
      "628330 \\s\\books\\An_Epsilon_of_Room_II_by_Terrence_T.pdf\n",
      "1608511 \\s\\books\\AP Stylebook 2020-2022 (The Associated Press) (Z-Library).pdf\n",
      "1046847 \\s\\books\\API Design for C++ (Martin Reddy) (Z-Library).pdf\n",
      "335022 \\s\\books\\Applied Conic Finance (Dilip Madan, Wim Schoutens) (Z-Library).pdf\n",
      "968413 \\s\\books\\Aspects of multivariate statistical theory by Robb J. Muirhead (z-lib.org).pdf\n",
      "318825 \\s\\books\\Aspects of Risk Theory by Jan Grandell (auth.) (z-lib.org).pdf\n",
      "850761 \\s\\books\\Audrey Terras (auth.) - Harmonic Analysis on Symmetric Spaces—Euclidean Space, the Sphere, and the Poincaré Upper Half-Plane-Springer-Verlag New York (2013).pdf\n",
      "1054653 \\s\\books\\Automate the boring stuff with python 2nd edition by Al Sweigart (z-lib.org).pdf\n",
      "279 \\s\\books\\Axiomatic set theory by Suppes P. (z-lib.org).pdf\n",
      "369476 \\s\\books\\Basic GIS coordinates by Jan Van Sickle (z-lib.org).pdf\n",
      "928198 \\s\\books\\Bernoullis Fallacy Statistical Illogic and the Crisis of Modern Science (Aubrey Clayton) (Z-Library).pdf\n",
      "816796 \\s\\books\\Big data and analytics for insurers (Boobier, Tony) (Z-Library).pdf\n",
      "510714 \\s\\books\\Brehm - Enterprise Risk Analysis.pdf\n",
      "1009905 \\s\\books\\Butchers Copy-editing - The Cambridge Handbook for Editors, Copy-editors and Proofreaders (Judith Butcher, Caroline Drake, Maureen Leach) (Z-Library).pdf\n",
      "2900171 \\s\\books\\Capitalism Competition, Conflict, Crises (Anwar Shaikh) (z-lib.org).pdf\n",
      "482305 \\s\\books\\Carbon footprint analysis  concepts, methods, implementation, and case studies by Matthew J Franchetti Defne Apul (z-lib.org).pdf\n",
      "969128 \\s\\books\\Carl B. Boyer (auth.) - The Rainbow_ From Myth to Mathematics (1987, Macmillan Education UK) [10.1007_978-1-349-18767-6] - libgen.li.pdf\n",
      "1274015 \\s\\books\\Cartographic Science A Compendium of Map Projections, with Derivations by Donald Fenna (z-lib.org).pdf\n",
      "MuPDF error: format error: cmsOpenProfileFromMem failed\n",
      "\n",
      "1013415 \\s\\books\\Catch-22 by Joseph Heller (z-lib.org).pdf\n",
      "1905407 \\s\\books\\Classic Works of the Dempster-Shafer Theory of Belief Functions by Liping Liu, Ronald R. Yager (auth.), Roland R. Yager, Liping Liu (eds.) (z-lib.org).pdf\n",
      "482263 \\s\\books\\Classical Banach Spaces I Sequence Spaces by Joram Lindenstrauss, Lior Tzafriri (auth.) (z-lib.org).pdf\n",
      "529604 \\s\\books\\Classical Banach Spaces II Function Spaces by Joram Lindenstrauss, Lior Tzafriri (auth.) (z-lib.org).pdf\n",
      "778322 \\s\\books\\Classical descriptive set theory by Alexander S. Kechris (z-lib.org).pdf\n",
      "833 \\s\\books\\Classical Electrodynamics (John David Jackson) (z-lib.org).pdf\n",
      "286846 \\s\\books\\Climate Change  A very short Introduction, 4th edition (Mark Maslin) (Z-Library).pdf\n",
      "366680 \\s\\books\\Cohen Set Theory and the Continuum Hypothesis by Cohen, Paul, JDavis, Martin (z-lib.org).epub.pdf\n",
      "509840 \\s\\books\\Collins complete guide to British trees (Paul Sterry) (Z-Library).pdf\n",
      "567850 \\s\\books\\Comparison of Stochastic Models and Risks (Muller Stoyan) (z-lib.org).pdf\n",
      "947392 \\s\\books\\Concentration inequalities a nonasymptotic theory of independence (Boucheron, StéphaneLugosi, GáborMassart etc.) (Z-Library).pdf\n",
      "467 \\s\\books\\Convex analysis (Ralph Tyrell Rockafellar) (Z-Library).pdf\n",
      "549 \\s\\books\\Convex Analysis and Optimization (Dimitri Bertsekas, Angelia Nedic) (Z-Library).pdf\n",
      "741329 \\s\\books\\Convex Analysis in General Vector Spaces by C. Zalinescu (z-lib.org).pdf\n",
      "262827 \\s\\books\\Convex Duality and Financial Mathematics (Peter Carr, Qiji Jim Zhu) (z-lib.org).pdf\n",
      "562472 \\s\\books\\Convex Functions (A. Wayne Roberts, Dale E. Varberg) (Z-Library).pdf\n",
      "606379 \\s\\books\\Copula Methods in Finance (Umberto Cherubini, Elisa Luciano etc.) (Z-Library).pdf\n",
      "451170 \\s\\books\\Cosmic Plasma (Hannes Alfvén) (Z-Library).pdf\n",
      "744478 \\s\\books\\Counterexamples in Probability by Jordan M. Stoyanov (z-lib.org).pdf\n",
      "487374 \\s\\books\\Counterexamples in Topology by Lynn Arthur Steen, J. Arthur Seebach Jr. (auth.) (z-lib.org).pdf\n",
      "612371 \\s\\books\\Cradle of life the discovery of earths earliest fossils (J. William Schopf) (Z-Library).pdf\n",
      "556 \\s\\books\\CRC World Dictionary of Plant Names Common Names, Scientific Names, Eponyms, Synonyms, and Etymology (Umberto Quattrocchi) (Z-Library).pdf\n",
      "1579669 \\s\\books\\D. H Fremlin - Measure Theory_ Broad Foundations (Vol. 2) (2001).pdf\n",
      "318461 \\s\\books\\D.H. Fremlin - Measure Theory_ The Irreducible Minimum (Vol. 1) (2000).pdf\n",
      "362808 \\s\\books\\Defending the Axioms On the Philosophical Foundations of Set Theory by Penelope Maddy (z-lib.org).pdf\n",
      "3154362 \\s\\books\\Diagnostic and Statistical Manual of Mental Disorders, 5th Edition DSM-5 by American Psychiatric Association (z-lib.org).pdf\n",
      "1413412 \\s\\books\\DSM-5 Guidebook The Essential Companion to the Diagnostic and Statistical Manual of Mental Disorders by Donald W. Black. M.D. (Author), Jon E. Grant  (Author), M.D. (Author) (z-lib.org).pdf\n",
      "648272 \\s\\books\\Dynamic Copula Methods in Finance (The Wiley Finance Series) (Umberto Cherubini, Sabrina Mulinacci etc.) (Z-Library).pdf\n",
      "280 \\s\\books\\Dynamic programming and optimal control (Dimitri P. Bertsekas) (Z-Library).pdf\n",
      "895777 \\s\\books\\Effective Statistical Learning Methods for Actuaries I GLMs and Extensions by Michel Denuit, Donatien Hainaut, Julien Trufin (z-lib.org).pdf\n",
      "730614 \\s\\books\\Elementary Probability Theory With Stochastic Processes and an Introduction to Mathematical Finance (K. L. Chung, Farid AitSahlia) (Z-Library).pdf\n",
      "931830 \\s\\books\\Elements of Distribution Theory (Thomas A. Severini) (Z-Library).pdf\n",
      "1140777 \\s\\books\\Elements of Mathematics Integration I by Nicolas Bourbaki (auth.) (z-lib.org).pdf\n",
      "498160 \\s\\books\\Elements of set theory by Herbert B. Enderton (z-lib.org).pdf\n",
      "6899814 \\s\\books\\Encyclopedia of actuarial science by Jef L Teugels Bjørn Sundt (z-lib.org).pdf\n",
      "15518964 \\s\\books\\Encyclopedia of Actuarial Science by Jozef Teugels, Bjørn Sundt (z-lib.org).pdf\n",
      "959590 \\s\\books\\Energy A Human History by Richard Rhodes [Rhodes, Richard] (z-lib.org).pdf\n",
      "572696 \\s\\books\\Enterprise Risk Management in the Global Supply Chain (Thomas A. Cook) (Z-Library).pdf\n",
      "534964 \\s\\books\\Enumeration of finite groups by Simon R. Blackburn, Peter M. Neumann OBE, Geetha Venkataraman (z-lib.org).pdf\n",
      "843215 \\s\\books\\Ergodic Theory by I. P. Cornfeld, S. V. Fomin, Ya. G. Sinai (auth.) (z-lib.org).pdf\n",
      "886650 \\s\\books\\Ergodic Theory With a View Towards Number Theory (Thomas Ward) (Z-Library).pdf\n",
      "477037 \\s\\books\\Essentials of Stochastic Processes (Richard Durrett) (Z-Library).pdf\n",
      "387664 \\s\\books\\Exercises in Probability A Guided Tour from Measure Theory to Random Processes, via Conditioning (L. Chaumont, M. Yor) (Z-Library).pdf\n",
      "769157 \\s\\books\\Exploring general equilibrium by Fischer Black (z-lib.org).pdf\n",
      "431370 \\s\\books\\Exponential Families in Theory and Practice (Bradley Efron) (Z-Library).pdf\n",
      "660915 \\s\\books\\Fair Division and Collective Welfare by Hervé Moulin (z-lib.org).pdf\n",
      "635029 \\s\\books\\Field Guide to the Trees and Shrubs of Britain (Reader’s Digest) (Z-Library).pdf\n",
      "573481 \\s\\books\\Financial markets in continuous time (Rose-Anne Dana, Monique Jeanblanc, A. Kennedy) (z-lib.org).pdf\n",
      "471 \\s\\books\\Financialization and the World Economy (Gerald A. Epstein) (Z-Library).pdf\n",
      "460057 \\s\\books\\Financialization of Daily Life (Randy Martin) (Z-Library).pdf\n",
      "1157167 \\s\\books\\floating-point_muller.pdf\n",
      "494109 \\s\\books\\Foundations of Mathematics Symposium Papers Commemorating the Sixtieth Birthday of Kurt Gödel by Stephen F. Barker (auth.), Jack J. Bulloff, Thomas C. Holyoke, Samuel W. Hahn (eds.) (z-lib.org).pdf\n",
      "1922513 \\s\\books\\Foundations of Modern Probability by Olav Kallenberg (z-lib.org).pdf\n",
      "470728 \\s\\books\\Fourier Transform Methods in Finance (The Wiley Finance Series) (Umberto Cherubini, Giovanni Della Lunga etc.) (Z-Library).pdf\n",
      "768916 \\s\\books\\Functional analysis by Walter Rudin (z-lib.org).pdf\n",
      "773478 \\s\\books\\Functional Analysis for Probability and Stochastic Processes An Introduction by Adam Bobrowski (z-lib.org).pdf\n",
      "941573 \\s\\books\\Functional Analysis, Sobolev Spaces and Partial Differential Equations (Haim Brezis (auth.)) (z-lib.org).pdf\n",
      "753433 \\s\\books\\Functions of a real variable elementary theory by Nicolas Bourbaki (z-lib.org).pdf\n",
      "2264179 \\s\\books\\Fundamentals of aerodynamics by Anderson, John David (z-lib.org).pdf\n",
      "736887 \\s\\books\\Fundamentals of Fourier Analysis (Loukas Grafakos) (Z-Library).pdf\n",
      "1643511 \\s\\books\\Fundamentals of Geophysics (William Lowrie) (Z-Library).pdf\n",
      "280626 \\s\\books\\Fundamentals of measurable dynamics ergodic theory on Lebesgue spaces by Daniel J. Rudolph (z-lib.org).pdf\n",
      "1960291 \\s\\books\\Galactic Astronomy (James Binney Michael Merrifield) (Z-Library).pdf\n",
      "446493 \\s\\books\\Gamma Exploring Eulers Constant (Julian Havil) (z-lib.org).pdf\n",
      "744739 \\s\\books\\General Equilibrium Theory An Introduction, 2nd Edition (Ross M. Starr) (Z-Library).pdf\n",
      "891283 \\s\\books\\General Topology by Stephen Willard (z-lib.org).pdf\n",
      "900677 \\s\\books\\Generalized Linear Models (P. McCullagh, J. A. Nelder FRS (auth.)) (Z-Library).pdf\n",
      "377601 \\s\\books\\Genetics 101 From Chromosomes and the Double Helix to Cloning and DNA Tests, Everything You Need to Know about Genes (Beth Skwarecki) (Z-Library).pdf\n",
      "626947 \\s\\books\\Genetics. A Beginners Guide (A. Griffiths, B. Guttman, D. Suzuki, T. Cullis) (z-lib.org).pdf\n",
      "MuPDF error: format error: cmsOpenProfileFromMem failed\n",
      "\n",
      "MuPDF error: format error: cmsOpenProfileFromMem failed\n",
      "\n",
      "1468922 \\s\\books\\George Anastassiou (Editor) - Handbook of Analytic Computational Methods in Applied Mathematics (2000, Chapman and Hall_CRC) [10.1201_9780429123610] - libgen.li.pdf\n",
      "1072664 \\s\\books\\Gilbert Strang - Linear Algebra and Its Applications (4th Edition).pdf\n",
      "710434 \\s\\books\\Global Catastrophes and Trends The Next Fifty Years by Vaclav Smil (z-lib.org).pdf\n",
      "613600 \\s\\books\\Gradient flows In metric spaces and in the space of probability measures by Luigi Ambrosio, Nicola Gigli, Giuseppe Savaré (z-lib.org).pdf\n",
      "258 \\s\\books\\GTM 79 An Introduction to Ergodic Theory (Peter Walters) (Z-Library).pdf\n",
      "2528371 \\s\\books\\Handbook of Solvency for Actuaries and Risk Managers Theory and Practice (Chapman  Hall  Crc Finance Series) by Arne Sandstrom (z-lib.org).pdf\n",
      "51117 \\s\\books\\Harry G. Frankfurt - On Bullshit-Princeton University Press (2005).pdf\n",
      "154937 \\s\\books\\helland-tabarrok_why-are-the-prices-so-damn-high_v1.pdf\n",
      "1058191 \\s\\books\\Hoffmann-Jørgensen J. - Probability With a View Towards Statistics, vol. I.pdf\n",
      "412014 \\s\\books\\How Bad Are Bananas The Carbon Footprint of Everything by Mike Berners-Lee [Berners-Lee, Mike] (z-lib.org).pdf\n",
      "1004993 \\s\\books\\How to Measure Anything Finding the Value of Intangibles in Business by Douglas W. Hubbard (z-lib.org).pdf\n",
      "1457921 \\s\\books\\Infinite Dimensional Analysis A Hitchhiker’s Guide by Professor Charalambos D. Aliprantis, Professor Kim C. Border (auth.) (z-lib.org).pdf\n",
      "357558 \\s\\books\\Infinite Ergodic Theory of Numbers (Marc Kesseböhmer, Sara Munday etc.) (Z-Library).pdf\n",
      "238396 \\s\\books\\Infinitesimal Calculus by James M. Henle, Eugene M. Kleinberg (z-lib.org).pdf\n",
      "1397623 \\s\\books\\Insurance Economics (Peter Zweifel) (Z-Library).pdf\n",
      "1226246 \\s\\books\\Intelligent Life in the Universe (I. S. Shklovskii, Carl Sagan) (Z-Library).pdf\n",
      "660261 \\s\\books\\Intermediate analysis an introduction to the theory of functions of one real variable by John M. H. Olmsted (z-lib.org).pdf\n",
      "241 \\s\\books\\Interpolation of Operators by Bennett C., Sharpley R.C. (z-lib.org).pdf\n",
      "1226768 \\s\\books\\Interpreting Qualitative Data (Silverman, David) (z-lib.org).pdf\n",
      "390570 \\s\\books\\Introduction to Axiomatic Set Theory by Gaisi Takeuti, Wilson M. Zaring (auth.) (z-lib.org).pdf\n",
      "177427 \\s\\books\\Introduction to Ergodic Theory by Iakov G. Sinai (z-lib.org).pdf\n",
      "744941 \\s\\books\\Introduction to Plasma Physics and Controlled Fusion (Francis F. Chen) (Z-Library).pdf\n",
      "307 \\s\\books\\Introduction to Set Theory, Third Edition, Revised and Expanded (Pure and Applied Mathematics) by Karel Hrbacek, Thomas Jech (z-lib.org).pdf\n",
      "3191229 \\s\\books\\Investments by Zvi Bodie Alex Kane Alan J. Marcus (z-lib.org).pdf\n",
      "610809 \\s\\books\\Is Earth Exceptional (Mario Livio, Jack Szostak) (Z-Library).pdf\n",
      "69702 \\s\\books\\ISO 310002009, Risk management - Principles and guidelines by ISO (z-lib.org).pdf\n",
      "447331 \\s\\books\\Jacques Neveu - Mathematical Foundations of the Calculus of Probability.pdf\n",
      "631781 \\s\\books\\K.P.S.BhaskaraRaoandM.BhaskaraRaoEds.-TheoryofCharges_AStudyofFinitelyAdditiveMeasures-AcademicPressElsevier1983.pdf\n",
      "422 \\s\\books\\Lattice Theory by Garrett Birkhoff (z-lib.org).pdf\n",
      "210382 \\s\\books\\Lectures in Set Theory with Particular Emphasis on the Method of Forcing by Thomas J. Jech (z-lib.org).pdf\n",
      "217763 \\s\\books\\Lectures on Choquet’s Theorem by Robert R. Phelps (eds.) (z-lib.org).pdf\n",
      "522049 \\s\\books\\Lectures on the Hyperreals An Introduction to Nonstandard Analysis by Robert Goldblatt (auth.) (z-lib.org).pdf\n",
      "324602 \\s\\books\\Levy Processes in Finance Pricing Financial Derivatives (Wim Schoutens(auth.), Walter A. Shewhart etc.) (Z-Library).pdf\n",
      "573297 \\s\\books\\lex and yacc (John R. Levine, Tony Mason, Doug Brown) (z-lib.org).pdf\n",
      "1237048 \\s\\books\\Life Distributions Structure of Nonparametric, Semiparametric, and Parametric Families (Albert W. Marshall, Ingram Olkin) (Z-Library).pdf\n",
      "908459 \\s\\books\\Lifes Matrix A Biography of Water (Philip Ball) (Z-Library).pdf\n",
      "1452564 \\s\\books\\Limit Theorems for Stochastic Processes by Jean Jacod, Albert N. Shiryaev (auth.) (z-lib.org).pdf\n",
      "1022994 \\s\\books\\Loss models  from data to decisions by Klugman, Stuart A. Panjer, Harry H. Willmot, Gordon E (z-lib.org).pdf\n",
      "1132716 \\s\\books\\Managerial Uses of Accounting Information by Joel Demski (auth.) (z-lib.org).pdf\n",
      "571541 \\s\\books\\Mapping A Critical Introduction to Cartography and GIS (Critical Introductions to Geography) by Jeremy W. Crampton (z-lib.org).pdf\n",
      "504766 \\s\\books\\Martingale Limit Theory and Its Application (Peter Hall, C. C. Heyde) (Z-Library).pdf\n",
      "775863 \\s\\books\\Mathematical Risk Analysis Dependence, Risk Bounds, Optimal Allocations and Portfolios by Ludger Rüschendorf (z-lib.org).pdf\n",
      "1394911 \\s\\books\\Mathematical Theory of Probability and Statistics by Richard von Mises and Hilda Geiringer (Auth.) (z-lib.org).pdf\n",
      "230672 \\s\\books\\Measure and Category A Survey of the Analogies between Topological and Measure Spaces by John C. Oxtoby (auth.) (z-lib.org).pdf\n",
      "572197 \\s\\books\\Measure and Integration An Advanced Course in Basic Procedures and Applications by Heinz König (auth.) (z-lib.org).pdf\n",
      "476569 \\s\\books\\Measure Theory by J. L. Doob (auth.) (z-lib.org).pdf\n",
      "1308669 \\s\\books\\Measure Theory by Vladimir I. Bogachev (z-lib.org).pdf\n",
      "1022272 \\s\\books\\Measure Theory Second Edition by Donald L. Cohn (auth.) (z-lib.org).pdf\n",
      "1050361 \\s\\books\\Metamathematics of First-Order Arithmetic (Petr Hájek, Pavel Pudlák) (z-lib.org).pdf\n",
      "1118126 \\s\\books\\Methods of Numerical Integration (Philip J. Davis etc.) (z-lib.org).pdf\n",
      "454378 \\s\\books\\Modeling, Measuring and Managing Risk (Georg Ch Pflug, Werner Romisch) (Z-Library).pdf\n",
      "2717956 \\s\\books\\Modern Principles of Economics by Tyler Cowen and Alex Tabarrok (z-lib.org).pdf\n",
      "6196074 \\s\\books\\Molecular Biology of the Cell Seventh Edition (Bruce Alberts, Rebecca Heald, Alexander Johnson etc.) (Z-Library).pdf\n",
      "3918753 \\s\\books\\Neuroscience by Dale Purves, George J. Augustine, David Fitzpatrick, William C. Hall, Anthony-Samuel LaMantia, Richard D. Mooney, Michael L. Platt, Leonard E. White (z-lib.org).pdf\n",
      "MuPDF error: syntax error: expected object number\n",
      "\n",
      "MuPDF error: format error: non-page object in page tree\n",
      "\n",
      "MuPDF error: syntax error: no XObject subtype specified\n",
      "\n",
      "222644 \\s\\books\\Non-Life Insurance Mathematics by Professor Dr. Erwin Straub (auth.) (z-lib.org).pdf\n",
      "797000 \\s\\books\\Nonlife Actuarial Models Theory, Methods and Evaluation (International Series on Actuarial Science) (Yiu-Kuen Tse) (z-lib.org).pdf\n",
      "1351578 \\s\\books\\Nonlinear Mathematics for Uncertainty and its Applications.pdf\n",
      "548804 \\s\\books\\Notes on set theory by Yiannis Moschovakis (z-lib.org).pdf\n",
      "462627 \\s\\books\\On Numbers and Games (John H. Conway (Author)) (z-lib.org).pdf\n",
      "1267915 \\s\\books\\One Thousand Exercises in Probability Third Edition (Geoffrey Grimmett, David Stirzaker) (Z-Library).pdf\n",
      "329441 \\s\\books\\Optimal Transport Methods in Economics (Alfred Galichon) (Z-Library).pdf\n",
      "773437 \\s\\books\\Organizational learning a theory of action perspective by Chris Argyris, Donald A. Schön (z-lib.org).pdf\n",
      "742020 \\s\\books\\P-Adic Numbers An Introduction (Fernando Q. Gouvêa [Gouvêa, Fernando Q.]) (Z-Library).pdf\n",
      "1448703 \\s\\books\\Patrick O'Brien - Philip's atlas of world history (concise edition)-Philip's (2005).pdf\n",
      "1069341 \\s\\books\\Physics of the interstellar and intergalactic medium (Bruce T Draine) (Z-Library).pdf\n",
      "413837 \\s\\books\\Planets and Planetary Systems (Stephen Eales) (Z-Library).pdf\n",
      "2515733 \\s\\books\\Plant Systematics 3rd Edition (Michael G. Simpson) (Z-Library).pdf\n",
      "3414278 \\s\\books\\Plants of the World An Illustrated Encyclopedia of Vascular Plants ( etc.) (Z-Library).pdf\n",
      "1152664 \\s\\books\\Pricing Insurance Risk Theory and Practice (Stephen J. Mildenhall, John A. Major) (z-lib.org).pdf\n",
      "613162 \\s\\books\\Primer on Decision Making How Decisions Happen by James G. March (z-lib.org).epub.pdf\n",
      "769899 \\s\\books\\Probabilities and Potential Theory of Martingales Pt. B (Claude Dellacherie, Paul-Andre Meyer etc.) (z-lib.org).pdf\n",
      "1067467 \\s\\books\\Probability A graduate course by Allan Gut (z-lib.org).pdf\n",
      "1814481 \\s\\books\\Probability An Introduction Through Theory and Exercises (Paolo Baldi) (Z-Library).pdf\n",
      "1254746 \\s\\books\\Probability and Measure by Patrick Billingsley (z-lib.org).pdf\n",
      "1418213 \\s\\books\\Probability and Random Processes (Geoffrey R. Grimmett, David R. Stirzaker) (Z-Library).pdf\n",
      "414895 \\s\\books\\Probability measures on metric spaces (Parthasarathy, K. R) (Z-Library).pdf\n",
      "1061427 \\s\\books\\Probability Theory A Comprehensive Course (Universitext) (Klenke, Achim) (Z-Library).pdf\n",
      "757780 \\s\\books\\Probability Theory I (M. Loeve) (Z-Library).pdf\n",
      "673995 \\s\\books\\Probability, random processes, and ergodic properties (Robert M. Gray (auth.)) (Z-Library).pdf\n",
      "673995 \\s\\books\\Probability, random processes, and ergodic properties by Robert M. Gray (auth.) (z-lib.org).pdf\n",
      "857191 \\s\\books\\Probability-1 Volume 1 by Albert N. Shiryaev (auth.) (z-lib.org).pdf\n",
      "622976 \\s\\books\\Probability-2 by Albert N. Shiryaev Rosalee Wilson (z-lib.org).pdf\n",
      "171 \\s\\books\\Problem Solving Through Problems (Problem Books in Mathematics) (Loren C. Larson) (z-lib.org).pdf\n",
      "890775 \\s\\books\\Problem-solving strategies (for math olympiads) (Engel A.) (z-lib.org).pdf\n",
      "658994 \\s\\books\\Problems and Theorems in Analysis I Series. Integral Calculus. Theory of Functions by George Pólya, Gabor Szegö (auth.) (z-lib.org).pdf\n",
      "743138 \\s\\books\\Problems and Theorems in Analysis II Theory of Functions. Zeros. Polynomials. Determinants. Number Theory. Geometry by George Pólya, Gabor Szegö (auth.) (z-lib.org).pdf\n",
      "1111482 \\s\\books\\Problems in Real and Functional Analysis by Alberto Torchinsky (z-lib.org).pdf\n",
      "2673310 \\s\\books\\Programming Windows (5th Edition, WinAPI) (Charles Petzold) (Z-Library).pdf\n",
      "330060 \\s\\books\\Python and R for the Modern Data Scientist The Best of Both Worlds (Rick J. Scavetta, Boyan Angelov) (Z-Library).pdf\n",
      "773474 \\s\\books\\Python Polars The Definitive Guide Transforming, Analyzing, and Visualizing Data with a Fast and Expressive DataFrame API (Jeroen Janssens, Thijs Nieuwdorp) (Z-Library).pdf\n",
      "587719 \\s\\books\\Quantitative Modeling of Derivative Securities From Theory to Practice (Marco Avellaneda, Peter Laurence) (Z-Library).pdf\n",
      "1478958 \\s\\books\\Quantitative Risk Management - Concepts, Techniques and Tools by Alexander J. McNeil, Rudiger Frey, Paul Embrechts (z-lib.org).pdf\n",
      "1447165 \\s\\books\\Random Measures, Theory and Applications (Olav Kallenberg (auth.)) (Z-Library).pdf\n",
      "921478 \\s\\books\\Rao - Conditional Measures and Applications (second edn).pdf\n",
      "1151532 \\s\\books\\Real Analysis (Halsey Royden, Patrick Fitzpatrick) (Z-Library).pdf\n",
      "1651348 \\s\\books\\Real Analysis A Comprehensive Course in Analysis, Part 1 by Barry Simon (z-lib.org).pdf\n",
      "915759 \\s\\books\\Real Analysis and Probability by Robert B. Ash (z-lib.org).pdf\n",
      "65173 \\s\\books\\Real Analysis and Probability. Solutions to Problems by Robert P. Ash (Auth.) (z-lib.org).pdf\n",
      "691937 \\s\\books\\Real analysis measure theory, integration, and Hilbert spaces (Elias M. Stein, Rami Shakarchi) (Z-Library).pdf\n",
      "869616 \\s\\books\\Real Analysis Modern Techniques and Their Applications by Gerald B. Folland (z-lib.org).pdf\n",
      "2406602 \\s\\books\\Recursive Macroeconomic Theory (Lars Ljungqvist, Thomas J. Sargent) (z-lib.org).pdf\n",
      "874546 \\s\\books\\Red-Blooded Risk The Secret History of Wall Street by Aaron Brown (z-lib.org).pdf\n",
      "765782 \\s\\books\\Reinsurance  actuarial and statistical aspects by Albrecher, Hansjörg Beirlant, Jan Teugels, Jef L (z-lib.org).pdf\n",
      "1444654 \\s\\books\\Reinsurance by R. L. Carter (auth.) (z-lib.org).pdf\n",
      "788387 \\s\\books\\Ren L. Schilling - Measures, Integrals and Martingales-Cambridge University Press (2017).pdf\n",
      "970337 \\s\\books\\René L. Schilling - Brownian Motion - A Guide to Random Processes and Stochastic Calculus-De Gruyter (2021).pdf\n",
      "432669 \\s\\books\\René L. Schilling - Measures, Integrals and Martingales Solution Manual-Cambridge University Press (2017).pdf\n",
      "722384 \\s\\books\\René L. Schilling, Franziska Kühn - Counterexamples in Measure and Integration-Cambridge University Press (2021).pdf\n",
      "409474 \\s\\books\\Rethinking Expertise by Harry Collins, Robert Evans (z-lib.org).pdf\n",
      "1183837 \\s\\books\\Revolution in Time Clocks and the Making of the Modern World (David S. Landes) (Z-Library).pdf\n",
      "746379 \\s\\books\\Risk Classification in Life Insurance by J. David Cummins, Barry D. Smith, R. Neil Vance, Jack L. VanDerhei (auth.) (z-lib.org).pdf\n",
      "1962080 \\s\\books\\Risk management and shareholders value in banking  from risk measurement models to capital allocation policies by Andrea Sironi Andrea Resti (z-lib.org).pdf\n",
      "459397 \\s\\books\\Risk Measurement From Quantitative Measures to Management Decisions by Dominique Guégan, Bertrand K. Hassani (z-lib.org).pdf\n",
      "1101449 \\s\\books\\Ruin Probabilities (2nd Edition)(Statistical Science and Applied Probability) (Søren Asmussen, Hansjörg Albrecher) (Z-Library).pdf\n",
      "1988756 \\s\\books\\S. Blair Hedges, Sudhir Kumar - The Timetree of Life (2009).pdf\n",
      "439460 \\s\\books\\SAS genmod manual.pdf\n",
      "412698 \\s\\books\\SAS glm manualpdf.pdf\n",
      "1410944 \\s\\books\\Satellite Geodesy Foundations, Methods, Applications (2003)(2nd)(en)(550s) by Gunter Seeber (z-lib.org).pdf\n",
      "910727 \\s\\books\\Set Functions, Games and Capacities in Decision... (Z-Library).pdf\n",
      "722199 \\s\\books\\Set Theory An Introduction to Large Cardinals by Frank R. Drake (z-lib.org) (1).pdf\n",
      "1089125 \\s\\books\\Set Theory and Logic by Robert R. Stoll (z-lib.org).pdf\n",
      "357201 \\s\\books\\Set Theory Boolean-Valued Models and Independence Proofs by J.L. Bell (z-lib.org).pdf\n",
      "1631818 \\s\\books\\Set Theory by Thomas Jech (z-lib.org).pdf\n",
      "429111 \\s\\books\\Set theory for the working mathematician by Krzysztof Ciesielski (z-lib.org).pdf\n",
      "1010072 \\s\\books\\Something Happened by Joseph Heller (z-lib.org).epub.pdf\n",
      "644114 \\s\\books\\Statistical Modelling by Exponential Families (Rolf Sundberg) (Z-Library).pdf\n",
      "1738264 \\s\\books\\Stellar Magnetism Second Edition (Mestel L.) (Z-Library).pdf\n",
      "1271722 \\s\\books\\Stellar Structure and Evolution (Kippenhahn etc.) (Z-Library).pdf\n",
      "554358 \\s\\books\\Steven E. Koonin - Unsettled_ What Climate Science Tells Us, What It Doesn’t, and Why It Matters-BenBella Books (2021).pdf\n",
      "52512 \\s\\books\\Steven V. Sam, Walter Rudin - Solutions to real and complex analysis (2009) - libgen.li.pdf\n",
      "1106980 \\s\\books\\Stochastic integration with jumps (Klaus Bichteler) (Z-Library).pdf\n",
      "1020170 \\s\\books\\Stochastic orders by Shaked M., Shanthikumar J. (z-lib.org).pdf\n",
      "825136 \\s\\books\\Stone spaces by P. T. Johnstone (z-lib.org).pdf\n",
      "820108 \\s\\books\\Stopping Times and Directed Processes (Encyclopedia of Mathematics and its Applications) by G. A. Edgar, Louis Sucheston (z-lib.org).pdf\n",
      "144931 \\s\\books\\Student Solutions Manual to Accompany Loss Models From Data to Decisions (Klugman, Stuart A.Panjer, Harry H.Willmot etc.) (z-lib.org).pdf\n",
      "106442 \\s\\books\\Surreal Numbers (Donald E. Knuth) (z-lib.org).pdf\n",
      "1750054 \\s\\books\\Table of integrals, series and products ( etc.) (Z-Library).pdf\n",
      "256032 \\s\\books\\Tata Lectures on Theta III (David Mumford, Madhav Nori, Peter Norman) (z-lib.org).pdf\n",
      "823930 \\s\\books\\Testing Statistical Hypotheses (Lehmann E. L.) (Z-Library).pdf\n",
      "408989 \\s\\books\\The Axiom of Choice by Thomas J. Jech (z-lib.org).pdf\n",
      "1720920 \\s\\books\\The Carbon Footprint Handbook by Subramanian Senthilkannan Muthu (z-lib.org).pdf\n",
      "1225745 \\s\\books\\The Chicago Guide to Grammar, Usage, and Punctuation (Bryan A. Garner) (Z-Library).pdf\n",
      "2624286 \\s\\books\\The Chicago Manual of Style, 17th edition (The University of Chicago Press Editorial Staff) (Z-Library).pdf\n",
      "230082 \\s\\books\\The Death of Old Yokohama (Otis M Poole) (Z-Library).pdf\n",
      "532974 \\s\\books\\The Economics of Property-Casualty Insurance (David F. Bradford (editor)) (Z-Library).pdf\n",
      "583753 \\s\\books\\The Economics, Regulation, and Systemic Risk of Insurance Markets (Felix Hufeld, Ralph S. J. Koijen etc.) (Z-Library).pdf\n",
      "415257 \\s\\books\\The Elements of Cantor Sets With Applications (Robert W. Vallin(auth.)) (Z-Library).pdf\n",
      "730978 \\s\\books\\The Failure of Risk Management Why Its Broken and How to Fix It by Douglas W. Hubbard (z-lib.org).epub.pdf\n",
      "760135 \\s\\books\\The fast Fourier transform and its applications (E  Oran Brigham) (Z-Library).pdf\n",
      "1613488 \\s\\books\\The Fiscal Theory of the Price Level (John H. Cochrane) (Z-Library).pdf\n",
      "686032 \\s\\books\\The Functions of the Executive by Chester I. Barnard, Kenneth Richmond Andrews (z-lib.org).pdf\n",
      "484894 \\s\\books\\The Handbook of Academic Writing (Rowena Murray, Sarah Moore) (Z-Library).pdf\n",
      "1222750 \\s\\books\\The Hutchinson dictionary of plant names (Helicon) (Z-Library).pdf\n",
      "1155895 \\s\\books\\The Origins of Genome Architecture (Michael Lynch) (Z-Library).pdf\n",
      "4415927 \\s\\books\\The Oxford Companion to the History of Modern Science (J. L. Heilbron) (Z-Library).pdf\n",
      "694282 \\s\\books\\The Oxford Essential Guide to Writing by Thomas S. Kane (z-lib.org).pdf\n",
      "1701924 \\s\\books\\The Penguin Book of English Verse by Paul Keegan (z-lib.org).epub.pdf\n",
      "4794024 \\s\\books\\The Princeton Companion to Mathematics (with TOC) by Timothy Gowers (ed) (z-lib.org).pdf\n",
      "684743 \\s\\books\\The Principles of Quantum Mechanics (4th Edition) (Paul A.M. Dirac) (Z-Library).pdf\n",
      "307490 \\s\\books\\The Psychology of Money by Morgan Housel by Morgan Housel [Housel, Morgan] (z-lib.org).pdf\n",
      "506219 \\s\\books\\The Real Numbers An Introduction to Set Theory and Analysis by John Stillwell (z-lib.org).pdf\n",
      "360150 \\s\\books\\The Statistical Analysis of Doubly Truncated Data  With Applications in R by Prof Carla Moreira, Jacobo de Uña-Álvarez, Rosa M. Crujeiras (z-lib.org).pdf\n",
      "400334 \\s\\books\\The Theory of Dispersion Models (Bent Jorgensen) (Z-Library).pdf\n",
      "550568 \\s\\books\\The Vanishing Middle Class (Peter Temin) (Z-Library).pdf\n",
      "555718 \\s\\books\\Theory of Decision under Uncertainty by Gilboa I. (z-lib.org).pdf\n",
      "1550895 \\s\\books\\Theory of Random Sets by Ilya Molchanov (auth.) (z-lib.org).pdf\n",
      "912042 \\s\\books\\Theory of Sets by Nicolas Bourbaki (auth.) (z-lib.org).pdf\n",
      "498446 \\s\\books\\They Say  I Say The Moves That Matter in Academic Writing, with 2016 MLA Update (Third Edition) (Gerald Graff, Cathy Birkenstein) (Z-Library).pdf\n",
      "1024961 \\s\\books\\Topology Pearson New International Edition (James Munkres) (Z-Library).pdf\n",
      "51247 \\s\\books\\Understanding Actuarial Management The Actuarial Control Cycle by Clare Bellis, Richard Lyon, Stuart A. Klugman and John Shepherd (z-lib.org).pdf\n",
      "780811 \\s\\books\\Understanding cryptography a textbook for students and practitioners by Christof Paar, Jan Pelzl (z-lib.org).pdf\n",
      "742420 \\s\\books\\Understanding uncertainty by Dennis V. Lindley (z-lib.org).pdf\n",
      "869751 \\s\\books\\Uniform distribution of sequences by Lauwerens Kuipers, Harald Niederreiter (z-lib.org).pdf\n",
      "1404100 \\s\\books\\Univariate Discrete Distributions, 3rd Edition (Norman L. Johnson, Adrienne W. Kemp etc.) (z-lib.org).pdf\n",
      "302801 \\s\\books\\using-asyncio-python-understanding-asynchronous.pdf\n",
      "374084 \\s\\books\\Van Slyke Actuarial Considerations Regarding Risk and Return (CAS).pdf\n",
      "1893143 \\s\\books\\Variational Analysis (R. Tyrrell Rockafellar etc.) (Z-Library).pdf\n",
      "803362 \\s\\books\\Walter Rudin - Real and complex analysis-McGraw-Hill (1987).pdf\n",
      "349140 \\s\\books\\What We Believe but Cannot Prove Todays Leading Thinkers on Science in the Age of Certainty (John Brockman) (Z-Library).pdf\n",
      "2335160 \\s\\books\\Windows Internals, Part 2 (Andrea Allievi, Alex Ionescu etc.) (Z-Library).pdf\n",
      "1816926 \\s\\books\\Windows System Internals 7e Part 1.pdf\n",
      "444125 \\s\\books\\Winning Ways for Your Mathematical Plays Volume 1 by Berlekamp, Elwyn R. Conway, John Horton Guy, Richard K (z-lib.org).pdf\n",
      "284896 \\s\\books\\Winning ways for your mathematical plays. Volume 2 by Berlekamp, Elwyn R. Conway, John Horton Guy, Richard K (z-lib.org).pdf\n",
      "527568 \\s\\books\\Winning ways for your mathematical plays. Volume 3 by Berlekamp, Elwyn R. Conway, John Horton Guy, Richard K (z-lib.org).pdf\n",
      "76764 \\s\\books\\Writing Mathematics Well A Manual for Authors by Leonard Gillman (z-lib.org).pdf\n",
      "time: 9min 21s (started: 2025-05-17 22:10:06 +01:00)\n"
     ]
    }
   ],
   "source": [
    "base = Path('\\\\tmp\\\\books')\n",
    "for b in books:\n",
    "    txt = extract_text_fitz(b)\n",
    "    (base / b.with_suffix('.txt').name).write_text(txt, encoding='utf-8')\n",
    "    print(len(txt), b)"
   ]
  },
  {
   "cell_type": "code",
   "execution_count": 57,
   "id": "8fa9e1f3-97eb-4921-b9f5-6ec773182dc4",
   "metadata": {},
   "outputs": [
    {
     "data": {
      "text/plain": [
       "WindowsPath('/s/books/(Cambridge Mathematical Library) A. Zygmund - Trigonometric Series, Volume I & II Combined-Cambridge University Press (2002).pdf')"
      ]
     },
     "execution_count": 57,
     "metadata": {},
     "output_type": "execute_result"
    },
    {
     "name": "stdout",
     "output_type": "stream",
     "text": [
      "time: 0 ns (started: 2025-05-17 22:09:49 +01:00)\n"
     ]
    }
   ],
   "source": [
    "books = sorted(books)\n",
    "books[0]"
   ]
  },
  {
   "cell_type": "code",
   "execution_count": 18,
   "id": "186df2b8-147b-4aed-83e3-79f67415847d",
   "metadata": {},
   "outputs": [
    {
     "data": {
      "text/plain": [
       "27063"
      ]
     },
     "execution_count": 18,
     "metadata": {},
     "output_type": "execute_result"
    },
    {
     "name": "stdout",
     "output_type": "stream",
     "text": [
      "time: 47 ms (started: 2025-05-17 17:24:14 +01:00)\n"
     ]
    }
   ],
   "source": [
    "txt = \"\\n\".join(page.get_text() for page in d)\n",
    "len(txt)"
   ]
  },
  {
   "cell_type": "code",
   "execution_count": null,
   "id": "b64b7af5-4597-46eb-851c-64d63e8e4b22",
   "metadata": {},
   "outputs": [],
   "source": [
    "print(txt)"
   ]
  },
  {
   "cell_type": "code",
   "execution_count": 5,
   "id": "9f383ffa-4d47-48e0-b76e-e898a922fa27",
   "metadata": {},
   "outputs": [
    {
     "data": {
      "text/plain": [
       "True"
      ]
     },
     "execution_count": 5,
     "metadata": {},
     "output_type": "execute_result"
    },
    {
     "name": "stdout",
     "output_type": "stream",
     "text": [
      "time: 984 ms (started: 2025-05-17 17:20:18 +01:00)\n"
     ]
    }
   ],
   "source": [
    "ps = list(Path('c:\\\\s\\\\library').rglob('*.pdf'))\n",
    "ps[0].exists()"
   ]
  },
  {
   "cell_type": "code",
   "execution_count": null,
   "id": "84ce4d80-1aef-4536-afe7-21abcf94f7cc",
   "metadata": {},
   "outputs": [],
   "source": [
    "bit = sample(ps, 10)\n",
    "bit"
   ]
  },
  {
   "cell_type": "code",
   "execution_count": 7,
   "id": "9a3e0270-743d-46e6-af10-2e69b1f234e8",
   "metadata": {},
   "outputs": [
    {
     "data": {
      "text/plain": [
       "True"
      ]
     },
     "execution_count": 7,
     "metadata": {},
     "output_type": "execute_result"
    },
    {
     "name": "stdout",
     "output_type": "stream",
     "text": [
      "time: 0 ns (started: 2025-05-17 17:20:31 +01:00)\n"
     ]
    }
   ],
   "source": [
    "p = bit[0]\n",
    "p.exists()"
   ]
  },
  {
   "cell_type": "code",
   "execution_count": 8,
   "id": "b4bec632-4d89-41a2-b90e-499b51d20c44",
   "metadata": {},
   "outputs": [
    {
     "name": "stdout",
     "output_type": "stream",
     "text": [
      "time: 218 ms (started: 2025-05-17 17:20:52 +01:00)\n"
     ]
    }
   ],
   "source": [
    "txt = extract_text_fitz(bit[0])"
   ]
  },
  {
   "cell_type": "code",
   "execution_count": null,
   "id": "bf338d1e-1a30-458b-be17-e7413d327c18",
   "metadata": {},
   "outputs": [],
   "source": [
    "print(txt)"
   ]
  },
  {
   "cell_type": "code",
   "execution_count": null,
   "id": "384ed523-c45a-4b14-8a9c-edf93f4ac0d5",
   "metadata": {},
   "outputs": [],
   "source": []
  }
 ],
 "metadata": {
  "kernelspec": {
   "display_name": "Python 3 (ipykernel)",
   "language": "python",
   "name": "python3"
  },
  "language_info": {
   "codemirror_mode": {
    "name": "ipython",
    "version": 3
   },
   "file_extension": ".py",
   "mimetype": "text/x-python",
   "name": "python",
   "nbconvert_exporter": "python",
   "pygments_lexer": "ipython3",
   "version": "3.10.14"
  }
 },
 "nbformat": 4,
 "nbformat_minor": 5
}
