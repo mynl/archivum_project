{
 "cells": [
  {
   "cell_type": "markdown",
   "id": "d8e27447-065d-4d32-b267-d54ba92b32fb",
   "metadata": {},
   "source": [
    "# Text Extractor from PDF Files\n",
    "## Provenance\n",
    "* Created new 2025-05-17 at Bignor!"
   ]
  },
  {
   "cell_type": "code",
   "execution_count": 1,
   "id": "290bb032-5acb-4793-9901-c9f5cf88078f",
   "metadata": {},
   "outputs": [
    {
     "name": "stdout",
     "output_type": "stream",
     "text": [
      "time: 78 ms (started: 2025-05-30 22:43:48 +01:00)\n"
     ]
    }
   ],
   "source": [
    "from pathlib import Path \n",
    "import pandas as pd\n",
    "import re\n",
    "import numpy as np\n",
    "from functools import partial\n",
    "from pprint import pprint as pp\n",
    "from random import sample\n",
    "\n",
    "import fitz  # PyMuPDF\n",
    "import Levenshtein\n",
    "\n",
    "import archivum.mendeley_port as arcm\n",
    "import archivum.library as arcl\n",
    "import archivum.utilities as arcu\n",
    "import archivum.document as arcd\n",
    "import archivum.crossref as arcc\n",
    "import archivum.gui as arcg\n",
    "import archivum.parser as arcp\n",
    "import archivum.reference as arcr\n",
    "import archivum.cli as cli \n",
    "from archivum.utilities import fGT\n",
    "\n",
    "%load_ext autotime"
   ]
  },
  {
   "cell_type": "code",
   "execution_count": 2,
   "id": "27eccc90-f772-41a1-b439-914d413e24ee",
   "metadata": {},
   "outputs": [
    {
     "data": {
      "text/plain": [
       "[WindowsPath('C:/Users/steve/AppData/Local/archivum/books.archivum-config'),\n",
       " WindowsPath('C:/Users/steve/AppData/Local/archivum/uber-library.archivum-config')]"
      ]
     },
     "execution_count": 2,
     "metadata": {},
     "output_type": "execute_result"
    },
    {
     "name": "stdout",
     "output_type": "stream",
     "text": [
      "time: 16 ms (started: 2025-05-30 22:43:49 +01:00)\n"
     ]
    }
   ],
   "source": [
    "lib = arcl.Library('uber-library')\n",
    "lib.get_library_path_list()"
   ]
  },
  {
   "cell_type": "code",
   "execution_count": 2,
   "id": "2b939a17-e139-4aef-bab8-e812b9bef6f7",
   "metadata": {},
   "outputs": [
    {
     "data": {
      "text/html": [
       "<div>\n",
       "<style scoped>\n",
       "    .dataframe tbody tr th:only-of-type {\n",
       "        vertical-align: middle;\n",
       "    }\n",
       "\n",
       "    .dataframe tbody tr th {\n",
       "        vertical-align: top;\n",
       "    }\n",
       "\n",
       "    .dataframe thead th {\n",
       "        text-align: right;\n",
       "    }\n",
       "</style>\n",
       "<table border=\"1\" class=\"dataframe\">\n",
       "  <thead>\n",
       "    <tr style=\"text-align: right;\">\n",
       "      <th>id</th>\n",
       "      <th>&lt;class 'click.core.Group'&gt;</th>\n",
       "    </tr>\n",
       "  </thead>\n",
       "  <tbody>\n",
       "    <tr>\n",
       "      <th>add_help_option</th>\n",
       "      <td>True</td>\n",
       "    </tr>\n",
       "    <tr>\n",
       "      <th>allow_extra_args</th>\n",
       "      <td>True</td>\n",
       "    </tr>\n",
       "    <tr>\n",
       "      <th>allow_interspersed_args</th>\n",
       "      <td>False</td>\n",
       "    </tr>\n",
       "    <tr>\n",
       "      <th>chain</th>\n",
       "      <td>False</td>\n",
       "    </tr>\n",
       "    <tr>\n",
       "      <th>commands</th>\n",
       "      <td>{'open-library': &lt;Command open-library&gt;, 'save...</td>\n",
       "    </tr>\n",
       "    <tr>\n",
       "      <th>context_settings</th>\n",
       "      <td>{}</td>\n",
       "    </tr>\n",
       "    <tr>\n",
       "      <th>deprecated</th>\n",
       "      <td>False</td>\n",
       "    </tr>\n",
       "    <tr>\n",
       "      <th>help</th>\n",
       "      <td>CLI for managing bibliographic entries.</td>\n",
       "    </tr>\n",
       "    <tr>\n",
       "      <th>hidden</th>\n",
       "      <td>False</td>\n",
       "    </tr>\n",
       "    <tr>\n",
       "      <th>ignore_unknown_options</th>\n",
       "      <td>False</td>\n",
       "    </tr>\n",
       "    <tr>\n",
       "      <th>invoke_without_command</th>\n",
       "      <td>False</td>\n",
       "    </tr>\n",
       "    <tr>\n",
       "      <th>name</th>\n",
       "      <td>entry</td>\n",
       "    </tr>\n",
       "    <tr>\n",
       "      <th>no_args_is_help</th>\n",
       "      <td>True</td>\n",
       "    </tr>\n",
       "    <tr>\n",
       "      <th>options_metavar</th>\n",
       "      <td>[OPTIONS]</td>\n",
       "    </tr>\n",
       "    <tr>\n",
       "      <th>params</th>\n",
       "      <td>[]</td>\n",
       "    </tr>\n",
       "    <tr>\n",
       "      <th>subcommand_metavar</th>\n",
       "      <td>COMMAND [ARGS]...</td>\n",
       "    </tr>\n",
       "  </tbody>\n",
       "</table>\n",
       "</div>"
      ],
      "text/plain": [
       "id                                              <class 'click.core.Group'>\n",
       "add_help_option                                                       True\n",
       "allow_extra_args                                                      True\n",
       "allow_interspersed_args                                              False\n",
       "chain                                                                False\n",
       "commands                 {'open-library': <Command open-library>, 'save...\n",
       "context_settings                                                        {}\n",
       "deprecated                                                           False\n",
       "help                               CLI for managing bibliographic entries.\n",
       "hidden                                                               False\n",
       "ignore_unknown_options                                               False\n",
       "invoke_without_command                                               False\n",
       "name                                                                 entry\n",
       "no_args_is_help                                                       True\n",
       "options_metavar                                                  [OPTIONS]\n",
       "params                                                                  []\n",
       "subcommand_metavar                                       COMMAND [ARGS]..."
      ]
     },
     "execution_count": 2,
     "metadata": {},
     "output_type": "execute_result"
    },
    {
     "name": "stdout",
     "output_type": "stream",
     "text": [
      "time: 15 ms (started: 2025-05-30 22:11:32 +01:00)\n"
     ]
    }
   ],
   "source": [
    "arcu.info(cli.entry)"
   ]
  },
  {
   "cell_type": "code",
   "execution_count": 7,
   "id": "31a3bdda-a789-43e4-bc20-32adcf4ae01c",
   "metadata": {},
   "outputs": [
    {
     "name": "stdout",
     "output_type": "stream",
     "text": [
      "time: 109 ms (started: 2025-05-30 22:12:17 +01:00)\n"
     ]
    }
   ],
   "source": [
    "cli.entry(args=['open-library', 'uber-library'], standalone_mode=False)"
   ]
  },
  {
   "cell_type": "code",
   "execution_count": 3,
   "id": "35a9450e-ad5e-4237-ba83-c668767f6743",
   "metadata": {},
   "outputs": [
    {
     "name": "stdout",
     "output_type": "stream",
     "text": [
      "┍━━━━━━━━━━━━━━━━━━━━━━━━━━━━━━┑\n",
      "│ Library                      │\n",
      "┝━━━━━━━━━━━━━━━━━━━━━━━━━━━━━━┥\n",
      "│ books.archivum-config        │\n",
      "├──────────────────────────────┤\n",
      "│ uber-library.archivum-config │\n",
      "┕━━━━━━━━━━━━━━━━━━━━━━━━━━━━━━┙\n",
      "time: 31 ms (started: 2025-05-30 22:43:55 +01:00)\n"
     ]
    }
   ],
   "source": [
    "cli.entry(args=[\"list-libraries\"], standalone_mode=False)"
   ]
  },
  {
   "cell_type": "code",
   "execution_count": 4,
   "id": "2823ff56-01af-4866-bb00-03e11408b764",
   "metadata": {},
   "outputs": [
    {
     "name": "stdout",
     "output_type": "stream",
     "text": [
      "┍━━━━━━━━━━━━━━┯━━━━━━━━━━━━━━━━━━━━━━━━━━━━━━━━━━━━━━━━┯━━━━━━━━━━━━━━━━━━━━━━━━━━━━━━━━━━┯━━━━━━━━━━━━━━━━┯━━━━━━━━━━━━━━━━━━━━━┯━━━━━━━━━━━━━┑\n",
      "│ name         │ description                            │ bibtex_file                      │ pdf_dir_name   │ text_dir_name       │ extractor   │\n",
      "┝━━━━━━━━━━━━━━┿━━━━━━━━━━━━━━━━━━━━━━━━━━━━━━━━━━━━━━━━┿━━━━━━━━━━━━━━━━━━━━━━━━━━━━━━━━━━┿━━━━━━━━━━━━━━━━┿━━━━━━━━━━━━━━━━━━━━━┿━━━━━━━━━━━━━┥\n",
      "│ books        │ downloaded books                       │ \\S\\Telos\\biblio\\books-test.bib   │ \\S\\BOOKS       │ \\temp\\pdf-full-text │ pdftotext   │\n",
      "├──────────────┼────────────────────────────────────────┼──────────────────────────────────┼────────────────┼─────────────────────┼─────────────┤\n",
      "│ Uber Library │ Mendeley port from May 2025 plus books │ \\S\\Telos\\biblio\\uber-library.bib │ \\S\\Library     │ \\temp\\pdf-full-text │ pdftotext   │\n",
      "┕━━━━━━━━━━━━━━┷━━━━━━━━━━━━━━━━━━━━━━━━━━━━━━━━━━━━━━━━┷━━━━━━━━━━━━━━━━━━━━━━━━━━━━━━━━━━┷━━━━━━━━━━━━━━━━┷━━━━━━━━━━━━━━━━━━━━━┷━━━━━━━━━━━━━┙\n",
      "time: 47 ms (started: 2025-05-30 22:43:58 +01:00)\n"
     ]
    }
   ],
   "source": [
    "cli.entry(args=[\"list-libraries\", \"-d\"], standalone_mode=False)"
   ]
  },
  {
   "cell_type": "code",
   "execution_count": 5,
   "id": "a837e4c2-a159-40cc-9c2a-2c5fd60a6954",
   "metadata": {},
   "outputs": [
    {
     "name": "stdout",
     "output_type": "stream",
     "text": [
      "time: 31 ms (started: 2025-05-30 22:44:00 +01:00)\n"
     ]
    }
   ],
   "source": [
    "cli.entry(args=['open-library', 'uber-library'], standalone_mode=False)"
   ]
  },
  {
   "cell_type": "code",
   "execution_count": 6,
   "id": "61756150-90f0-420c-bfe4-c8f1a36b5f63",
   "metadata": {},
   "outputs": [
    {
     "name": "stdout",
     "output_type": "stream",
     "text": [
      "┍━━━━━━━━━━━━━┯━━━━━━━━━━━━━━┯━━━━━━━━━━━━━┑\n",
      "│ index       │   references │   documents │\n",
      "┝━━━━━━━━━━━━━┿━━━━━━━━━━━━━━┿━━━━━━━━━━━━━┥\n",
      "│ objects     │        6,118 │       6,132 │\n",
      "├─────────────┼──────────────┼─────────────┤\n",
      "│ no children │          167 │         156 │\n",
      "├─────────────┼──────────────┼─────────────┤\n",
      "│ children    │        5,951 │       5,976 │\n",
      "├─────────────┼──────────────┼─────────────┤\n",
      "│ 1 child     │        5,833 │       5,883 │\n",
      "├─────────────┼──────────────┼─────────────┤\n",
      "│ 2 children  │          108 │          86 │\n",
      "├─────────────┼──────────────┼─────────────┤\n",
      "│ 3 children  │           10 │           4 │\n",
      "├─────────────┼──────────────┼─────────────┤\n",
      "│ 4+ children │            0 │           3 │\n",
      "┕━━━━━━━━━━━━━┷━━━━━━━━━━━━━━┷━━━━━━━━━━━━━┙\n",
      "time: 500 ms (started: 2025-05-30 22:44:01 +01:00)\n"
     ]
    }
   ],
   "source": [
    "cli.entry(args=['get-library-stats'], standalone_mode=False)"
   ]
  },
  {
   "cell_type": "code",
   "execution_count": 21,
   "id": "850b66be-d4ea-451b-9916-eedb06497baf",
   "metadata": {},
   "outputs": [
    {
     "name": "stdout",
     "output_type": "stream",
     "text": [
      "┍━━━━━━━━━━━━━━━┯━━━━━━━━━━━━┯━━━━━━━━━━━┑\n",
      "│ index         │   distinct │   missing │\n",
      "┝━━━━━━━━━━━━━━━┿━━━━━━━━━━━━┿━━━━━━━━━━━┥\n",
      "│ tag           │      6,118 │         0 │\n",
      "├───────────────┼────────────┼───────────┤\n",
      "│ title         │      5,902 │         0 │\n",
      "├───────────────┼────────────┼───────────┤\n",
      "│ author        │      4,662 │         5 │\n",
      "├───────────────┼────────────┼───────────┤\n",
      "│ pages         │      2,749 │     2,233 │\n",
      "├───────────────┼────────────┼───────────┤\n",
      "│ doi           │      2,539 │     3,431 │\n",
      "├───────────────┼────────────┼───────────┤\n",
      "│ url           │      1,387 │     4,672 │\n",
      "├───────────────┼────────────┼───────────┤\n",
      "│ journal       │      1,225 │     2,643 │\n",
      "├───────────────┼────────────┼───────────┤\n",
      "│ volume        │        454 │     3,143 │\n",
      "├───────────────┼────────────┼───────────┤\n",
      "│ number        │        371 │     2,934 │\n",
      "├───────────────┼────────────┼───────────┤\n",
      "│ booktitle     │        241 │     5,842 │\n",
      "├───────────────┼────────────┼───────────┤\n",
      "│ mendeley-tags │        187 │     4,425 │\n",
      "├───────────────┼────────────┼───────────┤\n",
      "│ publisher     │        169 │     5,579 │\n",
      "├───────────────┼────────────┼───────────┤\n",
      "│ arc-citations │        144 │     5,915 │\n",
      "├───────────────┼────────────┼───────────┤\n",
      "│ institution   │        108 │     5,983 │\n",
      "├───────────────┼────────────┼───────────┤\n",
      "│ year          │        100 │       256 │\n",
      "├───────────────┼────────────┼───────────┤\n",
      "│ address       │         39 │     6,029 │\n",
      "├───────────────┼────────────┼───────────┤\n",
      "│ editor        │         14 │     6,105 │\n",
      "├───────────────┼────────────┼───────────┤\n",
      "│ edition       │         13 │     6,053 │\n",
      "├───────────────┼────────────┼───────────┤\n",
      "│ month         │         13 │     5,939 │\n",
      "├───────────────┼────────────┼───────────┤\n",
      "│ type          │         10 │         0 │\n",
      "├───────────────┼────────────┼───────────┤\n",
      "│ arc-source    │          1 │         0 │\n",
      "┕━━━━━━━━━━━━━━━┷━━━━━━━━━━━━┷━━━━━━━━━━━┙\n",
      "time: 63 ms (started: 2025-05-30 22:14:58 +01:00)\n"
     ]
    }
   ],
   "source": [
    "cli.entry(args=['open-library', 'uber-library'], standalone_mode=False)\n",
    "cli.entry(args=['get-distinct-values', ], standalone_mode=False)"
   ]
  },
  {
   "cell_type": "code",
   "execution_count": 22,
   "id": "a4fe23af-583a-41df-a241-e5283dd107ac",
   "metadata": {},
   "outputs": [
    {
     "name": "stdout",
     "output_type": "stream",
     "text": [
      "┍━━━━━━━━━━━━━━━━━━━━━━━━┯━━━━━━━━━┑\n",
      "│ author                 │   count │\n",
      "┝━━━━━━━━━━━━━━━━━━━━━━━━┿━━━━━━━━━┥\n",
      "│ {Aon Benfield}         │      98 │\n",
      "├────────────────────────┼─────────┤\n",
      "│ Wang, Ruodu            │      78 │\n",
      "├────────────────────────┼─────────┤\n",
      "│ Mildenhall, Stephen J. │      56 │\n",
      "├────────────────────────┼─────────┤\n",
      "│ Delbaen, Freddy        │      49 │\n",
      "├────────────────────────┼─────────┤\n",
      "│ Marinacci, Massimo     │      48 │\n",
      "├────────────────────────┼─────────┤\n",
      "│ Embrechts, Paul        │      45 │\n",
      "├────────────────────────┼─────────┤\n",
      "│ Cummins, J. David      │      44 │\n",
      "├────────────────────────┼─────────┤\n",
      "│ Denuit, Michel M.      │      38 │\n",
      "├────────────────────────┼─────────┤\n",
      "│ {A. M. Best}           │      37 │\n",
      "├────────────────────────┼─────────┤\n",
      "│ Aon plc                │      36 │\n",
      "├────────────────────────┼─────────┤\n",
      "│ Bauer, Daniel          │      36 │\n",
      "├────────────────────────┼─────────┤\n",
      "│ Ghossoub, Mario        │      33 │\n",
      "├────────────────────────┼─────────┤\n",
      "│ Dhaene, Jan            │      31 │\n",
      "├────────────────────────┼─────────┤\n",
      "│ Zanjani, George H.     │      30 │\n",
      "├────────────────────────┼─────────┤\n",
      "│ Major, John A.         │      29 │\n",
      "├────────────────────────┼─────────┤\n",
      "│ Boonen, Tim J.         │      27 │\n",
      "├────────────────────────┼─────────┤\n",
      "│ Tsanakas, Andreas      │      26 │\n",
      "├────────────────────────┼─────────┤\n",
      "│ Maccheroni, Fabio      │      26 │\n",
      "├────────────────────────┼─────────┤\n",
      "│ Bar-Lev, Shaul K.      │      26 │\n",
      "├────────────────────────┼─────────┤\n",
      "│ Wüthrich, Mario V.     │      25 │\n",
      "┕━━━━━━━━━━━━━━━━━━━━━━━━┷━━━━━━━━━┙\n",
      "time: 297 ms (started: 2025-05-30 22:15:03 +01:00)\n"
     ]
    }
   ],
   "source": [
    "cli.entry(args=['open-library', 'uber-library'], standalone_mode=False)\n",
    "cli.entry(args=['get-distinct-values', '-f author'], standalone_mode=False)"
   ]
  },
  {
   "cell_type": "code",
   "execution_count": 23,
   "id": "99e958dd-5a4f-4148-87fa-ad3318729ea9",
   "metadata": {},
   "outputs": [
    {
     "name": "stdout",
     "output_type": "stream",
     "text": [
      "22:15:10 | archivum.cli.merge_library     | INFO     | Merging othername into Library(uber-library.archivum-config)\n",
      "\u001b[36m\u001b[22m22:15:10 | archivum.cli.merge_library     | TODO     | Implement merge_library!\u001b[0m\n",
      "time: 172 ms (started: 2025-05-30 22:15:10 +01:00)\n"
     ]
    }
   ],
   "source": [
    "cli.entry(args=['merge-library', 'othername'], standalone_mode=False)"
   ]
  },
  {
   "cell_type": "code",
   "execution_count": 24,
   "id": "f988af01-d8ff-4ddc-a75e-0be22bcedaa6",
   "metadata": {},
   "outputs": [
    {
     "name": "stdout",
     "output_type": "stream",
     "text": [
      "22:15:12 | archivum.cli.new               | INFO     | Scanning directory C:\\Users\\steve\\Downloads\n",
      "┍━━━━━┯━━━━━━━━━━━━━━━━━━━━━━━━━━━━━━━━━━━━━━━━━━━━━━━━━━━━━━━━━━━━━━┑\n",
      "│   n │ document                                                     │\n",
      "┝━━━━━┿━━━━━━━━━━━━━━━━━━━━━━━━━━━━━━━━━━━━━━━━━━━━━━━━━━━━━━━━━━━━━━┥\n",
      "│   1 │ 1-s2.0-S016766872500037X-main.pdf                            │\n",
      "├─────┼──────────────────────────────────────────────────────────────┤\n",
      "│   2 │ 1-s2.0-S0167668725000599-main.pdf                            │\n",
      "├─────┼──────────────────────────────────────────────────────────────┤\n",
      "│   3 │ 1176996608.pdf                                               │\n",
      "├─────┼──────────────────────────────────────────────────────────────┤\n",
      "│   4 │ 12-AAP857.pdf                                                │\n",
      "├─────┼──────────────────────────────────────────────────────────────┤\n",
      "│   5 │ 2023-Dhaene-Robert-Cheung-Denuit.pdf                         │\n",
      "├─────┼──────────────────────────────────────────────────────────────┤\n",
      "│   6 │ 2305.17743v2.pdf                                             │\n",
      "├─────┼──────────────────────────────────────────────────────────────┤\n",
      "│   7 │ 3_Obstfeld.pdf                                               │\n",
      "├─────┼──────────────────────────────────────────────────────────────┤\n",
      "│   8 │ 9309211v2.pdf                                                │\n",
      "├─────┼──────────────────────────────────────────────────────────────┤\n",
      "│   9 │ AlphaEvolve.pdf                                              │\n",
      "├─────┼──────────────────────────────────────────────────────────────┤\n",
      "│  10 │ CT 12 10738 - Legacy Filing Packet 08-14-2012 {AFM ap}.pdf   │\n",
      "├─────┼──────────────────────────────────────────────────────────────┤\n",
      "│  11 │ Explanatory Memorandum.pdf                                   │\n",
      "├─────┼──────────────────────────────────────────────────────────────┤\n",
      "│  12 │ Gaussian emergence - accompanying note.pdf                   │\n",
      "├─────┼──────────────────────────────────────────────────────────────┤\n",
      "│  13 │ Gaussian emergence for stochastic reserve risk modelling.pdf │\n",
      "├─────┼──────────────────────────────────────────────────────────────┤\n",
      "│  14 │ gross-zagier.pdf                                             │\n",
      "├─────┼──────────────────────────────────────────────────────────────┤\n",
      "│  15 │ NJ HO 2024 Filing.pdf                                        │\n",
      "├─────┼──────────────────────────────────────────────────────────────┤\n",
      "│  16 │ rpm_2010_handouts_rr3-appel.pdf                              │\n",
      "├─────┼──────────────────────────────────────────────────────────────┤\n",
      "│  17 │ ssrn-2143344.pdf                                             │\n",
      "├─────┼──────────────────────────────────────────────────────────────┤\n",
      "│  18 │ ssrn-4424087.pdf                                             │\n",
      "├─────┼──────────────────────────────────────────────────────────────┤\n",
      "│  19 │ ssrn-955472.pdf                                              │\n",
      "├─────┼──────────────────────────────────────────────────────────────┤\n",
      "│  20 │ Tanner-Wong-1987.pdf                                         │\n",
      "├─────┼──────────────────────────────────────────────────────────────┤\n",
      "│  21 │ Units of Risk.pdf                                            │\n",
      "┕━━━━━┷━━━━━━━━━━━━━━━━━━━━━━━━━━━━━━━━━━━━━━━━━━━━━━━━━━━━━━━━━━━━━━┙\n",
      "time: 47 ms (started: 2025-05-30 22:15:12 +01:00)\n"
     ]
    }
   ],
   "source": [
    "cli.entry(args=['new'], standalone_mode=False)"
   ]
  },
  {
   "cell_type": "code",
   "execution_count": 25,
   "id": "0d74eddf-ebed-45c5-b450-1fec84069b73",
   "metadata": {},
   "outputs": [
    {
     "name": "stdout",
     "output_type": "stream",
     "text": [
      "22:15:19 | archivum.cli.close_library     | INFO     | Closing library Library(uber-library.archivum-config)\n",
      "\u001b[36m\u001b[22m22:15:19 | archivum.cli.close_library     | TODO     | SHOULD WE SAVE on CLOSE??\u001b[0m\n",
      "22:15:19 | archivum.library.close         | TODO     | Library.close()\n",
      "time: 47 ms (started: 2025-05-30 22:15:19 +01:00)\n"
     ]
    }
   ],
   "source": [
    "# cli.entry(args=['open-library', 'uber-library'], standalone_mode=False)\n",
    "cli.entry(args=['close-library', ], standalone_mode=False)\n",
    "cli.entry(args=['get-library-stats'], standalone_mode=False)"
   ]
  },
  {
   "cell_type": "code",
   "execution_count": 82,
   "id": "e6ef9105-a4e0-49b3-9493-b38e995951a2",
   "metadata": {},
   "outputs": [
    {
     "name": "stdout",
     "output_type": "stream",
     "text": [
      "112.0 {'name': 10.0, 'description': 32.0, 'bibtex_file': 32.0, 'pdf_dir_name': 10.0, 'text_dir_name': 19.0, 'extractor': 9.0}\n",
      "┍━━━━━━━━━┯━━━━━━━━━━━━━━━━━━━━━━━━━━━━━━━━━━┯━━━━━━━━━━━━━━━━━━━━━━━━━━━━━━━━━━┯━━━━━━━━━━━━━━━━┯━━━━━━━━━━━━━━━━━━━━━┯━━━━━━━━━━━━━┑\n",
      "│ name    │ description                      │ bibtex_file                      │ pdf_dir_name   │ text_dir_name       │ extractor   │\n",
      "┝━━━━━━━━━┿━━━━━━━━━━━━━━━━━━━━━━━━━━━━━━━━━━┿━━━━━━━━━━━━━━━━━━━━━━━━━━━━━━━━━━┿━━━━━━━━━━━━━━━━┿━━━━━━━━━━━━━━━━━━━━━┿━━━━━━━━━━━━━┥\n",
      "│ books   │ downloaded books                 │ \\S\\Telos\\biblio\\books-test.bib   │ \\S\\BOOKS       │ \\temp\\pdf-full-text │ pdftotext   │\n",
      "├─────────┼──────────────────────────────────┼──────────────────────────────────┼────────────────┼─────────────────────┼─────────────┤\n",
      "│ Uber    │ Mendeley port from May 2025 plus │ \\S\\Telos\\biblio\\uber-library.bib │ \\S\\Library     │ \\temp\\pdf-full-text │ pdftotext   │\n",
      "│ Library │ books                            │                                  │                │                     │             │\n",
      "┕━━━━━━━━━┷━━━━━━━━━━━━━━━━━━━━━━━━━━━━━━━━━━┷━━━━━━━━━━━━━━━━━━━━━━━━━━━━━━━━━━┷━━━━━━━━━━━━━━━━┷━━━━━━━━━━━━━━━━━━━━━┷━━━━━━━━━━━━━┙\n",
      "time: 31 ms (started: 2025-05-30 12:52:53 +01:00)\n"
     ]
    }
   ],
   "source": [
    "cli.entry(args=[\"list-libraries\", '-d'], standalone_mode=False)"
   ]
  },
  {
   "cell_type": "code",
   "execution_count": 26,
   "id": "21ec4ccd-0ebc-4e9f-8131-f525fa3dd51f",
   "metadata": {},
   "outputs": [
    {
     "name": "stdout",
     "output_type": "stream",
     "text": [
      "┍━━━━━━━━━━━━┯━━━━━━━━━━━━━┯━━━━━━━━━┯━━━━━━━━┯━━━━━━━━━━━━━━━━━┯━━━━━━━━━━━━━━━━━━━━━━━━━━━━━━━━━━━━━━━━━━━━━━━┯━━━━━━━━━━━━┯━━━━━━━━━━━━━━━┑\n",
      "│    mod     │ tag         │ type    │   year │ author          │ title                                         │   create   │ tpath         │\n",
      "┝━━━━━━━━━━━━┿━━━━━━━━━━━━━┿━━━━━━━━━┿━━━━━━━━┿━━━━━━━━━━━━━━━━━┿━━━━━━━━━━━━━━━━━━━━━━━━━━━━━━━━━━━━━━━━━━━━━━━┿━━━━━━━━━━━━┿━━━━━━━━━━━━━━━┥\n",
      "│ 2025-05-13 │ Schmidt2003 │ article │   2003 │ Schmidt,        │ The true invariant of an arbitrage free       │ 2025-05-13 │ Schmidt       │\n",
      "│            │             │         │        │ Anatoly B.      │ portfolio                                     │            │               │\n",
      "├────────────┼─────────────┼─────────┼────────┼─────────────────┼───────────────────────────────────────────────┼────────────┼───────────────┤\n",
      "│ 2025-05-12 │ Tanner1987  │ article │   1987 │ Tanner, Martin  │ The Calculation of Posterior Distributions by │ 2025-05-12 │ Tanner, Wong  │\n",
      "│            │             │         │        │ A.              │ Data Augmentation                             │            │               │\n",
      "├────────────┼─────────────┼─────────┼────────┼─────────────────┼───────────────────────────────────────────────┼────────────┼───────────────┤\n",
      "│ 2025-05-12 │ Tanner1987  │ article │   1987 │ Wong, Wing Hung │ The Calculation of Posterior Distributions by │ 2025-05-12 │ Tanner, Wong  │\n",
      "│            │             │         │        │                 │ Data Augmentation                             │            │               │\n",
      "├────────────┼─────────────┼─────────┼────────┼─────────────────┼───────────────────────────────────────────────┼────────────┼───────────────┤\n",
      "│ 2025-05-12 │ Datta2001   │ article │   2001 │ Datta, Gauri    │ Some New Results on Probability Matching      │ 2025-05-12 │ Datta, Ghosh, │\n",
      "│            │             │         │        │ Sankar          │ Priors                                        │            │ Mukerjee      │\n",
      "├────────────┼─────────────┼─────────┼────────┼─────────────────┼───────────────────────────────────────────────┼────────────┼───────────────┤\n",
      "│ 2025-05-12 │ Datta2001   │ article │   2001 │ Ghosh, Malay    │ Some New Results on Probability Matching      │ 2025-05-12 │ Datta, Ghosh, │\n",
      "│            │             │         │        │                 │ Priors                                        │            │ Mukerjee      │\n",
      "┕━━━━━━━━━━━━┷━━━━━━━━━━━━━┷━━━━━━━━━┷━━━━━━━━┷━━━━━━━━━━━━━━━━━┷━━━━━━━━━━━━━━━━━━━━━━━━━━━━━━━━━━━━━━━━━━━━━━━┷━━━━━━━━━━━━┷━━━━━━━━━━━━━━━┙\n",
      "time: 422 ms (started: 2025-05-30 22:16:03 +01:00)\n"
     ]
    }
   ],
   "source": [
    "result = lib.database.querex('top 5 recent verbose')\n",
    "print(fGT(result))"
   ]
  },
  {
   "cell_type": "code",
   "execution_count": 29,
   "id": "93d88d24-06da-4861-90a4-e8203009457e",
   "metadata": {},
   "outputs": [
    {
     "name": "stdout",
     "output_type": "stream",
     "text": [
      "┍━━━━━━━━━━━━┯━━━━━━━━━━━━━━━┯━━━━━━━━━┯━━━━━━━━┯━━━━━━━━━━┯━━━━━━━━━━━━━━━━━━━━━━━━━━━━━━━━━━━━━━━━━━━━━━━━━━━━━━━┯━━━━━━━━━━━━┯━━━━━━━━━━━━━━━━━┑\n",
      "│    mod     │ tag           │ type    │   year │ author   │ title                                                 │   create   │ tpath           │\n",
      "┝━━━━━━━━━━━━┿━━━━━━━━━━━━━━━┿━━━━━━━━━┿━━━━━━━━┿━━━━━━━━━━┿━━━━━━━━━━━━━━━━━━━━━━━━━━━━━━━━━━━━━━━━━━━━━━━━━━━━━━━┿━━━━━━━━━━━━┿━━━━━━━━━━━━━━━━━┥\n",
      "│ 2025-01-02 │ Liu2024       │ article │   2024 │ Wang,    │ Quantiles under ambiguity and risk sharing            │ 2025-01-02 │ Liu, Mao, Wang  │\n",
      "│            │               │         │        │ Ruodu    │                                                       │            │                 │\n",
      "├────────────┼───────────────┼─────────┼────────┼──────────┼───────────────────────────────────────────────────────┼────────────┼─────────────────┤\n",
      "│ 2024-12-06 │ Fadina2024    │ article │   2024 │ Wang,    │ A framework for measures of risk under uncertainty    │ 2024-12-06 │ Fadina, Liu,    │\n",
      "│            │               │         │        │ Ruodu    │                                                       │            │ Wang            │\n",
      "├────────────┼───────────────┼─────────┼────────┼──────────┼───────────────────────────────────────────────────────┼────────────┼─────────────────┤\n",
      "│ 2024-12-06 │ Pesenti2024   │ article │   2024 │ Wang,    │ Optimizing distortion riskmetrics with distributional │ 2024-12-06 │ Pesenti, Wang,  │\n",
      "│            │               │         │        │ Ruodu    │ uncertainty                                           │            │ Wang            │\n",
      "├────────────┼───────────────┼─────────┼────────┼──────────┼───────────────────────────────────────────────────────┼────────────┼─────────────────┤\n",
      "│ 2024-12-06 │ Koike2024     │ article │   2024 │ Wang,    │ Joint Mixability and Notions of Negative Dependence   │ 2024-12-06 │ Koike, Lin,     │\n",
      "│            │               │         │        │ Ruodu    │                                                       │            │ Wang            │\n",
      "├────────────┼───────────────┼─────────┼────────┼──────────┼───────────────────────────────────────────────────────┼────────────┼─────────────────┤\n",
      "│ 2024-12-06 │ Shen2024      │ article │   2024 │ Wang,    │ Partially Law-Invariant Risk Measures                 │ 2024-12-06 │ Shen, Van       │\n",
      "│            │               │         │        │ Ruodu    │                                                       │            │ Oosten, Wang    │\n",
      "├────────────┼───────────────┼─────────┼────────┼──────────┼───────────────────────────────────────────────────────┼────────────┼─────────────────┤\n",
      "│ 2024-12-06 │ Guan2024      │ article │   2024 │ Wang,    │ A new characterization of second-order stochastic     │ 2024-12-06 │ Guan, Huang,    │\n",
      "│            │               │         │        │ Ruodu    │ dominance                                             │            │ Wang            │\n",
      "├────────────┼───────────────┼─────────┼────────┼──────────┼───────────────────────────────────────────────────────┼────────────┼─────────────────┤\n",
      "│ 2024-12-06 │ Chen2024a     │ article │   2024 │ Wang,    │ Technical Note—An Unexpected Stochastic Dominance:    │ 2024-12-06 │ Chen,           │\n",
      "│            │               │         │        │ Ruodu    │ Pareto Distributions, Dependence, and Diversification │            │ Embrechts, Wang │\n",
      "├────────────┼───────────────┼─────────┼────────┼──────────┼───────────────────────────────────────────────────────┼────────────┼─────────────────┤\n",
      "│ 2024-12-06 │ Chen2024b     │ article │   2024 │ Wang,    │ Risk exchange under infinite-mean Pareto models       │ 2024-12-06 │ Chen,           │\n",
      "│            │               │         │        │ Ruodu    │                                                       │            │ Embrechts, Wang │\n",
      "├────────────┼───────────────┼─────────┼────────┼──────────┼───────────────────────────────────────────────────────┼────────────┼─────────────────┤\n",
      "│ 2024-12-06 │ Huang2024     │ article │   2024 │ Wang,    │ Coherent risk measures and uniform integrability      │ 2024-12-06 │ Huang, Wang     │\n",
      "│            │               │         │        │ Ruodu    │                                                       │            │                 │\n",
      "├────────────┼───────────────┼─────────┼────────┼──────────┼───────────────────────────────────────────────────────┼────────────┼─────────────────┤\n",
      "│ 2024-12-06 │ Ghossoub2024d │ article │   2024 │ Wang,    │ Allocation Mechanisms in Decentralized Exchange       │ 2024-12-06 │ Ghossoub,       │\n",
      "│            │               │         │        │ Ruodu    │ Markets with Frictions                                │            │ Principi, Wang  │\n",
      "┕━━━━━━━━━━━━┷━━━━━━━━━━━━━━━┷━━━━━━━━━┷━━━━━━━━┷━━━━━━━━━━┷━━━━━━━━━━━━━━━━━━━━━━━━━━━━━━━━━━━━━━━━━━━━━━━━━━━━━━━┷━━━━━━━━━━━━┷━━━━━━━━━━━━━━━━━┙\n",
      "time: 94 ms (started: 2025-05-30 22:18:25 +01:00)\n"
     ]
    }
   ],
   "source": [
    "f = fGT(lib.querex('top 10 recent where year == 2024 !/Wang, R/ sort title'))\n",
    "print(f)"
   ]
  },
  {
   "cell_type": "code",
   "execution_count": 30,
   "id": "666fa7ac-9138-4050-ab4c-299ce103ec5a",
   "metadata": {},
   "outputs": [
    {
     "data": {
      "text/html": [
       "<div>\n",
       "<style scoped>\n",
       "    .dataframe tbody tr th:only-of-type {\n",
       "        vertical-align: middle;\n",
       "    }\n",
       "\n",
       "    .dataframe tbody tr th {\n",
       "        vertical-align: top;\n",
       "    }\n",
       "\n",
       "    .dataframe thead th {\n",
       "        text-align: right;\n",
       "    }\n",
       "</style>\n",
       "<table border=\"1\" class=\"dataframe\">\n",
       "  <thead>\n",
       "    <tr style=\"text-align: right;\">\n",
       "      <th></th>\n",
       "      <th>break_penalties</th>\n",
       "      <th>breakable_cols</th>\n",
       "      <th>min_possible_widths</th>\n",
       "      <th>ideal_widths</th>\n",
       "      <th>col_widths</th>\n",
       "      <th>headers_cw</th>\n",
       "      <th>headers_ideal</th>\n",
       "      <th>headers_min</th>\n",
       "    </tr>\n",
       "  </thead>\n",
       "  <tbody>\n",
       "    <tr>\n",
       "      <th>mod</th>\n",
       "      <td>5.0</td>\n",
       "      <td>False</td>\n",
       "      <td>10.0</td>\n",
       "      <td>10.0</td>\n",
       "      <td>10.0</td>\n",
       "      <td>3.0</td>\n",
       "      <td>3.0</td>\n",
       "      <td>3.0</td>\n",
       "    </tr>\n",
       "    <tr>\n",
       "      <th>tag</th>\n",
       "      <td>1.0</td>\n",
       "      <td>True</td>\n",
       "      <td>13.0</td>\n",
       "      <td>13.0</td>\n",
       "      <td>13.0</td>\n",
       "      <td>3.0</td>\n",
       "      <td>3.0</td>\n",
       "      <td>3.0</td>\n",
       "    </tr>\n",
       "    <tr>\n",
       "      <th>type</th>\n",
       "      <td>1.0</td>\n",
       "      <td>True</td>\n",
       "      <td>7.0</td>\n",
       "      <td>7.0</td>\n",
       "      <td>7.0</td>\n",
       "      <td>4.0</td>\n",
       "      <td>4.0</td>\n",
       "      <td>4.0</td>\n",
       "    </tr>\n",
       "    <tr>\n",
       "      <th>year</th>\n",
       "      <td>1.0</td>\n",
       "      <td>True</td>\n",
       "      <td>4.0</td>\n",
       "      <td>4.0</td>\n",
       "      <td>4.0</td>\n",
       "      <td>4.0</td>\n",
       "      <td>4.0</td>\n",
       "      <td>4.0</td>\n",
       "    </tr>\n",
       "    <tr>\n",
       "      <th>author</th>\n",
       "      <td>1.0</td>\n",
       "      <td>True</td>\n",
       "      <td>5.0</td>\n",
       "      <td>11.0</td>\n",
       "      <td>8.0</td>\n",
       "      <td>6.0</td>\n",
       "      <td>6.0</td>\n",
       "      <td>6.0</td>\n",
       "    </tr>\n",
       "    <tr>\n",
       "      <th>title</th>\n",
       "      <td>1.0</td>\n",
       "      <td>True</td>\n",
       "      <td>16.0</td>\n",
       "      <td>104.0</td>\n",
       "      <td>53.0</td>\n",
       "      <td>5.0</td>\n",
       "      <td>5.0</td>\n",
       "      <td>5.0</td>\n",
       "    </tr>\n",
       "    <tr>\n",
       "      <th>create</th>\n",
       "      <td>5.0</td>\n",
       "      <td>False</td>\n",
       "      <td>10.0</td>\n",
       "      <td>10.0</td>\n",
       "      <td>10.0</td>\n",
       "      <td>6.0</td>\n",
       "      <td>6.0</td>\n",
       "      <td>6.0</td>\n",
       "    </tr>\n",
       "    <tr>\n",
       "      <th>tpath</th>\n",
       "      <td>1.0</td>\n",
       "      <td>True</td>\n",
       "      <td>9.0</td>\n",
       "      <td>24.0</td>\n",
       "      <td>15.0</td>\n",
       "      <td>5.0</td>\n",
       "      <td>5.0</td>\n",
       "      <td>5.0</td>\n",
       "    </tr>\n",
       "    <tr>\n",
       "      <th>total</th>\n",
       "      <td>16.0</td>\n",
       "      <td>6.0</td>\n",
       "      <td>74.0</td>\n",
       "      <td>183.0</td>\n",
       "      <td>120.0</td>\n",
       "      <td>36.0</td>\n",
       "      <td>36.0</td>\n",
       "      <td>36.0</td>\n",
       "    </tr>\n",
       "  </tbody>\n",
       "</table>\n",
       "</div>"
      ],
      "text/plain": [
       "        break_penalties breakable_cols  min_possible_widths  ideal_widths  \\\n",
       "mod                 5.0          False                 10.0          10.0   \n",
       "tag                 1.0           True                 13.0          13.0   \n",
       "type                1.0           True                  7.0           7.0   \n",
       "year                1.0           True                  4.0           4.0   \n",
       "author              1.0           True                  5.0          11.0   \n",
       "title               1.0           True                 16.0         104.0   \n",
       "create              5.0          False                 10.0          10.0   \n",
       "tpath               1.0           True                  9.0          24.0   \n",
       "total              16.0            6.0                 74.0         183.0   \n",
       "\n",
       "        col_widths  headers_cw  headers_ideal  headers_min  \n",
       "mod           10.0         3.0            3.0          3.0  \n",
       "tag           13.0         3.0            3.0          3.0  \n",
       "type           7.0         4.0            4.0          4.0  \n",
       "year           4.0         4.0            4.0          4.0  \n",
       "author         8.0         6.0            6.0          6.0  \n",
       "title         53.0         5.0            5.0          5.0  \n",
       "create        10.0         6.0            6.0          6.0  \n",
       "tpath         15.0         5.0            5.0          5.0  \n",
       "total        120.0        36.0           36.0         36.0  "
      ]
     },
     "execution_count": 30,
     "metadata": {},
     "output_type": "execute_result"
    },
    {
     "name": "stdout",
     "output_type": "stream",
     "text": [
      "time: 15 ms (started: 2025-05-30 22:18:33 +01:00)\n"
     ]
    }
   ],
   "source": [
    "f._debug_col_widths"
   ]
  },
  {
   "cell_type": "code",
   "execution_count": 31,
   "id": "04b1585c-da66-4095-99b2-1857be8be740",
   "metadata": {},
   "outputs": [
    {
     "name": "stdout",
     "output_type": "stream",
     "text": [
      "┍━━━━━━━━━━━━┯━━━━━━━━━━━━━━━━┯━━━━━━━━━━━━━┯━━━━━━━━┯━━━━━━━━━━┯━━━━━━━━━━━━━━━━━━━━━━━━━━━━━━━━━━━━━━━━━━━━━━━┯━━━━━━━━━━━━┯━━━━━━━━━━━━━━━━━━┑\n",
      "│    mod     │ tag            │ type        │   year │ author   │ title                                         │   create   │ tpath            │\n",
      "┝━━━━━━━━━━━━┿━━━━━━━━━━━━━━━━┿━━━━━━━━━━━━━┿━━━━━━━━┿━━━━━━━━━━┿━━━━━━━━━━━━━━━━━━━━━━━━━━━━━━━━━━━━━━━━━━━━━━━┿━━━━━━━━━━━━┿━━━━━━━━━━━━━━━━━━┥\n",
      "│ 2025-03-03 │ Cote2025       │ article     │   2025 │ Wang,    │ On convex order and supermodular order        │ 2025-03-03 │ Côté, Wang       │\n",
      "│            │                │             │        │ Ruodu    │ without finite mean                           │            │                  │\n",
      "├────────────┼────────────────┼─────────────┼────────┼──────────┼───────────────────────────────────────────────┼────────────┼──────────────────┤\n",
      "│ 2025-03-03 │ Chen2025a      │ unpublished │   2025 │ Wang,    │ Diversification for infinite-mean Pareto      │ 2025-03-03 │ Chen et al       │\n",
      "│            │                │             │        │ Ruodu    │ models without risk aversion                  │            │                  │\n",
      "├────────────┼────────────────┼─────────────┼────────┼──────────┼───────────────────────────────────────────────┼────────────┼──────────────────┤\n",
      "│ 2025-03-03 │ Han2023        │ article     │   2023 │ Wang,    │ Monotonic mean-deviation risk measures        │ 2025-03-03 │ Han, Wang, Wu    │\n",
      "│            │                │             │        │ Ruodu    │                                               │            │                  │\n",
      "├────────────┼────────────────┼─────────────┼────────┼──────────┼───────────────────────────────────────────────┼────────────┼──────────────────┤\n",
      "│ 2025-03-03 │ Maccheroni2023 │ book        │   2023 │ Wang,    │ Risk Aversion and Insurance Propensity        │ 2025-03-03 │ Maccheroni et al │\n",
      "│            │                │             │        │ Ruodu    │                                               │            │                  │\n",
      "├────────────┼────────────────┼─────────────┼────────┼──────────┼───────────────────────────────────────────────┼────────────┼──────────────────┤\n",
      "│ 2025-01-02 │ Liu2024        │ article     │   2024 │ Wang,    │ Quantiles under ambiguity and risk sharing    │ 2025-01-02 │ Liu, Mao, Wang   │\n",
      "│            │                │             │        │ Ruodu    │                                               │            │                  │\n",
      "├────────────┼────────────────┼─────────────┼────────┼──────────┼───────────────────────────────────────────────┼────────────┼──────────────────┤\n",
      "│ 2024-12-08 │ Shen2019       │ article     │   2019 │ Wang,    │ Distributional compatibility for change of    │ 2024-12-08 │ Shen et al       │\n",
      "│            │                │             │        │ Ruodu    │ measures                                      │            │                  │\n",
      "├────────────┼────────────────┼─────────────┼────────┼──────────┼───────────────────────────────────────────────┼────────────┼──────────────────┤\n",
      "│ 2024-12-07 │ Embrechts2021  │ article     │   2021 │ Wang,    │ Bayes risk, elicitability, and the Expected   │ 2024-12-07 │ Embrechts et al  │\n",
      "│            │                │             │        │ Ruodu    │ Shortfall                                     │            │                  │\n",
      "├────────────┼────────────────┼─────────────┼────────┼──────────┼───────────────────────────────────────────────┼────────────┼──────────────────┤\n",
      "│ 2024-12-07 │ Chen2022b      │ article     │   2022 │ Wang,    │ Risk aggregation under dependence uncertainty │ 2024-12-07 │ Chen, Lin, Wang  │\n",
      "│            │                │             │        │ Ruodu    │ and an order constraint                       │            │                  │\n",
      "├────────────┼────────────────┼─────────────┼────────┼──────────┼───────────────────────────────────────────────┼────────────┼──────────────────┤\n",
      "│ 2024-12-07 │ Embrechts2022  │ article     │   2022 │ Wang,    │ Robustness in the Optimization of Risk        │ 2024-12-07 │ Embrechts,       │\n",
      "│            │                │             │        │ Ruodu    │ Measures                                      │            │ Schied, Wang     │\n",
      "├────────────┼────────────────┼─────────────┼────────┼──────────┼───────────────────────────────────────────────┼────────────┼──────────────────┤\n",
      "│ 2024-12-07 │ Puccetti2019   │ article     │   2019 │ Wang,    │ Centers of probability measures without the   │ 2024-12-07 │ Puccetti et al   │\n",
      "│            │                │             │        │ Ruodu    │ mean                                          │            │                  │\n",
      "┕━━━━━━━━━━━━┷━━━━━━━━━━━━━━━━┷━━━━━━━━━━━━━┷━━━━━━━━┷━━━━━━━━━━┷━━━━━━━━━━━━━━━━━━━━━━━━━━━━━━━━━━━━━━━━━━━━━━━┷━━━━━━━━━━━━┷━━━━━━━━━━━━━━━━━━┙\n",
      "time: 109 ms (started: 2025-05-30 22:37:44 +01:00)\n"
     ]
    }
   ],
   "source": [
    "f = fGT(lib.database.querex('top 10 recent !/Wang, R/'))\n",
    "print(f)"
   ]
  },
  {
   "cell_type": "markdown",
   "id": "43f7940f-c95d-468d-87fe-44340c25c835",
   "metadata": {},
   "source": [
    "# New files"
   ]
  },
  {
   "cell_type": "code",
   "execution_count": 34,
   "id": "7993d774-0f67-49ab-8d2b-f5ab9956f66e",
   "metadata": {},
   "outputs": [
    {
     "data": {
      "text/html": [
       "<div>\n",
       "<style scoped>\n",
       "    .dataframe tbody tr th:only-of-type {\n",
       "        vertical-align: middle;\n",
       "    }\n",
       "\n",
       "    .dataframe tbody tr th {\n",
       "        vertical-align: top;\n",
       "    }\n",
       "\n",
       "    .dataframe thead th {\n",
       "        text-align: right;\n",
       "    }\n",
       "</style>\n",
       "<table border=\"1\" class=\"dataframe\">\n",
       "  <thead>\n",
       "    <tr style=\"text-align: right;\">\n",
       "      <th></th>\n",
       "      <th>n</th>\n",
       "      <th>document</th>\n",
       "      <th>path</th>\n",
       "    </tr>\n",
       "  </thead>\n",
       "  <tbody>\n",
       "    <tr>\n",
       "      <th>0</th>\n",
       "      <td>1</td>\n",
       "      <td>1-s2.0-S016766872500037X-main.pdf</td>\n",
       "      <td>C:\\Users\\steve\\Downloads\\1-s2.0-S0167668725000...</td>\n",
       "    </tr>\n",
       "    <tr>\n",
       "      <th>1</th>\n",
       "      <td>2</td>\n",
       "      <td>1-s2.0-S0167668725000599-main.pdf</td>\n",
       "      <td>C:\\Users\\steve\\Downloads\\1-s2.0-S0167668725000...</td>\n",
       "    </tr>\n",
       "    <tr>\n",
       "      <th>2</th>\n",
       "      <td>3</td>\n",
       "      <td>1176996608.pdf</td>\n",
       "      <td>C:\\Users\\steve\\Downloads\\1176996608.pdf</td>\n",
       "    </tr>\n",
       "    <tr>\n",
       "      <th>3</th>\n",
       "      <td>4</td>\n",
       "      <td>12-AAP857.pdf</td>\n",
       "      <td>C:\\Users\\steve\\Downloads\\12-AAP857.pdf</td>\n",
       "    </tr>\n",
       "    <tr>\n",
       "      <th>4</th>\n",
       "      <td>5</td>\n",
       "      <td>2023-Dhaene-Robert-Cheung-Denuit.pdf</td>\n",
       "      <td>C:\\Users\\steve\\Downloads\\2023-Dhaene-Robert-Ch...</td>\n",
       "    </tr>\n",
       "    <tr>\n",
       "      <th>5</th>\n",
       "      <td>6</td>\n",
       "      <td>2305.17743v2.pdf</td>\n",
       "      <td>C:\\Users\\steve\\Downloads\\2305.17743v2.pdf</td>\n",
       "    </tr>\n",
       "    <tr>\n",
       "      <th>6</th>\n",
       "      <td>7</td>\n",
       "      <td>304893.304937.pdf</td>\n",
       "      <td>C:\\Users\\steve\\Downloads\\304893.304937.pdf</td>\n",
       "    </tr>\n",
       "    <tr>\n",
       "      <th>7</th>\n",
       "      <td>8</td>\n",
       "      <td>3_Obstfeld.pdf</td>\n",
       "      <td>C:\\Users\\steve\\Downloads\\3_Obstfeld.pdf</td>\n",
       "    </tr>\n",
       "    <tr>\n",
       "      <th>8</th>\n",
       "      <td>9</td>\n",
       "      <td>9309211v2.pdf</td>\n",
       "      <td>C:\\Users\\steve\\Downloads\\9309211v2.pdf</td>\n",
       "    </tr>\n",
       "    <tr>\n",
       "      <th>9</th>\n",
       "      <td>10</td>\n",
       "      <td>AlphaEvolve.pdf</td>\n",
       "      <td>C:\\Users\\steve\\Downloads\\AlphaEvolve.pdf</td>\n",
       "    </tr>\n",
       "    <tr>\n",
       "      <th>10</th>\n",
       "      <td>11</td>\n",
       "      <td>CT 12 10738 - Legacy Filing Packet 08-14-2012 ...</td>\n",
       "      <td>C:\\Users\\steve\\Downloads\\CT 12 10738 - Legacy ...</td>\n",
       "    </tr>\n",
       "    <tr>\n",
       "      <th>11</th>\n",
       "      <td>12</td>\n",
       "      <td>Explanatory Memorandum.pdf</td>\n",
       "      <td>C:\\Users\\steve\\Downloads\\Explanatory Memorandu...</td>\n",
       "    </tr>\n",
       "    <tr>\n",
       "      <th>12</th>\n",
       "      <td>13</td>\n",
       "      <td>Gaussian emergence - accompanying note.pdf</td>\n",
       "      <td>C:\\Users\\steve\\Downloads\\Gaussian emergence - ...</td>\n",
       "    </tr>\n",
       "    <tr>\n",
       "      <th>13</th>\n",
       "      <td>14</td>\n",
       "      <td>Gaussian emergence for stochastic reserve risk...</td>\n",
       "      <td>C:\\Users\\steve\\Downloads\\Gaussian emergence fo...</td>\n",
       "    </tr>\n",
       "    <tr>\n",
       "      <th>14</th>\n",
       "      <td>15</td>\n",
       "      <td>gross-zagier.pdf</td>\n",
       "      <td>C:\\Users\\steve\\Downloads\\gross-zagier.pdf</td>\n",
       "    </tr>\n",
       "    <tr>\n",
       "      <th>15</th>\n",
       "      <td>16</td>\n",
       "      <td>hurst09adf.pdf</td>\n",
       "      <td>C:\\Users\\steve\\Downloads\\hurst09adf.pdf</td>\n",
       "    </tr>\n",
       "    <tr>\n",
       "      <th>16</th>\n",
       "      <td>17</td>\n",
       "      <td>NJ HO 2024 Filing.pdf</td>\n",
       "      <td>C:\\Users\\steve\\Downloads\\NJ HO 2024 Filing.pdf</td>\n",
       "    </tr>\n",
       "    <tr>\n",
       "      <th>17</th>\n",
       "      <td>18</td>\n",
       "      <td>rpm_2010_handouts_rr3-appel.pdf</td>\n",
       "      <td>C:\\Users\\steve\\Downloads\\rpm_2010_handouts_rr3...</td>\n",
       "    </tr>\n",
       "    <tr>\n",
       "      <th>18</th>\n",
       "      <td>19</td>\n",
       "      <td>ssrn-2143344.pdf</td>\n",
       "      <td>C:\\Users\\steve\\Downloads\\ssrn-2143344.pdf</td>\n",
       "    </tr>\n",
       "    <tr>\n",
       "      <th>19</th>\n",
       "      <td>20</td>\n",
       "      <td>ssrn-4424087.pdf</td>\n",
       "      <td>C:\\Users\\steve\\Downloads\\ssrn-4424087.pdf</td>\n",
       "    </tr>\n",
       "    <tr>\n",
       "      <th>20</th>\n",
       "      <td>21</td>\n",
       "      <td>ssrn-955472.pdf</td>\n",
       "      <td>C:\\Users\\steve\\Downloads\\ssrn-955472.pdf</td>\n",
       "    </tr>\n",
       "    <tr>\n",
       "      <th>21</th>\n",
       "      <td>22</td>\n",
       "      <td>Tanner-Wong-1987.pdf</td>\n",
       "      <td>C:\\Users\\steve\\Downloads\\Tanner-Wong-1987.pdf</td>\n",
       "    </tr>\n",
       "    <tr>\n",
       "      <th>22</th>\n",
       "      <td>23</td>\n",
       "      <td>Toward_tighter_tables.pdf</td>\n",
       "      <td>C:\\Users\\steve\\Downloads\\Toward_tighter_tables...</td>\n",
       "    </tr>\n",
       "    <tr>\n",
       "      <th>23</th>\n",
       "      <td>24</td>\n",
       "      <td>Units of Risk.pdf</td>\n",
       "      <td>C:\\Users\\steve\\Downloads\\Units of Risk.pdf</td>\n",
       "    </tr>\n",
       "  </tbody>\n",
       "</table>\n",
       "</div>"
      ],
      "text/plain": [
       "     n                                           document  \\\n",
       "0    1                  1-s2.0-S016766872500037X-main.pdf   \n",
       "1    2                  1-s2.0-S0167668725000599-main.pdf   \n",
       "2    3                                     1176996608.pdf   \n",
       "3    4                                      12-AAP857.pdf   \n",
       "4    5               2023-Dhaene-Robert-Cheung-Denuit.pdf   \n",
       "5    6                                   2305.17743v2.pdf   \n",
       "6    7                                  304893.304937.pdf   \n",
       "7    8                                     3_Obstfeld.pdf   \n",
       "8    9                                      9309211v2.pdf   \n",
       "9   10                                    AlphaEvolve.pdf   \n",
       "10  11  CT 12 10738 - Legacy Filing Packet 08-14-2012 ...   \n",
       "11  12                         Explanatory Memorandum.pdf   \n",
       "12  13         Gaussian emergence - accompanying note.pdf   \n",
       "13  14  Gaussian emergence for stochastic reserve risk...   \n",
       "14  15                                   gross-zagier.pdf   \n",
       "15  16                                     hurst09adf.pdf   \n",
       "16  17                              NJ HO 2024 Filing.pdf   \n",
       "17  18                    rpm_2010_handouts_rr3-appel.pdf   \n",
       "18  19                                   ssrn-2143344.pdf   \n",
       "19  20                                   ssrn-4424087.pdf   \n",
       "20  21                                    ssrn-955472.pdf   \n",
       "21  22                               Tanner-Wong-1987.pdf   \n",
       "22  23                          Toward_tighter_tables.pdf   \n",
       "23  24                                  Units of Risk.pdf   \n",
       "\n",
       "                                                 path  \n",
       "0   C:\\Users\\steve\\Downloads\\1-s2.0-S0167668725000...  \n",
       "1   C:\\Users\\steve\\Downloads\\1-s2.0-S0167668725000...  \n",
       "2             C:\\Users\\steve\\Downloads\\1176996608.pdf  \n",
       "3              C:\\Users\\steve\\Downloads\\12-AAP857.pdf  \n",
       "4   C:\\Users\\steve\\Downloads\\2023-Dhaene-Robert-Ch...  \n",
       "5           C:\\Users\\steve\\Downloads\\2305.17743v2.pdf  \n",
       "6          C:\\Users\\steve\\Downloads\\304893.304937.pdf  \n",
       "7             C:\\Users\\steve\\Downloads\\3_Obstfeld.pdf  \n",
       "8              C:\\Users\\steve\\Downloads\\9309211v2.pdf  \n",
       "9            C:\\Users\\steve\\Downloads\\AlphaEvolve.pdf  \n",
       "10  C:\\Users\\steve\\Downloads\\CT 12 10738 - Legacy ...  \n",
       "11  C:\\Users\\steve\\Downloads\\Explanatory Memorandu...  \n",
       "12  C:\\Users\\steve\\Downloads\\Gaussian emergence - ...  \n",
       "13  C:\\Users\\steve\\Downloads\\Gaussian emergence fo...  \n",
       "14          C:\\Users\\steve\\Downloads\\gross-zagier.pdf  \n",
       "15            C:\\Users\\steve\\Downloads\\hurst09adf.pdf  \n",
       "16     C:\\Users\\steve\\Downloads\\NJ HO 2024 Filing.pdf  \n",
       "17  C:\\Users\\steve\\Downloads\\rpm_2010_handouts_rr3...  \n",
       "18          C:\\Users\\steve\\Downloads\\ssrn-2143344.pdf  \n",
       "19          C:\\Users\\steve\\Downloads\\ssrn-4424087.pdf  \n",
       "20           C:\\Users\\steve\\Downloads\\ssrn-955472.pdf  \n",
       "21      C:\\Users\\steve\\Downloads\\Tanner-Wong-1987.pdf  \n",
       "22  C:\\Users\\steve\\Downloads\\Toward_tighter_tables...  \n",
       "23         C:\\Users\\steve\\Downloads\\Units of Risk.pdf  "
      ]
     },
     "execution_count": 34,
     "metadata": {},
     "output_type": "execute_result"
    },
    {
     "name": "stdout",
     "output_type": "stream",
     "text": [
      "time: 15 ms (started: 2025-05-30 23:34:46 +01:00)\n"
     ]
    }
   ],
   "source": [
    "cli.LibraryContext.last_new"
   ]
  },
  {
   "cell_type": "code",
   "execution_count": 39,
   "id": "defbf000-6ceb-4d18-9b0a-4d9397a0541b",
   "metadata": {},
   "outputs": [
    {
     "name": "stdout",
     "output_type": "stream",
     "text": [
      "23:41:22 | archivum.cli.new               | INFO     | Scanning directory C:\\Users\\steve\\Downloads\n",
      "23:41:22 | archivum.cli.new               | INFO     | Displaying metadata for found PDFs.\n",
      "┍━━━━━┯━━━━━━━━━━━━┯━━━━━━━━━━━━━━━━━━━━━━━━━━━━━━━━━━━━┯━━━━━━━━━━━━━━━━━━┯━━━━━━━━━━━━━━━━━━━━━━━━━━━━━━━┯━━━━━━━━━━━━━━━━━━━━━━━━━━━━━━┑\n",
      "│   n │   create   │ document                           │ meta_author      │ meta_subject                  │ meta_title                   │\n",
      "┝━━━━━┿━━━━━━━━━━━━┿━━━━━━━━━━━━━━━━━━━━━━━━━━━━━━━━━━━━┿━━━━━━━━━━━━━━━━━━┿━━━━━━━━━━━━━━━━━━━━━━━━━━━━━━━┿━━━━━━━━━━━━━━━━━━━━━━━━━━━━━━┥\n",
      "│  24 │ 2025-05-30 │ Towards_a_theory_of_tables.pdf     │                  │                               │                              │\n",
      "├─────┼────────────┼────────────────────────────────────┼──────────────────┼───────────────────────────────┼──────────────────────────────┤\n",
      "│  23 │ 2025-05-30 │ Toward_tighter_tables.pdf          │                  │                               │                              │\n",
      "├─────┼────────────┼────────────────────────────────────┼──────────────────┼───────────────────────────────┼──────────────────────────────┤\n",
      "│  16 │ 2025-05-30 │ hurst09adf.pdf                     │ Nathan Hurst,    │                               │ Review of automatic document │\n",
      "│     │            │                                    │ Wilmot Li, Kim   │                               │ formatting                   │\n",
      "│     │            │                                    │ Marriott         │                               │                              │\n",
      "├─────┼────────────┼────────────────────────────────────┼──────────────────┼───────────────────────────────┼──────────────────────────────┤\n",
      "│   7 │ 2025-05-30 │ 304893.304937.pdf                  │                  │                               │                              │\n",
      "├─────┼────────────┼────────────────────────────────────┼──────────────────┼───────────────────────────────┼──────────────────────────────┤\n",
      "│  10 │ 2025-05-28 │ AlphaEvolve.pdf                    │                  │                               │                              │\n",
      "├─────┼────────────┼────────────────────────────────────┼──────────────────┼───────────────────────────────┼──────────────────────────────┤\n",
      "│  14 │ 2025-05-25 │ Gaussian emergence for stochastic  │ Jemma Smith      │                               │ Presentation title           │\n",
      "│     │            │ reserve risk modelling.pdf         │                  │                               │                              │\n",
      "├─────┼────────────┼────────────────────────────────────┼──────────────────┼───────────────────────────────┼──────────────────────────────┤\n",
      "│  13 │ 2025-05-25 │ Gaussian emergence - accompanying  │ Nashef, Ramsay   │                               │                              │\n",
      "│     │            │ note.pdf                           │ (Corporate       │                               │                              │\n",
      "│     │            │                                    │ Actuarial)       │                               │                              │\n",
      "├─────┼────────────┼────────────────────────────────────┼──────────────────┼───────────────────────────────┼──────────────────────────────┤\n",
      "│  15 │ 2025-05-24 │ gross-zagier.pdf                   │                  │                               │ Heegner points and           │\n",
      "│     │            │                                    │                  │                               │ derivatives of <Emphasis     │\n",
      "│     │            │                                    │                  │                               │ Type=\"Italic\">L              │\n",
      "│     │            │                                    │                  │                               │ </Emphasis>-series           │\n",
      "├─────┼────────────┼────────────────────────────────────┼──────────────────┼───────────────────────────────┼──────────────────────────────┤\n",
      "│  21 │ 2025-05-23 │ ssrn-955472.pdf                    │                  │                               │ pmstory21.dvi                │\n",
      "├─────┼────────────┼────────────────────────────────────┼──────────────────┼───────────────────────────────┼──────────────────────────────┤\n",
      "│  19 │ 2025-05-13 │ ssrn-2143344.pdf                   │ aschmidt         │                               │ Microsoft Word -             │\n",
      "│     │            │                                    │                  │                               │ ArbFreeInv1.doc              │\n",
      "├─────┼────────────┼────────────────────────────────────┼──────────────────┼───────────────────────────────┼──────────────────────────────┤\n",
      "│  22 │ 2025-05-12 │ Tanner-Wong-1987.pdf               │                  │                               │                              │\n",
      "├─────┼────────────┼────────────────────────────────────┼──────────────────┼───────────────────────────────┼──────────────────────────────┤\n",
      "│   5 │ 2025-05-09 │ 2023-Dhaene-Robert-Cheung-         │                  │                               │                              │\n",
      "│     │            │ Denuit.pdf                         │                  │                               │                              │\n",
      "├─────┼────────────┼────────────────────────────────────┼──────────────────┼───────────────────────────────┼──────────────────────────────┤\n",
      "│   2 │ 2025-05-07 │ 1-s2.0-S0167668725000599-main.pdf  │ Nils Engler      │ Insurance Mathematics and     │ Approximations of multi-     │\n",
      "│     │            │                                    │                  │ Economics, 123 (2025) 103112. │ period liability values by   │\n",
      "│     │            │                                    │                  │ doi:10.1016/j.insmatheco.2025 │ simple formulas              │\n",
      "│     │            │                                    │                  │ .103112                       │                              │\n",
      "├─────┼────────────┼────────────────────────────────────┼──────────────────┼───────────────────────────────┼──────────────────────────────┤\n",
      "│   3 │ 2025-04-16 │ 1176996608.pdf                     │                  │                               │                              │\n",
      "├─────┼────────────┼────────────────────────────────────┼──────────────────┼───────────────────────────────┼──────────────────────────────┤\n",
      "│   9 │ 2025-04-16 │ 9309211v2.pdf                      │                  │                               │ arXiv:math/9309211v2         │\n",
      "│     │            │                                    │                  │                               │ [math.FA]  6 Dec 1999        │\n",
      "├─────┼────────────┼────────────────────────────────────┼──────────────────┼───────────────────────────────┼──────────────────────────────┤\n",
      "│   4 │ 2025-04-15 │ 12-AAP857.pdf                      │ Alexander M. G.  │ The Annals of Applied         │ Root's barrier:              │\n",
      "│     │            │                                    │ Cox, Jiajie Wang │ Probability, 2013, Vol.23,    │ Construction, optimality and │\n",
      "│     │            │                                    │                  │ No.3, 859-894                 │ applications to variance     │\n",
      "│     │            │                                    │                  │                               │ options                      │\n",
      "├─────┼────────────┼────────────────────────────────────┼──────────────────┼───────────────────────────────┼──────────────────────────────┤\n",
      "│   6 │ 2025-04-14 │ 2305.17743v2.pdf                   │                  │                               │                              │\n",
      "├─────┼────────────┼────────────────────────────────────┼──────────────────┼───────────────────────────────┼──────────────────────────────┤\n",
      "│   8 │ 2025-04-10 │ 3_Obstfeld.pdf                     │ Austin Drukker   │                               │                              │\n",
      "├─────┼────────────┼────────────────────────────────────┼──────────────────┼───────────────────────────────┼──────────────────────────────┤\n",
      "│   1 │ 2025-03-07 │ 1-s2.0-S016766872500037X-main.pdf  │ Christopher      │ Insurance Mathematics and     │ Efficient evaluation of risk │\n",
      "│     │            │                                    │ Blier-Wong       │ Economics, 122 (2025)         │ allocations                  │\n",
      "│     │            │                                    │                  │ 119-136. doi:10.1016/j.insmat │                              │\n",
      "│     │            │                                    │                  │ heco.2025.02.006              │                              │\n",
      "├─────┼────────────┼────────────────────────────────────┼──────────────────┼───────────────────────────────┼──────────────────────────────┤\n",
      "│  20 │ 2025-03-07 │ ssrn-4424087.pdf                   │ Jiang, Xuefeng   │                               │                              │\n",
      "├─────┼────────────┼────────────────────────────────────┼──────────────────┼───────────────────────────────┼──────────────────────────────┤\n",
      "│  11 │ 2025-03-04 │ CT 12 10738 - Legacy Filing Packet │ u040571          │                               │ Microsoft Word - CT - Filing │\n",
      "│     │            │ 08-14-2012 {AFM ap}.pdf            │                  │                               │ Memo.doc                     │\n",
      "├─────┼────────────┼────────────────────────────────────┼──────────────────┼───────────────────────────────┼──────────────────────────────┤\n",
      "│  12 │ 2025-03-04 │ Explanatory Memorandum.pdf         │ Seitz,Alexandra  │                               │                              │\n",
      "├─────┼────────────┼────────────────────────────────────┼──────────────────┼───────────────────────────────┼──────────────────────────────┤\n",
      "│  17 │ 2025-03-04 │ NJ HO 2024 Filing.pdf              │ FEU6             │                               │ Microsoft Word - @NJ HO 2024 │\n",
      "│     │            │                                    │                  │                               │ Filing - Memo.doc            │\n",
      "├─────┼────────────┼────────────────────────────────────┼──────────────────┼───────────────────────────────┼──────────────────────────────┤\n",
      "│  25 │ 2025-03-04 │ Units of Risk.pdf                  │ dxbrow           │                               │ Microsoft Word - Units of    │\n",
      "│     │            │                                    │                  │                               │ Risk                         │\n",
      "├─────┼────────────┼────────────────────────────────────┼──────────────────┼───────────────────────────────┼──────────────────────────────┤\n",
      "│  18 │ 2025-03-04 │ rpm_2010_handouts_rr3-appel.pdf    │ Appel            │ 2010 RPM                      │ Quantifying Risk Load for    │\n",
      "│     │            │                                    │                  │                               │ Property Catastrophe         │\n",
      "│     │            │                                    │                  │                               │ Exposure                     │\n",
      "┕━━━━━┷━━━━━━━━━━━━┷━━━━━━━━━━━━━━━━━━━━━━━━━━━━━━━━━━━━┷━━━━━━━━━━━━━━━━━━┷━━━━━━━━━━━━━━━━━━━━━━━━━━━━━━━┷━━━━━━━━━━━━━━━━━━━━━━━━━━━━━━┙\n",
      "time: 156 ms (started: 2025-05-30 23:41:22 +01:00)\n"
     ]
    }
   ],
   "source": [
    "cli.entry(args=['new', '-m'], standalone_mode=False)"
   ]
  },
  {
   "cell_type": "code",
   "execution_count": 29,
   "id": "23d9999e-f7fa-4aaa-9ee4-8705f774ecef",
   "metadata": {},
   "outputs": [
    {
     "data": {
      "text/html": [
       "<div>\n",
       "<style scoped>\n",
       "    .dataframe tbody tr th:only-of-type {\n",
       "        vertical-align: middle;\n",
       "    }\n",
       "\n",
       "    .dataframe tbody tr th {\n",
       "        vertical-align: top;\n",
       "    }\n",
       "\n",
       "    .dataframe thead th {\n",
       "        text-align: right;\n",
       "    }\n",
       "</style>\n",
       "<table border=\"1\" class=\"dataframe\">\n",
       "  <thead>\n",
       "    <tr style=\"text-align: right;\">\n",
       "      <th></th>\n",
       "      <th>n</th>\n",
       "      <th>document</th>\n",
       "      <th>path</th>\n",
       "    </tr>\n",
       "  </thead>\n",
       "  <tbody>\n",
       "    <tr>\n",
       "      <th>0</th>\n",
       "      <td>1</td>\n",
       "      <td>1-s2.0-S016766872500037X-main.pdf</td>\n",
       "      <td>C:\\Users\\steve\\Downloads\\1-s2.0-S0167668725000...</td>\n",
       "    </tr>\n",
       "    <tr>\n",
       "      <th>1</th>\n",
       "      <td>2</td>\n",
       "      <td>1-s2.0-S0167668725000599-main.pdf</td>\n",
       "      <td>C:\\Users\\steve\\Downloads\\1-s2.0-S0167668725000...</td>\n",
       "    </tr>\n",
       "    <tr>\n",
       "      <th>2</th>\n",
       "      <td>3</td>\n",
       "      <td>1176996608.pdf</td>\n",
       "      <td>C:\\Users\\steve\\Downloads\\1176996608.pdf</td>\n",
       "    </tr>\n",
       "    <tr>\n",
       "      <th>3</th>\n",
       "      <td>4</td>\n",
       "      <td>12-AAP857.pdf</td>\n",
       "      <td>C:\\Users\\steve\\Downloads\\12-AAP857.pdf</td>\n",
       "    </tr>\n",
       "    <tr>\n",
       "      <th>4</th>\n",
       "      <td>5</td>\n",
       "      <td>2023-Dhaene-Robert-Cheung-Denuit.pdf</td>\n",
       "      <td>C:\\Users\\steve\\Downloads\\2023-Dhaene-Robert-Ch...</td>\n",
       "    </tr>\n",
       "    <tr>\n",
       "      <th>5</th>\n",
       "      <td>6</td>\n",
       "      <td>2305.17743v2.pdf</td>\n",
       "      <td>C:\\Users\\steve\\Downloads\\2305.17743v2.pdf</td>\n",
       "    </tr>\n",
       "    <tr>\n",
       "      <th>6</th>\n",
       "      <td>7</td>\n",
       "      <td>304893.304937.pdf</td>\n",
       "      <td>C:\\Users\\steve\\Downloads\\304893.304937.pdf</td>\n",
       "    </tr>\n",
       "    <tr>\n",
       "      <th>7</th>\n",
       "      <td>8</td>\n",
       "      <td>3_Obstfeld.pdf</td>\n",
       "      <td>C:\\Users\\steve\\Downloads\\3_Obstfeld.pdf</td>\n",
       "    </tr>\n",
       "    <tr>\n",
       "      <th>8</th>\n",
       "      <td>9</td>\n",
       "      <td>9309211v2.pdf</td>\n",
       "      <td>C:\\Users\\steve\\Downloads\\9309211v2.pdf</td>\n",
       "    </tr>\n",
       "    <tr>\n",
       "      <th>9</th>\n",
       "      <td>10</td>\n",
       "      <td>AlphaEvolve.pdf</td>\n",
       "      <td>C:\\Users\\steve\\Downloads\\AlphaEvolve.pdf</td>\n",
       "    </tr>\n",
       "    <tr>\n",
       "      <th>10</th>\n",
       "      <td>11</td>\n",
       "      <td>CT 12 10738 - Legacy Filing Packet 08-14-2012 ...</td>\n",
       "      <td>C:\\Users\\steve\\Downloads\\CT 12 10738 - Legacy ...</td>\n",
       "    </tr>\n",
       "    <tr>\n",
       "      <th>11</th>\n",
       "      <td>12</td>\n",
       "      <td>Explanatory Memorandum.pdf</td>\n",
       "      <td>C:\\Users\\steve\\Downloads\\Explanatory Memorandu...</td>\n",
       "    </tr>\n",
       "    <tr>\n",
       "      <th>12</th>\n",
       "      <td>13</td>\n",
       "      <td>Gaussian emergence - accompanying note.pdf</td>\n",
       "      <td>C:\\Users\\steve\\Downloads\\Gaussian emergence - ...</td>\n",
       "    </tr>\n",
       "    <tr>\n",
       "      <th>13</th>\n",
       "      <td>14</td>\n",
       "      <td>Gaussian emergence for stochastic reserve risk...</td>\n",
       "      <td>C:\\Users\\steve\\Downloads\\Gaussian emergence fo...</td>\n",
       "    </tr>\n",
       "    <tr>\n",
       "      <th>14</th>\n",
       "      <td>15</td>\n",
       "      <td>gross-zagier.pdf</td>\n",
       "      <td>C:\\Users\\steve\\Downloads\\gross-zagier.pdf</td>\n",
       "    </tr>\n",
       "    <tr>\n",
       "      <th>15</th>\n",
       "      <td>16</td>\n",
       "      <td>hurst09adf.pdf</td>\n",
       "      <td>C:\\Users\\steve\\Downloads\\hurst09adf.pdf</td>\n",
       "    </tr>\n",
       "    <tr>\n",
       "      <th>16</th>\n",
       "      <td>17</td>\n",
       "      <td>NJ HO 2024 Filing.pdf</td>\n",
       "      <td>C:\\Users\\steve\\Downloads\\NJ HO 2024 Filing.pdf</td>\n",
       "    </tr>\n",
       "    <tr>\n",
       "      <th>17</th>\n",
       "      <td>18</td>\n",
       "      <td>rpm_2010_handouts_rr3-appel.pdf</td>\n",
       "      <td>C:\\Users\\steve\\Downloads\\rpm_2010_handouts_rr3...</td>\n",
       "    </tr>\n",
       "    <tr>\n",
       "      <th>18</th>\n",
       "      <td>19</td>\n",
       "      <td>ssrn-2143344.pdf</td>\n",
       "      <td>C:\\Users\\steve\\Downloads\\ssrn-2143344.pdf</td>\n",
       "    </tr>\n",
       "    <tr>\n",
       "      <th>19</th>\n",
       "      <td>20</td>\n",
       "      <td>ssrn-4424087.pdf</td>\n",
       "      <td>C:\\Users\\steve\\Downloads\\ssrn-4424087.pdf</td>\n",
       "    </tr>\n",
       "    <tr>\n",
       "      <th>20</th>\n",
       "      <td>21</td>\n",
       "      <td>ssrn-955472.pdf</td>\n",
       "      <td>C:\\Users\\steve\\Downloads\\ssrn-955472.pdf</td>\n",
       "    </tr>\n",
       "    <tr>\n",
       "      <th>21</th>\n",
       "      <td>22</td>\n",
       "      <td>Tanner-Wong-1987.pdf</td>\n",
       "      <td>C:\\Users\\steve\\Downloads\\Tanner-Wong-1987.pdf</td>\n",
       "    </tr>\n",
       "    <tr>\n",
       "      <th>22</th>\n",
       "      <td>23</td>\n",
       "      <td>Toward_tighter_tables.pdf</td>\n",
       "      <td>C:\\Users\\steve\\Downloads\\Toward_tighter_tables...</td>\n",
       "    </tr>\n",
       "    <tr>\n",
       "      <th>23</th>\n",
       "      <td>24</td>\n",
       "      <td>Units of Risk.pdf</td>\n",
       "      <td>C:\\Users\\steve\\Downloads\\Units of Risk.pdf</td>\n",
       "    </tr>\n",
       "  </tbody>\n",
       "</table>\n",
       "</div>"
      ],
      "text/plain": [
       "     n                                           document  \\\n",
       "0    1                  1-s2.0-S016766872500037X-main.pdf   \n",
       "1    2                  1-s2.0-S0167668725000599-main.pdf   \n",
       "2    3                                     1176996608.pdf   \n",
       "3    4                                      12-AAP857.pdf   \n",
       "4    5               2023-Dhaene-Robert-Cheung-Denuit.pdf   \n",
       "5    6                                   2305.17743v2.pdf   \n",
       "6    7                                  304893.304937.pdf   \n",
       "7    8                                     3_Obstfeld.pdf   \n",
       "8    9                                      9309211v2.pdf   \n",
       "9   10                                    AlphaEvolve.pdf   \n",
       "10  11  CT 12 10738 - Legacy Filing Packet 08-14-2012 ...   \n",
       "11  12                         Explanatory Memorandum.pdf   \n",
       "12  13         Gaussian emergence - accompanying note.pdf   \n",
       "13  14  Gaussian emergence for stochastic reserve risk...   \n",
       "14  15                                   gross-zagier.pdf   \n",
       "15  16                                     hurst09adf.pdf   \n",
       "16  17                              NJ HO 2024 Filing.pdf   \n",
       "17  18                    rpm_2010_handouts_rr3-appel.pdf   \n",
       "18  19                                   ssrn-2143344.pdf   \n",
       "19  20                                   ssrn-4424087.pdf   \n",
       "20  21                                    ssrn-955472.pdf   \n",
       "21  22                               Tanner-Wong-1987.pdf   \n",
       "22  23                          Toward_tighter_tables.pdf   \n",
       "23  24                                  Units of Risk.pdf   \n",
       "\n",
       "                                                 path  \n",
       "0   C:\\Users\\steve\\Downloads\\1-s2.0-S0167668725000...  \n",
       "1   C:\\Users\\steve\\Downloads\\1-s2.0-S0167668725000...  \n",
       "2             C:\\Users\\steve\\Downloads\\1176996608.pdf  \n",
       "3              C:\\Users\\steve\\Downloads\\12-AAP857.pdf  \n",
       "4   C:\\Users\\steve\\Downloads\\2023-Dhaene-Robert-Ch...  \n",
       "5           C:\\Users\\steve\\Downloads\\2305.17743v2.pdf  \n",
       "6          C:\\Users\\steve\\Downloads\\304893.304937.pdf  \n",
       "7             C:\\Users\\steve\\Downloads\\3_Obstfeld.pdf  \n",
       "8              C:\\Users\\steve\\Downloads\\9309211v2.pdf  \n",
       "9            C:\\Users\\steve\\Downloads\\AlphaEvolve.pdf  \n",
       "10  C:\\Users\\steve\\Downloads\\CT 12 10738 - Legacy ...  \n",
       "11  C:\\Users\\steve\\Downloads\\Explanatory Memorandu...  \n",
       "12  C:\\Users\\steve\\Downloads\\Gaussian emergence - ...  \n",
       "13  C:\\Users\\steve\\Downloads\\Gaussian emergence fo...  \n",
       "14          C:\\Users\\steve\\Downloads\\gross-zagier.pdf  \n",
       "15            C:\\Users\\steve\\Downloads\\hurst09adf.pdf  \n",
       "16     C:\\Users\\steve\\Downloads\\NJ HO 2024 Filing.pdf  \n",
       "17  C:\\Users\\steve\\Downloads\\rpm_2010_handouts_rr3...  \n",
       "18          C:\\Users\\steve\\Downloads\\ssrn-2143344.pdf  \n",
       "19          C:\\Users\\steve\\Downloads\\ssrn-4424087.pdf  \n",
       "20           C:\\Users\\steve\\Downloads\\ssrn-955472.pdf  \n",
       "21      C:\\Users\\steve\\Downloads\\Tanner-Wong-1987.pdf  \n",
       "22  C:\\Users\\steve\\Downloads\\Toward_tighter_tables...  \n",
       "23         C:\\Users\\steve\\Downloads\\Units of Risk.pdf  "
      ]
     },
     "execution_count": 29,
     "metadata": {},
     "output_type": "execute_result"
    },
    {
     "name": "stdout",
     "output_type": "stream",
     "text": [
      "time: 15 ms (started: 2025-05-30 23:32:16 +01:00)\n"
     ]
    }
   ],
   "source": [
    "df = cli.LibraryContext.last_new\n",
    "df"
   ]
  },
  {
   "cell_type": "code",
   "execution_count": 11,
   "id": "8f84e3d4-030d-4877-805d-dc6552981f71",
   "metadata": {},
   "outputs": [
    {
     "data": {
      "text/plain": [
       "[WindowsPath('C:/Users/steve/Downloads/1-s2.0-S016766872500037X-main.pdf'),\n",
       " WindowsPath('C:/Users/steve/Downloads/1-s2.0-S0167668725000599-main.pdf'),\n",
       " WindowsPath('C:/Users/steve/Downloads/1176996608.pdf'),\n",
       " WindowsPath('C:/Users/steve/Downloads/12-AAP857.pdf'),\n",
       " WindowsPath('C:/Users/steve/Downloads/2023-Dhaene-Robert-Cheung-Denuit.pdf'),\n",
       " WindowsPath('C:/Users/steve/Downloads/2305.17743v2.pdf'),\n",
       " WindowsPath('C:/Users/steve/Downloads/304893.304937.pdf'),\n",
       " WindowsPath('C:/Users/steve/Downloads/3_Obstfeld.pdf'),\n",
       " WindowsPath('C:/Users/steve/Downloads/9309211v2.pdf'),\n",
       " WindowsPath('C:/Users/steve/Downloads/AlphaEvolve.pdf'),\n",
       " WindowsPath('C:/Users/steve/Downloads/CT 12 10738 - Legacy Filing Packet 08-14-2012 {AFM ap}.pdf'),\n",
       " WindowsPath('C:/Users/steve/Downloads/Explanatory Memorandum.pdf'),\n",
       " WindowsPath('C:/Users/steve/Downloads/Gaussian emergence - accompanying note.pdf'),\n",
       " WindowsPath('C:/Users/steve/Downloads/Gaussian emergence for stochastic reserve risk modelling.pdf'),\n",
       " WindowsPath('C:/Users/steve/Downloads/gross-zagier.pdf'),\n",
       " WindowsPath('C:/Users/steve/Downloads/hurst09adf.pdf'),\n",
       " WindowsPath('C:/Users/steve/Downloads/NJ HO 2024 Filing.pdf'),\n",
       " WindowsPath('C:/Users/steve/Downloads/rpm_2010_handouts_rr3-appel.pdf'),\n",
       " WindowsPath('C:/Users/steve/Downloads/ssrn-2143344.pdf'),\n",
       " WindowsPath('C:/Users/steve/Downloads/ssrn-4424087.pdf'),\n",
       " WindowsPath('C:/Users/steve/Downloads/ssrn-955472.pdf'),\n",
       " WindowsPath('C:/Users/steve/Downloads/Tanner-Wong-1987.pdf'),\n",
       " WindowsPath('C:/Users/steve/Downloads/Toward_tighter_tables.pdf'),\n",
       " WindowsPath('C:/Users/steve/Downloads/Units of Risk.pdf')]"
      ]
     },
     "execution_count": 11,
     "metadata": {},
     "output_type": "execute_result"
    },
    {
     "name": "stdout",
     "output_type": "stream",
     "text": [
      "time: 0 ns (started: 2025-05-30 22:47:55 +01:00)\n"
     ]
    }
   ],
   "source": [
    "pdfs = list((Path().home() / 'Downloads').glob('*.pdf'))\n",
    "pdfs"
   ]
  },
  {
   "cell_type": "code",
   "execution_count": 14,
   "id": "53909c76-ae48-42c6-9b12-cf3e65c461f1",
   "metadata": {},
   "outputs": [
    {
     "data": {
      "text/plain": [
       "Document(1-s2.0-S016766872500037X-main.pdf)"
      ]
     },
     "execution_count": 14,
     "metadata": {},
     "output_type": "execute_result"
    },
    {
     "name": "stdout",
     "output_type": "stream",
     "text": [
      "time: 16 ms (started: 2025-05-30 22:49:20 +01:00)\n"
     ]
    }
   ],
   "source": [
    "for p in pdfs[:1]:\n",
    "    d = arcd.Document(p)\n",
    "d"
   ]
  },
  {
   "cell_type": "code",
   "execution_count": 16,
   "id": "7eaa586e-e655-441e-a6d8-9d4dd1e02465",
   "metadata": {},
   "outputs": [
    {
     "data": {
      "text/plain": [
       "{'name': '1-s2.0-S016766872500037X-main.pdf',\n",
       " 'path': 'C:/Users/steve/Downloads/1-s2.0-S016766872500037X-main.pdf',\n",
       " 'mod': Timestamp('2025-03-07 08:38:18.099158+0000', tz='Europe/London'),\n",
       " 'create': Timestamp('2025-03-07 08:38:17.517345400+0000', tz='Europe/London'),\n",
       " 'access': Timestamp('2025-05-28 10:20:12.449331100+0100', tz='Europe/London'),\n",
       " 'node': 5629499535417802,\n",
       " 'links': 1,\n",
       " 'size': 1713793,\n",
       " 'suffix': 'pdf'}"
      ]
     },
     "execution_count": 16,
     "metadata": {},
     "output_type": "execute_result"
    },
    {
     "name": "stdout",
     "output_type": "stream",
     "text": [
      "time: 0 ns (started: 2025-05-30 22:49:38 +01:00)\n"
     ]
    }
   ],
   "source": [
    "d.stats"
   ]
  },
  {
   "cell_type": "code",
   "execution_count": null,
   "id": "67e33be6-0085-450b-82f7-5bff8e7ad3c3",
   "metadata": {},
   "outputs": [],
   "source": [
    "md = d.meta_data(lib=lib)"
   ]
  },
  {
   "cell_type": "code",
   "execution_count": 21,
   "id": "6ffde4c5-b91f-4e38-9e9a-7f770513b54e",
   "metadata": {},
   "outputs": [
    {
     "data": {
      "text/plain": [
       "('Christopher Blier-Wong',\n",
       " 'Insurance Mathematics and Economics, 122 (2025) 119-136. doi:10.1016/j.insmatheco.2025.02.006',\n",
       " 'Efficient evaluation of risk allocations',\n",
       " 'Blier-Wong, Christopher')"
      ]
     },
     "execution_count": 21,
     "metadata": {},
     "output_type": "execute_result"
    },
    {
     "name": "stdout",
     "output_type": "stream",
     "text": [
      "time: 0 ns (started: 2025-05-30 22:54:06 +01:00)\n"
     ]
    }
   ],
   "source": [
    "md.author, md.subject, md.title, md.author_ex"
   ]
  },
  {
   "cell_type": "code",
   "execution_count": null,
   "id": "f4c987d2-3826-4968-b984-b27cad9b7558",
   "metadata": {},
   "outputs": [],
   "source": []
  },
  {
   "cell_type": "code",
   "execution_count": 24,
   "id": "c50631db-9700-4621-9056-82fa74dcf08b",
   "metadata": {},
   "outputs": [
    {
     "name": "stdout",
     "output_type": "stream",
     "text": [
      "time: 0 ns (started: 2025-05-30 23:31:26 +01:00)\n"
     ]
    }
   ],
   "source": [
    "import pycomfy"
   ]
  },
  {
   "cell_type": "code",
   "execution_count": 33,
   "id": "df8bb1b3-2d2a-43fc-b0b3-2c969dc0f768",
   "metadata": {},
   "outputs": [
    {
     "name": "stdout",
     "output_type": "stream",
     "text": [
      "time: 0 ns (started: 2025-05-30 23:33:19 +01:00)\n"
     ]
    },
    {
     "data": {
      "text/plain": [
       "\u001b[1;31mSignature:\u001b[0m \u001b[0mpycomfy\u001b[0m\u001b[1;33m.\u001b[0m\u001b[0mrender_table\u001b[0m\u001b[1;33m(\u001b[0m\u001b[0mrows\u001b[0m\u001b[1;33m)\u001b[0m\u001b[1;33m\u001b[0m\u001b[1;33m\u001b[0m\u001b[0m\n",
       "\u001b[1;31mDocstring:\u001b[0m <no docstring>\n",
       "\u001b[1;31mType:\u001b[0m      builtin_function_or_method"
      ]
     },
     "metadata": {},
     "output_type": "display_data"
    }
   ],
   "source": [
    "pycomfy.render_table?"
   ]
  },
  {
   "cell_type": "code",
   "execution_count": 25,
   "id": "e763bc58-306c-4658-93d8-61bca48fafdb",
   "metadata": {},
   "outputs": [
    {
     "name": "stdout",
     "output_type": "stream",
     "text": [
      "┌───────┬──────────────┬──────────┐\n",
      "│ Name  ┆ Role         ┆ Location │\n",
      "├╌╌╌╌╌╌╌┼╌╌╌╌╌╌╌╌╌╌╌╌╌╌┼╌╌╌╌╌╌╌╌╌╌┤\n",
      "│ Steve ┆ Actuary      ┆ London   │\n",
      "├╌╌╌╌╌╌╌┼╌╌╌╌╌╌╌╌╌╌╌╌╌╌┼╌╌╌╌╌╌╌╌╌╌┤\n",
      "│ Mildy ┆ Risk Analyst ┆ UK       │\n",
      "└───────┴──────────────┴──────────┘\n",
      "time: 0 ns (started: 2025-05-30 23:31:28 +01:00)\n"
     ]
    }
   ],
   "source": [
    "rows = [\n",
    "    [\"Name\", \"Role\", \"Location\"],\n",
    "    [\"Steve\", \"Actuary\", \"London\"],\n",
    "    [\"Mildy\", \"Risk Analyst\", \"UK\"],\n",
    "]\n",
    "\n",
    "print(pycomfy.render_table(rows))"
   ]
  },
  {
   "cell_type": "code",
   "execution_count": 32,
   "id": "e77db96b-e44e-43b1-a0e9-bf0c3b63ffdc",
   "metadata": {},
   "outputs": [
    {
     "name": "stdout",
     "output_type": "stream",
     "text": [
      "┌────┬──────────────────────────────────────────────────────────────┬───────────────────────────────────────────────────────────────────────────────────────┐\n",
      "│ 1  ┆ 1-s2.0-S016766872500037X-main.pdf                            ┆ C:\\Users\\steve\\Downloads\\1-s2.0-S016766872500037X-main.pdf                            │\n",
      "├╌╌╌╌┼╌╌╌╌╌╌╌╌╌╌╌╌╌╌╌╌╌╌╌╌╌╌╌╌╌╌╌╌╌╌╌╌╌╌╌╌╌╌╌╌╌╌╌╌╌╌╌╌╌╌╌╌╌╌╌╌╌╌╌╌╌╌┼╌╌╌╌╌╌╌╌╌╌╌╌╌╌╌╌╌╌╌╌╌╌╌╌╌╌╌╌╌╌╌╌╌╌╌╌╌╌╌╌╌╌╌╌╌╌╌╌╌╌╌╌╌╌╌╌╌╌╌╌╌╌╌╌╌╌╌╌╌╌╌╌╌╌╌╌╌╌╌╌╌╌╌╌╌╌╌┤\n",
      "│ 2  ┆ 1-s2.0-S0167668725000599-main.pdf                            ┆ C:\\Users\\steve\\Downloads\\1-s2.0-S0167668725000599-main.pdf                            │\n",
      "├╌╌╌╌┼╌╌╌╌╌╌╌╌╌╌╌╌╌╌╌╌╌╌╌╌╌╌╌╌╌╌╌╌╌╌╌╌╌╌╌╌╌╌╌╌╌╌╌╌╌╌╌╌╌╌╌╌╌╌╌╌╌╌╌╌╌╌┼╌╌╌╌╌╌╌╌╌╌╌╌╌╌╌╌╌╌╌╌╌╌╌╌╌╌╌╌╌╌╌╌╌╌╌╌╌╌╌╌╌╌╌╌╌╌╌╌╌╌╌╌╌╌╌╌╌╌╌╌╌╌╌╌╌╌╌╌╌╌╌╌╌╌╌╌╌╌╌╌╌╌╌╌╌╌╌┤\n",
      "│ 3  ┆ 1176996608.pdf                                               ┆ C:\\Users\\steve\\Downloads\\1176996608.pdf                                               │\n",
      "├╌╌╌╌┼╌╌╌╌╌╌╌╌╌╌╌╌╌╌╌╌╌╌╌╌╌╌╌╌╌╌╌╌╌╌╌╌╌╌╌╌╌╌╌╌╌╌╌╌╌╌╌╌╌╌╌╌╌╌╌╌╌╌╌╌╌╌┼╌╌╌╌╌╌╌╌╌╌╌╌╌╌╌╌╌╌╌╌╌╌╌╌╌╌╌╌╌╌╌╌╌╌╌╌╌╌╌╌╌╌╌╌╌╌╌╌╌╌╌╌╌╌╌╌╌╌╌╌╌╌╌╌╌╌╌╌╌╌╌╌╌╌╌╌╌╌╌╌╌╌╌╌╌╌╌┤\n",
      "│ 4  ┆ 12-AAP857.pdf                                                ┆ C:\\Users\\steve\\Downloads\\12-AAP857.pdf                                                │\n",
      "├╌╌╌╌┼╌╌╌╌╌╌╌╌╌╌╌╌╌╌╌╌╌╌╌╌╌╌╌╌╌╌╌╌╌╌╌╌╌╌╌╌╌╌╌╌╌╌╌╌╌╌╌╌╌╌╌╌╌╌╌╌╌╌╌╌╌╌┼╌╌╌╌╌╌╌╌╌╌╌╌╌╌╌╌╌╌╌╌╌╌╌╌╌╌╌╌╌╌╌╌╌╌╌╌╌╌╌╌╌╌╌╌╌╌╌╌╌╌╌╌╌╌╌╌╌╌╌╌╌╌╌╌╌╌╌╌╌╌╌╌╌╌╌╌╌╌╌╌╌╌╌╌╌╌╌┤\n",
      "│ 5  ┆ 2023-Dhaene-Robert-Cheung-Denuit.pdf                         ┆ C:\\Users\\steve\\Downloads\\2023-Dhaene-Robert-Cheung-Denuit.pdf                         │\n",
      "├╌╌╌╌┼╌╌╌╌╌╌╌╌╌╌╌╌╌╌╌╌╌╌╌╌╌╌╌╌╌╌╌╌╌╌╌╌╌╌╌╌╌╌╌╌╌╌╌╌╌╌╌╌╌╌╌╌╌╌╌╌╌╌╌╌╌╌┼╌╌╌╌╌╌╌╌╌╌╌╌╌╌╌╌╌╌╌╌╌╌╌╌╌╌╌╌╌╌╌╌╌╌╌╌╌╌╌╌╌╌╌╌╌╌╌╌╌╌╌╌╌╌╌╌╌╌╌╌╌╌╌╌╌╌╌╌╌╌╌╌╌╌╌╌╌╌╌╌╌╌╌╌╌╌╌┤\n",
      "│ 6  ┆ 2305.17743v2.pdf                                             ┆ C:\\Users\\steve\\Downloads\\2305.17743v2.pdf                                             │\n",
      "├╌╌╌╌┼╌╌╌╌╌╌╌╌╌╌╌╌╌╌╌╌╌╌╌╌╌╌╌╌╌╌╌╌╌╌╌╌╌╌╌╌╌╌╌╌╌╌╌╌╌╌╌╌╌╌╌╌╌╌╌╌╌╌╌╌╌╌┼╌╌╌╌╌╌╌╌╌╌╌╌╌╌╌╌╌╌╌╌╌╌╌╌╌╌╌╌╌╌╌╌╌╌╌╌╌╌╌╌╌╌╌╌╌╌╌╌╌╌╌╌╌╌╌╌╌╌╌╌╌╌╌╌╌╌╌╌╌╌╌╌╌╌╌╌╌╌╌╌╌╌╌╌╌╌╌┤\n",
      "│ 7  ┆ 304893.304937.pdf                                            ┆ C:\\Users\\steve\\Downloads\\304893.304937.pdf                                            │\n",
      "├╌╌╌╌┼╌╌╌╌╌╌╌╌╌╌╌╌╌╌╌╌╌╌╌╌╌╌╌╌╌╌╌╌╌╌╌╌╌╌╌╌╌╌╌╌╌╌╌╌╌╌╌╌╌╌╌╌╌╌╌╌╌╌╌╌╌╌┼╌╌╌╌╌╌╌╌╌╌╌╌╌╌╌╌╌╌╌╌╌╌╌╌╌╌╌╌╌╌╌╌╌╌╌╌╌╌╌╌╌╌╌╌╌╌╌╌╌╌╌╌╌╌╌╌╌╌╌╌╌╌╌╌╌╌╌╌╌╌╌╌╌╌╌╌╌╌╌╌╌╌╌╌╌╌╌┤\n",
      "│ 8  ┆ 3_Obstfeld.pdf                                               ┆ C:\\Users\\steve\\Downloads\\3_Obstfeld.pdf                                               │\n",
      "├╌╌╌╌┼╌╌╌╌╌╌╌╌╌╌╌╌╌╌╌╌╌╌╌╌╌╌╌╌╌╌╌╌╌╌╌╌╌╌╌╌╌╌╌╌╌╌╌╌╌╌╌╌╌╌╌╌╌╌╌╌╌╌╌╌╌╌┼╌╌╌╌╌╌╌╌╌╌╌╌╌╌╌╌╌╌╌╌╌╌╌╌╌╌╌╌╌╌╌╌╌╌╌╌╌╌╌╌╌╌╌╌╌╌╌╌╌╌╌╌╌╌╌╌╌╌╌╌╌╌╌╌╌╌╌╌╌╌╌╌╌╌╌╌╌╌╌╌╌╌╌╌╌╌╌┤\n",
      "│ 9  ┆ 9309211v2.pdf                                                ┆ C:\\Users\\steve\\Downloads\\9309211v2.pdf                                                │\n",
      "├╌╌╌╌┼╌╌╌╌╌╌╌╌╌╌╌╌╌╌╌╌╌╌╌╌╌╌╌╌╌╌╌╌╌╌╌╌╌╌╌╌╌╌╌╌╌╌╌╌╌╌╌╌╌╌╌╌╌╌╌╌╌╌╌╌╌╌┼╌╌╌╌╌╌╌╌╌╌╌╌╌╌╌╌╌╌╌╌╌╌╌╌╌╌╌╌╌╌╌╌╌╌╌╌╌╌╌╌╌╌╌╌╌╌╌╌╌╌╌╌╌╌╌╌╌╌╌╌╌╌╌╌╌╌╌╌╌╌╌╌╌╌╌╌╌╌╌╌╌╌╌╌╌╌╌┤\n",
      "│ 10 ┆ AlphaEvolve.pdf                                              ┆ C:\\Users\\steve\\Downloads\\AlphaEvolve.pdf                                              │\n",
      "├╌╌╌╌┼╌╌╌╌╌╌╌╌╌╌╌╌╌╌╌╌╌╌╌╌╌╌╌╌╌╌╌╌╌╌╌╌╌╌╌╌╌╌╌╌╌╌╌╌╌╌╌╌╌╌╌╌╌╌╌╌╌╌╌╌╌╌┼╌╌╌╌╌╌╌╌╌╌╌╌╌╌╌╌╌╌╌╌╌╌╌╌╌╌╌╌╌╌╌╌╌╌╌╌╌╌╌╌╌╌╌╌╌╌╌╌╌╌╌╌╌╌╌╌╌╌╌╌╌╌╌╌╌╌╌╌╌╌╌╌╌╌╌╌╌╌╌╌╌╌╌╌╌╌╌┤\n",
      "│ 11 ┆ CT 12 10738 - Legacy Filing Packet 08-14-2012 {AFM ap}.pdf   ┆ C:\\Users\\steve\\Downloads\\CT 12 10738 - Legacy Filing Packet 08-14-2012 {AFM ap}.pdf   │\n",
      "├╌╌╌╌┼╌╌╌╌╌╌╌╌╌╌╌╌╌╌╌╌╌╌╌╌╌╌╌╌╌╌╌╌╌╌╌╌╌╌╌╌╌╌╌╌╌╌╌╌╌╌╌╌╌╌╌╌╌╌╌╌╌╌╌╌╌╌┼╌╌╌╌╌╌╌╌╌╌╌╌╌╌╌╌╌╌╌╌╌╌╌╌╌╌╌╌╌╌╌╌╌╌╌╌╌╌╌╌╌╌╌╌╌╌╌╌╌╌╌╌╌╌╌╌╌╌╌╌╌╌╌╌╌╌╌╌╌╌╌╌╌╌╌╌╌╌╌╌╌╌╌╌╌╌╌┤\n",
      "│ 12 ┆ Explanatory Memorandum.pdf                                   ┆ C:\\Users\\steve\\Downloads\\Explanatory Memorandum.pdf                                   │\n",
      "├╌╌╌╌┼╌╌╌╌╌╌╌╌╌╌╌╌╌╌╌╌╌╌╌╌╌╌╌╌╌╌╌╌╌╌╌╌╌╌╌╌╌╌╌╌╌╌╌╌╌╌╌╌╌╌╌╌╌╌╌╌╌╌╌╌╌╌┼╌╌╌╌╌╌╌╌╌╌╌╌╌╌╌╌╌╌╌╌╌╌╌╌╌╌╌╌╌╌╌╌╌╌╌╌╌╌╌╌╌╌╌╌╌╌╌╌╌╌╌╌╌╌╌╌╌╌╌╌╌╌╌╌╌╌╌╌╌╌╌╌╌╌╌╌╌╌╌╌╌╌╌╌╌╌╌┤\n",
      "│ 13 ┆ Gaussian emergence - accompanying note.pdf                   ┆ C:\\Users\\steve\\Downloads\\Gaussian emergence - accompanying note.pdf                   │\n",
      "├╌╌╌╌┼╌╌╌╌╌╌╌╌╌╌╌╌╌╌╌╌╌╌╌╌╌╌╌╌╌╌╌╌╌╌╌╌╌╌╌╌╌╌╌╌╌╌╌╌╌╌╌╌╌╌╌╌╌╌╌╌╌╌╌╌╌╌┼╌╌╌╌╌╌╌╌╌╌╌╌╌╌╌╌╌╌╌╌╌╌╌╌╌╌╌╌╌╌╌╌╌╌╌╌╌╌╌╌╌╌╌╌╌╌╌╌╌╌╌╌╌╌╌╌╌╌╌╌╌╌╌╌╌╌╌╌╌╌╌╌╌╌╌╌╌╌╌╌╌╌╌╌╌╌╌┤\n",
      "│ 14 ┆ Gaussian emergence for stochastic reserve risk modelling.pdf ┆ C:\\Users\\steve\\Downloads\\Gaussian emergence for stochastic reserve risk modelling.pdf │\n",
      "├╌╌╌╌┼╌╌╌╌╌╌╌╌╌╌╌╌╌╌╌╌╌╌╌╌╌╌╌╌╌╌╌╌╌╌╌╌╌╌╌╌╌╌╌╌╌╌╌╌╌╌╌╌╌╌╌╌╌╌╌╌╌╌╌╌╌╌┼╌╌╌╌╌╌╌╌╌╌╌╌╌╌╌╌╌╌╌╌╌╌╌╌╌╌╌╌╌╌╌╌╌╌╌╌╌╌╌╌╌╌╌╌╌╌╌╌╌╌╌╌╌╌╌╌╌╌╌╌╌╌╌╌╌╌╌╌╌╌╌╌╌╌╌╌╌╌╌╌╌╌╌╌╌╌╌┤\n",
      "│ 15 ┆ gross-zagier.pdf                                             ┆ C:\\Users\\steve\\Downloads\\gross-zagier.pdf                                             │\n",
      "├╌╌╌╌┼╌╌╌╌╌╌╌╌╌╌╌╌╌╌╌╌╌╌╌╌╌╌╌╌╌╌╌╌╌╌╌╌╌╌╌╌╌╌╌╌╌╌╌╌╌╌╌╌╌╌╌╌╌╌╌╌╌╌╌╌╌╌┼╌╌╌╌╌╌╌╌╌╌╌╌╌╌╌╌╌╌╌╌╌╌╌╌╌╌╌╌╌╌╌╌╌╌╌╌╌╌╌╌╌╌╌╌╌╌╌╌╌╌╌╌╌╌╌╌╌╌╌╌╌╌╌╌╌╌╌╌╌╌╌╌╌╌╌╌╌╌╌╌╌╌╌╌╌╌╌┤\n",
      "│ 16 ┆ hurst09adf.pdf                                               ┆ C:\\Users\\steve\\Downloads\\hurst09adf.pdf                                               │\n",
      "├╌╌╌╌┼╌╌╌╌╌╌╌╌╌╌╌╌╌╌╌╌╌╌╌╌╌╌╌╌╌╌╌╌╌╌╌╌╌╌╌╌╌╌╌╌╌╌╌╌╌╌╌╌╌╌╌╌╌╌╌╌╌╌╌╌╌╌┼╌╌╌╌╌╌╌╌╌╌╌╌╌╌╌╌╌╌╌╌╌╌╌╌╌╌╌╌╌╌╌╌╌╌╌╌╌╌╌╌╌╌╌╌╌╌╌╌╌╌╌╌╌╌╌╌╌╌╌╌╌╌╌╌╌╌╌╌╌╌╌╌╌╌╌╌╌╌╌╌╌╌╌╌╌╌╌┤\n",
      "│ 17 ┆ NJ HO 2024 Filing.pdf                                        ┆ C:\\Users\\steve\\Downloads\\NJ HO 2024 Filing.pdf                                        │\n",
      "├╌╌╌╌┼╌╌╌╌╌╌╌╌╌╌╌╌╌╌╌╌╌╌╌╌╌╌╌╌╌╌╌╌╌╌╌╌╌╌╌╌╌╌╌╌╌╌╌╌╌╌╌╌╌╌╌╌╌╌╌╌╌╌╌╌╌╌┼╌╌╌╌╌╌╌╌╌╌╌╌╌╌╌╌╌╌╌╌╌╌╌╌╌╌╌╌╌╌╌╌╌╌╌╌╌╌╌╌╌╌╌╌╌╌╌╌╌╌╌╌╌╌╌╌╌╌╌╌╌╌╌╌╌╌╌╌╌╌╌╌╌╌╌╌╌╌╌╌╌╌╌╌╌╌╌┤\n",
      "│ 18 ┆ rpm_2010_handouts_rr3-appel.pdf                              ┆ C:\\Users\\steve\\Downloads\\rpm_2010_handouts_rr3-appel.pdf                              │\n",
      "├╌╌╌╌┼╌╌╌╌╌╌╌╌╌╌╌╌╌╌╌╌╌╌╌╌╌╌╌╌╌╌╌╌╌╌╌╌╌╌╌╌╌╌╌╌╌╌╌╌╌╌╌╌╌╌╌╌╌╌╌╌╌╌╌╌╌╌┼╌╌╌╌╌╌╌╌╌╌╌╌╌╌╌╌╌╌╌╌╌╌╌╌╌╌╌╌╌╌╌╌╌╌╌╌╌╌╌╌╌╌╌╌╌╌╌╌╌╌╌╌╌╌╌╌╌╌╌╌╌╌╌╌╌╌╌╌╌╌╌╌╌╌╌╌╌╌╌╌╌╌╌╌╌╌╌┤\n",
      "│ 19 ┆ ssrn-2143344.pdf                                             ┆ C:\\Users\\steve\\Downloads\\ssrn-2143344.pdf                                             │\n",
      "├╌╌╌╌┼╌╌╌╌╌╌╌╌╌╌╌╌╌╌╌╌╌╌╌╌╌╌╌╌╌╌╌╌╌╌╌╌╌╌╌╌╌╌╌╌╌╌╌╌╌╌╌╌╌╌╌╌╌╌╌╌╌╌╌╌╌╌┼╌╌╌╌╌╌╌╌╌╌╌╌╌╌╌╌╌╌╌╌╌╌╌╌╌╌╌╌╌╌╌╌╌╌╌╌╌╌╌╌╌╌╌╌╌╌╌╌╌╌╌╌╌╌╌╌╌╌╌╌╌╌╌╌╌╌╌╌╌╌╌╌╌╌╌╌╌╌╌╌╌╌╌╌╌╌╌┤\n",
      "│ 20 ┆ ssrn-4424087.pdf                                             ┆ C:\\Users\\steve\\Downloads\\ssrn-4424087.pdf                                             │\n",
      "├╌╌╌╌┼╌╌╌╌╌╌╌╌╌╌╌╌╌╌╌╌╌╌╌╌╌╌╌╌╌╌╌╌╌╌╌╌╌╌╌╌╌╌╌╌╌╌╌╌╌╌╌╌╌╌╌╌╌╌╌╌╌╌╌╌╌╌┼╌╌╌╌╌╌╌╌╌╌╌╌╌╌╌╌╌╌╌╌╌╌╌╌╌╌╌╌╌╌╌╌╌╌╌╌╌╌╌╌╌╌╌╌╌╌╌╌╌╌╌╌╌╌╌╌╌╌╌╌╌╌╌╌╌╌╌╌╌╌╌╌╌╌╌╌╌╌╌╌╌╌╌╌╌╌╌┤\n",
      "│ 21 ┆ ssrn-955472.pdf                                              ┆ C:\\Users\\steve\\Downloads\\ssrn-955472.pdf                                              │\n",
      "├╌╌╌╌┼╌╌╌╌╌╌╌╌╌╌╌╌╌╌╌╌╌╌╌╌╌╌╌╌╌╌╌╌╌╌╌╌╌╌╌╌╌╌╌╌╌╌╌╌╌╌╌╌╌╌╌╌╌╌╌╌╌╌╌╌╌╌┼╌╌╌╌╌╌╌╌╌╌╌╌╌╌╌╌╌╌╌╌╌╌╌╌╌╌╌╌╌╌╌╌╌╌╌╌╌╌╌╌╌╌╌╌╌╌╌╌╌╌╌╌╌╌╌╌╌╌╌╌╌╌╌╌╌╌╌╌╌╌╌╌╌╌╌╌╌╌╌╌╌╌╌╌╌╌╌┤\n",
      "│ 22 ┆ Tanner-Wong-1987.pdf                                         ┆ C:\\Users\\steve\\Downloads\\Tanner-Wong-1987.pdf                                         │\n",
      "├╌╌╌╌┼╌╌╌╌╌╌╌╌╌╌╌╌╌╌╌╌╌╌╌╌╌╌╌╌╌╌╌╌╌╌╌╌╌╌╌╌╌╌╌╌╌╌╌╌╌╌╌╌╌╌╌╌╌╌╌╌╌╌╌╌╌╌┼╌╌╌╌╌╌╌╌╌╌╌╌╌╌╌╌╌╌╌╌╌╌╌╌╌╌╌╌╌╌╌╌╌╌╌╌╌╌╌╌╌╌╌╌╌╌╌╌╌╌╌╌╌╌╌╌╌╌╌╌╌╌╌╌╌╌╌╌╌╌╌╌╌╌╌╌╌╌╌╌╌╌╌╌╌╌╌┤\n",
      "│ 23 ┆ Toward_tighter_tables.pdf                                    ┆ C:\\Users\\steve\\Downloads\\Toward_tighter_tables.pdf                                    │\n",
      "├╌╌╌╌┼╌╌╌╌╌╌╌╌╌╌╌╌╌╌╌╌╌╌╌╌╌╌╌╌╌╌╌╌╌╌╌╌╌╌╌╌╌╌╌╌╌╌╌╌╌╌╌╌╌╌╌╌╌╌╌╌╌╌╌╌╌╌┼╌╌╌╌╌╌╌╌╌╌╌╌╌╌╌╌╌╌╌╌╌╌╌╌╌╌╌╌╌╌╌╌╌╌╌╌╌╌╌╌╌╌╌╌╌╌╌╌╌╌╌╌╌╌╌╌╌╌╌╌╌╌╌╌╌╌╌╌╌╌╌╌╌╌╌╌╌╌╌╌╌╌╌╌╌╌╌┤\n",
      "│ 24 ┆ Units of Risk.pdf                                            ┆ C:\\Users\\steve\\Downloads\\Units of Risk.pdf                                            │\n",
      "└────┴──────────────────────────────────────────────────────────────┴───────────────────────────────────────────────────────────────────────────────────────┘\n",
      "time: 16 ms (started: 2025-05-30 23:32:59 +01:00)\n"
     ]
    }
   ],
   "source": [
    "print(pycomfy.render_table(df.astype(str).values))"
   ]
  },
  {
   "cell_type": "code",
   "execution_count": null,
   "id": "82ab2cf7-0847-45fe-bace-f43edebb1006",
   "metadata": {},
   "outputs": [],
   "source": []
  },
  {
   "cell_type": "code",
   "execution_count": null,
   "id": "b9a7749b-cbee-4a1e-b8db-8ca977e5148e",
   "metadata": {},
   "outputs": [],
   "source": []
  },
  {
   "cell_type": "code",
   "execution_count": null,
   "id": "ee03f691-5d66-4879-94e4-24a3a66b3694",
   "metadata": {},
   "outputs": [],
   "source": []
  },
  {
   "cell_type": "code",
   "execution_count": 21,
   "id": "d7ddd359-a990-48c0-b802-1dec9ef6c7b8",
   "metadata": {},
   "outputs": [
    {
     "data": {
      "text/plain": [
       "{'select': {'include': [], 'exclude': []},\n",
       " 'sort': [],\n",
       " 'regex': [('title', 'Risk Measure')],\n",
       " 'where': None,\n",
       " 'top': 10,\n",
       " 'flags': ['recent']}"
      ]
     },
     "execution_count": 21,
     "metadata": {},
     "output_type": "execute_result"
    },
    {
     "name": "stdout",
     "output_type": "stream",
     "text": [
      "time: 31 ms (started: 2025-05-29 23:58:36 +01:00)\n"
     ]
    }
   ],
   "source": [
    "arcp.parser('top 10 recent title ~ /Risk Measure/')"
   ]
  },
  {
   "cell_type": "code",
   "execution_count": 31,
   "id": "f5451a90-3cb3-491b-9515-aebc60430c9b",
   "metadata": {},
   "outputs": [
    {
     "data": {
      "text/plain": [
       "Index(['tag', 'type', 'author', 'doi', 'journal', 'pages', 'title', 'volume',\n",
       "       'year', 'publisher', 'url', 'institution', 'number', 'mendeley-tags',\n",
       "       'booktitle', 'edition', 'month', 'address', 'editor', 'arc-citations',\n",
       "       'arc-source'],\n",
       "      dtype='object')"
      ]
     },
     "execution_count": 31,
     "metadata": {},
     "output_type": "execute_result"
    },
    {
     "name": "stdout",
     "output_type": "stream",
     "text": [
      "time: 0 ns (started: 2025-05-30 00:18:11 +01:00)\n"
     ]
    }
   ],
   "source": [
    "lib.ref_df.columns"
   ]
  },
  {
   "cell_type": "code",
   "execution_count": 33,
   "id": "c29f9821-708d-4491-b720-31f19b5c8edc",
   "metadata": {},
   "outputs": [
    {
     "name": "stdout",
     "output_type": "stream",
     "text": [
      "             tag       type                                                  author                                                                                        title\n",
      "     Schmidt2003    article                                     Schmidt, Anatoly B.                                          {The true invariant of an arbitrage free portfolio}\n",
      "   Bahnemann2015       book                                        Bahnemann, David                                                                {Distributions for Actuaries}\n",
      "Khoshnevisan2011 techreport                                     Khoshnevisan, Davar                                                      {Topics in Probability: Levy Processes}\n",
      "       Mahul2003    article                                          Mahul, Olivier                                 {Efficient Risk Sharing within a Catastrophe Insurance Pool}\n",
      "       Jiang2025    article Jiang, By John X. and Koo, David S. and Wang, Isabel Y. {The Road Not Taken: Evaluating the Consequences of the U.S.'s Non-Adoption of IFRS in 2012}\n",
      "time: 0 ns (started: 2025-05-30 00:19:25 +01:00)\n"
     ]
    }
   ],
   "source": [
    "x = lib.ref_df[['tag', 'type', 'author', 'title']].head().to_string(index=False)\n",
    "print(x)"
   ]
  },
  {
   "cell_type": "code",
   "execution_count": null,
   "id": "85325035-d133-4e88-9161-87aed90781da",
   "metadata": {},
   "outputs": [],
   "source": []
  },
  {
   "cell_type": "code",
   "execution_count": 26,
   "id": "2f10b277-6388-4bfb-8d29-bdf11d9305ee",
   "metadata": {},
   "outputs": [
    {
     "name": "stdout",
     "output_type": "stream",
     "text": [
      "time: 47 ms (started: 2025-05-30 00:14:00 +01:00)\n"
     ]
    }
   ],
   "source": [
    "lib.ref_df.to_csv('ref_df.csv', encoding='utf-8')"
   ]
  },
  {
   "cell_type": "code",
   "execution_count": 25,
   "id": "d311c78e-6597-49c4-b729-2003d9274625",
   "metadata": {},
   "outputs": [
    {
     "data": {
      "text/html": [
       "<div class=\"greater-table\">\n",
       "<style>\n",
       "    #T2AA6N5QDXCHB  {\n",
       "    border-collapse: collapse;\n",
       "    font-family: \"Roboto\", \"Open Sans Condensed\", \"Arial\", 'Segoe UI', sans-serif;\n",
       "    font-size: 0.9em;\n",
       "    width: auto;\n",
       "    \n",
       "    margin: 10px auto;\n",
       "    border: none;\n",
       "    overflow: auto;\n",
       "    margin-left: auto;\n",
       "    margin-right: auto;\n",
       "    }\n",
       "    \n",
       "    #T2AA6N5QDXCHB caption {\n",
       "        padding: 4px 10px 2px 10px;\n",
       "        font-size: 1.1em;\n",
       "        text-align: center;\n",
       "        font-weight: normal;\n",
       "        caption-side: top;\n",
       "    }\n",
       "    #T2AA6N5QDXCHB thead {\n",
       "        \n",
       "        border-top: 1px solid #000;\n",
       "        border-bottom: 1px solid #000;\n",
       "        font-size: 1.0em;\n",
       "        }\n",
       "    #T2AA6N5QDXCHB tbody {\n",
       "        \n",
       "        border-bottom: 1px solid #000;\n",
       "        }\n",
       "    #T2AA6N5QDXCHB th  {\n",
       "        vertical-align: bottom;\n",
       "        padding: 4px 10px 4px 10px;\n",
       "    }\n",
       "    #T2AA6N5QDXCHB td {\n",
       "        \n",
       "        padding: 2px 10px 2px 10px;\n",
       "        vertical-align: top;\n",
       "    }\n",
       "    \n",
       "    #T2AA6N5QDXCHB .grt-hrule-0 {\n",
       "        border-top: 0px solid #000;\n",
       "    }\n",
       "    #T2AA6N5QDXCHB .grt-hrule-1 {\n",
       "        border-top: 0px solid #000;\n",
       "    }\n",
       "    #T2AA6N5QDXCHB .grt-hrule-2 {\n",
       "        border-top: 0px solid #000;\n",
       "    }\n",
       "    \n",
       "    #T2AA6N5QDXCHB .grt-bhrule-0 {\n",
       "        border-bottom: 0px solid #000;\n",
       "    }\n",
       "    #T2AA6N5QDXCHB .grt-bhrule-1 {\n",
       "        border-bottom: 0px solid #000;\n",
       "    }\n",
       "    #T2AA6N5QDXCHB .grt-vrule-index {\n",
       "        border-left: 1px solid #000;\n",
       "    }\n",
       "    #T2AA6N5QDXCHB .grt-vrule-0 {\n",
       "        border-left: 0px solid #000;\n",
       "    }\n",
       "    #T2AA6N5QDXCHB .grt-vrule-1 {\n",
       "        border-left: 0px solid #000;\n",
       "    }\n",
       "    #T2AA6N5QDXCHB .grt-vrule-2 {\n",
       "        border-left: 0px solid #000;\n",
       "    }\n",
       "    #T2AA6N5QDXCHB .grt-left {\n",
       "        text-align: left;\n",
       "    }\n",
       "    #T2AA6N5QDXCHB .grt-center {\n",
       "        text-align: center;\n",
       "    }\n",
       "    #T2AA6N5QDXCHB .grt-right {\n",
       "        text-align: right;\n",
       "        font-variant-numeric: tabular-nums;\n",
       "    }\n",
       "    #T2AA6N5QDXCHB .grt-head {\n",
       "        font-family: \"Times New Roman\", 'Courier New';\n",
       "        font-size: 1.0em;\n",
       "    }\n",
       "    #T2AA6N5QDXCHB .grt-bold {\n",
       "        font-weight: bold;\n",
       "    }\n",
       "\n",
       "    #T2AA6N5QDXCHB .grt-c-0 { width: 8.2em; }\n",
       "    #T2AA6N5QDXCHB .grt-c-1 { width: 5.199999999999999em; }\n",
       "    #T2AA6N5QDXCHB .grt-c-2 { width: 3.4em; }\n",
       "    #T2AA6N5QDXCHB .grt-c-3 { width: 47.800000000000004em; }\n",
       "    #T2AA6N5QDXCHB .grt-c-4 { width: 42.4em; }\n",
       "</style>\n",
       "<table id=\"T2AA6N5QDXCHB\">\n",
       "<caption>Query: top 10 recent title ~ /Collapse to the Mean/, 5 rows returned, showing top 10.</caption>\n",
       "<colgroup>\n",
       "<col style=\"width: 4.919999999999999em;\"/>\n",
       "<col style=\"width: 3.1199999999999997em;\"/>\n",
       "<col style=\"width: 2.04em;\"/>\n",
       "<col style=\"width: 28.680000000000003em;\"/>\n",
       "<col style=\"width: 25.439999999999998em;\"/>\n",
       "</colgroup>\n",
       "<thead>\n",
       "<tr>\n",
       "<th class=\"grt-left\" colspan=\"1\">tag</th>\n",
       "<th class=\"grt-center grt-vrule-0\" colspan=\"1\">type</th>\n",
       "<th class=\"grt-center grt-vrule-0\" colspan=\"1\">year</th>\n",
       "<th class=\"grt-center grt-vrule-0\" colspan=\"1\">author</th>\n",
       "<th class=\"grt-center grt-vrule-0\" colspan=\"1\">title</th>\n",
       "</tr>\n",
       "</thead>\n",
       "<tbody>\n",
       "<tr>\n",
       "<td class=\"grt-c-0 grt-left\">Centrone2025</td>\n",
       "<td class=\"grt-c-1 grt-left grt-vrule-0\">article</td>\n",
       "<td class=\"grt-c-2 grt-right grt-vrule-0\">2025</td>\n",
       "<td class=\"grt-c-3 grt-left grt-vrule-0\">Centrone, Francesca and {Rosazza Gianin}, Emanuela</td>\n",
       "<td class=\"grt-c-4 grt-left grt-vrule-0\">Capital Allocation Rules and Generalized Collapse to the Mean</td>\n",
       "</tr>\n",
       "<tr>\n",
       "<td class=\"grt-c-0 grt-left\">Liebrich2022</td>\n",
       "<td class=\"grt-c-1 grt-left grt-vrule-0\">article</td>\n",
       "<td class=\"grt-c-2 grt-right grt-vrule-0\">2022</td>\n",
       "<td class=\"grt-c-3 grt-left grt-vrule-0\">Liebrich, Felix Benedikt and Munari, Cosimo</td>\n",
       "<td class=\"grt-c-4 grt-left grt-vrule-0\">Law-invariant functionals that collapse to the mean: beyond convexity</td>\n",
       "</tr>\n",
       "<tr>\n",
       "<td class=\"grt-c-0 grt-left\">Bellini2021</td>\n",
       "<td class=\"grt-c-1 grt-left grt-vrule-0\">article</td>\n",
       "<td class=\"grt-c-2 grt-right grt-vrule-0\">2021</td>\n",
       "<td class=\"grt-c-3 grt-left grt-vrule-0\">Bellini, Fabio and Koch-Medina, Pablo and Munari, Cosimo and Svindland, Gregor</td>\n",
       "<td class=\"grt-c-4 grt-left grt-vrule-0\">Law-invariant functionals that collapse to the mean</td>\n",
       "</tr>\n",
       "<tr>\n",
       "<td class=\"grt-c-0 grt-left\">Bellini2021a</td>\n",
       "<td class=\"grt-c-1 grt-left grt-vrule-0\">article</td>\n",
       "<td class=\"grt-c-2 grt-right grt-vrule-0\">2021</td>\n",
       "<td class=\"grt-c-3 grt-left grt-vrule-0\">Bellini, Fabio and Koch-Medina, Pablo and Munari, Cosimo and Svindland, Gregor</td>\n",
       "<td class=\"grt-c-4 grt-left grt-vrule-0\">Law-invariant functionals that collapse to the mean</td>\n",
       "</tr>\n",
       "<tr>\n",
       "<td class=\"grt-c-0 grt-left\">Chen2021a</td>\n",
       "<td class=\"grt-c-1 grt-left grt-vrule-0\">article</td>\n",
       "<td class=\"grt-c-2 grt-right grt-vrule-0\">2021</td>\n",
       "<td class=\"grt-c-3 grt-left grt-vrule-0\">Chen, Shengzhong and Gao, Niushan and Leung, Denny H. and Li, Lei</td>\n",
       "<td class=\"grt-c-4 grt-left grt-vrule-0\">Do law-invariant linear functionals collapse to the mean?</td>\n",
       "</tr>\n",
       "</tbody>\n",
       "</table></div>"
      ],
      "text/latex": [
       "\n",
       "\\begin{tikzpicture}[\n",
       "    auto,\n",
       "    transform shape,\n",
       "    nosep/.style={inner sep=0},\n",
       "    table/.style={\n",
       "        matrix of nodes,\n",
       "        row sep=0.125em,\n",
       "        column sep=0.375em,\n",
       "        nodes in empty cells,\n",
       "        nodes={rectangle, scale=0.635, text badly ragged },\n",
       "\trow 1/.style={nodes={text=black, anchor=north, inner ysep=0, text height=0, text depth=0}},\n",
       "\trow 2/.style={nodes={text=black, anchor=south, inner ysep=.2em, minimum height=1.3em, font=\\bfseries}},\n",
       "\tcolumn  1/.style={nodes={align=left  }, text height=0.9em, text depth=0.2em, inner xsep=0.375em, inner ysep=0, text width=7.20em},\n",
       "\tcolumn  2/.style={nodes={align=left  }, nosep, text width=4.20em},\n",
       "\tcolumn  3/.style={nodes={align=right }, nosep, text width=2.40em},\n",
       "\tcolumn  4/.style={nodes={align=left  }, nosep, text width=46.80em},\n",
       "\tcolumn  5/.style={nodes={align=left  }, nosep, text width=41.40em},\n",
       "\tcolumn  6/.style={text height=0.9em, text depth=0.2em, nosep, text width=0em}\t}]\n",
       "\\matrix (T2AA6N5QDXCHB) [table, ampersand replacement=\\&]{\n",
       "              \\&         \\&      \\&                                                                                \\&                                                                       \\& \\\\\n",
       " tag\\grtspacer \\& type\\grtspacer \\& year\\grtspacer \\& author\\grtspacer                                                               \\& title\\grtspacer                                                       \\& \\\\\n",
       " Centrone2025 \\& article \\& 2025 \\& Centrone, Francesca and {Rosazza Gianin}, Emanuela                             \\& Capital Allocation Rules and Generalized Collapse to the Mean         \\& \\\\\n",
       " Liebrich2022 \\& article \\& 2022 \\& Liebrich, Felix Benedikt and Munari, Cosimo                                    \\& Law-invariant functionals that collapse to the mean: beyond convexity \\& \\\\\n",
       " Bellini2021  \\& article \\& 2021 \\& Bellini, Fabio and Koch-Medina, Pablo and Munari, Cosimo and Svindland, Gregor \\& Law-invariant functionals that collapse to the mean                   \\& \\\\\n",
       " Bellini2021a \\& article \\& 2021 \\& Bellini, Fabio and Koch-Medina, Pablo and Munari, Cosimo and Svindland, Gregor \\& Law-invariant functionals that collapse to the mean                   \\& \\\\\n",
       " Chen2021a    \\& article \\& 2021 \\& Chen, Shengzhong and Gao, Niushan and Leung, Denny H. and Li, Lei              \\& Do law-invariant linear functionals collapse to the mean?             \\& \\\\\n",
       "};\n",
       "\n",
       "\\path[draw, thick] (T2AA6N5QDXCHB-1-1.south west)  -- (T2AA6N5QDXCHB-1-6.south east);\n",
       "\\path[draw, semithick] ([yshift=-0.0625em]T2AA6N5QDXCHB-2-1.south west)  -- ([yshift=-0.0625em]T2AA6N5QDXCHB-2-6.south east);\n",
       "\\path[draw, thick] ([yshift=-0.3125em]T2AA6N5QDXCHB-7-1.base west)  -- ([yshift=-0.3125em]T2AA6N5QDXCHB-7-6.base east);\n",
       "\n",
       "\n",
       "\n",
       "\\end{tikzpicture}\n"
      ],
      "text/plain": [
       "GreaterTable(df_id=T2AA6N5QDXCHB)"
      ]
     },
     "execution_count": 25,
     "metadata": {},
     "output_type": "execute_result"
    },
    {
     "name": "stdout",
     "output_type": "stream",
     "text": [
      "time: 62 ms (started: 2025-05-30 00:00:47 +01:00)\n"
     ]
    }
   ],
   "source": [
    "fGT(lib.ref_df.querex('top 10 recent title ~ /Collapse to the Mean/'))"
   ]
  },
  {
   "cell_type": "code",
   "execution_count": 5,
   "id": "3298f722-6f16-40ff-8157-ddb5dc1b60bc",
   "metadata": {},
   "outputs": [
    {
     "data": {
      "text/html": [
       "<div>\n",
       "<style scoped>\n",
       "    .dataframe tbody tr th:only-of-type {\n",
       "        vertical-align: middle;\n",
       "    }\n",
       "\n",
       "    .dataframe tbody tr th {\n",
       "        vertical-align: top;\n",
       "    }\n",
       "\n",
       "    .dataframe thead th {\n",
       "        text-align: right;\n",
       "    }\n",
       "</style>\n",
       "<table border=\"1\" class=\"dataframe\">\n",
       "  <thead>\n",
       "    <tr style=\"text-align: right;\">\n",
       "      <th></th>\n",
       "      <th>distinct</th>\n",
       "      <th>missing</th>\n",
       "    </tr>\n",
       "  </thead>\n",
       "  <tbody>\n",
       "    <tr>\n",
       "      <th>tag</th>\n",
       "      <td>6118</td>\n",
       "      <td>0</td>\n",
       "    </tr>\n",
       "    <tr>\n",
       "      <th>type</th>\n",
       "      <td>10</td>\n",
       "      <td>0</td>\n",
       "    </tr>\n",
       "    <tr>\n",
       "      <th>author</th>\n",
       "      <td>4662</td>\n",
       "      <td>5</td>\n",
       "    </tr>\n",
       "    <tr>\n",
       "      <th>doi</th>\n",
       "      <td>2539</td>\n",
       "      <td>3431</td>\n",
       "    </tr>\n",
       "    <tr>\n",
       "      <th>journal</th>\n",
       "      <td>1225</td>\n",
       "      <td>2643</td>\n",
       "    </tr>\n",
       "    <tr>\n",
       "      <th>pages</th>\n",
       "      <td>2749</td>\n",
       "      <td>2233</td>\n",
       "    </tr>\n",
       "    <tr>\n",
       "      <th>title</th>\n",
       "      <td>5902</td>\n",
       "      <td>0</td>\n",
       "    </tr>\n",
       "    <tr>\n",
       "      <th>volume</th>\n",
       "      <td>454</td>\n",
       "      <td>3143</td>\n",
       "    </tr>\n",
       "    <tr>\n",
       "      <th>year</th>\n",
       "      <td>100</td>\n",
       "      <td>256</td>\n",
       "    </tr>\n",
       "    <tr>\n",
       "      <th>publisher</th>\n",
       "      <td>169</td>\n",
       "      <td>5579</td>\n",
       "    </tr>\n",
       "    <tr>\n",
       "      <th>url</th>\n",
       "      <td>1387</td>\n",
       "      <td>4672</td>\n",
       "    </tr>\n",
       "    <tr>\n",
       "      <th>institution</th>\n",
       "      <td>108</td>\n",
       "      <td>5983</td>\n",
       "    </tr>\n",
       "    <tr>\n",
       "      <th>number</th>\n",
       "      <td>371</td>\n",
       "      <td>2934</td>\n",
       "    </tr>\n",
       "    <tr>\n",
       "      <th>mendeley-tags</th>\n",
       "      <td>187</td>\n",
       "      <td>4425</td>\n",
       "    </tr>\n",
       "    <tr>\n",
       "      <th>booktitle</th>\n",
       "      <td>241</td>\n",
       "      <td>5842</td>\n",
       "    </tr>\n",
       "    <tr>\n",
       "      <th>edition</th>\n",
       "      <td>13</td>\n",
       "      <td>6053</td>\n",
       "    </tr>\n",
       "    <tr>\n",
       "      <th>month</th>\n",
       "      <td>13</td>\n",
       "      <td>5939</td>\n",
       "    </tr>\n",
       "    <tr>\n",
       "      <th>address</th>\n",
       "      <td>39</td>\n",
       "      <td>6029</td>\n",
       "    </tr>\n",
       "    <tr>\n",
       "      <th>editor</th>\n",
       "      <td>14</td>\n",
       "      <td>6105</td>\n",
       "    </tr>\n",
       "    <tr>\n",
       "      <th>arc-citations</th>\n",
       "      <td>144</td>\n",
       "      <td>5915</td>\n",
       "    </tr>\n",
       "    <tr>\n",
       "      <th>arc-source</th>\n",
       "      <td>1</td>\n",
       "      <td>0</td>\n",
       "    </tr>\n",
       "  </tbody>\n",
       "</table>\n",
       "</div>"
      ],
      "text/plain": [
       "               distinct  missing\n",
       "tag                6118        0\n",
       "type                 10        0\n",
       "author             4662        5\n",
       "doi                2539     3431\n",
       "journal            1225     2643\n",
       "pages              2749     2233\n",
       "title              5902        0\n",
       "volume              454     3143\n",
       "year                100      256\n",
       "publisher           169     5579\n",
       "url                1387     4672\n",
       "institution         108     5983\n",
       "number              371     2934\n",
       "mendeley-tags       187     4425\n",
       "booktitle           241     5842\n",
       "edition              13     6053\n",
       "month                13     5939\n",
       "address              39     6029\n",
       "editor               14     6105\n",
       "arc-citations       144     5915\n",
       "arc-source            1        0"
      ]
     },
     "execution_count": 5,
     "metadata": {},
     "output_type": "execute_result"
    },
    {
     "name": "stdout",
     "output_type": "stream",
     "text": [
      "time: 47 ms (started: 2025-05-28 14:29:06 +01:00)\n"
     ]
    }
   ],
   "source": [
    "lib.stats_ref_fields()"
   ]
  },
  {
   "cell_type": "code",
   "execution_count": 186,
   "id": "96ed0b40-4091-4818-a54c-021b3b406786",
   "metadata": {},
   "outputs": [
    {
     "data": {
      "text/plain": [
       "[WindowsPath('/users/steve/downloads/1-s2.0-S016766872500037X-main.pdf'),\n",
       " WindowsPath('/users/steve/downloads/1-s2.0-S0167668725000599-main.pdf'),\n",
       " WindowsPath('/users/steve/downloads/1176996608.pdf'),\n",
       " WindowsPath('/users/steve/downloads/12-AAP857.pdf'),\n",
       " WindowsPath('/users/steve/downloads/2023-Dhaene-Robert-Cheung-Denuit.pdf'),\n",
       " WindowsPath('/users/steve/downloads/2305.17743v2.pdf'),\n",
       " WindowsPath('/users/steve/downloads/3_Obstfeld.pdf'),\n",
       " WindowsPath('/users/steve/downloads/9309211v2.pdf'),\n",
       " WindowsPath('/users/steve/downloads/CT 12 10738 - Legacy Filing Packet 08-14-2012 {AFM ap}.pdf'),\n",
       " WindowsPath('/users/steve/downloads/Explanatory Memorandum.pdf'),\n",
       " WindowsPath('/users/steve/downloads/Gaussian emergence - accompanying note.pdf'),\n",
       " WindowsPath('/users/steve/downloads/Gaussian emergence for stochastic reserve risk modelling.pdf'),\n",
       " WindowsPath('/users/steve/downloads/gross-zagier.pdf'),\n",
       " WindowsPath('/users/steve/downloads/NJ HO 2024 Filing.pdf'),\n",
       " WindowsPath('/users/steve/downloads/rpm_2010_handouts_rr3-appel.pdf'),\n",
       " WindowsPath('/users/steve/downloads/ssrn-2143344.pdf'),\n",
       " WindowsPath('/users/steve/downloads/ssrn-4424087.pdf'),\n",
       " WindowsPath('/users/steve/downloads/ssrn-955472.pdf'),\n",
       " WindowsPath('/users/steve/downloads/Tanner-Wong-1987.pdf'),\n",
       " WindowsPath('/users/steve/downloads/Units of Risk.pdf')]"
      ]
     },
     "execution_count": 186,
     "metadata": {},
     "output_type": "execute_result"
    },
    {
     "name": "stdout",
     "output_type": "stream",
     "text": [
      "time: 0 ns (started: 2025-05-28 10:18:09 +01:00)\n"
     ]
    }
   ],
   "source": [
    "ps2 = list(Path('\\\\users\\\\steve\\\\downloads').glob('*.pdf'))\n",
    "ps2"
   ]
  },
  {
   "cell_type": "code",
   "execution_count": null,
   "id": "60f6fb49-2a1e-4eb5-be1b-d86fdc48a9a8",
   "metadata": {},
   "outputs": [],
   "source": [
    "text_dir_name='\\\\temp\\\\pdf-full-text'\n",
    "extractor='pdftotext'\n",
    "pDocument = partial(arcd.Document, text_dir_path=Path(text_dir_name), extractor=extractor)\n",
    "ps = lib.doc_df.sample(200).path\n",
    "\n",
    "ans = []\n",
    "for p in ps:\n",
    "    p = Path(p)\n",
    "    d = pDocument(p)\n",
    "    a = d.meta_data(lib)\n",
    "    ans.append([p.name, a.author, a.author_ex, a.subject, a.title, a.raw])\n",
    "\n",
    "df = pd.DataFrame(ans, columns=['name', 'author', 'author_ex', 'subject', 'title', 'raw'])\n",
    "fGT(df)"
   ]
  },
  {
   "cell_type": "markdown",
   "id": "53e9ff9a-6e28-4306-b221-63cc73d708d4",
   "metadata": {},
   "source": [
    "# GUI"
   ]
  },
  {
   "cell_type": "code",
   "execution_count": 10,
   "id": "f4ec87f0-3114-4f91-8fe6-cad2f0664e26",
   "metadata": {},
   "outputs": [
    {
     "name": "stdout",
     "output_type": "stream",
     "text": [
      "time: 0 ns (started: 2025-05-27 23:20:03 +01:00)\n"
     ]
    }
   ],
   "source": [
    "def edit_book_info():\n",
    "    import tkinter as tk\n",
    "    from tkinter import messagebox\n",
    "\n",
    "    def on_done():\n",
    "        nonlocal result\n",
    "        result = {\n",
    "            \"Title\": title_var.get(),\n",
    "            \"Author\": author_var.get(),\n",
    "            \"Year\": year_var.get()\n",
    "        }\n",
    "        root.destroy()\n",
    "\n",
    "    def on_cancel():\n",
    "        root.destroy()\n",
    "\n",
    "    result = None\n",
    "    root = tk.Tk()\n",
    "    root.title(\"Edit Book\")\n",
    "\n",
    "    tk.Label(root, text=\"Title\").grid(row=0, column=0, sticky=\"e\")\n",
    "    tk.Label(root, text=\"Author\").grid(row=1, column=0, sticky=\"e\")\n",
    "    tk.Label(root, text=\"Year\").grid(row=2, column=0, sticky=\"e\")\n",
    "\n",
    "    title_var = tk.StringVar(value=\"The Great Gatsby\")\n",
    "    author_var = tk.StringVar(value=\"F. Scott Fitzgerald\")\n",
    "    year_var = tk.StringVar(value=\"1925\")\n",
    "\n",
    "    tk.Entry(root, textvariable=title_var).grid(row=0, column=1)\n",
    "    tk.Entry(root, textvariable=author_var).grid(row=1, column=1)\n",
    "    tk.Entry(root, textvariable=year_var).grid(row=2, column=1)\n",
    "\n",
    "    tk.Button(root, text=\"Cancel\", command=on_cancel).grid(row=3, column=0, pady=10)\n",
    "    tk.Button(root, text=\"Done\", command=on_done).grid(row=3, column=1, pady=10)\n",
    "\n",
    "    root.mainloop()\n",
    "    return result\n"
   ]
  },
  {
   "cell_type": "code",
   "execution_count": 12,
   "id": "d21b5ca3-1ac6-42c4-b469-0e4dc250d5fd",
   "metadata": {},
   "outputs": [
    {
     "name": "stdout",
     "output_type": "stream",
     "text": [
      "time: 16 ms (started: 2025-05-27 23:23:06 +01:00)\n"
     ]
    }
   ],
   "source": [
    "import tkinter as tk\n",
    "\n",
    "def edit_fields(data, mandatory=(), title=\"Edit Info\"):\n",
    "    result = None\n",
    "    fields = dict(data)\n",
    "    for key in mandatory:\n",
    "        fields.setdefault(key, \"\")\n",
    "\n",
    "    def on_done():\n",
    "        nonlocal result\n",
    "        result = {k: vars_[k].get() for k in fields}\n",
    "        root.destroy()\n",
    "\n",
    "    def on_cancel():\n",
    "        root.destroy()\n",
    "\n",
    "    root = tk.Tk()\n",
    "    root.title(title)\n",
    "\n",
    "    vars_ = {}\n",
    "    for row, (key, value) in enumerate(fields.items()):\n",
    "        tk.Label(root, text=key).grid(row=row, column=0, sticky=\"e\", padx=5, pady=2)\n",
    "        var = tk.StringVar(value=value)\n",
    "        vars_[key] = var\n",
    "        tk.Entry(root, textvariable=var).grid(row=row, column=1, padx=5, pady=2)\n",
    "\n",
    "    row += 1\n",
    "    tk.Button(root, text=\"Cancel\", width=10, command=on_cancel).grid(row=row, column=0, pady=10)\n",
    "    tk.Button(root, text=\"Done\", width=10, command=on_done).grid(row=row, column=1, pady=10)\n",
    "\n",
    "    root.mainloop()\n",
    "    return result\n"
   ]
  },
  {
   "cell_type": "code",
   "execution_count": 13,
   "id": "153dd0aa-3d15-49a7-8c26-96bde32a74d2",
   "metadata": {},
   "outputs": [
    {
     "name": "stdout",
     "output_type": "stream",
     "text": [
      "time: 0 ns (started: 2025-05-27 23:23:51 +01:00)\n"
     ]
    }
   ],
   "source": [
    "bi = {'title': \"Once upon a time in America\", \n",
    "     'author': 'LeLilo, Don.', \n",
    "     'year': 2008}\n",
    "mand = ['title', 'publisher']"
   ]
  },
  {
   "cell_type": "code",
   "execution_count": 14,
   "id": "03ccfa66-9e09-45d6-bd56-3935f706509b",
   "metadata": {},
   "outputs": [
    {
     "data": {
      "text/plain": [
       "{'title': 'Once upon a time in America',\n",
       " 'author': 'LeLilo, Don.',\n",
       " 'year': '2008',\n",
       " 'publisher': ''}"
      ]
     },
     "execution_count": 14,
     "metadata": {},
     "output_type": "execute_result"
    },
    {
     "name": "stdout",
     "output_type": "stream",
     "text": [
      "time: 13.8 s (started: 2025-05-27 23:24:01 +01:00)\n"
     ]
    }
   ],
   "source": [
    "edit_fields(bi, mand)"
   ]
  },
  {
   "cell_type": "code",
   "execution_count": 11,
   "id": "bd3336c9-df1b-4657-a16c-d591583221fa",
   "metadata": {},
   "outputs": [
    {
     "data": {
      "text/plain": [
       "{'Title': 'The Great Gatsby', 'Author': 'F. Scott Fitzgerald', 'Year': '1925'}"
      ]
     },
     "execution_count": 11,
     "metadata": {},
     "output_type": "execute_result"
    },
    {
     "name": "stdout",
     "output_type": "stream",
     "text": [
      "time: 20.4 s (started: 2025-05-27 23:20:11 +01:00)\n"
     ]
    }
   ],
   "source": [
    "edit_book_info()"
   ]
  },
  {
   "cell_type": "code",
   "execution_count": 48,
   "id": "5db55708-b8f0-4c3d-812a-9f5cc01766c5",
   "metadata": {},
   "outputs": [
    {
     "name": "stdout",
     "output_type": "stream",
     "text": [
      "time: 0 ns (started: 2025-05-27 23:39:52 +01:00)\n"
     ]
    }
   ],
   "source": [
    "import tkinter as tk\n",
    "from tkinter import ttk\n",
    "\n",
    "def edit_fields(data, mandatory=(), title=\"Edit Info\", known_values=None):\n",
    "    result = None\n",
    "    fields = dict(data)\n",
    "    for key in mandatory:\n",
    "        fields.setdefault(key, \"\")\n",
    "\n",
    "    known_values = known_values or {}\n",
    "    vars_ = {}\n",
    "\n",
    "    def on_done():\n",
    "        nonlocal result\n",
    "        result = {k: vars_[k].get() for k in fields}\n",
    "        root.destroy()\n",
    "\n",
    "    def on_cancel():\n",
    "        root.destroy()\n",
    "\n",
    "    def setup_combobox(box, values):\n",
    "        def on_key(event):\n",
    "            val = box.get().lower()\n",
    "            matches = [v for v in values if val in v.lower()]\n",
    "            if matches:\n",
    "                box['values'] = matches\n",
    "            else:\n",
    "                box['values'] = values\n",
    "        box.bind('<KeyRelease>', on_key)\n",
    "        \n",
    "    root = tk.Tk()\n",
    "    root.title(title)\n",
    "    root.geometry(\"700x400\")  # wider window\n",
    "\n",
    "    for row, (key, value) in enumerate(fields.items()):\n",
    "        tk.Label(root, text=key).grid(row=row, column=0, sticky=\"e\", padx=5, pady=4)\n",
    "        var = tk.StringVar(value=value)\n",
    "        vars_[key] = var\n",
    "\n",
    "        if key in known_values:\n",
    "            box = ttk.Combobox(root, textvariable=var, values=known_values[key])\n",
    "            box.config(width=80)\n",
    "            box.grid(row=row, column=1, padx=5, pady=4)\n",
    "            setup_combobox(box, known_values[key])\n",
    "        else:\n",
    "            tk.Entry(root, textvariable=var, width=80).grid(row=row, column=1, padx=5, pady=4)\n",
    "\n",
    "    row += 1\n",
    "    btn_frame = tk.Frame(root)\n",
    "    btn_frame.grid(row=row, column=0, columnspan=2, pady=20)\n",
    "    tk.Button(btn_frame, text=\"Cancel\", width=12, command=on_cancel).pack(side=\"left\", padx=10)\n",
    "    tk.Button(btn_frame, text=\"Done\", width=12, command=on_done).pack(side=\"right\", padx=10)\n",
    "\n",
    "    root.mainloop()\n",
    "    return result\n"
   ]
  },
  {
   "cell_type": "code",
   "execution_count": 71,
   "id": "5d95a1dc-ade8-4d97-a04f-37ad404dc2b2",
   "metadata": {},
   "outputs": [
    {
     "name": "stdout",
     "output_type": "stream",
     "text": [
      "time: 0 ns (started: 2025-05-27 23:54:36 +01:00)\n"
     ]
    }
   ],
   "source": [
    "import tkinter as tk\n",
    "from tkinter import ttk\n",
    "from rapidfuzz import process\n",
    "\n",
    "def edit_fields(data, mandatory=(), title=\"Edit Info\", known_values=None):\n",
    "    result = None\n",
    "    fields = dict(data)\n",
    "    for key in mandatory:\n",
    "        fields.setdefault(key, \"\")\n",
    "    \n",
    "    FONT = (\"Segoe UI\", 10)\n",
    "\n",
    "    known_values = known_values or {}\n",
    "    vars_ = {}\n",
    "\n",
    "    def on_done():\n",
    "        nonlocal result\n",
    "        result = {k: vars_[k].get() for k in fields}\n",
    "        root.destroy()\n",
    "\n",
    "    def on_cancel():\n",
    "        root.destroy()\n",
    "\n",
    "    def on_next():\n",
    "\n",
    "    def on_previous()\n",
    "    \n",
    "    def setup_fuzzy_combobox(box, values):\n",
    "        def on_key(event):\n",
    "            current = box.get()\n",
    "            if current:\n",
    "                match, score, _ = process.extractOne(current, values, score_cutoff=40)\n",
    "                if match:\n",
    "                    box.set(match)\n",
    "        box.bind('<FocusOut>', on_key)\n",
    "        box.bind('<Tab>', on_key)\n",
    "\n",
    "    root = tk.Tk()\n",
    "    root.title(title)\n",
    "    root.geometry(\"800x500\")\n",
    "\n",
    "    for row, (key, value) in enumerate(fields.items()):\n",
    "        tk.Label(root, text=key).grid(row=row, column=0, sticky=\"e\", padx=5, pady=4)\n",
    "        var = tk.StringVar(value=value)\n",
    "        vars_[key] = var\n",
    "\n",
    "        if key in known_values:\n",
    "            box = ttk.Combobox(root, textvariable=var, values=known_values[key], width=80, font=FONT)\n",
    "            box.grid(row=row, column=1, padx=5, pady=4)\n",
    "            setup_fuzzy_combobox(box, known_values[key])\n",
    "        else:\n",
    "            tk.Entry(root, textvariable=var, width=82, font=FONT).grid(row=row, column=1, padx=5, pady=4)\n",
    "\n",
    "    row += 1\n",
    "    btn_frame = tk.Frame(root)\n",
    "    btn_frame.grid(row=row, column=0, columnspan=2, pady=20)\n",
    "    tk.Button(btn_frame, text=\"Cancel\", width=12, command=on_cancel).pack(side=\"left\", padx=10)\n",
    "    tk.Button(btn_frame, text=\"Done\", width=12, command=on_done).pack(side=\"right\", padx=10)\n",
    "    tk.Button(btn_frame, text=\"Previous\", width=12, command=on_previous).pack(side=\"right\", padx=10)\n",
    "    tk.Button(btn_frame, text=\"Next\", width=12, command=on_next).pack(side=\"right\", padx=10)\n",
    "\n",
    "    root.mainloop()\n",
    "    return result\n"
   ]
  },
  {
   "cell_type": "code",
   "execution_count": 76,
   "id": "047581d0-fe33-4954-aefa-eb79a636d5ea",
   "metadata": {},
   "outputs": [
    {
     "name": "stdout",
     "output_type": "stream",
     "text": [
      "time: 0 ns (started: 2025-05-28 00:02:34 +01:00)\n"
     ]
    }
   ],
   "source": [
    "import tkinter as tk\n",
    "from tkinter import ttk\n",
    "from rapidfuzz import process\n",
    "import pandas as pd\n",
    "\n",
    "def edit_fields_from_df(df, i, mandatory=(), title=\"Edit Row\", known_values=None):\n",
    "    result = None\n",
    "    rowcount = len(df)\n",
    "    fields = df.iloc[i].to_dict()\n",
    "    for key in mandatory:\n",
    "        fields.setdefault(key, \"\")\n",
    "\n",
    "    known_values = known_values or {}\n",
    "    vars_ = {}\n",
    "\n",
    "    def load_row(idx):\n",
    "        for k in fields:\n",
    "            val = str(df.iloc[idx].get(k, \"\"))\n",
    "            vars_[k].set(val)\n",
    "\n",
    "    def save_row():\n",
    "        return {k: vars_[k].get() for k in fields}\n",
    "\n",
    "    def on_done():\n",
    "        nonlocal result\n",
    "        result = (save_row(), current[0])\n",
    "        root.destroy()\n",
    "\n",
    "    def on_cancel():\n",
    "        root.destroy()\n",
    "\n",
    "    def on_prev():\n",
    "        if current[0] > 0:\n",
    "            current[0] -= 1\n",
    "            load_row(current[0])\n",
    "\n",
    "    def on_next():\n",
    "        if current[0] < rowcount - 1:\n",
    "            current[0] += 1\n",
    "            load_row(current[0])\n",
    "\n",
    "    def setup_fuzzy_combobox(box, values):\n",
    "        def on_key(event):\n",
    "            current = box.get()\n",
    "            if current:\n",
    "                match, score, _ = process.extractOne(current, values, score_cutoff=70)\n",
    "                if match and match != current:\n",
    "                    box.set(match)\n",
    "                    box.icursor(tk.END)\n",
    "        box.bind('<KeyRelease>', on_key)\n",
    "\n",
    "    current = [i]  # mutable index holder\n",
    "    root = tk.Tk()\n",
    "    root.title(title)\n",
    "    root.geometry(\"800x500\")\n",
    "\n",
    "    for row, key in enumerate(fields):\n",
    "        tk.Label(root, text=key).grid(row=row, column=0, sticky=\"e\", padx=5, pady=4)\n",
    "        var = tk.StringVar()\n",
    "        vars_[key] = var\n",
    "\n",
    "        if key in known_values:\n",
    "            box = ttk.Combobox(root, textvariable=var, values=known_values[key], width=80)\n",
    "            box.grid(row=row, column=1, padx=5, pady=4)\n",
    "            setup_fuzzy_combobox(box, known_values[key])\n",
    "        else:\n",
    "            tk.Entry(root, textvariable=var, width=80).grid(row=row, column=1, padx=5, pady=4)\n",
    "\n",
    "    load_row(i)\n",
    "\n",
    "    row += 1\n",
    "    btn_frame = tk.Frame(root)\n",
    "    btn_frame.grid(row=row, column=0, columnspan=2, pady=20)\n",
    "    tk.Button(btn_frame, text=\"Previous\", width=12, command=on_prev).pack(side=\"left\", padx=5)\n",
    "    tk.Button(btn_frame, text=\"Next\", width=12, command=on_next).pack(side=\"left\", padx=5)\n",
    "    tk.Button(btn_frame, text=\"Cancel\", width=12, command=on_cancel).pack(side=\"left\", padx=20)\n",
    "    tk.Button(btn_frame, text=\"Done\", width=12, command=on_done).pack(side=\"left\", padx=5)\n",
    "\n",
    "    root.mainloop()\n",
    "    return result\n"
   ]
  },
  {
   "cell_type": "code",
   "execution_count": 80,
   "id": "499838fe-a16b-429b-8bb5-d2c55becc416",
   "metadata": {},
   "outputs": [
    {
     "name": "stdout",
     "output_type": "stream",
     "text": [
      "time: 32 ms (started: 2025-05-28 00:04:24 +01:00)\n"
     ]
    }
   ],
   "source": [
    "mandatory = ['type', 'author', 'title', 'year', 'journal', 'publisher']\n",
    "defaults = {\n",
    "    k: lib.distinct(k) for k in mandatory\n",
    "}"
   ]
  },
  {
   "cell_type": "code",
   "execution_count": 81,
   "id": "7ba386a0-e1ec-4652-8f25-c5a416397f78",
   "metadata": {},
   "outputs": [
    {
     "name": "stdout",
     "output_type": "stream",
     "text": [
      "time: 58.5 s (started: 2025-05-28 00:04:29 +01:00)\n"
     ]
    }
   ],
   "source": [
    "# def edit_fields_from_df(df, i, mandatory=(), title=\"Edit Row\", known_values=None):\n",
    "updated = edit_fields_from_df(lib.ref_df.sample(20).reset_index(drop=True)[mandatory], 0, mandatory, title=\"Edit Book Info\", known_values=defaults)\n",
    "updated"
   ]
  },
  {
   "cell_type": "code",
   "execution_count": null,
   "id": "f741c1bf-e6a4-4e68-9dc2-9f8a61911b2e",
   "metadata": {},
   "outputs": [],
   "source": []
  },
  {
   "cell_type": "code",
   "execution_count": 79,
   "id": "81ac776e-0354-4400-893a-acf56baf664a",
   "metadata": {},
   "outputs": [
    {
     "data": {
      "text/html": [
       "<div>\n",
       "<style scoped>\n",
       "    .dataframe tbody tr th:only-of-type {\n",
       "        vertical-align: middle;\n",
       "    }\n",
       "\n",
       "    .dataframe tbody tr th {\n",
       "        vertical-align: top;\n",
       "    }\n",
       "\n",
       "    .dataframe thead th {\n",
       "        text-align: right;\n",
       "    }\n",
       "</style>\n",
       "<table border=\"1\" class=\"dataframe\">\n",
       "  <thead>\n",
       "    <tr style=\"text-align: right;\">\n",
       "      <th></th>\n",
       "      <th>0</th>\n",
       "      <th>1</th>\n",
       "      <th>2</th>\n",
       "      <th>3</th>\n",
       "      <th>4</th>\n",
       "    </tr>\n",
       "  </thead>\n",
       "  <tbody>\n",
       "    <tr>\n",
       "      <th>tag</th>\n",
       "      <td>Peng2019</td>\n",
       "      <td>Cummins2009a</td>\n",
       "      <td>Ali2017</td>\n",
       "      <td>Keich2005</td>\n",
       "      <td>Ridley1976</td>\n",
       "    </tr>\n",
       "    <tr>\n",
       "      <th>type</th>\n",
       "      <td>article</td>\n",
       "      <td>article</td>\n",
       "      <td>article</td>\n",
       "      <td>article</td>\n",
       "      <td>book</td>\n",
       "    </tr>\n",
       "    <tr>\n",
       "      <th>author</th>\n",
       "      <td>Peng, Shige</td>\n",
       "      <td>Cummins, J. David and Weiss, Mary A. and Zi, Hongmin</td>\n",
       "      <td>Ali, Muneeb and Shea, Ryan and Nelson, Jude and Freedman, Michael J.</td>\n",
       "      <td>Keich, Uri</td>\n",
       "      <td>Ridley, B. K.</td>\n",
       "    </tr>\n",
       "    <tr>\n",
       "      <th>doi</th>\n",
       "      <td>10.1186/s41546-019-0038-2</td>\n",
       "      <td>10.1287/mnsc.45.9.1254</td>\n",
       "      <td></td>\n",
       "      <td></td>\n",
       "      <td>10.1119/1.11114</td>\n",
       "    </tr>\n",
       "    <tr>\n",
       "      <th>journal</th>\n",
       "      <td>Probability, Uncertainty and Quantitative Risk</td>\n",
       "      <td>Management Science</td>\n",
       "      <td></td>\n",
       "      <td>Journal of Computational Biology</td>\n",
       "      <td></td>\n",
       "    </tr>\n",
       "    <tr>\n",
       "      <th>pages</th>\n",
       "      <td>1--8</td>\n",
       "      <td>1254--1269</td>\n",
       "      <td></td>\n",
       "      <td>416--430</td>\n",
       "      <td></td>\n",
       "    </tr>\n",
       "    <tr>\n",
       "      <th>title</th>\n",
       "      <td>{Law of large numbers and central limit theorem under nonlinear expectations}</td>\n",
       "      <td>{Organizational Form and Efficiency: The Coexistence of Stock and Mutual Property-Liability Insu...</td>\n",
       "      <td>{Blockstack: A New Internet for Decentralized Applications}</td>\n",
       "      <td>{sFFT: A Faster Accurate Computation of the p-Value of the Entropy Score}</td>\n",
       "      <td>{Time, Space and Things}</td>\n",
       "    </tr>\n",
       "    <tr>\n",
       "      <th>volume</th>\n",
       "      <td>4</td>\n",
       "      <td>45</td>\n",
       "      <td></td>\n",
       "      <td>12</td>\n",
       "      <td></td>\n",
       "    </tr>\n",
       "    <tr>\n",
       "      <th>year</th>\n",
       "      <td>2019</td>\n",
       "      <td>2009</td>\n",
       "      <td>2017</td>\n",
       "      <td>2005</td>\n",
       "      <td>1976</td>\n",
       "    </tr>\n",
       "    <tr>\n",
       "      <th>publisher</th>\n",
       "      <td></td>\n",
       "      <td></td>\n",
       "      <td></td>\n",
       "      <td></td>\n",
       "      <td>Penguin Books Ltd.</td>\n",
       "    </tr>\n",
       "    <tr>\n",
       "      <th>url</th>\n",
       "      <td></td>\n",
       "      <td></td>\n",
       "      <td>https://blockstack.org/whitepaper.pdf</td>\n",
       "      <td></td>\n",
       "      <td></td>\n",
       "    </tr>\n",
       "    <tr>\n",
       "      <th>institution</th>\n",
       "      <td></td>\n",
       "      <td></td>\n",
       "      <td></td>\n",
       "      <td></td>\n",
       "      <td></td>\n",
       "    </tr>\n",
       "    <tr>\n",
       "      <th>number</th>\n",
       "      <td>1</td>\n",
       "      <td>9</td>\n",
       "      <td></td>\n",
       "      <td>4</td>\n",
       "      <td></td>\n",
       "    </tr>\n",
       "    <tr>\n",
       "      <th>mendeley-tags</th>\n",
       "      <td></td>\n",
       "      <td>Cummins</td>\n",
       "      <td></td>\n",
       "      <td>FFT</td>\n",
       "      <td>Book</td>\n",
       "    </tr>\n",
       "    <tr>\n",
       "      <th>booktitle</th>\n",
       "      <td></td>\n",
       "      <td></td>\n",
       "      <td></td>\n",
       "      <td></td>\n",
       "      <td></td>\n",
       "    </tr>\n",
       "    <tr>\n",
       "      <th>edition</th>\n",
       "      <td></td>\n",
       "      <td></td>\n",
       "      <td></td>\n",
       "      <td></td>\n",
       "      <td></td>\n",
       "    </tr>\n",
       "    <tr>\n",
       "      <th>month</th>\n",
       "      <td></td>\n",
       "      <td></td>\n",
       "      <td></td>\n",
       "      <td></td>\n",
       "      <td></td>\n",
       "    </tr>\n",
       "    <tr>\n",
       "      <th>address</th>\n",
       "      <td></td>\n",
       "      <td></td>\n",
       "      <td></td>\n",
       "      <td></td>\n",
       "      <td></td>\n",
       "    </tr>\n",
       "    <tr>\n",
       "      <th>editor</th>\n",
       "      <td></td>\n",
       "      <td></td>\n",
       "      <td></td>\n",
       "      <td></td>\n",
       "      <td></td>\n",
       "    </tr>\n",
       "    <tr>\n",
       "      <th>arc-citations</th>\n",
       "      <td>0</td>\n",
       "      <td>0</td>\n",
       "      <td>0</td>\n",
       "      <td>0</td>\n",
       "      <td>0</td>\n",
       "    </tr>\n",
       "    <tr>\n",
       "      <th>arc-source</th>\n",
       "      <td>mendeley</td>\n",
       "      <td>mendeley</td>\n",
       "      <td>mendeley</td>\n",
       "      <td>mendeley</td>\n",
       "      <td>mendeley</td>\n",
       "    </tr>\n",
       "  </tbody>\n",
       "</table>\n",
       "</div>"
      ],
      "text/plain": [
       "                                                                                           0  \\\n",
       "tag                                                                                 Peng2019   \n",
       "type                                                                                 article   \n",
       "author                                                                           Peng, Shige   \n",
       "doi                                                                10.1186/s41546-019-0038-2   \n",
       "journal                                       Probability, Uncertainty and Quantitative Risk   \n",
       "pages                                                                                   1--8   \n",
       "title          {Law of large numbers and central limit theorem under nonlinear expectations}   \n",
       "volume                                                                                     4   \n",
       "year                                                                                    2019   \n",
       "publisher                                                                                      \n",
       "url                                                                                            \n",
       "institution                                                                                    \n",
       "number                                                                                     1   \n",
       "mendeley-tags                                                                                  \n",
       "booktitle                                                                                      \n",
       "edition                                                                                        \n",
       "month                                                                                          \n",
       "address                                                                                        \n",
       "editor                                                                                         \n",
       "arc-citations                                                                              0   \n",
       "arc-source                                                                          mendeley   \n",
       "\n",
       "                                                                                                                 1  \\\n",
       "tag                                                                                                   Cummins2009a   \n",
       "type                                                                                                       article   \n",
       "author                                                        Cummins, J. David and Weiss, Mary A. and Zi, Hongmin   \n",
       "doi                                                                                         10.1287/mnsc.45.9.1254   \n",
       "journal                                                                                         Management Science   \n",
       "pages                                                                                                   1254--1269   \n",
       "title          {Organizational Form and Efficiency: The Coexistence of Stock and Mutual Property-Liability Insu...   \n",
       "volume                                                                                                          45   \n",
       "year                                                                                                          2009   \n",
       "publisher                                                                                                            \n",
       "url                                                                                                                  \n",
       "institution                                                                                                          \n",
       "number                                                                                                           9   \n",
       "mendeley-tags                                                                                              Cummins   \n",
       "booktitle                                                                                                            \n",
       "edition                                                                                                              \n",
       "month                                                                                                                \n",
       "address                                                                                                              \n",
       "editor                                                                                                               \n",
       "arc-citations                                                                                                    0   \n",
       "arc-source                                                                                                mendeley   \n",
       "\n",
       "                                                                                  2  \\\n",
       "tag                                                                         Ali2017   \n",
       "type                                                                        article   \n",
       "author         Ali, Muneeb and Shea, Ryan and Nelson, Jude and Freedman, Michael J.   \n",
       "doi                                                                                   \n",
       "journal                                                                               \n",
       "pages                                                                                 \n",
       "title                   {Blockstack: A New Internet for Decentralized Applications}   \n",
       "volume                                                                                \n",
       "year                                                                           2017   \n",
       "publisher                                                                             \n",
       "url                                           https://blockstack.org/whitepaper.pdf   \n",
       "institution                                                                           \n",
       "number                                                                                \n",
       "mendeley-tags                                                                         \n",
       "booktitle                                                                             \n",
       "edition                                                                               \n",
       "month                                                                                 \n",
       "address                                                                               \n",
       "editor                                                                                \n",
       "arc-citations                                                                     0   \n",
       "arc-source                                                                 mendeley   \n",
       "\n",
       "                                                                                       3  \\\n",
       "tag                                                                            Keich2005   \n",
       "type                                                                             article   \n",
       "author                                                                        Keich, Uri   \n",
       "doi                                                                                        \n",
       "journal                                                 Journal of Computational Biology   \n",
       "pages                                                                           416--430   \n",
       "title          {sFFT: A Faster Accurate Computation of the p-Value of the Entropy Score}   \n",
       "volume                                                                                12   \n",
       "year                                                                                2005   \n",
       "publisher                                                                                  \n",
       "url                                                                                        \n",
       "institution                                                                                \n",
       "number                                                                                 4   \n",
       "mendeley-tags                                                                        FFT   \n",
       "booktitle                                                                                  \n",
       "edition                                                                                    \n",
       "month                                                                                      \n",
       "address                                                                                    \n",
       "editor                                                                                     \n",
       "arc-citations                                                                          0   \n",
       "arc-source                                                                      mendeley   \n",
       "\n",
       "                                      4  \n",
       "tag                          Ridley1976  \n",
       "type                               book  \n",
       "author                    Ridley, B. K.  \n",
       "doi                     10.1119/1.11114  \n",
       "journal                                  \n",
       "pages                                    \n",
       "title          {Time, Space and Things}  \n",
       "volume                                   \n",
       "year                               1976  \n",
       "publisher            Penguin Books Ltd.  \n",
       "url                                      \n",
       "institution                              \n",
       "number                                   \n",
       "mendeley-tags                      Book  \n",
       "booktitle                                \n",
       "edition                                  \n",
       "month                                    \n",
       "address                                  \n",
       "editor                                   \n",
       "arc-citations                         0  \n",
       "arc-source                     mendeley  "
      ]
     },
     "execution_count": 79,
     "metadata": {},
     "output_type": "execute_result"
    },
    {
     "name": "stdout",
     "output_type": "stream",
     "text": [
      "time: 0 ns (started: 2025-05-28 00:04:09 +01:00)\n"
     ]
    }
   ],
   "source": [
    "lib.ref_df.sample(20).reset_index(drop=True).head().T#[mandatory]"
   ]
  },
  {
   "cell_type": "code",
   "execution_count": 72,
   "id": "7afb7827-d7d0-4835-bcef-d05555c3d544",
   "metadata": {},
   "outputs": [
    {
     "name": "stdout",
     "output_type": "stream",
     "text": [
      "time: 4.7 s (started: 2025-05-27 23:54:36 +01:00)\n"
     ]
    }
   ],
   "source": [
    "i = i + 1\n",
    "data = {k:v for k, v in lib.ref_df.loc[i].items() if v != ''}\n",
    "updated = edit_fields(data, mandatory, title=\"Edit Book Info\", known_values=defaults)\n",
    "updated"
   ]
  },
  {
   "cell_type": "code",
   "execution_count": 19,
   "id": "0ab7ca4a-072a-4394-86c0-514dfa907170",
   "metadata": {},
   "outputs": [
    {
     "name": "stdout",
     "output_type": "stream",
     "text": [
      "time: 31 ms (started: 2025-05-27 23:29:58 +01:00)\n"
     ]
    }
   ],
   "source": [
    "lib = arcl.Library('uber-library')"
   ]
  },
  {
   "cell_type": "code",
   "execution_count": 63,
   "id": "78c7c879-1828-4a1a-817e-4086d5efe188",
   "metadata": {},
   "outputs": [
    {
     "name": "stdout",
     "output_type": "stream",
     "text": [
      "time: 0 ns (started: 2025-05-27 23:49:21 +01:00)\n"
     ]
    }
   ],
   "source": [
    "i = 202"
   ]
  },
  {
   "cell_type": "code",
   "execution_count": 37,
   "id": "8e5d1549-6fa3-4569-bb67-7b69fc0b081a",
   "metadata": {},
   "outputs": [
    {
     "name": "stdout",
     "output_type": "stream",
     "text": [
      "time: 0 ns (started: 2025-05-27 23:34:26 +01:00)\n"
     ]
    }
   ],
   "source": []
  },
  {
   "cell_type": "code",
   "execution_count": 38,
   "id": "d51dc88b-8b60-4235-8b5f-b5dfc6cb9f22",
   "metadata": {},
   "outputs": [
    {
     "name": "stdout",
     "output_type": "stream",
     "text": [
      "time: 16 ms (started: 2025-05-27 23:34:28 +01:00)\n"
     ]
    }
   ],
   "source": []
  },
  {
   "cell_type": "code",
   "execution_count": 40,
   "id": "d074cf68-64ed-41b1-ab99-422536c03faa",
   "metadata": {},
   "outputs": [
    {
     "name": "stdout",
     "output_type": "stream",
     "text": [
      "time: 15 ms (started: 2025-05-27 23:34:48 +01:00)\n"
     ]
    }
   ],
   "source": [
    "data = lib.ref_df.querex('select journal, publisher tag ~ Mildenhall2024')[mandatory].iloc[0].to_dict()"
   ]
  },
  {
   "cell_type": "code",
   "execution_count": 54,
   "id": "474b1975-e466-48dc-abcb-d920722c8d99",
   "metadata": {},
   "outputs": [
    {
     "data": {
      "text/plain": [
       "{'tag': 'Shen2024',\n",
       " 'type': 'article',\n",
       " 'author': 'Shen, Yi and {Van Oosten}, Zachary and Wang, Ruodu',\n",
       " 'pages': '1--51',\n",
       " 'title': '{Partially Law-Invariant Risk Measures}',\n",
       " 'year': '2024',\n",
       " 'url': 'http://arxiv.org/abs/2401.17265',\n",
       " 'number': 'June',\n",
       " 'mendeley-tags': 'WangR',\n",
       " 'arc-citations': 0,\n",
       " 'arc-source': 'mendeley'}"
      ]
     },
     "execution_count": 54,
     "metadata": {},
     "output_type": "execute_result"
    },
    {
     "name": "stdout",
     "output_type": "stream",
     "text": [
      "time: 0 ns (started: 2025-05-27 23:43:02 +01:00)\n"
     ]
    }
   ],
   "source": []
  },
  {
   "cell_type": "code",
   "execution_count": 18,
   "id": "747774f6-e2f0-4ba1-afc0-70897f0d5e28",
   "metadata": {},
   "outputs": [
    {
     "name": "stdout",
     "output_type": "stream",
     "text": [
      "{'Title': '1984', 'Author': 'George Orwell', 'Genre': 'Fiction|', 'Year': ''}\n",
      "time: 16.3 s (started: 2025-05-27 23:29:16 +01:00)\n"
     ]
    }
   ],
   "source": [
    "\n",
    "data = {\"Title\": \"1984\", \"Author\": \"George Orwell\", 'Genre': 'Fiction|'}\n",
    "mandatory = [\"Title\", \"Author\", \"Year\", \"Genre\"]\n",
    "known = {\"Genre\": [\"Fiction\", \"Non-fiction\", \"Sci-Fi\", \"Fantasy\", \"Other\"]}\n",
    "updated = edit_fields(data, mandatory, title=\"Edit Book Info\", known_values=known)\n",
    "print(updated)\n"
   ]
  },
  {
   "cell_type": "code",
   "execution_count": 51,
   "id": "59ad11d0-6ac2-4f2c-8165-3a8f3b49ca89",
   "metadata": {},
   "outputs": [
    {
     "data": {
      "text/plain": [
       "['Report',\n",
       " 'article',\n",
       " 'book',\n",
       " 'incollection',\n",
       " 'inproceedings',\n",
       " 'manual',\n",
       " 'misc',\n",
       " 'phdthesis',\n",
       " 'techreport',\n",
       " 'unpublished']"
      ]
     },
     "execution_count": 51,
     "metadata": {},
     "output_type": "execute_result"
    },
    {
     "name": "stdout",
     "output_type": "stream",
     "text": [
      "time: 16 ms (started: 2025-05-27 23:41:28 +01:00)\n"
     ]
    }
   ],
   "source": [
    "defaults['type']"
   ]
  },
  {
   "cell_type": "code",
   "execution_count": 200,
   "id": "4a3f42d3-43bc-46ad-b3af-94901a3e865a",
   "metadata": {},
   "outputs": [
    {
     "name": "stdout",
     "output_type": "stream",
     "text": [
      "time: 0 ns (started: 2025-05-28 10:55:25 +01:00)\n"
     ]
    }
   ],
   "source": [
    "lib._trie = None"
   ]
  },
  {
   "cell_type": "code",
   "execution_count": null,
   "id": "91254a21-c1e0-4e20-881d-512b4584fe75",
   "metadata": {},
   "outputs": [],
   "source": []
  },
  {
   "cell_type": "code",
   "execution_count": 203,
   "id": "16decea5-d928-4bd2-a998-29488ec37889",
   "metadata": {},
   "outputs": [
    {
     "name": "stdout",
     "output_type": "stream",
     "text": [
      "Tsanakas, Andr is not a key...adding\n"
     ]
    },
    {
     "data": {
      "text/plain": [
       "'Tsanakas, Andreas'"
      ]
     },
     "execution_count": 203,
     "metadata": {},
     "output_type": "execute_result"
    },
    {
     "name": "stdout",
     "output_type": "stream",
     "text": [
      "time: 15 ms (started: 2025-05-28 10:55:55 +01:00)\n"
     ]
    }
   ],
   "source": [
    "lib.to_name_ex('Tsanakas, Andr')"
   ]
  },
  {
   "cell_type": "code",
   "execution_count": 82,
   "id": "d31dabed-10c6-403e-9911-d04474e5e6bf",
   "metadata": {},
   "outputs": [
    {
     "name": "stdout",
     "output_type": "stream",
     "text": [
      "time: 156 ms (started: 2025-05-28 00:06:29 +01:00)\n"
     ]
    }
   ],
   "source": [
    "import requests\n",
    "\n",
    "def lookup_doi(doi: str) -> dict | None:\n",
    "    url = f\"https://api.crossref.org/works/{doi}\"\n",
    "    resp = requests.get(url, headers={\"User-Agent\": \"DOI lookup script\"})\n",
    "    if resp.status_code == 200:\n",
    "        return resp.json()[\"message\"]\n",
    "    return None\n"
   ]
  },
  {
   "cell_type": "code",
   "execution_count": 83,
   "id": "319ad04f-ae1f-4061-82a1-e0541262d859",
   "metadata": {},
   "outputs": [
    {
     "name": "stdout",
     "output_type": "stream",
     "text": [
      "Measured measurement\n",
      "Aspelmeyer Markus\n",
      "time: 1.11 s (started: 2025-05-28 00:06:42 +01:00)\n"
     ]
    }
   ],
   "source": [
    "data = lookup_doi(\"10.1038/nphys1170\")\n",
    "if data:\n",
    "    print(data[\"title\"][0])\n",
    "    print(data[\"author\"][0][\"family\"], data[\"author\"][0][\"given\"])\n"
   ]
  },
  {
   "cell_type": "code",
   "execution_count": 91,
   "id": "1b051f1b-d8ae-4b9a-b516-2b39dd4dd22c",
   "metadata": {},
   "outputs": [
    {
     "name": "stdout",
     "output_type": "stream",
     "text": [
      "time: 16 ms (started: 2025-05-28 00:10:55 +01:00)\n"
     ]
    }
   ],
   "source": [
    "def extract_bibtex_fields(data: dict) -> dict:\n",
    "    authors = data.get(\"author\", [])\n",
    "    author_str = \" and \".join(\n",
    "        f\"{a['family']}, {a.get('given', '')}\".strip() for a in authors\n",
    "    )\n",
    "\n",
    "    return {\n",
    "        \"title\": data.get(\"title\", [\"\"])[0],\n",
    "        \"author\": author_str,\n",
    "        \"year\": data.get(\"issued\", {}).get(\"date-parts\", [[None]])[0][0],\n",
    "        \"journal\": data.get(\"container-title\", [\"\"])[0],\n",
    "        \"volume\": data.get(\"volume\", \"\"),\n",
    "        \"number\": data.get(\"issue\", \"\"),\n",
    "        \"pages\": data.get(\"page\", \"\"),\n",
    "        \"doi\": data.get(\"DOI\", \"\"),\n",
    "        \"url\": data.get(\"URL\", \"\")\n",
    "    }\n"
   ]
  },
  {
   "cell_type": "code",
   "execution_count": null,
   "id": "5f373704-e457-4366-9558-6c65be6d4393",
   "metadata": {},
   "outputs": [],
   "source": [
    "for d in dois[40:45]:\n",
    "    data = lookup_doi(d)\n",
    "    if data:\n",
    "        print(d)\n",
    "        print('-' * len(d))\n",
    "        print(extract_bibtex_fields(data))\n",
    "        print()\n",
    "    else:\n",
    "        print(f'FAIL {d}\\n')"
   ]
  },
  {
   "cell_type": "code",
   "execution_count": 95,
   "id": "d6632c25-b919-4fb4-ab2a-c79ec9bd8c6b",
   "metadata": {},
   "outputs": [
    {
     "data": {
      "text/plain": [
       "2538"
      ]
     },
     "execution_count": 95,
     "metadata": {},
     "output_type": "execute_result"
    },
    {
     "name": "stdout",
     "output_type": "stream",
     "text": [
      "time: 0 ns (started: 2025-05-28 00:12:29 +01:00)\n"
     ]
    }
   ],
   "source": [
    "len(dois)"
   ]
  },
  {
   "cell_type": "code",
   "execution_count": 84,
   "id": "925cef4f-f35e-4823-b2a0-3b8db4b14f8e",
   "metadata": {},
   "outputs": [
    {
     "name": "stdout",
     "output_type": "stream",
     "text": [
      "time: 0 ns (started: 2025-05-28 00:07:03 +01:00)\n"
     ]
    }
   ],
   "source": [
    "dois = lib.distinct('doi')"
   ]
  },
  {
   "cell_type": "code",
   "execution_count": 96,
   "id": "56d73cc1-4626-4df8-977f-28f26f4e82e2",
   "metadata": {},
   "outputs": [
    {
     "name": "stdout",
     "output_type": "stream",
     "text": [
      "time: 0 ns (started: 2025-05-28 00:13:10 +01:00)\n"
     ]
    }
   ],
   "source": [
    "def search_doi_by_title(title: str) -> dict | None:\n",
    "    url = \"https://api.crossref.org/works\"\n",
    "    params = {\"query.title\": title, \"rows\": 1}\n",
    "    headers = {\n",
    "        \"User-Agent\": \"archivum/1.1 (mailto:mynl@me.com)\"\n",
    "    }\n",
    "    resp = requests.get(url, params=params, headers=headers)\n",
    "    if resp.status_code == 200:\n",
    "        items = resp.json()[\"message\"][\"items\"]\n",
    "        return items[0] if items else None\n",
    "    return None\n"
   ]
  },
  {
   "cell_type": "code",
   "execution_count": 102,
   "id": "59182686-2efa-47a5-88fd-540fabb88710",
   "metadata": {},
   "outputs": [
    {
     "name": "stdout",
     "output_type": "stream",
     "text": [
      "10.1007/bf01388809\n",
      "time: 2.75 s (started: 2025-05-28 00:19:46 +01:00)\n"
     ]
    }
   ],
   "source": [
    "result = search_doi_by_title()\n",
    "if result:\n",
    "    print(result[\"DOI\"])"
   ]
  },
  {
   "cell_type": "code",
   "execution_count": 103,
   "id": "6cc7fca9-16b0-4dd6-bd41-4eba133c45bd",
   "metadata": {},
   "outputs": [
    {
     "data": {
      "text/plain": [
       "{'title': 'Heegner points and derivatives ofL-series',\n",
       " 'author': 'Gross, Benedict H. and Zagier, Don B.',\n",
       " 'year': 1986,\n",
       " 'journal': 'Inventiones Mathematicae',\n",
       " 'volume': '84',\n",
       " 'number': '2',\n",
       " 'pages': '225-320',\n",
       " 'doi': '10.1007/bf01388809',\n",
       " 'url': 'https://doi.org/10.1007/bf01388809'}"
      ]
     },
     "execution_count": 103,
     "metadata": {},
     "output_type": "execute_result"
    },
    {
     "name": "stdout",
     "output_type": "stream",
     "text": [
      "time: 16 ms (started: 2025-05-28 00:19:51 +01:00)\n"
     ]
    }
   ],
   "source": [
    "extract_bibtex_fields(result)"
   ]
  },
  {
   "cell_type": "code",
   "execution_count": 100,
   "id": "c2f61cbc-6f4b-493d-b2ec-648858f569e1",
   "metadata": {},
   "outputs": [
    {
     "name": "stdout",
     "output_type": "stream",
     "text": [
      "time: 0 ns (started: 2025-05-28 00:18:12 +01:00)\n"
     ]
    }
   ],
   "source": [
    "from pprint import pprint"
   ]
  },
  {
   "cell_type": "code",
   "execution_count": null,
   "id": "2613ae1b-63c6-4a8b-9b68-ea7a8aa68c4e",
   "metadata": {},
   "outputs": [],
   "source": [
    "pprint(result)"
   ]
  },
  {
   "cell_type": "code",
   "execution_count": 220,
   "id": "d5e0dcc6-8fe0-4b00-8245-1b1ae57eff59",
   "metadata": {},
   "outputs": [
    {
     "data": {
      "text/plain": [
       "Library(uber-library.archivum-config)"
      ]
     },
     "execution_count": 220,
     "metadata": {},
     "output_type": "execute_result"
    },
    {
     "name": "stdout",
     "output_type": "stream",
     "text": [
      "time: 0 ns (started: 2025-05-28 11:44:31 +01:00)\n"
     ]
    }
   ],
   "source": [
    "lib"
   ]
  },
  {
   "cell_type": "code",
   "execution_count": 223,
   "id": "84c3beb8-0037-4ca1-8b6e-f1856795b7ec",
   "metadata": {},
   "outputs": [
    {
     "data": {
      "text/plain": [
       "1"
      ]
     },
     "execution_count": 223,
     "metadata": {},
     "output_type": "execute_result"
    },
    {
     "name": "stdout",
     "output_type": "stream",
     "text": [
      "time: 0 ns (started: 2025-05-28 11:45:44 +01:00)\n"
     ]
    }
   ],
   "source": [
    "len(r)"
   ]
  },
  {
   "cell_type": "code",
   "execution_count": null,
   "id": "afd6db55-6d9b-4b9c-8ace-dd234f8d234b",
   "metadata": {},
   "outputs": [],
   "source": [
    "r = arcc.search(title=\"Heegner points and derivatives of L-series\", rows=1)\n",
    "arcc.to_bibtex(r[0])\n",
    "\n",
    "arcc.to_bibtex(r[0], lib)"
   ]
  },
  {
   "cell_type": "code",
   "execution_count": 226,
   "id": "f08bb447-acc3-404e-adf2-5121e7933b7f",
   "metadata": {},
   "outputs": [
    {
     "data": {
      "text/plain": [
       "{'type': 'article',\n",
       " 'title': 'Heegner points and derivatives ofL-series',\n",
       " 'year': 1986,\n",
       " 'doi': '10.1007/bf01388809',\n",
       " 'url': 'https://doi.org/10.1007/bf01388809',\n",
       " 'author': 'Gross, Benedict H. and Zagier, Don B.',\n",
       " 'journal': 'Inventiones Mathematicae',\n",
       " 'volume': '84',\n",
       " 'number': '2',\n",
       " 'pages': '225-320'}"
      ]
     },
     "execution_count": 226,
     "metadata": {},
     "output_type": "execute_result"
    },
    {
     "name": "stdout",
     "output_type": "stream",
     "text": [
      "time: 0 ns (started: 2025-05-28 11:47:01 +01:00)\n"
     ]
    }
   ],
   "source": [
    "arcc.to_bibtex(r[0], lib)"
   ]
  },
  {
   "cell_type": "code",
   "execution_count": 231,
   "id": "8727b554-400b-4dfe-8565-3c2701120d1e",
   "metadata": {},
   "outputs": [
    {
     "name": "stdout",
     "output_type": "stream",
     "text": [
      "time: 0 ns (started: 2025-05-28 13:50:42 +01:00)\n"
     ]
    }
   ],
   "source": [
    "r = arcr.Reference('Mild2025', 'journal', 'My splendid thing', 2025, author='Mildenhall, Stephen J.')"
   ]
  },
  {
   "cell_type": "code",
   "execution_count": 232,
   "id": "c702b7ca-d408-4c04-9a3f-1ce214a01340",
   "metadata": {},
   "outputs": [
    {
     "data": {
      "text/plain": [
       "Reference(tag='Mild2025', type='journal', title='My splendid thing', year=2025, author='Mildenhall, Stephen J.', journal=None, volume=None, number=None, month=None, pages=None, edition=None, booktitle=None, editor=None, publisher=None, institution=None, address=None, doi=None, url=None, file=None, source=None, mendeley_tags=None, arc_citations=None, arc_source=None)"
      ]
     },
     "execution_count": 232,
     "metadata": {},
     "output_type": "execute_result"
    },
    {
     "name": "stdout",
     "output_type": "stream",
     "text": [
      "time: 0 ns (started: 2025-05-28 13:50:48 +01:00)\n"
     ]
    }
   ],
   "source": [
    "r"
   ]
  },
  {
   "cell_type": "code",
   "execution_count": 239,
   "id": "bc15fea3-6d2c-42df-bf56-0a43ba3238c0",
   "metadata": {},
   "outputs": [
    {
     "data": {
      "text/plain": [
       "{'tag': 'Mild2025',\n",
       " 'type': 'journal',\n",
       " 'title': 'My splendid thing',\n",
       " 'year': 2025,\n",
       " 'author': 'Mildenhall, Stephen J.',\n",
       " 'journal': '',\n",
       " 'volume': '',\n",
       " 'number': '',\n",
       " 'month': '',\n",
       " 'pages': '',\n",
       " 'edition': '',\n",
       " 'booktitle': '',\n",
       " 'editor': '',\n",
       " 'publisher': '',\n",
       " 'institution': '',\n",
       " 'address': '',\n",
       " 'doi': '',\n",
       " 'url': '',\n",
       " 'file': '',\n",
       " 'source': '',\n",
       " 'mendeley_tags': '',\n",
       " 'arc_citations': '',\n",
       " 'arc_source': ''}"
      ]
     },
     "execution_count": 239,
     "metadata": {},
     "output_type": "execute_result"
    },
    {
     "name": "stdout",
     "output_type": "stream",
     "text": [
      "time: 0 ns (started: 2025-05-28 13:58:26 +01:00)\n"
     ]
    }
   ],
   "source": [
    "r.to_dict(fillna='')"
   ]
  },
  {
   "cell_type": "code",
   "execution_count": null,
   "id": "b4d788bc-c747-48f4-b059-df0c6d1f67d9",
   "metadata": {},
   "outputs": [],
   "source": [
    "r = arcc.search(author='Stephen Mildenhall', rows=5)\n",
    "print(len(r))\n",
    "\n",
    "for _ in r:\n",
    "    ref = arcr.Reference.from_crossref(_, lib)\n",
    "    pp(ref.to_dict())"
   ]
  },
  {
   "cell_type": "code",
   "execution_count": 47,
   "id": "ac9906a4-d184-470e-b2a4-ade847d915dd",
   "metadata": {},
   "outputs": [
    {
     "data": {
      "text/plain": [
       "['mendeley']"
      ]
     },
     "execution_count": 47,
     "metadata": {},
     "output_type": "execute_result"
    },
    {
     "name": "stdout",
     "output_type": "stream",
     "text": [
      "time: 16 ms (started: 2025-05-28 15:03:19 +01:00)\n"
     ]
    }
   ],
   "source": [
    "lib.distinct('arc-source')"
   ]
  },
  {
   "cell_type": "code",
   "execution_count": 43,
   "id": "fedbafc8-11f5-412b-87c6-964fa26d631c",
   "metadata": {},
   "outputs": [
    {
     "name": "stdout",
     "output_type": "stream",
     "text": [
      "{'author': 'Mildenhall, Stephen J.',\n",
      " 'doi': '10.3390/risks5020031',\n",
      " 'journal': 'Risks',\n",
      " 'number': '2',\n",
      " 'pages': '31',\n",
      " 'source': 'crossref',\n",
      " 'tag': 'Mildenhall2017',\n",
      " 'title': 'Actuarial Geometry',\n",
      " 'type': 'article',\n",
      " 'url': 'https://doi.org/10.3390/risks5020031',\n",
      " 'volume': '5',\n",
      " 'year': 2017}\n",
      "time: 0 ns (started: 2025-05-28 15:01:57 +01:00)\n"
     ]
    }
   ],
   "source": [
    "pp(ref.to_dict())"
   ]
  },
  {
   "cell_type": "code",
   "execution_count": 67,
   "id": "e23628d9-8dc9-42f3-811b-18a71f08b124",
   "metadata": {},
   "outputs": [
    {
     "data": {
      "text/plain": [
       "'AMBest2008b'"
      ]
     },
     "execution_count": 67,
     "metadata": {},
     "output_type": "execute_result"
    },
    {
     "name": "stdout",
     "output_type": "stream",
     "text": [
      "time: 15 ms (started: 2025-05-28 15:07:13 +01:00)\n"
     ]
    }
   ],
   "source": [
    "s = [i for i in lib.distinct('tag') if re.search(r'^AMBest2008', i)][-1]\n",
    "s"
   ]
  },
  {
   "cell_type": "code",
   "execution_count": 71,
   "id": "751a92dc-5622-4a12-8054-8ad7762f778c",
   "metadata": {},
   "outputs": [
    {
     "data": {
      "text/plain": [
       "'b'"
      ]
     },
     "execution_count": 71,
     "metadata": {},
     "output_type": "execute_result"
    },
    {
     "name": "stdout",
     "output_type": "stream",
     "text": [
      "time: 0 ns (started: 2025-05-28 15:07:59 +01:00)\n"
     ]
    }
   ],
   "source": [
    "chr(ord('a') + 1)"
   ]
  },
  {
   "cell_type": "code",
   "execution_count": 72,
   "id": "c161a3f9-4c7d-4043-a719-b5b4992bd7a9",
   "metadata": {},
   "outputs": [
    {
     "data": {
      "text/plain": [
       "'AMBest2008c'"
      ]
     },
     "execution_count": 72,
     "metadata": {},
     "output_type": "execute_result"
    },
    {
     "name": "stdout",
     "output_type": "stream",
     "text": [
      "time: 0 ns (started: 2025-05-28 15:08:14 +01:00)\n"
     ]
    }
   ],
   "source": [
    "t = s[:-1] + chr(ord(s[-1])+1)\n",
    "t"
   ]
  },
  {
   "cell_type": "code",
   "execution_count": 137,
   "id": "569baf36-9734-492e-b986-bb5dfe696d84",
   "metadata": {},
   "outputs": [
    {
     "data": {
      "text/plain": [
       "'aaasd'"
      ]
     },
     "execution_count": 137,
     "metadata": {},
     "output_type": "execute_result"
    },
    {
     "name": "stdout",
     "output_type": "stream",
     "text": [
      "time: 0 ns (started: 2025-05-28 23:13:09 +01:00)\n"
     ]
    }
   ],
   "source": [
    "x = ''\n",
    "y = x or 'aaasd'\n",
    "y"
   ]
  },
  {
   "cell_type": "code",
   "execution_count": 126,
   "id": "09e70814-5b42-4f09-abde-82114e21493f",
   "metadata": {},
   "outputs": [
    {
     "data": {
      "text/plain": [
       "True"
      ]
     },
     "execution_count": 126,
     "metadata": {},
     "output_type": "execute_result"
    },
    {
     "name": "stdout",
     "output_type": "stream",
     "text": [
      "time: 0 ns (started: 2025-05-28 15:43:57 +01:00)\n"
     ]
    }
   ],
   "source": [
    "(Path().home() / 'downloads').exists()"
   ]
  },
  {
   "cell_type": "code",
   "execution_count": 131,
   "id": "d47efa63-e7a7-49eb-8aa9-6cce26fa3b1f",
   "metadata": {},
   "outputs": [
    {
     "name": "stdout",
     "output_type": "stream",
     "text": [
      "time: 0 ns (started: 2025-05-28 17:49:10 +01:00)\n"
     ]
    }
   ],
   "source": [
    "import archivum.cli as cli"
   ]
  },
  {
   "cell_type": "code",
   "execution_count": 136,
   "id": "11c2eda6-a221-4244-97fb-2d8230b2645d",
   "metadata": {},
   "outputs": [
    {
     "ename": "RuntimeError",
     "evalue": "asyncio.run() cannot be called from a running event loop",
     "output_type": "error",
     "traceback": [
      "\u001b[1;31m---------------------------------------------------------------------------\u001b[0m",
      "\u001b[1;31mRuntimeError\u001b[0m                              Traceback (most recent call last)",
      "Cell \u001b[1;32mIn[136], line 1\u001b[0m\n\u001b[1;32m----> 1\u001b[0m \u001b[43mcli\u001b[49m\u001b[38;5;241;43m.\u001b[39;49m\u001b[43mstart_uber_repl\u001b[49m\u001b[43m(\u001b[49m\u001b[38;5;124;43m'\u001b[39;49m\u001b[38;5;124;43m'\u001b[39;49m\u001b[43m,\u001b[49m\u001b[43m \u001b[49m\u001b[38;5;28;43;01mFalse\u001b[39;49;00m\u001b[43m)\u001b[49m\n",
      "File \u001b[1;32m~\\Documents\\CloudStation\\TELOS\\Python\\archivum_project\\archivum\\cli.py:363\u001b[0m, in \u001b[0;36mstart_uber_repl\u001b[1;34m(start, debug)\u001b[0m\n\u001b[0;32m    361\u001b[0m \u001b[38;5;28;01mwhile\u001b[39;00m \u001b[38;5;28;01mTrue\u001b[39;00m:\n\u001b[0;32m    362\u001b[0m     \u001b[38;5;28;01mtry\u001b[39;00m:\n\u001b[1;32m--> 363\u001b[0m         q \u001b[38;5;241m=\u001b[39m start \u001b[38;5;28;01mif\u001b[39;00m start \u001b[38;5;28;01melse\u001b[39;00m \u001b[43msession\u001b[49m\u001b[38;5;241;43m.\u001b[39;49m\u001b[43mprompt\u001b[49m\u001b[43m(\u001b[49m\n\u001b[0;32m    364\u001b[0m \u001b[43m            \u001b[49m\u001b[43mHTML\u001b[49m\u001b[43m(\u001b[49m\u001b[38;5;124;43mf\u001b[39;49m\u001b[38;5;124;43m'\u001b[39;49m\u001b[38;5;124;43m<ansired>archivum > </ansired>\u001b[39;49m\u001b[38;5;124;43m'\u001b[39;49m\u001b[43m)\u001b[49m\n\u001b[0;32m    365\u001b[0m \u001b[43m        \u001b[49m\u001b[43m)\u001b[49m\u001b[38;5;241m.\u001b[39mstrip()\n\u001b[0;32m    366\u001b[0m         start \u001b[38;5;241m=\u001b[39m \u001b[38;5;124m'\u001b[39m\u001b[38;5;124m'\u001b[39m\n\u001b[0;32m    368\u001b[0m         \u001b[38;5;28;01mif\u001b[39;00m q \u001b[38;5;129;01min\u001b[39;00m {\u001b[38;5;124m'\u001b[39m\u001b[38;5;124mexit\u001b[39m\u001b[38;5;124m'\u001b[39m, \u001b[38;5;124m'\u001b[39m\u001b[38;5;124m;\u001b[39m\u001b[38;5;124m'\u001b[39m, \u001b[38;5;124m'\u001b[39m\u001b[38;5;124mx\u001b[39m\u001b[38;5;124m'\u001b[39m, \u001b[38;5;124m'\u001b[39m\u001b[38;5;124m..\u001b[39m\u001b[38;5;124m'\u001b[39m}:\n",
      "File \u001b[1;32m~\\miniconda3\\envs\\working310\\lib\\site-packages\\prompt_toolkit\\shortcuts\\prompt.py:1026\u001b[0m, in \u001b[0;36mPromptSession.prompt\u001b[1;34m(self, message, editing_mode, refresh_interval, vi_mode, lexer, completer, complete_in_thread, is_password, key_bindings, bottom_toolbar, style, color_depth, cursor, include_default_pygments_style, style_transformation, swap_light_and_dark_colors, rprompt, multiline, prompt_continuation, wrap_lines, enable_history_search, search_ignore_case, complete_while_typing, validate_while_typing, complete_style, auto_suggest, validator, clipboard, mouse_support, input_processors, placeholder, reserve_space_for_menu, enable_system_prompt, enable_suspend, enable_open_in_editor, tempfile_suffix, tempfile, default, accept_default, pre_run, set_exception_handler, handle_sigint, in_thread, inputhook)\u001b[0m\n\u001b[0;32m   1023\u001b[0m     \u001b[38;5;28;01mwith\u001b[39;00m \u001b[38;5;28mself\u001b[39m\u001b[38;5;241m.\u001b[39m_dumb_prompt(\u001b[38;5;28mself\u001b[39m\u001b[38;5;241m.\u001b[39mmessage) \u001b[38;5;28;01mas\u001b[39;00m dump_app:\n\u001b[0;32m   1024\u001b[0m         \u001b[38;5;28;01mreturn\u001b[39;00m dump_app\u001b[38;5;241m.\u001b[39mrun(in_thread\u001b[38;5;241m=\u001b[39min_thread, handle_sigint\u001b[38;5;241m=\u001b[39mhandle_sigint)\n\u001b[1;32m-> 1026\u001b[0m \u001b[38;5;28;01mreturn\u001b[39;00m \u001b[38;5;28;43mself\u001b[39;49m\u001b[38;5;241;43m.\u001b[39;49m\u001b[43mapp\u001b[49m\u001b[38;5;241;43m.\u001b[39;49m\u001b[43mrun\u001b[49m\u001b[43m(\u001b[49m\n\u001b[0;32m   1027\u001b[0m \u001b[43m    \u001b[49m\u001b[43mset_exception_handler\u001b[49m\u001b[38;5;241;43m=\u001b[39;49m\u001b[43mset_exception_handler\u001b[49m\u001b[43m,\u001b[49m\n\u001b[0;32m   1028\u001b[0m \u001b[43m    \u001b[49m\u001b[43min_thread\u001b[49m\u001b[38;5;241;43m=\u001b[39;49m\u001b[43min_thread\u001b[49m\u001b[43m,\u001b[49m\n\u001b[0;32m   1029\u001b[0m \u001b[43m    \u001b[49m\u001b[43mhandle_sigint\u001b[49m\u001b[38;5;241;43m=\u001b[39;49m\u001b[43mhandle_sigint\u001b[49m\u001b[43m,\u001b[49m\n\u001b[0;32m   1030\u001b[0m \u001b[43m    \u001b[49m\u001b[43minputhook\u001b[49m\u001b[38;5;241;43m=\u001b[39;49m\u001b[43minputhook\u001b[49m\u001b[43m,\u001b[49m\n\u001b[0;32m   1031\u001b[0m \u001b[43m\u001b[49m\u001b[43m)\u001b[49m\n",
      "File \u001b[1;32m~\\miniconda3\\envs\\working310\\lib\\site-packages\\prompt_toolkit\\application\\application.py:998\u001b[0m, in \u001b[0;36mApplication.run\u001b[1;34m(self, pre_run, set_exception_handler, handle_sigint, in_thread, inputhook)\u001b[0m\n\u001b[0;32m    994\u001b[0m         \u001b[38;5;28;01mreturn\u001b[39;00m loop\u001b[38;5;241m.\u001b[39mrun_until_complete(coro)\n\u001b[0;32m    996\u001b[0m \u001b[38;5;28;01melse\u001b[39;00m:\n\u001b[0;32m    997\u001b[0m     \u001b[38;5;66;03m# No loop installed. Run like usual.\u001b[39;00m\n\u001b[1;32m--> 998\u001b[0m     \u001b[38;5;28;01mreturn\u001b[39;00m \u001b[43masyncio\u001b[49m\u001b[38;5;241;43m.\u001b[39;49m\u001b[43mrun\u001b[49m\u001b[43m(\u001b[49m\u001b[43mcoro\u001b[49m\u001b[43m)\u001b[49m\n",
      "File \u001b[1;32m~\\miniconda3\\envs\\working310\\lib\\asyncio\\runners.py:33\u001b[0m, in \u001b[0;36mrun\u001b[1;34m(main, debug)\u001b[0m\n\u001b[0;32m      9\u001b[0m \u001b[38;5;250m\u001b[39m\u001b[38;5;124;03m\"\"\"Execute the coroutine and return the result.\u001b[39;00m\n\u001b[0;32m     10\u001b[0m \n\u001b[0;32m     11\u001b[0m \u001b[38;5;124;03mThis function runs the passed coroutine, taking care of\u001b[39;00m\n\u001b[1;32m   (...)\u001b[0m\n\u001b[0;32m     30\u001b[0m \u001b[38;5;124;03m    asyncio.run(main())\u001b[39;00m\n\u001b[0;32m     31\u001b[0m \u001b[38;5;124;03m\"\"\"\u001b[39;00m\n\u001b[0;32m     32\u001b[0m \u001b[38;5;28;01mif\u001b[39;00m events\u001b[38;5;241m.\u001b[39m_get_running_loop() \u001b[38;5;129;01mis\u001b[39;00m \u001b[38;5;129;01mnot\u001b[39;00m \u001b[38;5;28;01mNone\u001b[39;00m:\n\u001b[1;32m---> 33\u001b[0m     \u001b[38;5;28;01mraise\u001b[39;00m \u001b[38;5;167;01mRuntimeError\u001b[39;00m(\n\u001b[0;32m     34\u001b[0m         \u001b[38;5;124m\"\u001b[39m\u001b[38;5;124masyncio.run() cannot be called from a running event loop\u001b[39m\u001b[38;5;124m\"\u001b[39m)\n\u001b[0;32m     36\u001b[0m \u001b[38;5;28;01mif\u001b[39;00m \u001b[38;5;129;01mnot\u001b[39;00m coroutines\u001b[38;5;241m.\u001b[39miscoroutine(main):\n\u001b[0;32m     37\u001b[0m     \u001b[38;5;28;01mraise\u001b[39;00m \u001b[38;5;167;01mValueError\u001b[39;00m(\u001b[38;5;124m\"\u001b[39m\u001b[38;5;124ma coroutine was expected, got \u001b[39m\u001b[38;5;132;01m{!r}\u001b[39;00m\u001b[38;5;124m\"\u001b[39m\u001b[38;5;241m.\u001b[39mformat(main))\n",
      "\u001b[1;31mRuntimeError\u001b[0m: asyncio.run() cannot be called from a running event loop"
     ]
    },
    {
     "name": "stdout",
     "output_type": "stream",
     "text": [
      "time: 485 ms (started: 2025-05-28 17:53:31 +01:00)\n"
     ]
    }
   ],
   "source": [
    "cli.start_uber_repl('', False)"
   ]
  },
  {
   "cell_type": "code",
   "execution_count": 134,
   "id": "de054a7e-49f8-46d8-ba41-940cdac727cb",
   "metadata": {},
   "outputs": [
    {
     "name": "stdout",
     "output_type": "stream",
     "text": [
      "time: 0 ns (started: 2025-05-28 17:50:57 +01:00)\n"
     ]
    }
   ],
   "source": [
    "if '': 10"
   ]
  },
  {
   "cell_type": "code",
   "execution_count": 138,
   "id": "eaf2baec-df38-4571-be31-38cd7b5614a9",
   "metadata": {},
   "outputs": [
    {
     "data": {
      "text/plain": [
       "('uber-library', WindowsPath('C:/Users/steve/AppData/Local/archivum'))"
      ]
     },
     "execution_count": 138,
     "metadata": {},
     "output_type": "execute_result"
    },
    {
     "name": "stdout",
     "output_type": "stream",
     "text": [
      "time: 16 ms (started: 2025-05-28 23:15:24 +01:00)\n"
     ]
    }
   ],
   "source": [
    "from archivum import DEFAULT_CONFIG_FILE, BASE_DIR\n",
    "DEFAULT_CONFIG_FILE, BASE_DIR"
   ]
  },
  {
   "cell_type": "code",
   "execution_count": 140,
   "id": "8d867df6-bf6f-4275-9193-8d1247870a39",
   "metadata": {},
   "outputs": [
    {
     "data": {
      "text/plain": [
       "['a', 'b', 'c']"
      ]
     },
     "execution_count": 140,
     "metadata": {},
     "output_type": "execute_result"
    },
    {
     "name": "stdout",
     "output_type": "stream",
     "text": [
      "time: 0 ns (started: 2025-05-29 08:08:42 +01:00)\n"
     ]
    }
   ],
   "source": [
    "l = list('abcd')\n",
    "l.remove('d')\n",
    "l"
   ]
  },
  {
   "cell_type": "code",
   "execution_count": 141,
   "id": "e00466af-0fb6-475f-8162-b0dcf896da9d",
   "metadata": {},
   "outputs": [
    {
     "ename": "ValueError",
     "evalue": "list.remove(x): x not in list",
     "output_type": "error",
     "traceback": [
      "\u001b[1;31m---------------------------------------------------------------------------\u001b[0m",
      "\u001b[1;31mValueError\u001b[0m                                Traceback (most recent call last)",
      "Cell \u001b[1;32mIn[141], line 1\u001b[0m\n\u001b[1;32m----> 1\u001b[0m \u001b[43ml\u001b[49m\u001b[38;5;241;43m.\u001b[39;49m\u001b[43mremove\u001b[49m\u001b[43m(\u001b[49m\u001b[38;5;124;43m'\u001b[39;49m\u001b[38;5;124;43md\u001b[39;49m\u001b[38;5;124;43m'\u001b[39;49m\u001b[43m)\u001b[49m\n",
      "\u001b[1;31mValueError\u001b[0m: list.remove(x): x not in list"
     ]
    },
    {
     "name": "stdout",
     "output_type": "stream",
     "text": [
      "time: 16 ms (started: 2025-05-29 08:08:49 +01:00)\n"
     ]
    }
   ],
   "source": [
    "l.remove('d')"
   ]
  },
  {
   "cell_type": "code",
   "execution_count": 149,
   "id": "345b035d-79ab-474e-9646-1386ffe21374",
   "metadata": {},
   "outputs": [
    {
     "name": "stdout",
     "output_type": "stream",
     "text": [
      "time: 0 ns (started: 2025-05-29 09:25:56 +01:00)\n"
     ]
    }
   ],
   "source": [
    "c = type('EmptyLibrary', (), {'name': 'No library open'})"
   ]
  },
  {
   "cell_type": "code",
   "execution_count": 150,
   "id": "e9c9b2ea-3622-4d3e-80bb-d19725b2b31a",
   "metadata": {},
   "outputs": [
    {
     "name": "stdout",
     "output_type": "stream",
     "text": [
      "time: 0 ns (started: 2025-05-29 09:25:56 +01:00)\n"
     ]
    }
   ],
   "source": [
    "l = c()"
   ]
  },
  {
   "cell_type": "code",
   "execution_count": 151,
   "id": "1b0176be-9045-4e3b-8bf8-bdd52e0daf84",
   "metadata": {},
   "outputs": [
    {
     "data": {
      "text/plain": [
       "'No library open'"
      ]
     },
     "execution_count": 151,
     "metadata": {},
     "output_type": "execute_result"
    },
    {
     "name": "stdout",
     "output_type": "stream",
     "text": [
      "time: 0 ns (started: 2025-05-29 09:25:57 +01:00)\n"
     ]
    }
   ],
   "source": [
    "l.name"
   ]
  },
  {
   "cell_type": "code",
   "execution_count": 152,
   "id": "db1ef338-344c-4feb-a10b-d86c5bfe80a4",
   "metadata": {},
   "outputs": [
    {
     "data": {
      "text/plain": [
       "27"
      ]
     },
     "execution_count": 152,
     "metadata": {},
     "output_type": "execute_result"
    },
    {
     "name": "stdout",
     "output_type": "stream",
     "text": [
      "time: 0 ns (started: 2025-05-29 09:53:44 +01:00)\n"
     ]
    }
   ],
   "source": [
    "len('archivum.cli.list_libraries')"
   ]
  },
  {
   "cell_type": "code",
   "execution_count": 162,
   "id": "b9f0828f-2914-456d-b800-dbac584cb604",
   "metadata": {},
   "outputs": [
    {
     "name": "stdout",
     "output_type": "stream",
     "text": [
      "30\n"
     ]
    },
    {
     "data": {
      "text/plain": [
       "'a long string of text askdfj a'"
      ]
     },
     "execution_count": 162,
     "metadata": {},
     "output_type": "execute_result"
    },
    {
     "name": "stdout",
     "output_type": "stream",
     "text": [
      "time: 0 ns (started: 2025-05-29 10:21:04 +01:00)\n"
     ]
    }
   ],
   "source": [
    "a = 'a long string of text askdfj a'\n",
    "print(len(a))\n",
    "f'{a[-120:].strip():<20}'"
   ]
  },
  {
   "cell_type": "code",
   "execution_count": 175,
   "id": "de7ce2ce-0d46-45ca-948c-be6a249d819b",
   "metadata": {},
   "outputs": [
    {
     "name": "stdout",
     "output_type": "stream",
     "text": [
      "10:40:06 | archivum.library.__init__      | INFO     | config_path = C:\\Users\\steve\\AppData\\Local\\archivum\\books.archivum-config\n",
      "10:40:06 | archivum.library.__init__      | INFO     | config_path = C:\\Users\\steve\\AppData\\Local\\archivum\\uber-library.archivum-config\n",
      "10:40:06 | archivum.library.list_deets    | INFO     | key            name                             description  \\\n",
      "value         books                        downloaded books   \n",
      "value  Uber Library  Mendeley port from May 2025 plus books   \n",
      "\n",
      "key                         bibtex_file     pdf_dir        text_dir_name  \\\n",
      "value    \\S\\Telos\\biblio\\books-test.bib    \\S\\BOOKS  \\temp\\pdf-full-text   \n",
      "value  \\S\\Telos\\biblio\\uber-library.bib  \\S\\Library  \\temp\\pdf-full-text   \n",
      "\n",
      "key    extractor                watched_dirs  \n",
      "value  pdftotext  [c:\\users\\steve\\downloads]  \n",
      "value  pdftotext  [c:\\users\\steve\\downloads]  \n",
      "time: 62 ms (started: 2025-05-29 10:40:06 +01:00)\n"
     ]
    }
   ],
   "source": [
    "df = arcl.Library.list_deets()"
   ]
  },
  {
   "cell_type": "code",
   "execution_count": 176,
   "id": "df2d855c-cd10-41b5-98a7-191bfad02a72",
   "metadata": {},
   "outputs": [
    {
     "data": {
      "text/html": [
       "<div class=\"greater-table\">\n",
       "<style>\n",
       "    #TFGM4ENQYBLFI  {\n",
       "    border-collapse: collapse;\n",
       "    font-family: \"Roboto\", \"Open Sans Condensed\", \"Arial\", 'Segoe UI', sans-serif;\n",
       "    font-size: 0.9em;\n",
       "    width: auto;\n",
       "    \n",
       "    margin: 10px auto;\n",
       "    border: none;\n",
       "    overflow: auto;\n",
       "    margin-left: auto;\n",
       "    margin-right: auto;\n",
       "    }\n",
       "    \n",
       "    #TFGM4ENQYBLFI caption {\n",
       "        padding: 4px 10px 2px 10px;\n",
       "        font-size: 1.1em;\n",
       "        text-align: center;\n",
       "        font-weight: normal;\n",
       "        caption-side: top;\n",
       "    }\n",
       "    #TFGM4ENQYBLFI thead {\n",
       "        \n",
       "        border-top: 1px solid #000;\n",
       "        border-bottom: 1px solid #000;\n",
       "        font-size: 1.0em;\n",
       "        }\n",
       "    #TFGM4ENQYBLFI tbody {\n",
       "        \n",
       "        border-bottom: 1px solid #000;\n",
       "        }\n",
       "    #TFGM4ENQYBLFI th  {\n",
       "        vertical-align: bottom;\n",
       "        padding: 4px 10px 4px 10px;\n",
       "    }\n",
       "    #TFGM4ENQYBLFI td {\n",
       "        \n",
       "        padding: 2px 10px 2px 10px;\n",
       "        vertical-align: top;\n",
       "    }\n",
       "    \n",
       "    #TFGM4ENQYBLFI .grt-hrule-0 {\n",
       "        border-top: 0px solid #000;\n",
       "    }\n",
       "    #TFGM4ENQYBLFI .grt-hrule-1 {\n",
       "        border-top: 0px solid #000;\n",
       "    }\n",
       "    #TFGM4ENQYBLFI .grt-hrule-2 {\n",
       "        border-top: 0px solid #000;\n",
       "    }\n",
       "    \n",
       "    #TFGM4ENQYBLFI .grt-bhrule-0 {\n",
       "        border-bottom: 0px solid #000;\n",
       "    }\n",
       "    #TFGM4ENQYBLFI .grt-bhrule-1 {\n",
       "        border-bottom: 0px solid #000;\n",
       "    }\n",
       "    #TFGM4ENQYBLFI .grt-vrule-index {\n",
       "        border-left: 1px solid #000;\n",
       "    }\n",
       "    #TFGM4ENQYBLFI .grt-vrule-0 {\n",
       "        border-left: 0px solid #000;\n",
       "    }\n",
       "    #TFGM4ENQYBLFI .grt-vrule-1 {\n",
       "        border-left: 0px solid #000;\n",
       "    }\n",
       "    #TFGM4ENQYBLFI .grt-vrule-2 {\n",
       "        border-left: 0px solid #000;\n",
       "    }\n",
       "    #TFGM4ENQYBLFI .grt-left {\n",
       "        text-align: left;\n",
       "    }\n",
       "    #TFGM4ENQYBLFI .grt-center {\n",
       "        text-align: center;\n",
       "    }\n",
       "    #TFGM4ENQYBLFI .grt-right {\n",
       "        text-align: right;\n",
       "        font-variant-numeric: tabular-nums;\n",
       "    }\n",
       "    #TFGM4ENQYBLFI .grt-head {\n",
       "        font-family: \"Times New Roman\", 'Courier New';\n",
       "        font-size: 1.0em;\n",
       "    }\n",
       "    #TFGM4ENQYBLFI .grt-bold {\n",
       "        font-weight: bold;\n",
       "    }\n",
       "\n",
       "    #TFGM4ENQYBLFI .grt-c-0 { width: 8.2em; }\n",
       "    #TFGM4ENQYBLFI .grt-c-1 { width: 23.799999999999997em; }\n",
       "    #TFGM4ENQYBLFI .grt-c-2 { width: 20.2em; }\n",
       "    #TFGM4ENQYBLFI .grt-c-3 { width: 6.999999999999999em; }\n",
       "    #TFGM4ENQYBLFI .grt-c-4 { width: 12.4em; }\n",
       "    #TFGM4ENQYBLFI .grt-c-5 { width: 6.3999999999999995em; }\n",
       "    #TFGM4ENQYBLFI .grt-c-6 { width: 19.599999999999998em; }\n",
       "</style>\n",
       "<table id=\"TFGM4ENQYBLFI\">\n",
       "<colgroup>\n",
       "<col style=\"width: 4.919999999999999em;\"/>\n",
       "<col style=\"width: 14.279999999999998em;\"/>\n",
       "<col style=\"width: 12.12em;\"/>\n",
       "<col style=\"width: 4.199999999999999em;\"/>\n",
       "<col style=\"width: 7.4399999999999995em;\"/>\n",
       "<col style=\"width: 3.8399999999999994em;\"/>\n",
       "<col style=\"width: 11.759999999999998em;\"/>\n",
       "</colgroup>\n",
       "<thead>\n",
       "<tr>\n",
       "<th class=\"grt-left\" colspan=\"1\">name</th>\n",
       "<th class=\"grt-center grt-vrule-0\" colspan=\"1\">description</th>\n",
       "<th class=\"grt-center grt-vrule-0\" colspan=\"1\">bibtex_file</th>\n",
       "<th class=\"grt-center grt-vrule-0\" colspan=\"1\">pdf_dir</th>\n",
       "<th class=\"grt-center grt-vrule-0\" colspan=\"1\">text_dir_name</th>\n",
       "<th class=\"grt-center grt-vrule-0\" colspan=\"1\">extractor</th>\n",
       "<th class=\"grt-center grt-vrule-0\" colspan=\"1\">watched_dirs</th>\n",
       "</tr>\n",
       "</thead>\n",
       "<tbody>\n",
       "<tr>\n",
       "<td class=\"grt-c-0 grt-left\">books</td>\n",
       "<td class=\"grt-c-1 grt-left grt-vrule-0\">downloaded books</td>\n",
       "<td class=\"grt-c-2 grt-left grt-vrule-0\">\\S\\Telos\\biblio\\books-test.bib</td>\n",
       "<td class=\"grt-c-3 grt-left grt-vrule-0\">\\S\\BOOKS</td>\n",
       "<td class=\"grt-c-4 grt-left grt-vrule-0\">\\temp\\pdf-full-text</td>\n",
       "<td class=\"grt-c-5 grt-left grt-vrule-0\">pdftotext</td>\n",
       "<td class=\"grt-c-6 grt-left grt-vrule-0\">['c:\\\\users\\\\steve\\\\downloads']</td>\n",
       "</tr>\n",
       "<tr>\n",
       "<td class=\"grt-c-0 grt-left\">Uber Library</td>\n",
       "<td class=\"grt-c-1 grt-left grt-vrule-0\">Mendeley port from May 2025 plus books</td>\n",
       "<td class=\"grt-c-2 grt-left grt-vrule-0\">\\S\\Telos\\biblio\\uber-library.bib</td>\n",
       "<td class=\"grt-c-3 grt-left grt-vrule-0\">\\S\\Library</td>\n",
       "<td class=\"grt-c-4 grt-left grt-vrule-0\">\\temp\\pdf-full-text</td>\n",
       "<td class=\"grt-c-5 grt-left grt-vrule-0\">pdftotext</td>\n",
       "<td class=\"grt-c-6 grt-left grt-vrule-0\">['c:\\\\users\\\\steve\\\\downloads']</td>\n",
       "</tr>\n",
       "</tbody>\n",
       "</table></div>"
      ],
      "text/latex": [
       "\n",
       "\\begin{tikzpicture}[\n",
       "    auto,\n",
       "    transform shape,\n",
       "    nosep/.style={inner sep=0},\n",
       "    table/.style={\n",
       "        matrix of nodes,\n",
       "        row sep=0.125em,\n",
       "        column sep=0.375em,\n",
       "        nodes in empty cells,\n",
       "        nodes={rectangle, scale=0.635, text badly ragged },\n",
       "\trow 1/.style={nodes={text=black, anchor=north, inner ysep=0, text height=0, text depth=0}},\n",
       "\trow 2/.style={nodes={text=black, anchor=south, inner ysep=.2em, minimum height=1.3em, font=\\bfseries}},\n",
       "\tcolumn  1/.style={nodes={align=left  }, text height=0.9em, text depth=0.2em, inner xsep=0.375em, inner ysep=0, text width=7.20em},\n",
       "\tcolumn  2/.style={nodes={align=left  }, nosep, text width=22.80em},\n",
       "\tcolumn  3/.style={nodes={align=left  }, nosep, text width=19.20em},\n",
       "\tcolumn  4/.style={nodes={align=left  }, nosep, text width=6.00em},\n",
       "\tcolumn  5/.style={nodes={align=left  }, nosep, text width=11.40em},\n",
       "\tcolumn  6/.style={nodes={align=left  }, nosep, text width=5.40em},\n",
       "\tcolumn  7/.style={nodes={align=left  }, nosep, text width=18.60em},\n",
       "\tcolumn  8/.style={text height=0.9em, text depth=0.2em, nosep, text width=0em}\t}]\n",
       "\\matrix (TFGM4ENQYBLFI) [table, ampersand replacement=\\&]{\n",
       "              \\&                                        \\&                                  \\&            \\&                     \\&           \\&                                 \\& \\\\\n",
       " name\\grtspacer \\& description\\grtspacer                  \\& bibtex\\_file\\grtspacer           \\& pdf\\_dir\\grtspacer \\& text\\_dir\\_name\\grtspacer \\& extractor\\grtspacer \\& watched\\_dirs\\grtspacer         \\& \\\\\n",
       " books        \\& downloaded books                       \\& \\S\\Telos\\biblio\\books-test.bib   \\& \\S\\BOOKS   \\& \\temp\\pdf-full-text \\& pdftotext \\& ['c:\\\\users\\\\steve\\\\downloads'] \\& \\\\\n",
       " Uber Library \\& Mendeley port from May 2025 plus books \\& \\S\\Telos\\biblio\\uber-library.bib \\& \\S\\Library \\& \\temp\\pdf-full-text \\& pdftotext \\& ['c:\\\\users\\\\steve\\\\downloads'] \\& \\\\\n",
       "};\n",
       "\n",
       "\\path[draw, thick] (TFGM4ENQYBLFI-1-1.south west)  -- (TFGM4ENQYBLFI-1-8.south east);\n",
       "\\path[draw, semithick] ([yshift=-0.0625em]TFGM4ENQYBLFI-2-1.south west)  -- ([yshift=-0.0625em]TFGM4ENQYBLFI-2-8.south east);\n",
       "\\path[draw, thick] ([yshift=-0.3125em]TFGM4ENQYBLFI-4-1.base west)  -- ([yshift=-0.3125em]TFGM4ENQYBLFI-4-8.base east);\n",
       "\n",
       "\n",
       "\n",
       "\\end{tikzpicture}\n"
      ],
      "text/plain": [
       "GreaterTable(df_id=TFGM4ENQYBLFI)"
      ]
     },
     "execution_count": 176,
     "metadata": {},
     "output_type": "execute_result"
    },
    {
     "name": "stdout",
     "output_type": "stream",
     "text": [
      "time: 31 ms (started: 2025-05-29 10:40:11 +01:00)\n"
     ]
    }
   ],
   "source": [
    "fGT(df)"
   ]
  },
  {
   "cell_type": "code",
   "execution_count": 169,
   "id": "7db98072-335f-46d2-b03d-62f978cc9c54",
   "metadata": {},
   "outputs": [
    {
     "data": {
      "text/plain": [
       "[WindowsPath('C:/Users/steve/AppData/Local/archivum/books.archivum-config'),\n",
       " WindowsPath('C:/Users/steve/AppData/Local/archivum/uber-library.archivum-config')]"
      ]
     },
     "execution_count": 169,
     "metadata": {},
     "output_type": "execute_result"
    },
    {
     "name": "stdout",
     "output_type": "stream",
     "text": [
      "time: 16 ms (started: 2025-05-29 10:36:49 +01:00)\n"
     ]
    }
   ],
   "source": [
    "arcl.Library.get_library_list()"
   ]
  },
  {
   "cell_type": "code",
   "execution_count": 171,
   "id": "1ca4c9f0-7e46-4dcb-83d5-364b8883c4a3",
   "metadata": {},
   "outputs": [
    {
     "name": "stdout",
     "output_type": "stream",
     "text": [
      "books.archivum-config\n",
      "uber-library.archivum-config\n",
      "time: 16 ms (started: 2025-05-29 10:36:57 +01:00)\n"
     ]
    }
   ],
   "source": [
    "print(arcl.Library.list())"
   ]
  },
  {
   "cell_type": "code",
   "execution_count": 177,
   "id": "8eb53b48-0d32-43b8-aa00-d31dc948e904",
   "metadata": {},
   "outputs": [
    {
     "data": {
      "text/plain": [
       "Library(uber-library.archivum-config)"
      ]
     },
     "execution_count": 177,
     "metadata": {},
     "output_type": "execute_result"
    },
    {
     "name": "stdout",
     "output_type": "stream",
     "text": [
      "time: 16 ms (started: 2025-05-29 10:42:07 +01:00)\n"
     ]
    }
   ],
   "source": [
    "lib"
   ]
  },
  {
   "cell_type": "code",
   "execution_count": 178,
   "id": "7cefdd9f-d078-49e5-8afa-32569c2325d9",
   "metadata": {},
   "outputs": [
    {
     "data": {
      "text/html": [
       "<div>\n",
       "<style scoped>\n",
       "    .dataframe tbody tr th:only-of-type {\n",
       "        vertical-align: middle;\n",
       "    }\n",
       "\n",
       "    .dataframe tbody tr th {\n",
       "        vertical-align: top;\n",
       "    }\n",
       "\n",
       "    .dataframe thead th {\n",
       "        text-align: right;\n",
       "    }\n",
       "</style>\n",
       "<table border=\"1\" class=\"dataframe\">\n",
       "  <thead>\n",
       "    <tr style=\"text-align: right;\">\n",
       "      <th></th>\n",
       "      <th>references</th>\n",
       "      <th>documents</th>\n",
       "    </tr>\n",
       "  </thead>\n",
       "  <tbody>\n",
       "    <tr>\n",
       "      <th>objects</th>\n",
       "      <td>6118</td>\n",
       "      <td>6132</td>\n",
       "    </tr>\n",
       "    <tr>\n",
       "      <th>no children</th>\n",
       "      <td>167</td>\n",
       "      <td>156</td>\n",
       "    </tr>\n",
       "    <tr>\n",
       "      <th>children</th>\n",
       "      <td>5951</td>\n",
       "      <td>5976</td>\n",
       "    </tr>\n",
       "    <tr>\n",
       "      <th>1 child</th>\n",
       "      <td>5833</td>\n",
       "      <td>5883</td>\n",
       "    </tr>\n",
       "    <tr>\n",
       "      <th>2 children</th>\n",
       "      <td>108</td>\n",
       "      <td>86</td>\n",
       "    </tr>\n",
       "    <tr>\n",
       "      <th>3 children</th>\n",
       "      <td>10</td>\n",
       "      <td>4</td>\n",
       "    </tr>\n",
       "    <tr>\n",
       "      <th>4+ children</th>\n",
       "      <td>0</td>\n",
       "      <td>3</td>\n",
       "    </tr>\n",
       "  </tbody>\n",
       "</table>\n",
       "</div>"
      ],
      "text/plain": [
       "             references  documents\n",
       "objects            6118       6132\n",
       "no children         167        156\n",
       "children           5951       5976\n",
       "1 child            5833       5883\n",
       "2 children          108         86\n",
       "3 children           10          4\n",
       "4+ children           0          3"
      ]
     },
     "execution_count": 178,
     "metadata": {},
     "output_type": "execute_result"
    },
    {
     "name": "stdout",
     "output_type": "stream",
     "text": [
      "time: 31 ms (started: 2025-05-29 10:42:11 +01:00)\n"
     ]
    }
   ],
   "source": [
    "lib.stats()"
   ]
  },
  {
   "cell_type": "code",
   "execution_count": 181,
   "id": "449879eb-dcab-4838-ba5f-cc1ca77b3502",
   "metadata": {},
   "outputs": [
    {
     "data": {
      "text/html": [
       "<div>\n",
       "<style scoped>\n",
       "    .dataframe tbody tr th:only-of-type {\n",
       "        vertical-align: middle;\n",
       "    }\n",
       "\n",
       "    .dataframe tbody tr th {\n",
       "        vertical-align: top;\n",
       "    }\n",
       "\n",
       "    .dataframe thead th {\n",
       "        text-align: right;\n",
       "    }\n",
       "</style>\n",
       "<table border=\"1\" class=\"dataframe\">\n",
       "  <thead>\n",
       "    <tr style=\"text-align: right;\">\n",
       "      <th></th>\n",
       "      <th>distinct</th>\n",
       "      <th>missing</th>\n",
       "    </tr>\n",
       "  </thead>\n",
       "  <tbody>\n",
       "    <tr>\n",
       "      <th>tag</th>\n",
       "      <td>6118</td>\n",
       "      <td>0</td>\n",
       "    </tr>\n",
       "    <tr>\n",
       "      <th>type</th>\n",
       "      <td>10</td>\n",
       "      <td>0</td>\n",
       "    </tr>\n",
       "    <tr>\n",
       "      <th>author</th>\n",
       "      <td>4662</td>\n",
       "      <td>5</td>\n",
       "    </tr>\n",
       "    <tr>\n",
       "      <th>doi</th>\n",
       "      <td>2539</td>\n",
       "      <td>3431</td>\n",
       "    </tr>\n",
       "    <tr>\n",
       "      <th>journal</th>\n",
       "      <td>1225</td>\n",
       "      <td>2643</td>\n",
       "    </tr>\n",
       "    <tr>\n",
       "      <th>pages</th>\n",
       "      <td>2749</td>\n",
       "      <td>2233</td>\n",
       "    </tr>\n",
       "    <tr>\n",
       "      <th>title</th>\n",
       "      <td>5902</td>\n",
       "      <td>0</td>\n",
       "    </tr>\n",
       "    <tr>\n",
       "      <th>volume</th>\n",
       "      <td>454</td>\n",
       "      <td>3143</td>\n",
       "    </tr>\n",
       "    <tr>\n",
       "      <th>year</th>\n",
       "      <td>100</td>\n",
       "      <td>256</td>\n",
       "    </tr>\n",
       "    <tr>\n",
       "      <th>publisher</th>\n",
       "      <td>169</td>\n",
       "      <td>5579</td>\n",
       "    </tr>\n",
       "    <tr>\n",
       "      <th>url</th>\n",
       "      <td>1387</td>\n",
       "      <td>4672</td>\n",
       "    </tr>\n",
       "    <tr>\n",
       "      <th>institution</th>\n",
       "      <td>108</td>\n",
       "      <td>5983</td>\n",
       "    </tr>\n",
       "    <tr>\n",
       "      <th>number</th>\n",
       "      <td>371</td>\n",
       "      <td>2934</td>\n",
       "    </tr>\n",
       "    <tr>\n",
       "      <th>mendeley-tags</th>\n",
       "      <td>187</td>\n",
       "      <td>4425</td>\n",
       "    </tr>\n",
       "    <tr>\n",
       "      <th>booktitle</th>\n",
       "      <td>241</td>\n",
       "      <td>5842</td>\n",
       "    </tr>\n",
       "    <tr>\n",
       "      <th>edition</th>\n",
       "      <td>13</td>\n",
       "      <td>6053</td>\n",
       "    </tr>\n",
       "    <tr>\n",
       "      <th>month</th>\n",
       "      <td>13</td>\n",
       "      <td>5939</td>\n",
       "    </tr>\n",
       "    <tr>\n",
       "      <th>address</th>\n",
       "      <td>39</td>\n",
       "      <td>6029</td>\n",
       "    </tr>\n",
       "    <tr>\n",
       "      <th>editor</th>\n",
       "      <td>14</td>\n",
       "      <td>6105</td>\n",
       "    </tr>\n",
       "    <tr>\n",
       "      <th>arc-citations</th>\n",
       "      <td>144</td>\n",
       "      <td>5915</td>\n",
       "    </tr>\n",
       "    <tr>\n",
       "      <th>arc-source</th>\n",
       "      <td>1</td>\n",
       "      <td>0</td>\n",
       "    </tr>\n",
       "  </tbody>\n",
       "</table>\n",
       "</div>"
      ],
      "text/plain": [
       "               distinct  missing\n",
       "tag                6118        0\n",
       "type                 10        0\n",
       "author             4662        5\n",
       "doi                2539     3431\n",
       "journal            1225     2643\n",
       "pages              2749     2233\n",
       "title              5902        0\n",
       "volume              454     3143\n",
       "year                100      256\n",
       "publisher           169     5579\n",
       "url                1387     4672\n",
       "institution         108     5983\n",
       "number              371     2934\n",
       "mendeley-tags       187     4425\n",
       "booktitle           241     5842\n",
       "edition              13     6053\n",
       "month                13     5939\n",
       "address              39     6029\n",
       "editor               14     6105\n",
       "arc-citations       144     5915\n",
       "arc-source            1        0"
      ]
     },
     "execution_count": 181,
     "metadata": {},
     "output_type": "execute_result"
    },
    {
     "name": "stdout",
     "output_type": "stream",
     "text": [
      "time: 31 ms (started: 2025-05-29 10:42:22 +01:00)\n"
     ]
    }
   ],
   "source": [
    "lib.distinct_values_by_field()"
   ]
  },
  {
   "cell_type": "code",
   "execution_count": 182,
   "id": "7ee920d2-1049-4eb3-9f5e-c7b342302451",
   "metadata": {},
   "outputs": [
    {
     "data": {
      "text/plain": [
       "['Report',\n",
       " 'article',\n",
       " 'book',\n",
       " 'incollection',\n",
       " 'inproceedings',\n",
       " 'manual',\n",
       " 'misc',\n",
       " 'phdthesis',\n",
       " 'techreport',\n",
       " 'unpublished']"
      ]
     },
     "execution_count": 182,
     "metadata": {},
     "output_type": "execute_result"
    },
    {
     "name": "stdout",
     "output_type": "stream",
     "text": [
      "time: 16 ms (started: 2025-05-29 10:42:35 +01:00)\n"
     ]
    }
   ],
   "source": [
    "lib.distinct('type')"
   ]
  },
  {
   "cell_type": "code",
   "execution_count": 186,
   "id": "96b41940-4552-48c2-b781-5c66cd7806d9",
   "metadata": {},
   "outputs": [
    {
     "data": {
      "text/html": [
       "<div>\n",
       "<style scoped>\n",
       "    .dataframe tbody tr th:only-of-type {\n",
       "        vertical-align: middle;\n",
       "    }\n",
       "\n",
       "    .dataframe tbody tr th {\n",
       "        vertical-align: top;\n",
       "    }\n",
       "\n",
       "    .dataframe thead th {\n",
       "        text-align: right;\n",
       "    }\n",
       "</style>\n",
       "<table border=\"1\" class=\"dataframe\">\n",
       "  <thead>\n",
       "    <tr style=\"text-align: right;\">\n",
       "      <th></th>\n",
       "      <th>count</th>\n",
       "    </tr>\n",
       "    <tr>\n",
       "      <th>type</th>\n",
       "      <th></th>\n",
       "    </tr>\n",
       "  </thead>\n",
       "  <tbody>\n",
       "    <tr>\n",
       "      <th>article</th>\n",
       "      <td>4980</td>\n",
       "    </tr>\n",
       "    <tr>\n",
       "      <th>book</th>\n",
       "      <td>418</td>\n",
       "    </tr>\n",
       "    <tr>\n",
       "      <th>techreport</th>\n",
       "      <td>413</td>\n",
       "    </tr>\n",
       "    <tr>\n",
       "      <th>misc</th>\n",
       "      <td>133</td>\n",
       "    </tr>\n",
       "    <tr>\n",
       "      <th>incollection</th>\n",
       "      <td>59</td>\n",
       "    </tr>\n",
       "    <tr>\n",
       "      <th>unpublished</th>\n",
       "      <td>59</td>\n",
       "    </tr>\n",
       "    <tr>\n",
       "      <th>inproceedings</th>\n",
       "      <td>44</td>\n",
       "    </tr>\n",
       "    <tr>\n",
       "      <th>phdthesis</th>\n",
       "      <td>10</td>\n",
       "    </tr>\n",
       "    <tr>\n",
       "      <th>Report</th>\n",
       "      <td>1</td>\n",
       "    </tr>\n",
       "    <tr>\n",
       "      <th>manual</th>\n",
       "      <td>1</td>\n",
       "    </tr>\n",
       "  </tbody>\n",
       "</table>\n",
       "</div>"
      ],
      "text/plain": [
       "               count\n",
       "type                \n",
       "article         4980\n",
       "book             418\n",
       "techreport       413\n",
       "misc             133\n",
       "incollection      59\n",
       "unpublished       59\n",
       "inproceedings     44\n",
       "phdthesis         10\n",
       "Report             1\n",
       "manual             1"
      ]
     },
     "execution_count": 186,
     "metadata": {},
     "output_type": "execute_result"
    },
    {
     "name": "stdout",
     "output_type": "stream",
     "text": [
      "time: 0 ns (started: 2025-05-29 10:44:09 +01:00)\n"
     ]
    }
   ],
   "source": [
    "lib.ref_df['type'].value_counts().to_frame('count').sort_values('count', ascending=False).head(20)"
   ]
  },
  {
   "cell_type": "code",
   "execution_count": 198,
   "id": "1f766080-2321-4b3d-abe8-098bd1444a92",
   "metadata": {},
   "outputs": [
    {
     "data": {
      "text/html": [
       "<div>\n",
       "<style scoped>\n",
       "    .dataframe tbody tr th:only-of-type {\n",
       "        vertical-align: middle;\n",
       "    }\n",
       "\n",
       "    .dataframe tbody tr th {\n",
       "        vertical-align: top;\n",
       "    }\n",
       "\n",
       "    .dataframe thead th {\n",
       "        text-align: right;\n",
       "    }\n",
       "</style>\n",
       "<table border=\"1\" class=\"dataframe\">\n",
       "  <thead>\n",
       "    <tr style=\"text-align: right;\">\n",
       "      <th></th>\n",
       "      <th>count</th>\n",
       "    </tr>\n",
       "    <tr>\n",
       "      <th>type</th>\n",
       "      <th></th>\n",
       "    </tr>\n",
       "  </thead>\n",
       "  <tbody>\n",
       "    <tr>\n",
       "      <th>article</th>\n",
       "      <td>10561</td>\n",
       "    </tr>\n",
       "    <tr>\n",
       "      <th>book</th>\n",
       "      <td>697</td>\n",
       "    </tr>\n",
       "    <tr>\n",
       "      <th>techreport</th>\n",
       "      <td>585</td>\n",
       "    </tr>\n",
       "    <tr>\n",
       "      <th>unpublished</th>\n",
       "      <td>313</td>\n",
       "    </tr>\n",
       "    <tr>\n",
       "      <th>misc</th>\n",
       "      <td>200</td>\n",
       "    </tr>\n",
       "    <tr>\n",
       "      <th>incollection</th>\n",
       "      <td>106</td>\n",
       "    </tr>\n",
       "    <tr>\n",
       "      <th>inproceedings</th>\n",
       "      <td>79</td>\n",
       "    </tr>\n",
       "    <tr>\n",
       "      <th>phdthesis</th>\n",
       "      <td>10</td>\n",
       "    </tr>\n",
       "    <tr>\n",
       "      <th>Report</th>\n",
       "      <td>2</td>\n",
       "    </tr>\n",
       "    <tr>\n",
       "      <th>manual</th>\n",
       "      <td>1</td>\n",
       "    </tr>\n",
       "  </tbody>\n",
       "</table>\n",
       "</div>"
      ],
      "text/plain": [
       "               count\n",
       "type                \n",
       "article        10561\n",
       "book             697\n",
       "techreport       585\n",
       "unpublished      313\n",
       "misc             200\n",
       "incollection     106\n",
       "inproceedings     79\n",
       "phdthesis         10\n",
       "Report             2\n",
       "manual             1"
      ]
     },
     "execution_count": 198,
     "metadata": {},
     "output_type": "execute_result"
    },
    {
     "name": "stdout",
     "output_type": "stream",
     "text": [
      "time: 0 ns (started: 2025-05-29 10:51:21 +01:00)\n"
     ]
    }
   ],
   "source": [
    "lib.distinct_value_counts('type')"
   ]
  },
  {
   "cell_type": "code",
   "execution_count": 196,
   "id": "37d39d38-43f5-4fc1-a8b1-9b6a6ffbe81a",
   "metadata": {},
   "outputs": [
    {
     "data": {
      "text/plain": [
       "True"
      ]
     },
     "execution_count": 196,
     "metadata": {},
     "output_type": "execute_result"
    },
    {
     "name": "stdout",
     "output_type": "stream",
     "text": [
      "time: 0 ns (started: 2025-05-29 10:50:23 +01:00)\n"
     ]
    }
   ],
   "source": [
    "pd.DataFrame([]).empty"
   ]
  },
  {
   "cell_type": "code",
   "execution_count": 197,
   "id": "c6125d49-9b9c-4236-be47-ec8532ebf135",
   "metadata": {},
   "outputs": [
    {
     "data": {
      "text/plain": [
       "''"
      ]
     },
     "execution_count": 197,
     "metadata": {},
     "output_type": "execute_result"
    },
    {
     "name": "stdout",
     "output_type": "stream",
     "text": [
      "time: 0 ns (started: 2025-05-29 10:50:49 +01:00)\n"
     ]
    }
   ],
   "source": [
    "str(fGT(None))"
   ]
  },
  {
   "cell_type": "code",
   "execution_count": 201,
   "id": "bb6a2dbe-6abc-4d93-850c-577e58bd18f2",
   "metadata": {},
   "outputs": [
    {
     "name": "stdout",
     "output_type": "stream",
     "text": [
      "10:55:10 | archivum.library.__init__      | INFO     | config_path = C:\\Users\\steve\\AppData\\Local\\archivum\\books.archivum-config\n",
      "10:55:10 | archivum.library.__init__      | INFO     | config_path = C:\\Users\\steve\\AppData\\Local\\archivum\\uber-library.archivum-config\n",
      "10:55:10 | archivum.library.list_deets    | INFO     | key  index          name                             description  \\\n",
      "0    value         books                        downloaded books   \n",
      "1    value  Uber Library  Mendeley port from May 2025 plus books   \n",
      "\n",
      "key                       bibtex_file     pdf_dir        text_dir_name  \\\n",
      "0      \\S\\Telos\\biblio\\books-test.bib    \\S\\BOOKS  \\temp\\pdf-full-text   \n",
      "1    \\S\\Telos\\biblio\\uber-library.bib  \\S\\Library  \\temp\\pdf-full-text   \n",
      "\n",
      "key  extractor                watched_dirs  \n",
      "0    pdftotext  [c:\\users\\steve\\downloads]  \n",
      "1    pdftotext  [c:\\users\\steve\\downloads]  \n"
     ]
    },
    {
     "data": {
      "text/html": [
       "<div>\n",
       "<style scoped>\n",
       "    .dataframe tbody tr th:only-of-type {\n",
       "        vertical-align: middle;\n",
       "    }\n",
       "\n",
       "    .dataframe tbody tr th {\n",
       "        vertical-align: top;\n",
       "    }\n",
       "\n",
       "    .dataframe thead th {\n",
       "        text-align: right;\n",
       "    }\n",
       "</style>\n",
       "<table border=\"1\" class=\"dataframe\">\n",
       "  <thead>\n",
       "    <tr style=\"text-align: right;\">\n",
       "      <th>key</th>\n",
       "      <th>index</th>\n",
       "      <th>name</th>\n",
       "      <th>description</th>\n",
       "      <th>bibtex_file</th>\n",
       "      <th>pdf_dir</th>\n",
       "      <th>text_dir_name</th>\n",
       "      <th>extractor</th>\n",
       "      <th>watched_dirs</th>\n",
       "    </tr>\n",
       "  </thead>\n",
       "  <tbody>\n",
       "    <tr>\n",
       "      <th>0</th>\n",
       "      <td>value</td>\n",
       "      <td>books</td>\n",
       "      <td>downloaded books</td>\n",
       "      <td>\\S\\Telos\\biblio\\books-test.bib</td>\n",
       "      <td>\\S\\BOOKS</td>\n",
       "      <td>\\temp\\pdf-full-text</td>\n",
       "      <td>pdftotext</td>\n",
       "      <td>[c:\\users\\steve\\downloads]</td>\n",
       "    </tr>\n",
       "    <tr>\n",
       "      <th>1</th>\n",
       "      <td>value</td>\n",
       "      <td>Uber Library</td>\n",
       "      <td>Mendeley port from May 2025 plus books</td>\n",
       "      <td>\\S\\Telos\\biblio\\uber-library.bib</td>\n",
       "      <td>\\S\\Library</td>\n",
       "      <td>\\temp\\pdf-full-text</td>\n",
       "      <td>pdftotext</td>\n",
       "      <td>[c:\\users\\steve\\downloads]</td>\n",
       "    </tr>\n",
       "  </tbody>\n",
       "</table>\n",
       "</div>"
      ],
      "text/plain": [
       "key  index          name                             description  \\\n",
       "0    value         books                        downloaded books   \n",
       "1    value  Uber Library  Mendeley port from May 2025 plus books   \n",
       "\n",
       "key                       bibtex_file     pdf_dir        text_dir_name  \\\n",
       "0      \\S\\Telos\\biblio\\books-test.bib    \\S\\BOOKS  \\temp\\pdf-full-text   \n",
       "1    \\S\\Telos\\biblio\\uber-library.bib  \\S\\Library  \\temp\\pdf-full-text   \n",
       "\n",
       "key  extractor                watched_dirs  \n",
       "0    pdftotext  [c:\\users\\steve\\downloads]  \n",
       "1    pdftotext  [c:\\users\\steve\\downloads]  "
      ]
     },
     "execution_count": 201,
     "metadata": {},
     "output_type": "execute_result"
    },
    {
     "name": "stdout",
     "output_type": "stream",
     "text": [
      "time: 62 ms (started: 2025-05-29 10:55:10 +01:00)\n"
     ]
    }
   ],
   "source": [
    "lib.list_deets()#.reset_index(drop=False)"
   ]
  },
  {
   "cell_type": "code",
   "execution_count": 204,
   "id": "acd2118e-536f-4b34-bcf5-1a992b58b502",
   "metadata": {},
   "outputs": [
    {
     "data": {
      "text/html": [
       "<div class=\"greater-table\">\n",
       "<style>\n",
       "    #T2HBEZTMV7HJC  {\n",
       "    border-collapse: collapse;\n",
       "    font-family: \"Roboto\", \"Open Sans Condensed\", \"Arial\", 'Segoe UI', sans-serif;\n",
       "    font-size: 0.9em;\n",
       "    width: auto;\n",
       "    \n",
       "    margin: 10px auto;\n",
       "    border: none;\n",
       "    overflow: auto;\n",
       "    margin-left: auto;\n",
       "    margin-right: auto;\n",
       "    }\n",
       "    \n",
       "    #T2HBEZTMV7HJC caption {\n",
       "        padding: 4px 10px 2px 10px;\n",
       "        font-size: 1.1em;\n",
       "        text-align: center;\n",
       "        font-weight: normal;\n",
       "        caption-side: top;\n",
       "    }\n",
       "    #T2HBEZTMV7HJC thead {\n",
       "        \n",
       "        border-top: 1px solid #000;\n",
       "        border-bottom: 1px solid #000;\n",
       "        font-size: 1.0em;\n",
       "        }\n",
       "    #T2HBEZTMV7HJC tbody {\n",
       "        \n",
       "        border-bottom: 1px solid #000;\n",
       "        }\n",
       "    #T2HBEZTMV7HJC th  {\n",
       "        vertical-align: bottom;\n",
       "        padding: 4px 10px 4px 10px;\n",
       "    }\n",
       "    #T2HBEZTMV7HJC td {\n",
       "        \n",
       "        padding: 2px 10px 2px 10px;\n",
       "        vertical-align: top;\n",
       "    }\n",
       "    \n",
       "    #T2HBEZTMV7HJC .grt-hrule-0 {\n",
       "        border-top: 0px solid #000;\n",
       "    }\n",
       "    #T2HBEZTMV7HJC .grt-hrule-1 {\n",
       "        border-top: 0px solid #000;\n",
       "    }\n",
       "    #T2HBEZTMV7HJC .grt-hrule-2 {\n",
       "        border-top: 0px solid #000;\n",
       "    }\n",
       "    \n",
       "    #T2HBEZTMV7HJC .grt-bhrule-0 {\n",
       "        border-bottom: 0px solid #000;\n",
       "    }\n",
       "    #T2HBEZTMV7HJC .grt-bhrule-1 {\n",
       "        border-bottom: 0px solid #000;\n",
       "    }\n",
       "    #T2HBEZTMV7HJC .grt-vrule-index {\n",
       "        border-left: 1px solid #000;\n",
       "    }\n",
       "    #T2HBEZTMV7HJC .grt-vrule-0 {\n",
       "        border-left: 0px solid #000;\n",
       "    }\n",
       "    #T2HBEZTMV7HJC .grt-vrule-1 {\n",
       "        border-left: 0px solid #000;\n",
       "    }\n",
       "    #T2HBEZTMV7HJC .grt-vrule-2 {\n",
       "        border-left: 0px solid #000;\n",
       "    }\n",
       "    #T2HBEZTMV7HJC .grt-left {\n",
       "        text-align: left;\n",
       "    }\n",
       "    #T2HBEZTMV7HJC .grt-center {\n",
       "        text-align: center;\n",
       "    }\n",
       "    #T2HBEZTMV7HJC .grt-right {\n",
       "        text-align: right;\n",
       "        font-variant-numeric: tabular-nums;\n",
       "    }\n",
       "    #T2HBEZTMV7HJC .grt-head {\n",
       "        font-family: \"Times New Roman\", 'Courier New';\n",
       "        font-size: 1.0em;\n",
       "    }\n",
       "    #T2HBEZTMV7HJC .grt-bold {\n",
       "        font-weight: bold;\n",
       "    }\n",
       "\n",
       "    #T2HBEZTMV7HJC .grt-c-0 { width: 7.6em; }\n",
       "    #T2HBEZTMV7HJC .grt-c-1 { width: 6.999999999999999em; }\n",
       "    #T2HBEZTMV7HJC .grt-c-2 { width: 6.3999999999999995em; }\n",
       "</style>\n",
       "<table id=\"T2HBEZTMV7HJC\">\n",
       "<colgroup>\n",
       "<col style=\"width: 4.56em;\"/>\n",
       "<col style=\"width: 4.199999999999999em;\"/>\n",
       "<col style=\"width: 3.8399999999999994em;\"/>\n",
       "</colgroup>\n",
       "<thead>\n",
       "<tr>\n",
       "<th class=\"grt-left\" colspan=\"1\">index</th>\n",
       "<th class=\"grt-center grt-vrule-0\" colspan=\"1\">references</th>\n",
       "<th class=\"grt-center grt-vrule-0\" colspan=\"1\">documents</th>\n",
       "</tr>\n",
       "</thead>\n",
       "<tbody>\n",
       "<tr>\n",
       "<td class=\"grt-c-0 grt-left\">objects</td>\n",
       "<td class=\"grt-c-1 grt-right grt-vrule-0\">6,118</td>\n",
       "<td class=\"grt-c-2 grt-right grt-vrule-0\">6,132</td>\n",
       "</tr>\n",
       "<tr>\n",
       "<td class=\"grt-c-0 grt-left\">no children</td>\n",
       "<td class=\"grt-c-1 grt-right grt-vrule-0\">167</td>\n",
       "<td class=\"grt-c-2 grt-right grt-vrule-0\">156</td>\n",
       "</tr>\n",
       "<tr>\n",
       "<td class=\"grt-c-0 grt-left\">children</td>\n",
       "<td class=\"grt-c-1 grt-right grt-vrule-0\">5,951</td>\n",
       "<td class=\"grt-c-2 grt-right grt-vrule-0\">5,976</td>\n",
       "</tr>\n",
       "<tr>\n",
       "<td class=\"grt-c-0 grt-left\">1 child</td>\n",
       "<td class=\"grt-c-1 grt-right grt-vrule-0\">5,833</td>\n",
       "<td class=\"grt-c-2 grt-right grt-vrule-0\">5,883</td>\n",
       "</tr>\n",
       "<tr>\n",
       "<td class=\"grt-c-0 grt-left\">2 children</td>\n",
       "<td class=\"grt-c-1 grt-right grt-vrule-0\">108</td>\n",
       "<td class=\"grt-c-2 grt-right grt-vrule-0\">86</td>\n",
       "</tr>\n",
       "<tr>\n",
       "<td class=\"grt-c-0 grt-left\">3 children</td>\n",
       "<td class=\"grt-c-1 grt-right grt-vrule-0\">10</td>\n",
       "<td class=\"grt-c-2 grt-right grt-vrule-0\">4</td>\n",
       "</tr>\n",
       "<tr>\n",
       "<td class=\"grt-c-0 grt-left\">4+ children</td>\n",
       "<td class=\"grt-c-1 grt-right grt-vrule-0\">0</td>\n",
       "<td class=\"grt-c-2 grt-right grt-vrule-0\">3</td>\n",
       "</tr>\n",
       "</tbody>\n",
       "</table></div>"
      ],
      "text/latex": [
       "\n",
       "\\begin{tikzpicture}[\n",
       "    auto,\n",
       "    transform shape,\n",
       "    nosep/.style={inner sep=0},\n",
       "    table/.style={\n",
       "        matrix of nodes,\n",
       "        row sep=0.125em,\n",
       "        column sep=0.375em,\n",
       "        nodes in empty cells,\n",
       "        nodes={rectangle, scale=0.635, text badly ragged },\n",
       "\trow 1/.style={nodes={text=black, anchor=north, inner ysep=0, text height=0, text depth=0}},\n",
       "\trow 2/.style={nodes={text=black, anchor=south, inner ysep=.2em, minimum height=1.3em, font=\\bfseries}},\n",
       "\tcolumn  1/.style={nodes={align=left  }, text height=0.9em, text depth=0.2em, inner xsep=0.375em, inner ysep=0, text width=10.39em},\n",
       "\tcolumn  2/.style={nodes={align=right }, nosep, text width=9.45em},\n",
       "\tcolumn  3/.style={nodes={align=right }, nosep, text width=8.50em},\n",
       "\tcolumn  4/.style={text height=0.9em, text depth=0.2em, nosep, text width=0em}\t}]\n",
       "\\matrix (T2HBEZTMV7HJC) [table, ampersand replacement=\\&]{\n",
       "             \\&       \\&       \\& \\\\\n",
       " index\\grtspacer \\& references\\grtspacer \\& documents\\grtspacer \\& \\\\\n",
       " objects     \\& 6,118 \\& 6,132 \\& \\\\\n",
       " no children \\&   167 \\&   156 \\& \\\\\n",
       " children    \\& 5,951 \\& 5,976 \\& \\\\\n",
       " 1 child     \\& 5,833 \\& 5,883 \\& \\\\\n",
       " 2 children  \\&   108 \\&    86 \\& \\\\\n",
       " 3 children  \\&    10 \\&     4 \\& \\\\\n",
       " 4+ children \\&     0 \\&     3 \\& \\\\\n",
       "};\n",
       "\n",
       "\\path[draw, thick] (T2HBEZTMV7HJC-1-1.south west)  -- (T2HBEZTMV7HJC-1-4.south east);\n",
       "\\path[draw, semithick] ([yshift=-0.0625em]T2HBEZTMV7HJC-2-1.south west)  -- ([yshift=-0.0625em]T2HBEZTMV7HJC-2-4.south east);\n",
       "\\path[draw, thick] ([yshift=-0.3125em]T2HBEZTMV7HJC-9-1.base west)  -- ([yshift=-0.3125em]T2HBEZTMV7HJC-9-4.base east);\n",
       "\n",
       "\n",
       "\n",
       "\\end{tikzpicture}\n"
      ],
      "text/plain": [
       "GreaterTable(df_id=T2HBEZTMV7HJC)"
      ]
     },
     "execution_count": 204,
     "metadata": {},
     "output_type": "execute_result"
    },
    {
     "name": "stdout",
     "output_type": "stream",
     "text": [
      "time: 31 ms (started: 2025-05-29 10:56:58 +01:00)\n"
     ]
    }
   ],
   "source": [
    "fGT(lib.stats().reset_index(drop=False))"
   ]
  },
  {
   "cell_type": "code",
   "execution_count": 3,
   "id": "da745b9f-1e9c-420d-bde8-783cafc2dfa6",
   "metadata": {},
   "outputs": [],
   "source": [
    "from archivum.parser import ArcLexer, ArcParser , grammar"
   ]
  },
  {
   "cell_type": "code",
   "execution_count": 6,
   "id": "2629f223-5536-4284-858f-e4fbe09a2928",
   "metadata": {},
   "outputs": [
    {
     "name": "stdout",
     "output_type": "stream",
     "text": [
      "C:\\Users\\steve\\Documents\\CloudStation\\TELOS\\Python\\archivum_project\\temp\\grammar.md\n"
     ]
    },
    {
     "name": "stderr",
     "output_type": "stream",
     "text": [
      "WARNING: 8 shift/reduce conflicts\n"
     ]
    },
    {
     "data": {
      "text/plain": [
       "'GRAMMAR\\n=======\\n\\nclause_list         \\t::= \\n                    \\t | clause_list clause\\n                    \\t | clause\\n\\nclause              \\t::= TOP NUMBER\\n                    \\t | flags\\n                    \\t | regexes\\n                    \\t | SELECT select_list\\n                    \\t | WHERE where_clause_expression\\n                    \\t | ORDER_BY column_sort_list\\n\\nflags               \\t::= FLAG flags\\n                    \\t | FLAG\\n\\nregexes             \\t::= regexes AND regex\\n                    \\t | regex\\n\\nregex               \\t::= IDENTIFIER TILDE REGEX_SLASHED\\n                    \\t | IDENTIFIER TILDE IDENTIFIER\\n                    \\t | BANG REGEX_SLASHED\\n                    \\t | BANG IDENTIFIER\\n\\nselect_list         \\t::= select_list \",\" select_item\\n                    \\t | select_item\\n\\nselect_item         \\t::= IDENTIFIER\\n                    \\t | NOT IDENTIFIER\\n                    \\t | STAR\\n\\nwhere_clause_expression\\t::= where_clause_expression AND where_clause\\n                    \\t | where_clause\\n\\nwhere_clause        \\t::= IDENTIFIER EQ_TEST QUOTED_STRING\\n                    \\t | IDENTIFIER EQ_TEST IDENTIFIER\\n                    \\t | IDENTIFIER EQ_TEST NUMBER\\n                    \\t | IDENTIFIER EQ_TEST DATETIME\\n\\ncolumn_sort_list    \\t::= column_sort_list \",\" column_sort\\n                    \\t | column_sort\\n\\ncolumn_sort         \\t::= IDENTIFIER\\n                    \\t | NOT IDENTIFIER\\n\\n\\n\\nTOKENS\\n======\\n        IDENTIFIER, NUMBER, QUOTED_STRING, REGEX_SLASHED,\\n        DATETIME, SELECT, ORDER_BY, WHERE, TOP, EQ_TEST, AND,\\n        FLAG, STAR, NOT, DATETIME, TILDE, BANG\\n\\nDEFINITIONS\\n===========\\n    SELECT = \\'select|SELECT\\'\\n    ORDER_BY = \\'order|ORDER|sort|SORT\\'\\n    WHERE = \\'where|WHERE\\'\\n    TOP = \\'top|TOP\\'\\n    AND = \\'and|AND\\'    # just AND, otherwise into parens, order of ops etc.\\n    FLAG = \\'recent|RECENT|verbose|VERBOSE\\'\\n\\n    STAR = r\\'\\x08\\\\*\\x08\\'\\n    TILDE = r\\'\\x08~\\x08\\'\\n    BANG = r\\'\\x08!\\x08\\'\\n    # to reverse sort order\\n    NOT = r\\'\\\\-\\'\\n    EQ_TEST = r\\'==|<=|<|>|>=\\'\\n    DATETIME complex regex\\n    NUMBER = r\\'-?(\\\\d+(\\\\.\\\\d*)?|\\\\.\\\\d+)(%|[eE][+-]?\\\\d+)?|inf|-inf\\'\\n    QUOTED_STRING = r\\'\\'\\'\"([^\"\\\\]|\\\\.)*\"|\\'([^\\'\\\\]|\\\\.)*\\'\\'\\'\\'\\n    IDENTIFIER = r\\'[a-z_][a-z0-9_]*\\'\\n    REGEX_SLASHED = r\\'/([^/\\\\]|\\\\.)*/\\'\\n'"
      ]
     },
     "execution_count": 6,
     "metadata": {},
     "output_type": "execute_result"
    }
   ],
   "source": [
    "grammar()"
   ]
  },
  {
   "cell_type": "code",
   "execution_count": 1,
   "id": "2834b732-36dd-46af-86d7-f8adb334657c",
   "metadata": {},
   "outputs": [
    {
     "data": {
      "text/plain": [
       "10"
      ]
     },
     "execution_count": 1,
     "metadata": {},
     "output_type": "execute_result"
    }
   ],
   "source": [
    "10"
   ]
  },
  {
   "cell_type": "code",
   "execution_count": 2,
   "id": "4e384cb2-4469-43f6-96b7-55b0597cbe47",
   "metadata": {},
   "outputs": [
    {
     "name": "stderr",
     "output_type": "stream",
     "text": [
      "WARNING: 8 shift/reduce conflicts\n"
     ]
    }
   ],
   "source": [
    "import archivum.lazy_parser as arcz"
   ]
  },
  {
   "cell_type": "code",
   "execution_count": 20,
   "id": "96dacb96-a10d-493a-86ce-cf76b89e2202",
   "metadata": {},
   "outputs": [],
   "source": [
    "import archivum.parser as arcp\n",
    "import archivum.library as arcl\n",
    "from archivum.utilities import fGT"
   ]
  },
  {
   "cell_type": "code",
   "execution_count": 33,
   "id": "58e98dc8-521d-4993-b4f7-cfa34a4b9a90",
   "metadata": {},
   "outputs": [
    {
     "name": "stdout",
     "output_type": "stream",
     "text": [
      "12:02:29 | archivum.library.__init__      | INFO     | config_path = C:\\Users\\steve\\AppData\\Local\\archivum\\uber-library.archivum-config\n"
     ]
    }
   ],
   "source": [
    "lib = arcl.Library('uber-library')"
   ]
  },
  {
   "cell_type": "code",
   "execution_count": 1,
   "id": "b9725d98-1682-44ed-9dd8-1f6a56c983ed",
   "metadata": {},
   "outputs": [],
   "source": [
    "querex_test_cases = [\n",
    "    '',\n",
    "    'top 4',\n",
    "    'recent',\n",
    "    'recent top 3',\n",
    "    'verbose recent top 17',\n",
    "    'select *',\n",
    "    'top 10 select *',\n",
    "    'where year == 2024',\n",
    "    'where year == \"2024\"',\n",
    "    'where type == \"book\"',\n",
    "    '! Delbaen',\n",
    "    '! /Wang, R/ and journal ~ Annals',\n",
    "    'recent top 3 author ~ /Wang, R/',\n",
    "    'verbose top 5 recent select journal author ~ /Wang, R/',\n",
    "    'top 5 select journal author ~ /Wang, R/',\n",
    "    'top 6 order author',\n",
    "    'top 7 order journal',\n",
    "    'top 8 select journal where year == 2024 order author',\n",
    "    'verbose top 9 select journal where year == 2024 order -journal, author',\n",
    "    'recent top 10  verbose select *, -c ! /Wang, R/ and journal ~ [A-J]+ where year == 2024 and publisher ==  \"Springer\" and mod > 2024-05',\n",
    "    'top 10 select c, d, -a, e recent ! /Wang, R/ and journal ~ [A-J]+ where year == 2024 and publisher ==  \"Springer\" and mod > 2024 order name, year', \n",
    "    'error',\n",
    "]"
   ]
  },
  {
   "cell_type": "code",
   "execution_count": null,
   "id": "d37bf2ba-b7ba-43ca-b0b8-1cd10cd314c1",
   "metadata": {},
   "outputs": [],
   "source": [
    "import archivum.parser as arcp\n",
    "import archivum.library as arcl\n",
    "from archivum.utilities import fGT\n",
    "lib = arcl.Library('uber-library')"
   ]
  },
  {
   "cell_type": "code",
   "execution_count": 44,
   "id": "47f187c6-b2d4-4b76-ae74-74c956859da6",
   "metadata": {},
   "outputs": [
    {
     "name": "stdout",
     "output_type": "stream",
     "text": [
      "'error'\n",
      "Parsing Error: Unexpected end of input\n",
      "Synt error Parsing Error: Unexpected end of input\n"
     ]
    }
   ],
   "source": [
    "for q in querex_test_cases[-1:]:\n",
    "    print(repr(q))\n",
    "    try:\n",
    "        r = lib.ref_df.querex(q) \n",
    "    except ValueError as e:\n",
    "        print('Synt error', e)\n",
    "    else:\n",
    "        # print(sorted(r.columns))\n",
    "        display(fGT(r.head(10)))"
   ]
  },
  {
   "cell_type": "code",
   "execution_count": 172,
   "id": "692de5d7-5ce5-4b6f-87bc-acd011f9615a",
   "metadata": {},
   "outputs": [
    {
     "name": "stdout",
     "output_type": "stream",
     "text": [
      "time: 0 ns (started: 2025-05-29 23:07:48 +01:00)\n"
     ]
    }
   ],
   "source": [
    "%load_ext autotime"
   ]
  },
  {
   "cell_type": "code",
   "execution_count": null,
   "id": "9c42bf7b-71ad-43df-9577-a4f88794eff8",
   "metadata": {},
   "outputs": [],
   "source": [
    "arck.parse_test('recent top 10  verbose select a, b, -c, d name ~ Wang and xx ~ yy AND journal ~ [A-E]+', 1, 1);"
   ]
  },
  {
   "cell_type": "code",
   "execution_count": null,
   "id": "d1f48dc5-e4da-4dca-87ac-0017ce108288",
   "metadata": {},
   "outputs": [],
   "source": [
    "arck.parse_test('recent top 10  verbose select *, -c ! /Wang, R/ and journal ~ [A-J]+ where year == 2024 and publisher ==  \"Springer\" and mod > 2024-05', 1, 1);"
   ]
  },
  {
   "cell_type": "code",
   "execution_count": null,
   "id": "31d8945e-8464-4d7b-bfa9-e041a525b207",
   "metadata": {},
   "outputs": [],
   "source": [
    "arck.parse_test('top 10 select c, d, -a, e recent ! /Wang, R/ and journal ~ [A-J]+ where year == 2024 and publisher ==  \"Springer\" and mod > 2024 order name, year', 0, 1);"
   ]
  },
  {
   "cell_type": "code",
   "execution_count": null,
   "id": "6e89995a-da02-4486-ae31-72ea31cb786b",
   "metadata": {},
   "outputs": [],
   "source": [
    "arck.parse_test(12, '''\n",
    "select g, h, i \n",
    "verbose \n",
    "select k \n",
    "order f recent \n",
    "order name, year, -c, d, -e\n",
    "''', 0, 1);"
   ]
  },
  {
   "cell_type": "code",
   "execution_count": 11,
   "id": "ed1282eb-8f26-4edb-b54d-971c9f9d9d77",
   "metadata": {},
   "outputs": [
    {
     "name": "stdout",
     "output_type": "stream",
     "text": [
      "time: 0 ns (started: 2025-05-29 23:51:04 +01:00)\n"
     ]
    }
   ],
   "source": [
    "%load_ext autotime"
   ]
  },
  {
   "cell_type": "code",
   "execution_count": 14,
   "id": "6d8194a3-0478-4cc0-a50b-30544a4cc7c8",
   "metadata": {},
   "outputs": [
    {
     "data": {
      "text/plain": [
       "True"
      ]
     },
     "execution_count": 14,
     "metadata": {},
     "output_type": "execute_result"
    },
    {
     "name": "stdout",
     "output_type": "stream",
     "text": [
      "time: 0 ns (started: 2025-05-29 23:56:11 +01:00)\n"
     ]
    }
   ],
   "source": [
    "isinstance(12, int)"
   ]
  },
  {
   "cell_type": "code",
   "execution_count": 3,
   "id": "3ed861be-a6ae-4ecf-9232-fb4fb1baddae",
   "metadata": {},
   "outputs": [],
   "source": [
    "import archivum.parser as arck  \n",
    "from pprint import pprint as pp"
   ]
  },
  {
   "cell_type": "code",
   "execution_count": 15,
   "id": "8566e73c-8620-4fbb-9da5-6758b5ca32f1",
   "metadata": {},
   "outputs": [
    {
     "name": "stdout",
     "output_type": "stream",
     "text": [
      "********************ERROR********************\n",
      "Error [#21] Parsing Error: Unexpected end-of-input. Expected one of: \n",
      "\t* TILDE\n",
      "\t* TILDE\n",
      "\n",
      "time: 687 ms (started: 2025-05-29 23:56:19 +01:00)\n"
     ]
    }
   ],
   "source": [
    "ans = {}\n",
    "for i, q in enumerate(querex_test_cases):\n",
    "    # print('\\n' + '-' * 80)\n",
    "    # print('query: ' + repr(q))\n",
    "    try:\n",
    "        # r = arck.parse_test(i, q, 0, 0)\n",
    "        r = arck.parser(q, False)\n",
    "    except Exception as e:\n",
    "        print('*' * 20 + 'ERROR' + '*' * 20)\n",
    "        print(f'Error [#{i}] {e}')\n",
    "        ans[i] = (q, 'ERROR')\n",
    "    else:\n",
    "        ans[i] = (q, r)\n",
    "        pass\n",
    "        # duplicates output \n",
    "        # print(r)"
   ]
  },
  {
   "cell_type": "code",
   "execution_count": null,
   "id": "250595e8-7ec1-4de1-8743-9d5c8c6377ab",
   "metadata": {},
   "outputs": [],
   "source": [
    "ans"
   ]
  },
  {
   "cell_type": "code",
   "execution_count": 163,
   "id": "b711973e-7956-432a-9d67-ad36f26392ef",
   "metadata": {},
   "outputs": [
    {
     "name": "stdout",
     "output_type": "stream",
     "text": [
      "time: 0 ns (started: 2025-05-30 15:32:50 +01:00)\n"
     ]
    }
   ],
   "source": [
    "from greater_tables import GT"
   ]
  },
  {
   "cell_type": "code",
   "execution_count": 150,
   "id": "5372a9e6-7a49-44c3-bd06-5b4a0b6152f3",
   "metadata": {},
   "outputs": [
    {
     "name": "stdout",
     "output_type": "stream",
     "text": [
      "time: 31 ms (started: 2025-05-30 15:24:09 +01:00)\n"
     ]
    }
   ],
   "source": [
    "df = lib.ref_df.querex('top 10 recent')"
   ]
  },
  {
   "cell_type": "code",
   "execution_count": 180,
   "id": "d3cea79a-3e94-4565-91ad-3a19e20f6e17",
   "metadata": {},
   "outputs": [
    {
     "data": {
      "text/html": [
       "<div class=\"greater-table\">\n",
       "<style>\n",
       "    #TKXA2XXIUJVPY  {\n",
       "    border-collapse: collapse;\n",
       "    font-family: \"Roboto\", \"Open Sans Condensed\", \"Arial\", 'Segoe UI', sans-serif;\n",
       "    font-size: 0.9em;\n",
       "    width: auto;\n",
       "    \n",
       "    margin: 10px auto;\n",
       "    border: none;\n",
       "    overflow: auto;\n",
       "    margin-left: auto;\n",
       "    margin-right: auto;\n",
       "    }\n",
       "    \n",
       "    #TKXA2XXIUJVPY caption {\n",
       "        padding: 4px 10px 2px 10px;\n",
       "        font-size: 1.1em;\n",
       "        text-align: center;\n",
       "        font-weight: normal;\n",
       "        caption-side: top;\n",
       "    }\n",
       "    #TKXA2XXIUJVPY thead {\n",
       "        \n",
       "        border-top: 1px solid #000;\n",
       "        border-bottom: 1px solid #000;\n",
       "        font-size: 1.0em;\n",
       "        }\n",
       "    #TKXA2XXIUJVPY tbody {\n",
       "        \n",
       "        border-bottom: 1px solid #000;\n",
       "        }\n",
       "    #TKXA2XXIUJVPY th  {\n",
       "        vertical-align: bottom;\n",
       "        padding: 4px 10px 4px 10px;\n",
       "    }\n",
       "    #TKXA2XXIUJVPY td {\n",
       "        \n",
       "        padding: 2px 10px 2px 10px;\n",
       "        vertical-align: top;\n",
       "    }\n",
       "    \n",
       "    #TKXA2XXIUJVPY .grt-hrule-0 {\n",
       "        border-top: 0px solid #000;\n",
       "    }\n",
       "    #TKXA2XXIUJVPY .grt-hrule-1 {\n",
       "        border-top: 0px solid #000;\n",
       "    }\n",
       "    #TKXA2XXIUJVPY .grt-hrule-2 {\n",
       "        border-top: 0px solid #000;\n",
       "    }\n",
       "    \n",
       "    #TKXA2XXIUJVPY .grt-bhrule-0 {\n",
       "        border-bottom: 0px solid #000;\n",
       "    }\n",
       "    #TKXA2XXIUJVPY .grt-bhrule-1 {\n",
       "        border-bottom: 0px solid #000;\n",
       "    }\n",
       "    #TKXA2XXIUJVPY .grt-vrule-index {\n",
       "        border-left: 1px solid #000;\n",
       "    }\n",
       "    #TKXA2XXIUJVPY .grt-vrule-0 {\n",
       "        border-left: 0px solid #000;\n",
       "    }\n",
       "    #TKXA2XXIUJVPY .grt-vrule-1 {\n",
       "        border-left: 0px solid #000;\n",
       "    }\n",
       "    #TKXA2XXIUJVPY .grt-vrule-2 {\n",
       "        border-left: 0px solid #000;\n",
       "    }\n",
       "    #TKXA2XXIUJVPY .grt-left {\n",
       "        text-align: left;\n",
       "    }\n",
       "    #TKXA2XXIUJVPY .grt-center {\n",
       "        text-align: center;\n",
       "    }\n",
       "    #TKXA2XXIUJVPY .grt-right {\n",
       "        text-align: right;\n",
       "        font-variant-numeric: tabular-nums;\n",
       "    }\n",
       "    #TKXA2XXIUJVPY .grt-head {\n",
       "        font-family: \"Times New Roman\", 'Courier New';\n",
       "        font-size: 1.0em;\n",
       "    }\n",
       "    #TKXA2XXIUJVPY .grt-bold {\n",
       "        font-weight: bold;\n",
       "    }\n",
       "\n",
       "    #TKXA2XXIUJVPY .grt-c-0 { width: 4.0em; }\n",
       "    #TKXA2XXIUJVPY .grt-c-1 { width: 11.200000000000001em; }\n",
       "    #TKXA2XXIUJVPY .grt-c-2 { width: 7.6em; }\n",
       "    #TKXA2XXIUJVPY .grt-c-3 { width: 3.4em; }\n",
       "    #TKXA2XXIUJVPY .grt-c-4 { width: 49.0em; }\n",
       "    #TKXA2XXIUJVPY .grt-c-5 { width: 67.0em; }\n",
       "</style>\n",
       "<table id=\"TKXA2XXIUJVPY\">\n",
       "<caption>Query: top 10 recent, 6118, showing top 10 of 6118 rows returned.</caption>\n",
       "<colgroup>\n",
       "<col style=\"width: 2.4em;\"/>\n",
       "<col style=\"width: 6.720000000000001em;\"/>\n",
       "<col style=\"width: 4.56em;\"/>\n",
       "<col style=\"width: 2.04em;\"/>\n",
       "<col style=\"width: 29.4em;\"/>\n",
       "<col style=\"width: 40.199999999999996em;\"/>\n",
       "</colgroup>\n",
       "<thead>\n",
       "<tr>\n",
       "<th class=\"grt-left\">index</th>\n",
       "<th class=\"grt-center grt-vrule-index\" colspan=\"1\">tag</th>\n",
       "<th class=\"grt-center grt-vrule-0\" colspan=\"1\">type</th>\n",
       "<th class=\"grt-center grt-vrule-0\" colspan=\"1\">year</th>\n",
       "<th class=\"grt-center grt-vrule-0\" colspan=\"1\">author</th>\n",
       "<th class=\"grt-center grt-vrule-0\" colspan=\"1\">title</th>\n",
       "</tr>\n",
       "</thead>\n",
       "<tbody>\n",
       "<tr>\n",
       "<td class=\"grt-c-0 grt-left\">1642</td>\n",
       "<td class=\"grt-c-1 grt-left grt-vrule-index\">Nemirovski209YYYY</td>\n",
       "<td class=\"grt-c-2 grt-left grt-vrule-0\">article</td>\n",
       "<td class=\"grt-c-3 grt-center grt-vrule-0\">209</td>\n",
       "<td class=\"grt-c-4 grt-left grt-vrule-0\">Nemirovski, Arkadi S. and Todd, Michael J.</td>\n",
       "<td class=\"grt-c-5 grt-left grt-vrule-0\">Interior-point methods for optimization</td>\n",
       "</tr>\n",
       "<tr>\n",
       "<td class=\"grt-c-0 grt-left\">2123</td>\n",
       "<td class=\"grt-c-1 grt-left grt-vrule-index\">Reed2025</td>\n",
       "<td class=\"grt-c-2 grt-left grt-vrule-0\">misc</td>\n",
       "<td class=\"grt-c-3 grt-center grt-vrule-0\">2025</td>\n",
       "<td class=\"grt-c-4 grt-left grt-vrule-0\">Reed, Lord and Hodge, Lord and President, Deputy and Clayton, Doyle</td>\n",
       "<td class=\"grt-c-5 grt-left grt-vrule-0\">JUDGMENT For Women Scotland Ltd (Appellant) v The Scottish Ministers (Respondent) before Lady Rose Lady Simler</td>\n",
       "</tr>\n",
       "<tr>\n",
       "<td class=\"grt-c-0 grt-left\">3254</td>\n",
       "<td class=\"grt-c-1 grt-left grt-vrule-index\">Centrone2025</td>\n",
       "<td class=\"grt-c-2 grt-left grt-vrule-0\">article</td>\n",
       "<td class=\"grt-c-3 grt-center grt-vrule-0\">2025</td>\n",
       "<td class=\"grt-c-4 grt-left grt-vrule-0\">Centrone, Francesca and {Rosazza Gianin}, Emanuela</td>\n",
       "<td class=\"grt-c-5 grt-left grt-vrule-0\">Capital Allocation Rules and Generalized Collapse to the Mean</td>\n",
       "</tr>\n",
       "<tr>\n",
       "<td class=\"grt-c-0 grt-left\">1678</td>\n",
       "<td class=\"grt-c-1 grt-left grt-vrule-index\">Dhaene2025</td>\n",
       "<td class=\"grt-c-2 grt-left grt-vrule-0\">article</td>\n",
       "<td class=\"grt-c-3 grt-center grt-vrule-0\">2025</td>\n",
       "<td class=\"grt-c-4 grt-left grt-vrule-0\">Dhaene, Jan and Robert, Christian Y. and Cheung, Ka Chun and Denuit, Michel M.</td>\n",
       "<td class=\"grt-c-5 grt-left grt-vrule-0\">An axiomatic characterization of the quantile risk-sharing rule</td>\n",
       "</tr>\n",
       "<tr>\n",
       "<td class=\"grt-c-0 grt-left\">6042</td>\n",
       "<td class=\"grt-c-1 grt-left grt-vrule-index\">Vecchi2025</td>\n",
       "<td class=\"grt-c-2 grt-left grt-vrule-0\">article</td>\n",
       "<td class=\"grt-c-3 grt-center grt-vrule-0\">2025</td>\n",
       "<td class=\"grt-c-4 grt-left grt-vrule-0\">Vecchi, Corrado De and Scherer, Matthias</td>\n",
       "<td class=\"grt-c-5 grt-left grt-vrule-0\">Pricing insurance contracts with an existing portfolio as background risk</td>\n",
       "</tr>\n",
       "<tr>\n",
       "<td class=\"grt-c-0 grt-left\">5502</td>\n",
       "<td class=\"grt-c-1 grt-left grt-vrule-index\">Chen2025a</td>\n",
       "<td class=\"grt-c-2 grt-left grt-vrule-0\">unpublished</td>\n",
       "<td class=\"grt-c-3 grt-center grt-vrule-0\">2025</td>\n",
       "<td class=\"grt-c-4 grt-left grt-vrule-0\">Chen, Yuyu and Hu, Taizhong and Wang, Ruodu and Zou, Zhenfeng</td>\n",
       "<td class=\"grt-c-5 grt-left grt-vrule-0\">Diversification for infinite-mean Pareto models without risk aversion</td>\n",
       "</tr>\n",
       "<tr>\n",
       "<td class=\"grt-c-0 grt-left\">4032</td>\n",
       "<td class=\"grt-c-1 grt-left grt-vrule-index\">Aase2025</td>\n",
       "<td class=\"grt-c-2 grt-left grt-vrule-0\">unpublished</td>\n",
       "<td class=\"grt-c-3 grt-center grt-vrule-0\">2025</td>\n",
       "<td class=\"grt-c-4 grt-left grt-vrule-0\">Aase, Knut K.</td>\n",
       "<td class=\"grt-c-5 grt-left grt-vrule-0\">Pareto Optimal Insurance Policies: Kinks with or without frictions</td>\n",
       "</tr>\n",
       "<tr>\n",
       "<td class=\"grt-c-0 grt-left\">1357</td>\n",
       "<td class=\"grt-c-1 grt-left grt-vrule-index\">BarLev2025</td>\n",
       "<td class=\"grt-c-2 grt-left grt-vrule-0\">article</td>\n",
       "<td class=\"grt-c-3 grt-center grt-vrule-0\">2025</td>\n",
       "<td class=\"grt-c-4 grt-left grt-vrule-0\">Bar-Lev, Shaul K. and Letac, Gérard</td>\n",
       "<td class=\"grt-c-5 grt-left grt-vrule-0\">Chainability of infinitely divisible measures</td>\n",
       "</tr>\n",
       "<tr>\n",
       "<td class=\"grt-c-0 grt-left\">1260</td>\n",
       "<td class=\"grt-c-1 grt-left grt-vrule-index\">Cheung2025</td>\n",
       "<td class=\"grt-c-2 grt-left grt-vrule-0\">article</td>\n",
       "<td class=\"grt-c-3 grt-center grt-vrule-0\">2025</td>\n",
       "<td class=\"grt-c-4 grt-left grt-vrule-0\">Cheung, Ka Chun and Yam, Sheung Chi Phillip and Yuen, Fei Lung and Zhang, Yiying</td>\n",
       "<td class=\"grt-c-5 grt-left grt-vrule-0\">Optimal design of reinsurance contracts under adverse selection with a continuum of types</td>\n",
       "</tr>\n",
       "<tr>\n",
       "<td class=\"grt-c-0 grt-left\">2528</td>\n",
       "<td class=\"grt-c-1 grt-left grt-vrule-index\">Vytnova2025</td>\n",
       "<td class=\"grt-c-2 grt-left grt-vrule-0\">book</td>\n",
       "<td class=\"grt-c-3 grt-center grt-vrule-0\">2025</td>\n",
       "<td class=\"grt-c-4 grt-left grt-vrule-0\">Vytnova, Polina L. and Wormell, Caroline L.</td>\n",
       "<td class=\"grt-c-5 grt-left grt-vrule-0\">Hausdorff dimension of the Apollonian gasket</td>\n",
       "</tr>\n",
       "</tbody>\n",
       "</table></div>"
      ],
      "text/latex": [
       "\n",
       "\\begin{tikzpicture}[\n",
       "    auto,\n",
       "    transform shape,\n",
       "    nosep/.style={inner sep=0},\n",
       "    table/.style={\n",
       "        matrix of nodes,\n",
       "        row sep=0.125em,\n",
       "        column sep=0.375em,\n",
       "        nodes in empty cells,\n",
       "        nodes={rectangle, scale=0.635, text badly ragged },\n",
       "\trow 1/.style={nodes={text=black, anchor=north, inner ysep=0, text height=0, text depth=0}},\n",
       "\trow 2/.style={nodes={text=black, anchor=south, inner ysep=.2em, minimum height=1.3em, font=\\bfseries}},\n",
       "\tcolumn  1/.style={nodes={align=left  }, text height=0.9em, text depth=0.2em, inner xsep=0.375em, inner ysep=0, text width=3.00em},\n",
       "\tcolumn  2/.style={nodes={align=left  }, nosep, text width=10.20em},\n",
       "\tcolumn  3/.style={nodes={align=left  }, nosep, text width=6.60em},\n",
       "\tcolumn  4/.style={nodes={align=center}, nosep, text width=2.40em},\n",
       "\tcolumn  5/.style={nodes={align=left  }, nosep, text width=48.00em},\n",
       "\tcolumn  6/.style={nodes={align=left  }, nosep, text width=66.00em},\n",
       "\tcolumn  7/.style={text height=0.9em, text depth=0.2em, nosep, text width=0em}\t}]\n",
       "\\matrix (TKXA2XXIUJVPY) [table, ampersand replacement=\\&]{\n",
       "      \\&                   \\&             \\&      \\&                                                                                  \\&                                                                                                                \\& \\\\\n",
       " index\\grtspacer \\& tag\\grtspacer     \\& type\\grtspacer \\& year\\grtspacer \\& author\\grtspacer                                                                 \\& title\\grtspacer                                                                                                \\& \\\\\n",
       " 1642 \\& Nemirovski209YYYY \\& article     \\& 209  \\& Nemirovski, Arkadi S. and Todd, Michael J.                                       \\& Interior-point methods for optimization                                                                        \\& \\\\\n",
       " 2123 \\& Reed2025          \\& misc        \\& 2025 \\& Reed, Lord and Hodge, Lord and President, Deputy and Clayton, Doyle              \\& JUDGMENT For Women Scotland Ltd (Appellant) v The Scottish Ministers (Respondent) before Lady Rose Lady Simler \\& \\\\\n",
       " 3254 \\& Centrone2025      \\& article     \\& 2025 \\& Centrone, Francesca and {Rosazza Gianin}, Emanuela                               \\& Capital Allocation Rules and Generalized Collapse to the Mean                                                  \\& \\\\\n",
       " 1678 \\& Dhaene2025        \\& article     \\& 2025 \\& Dhaene, Jan and Robert, Christian Y. and Cheung, Ka Chun and Denuit, Michel M.   \\& An axiomatic characterization of the quantile risk-sharing rule                                                \\& \\\\\n",
       " 6042 \\& Vecchi2025        \\& article     \\& 2025 \\& Vecchi, Corrado De and Scherer, Matthias                                         \\& Pricing insurance contracts with an existing portfolio as background risk                                      \\& \\\\\n",
       " 5502 \\& Chen2025a         \\& unpublished \\& 2025 \\& Chen, Yuyu and Hu, Taizhong and Wang, Ruodu and Zou, Zhenfeng                    \\& Diversification for infinite-mean Pareto models without risk aversion                                          \\& \\\\\n",
       " 4032 \\& Aase2025          \\& unpublished \\& 2025 \\& Aase, Knut K.                                                                    \\& Pareto Optimal Insurance Policies: Kinks with or without frictions                                             \\& \\\\\n",
       " 1357 \\& BarLev2025        \\& article     \\& 2025 \\& Bar-Lev, Shaul K. and Letac, Gérard                                              \\& Chainability of infinitely divisible measures                                                                  \\& \\\\\n",
       " 1260 \\& Cheung2025        \\& article     \\& 2025 \\& Cheung, Ka Chun and Yam, Sheung Chi Phillip and Yuen, Fei Lung and Zhang, Yiying \\& Optimal design of reinsurance contracts under adverse selection with a continuum of types                      \\& \\\\\n",
       " 2528 \\& Vytnova2025       \\& book        \\& 2025 \\& Vytnova, Polina L. and Wormell, Caroline L.                                      \\& Hausdorff dimension of the Apollonian gasket                                                                   \\& \\\\\n",
       "};\n",
       "\n",
       "\\path[draw, thick] (TKXA2XXIUJVPY-1-1.south west)  -- (TKXA2XXIUJVPY-1-7.south east);\n",
       "\\path[draw, semithick] ([yshift=-0.0625em]TKXA2XXIUJVPY-2-1.south west)  -- ([yshift=-0.0625em]TKXA2XXIUJVPY-2-7.south east);\n",
       "\\path[draw, thick] ([yshift=-0.3125em]TKXA2XXIUJVPY-12-1.base west)  -- ([yshift=-0.3125em]TKXA2XXIUJVPY-12-7.base east);\n",
       "\\path[draw, very thin] ([xshift=-0.1875em]TKXA2XXIUJVPY-1-2.south west)  -- ([yshift=-0.3125em, xshift=-0.1875em]TKXA2XXIUJVPY-12-2.base west);\n",
       "\n",
       "\n",
       "\n",
       "\\end{tikzpicture}\n"
      ],
      "text/plain": [
       "GreaterTable(df_id=TKXA2XXIUJVPY)"
      ]
     },
     "execution_count": 180,
     "metadata": {},
     "output_type": "execute_result"
    },
    {
     "name": "stdout",
     "output_type": "stream",
     "text": [
      "time: 32 ms (started: 2025-05-30 15:51:48 +01:00)\n"
     ]
    }
   ],
   "source": [
    "f = GT(df, year_cols=['year'], raw_cols=['index'])\n",
    "f"
   ]
  },
  {
   "cell_type": "code",
   "execution_count": 181,
   "id": "de15ea97-e613-43a4-be08-077d06c59c27",
   "metadata": {},
   "outputs": [
    {
     "data": {
      "text/plain": [
       "[10, 1, 1, 1, 1, 1]"
      ]
     },
     "execution_count": 181,
     "metadata": {},
     "output_type": "execute_result"
    },
    {
     "name": "stdout",
     "output_type": "stream",
     "text": [
      "time: 0 ns (started: 2025-05-30 15:52:03 +01:00)\n"
     ]
    }
   ],
   "source": [
    "f.break_penalties"
   ]
  },
  {
   "cell_type": "code",
   "execution_count": 165,
   "id": "4e437fea-a0fa-4d08-a264-26be6f86a021",
   "metadata": {},
   "outputs": [
    {
     "data": {
      "text/plain": [
       "(5, 6)"
      ]
     },
     "execution_count": 165,
     "metadata": {},
     "output_type": "execute_result"
    },
    {
     "name": "stdout",
     "output_type": "stream",
     "text": [
      "time: 0 ns (started: 2025-05-30 15:33:42 +01:00)\n"
     ]
    }
   ],
   "source": [
    "len(df.columns), len(f.df.columns)"
   ]
  },
  {
   "cell_type": "code",
   "execution_count": 156,
   "id": "4b8d299a-a4d2-4d12-978a-8862ff046368",
   "metadata": {},
   "outputs": [
    {
     "name": "stdout",
     "output_type": "stream",
     "text": [
      "time: 0 ns (started: 2025-05-30 15:24:51 +01:00)\n"
     ]
    }
   ],
   "source": [
    "from archivum.utilities import info"
   ]
  },
  {
   "cell_type": "code",
   "execution_count": 160,
   "id": "4e0a27dc-3b3d-4068-b637-9c51f731c094",
   "metadata": {},
   "outputs": [
    {
     "data": {
      "text/plain": [
       "[<function greater_tables.greater_tables.GT.__init__.<locals>.wrapped_default_formatter(x)>,\n",
       " <function greater_tables.greater_tables.GT.__init__.<locals>.wrapped_default_formatter(x)>,\n",
       " <bound method GT.default_raw_formatter of GreaterTable(df_id=TQMULYJKHVQ2P)>,\n",
       " <function greater_tables.greater_tables.GT.__init__.<locals>.wrapped_default_formatter(x)>,\n",
       " <function greater_tables.greater_tables.GT.__init__.<locals>.wrapped_default_formatter(x)>]"
      ]
     },
     "execution_count": 160,
     "metadata": {},
     "output_type": "execute_result"
    },
    {
     "name": "stdout",
     "output_type": "stream",
     "text": [
      "time: 0 ns (started: 2025-05-30 15:25:30 +01:00)\n"
     ]
    }
   ],
   "source": [
    "f.df_formatters"
   ]
  },
  {
   "cell_type": "code",
   "execution_count": 161,
   "id": "da8146d5-8047-4766-88a2-93aef0df62e6",
   "metadata": {},
   "outputs": [
    {
     "data": {
      "text/plain": [
       "tag       object\n",
       "type      object\n",
       "year      object\n",
       "author    object\n",
       "title     object\n",
       "dtype: object"
      ]
     },
     "execution_count": 161,
     "metadata": {},
     "output_type": "execute_result"
    },
    {
     "name": "stdout",
     "output_type": "stream",
     "text": [
      "time: 16 ms (started: 2025-05-30 15:26:05 +01:00)\n"
     ]
    }
   ],
   "source": [
    "f.dt"
   ]
  },
  {
   "cell_type": "code",
   "execution_count": 195,
   "id": "5fcfeeb6-65d0-4658-8b06-a9131dca0916",
   "metadata": {},
   "outputs": [
    {
     "data": {
      "text/html": [
       "<div>\n",
       "<style scoped>\n",
       "    .dataframe tbody tr th:only-of-type {\n",
       "        vertical-align: middle;\n",
       "    }\n",
       "\n",
       "    .dataframe tbody tr th {\n",
       "        vertical-align: top;\n",
       "    }\n",
       "\n",
       "    .dataframe thead th {\n",
       "        text-align: right;\n",
       "    }\n",
       "</style>\n",
       "<table border=\"1\" class=\"dataframe\">\n",
       "  <thead>\n",
       "    <tr style=\"text-align: right;\">\n",
       "      <th>id</th>\n",
       "      <th>&lt;class 'greater_tables.greater_tables.GT'&gt;</th>\n",
       "    </tr>\n",
       "  </thead>\n",
       "  <tbody>\n",
       "    <tr>\n",
       "      <th>break_penalties</th>\n",
       "      <td>[10, 1, 1, 1, 1, 1]</td>\n",
       "    </tr>\n",
       "    <tr>\n",
       "      <th>caption</th>\n",
       "      <td>Query: top 10 recent, 6118, showing top 10 of ...</td>\n",
       "    </tr>\n",
       "    <tr>\n",
       "      <th>caption_align</th>\n",
       "      <td>center</td>\n",
       "    </tr>\n",
       "    <tr>\n",
       "      <th>column_change_level</th>\n",
       "      <td>0    0\n",
       "1    0\n",
       "2    0\n",
       "3    0\n",
       "4    0\n",
       "dtype: int64</td>\n",
       "    </tr>\n",
       "    <tr>\n",
       "      <th>date_col_indices</th>\n",
       "      <td>[]</td>\n",
       "    </tr>\n",
       "    <tr>\n",
       "      <th>debug</th>\n",
       "      <td>False</td>\n",
       "    </tr>\n",
       "    <tr>\n",
       "      <th>default_date_str</th>\n",
       "      <td>%Y-%m-%d</td>\n",
       "    </tr>\n",
       "    <tr>\n",
       "      <th>default_float_formatter</th>\n",
       "      <td>False</td>\n",
       "    </tr>\n",
       "    <tr>\n",
       "      <th>default_float_str</th>\n",
       "      <td>{x:,.3f}</td>\n",
       "    </tr>\n",
       "    <tr>\n",
       "      <th>default_formatters</th>\n",
       "      <td>{}</td>\n",
       "    </tr>\n",
       "    <tr>\n",
       "      <th>default_integer_str</th>\n",
       "      <td>{x:,d}</td>\n",
       "    </tr>\n",
       "    <tr>\n",
       "      <th>default_ratio_str</th>\n",
       "      <td>{x:.1%}</td>\n",
       "    </tr>\n",
       "    <tr>\n",
       "      <th>df</th>\n",
       "      <td>index                tag         type  year ...</td>\n",
       "    </tr>\n",
       "    <tr>\n",
       "      <th>df_aligners</th>\n",
       "      <td>[grt-left, grt-left, grt-left, grt-center, grt...</td>\n",
       "    </tr>\n",
       "    <tr>\n",
       "      <th>df_formatters</th>\n",
       "      <td>[&lt;bound method GT.default_raw_formatter of Gre...</td>\n",
       "    </tr>\n",
       "    <tr>\n",
       "      <th>df_html</th>\n",
       "      <td>&lt;table id=\"TKXA2XXIUJVPY\"&gt;\\n&lt;caption&gt;Query: to...</td>\n",
       "    </tr>\n",
       "    <tr>\n",
       "      <th>df_id</th>\n",
       "      <td>TKXA2XXIUJVPY</td>\n",
       "    </tr>\n",
       "    <tr>\n",
       "      <th>df_idx_aligners</th>\n",
       "      <td>[grt-left]</td>\n",
       "    </tr>\n",
       "    <tr>\n",
       "      <th>df_pre_applying_formatters</th>\n",
       "      <td>index                tag         type    ye...</td>\n",
       "    </tr>\n",
       "    <tr>\n",
       "      <th>df_style</th>\n",
       "      <td>\\n&lt;style&gt;\\n    #TKXA2XXIUJVPY  {\\n    border-c...</td>\n",
       "    </tr>\n",
       "    <tr>\n",
       "      <th>dt</th>\n",
       "      <td>tag       object\n",
       "type      object\n",
       "year      ob...</td>\n",
       "    </tr>\n",
       "    <tr>\n",
       "      <th>equal</th>\n",
       "      <td>False</td>\n",
       "    </tr>\n",
       "    <tr>\n",
       "      <th>float_col_indices</th>\n",
       "      <td>[]</td>\n",
       "    </tr>\n",
       "    <tr>\n",
       "      <th>font_body</th>\n",
       "      <td>0.9</td>\n",
       "    </tr>\n",
       "    <tr>\n",
       "      <th>font_bold_index</th>\n",
       "      <td>False</td>\n",
       "    </tr>\n",
       "    <tr>\n",
       "      <th>font_caption</th>\n",
       "      <td>1.1</td>\n",
       "    </tr>\n",
       "    <tr>\n",
       "      <th>font_head</th>\n",
       "      <td>1.0</td>\n",
       "    </tr>\n",
       "    <tr>\n",
       "      <th>hrule_widths</th>\n",
       "      <td>(0, 0, 0)</td>\n",
       "    </tr>\n",
       "    <tr>\n",
       "      <th>html</th>\n",
       "      <td>&lt;div class=\"greater-table\"&gt;\\n&lt;style&gt;\\n    #TKX...</td>\n",
       "    </tr>\n",
       "    <tr>\n",
       "      <th>index_change_level</th>\n",
       "      <td>0    index\n",
       "1    index\n",
       "2    index\n",
       "3    index\n",
       "4 ...</td>\n",
       "    </tr>\n",
       "    <tr>\n",
       "      <th>integer_col_indices</th>\n",
       "      <td>[0]</td>\n",
       "    </tr>\n",
       "    <tr>\n",
       "      <th>max_str_length</th>\n",
       "      <td>-1</td>\n",
       "    </tr>\n",
       "    <tr>\n",
       "      <th>ncols</th>\n",
       "      <td>5</td>\n",
       "    </tr>\n",
       "    <tr>\n",
       "      <th>ncolumns</th>\n",
       "      <td>1</td>\n",
       "    </tr>\n",
       "    <tr>\n",
       "      <th>nindex</th>\n",
       "      <td>1</td>\n",
       "    </tr>\n",
       "    <tr>\n",
       "      <th>object_col_indices</th>\n",
       "      <td>[1, 2, 3, 4, 5]</td>\n",
       "    </tr>\n",
       "    <tr>\n",
       "      <th>padb</th>\n",
       "      <td>2</td>\n",
       "    </tr>\n",
       "    <tr>\n",
       "      <th>padl</th>\n",
       "      <td>10</td>\n",
       "    </tr>\n",
       "    <tr>\n",
       "      <th>padr</th>\n",
       "      <td>10</td>\n",
       "    </tr>\n",
       "    <tr>\n",
       "      <th>padt</th>\n",
       "      <td>2</td>\n",
       "    </tr>\n",
       "    <tr>\n",
       "      <th>pef_lower</th>\n",
       "      <td>-3</td>\n",
       "    </tr>\n",
       "    <tr>\n",
       "      <th>pef_precision</th>\n",
       "      <td>3</td>\n",
       "    </tr>\n",
       "    <tr>\n",
       "      <th>pef_upper</th>\n",
       "      <td>6</td>\n",
       "    </tr>\n",
       "    <tr>\n",
       "      <th>ratio_cols</th>\n",
       "      <td>[]</td>\n",
       "    </tr>\n",
       "    <tr>\n",
       "      <th>raw_cols</th>\n",
       "      <td>[index]</td>\n",
       "    </tr>\n",
       "    <tr>\n",
       "      <th>raw_df</th>\n",
       "      <td>tag         type  year  \\\n",
       "...</td>\n",
       "    </tr>\n",
       "    <tr>\n",
       "      <th>show_index</th>\n",
       "      <td>True</td>\n",
       "    </tr>\n",
       "    <tr>\n",
       "      <th>sparsify_columns</th>\n",
       "      <td>True</td>\n",
       "    </tr>\n",
       "    <tr>\n",
       "      <th>str_max_width</th>\n",
       "      <td>200</td>\n",
       "    </tr>\n",
       "    <tr>\n",
       "      <th>str_table_fmt</th>\n",
       "      <td>mixed_grid</td>\n",
       "    </tr>\n",
       "    <tr>\n",
       "      <th>table_hrule_width</th>\n",
       "      <td>1</td>\n",
       "    </tr>\n",
       "    <tr>\n",
       "      <th>table_vrule_width</th>\n",
       "      <td>1</td>\n",
       "    </tr>\n",
       "    <tr>\n",
       "      <th>tex</th>\n",
       "      <td>\\n\\begin{tikzpicture}[\\n    auto,\\n    transfo...</td>\n",
       "    </tr>\n",
       "    <tr>\n",
       "      <th>vrule_widths</th>\n",
       "      <td>(0, 0, 0)</td>\n",
       "    </tr>\n",
       "    <tr>\n",
       "      <th>year_cols</th>\n",
       "      <td>[year]</td>\n",
       "    </tr>\n",
       "  </tbody>\n",
       "</table>\n",
       "</div>"
      ],
      "text/plain": [
       "id                                 <class 'greater_tables.greater_tables.GT'>\n",
       "break_penalties                                           [10, 1, 1, 1, 1, 1]\n",
       "caption                     Query: top 10 recent, 6118, showing top 10 of ...\n",
       "caption_align                                                          center\n",
       "column_change_level           0    0\n",
       "1    0\n",
       "2    0\n",
       "3    0\n",
       "4    0\n",
       "dtype: int64\n",
       "date_col_indices                                                           []\n",
       "debug                                                                   False\n",
       "default_date_str                                                     %Y-%m-%d\n",
       "default_float_formatter                                                 False\n",
       "default_float_str                                                    {x:,.3f}\n",
       "default_formatters                                                         {}\n",
       "default_integer_str                                                    {x:,d}\n",
       "default_ratio_str                                                     {x:.1%}\n",
       "df                            index                tag         type  year ...\n",
       "df_aligners                 [grt-left, grt-left, grt-left, grt-center, grt...\n",
       "df_formatters               [<bound method GT.default_raw_formatter of Gre...\n",
       "df_html                     <table id=\"TKXA2XXIUJVPY\">\\n<caption>Query: to...\n",
       "df_id                                                           TKXA2XXIUJVPY\n",
       "df_idx_aligners                                                    [grt-left]\n",
       "df_pre_applying_formatters     index                tag         type    ye...\n",
       "df_style                    \\n<style>\\n    #TKXA2XXIUJVPY  {\\n    border-c...\n",
       "dt                          tag       object\n",
       "type      object\n",
       "year      ob...\n",
       "equal                                                                   False\n",
       "float_col_indices                                                          []\n",
       "font_body                                                                 0.9\n",
       "font_bold_index                                                         False\n",
       "font_caption                                                              1.1\n",
       "font_head                                                                 1.0\n",
       "hrule_widths                                                        (0, 0, 0)\n",
       "html                        <div class=\"greater-table\">\\n<style>\\n    #TKX...\n",
       "index_change_level          0    index\n",
       "1    index\n",
       "2    index\n",
       "3    index\n",
       "4 ...\n",
       "integer_col_indices                                                       [0]\n",
       "max_str_length                                                             -1\n",
       "ncols                                                                       5\n",
       "ncolumns                                                                    1\n",
       "nindex                                                                      1\n",
       "object_col_indices                                            [1, 2, 3, 4, 5]\n",
       "padb                                                                        2\n",
       "padl                                                                       10\n",
       "padr                                                                       10\n",
       "padt                                                                        2\n",
       "pef_lower                                                                  -3\n",
       "pef_precision                                                               3\n",
       "pef_upper                                                                   6\n",
       "ratio_cols                                                                 []\n",
       "raw_cols                                                              [index]\n",
       "raw_df                                          tag         type  year  \\\n",
       "...\n",
       "show_index                                                               True\n",
       "sparsify_columns                                                         True\n",
       "str_max_width                                                             200\n",
       "str_table_fmt                                                      mixed_grid\n",
       "table_hrule_width                                                           1\n",
       "table_vrule_width                                                           1\n",
       "tex                         \\n\\begin{tikzpicture}[\\n    auto,\\n    transfo...\n",
       "vrule_widths                                                        (0, 0, 0)\n",
       "year_cols                                                              [year]"
      ]
     },
     "execution_count": 195,
     "metadata": {},
     "output_type": "execute_result"
    },
    {
     "name": "stdout",
     "output_type": "stream",
     "text": [
      "time: 32 ms (started: 2025-05-30 16:00:59 +01:00)\n"
     ]
    }
   ],
   "source": [
    "info(f)"
   ]
  },
  {
   "cell_type": "code",
   "execution_count": 196,
   "id": "38169bc6-87e6-45f1-beb4-fa8d9a2188ec",
   "metadata": {},
   "outputs": [
    {
     "name": "stdout",
     "output_type": "stream",
     "text": [
      "time: 0 ns (started: 2025-05-30 16:01:37 +01:00)\n"
     ]
    }
   ],
   "source": [
    "self = f"
   ]
  },
  {
   "cell_type": "code",
   "execution_count": 197,
   "id": "e01b857e-e144-4bdc-a3fe-83bc5a64a2ac",
   "metadata": {},
   "outputs": [
    {
     "data": {
      "text/plain": [
       "{0: False, 1: True, 2: True, 3: True, 4: True, 5: True}"
      ]
     },
     "execution_count": 197,
     "metadata": {},
     "output_type": "execute_result"
    },
    {
     "name": "stdout",
     "output_type": "stream",
     "text": [
      "time: 0 ns (started: 2025-05-30 16:01:54 +01:00)\n"
     ]
    }
   ],
   "source": [
    "dict(zip(range(len(f.df.columns)), [True if i < 5 else False for i in self.break_penalties]))"
   ]
  },
  {
   "cell_type": "code",
   "execution_count": null,
   "id": "bb2f5ef0-f07e-482f-b63e-a7cb9934d10e",
   "metadata": {},
   "outputs": [],
   "source": [
    "for q in querex_test_cases:\n",
    "    print(repr(q))\n",
    "    r = arcp.parse_test(q, 0, 0)\n",
    "    pp(r)"
   ]
  },
  {
   "cell_type": "code",
   "execution_count": 199,
   "id": "384d77cf-c6a2-44d4-824e-eb8eebff9071",
   "metadata": {},
   "outputs": [
    {
     "data": {
      "text/html": [
       "<div>\n",
       "<style scoped>\n",
       "    .dataframe tbody tr th:only-of-type {\n",
       "        vertical-align: middle;\n",
       "    }\n",
       "\n",
       "    .dataframe tbody tr th {\n",
       "        vertical-align: top;\n",
       "    }\n",
       "\n",
       "    .dataframe thead th {\n",
       "        text-align: right;\n",
       "    }\n",
       "</style>\n",
       "<table border=\"1\" class=\"dataframe\">\n",
       "  <thead>\n",
       "    <tr style=\"text-align: right;\">\n",
       "      <th></th>\n",
       "      <th>index</th>\n",
       "      <th>tag</th>\n",
       "      <th>type</th>\n",
       "      <th>year</th>\n",
       "      <th>author</th>\n",
       "      <th>title</th>\n",
       "    </tr>\n",
       "  </thead>\n",
       "  <tbody>\n",
       "    <tr>\n",
       "      <th>0</th>\n",
       "      <td>1642</td>\n",
       "      <td>Nemirovski209YYYY</td>\n",
       "      <td>article</td>\n",
       "      <td>209</td>\n",
       "      <td>Nemirovski, Arkadi S. and Todd, Michael J.</td>\n",
       "      <td>Interior-point methods for optimization</td>\n",
       "    </tr>\n",
       "    <tr>\n",
       "      <th>1</th>\n",
       "      <td>2123</td>\n",
       "      <td>Reed2025</td>\n",
       "      <td>misc</td>\n",
       "      <td>2025</td>\n",
       "      <td>Reed, Lord and Hodge, Lord and President, Depu...</td>\n",
       "      <td>JUDGMENT For Women Scotland Ltd (Appellant) v ...</td>\n",
       "    </tr>\n",
       "    <tr>\n",
       "      <th>2</th>\n",
       "      <td>3254</td>\n",
       "      <td>Centrone2025</td>\n",
       "      <td>article</td>\n",
       "      <td>2025</td>\n",
       "      <td>Centrone, Francesca and {Rosazza Gianin}, Eman...</td>\n",
       "      <td>Capital Allocation Rules and Generalized Colla...</td>\n",
       "    </tr>\n",
       "    <tr>\n",
       "      <th>3</th>\n",
       "      <td>1678</td>\n",
       "      <td>Dhaene2025</td>\n",
       "      <td>article</td>\n",
       "      <td>2025</td>\n",
       "      <td>Dhaene, Jan and Robert, Christian Y. and Cheun...</td>\n",
       "      <td>An axiomatic characterization of the quantile ...</td>\n",
       "    </tr>\n",
       "    <tr>\n",
       "      <th>4</th>\n",
       "      <td>6042</td>\n",
       "      <td>Vecchi2025</td>\n",
       "      <td>article</td>\n",
       "      <td>2025</td>\n",
       "      <td>Vecchi, Corrado De and Scherer, Matthias</td>\n",
       "      <td>Pricing insurance contracts with an existing p...</td>\n",
       "    </tr>\n",
       "    <tr>\n",
       "      <th>5</th>\n",
       "      <td>5502</td>\n",
       "      <td>Chen2025a</td>\n",
       "      <td>unpublished</td>\n",
       "      <td>2025</td>\n",
       "      <td>Chen, Yuyu and Hu, Taizhong and Wang, Ruodu an...</td>\n",
       "      <td>Diversification for infinite-mean Pareto model...</td>\n",
       "    </tr>\n",
       "    <tr>\n",
       "      <th>6</th>\n",
       "      <td>4032</td>\n",
       "      <td>Aase2025</td>\n",
       "      <td>unpublished</td>\n",
       "      <td>2025</td>\n",
       "      <td>Aase, Knut K.</td>\n",
       "      <td>Pareto Optimal Insurance Policies: Kinks with ...</td>\n",
       "    </tr>\n",
       "    <tr>\n",
       "      <th>7</th>\n",
       "      <td>1357</td>\n",
       "      <td>BarLev2025</td>\n",
       "      <td>article</td>\n",
       "      <td>2025</td>\n",
       "      <td>Bar-Lev, Shaul K. and Letac, Gérard</td>\n",
       "      <td>Chainability of infinitely divisible measures</td>\n",
       "    </tr>\n",
       "    <tr>\n",
       "      <th>8</th>\n",
       "      <td>1260</td>\n",
       "      <td>Cheung2025</td>\n",
       "      <td>article</td>\n",
       "      <td>2025</td>\n",
       "      <td>Cheung, Ka Chun and Yam, Sheung Chi Phillip an...</td>\n",
       "      <td>Optimal design of reinsurance contracts under ...</td>\n",
       "    </tr>\n",
       "    <tr>\n",
       "      <th>9</th>\n",
       "      <td>2528</td>\n",
       "      <td>Vytnova2025</td>\n",
       "      <td>book</td>\n",
       "      <td>2025</td>\n",
       "      <td>Vytnova, Polina L. and Wormell, Caroline L.</td>\n",
       "      <td>Hausdorff dimension of the Apollonian gasket</td>\n",
       "    </tr>\n",
       "  </tbody>\n",
       "</table>\n",
       "</div>"
      ],
      "text/plain": [
       "  index                tag         type  year  \\\n",
       "0  1642  Nemirovski209YYYY      article   209   \n",
       "1  2123           Reed2025         misc  2025   \n",
       "2  3254       Centrone2025      article  2025   \n",
       "3  1678         Dhaene2025      article  2025   \n",
       "4  6042         Vecchi2025      article  2025   \n",
       "5  5502          Chen2025a  unpublished  2025   \n",
       "6  4032           Aase2025  unpublished  2025   \n",
       "7  1357         BarLev2025      article  2025   \n",
       "8  1260         Cheung2025      article  2025   \n",
       "9  2528        Vytnova2025         book  2025   \n",
       "\n",
       "                                              author  \\\n",
       "0         Nemirovski, Arkadi S. and Todd, Michael J.   \n",
       "1  Reed, Lord and Hodge, Lord and President, Depu...   \n",
       "2  Centrone, Francesca and {Rosazza Gianin}, Eman...   \n",
       "3  Dhaene, Jan and Robert, Christian Y. and Cheun...   \n",
       "4           Vecchi, Corrado De and Scherer, Matthias   \n",
       "5  Chen, Yuyu and Hu, Taizhong and Wang, Ruodu an...   \n",
       "6                                      Aase, Knut K.   \n",
       "7                Bar-Lev, Shaul K. and Letac, Gérard   \n",
       "8  Cheung, Ka Chun and Yam, Sheung Chi Phillip an...   \n",
       "9        Vytnova, Polina L. and Wormell, Caroline L.   \n",
       "\n",
       "                                               title  \n",
       "0            Interior-point methods for optimization  \n",
       "1  JUDGMENT For Women Scotland Ltd (Appellant) v ...  \n",
       "2  Capital Allocation Rules and Generalized Colla...  \n",
       "3  An axiomatic characterization of the quantile ...  \n",
       "4  Pricing insurance contracts with an existing p...  \n",
       "5  Diversification for infinite-mean Pareto model...  \n",
       "6  Pareto Optimal Insurance Policies: Kinks with ...  \n",
       "7      Chainability of infinitely divisible measures  \n",
       "8  Optimal design of reinsurance contracts under ...  \n",
       "9       Hausdorff dimension of the Apollonian gasket  "
      ]
     },
     "execution_count": 199,
     "metadata": {},
     "output_type": "execute_result"
    },
    {
     "name": "stdout",
     "output_type": "stream",
     "text": [
      "time: 16 ms (started: 2025-05-30 16:02:40 +01:00)\n"
     ]
    }
   ],
   "source": [
    "f.df"
   ]
  },
  {
   "cell_type": "code",
   "execution_count": 194,
   "id": "42683b93-ead1-4e19-8657-a7abcf179662",
   "metadata": {},
   "outputs": [
    {
     "data": {
      "text/plain": [
       "10"
      ]
     },
     "execution_count": 194,
     "metadata": {},
     "output_type": "execute_result"
    },
    {
     "name": "stdout",
     "output_type": "stream",
     "text": [
      "time: 0 ns (started: 2025-05-30 15:59:46 +01:00)\n"
     ]
    }
   ],
   "source": [
    "f.df.author.str.split(pat='[^\\w]', regex=True, expand=True).fillna('').map(len).max(axis=1).max()"
   ]
  },
  {
   "cell_type": "code",
   "execution_count": 188,
   "id": "b00f9698-232e-4d07-9048-80836e5acd38",
   "metadata": {},
   "outputs": [
    {
     "data": {
      "text/plain": [
       "tag       object\n",
       "type      object\n",
       "year      object\n",
       "author    object\n",
       "title     object\n",
       "dtype: object"
      ]
     },
     "execution_count": 188,
     "metadata": {},
     "output_type": "execute_result"
    },
    {
     "name": "stdout",
     "output_type": "stream",
     "text": [
      "time: 0 ns (started: 2025-05-30 15:56:42 +01:00)\n"
     ]
    }
   ],
   "source": [
    "df.dtypes"
   ]
  },
  {
   "cell_type": "code",
   "execution_count": 187,
   "id": "ef12d799-a974-48b2-b7e8-39f1a5c30807",
   "metadata": {},
   "outputs": [
    {
     "data": {
      "text/plain": [
       "True"
      ]
     },
     "execution_count": 187,
     "metadata": {},
     "output_type": "execute_result"
    },
    {
     "name": "stdout",
     "output_type": "stream",
     "text": [
      "time: 0 ns (started: 2025-05-30 15:56:33 +01:00)\n"
     ]
    }
   ],
   "source": [
    "np.all([i==object for i in df.dtypes.values])"
   ]
  },
  {
   "cell_type": "code",
   "execution_count": 183,
   "id": "257cdc37-0688-4c50-85aa-26fbebdcad00",
   "metadata": {},
   "outputs": [
    {
     "data": {
      "text/html": [
       "<div>\n",
       "<style scoped>\n",
       "    .dataframe tbody tr th:only-of-type {\n",
       "        vertical-align: middle;\n",
       "    }\n",
       "\n",
       "    .dataframe tbody tr th {\n",
       "        vertical-align: top;\n",
       "    }\n",
       "\n",
       "    .dataframe thead th {\n",
       "        text-align: right;\n",
       "    }\n",
       "</style>\n",
       "<table border=\"1\" class=\"dataframe\">\n",
       "  <thead>\n",
       "    <tr style=\"text-align: right;\">\n",
       "      <th></th>\n",
       "      <th>index</th>\n",
       "      <th>tag</th>\n",
       "      <th>type</th>\n",
       "      <th>year</th>\n",
       "      <th>author</th>\n",
       "      <th>title</th>\n",
       "    </tr>\n",
       "  </thead>\n",
       "  <tbody>\n",
       "    <tr>\n",
       "      <th>0</th>\n",
       "      <td>1642</td>\n",
       "      <td>Nemirovski209YYYY</td>\n",
       "      <td>article</td>\n",
       "      <td>209</td>\n",
       "      <td>Nemirovski, Arkadi S. and Todd, Michael J.</td>\n",
       "      <td>Interior-point methods for optimization</td>\n",
       "    </tr>\n",
       "    <tr>\n",
       "      <th>1</th>\n",
       "      <td>2123</td>\n",
       "      <td>Reed2025</td>\n",
       "      <td>misc</td>\n",
       "      <td>2025</td>\n",
       "      <td>Reed, Lord and Hodge, Lord and President, Depu...</td>\n",
       "      <td>JUDGMENT For Women Scotland Ltd (Appellant) v ...</td>\n",
       "    </tr>\n",
       "    <tr>\n",
       "      <th>2</th>\n",
       "      <td>3254</td>\n",
       "      <td>Centrone2025</td>\n",
       "      <td>article</td>\n",
       "      <td>2025</td>\n",
       "      <td>Centrone, Francesca and {Rosazza Gianin}, Eman...</td>\n",
       "      <td>Capital Allocation Rules and Generalized Colla...</td>\n",
       "    </tr>\n",
       "    <tr>\n",
       "      <th>3</th>\n",
       "      <td>1678</td>\n",
       "      <td>Dhaene2025</td>\n",
       "      <td>article</td>\n",
       "      <td>2025</td>\n",
       "      <td>Dhaene, Jan and Robert, Christian Y. and Cheun...</td>\n",
       "      <td>An axiomatic characterization of the quantile ...</td>\n",
       "    </tr>\n",
       "    <tr>\n",
       "      <th>4</th>\n",
       "      <td>6042</td>\n",
       "      <td>Vecchi2025</td>\n",
       "      <td>article</td>\n",
       "      <td>2025</td>\n",
       "      <td>Vecchi, Corrado De and Scherer, Matthias</td>\n",
       "      <td>Pricing insurance contracts with an existing p...</td>\n",
       "    </tr>\n",
       "    <tr>\n",
       "      <th>5</th>\n",
       "      <td>5502</td>\n",
       "      <td>Chen2025a</td>\n",
       "      <td>unpublished</td>\n",
       "      <td>2025</td>\n",
       "      <td>Chen, Yuyu and Hu, Taizhong and Wang, Ruodu an...</td>\n",
       "      <td>Diversification for infinite-mean Pareto model...</td>\n",
       "    </tr>\n",
       "    <tr>\n",
       "      <th>6</th>\n",
       "      <td>4032</td>\n",
       "      <td>Aase2025</td>\n",
       "      <td>unpublished</td>\n",
       "      <td>2025</td>\n",
       "      <td>Aase, Knut K.</td>\n",
       "      <td>Pareto Optimal Insurance Policies: Kinks with ...</td>\n",
       "    </tr>\n",
       "    <tr>\n",
       "      <th>7</th>\n",
       "      <td>1357</td>\n",
       "      <td>BarLev2025</td>\n",
       "      <td>article</td>\n",
       "      <td>2025</td>\n",
       "      <td>Bar-Lev, Shaul K. and Letac, Gérard</td>\n",
       "      <td>Chainability of infinitely divisible measures</td>\n",
       "    </tr>\n",
       "    <tr>\n",
       "      <th>8</th>\n",
       "      <td>1260</td>\n",
       "      <td>Cheung2025</td>\n",
       "      <td>article</td>\n",
       "      <td>2025</td>\n",
       "      <td>Cheung, Ka Chun and Yam, Sheung Chi Phillip an...</td>\n",
       "      <td>Optimal design of reinsurance contracts under ...</td>\n",
       "    </tr>\n",
       "    <tr>\n",
       "      <th>9</th>\n",
       "      <td>2528</td>\n",
       "      <td>Vytnova2025</td>\n",
       "      <td>book</td>\n",
       "      <td>2025</td>\n",
       "      <td>Vytnova, Polina L. and Wormell, Caroline L.</td>\n",
       "      <td>Hausdorff dimension of the Apollonian gasket</td>\n",
       "    </tr>\n",
       "  </tbody>\n",
       "</table>\n",
       "</div>"
      ],
      "text/plain": [
       "  index                tag         type  year  \\\n",
       "0  1642  Nemirovski209YYYY      article   209   \n",
       "1  2123           Reed2025         misc  2025   \n",
       "2  3254       Centrone2025      article  2025   \n",
       "3  1678         Dhaene2025      article  2025   \n",
       "4  6042         Vecchi2025      article  2025   \n",
       "5  5502          Chen2025a  unpublished  2025   \n",
       "6  4032           Aase2025  unpublished  2025   \n",
       "7  1357         BarLev2025      article  2025   \n",
       "8  1260         Cheung2025      article  2025   \n",
       "9  2528        Vytnova2025         book  2025   \n",
       "\n",
       "                                              author  \\\n",
       "0         Nemirovski, Arkadi S. and Todd, Michael J.   \n",
       "1  Reed, Lord and Hodge, Lord and President, Depu...   \n",
       "2  Centrone, Francesca and {Rosazza Gianin}, Eman...   \n",
       "3  Dhaene, Jan and Robert, Christian Y. and Cheun...   \n",
       "4           Vecchi, Corrado De and Scherer, Matthias   \n",
       "5  Chen, Yuyu and Hu, Taizhong and Wang, Ruodu an...   \n",
       "6                                      Aase, Knut K.   \n",
       "7                Bar-Lev, Shaul K. and Letac, Gérard   \n",
       "8  Cheung, Ka Chun and Yam, Sheung Chi Phillip an...   \n",
       "9        Vytnova, Polina L. and Wormell, Caroline L.   \n",
       "\n",
       "                                               title  \n",
       "0            Interior-point methods for optimization  \n",
       "1  JUDGMENT For Women Scotland Ltd (Appellant) v ...  \n",
       "2  Capital Allocation Rules and Generalized Colla...  \n",
       "3  An axiomatic characterization of the quantile ...  \n",
       "4  Pricing insurance contracts with an existing p...  \n",
       "5  Diversification for infinite-mean Pareto model...  \n",
       "6  Pareto Optimal Insurance Policies: Kinks with ...  \n",
       "7      Chainability of infinitely divisible measures  \n",
       "8  Optimal design of reinsurance contracts under ...  \n",
       "9       Hausdorff dimension of the Apollonian gasket  "
      ]
     },
     "execution_count": 183,
     "metadata": {},
     "output_type": "execute_result"
    },
    {
     "name": "stdout",
     "output_type": "stream",
     "text": [
      "time: 15 ms (started: 2025-05-30 15:52:56 +01:00)\n"
     ]
    }
   ],
   "source": [
    "f.df.map()"
   ]
  },
  {
   "cell_type": "code",
   "execution_count": 185,
   "id": "29cd2e59-fa1d-4be4-a979-ba7e64f773c4",
   "metadata": {},
   "outputs": [
    {
     "data": {
      "text/plain": [
       "[('index', 4),\n",
       " ('tag', 17),\n",
       " ('type', 11),\n",
       " ('year', 4),\n",
       " ('author', 80),\n",
       " ('title', 110)]"
      ]
     },
     "execution_count": 185,
     "metadata": {},
     "output_type": "execute_result"
    },
    {
     "name": "stdout",
     "output_type": "stream",
     "text": [
      "time: 16 ms (started: 2025-05-30 15:53:29 +01:00)\n"
     ]
    }
   ],
   "source": [
    "list(f.df.applymap(len).max(axis=0).items())"
   ]
  },
  {
   "cell_type": "code",
   "execution_count": 201,
   "id": "5d691e48-616a-4b3f-8c9e-23d5ca5cda46",
   "metadata": {},
   "outputs": [
    {
     "name": "stdout",
     "output_type": "stream",
     "text": [
      "time: 16 ms (started: 2025-05-30 16:06:55 +01:00)\n"
     ]
    }
   ],
   "source": [
    "import table_w as tw"
   ]
  },
  {
   "cell_type": "code",
   "execution_count": 226,
   "id": "9d49de01-30d8-4ddf-abd5-e532c454b5c2",
   "metadata": {},
   "outputs": [
    {
     "name": "stdout",
     "output_type": "stream",
     "text": [
      "        breakable_cols  min_possible_widths  ideal_widths  col_widths\n",
      "tag               True                   17            17       17.00\n",
      "type              True                   11            11       11.00\n",
      "year              True                    3             5        3.76\n",
      "author            True                   10            80       36.57\n",
      "title             True                   16           110       51.67\n",
      "min_possible_widths     57.0\n",
      "ideal_widths           223.0\n",
      "col_widths             120.0\n",
      "dtype: float64\n"
     ]
    },
    {
     "data": {
      "text/plain": [
       "{'tag': 17, 'type': 11, 'year': 3.76, 'author': 36.57, 'title': 51.67}"
      ]
     },
     "execution_count": 226,
     "metadata": {},
     "output_type": "execute_result"
    },
    {
     "name": "stdout",
     "output_type": "stream",
     "text": [
      "time: 16 ms (started: 2025-05-30 16:21:28 +01:00)\n"
     ]
    }
   ],
   "source": [
    "tw.optimize_column_widths(self, 120)"
   ]
  },
  {
   "cell_type": "code",
   "execution_count": 234,
   "id": "2c330904-3207-449e-812b-19dc98d5e5e5",
   "metadata": {},
   "outputs": [
    {
     "name": "stdout",
     "output_type": "stream",
     "text": [
      "time: 0 ns (started: 2025-05-30 16:33:23 +01:00)\n"
     ]
    }
   ],
   "source": [
    "f = GT(df, show_index=False, year_cols=['year'], max_table_width=90)"
   ]
  },
  {
   "cell_type": "code",
   "execution_count": 264,
   "id": "7a1beb7b-3cc6-4cc5-b1d5-5d55fb5b3e56",
   "metadata": {},
   "outputs": [
    {
     "data": {
      "text/plain": [
       "222"
      ]
     },
     "execution_count": 264,
     "metadata": {},
     "output_type": "execute_result"
    },
    {
     "name": "stdout",
     "output_type": "stream",
     "text": [
      "time: 16 ms (started: 2025-05-30 16:52:58 +01:00)\n"
     ]
    }
   ],
   "source": [
    "len(' ignition   │ shoes       │ infectious   │   Chairperson Inform Favorite year │  Portals Basil Burdensome date  │  Prospects Kenya Harmony date  │   Torque Unleashed Prophecy float │ Tripartite Problems Gratuitously str   ')"
   ]
  },
  {
   "cell_type": "code",
   "execution_count": 239,
   "id": "c38ec4bf-cbd2-45d7-b5aa-7b76a3c9ec6c",
   "metadata": {},
   "outputs": [
    {
     "name": "stdout",
     "output_type": "stream",
     "text": [
      "time: 0 ns (started: 2025-05-30 16:37:54 +01:00)\n"
     ]
    }
   ],
   "source": [
    "from greater_tables import TestDFGenerator"
   ]
  },
  {
   "cell_type": "code",
   "execution_count": null,
   "id": "883a3890-1a55-4f80-a9bd-05e12cb5a687",
   "metadata": {},
   "outputs": [],
   "source": [
    "print(s.)"
   ]
  },
  {
   "cell_type": "code",
   "execution_count": 277,
   "id": "9c3a214b-80b4-4b6a-9a71-67b1114a1a9f",
   "metadata": {},
   "outputs": [
    {
     "name": "stdout",
     "output_type": "stream",
     "text": [
      "│ flora   │ sticker   │ identities   │   AAA   │    BBB │       CCC │ DDD      │     EEE │   FFF   │     GGG │     HHH │     III │     JJJ │\n"
     ]
    },
    {
     "data": {
      "text/plain": [
       "(array([10, 12, 15, 10,  9, 12, 11, 10, 10, 10, 10, 10, 10]), 139)"
      ]
     },
     "execution_count": 277,
     "metadata": {},
     "output_type": "execute_result"
    },
    {
     "name": "stdout",
     "output_type": "stream",
     "text": [
      "time: 0 ns (started: 2025-05-30 16:59:39 +01:00)\n"
     ]
    }
   ],
   "source": []
  },
  {
   "cell_type": "code",
   "execution_count": 431,
   "id": "25f51cf8-376c-48fd-b66c-80f75cc68a02",
   "metadata": {},
   "outputs": [
    {
     "data": {
      "text/plain": [
       "11"
      ]
     },
     "execution_count": 431,
     "metadata": {},
     "output_type": "execute_result"
    },
    {
     "name": "stdout",
     "output_type": "stream",
     "text": [
      "time: 0 ns (started: 2025-05-30 21:43:57 +01:00)\n"
     ]
    }
   ],
   "source": [
    "len('citizenship')"
   ]
  },
  {
   "cell_type": "code",
   "execution_count": null,
   "id": "332936c4-fa3e-45aa-a960-db42cb2d6cd7",
   "metadata": {},
   "outputs": [],
   "source": [
    "tdf = TestDFGenerator()\n",
    "ts = tdf.test_suite()\n",
    "t"
   ]
  },
  {
   "cell_type": "code",
   "execution_count": 437,
   "id": "2970db23-9b16-4205-96b1-0a15d06eccc1",
   "metadata": {},
   "outputs": [
    {
     "data": {
      "text/plain": [
       "(116, 48)"
      ]
     },
     "execution_count": 437,
     "metadata": {},
     "output_type": "execute_result"
    },
    {
     "name": "stdout",
     "output_type": "stream",
     "text": [
      "time: 0 ns (started: 2025-05-30 21:51:54 +01:00)\n"
     ]
    }
   ],
   "source": [
    "80 + 9*4, 80 - v.shape[1] * 4"
   ]
  },
  {
   "cell_type": "markdown",
   "id": "5f475c9c-13c6-485a-824e-06182822287f",
   "metadata": {},
   "source": [
    "# COLUMN WIDTHS"
   ]
  },
  {
   "cell_type": "code",
   "execution_count": null,
   "id": "c41ddf21-5328-420f-b4f3-2397dfb28c70",
   "metadata": {},
   "outputs": [],
   "source": [
    "for k, v in ts.items():\n",
    "    # if k != 'multiindex': continue\n",
    "    cw_target = 80\n",
    "    input_target = cw_target - 4 * v.shape[1]\n",
    "    print(f'{cw_target = } and {input_target = }')\n",
    "    f = (GT(v.head(), show_index=True, max_table_width=80 - 4 * v.shape[1], debug=True))\n",
    "    analysis(f)\n",
    "    # break\n",
    "    print('=*'*80)"
   ]
  },
  {
   "cell_type": "code",
   "execution_count": 464,
   "id": "2e9e3ac3-2f78-4d9b-92fb-3a5773f66411",
   "metadata": {},
   "outputs": [
    {
     "name": "stdout",
     "output_type": "stream",
     "text": [
      "time: 0 ns (started: 2025-05-30 22:05:33 +01:00)\n"
     ]
    }
   ],
   "source": [
    "def analysis(f):\n",
    "    \"\"\"look at the text repr\"\"\"\n",
    "    s = str(f)\n",
    "    ans = list(map(len, s.split('\\n')))\n",
    "    if min(ans) != max(ans): print('Weird, cols not all the same size', min(ans), max(ans))\n",
    "    print('Actual text table width by row  ', min(ans))\n",
    "    ans = []\n",
    "    s1 = s.split('\\n')[1]\n",
    "    print('top row                         ', s1)\n",
    "    for i, c in enumerate(s1):\n",
    "        # print(i,c)\n",
    "        if c == '│':\n",
    "            ans.append(i)\n",
    "    ans = np.diff(np.array(ans))\n",
    "    print('actual widths by column         ', ans)\n",
    "    print('acutal total width              ', ans.sum() + 1)\n",
    "    dcw = getattr(f, '_debug_col_widths', None)\n",
    "    if dcw is not None:\n",
    "        ans = np.array(ans)\n",
    "        ans = ans - 4\n",
    "        dcw['actual'] = list(ans) + [ans.sum() + 1]\n",
    "        try:\n",
    "            display(dcw.astype(int))\n",
    "        except:\n",
    "            display(dcw)\n",
    "    print('formatted output')\n",
    "    print(s)"
   ]
  },
  {
   "cell_type": "code",
   "execution_count": 465,
   "id": "0785a257-a951-4cff-8562-c6c6d2374774",
   "metadata": {},
   "outputs": [
    {
     "name": "stdout",
     "output_type": "stream",
     "text": [
      "cw_target = 80 and input_target = 48\n",
      "Actual text table width by row   123\n",
      "top row                          │ vestige   │ bluffing   │  citizenship  │ demographic   │  difficultly  │   glaze │   memorandum │   positives │ truce   │\n",
      "actual widths by column          [12 13 16 16 16 10 15 14 10]\n",
      "acutal total width               123\n"
     ]
    },
    {
     "data": {
      "text/html": [
       "<div>\n",
       "<style scoped>\n",
       "    .dataframe tbody tr th:only-of-type {\n",
       "        vertical-align: middle;\n",
       "    }\n",
       "\n",
       "    .dataframe tbody tr th {\n",
       "        vertical-align: top;\n",
       "    }\n",
       "\n",
       "    .dataframe thead th {\n",
       "        text-align: right;\n",
       "    }\n",
       "</style>\n",
       "<table border=\"1\" class=\"dataframe\">\n",
       "  <thead>\n",
       "    <tr style=\"text-align: right;\">\n",
       "      <th></th>\n",
       "      <th>break_penalties</th>\n",
       "      <th>breakable_cols</th>\n",
       "      <th>min_possible_widths</th>\n",
       "      <th>ideal_widths</th>\n",
       "      <th>col_widths</th>\n",
       "      <th>headers_cw</th>\n",
       "      <th>headers_ideal</th>\n",
       "      <th>headers_min</th>\n",
       "      <th>actual</th>\n",
       "    </tr>\n",
       "    <tr>\n",
       "      <th>Column</th>\n",
       "      <th></th>\n",
       "      <th></th>\n",
       "      <th></th>\n",
       "      <th></th>\n",
       "      <th></th>\n",
       "      <th></th>\n",
       "      <th></th>\n",
       "      <th></th>\n",
       "      <th></th>\n",
       "    </tr>\n",
       "  </thead>\n",
       "  <tbody>\n",
       "    <tr>\n",
       "      <th>vestige</th>\n",
       "      <td>10</td>\n",
       "      <td>0</td>\n",
       "      <td>6</td>\n",
       "      <td>6</td>\n",
       "      <td>4</td>\n",
       "      <td>4</td>\n",
       "      <td>7</td>\n",
       "      <td>7</td>\n",
       "      <td>8</td>\n",
       "    </tr>\n",
       "    <tr>\n",
       "      <th>bluffing str</th>\n",
       "      <td>1</td>\n",
       "      <td>1</td>\n",
       "      <td>12</td>\n",
       "      <td>12</td>\n",
       "      <td>7</td>\n",
       "      <td>5</td>\n",
       "      <td>12</td>\n",
       "      <td>8</td>\n",
       "      <td>9</td>\n",
       "    </tr>\n",
       "    <tr>\n",
       "      <th>citizenship datetime</th>\n",
       "      <td>5</td>\n",
       "      <td>0</td>\n",
       "      <td>10</td>\n",
       "      <td>10</td>\n",
       "      <td>6</td>\n",
       "      <td>7</td>\n",
       "      <td>20</td>\n",
       "      <td>11</td>\n",
       "      <td>12</td>\n",
       "    </tr>\n",
       "    <tr>\n",
       "      <th>demographic str</th>\n",
       "      <td>1</td>\n",
       "      <td>1</td>\n",
       "      <td>10</td>\n",
       "      <td>10</td>\n",
       "      <td>6</td>\n",
       "      <td>7</td>\n",
       "      <td>15</td>\n",
       "      <td>11</td>\n",
       "      <td>12</td>\n",
       "    </tr>\n",
       "    <tr>\n",
       "      <th>difficultly datetime</th>\n",
       "      <td>5</td>\n",
       "      <td>0</td>\n",
       "      <td>10</td>\n",
       "      <td>10</td>\n",
       "      <td>6</td>\n",
       "      <td>7</td>\n",
       "      <td>20</td>\n",
       "      <td>11</td>\n",
       "      <td>12</td>\n",
       "    </tr>\n",
       "    <tr>\n",
       "      <th>glaze float</th>\n",
       "      <td>10</td>\n",
       "      <td>0</td>\n",
       "      <td>7</td>\n",
       "      <td>7</td>\n",
       "      <td>4</td>\n",
       "      <td>3</td>\n",
       "      <td>11</td>\n",
       "      <td>5</td>\n",
       "      <td>6</td>\n",
       "    </tr>\n",
       "    <tr>\n",
       "      <th>memorandum float</th>\n",
       "      <td>10</td>\n",
       "      <td>0</td>\n",
       "      <td>9</td>\n",
       "      <td>9</td>\n",
       "      <td>5</td>\n",
       "      <td>6</td>\n",
       "      <td>16</td>\n",
       "      <td>10</td>\n",
       "      <td>11</td>\n",
       "    </tr>\n",
       "    <tr>\n",
       "      <th>positives int</th>\n",
       "      <td>10</td>\n",
       "      <td>0</td>\n",
       "      <td>9</td>\n",
       "      <td>9</td>\n",
       "      <td>5</td>\n",
       "      <td>6</td>\n",
       "      <td>13</td>\n",
       "      <td>9</td>\n",
       "      <td>10</td>\n",
       "    </tr>\n",
       "    <tr>\n",
       "      <th>truce str</th>\n",
       "      <td>1</td>\n",
       "      <td>1</td>\n",
       "      <td>9</td>\n",
       "      <td>9</td>\n",
       "      <td>5</td>\n",
       "      <td>3</td>\n",
       "      <td>9</td>\n",
       "      <td>5</td>\n",
       "      <td>6</td>\n",
       "    </tr>\n",
       "    <tr>\n",
       "      <th>total</th>\n",
       "      <td>53</td>\n",
       "      <td>3</td>\n",
       "      <td>82</td>\n",
       "      <td>82</td>\n",
       "      <td>48</td>\n",
       "      <td>48</td>\n",
       "      <td>123</td>\n",
       "      <td>77</td>\n",
       "      <td>87</td>\n",
       "    </tr>\n",
       "  </tbody>\n",
       "</table>\n",
       "</div>"
      ],
      "text/plain": [
       "                      break_penalties  breakable_cols  min_possible_widths  \\\n",
       "Column                                                                       \n",
       "vestige                            10               0                    6   \n",
       "bluffing str                        1               1                   12   \n",
       "citizenship datetime                5               0                   10   \n",
       "demographic str                     1               1                   10   \n",
       "difficultly datetime                5               0                   10   \n",
       "glaze float                        10               0                    7   \n",
       "memorandum float                   10               0                    9   \n",
       "positives int                      10               0                    9   \n",
       "truce str                           1               1                    9   \n",
       "total                              53               3                   82   \n",
       "\n",
       "                      ideal_widths  col_widths  headers_cw  headers_ideal  \\\n",
       "Column                                                                      \n",
       "vestige                          6           4           4              7   \n",
       "bluffing str                    12           7           5             12   \n",
       "citizenship datetime            10           6           7             20   \n",
       "demographic str                 10           6           7             15   \n",
       "difficultly datetime            10           6           7             20   \n",
       "glaze float                      7           4           3             11   \n",
       "memorandum float                 9           5           6             16   \n",
       "positives int                    9           5           6             13   \n",
       "truce str                        9           5           3              9   \n",
       "total                           82          48          48            123   \n",
       "\n",
       "                      headers_min  actual  \n",
       "Column                                     \n",
       "vestige                         7       8  \n",
       "bluffing str                    8       9  \n",
       "citizenship datetime           11      12  \n",
       "demographic str                11      12  \n",
       "difficultly datetime           11      12  \n",
       "glaze float                     5       6  \n",
       "memorandum float               10      11  \n",
       "positives int                   9      10  \n",
       "truce str                       5       6  \n",
       "total                          77      87  "
      ]
     },
     "metadata": {},
     "output_type": "display_data"
    },
    {
     "name": "stdout",
     "output_type": "stream",
     "text": [
      "formatted output\n",
      "┍━━━━━━━━━━━┯━━━━━━━━━━━━┯━━━━━━━━━━━━━━━┯━━━━━━━━━━━━━━━┯━━━━━━━━━━━━━━━┯━━━━━━━━━┯━━━━━━━━━━━━━━┯━━━━━━━━━━━━━┯━━━━━━━━━┑\n",
      "│ vestige   │ bluffing   │  citizenship  │ demographic   │  difficultly  │   glaze │   memorandum │   positives │ truce   │\n",
      "│           │ str        │   datetime    │ str           │   datetime    │   float │        float │         int │ str     │\n",
      "┝━━━━━━━━━━━┿━━━━━━━━━━━━┿━━━━━━━━━━━━━━━┿━━━━━━━━━━━━━━━┿━━━━━━━━━━━━━━━┿━━━━━━━━━┿━━━━━━━━━━━━━━┿━━━━━━━━━━━━━┿━━━━━━━━━┥\n",
      "│ 16,553    │ brunch     │  2020-08-02   │ deters        │  2009-02-27   │ 0.59401 │     246.830M │    937.727M │ clipb   │\n",
      "│           │            │               │               │               │         │              │             │ oard    │\n",
      "├───────────┼────────────┼───────────────┼───────────────┼───────────────┼─────────┼──────────────┼─────────────┼─────────┤\n",
      "│ 30,023    │ arbor      │  2024-12-18   │ slice         │  2009-02-27   │   6e-05 │       8.244M │         NaN │ brunc   │\n",
      "│           │            │               │               │               │         │              │             │ h       │\n",
      "├───────────┼────────────┼───────────────┼───────────────┼───────────────┼─────────┼──────────────┼─────────────┼─────────┤\n",
      "│ 31,076    │ geograph   │  2032-09-10   │ marries       │  2006-09-13   │       0 │     159.516m │    339.722M │ resta   │\n",
      "│           │ ical       │               │               │               │         │              │             │ ting    │\n",
      "├───────────┼────────────┼───────────────┼───────────────┼───────────────┼─────────┼──────────────┼─────────────┼─────────┤\n",
      "│ 31,771    │ promo      │  2024-12-18   │ tributes      │  2006-09-13   │ 0.60911 │        3.648 │    422.303M │ engul   │\n",
      "│           │            │               │               │               │         │              │             │ f       │\n",
      "├───────────┼────────────┼───────────────┼───────────────┼───────────────┼─────────┼──────────────┼─────────────┼─────────┤\n",
      "│ 37,132    │ commend    │  2032-09-10   │ decorating    │  2028-03-11   │   4e-05 │     202.380m │    498.621M │ short   │\n",
      "│           │            │               │               │               │         │              │             │ cut     │\n",
      "┕━━━━━━━━━━━┷━━━━━━━━━━━━┷━━━━━━━━━━━━━━━┷━━━━━━━━━━━━━━━┷━━━━━━━━━━━━━━━┷━━━━━━━━━┷━━━━━━━━━━━━━━┷━━━━━━━━━━━━━┷━━━━━━━━━┙\n",
      "=*=*=*=*=*=*=*=*=*=*=*=*=*=*=*=*=*=*=*=*=*=*=*=*=*=*=*=*=*=*=*=*=*=*=*=*=*=*=*=*=*=*=*=*=*=*=*=*=*=*=*=*=*=*=*=*=*=*=*=*=*=*=*=*=*=*=*=*=*=*=*=*=*=*=*=*=*=*=*=*\n",
      "cw_target = 80 and input_target = 68\n",
      "Actual text table width by row   62\n",
      "top row                          │ comer      │   Billionaire │ Brainless       │   Opportune │\n",
      "actual widths by column          [13 16 18 14]\n",
      "acutal total width               62\n"
     ]
    },
    {
     "data": {
      "text/html": [
       "<div>\n",
       "<style scoped>\n",
       "    .dataframe tbody tr th:only-of-type {\n",
       "        vertical-align: middle;\n",
       "    }\n",
       "\n",
       "    .dataframe tbody tr th {\n",
       "        vertical-align: top;\n",
       "    }\n",
       "\n",
       "    .dataframe thead th {\n",
       "        text-align: right;\n",
       "    }\n",
       "</style>\n",
       "<table border=\"1\" class=\"dataframe\">\n",
       "  <thead>\n",
       "    <tr style=\"text-align: right;\">\n",
       "      <th></th>\n",
       "      <th>break_penalties</th>\n",
       "      <th>breakable_cols</th>\n",
       "      <th>min_possible_widths</th>\n",
       "      <th>ideal_widths</th>\n",
       "      <th>col_widths</th>\n",
       "      <th>headers_cw</th>\n",
       "      <th>headers_ideal</th>\n",
       "      <th>headers_min</th>\n",
       "      <th>actual</th>\n",
       "    </tr>\n",
       "    <tr>\n",
       "      <th>Column</th>\n",
       "      <th></th>\n",
       "      <th></th>\n",
       "      <th></th>\n",
       "      <th></th>\n",
       "      <th></th>\n",
       "      <th></th>\n",
       "      <th></th>\n",
       "      <th></th>\n",
       "      <th></th>\n",
       "    </tr>\n",
       "  </thead>\n",
       "  <tbody>\n",
       "    <tr>\n",
       "      <th>comer</th>\n",
       "      <td>5</td>\n",
       "      <td>0</td>\n",
       "      <td>10</td>\n",
       "      <td>10</td>\n",
       "      <td>10</td>\n",
       "      <td>5</td>\n",
       "      <td>5</td>\n",
       "      <td>5</td>\n",
       "      <td>9</td>\n",
       "    </tr>\n",
       "    <tr>\n",
       "      <th>Billionaire Convicted Erected float</th>\n",
       "      <td>10</td>\n",
       "      <td>0</td>\n",
       "      <td>9</td>\n",
       "      <td>9</td>\n",
       "      <td>9</td>\n",
       "      <td>21</td>\n",
       "      <td>35</td>\n",
       "      <td>11</td>\n",
       "      <td>12</td>\n",
       "    </tr>\n",
       "    <tr>\n",
       "      <th>Brainless Unleashed Insignificant str</th>\n",
       "      <td>1</td>\n",
       "      <td>1</td>\n",
       "      <td>13</td>\n",
       "      <td>13</td>\n",
       "      <td>13</td>\n",
       "      <td>23</td>\n",
       "      <td>37</td>\n",
       "      <td>13</td>\n",
       "      <td>14</td>\n",
       "    </tr>\n",
       "    <tr>\n",
       "      <th>Opportune Rambling Impedes float</th>\n",
       "      <td>10</td>\n",
       "      <td>0</td>\n",
       "      <td>7</td>\n",
       "      <td>7</td>\n",
       "      <td>7</td>\n",
       "      <td>19</td>\n",
       "      <td>32</td>\n",
       "      <td>9</td>\n",
       "      <td>10</td>\n",
       "    </tr>\n",
       "    <tr>\n",
       "      <th>total</th>\n",
       "      <td>26</td>\n",
       "      <td>1</td>\n",
       "      <td>39</td>\n",
       "      <td>39</td>\n",
       "      <td>39</td>\n",
       "      <td>68</td>\n",
       "      <td>109</td>\n",
       "      <td>38</td>\n",
       "      <td>46</td>\n",
       "    </tr>\n",
       "  </tbody>\n",
       "</table>\n",
       "</div>"
      ],
      "text/plain": [
       "                                       break_penalties  breakable_cols  \\\n",
       "Column                                                                   \n",
       "comer                                                5               0   \n",
       "Billionaire Convicted Erected float                 10               0   \n",
       "Brainless Unleashed Insignificant str                1               1   \n",
       "Opportune Rambling Impedes float                    10               0   \n",
       "total                                               26               1   \n",
       "\n",
       "                                       min_possible_widths  ideal_widths  \\\n",
       "Column                                                                     \n",
       "comer                                                   10            10   \n",
       "Billionaire Convicted Erected float                      9             9   \n",
       "Brainless Unleashed Insignificant str                   13            13   \n",
       "Opportune Rambling Impedes float                         7             7   \n",
       "total                                                   39            39   \n",
       "\n",
       "                                       col_widths  headers_cw  headers_ideal  \\\n",
       "Column                                                                         \n",
       "comer                                          10           5              5   \n",
       "Billionaire Convicted Erected float             9          21             35   \n",
       "Brainless Unleashed Insignificant str          13          23             37   \n",
       "Opportune Rambling Impedes float                7          19             32   \n",
       "total                                          39          68            109   \n",
       "\n",
       "                                       headers_min  actual  \n",
       "Column                                                      \n",
       "comer                                            5       9  \n",
       "Billionaire Convicted Erected float             11      12  \n",
       "Brainless Unleashed Insignificant str           13      14  \n",
       "Opportune Rambling Impedes float                 9      10  \n",
       "total                                           38      46  "
      ]
     },
     "metadata": {},
     "output_type": "display_data"
    },
    {
     "name": "stdout",
     "output_type": "stream",
     "text": [
      "formatted output\n",
      "┍━━━━━━━━━━━━┯━━━━━━━━━━━━━━━┯━━━━━━━━━━━━━━━━━┯━━━━━━━━━━━━━┑\n",
      "│ comer      │   Billionaire │ Brainless       │   Opportune │\n",
      "│            │     Convicted │ Unleashed       │    Rambling │\n",
      "│            │       Erected │ Insignificant   │     Impedes │\n",
      "│            │         float │ str             │       float │\n",
      "┝━━━━━━━━━━━━┿━━━━━━━━━━━━━━━┿━━━━━━━━━━━━━━━━━┿━━━━━━━━━━━━━┥\n",
      "│ 2006-05-29 │        4.978M │ fuses           │           0 │\n",
      "├────────────┼───────────────┼─────────────────┼─────────────┤\n",
      "│ 2006-10-01 │      163.377k │ nan             │     0.71859 │\n",
      "├────────────┼───────────────┼─────────────────┼─────────────┤\n",
      "│ 2006-10-31 │      198.361k │ degeneration    │     0.00013 │\n",
      "├────────────┼───────────────┼─────────────────┼─────────────┤\n",
      "│ 2007-01-16 │        2.846G │ doomsday        │     0.03598 │\n",
      "├────────────┼───────────────┼─────────────────┼─────────────┤\n",
      "│ 2007-04-20 │       423.417 │ consolidating   │       1e-05 │\n",
      "┕━━━━━━━━━━━━┷━━━━━━━━━━━━━━━┷━━━━━━━━━━━━━━━━━┷━━━━━━━━━━━━━┙\n",
      "=*=*=*=*=*=*=*=*=*=*=*=*=*=*=*=*=*=*=*=*=*=*=*=*=*=*=*=*=*=*=*=*=*=*=*=*=*=*=*=*=*=*=*=*=*=*=*=*=*=*=*=*=*=*=*=*=*=*=*=*=*=*=*=*=*=*=*=*=*=*=*=*=*=*=*=*=*=*=*=*\n",
      "cw_target = 80 and input_target = 60\n",
      "Actual text table width by row   113\n",
      "top row                          │ configure   │ smarts      │ tandem   │   Escort │   Fortified │   Reconfigure │ Schoolchildren   │    Surplus │\n",
      "actual widths by column          [14 14 11 11 14 16 19 13]\n",
      "acutal total width               113\n"
     ]
    },
    {
     "data": {
      "text/html": [
       "<div>\n",
       "<style scoped>\n",
       "    .dataframe tbody tr th:only-of-type {\n",
       "        vertical-align: middle;\n",
       "    }\n",
       "\n",
       "    .dataframe tbody tr th {\n",
       "        vertical-align: top;\n",
       "    }\n",
       "\n",
       "    .dataframe thead th {\n",
       "        text-align: right;\n",
       "    }\n",
       "</style>\n",
       "<table border=\"1\" class=\"dataframe\">\n",
       "  <thead>\n",
       "    <tr style=\"text-align: right;\">\n",
       "      <th></th>\n",
       "      <th>break_penalties</th>\n",
       "      <th>breakable_cols</th>\n",
       "      <th>min_possible_widths</th>\n",
       "      <th>ideal_widths</th>\n",
       "      <th>col_widths</th>\n",
       "      <th>headers_cw</th>\n",
       "      <th>headers_ideal</th>\n",
       "      <th>headers_min</th>\n",
       "      <th>actual</th>\n",
       "    </tr>\n",
       "    <tr>\n",
       "      <th>Column</th>\n",
       "      <th></th>\n",
       "      <th></th>\n",
       "      <th></th>\n",
       "      <th></th>\n",
       "      <th></th>\n",
       "      <th></th>\n",
       "      <th></th>\n",
       "      <th></th>\n",
       "      <th></th>\n",
       "    </tr>\n",
       "  </thead>\n",
       "  <tbody>\n",
       "    <tr>\n",
       "      <th>configure</th>\n",
       "      <td>10</td>\n",
       "      <td>0</td>\n",
       "      <td>6</td>\n",
       "      <td>6</td>\n",
       "      <td>5</td>\n",
       "      <td>8</td>\n",
       "      <td>9</td>\n",
       "      <td>9</td>\n",
       "      <td>10</td>\n",
       "    </tr>\n",
       "    <tr>\n",
       "      <th>smarts</th>\n",
       "      <td>1</td>\n",
       "      <td>1</td>\n",
       "      <td>12</td>\n",
       "      <td>12</td>\n",
       "      <td>11</td>\n",
       "      <td>5</td>\n",
       "      <td>6</td>\n",
       "      <td>6</td>\n",
       "      <td>10</td>\n",
       "    </tr>\n",
       "    <tr>\n",
       "      <th>tandem</th>\n",
       "      <td>10</td>\n",
       "      <td>0</td>\n",
       "      <td>6</td>\n",
       "      <td>6</td>\n",
       "      <td>5</td>\n",
       "      <td>5</td>\n",
       "      <td>6</td>\n",
       "      <td>6</td>\n",
       "      <td>7</td>\n",
       "    </tr>\n",
       "    <tr>\n",
       "      <th>Escort Unlike Hairy float</th>\n",
       "      <td>10</td>\n",
       "      <td>0</td>\n",
       "      <td>8</td>\n",
       "      <td>8</td>\n",
       "      <td>7</td>\n",
       "      <td>5</td>\n",
       "      <td>25</td>\n",
       "      <td>6</td>\n",
       "      <td>7</td>\n",
       "    </tr>\n",
       "    <tr>\n",
       "      <th>Fortified Basket Unawares int</th>\n",
       "      <td>10</td>\n",
       "      <td>0</td>\n",
       "      <td>9</td>\n",
       "      <td>9</td>\n",
       "      <td>8</td>\n",
       "      <td>8</td>\n",
       "      <td>29</td>\n",
       "      <td>9</td>\n",
       "      <td>10</td>\n",
       "    </tr>\n",
       "    <tr>\n",
       "      <th>Reconfigure Sharif Self float</th>\n",
       "      <td>10</td>\n",
       "      <td>0</td>\n",
       "      <td>7</td>\n",
       "      <td>7</td>\n",
       "      <td>6</td>\n",
       "      <td>10</td>\n",
       "      <td>29</td>\n",
       "      <td>11</td>\n",
       "      <td>12</td>\n",
       "    </tr>\n",
       "    <tr>\n",
       "      <th>Schoolchildren Pain Hovering str</th>\n",
       "      <td>1</td>\n",
       "      <td>1</td>\n",
       "      <td>11</td>\n",
       "      <td>11</td>\n",
       "      <td>10</td>\n",
       "      <td>12</td>\n",
       "      <td>32</td>\n",
       "      <td>14</td>\n",
       "      <td>15</td>\n",
       "    </tr>\n",
       "    <tr>\n",
       "      <th>Surplus Dearborn Illinois float</th>\n",
       "      <td>10</td>\n",
       "      <td>0</td>\n",
       "      <td>7</td>\n",
       "      <td>7</td>\n",
       "      <td>6</td>\n",
       "      <td>7</td>\n",
       "      <td>31</td>\n",
       "      <td>8</td>\n",
       "      <td>9</td>\n",
       "    </tr>\n",
       "    <tr>\n",
       "      <th>total</th>\n",
       "      <td>62</td>\n",
       "      <td>2</td>\n",
       "      <td>66</td>\n",
       "      <td>66</td>\n",
       "      <td>58</td>\n",
       "      <td>60</td>\n",
       "      <td>167</td>\n",
       "      <td>69</td>\n",
       "      <td>81</td>\n",
       "    </tr>\n",
       "  </tbody>\n",
       "</table>\n",
       "</div>"
      ],
      "text/plain": [
       "                                  break_penalties  breakable_cols  \\\n",
       "Column                                                              \n",
       "configure                                      10               0   \n",
       "smarts                                          1               1   \n",
       "tandem                                         10               0   \n",
       "Escort Unlike Hairy float                      10               0   \n",
       "Fortified Basket Unawares int                  10               0   \n",
       "Reconfigure Sharif Self float                  10               0   \n",
       "Schoolchildren Pain Hovering str                1               1   \n",
       "Surplus Dearborn Illinois float                10               0   \n",
       "total                                          62               2   \n",
       "\n",
       "                                  min_possible_widths  ideal_widths  \\\n",
       "Column                                                                \n",
       "configure                                           6             6   \n",
       "smarts                                             12            12   \n",
       "tandem                                              6             6   \n",
       "Escort Unlike Hairy float                           8             8   \n",
       "Fortified Basket Unawares int                       9             9   \n",
       "Reconfigure Sharif Self float                       7             7   \n",
       "Schoolchildren Pain Hovering str                   11            11   \n",
       "Surplus Dearborn Illinois float                     7             7   \n",
       "total                                              66            66   \n",
       "\n",
       "                                  col_widths  headers_cw  headers_ideal  \\\n",
       "Column                                                                    \n",
       "configure                                  5           8              9   \n",
       "smarts                                    11           5              6   \n",
       "tandem                                     5           5              6   \n",
       "Escort Unlike Hairy float                  7           5             25   \n",
       "Fortified Basket Unawares int              8           8             29   \n",
       "Reconfigure Sharif Self float              6          10             29   \n",
       "Schoolchildren Pain Hovering str          10          12             32   \n",
       "Surplus Dearborn Illinois float            6           7             31   \n",
       "total                                     58          60            167   \n",
       "\n",
       "                                  headers_min  actual  \n",
       "Column                                                 \n",
       "configure                                   9      10  \n",
       "smarts                                      6      10  \n",
       "tandem                                      6       7  \n",
       "Escort Unlike Hairy float                   6       7  \n",
       "Fortified Basket Unawares int               9      10  \n",
       "Reconfigure Sharif Self float              11      12  \n",
       "Schoolchildren Pain Hovering str           14      15  \n",
       "Surplus Dearborn Illinois float             8       9  \n",
       "total                                      69      81  "
      ]
     },
     "metadata": {},
     "output_type": "display_data"
    },
    {
     "name": "stdout",
     "output_type": "stream",
     "text": [
      "formatted output\n",
      "┍━━━━━━━━━━━━━┯━━━━━━━━━━━━━┯━━━━━━━━━━┯━━━━━━━━━━┯━━━━━━━━━━━━━┯━━━━━━━━━━━━━━━┯━━━━━━━━━━━━━━━━━━┯━━━━━━━━━━━━┑\n",
      "│ configure   │ smarts      │ tandem   │   Escort │   Fortified │   Reconfigure │ Schoolchildren   │    Surplus │\n",
      "│             │             │          │   Unlike │      Basket │   Sharif Self │ Pain Hovering    │   Dearborn │\n",
      "│             │             │          │    Hairy │    Unawares │         float │ str              │   Illinois │\n",
      "│             │             │          │    float │         int │               │                  │      float │\n",
      "┝━━━━━━━━━━━━━┿━━━━━━━━━━━━━┿━━━━━━━━━━┿━━━━━━━━━━┿━━━━━━━━━━━━━┿━━━━━━━━━━━━━━━┿━━━━━━━━━━━━━━━━━━┿━━━━━━━━━━━━┥\n",
      "│ 22,120      │ ascertainin │ 41,099   │  -46.593 │    8,919.00 │             0 │ piggy            │    0.10071 │\n",
      "│             │ g           │          │        k │             │               │                  │            │\n",
      "├─────────────┼─────────────┼──────────┼──────────┼─────────────┼───────────────┼──────────────────┼────────────┤\n",
      "│             │ campuses    │ 12,909   │   0.574y │   -8,711.00 │       0.00588 │ refinements      │    0.00119 │\n",
      "├─────────────┼─────────────┼──────────┼──────────┼─────────────┼───────────────┼──────────────────┼────────────┤\n",
      "│             │             │ 18,143   │  23.117k │         nan │       1.99809 │ duress           │          0 │\n",
      "├─────────────┼─────────────┼──────────┼──────────┼─────────────┼───────────────┼──────────────────┼────────────┤\n",
      "│             │             │ 21,038   │   8.740z │   -6,363.00 │       0.00146 │ importing        │    0.00118 │\n",
      "├─────────────┼─────────────┼──────────┼──────────┼─────────────┼───────────────┼──────────────────┼────────────┤\n",
      "│             │ thou        │ 89,555   │   3.597E │   -7,298.00 │       0.34988 │ dealerships      │          0 │\n",
      "┕━━━━━━━━━━━━━┷━━━━━━━━━━━━━┷━━━━━━━━━━┷━━━━━━━━━━┷━━━━━━━━━━━━━┷━━━━━━━━━━━━━━━┷━━━━━━━━━━━━━━━━━━┷━━━━━━━━━━━━┙\n",
      "=*=*=*=*=*=*=*=*=*=*=*=*=*=*=*=*=*=*=*=*=*=*=*=*=*=*=*=*=*=*=*=*=*=*=*=*=*=*=*=*=*=*=*=*=*=*=*=*=*=*=*=*=*=*=*=*=*=*=*=*=*=*=*=*=*=*=*=*=*=*=*=*=*=*=*=*=*=*=*=*\n",
      "cw_target = 80 and input_target = 60\n",
      "Actual text table width by row   78\n",
      "top row                          │ ('',     │  ('newer',   │   ('newer' │   ('updated │   ('updated │   ('upd │\n",
      "actual widths by column          [11 15 13 14 14 10]\n",
      "acutal total width               78\n"
     ]
    },
    {
     "data": {
      "text/html": [
       "<div>\n",
       "<style scoped>\n",
       "    .dataframe tbody tr th:only-of-type {\n",
       "        vertical-align: middle;\n",
       "    }\n",
       "\n",
       "    .dataframe tbody tr th {\n",
       "        vertical-align: top;\n",
       "    }\n",
       "\n",
       "    .dataframe thead th {\n",
       "        text-align: right;\n",
       "    }\n",
       "</style>\n",
       "<table border=\"1\" class=\"dataframe\">\n",
       "  <thead>\n",
       "    <tr style=\"text-align: right;\">\n",
       "      <th></th>\n",
       "      <th></th>\n",
       "      <th></th>\n",
       "      <th>break_penalties</th>\n",
       "      <th>breakable_cols</th>\n",
       "      <th>min_possible_widths</th>\n",
       "      <th>ideal_widths</th>\n",
       "      <th>col_widths</th>\n",
       "      <th>headers_cw</th>\n",
       "      <th>headers_ideal</th>\n",
       "      <th>headers_min</th>\n",
       "      <th>actual</th>\n",
       "    </tr>\n",
       "    <tr>\n",
       "      <th></th>\n",
       "      <th></th>\n",
       "      <th></th>\n",
       "      <th></th>\n",
       "      <th></th>\n",
       "      <th></th>\n",
       "      <th></th>\n",
       "      <th></th>\n",
       "      <th></th>\n",
       "      <th></th>\n",
       "      <th></th>\n",
       "      <th></th>\n",
       "    </tr>\n",
       "  </thead>\n",
       "  <tbody>\n",
       "    <tr>\n",
       "      <th></th>\n",
       "      <th></th>\n",
       "      <th>dixie</th>\n",
       "      <td>10.0</td>\n",
       "      <td>False</td>\n",
       "      <td>6.0</td>\n",
       "      <td>6.0</td>\n",
       "      <td>6.0</td>\n",
       "      <td>3.0</td>\n",
       "      <td>3.0</td>\n",
       "      <td>1.0</td>\n",
       "      <td>7</td>\n",
       "    </tr>\n",
       "    <tr>\n",
       "      <th rowspan=\"2\" valign=\"top\">newer</th>\n",
       "      <th>bless</th>\n",
       "      <th>austral</th>\n",
       "      <td>5.0</td>\n",
       "      <td>False</td>\n",
       "      <td>10.0</td>\n",
       "      <td>10.0</td>\n",
       "      <td>10.0</td>\n",
       "      <td>3.0</td>\n",
       "      <td>3.0</td>\n",
       "      <td>1.0</td>\n",
       "      <td>11</td>\n",
       "    </tr>\n",
       "    <tr>\n",
       "      <th>watertight</th>\n",
       "      <th>unhappy</th>\n",
       "      <td>10.0</td>\n",
       "      <td>False</td>\n",
       "      <td>8.0</td>\n",
       "      <td>8.0</td>\n",
       "      <td>8.0</td>\n",
       "      <td>3.0</td>\n",
       "      <td>3.0</td>\n",
       "      <td>1.0</td>\n",
       "      <td>9</td>\n",
       "    </tr>\n",
       "    <tr>\n",
       "      <th rowspan=\"3\" valign=\"top\">updated</th>\n",
       "      <th>bless</th>\n",
       "      <th>clerical</th>\n",
       "      <td>10.0</td>\n",
       "      <td>False</td>\n",
       "      <td>9.0</td>\n",
       "      <td>9.0</td>\n",
       "      <td>9.0</td>\n",
       "      <td>3.0</td>\n",
       "      <td>3.0</td>\n",
       "      <td>1.0</td>\n",
       "      <td>10</td>\n",
       "    </tr>\n",
       "    <tr>\n",
       "      <th>redefined</th>\n",
       "      <th>emerging</th>\n",
       "      <td>10.0</td>\n",
       "      <td>False</td>\n",
       "      <td>9.0</td>\n",
       "      <td>9.0</td>\n",
       "      <td>9.0</td>\n",
       "      <td>3.0</td>\n",
       "      <td>3.0</td>\n",
       "      <td>1.0</td>\n",
       "      <td>10</td>\n",
       "    </tr>\n",
       "    <tr>\n",
       "      <th>watertight</th>\n",
       "      <th>swallowing</th>\n",
       "      <td>10.0</td>\n",
       "      <td>False</td>\n",
       "      <td>5.0</td>\n",
       "      <td>5.0</td>\n",
       "      <td>5.0</td>\n",
       "      <td>3.0</td>\n",
       "      <td>3.0</td>\n",
       "      <td>1.0</td>\n",
       "      <td>6</td>\n",
       "    </tr>\n",
       "    <tr>\n",
       "      <th>total</th>\n",
       "      <th></th>\n",
       "      <th></th>\n",
       "      <td>NaN</td>\n",
       "      <td>NaN</td>\n",
       "      <td>NaN</td>\n",
       "      <td>NaN</td>\n",
       "      <td>NaN</td>\n",
       "      <td>NaN</td>\n",
       "      <td>NaN</td>\n",
       "      <td>NaN</td>\n",
       "      <td>54</td>\n",
       "    </tr>\n",
       "  </tbody>\n",
       "</table>\n",
       "</div>"
      ],
      "text/plain": [
       "                               break_penalties breakable_cols  \\\n",
       "                                                                \n",
       "                   dixie                  10.0          False   \n",
       "newer   bless      austral                 5.0          False   \n",
       "        watertight unhappy                10.0          False   \n",
       "updated bless      clerical               10.0          False   \n",
       "        redefined  emerging               10.0          False   \n",
       "        watertight swallowing             10.0          False   \n",
       "total                                      NaN            NaN   \n",
       "\n",
       "                               min_possible_widths  ideal_widths  col_widths  \\\n",
       "                                                                               \n",
       "                   dixie                       6.0           6.0         6.0   \n",
       "newer   bless      austral                    10.0          10.0        10.0   \n",
       "        watertight unhappy                     8.0           8.0         8.0   \n",
       "updated bless      clerical                    9.0           9.0         9.0   \n",
       "        redefined  emerging                    9.0           9.0         9.0   \n",
       "        watertight swallowing                  5.0           5.0         5.0   \n",
       "total                                          NaN           NaN         NaN   \n",
       "\n",
       "                               headers_cw  headers_ideal  headers_min  actual  \n",
       "                                                                               \n",
       "                   dixie              3.0            3.0          1.0       7  \n",
       "newer   bless      austral            3.0            3.0          1.0      11  \n",
       "        watertight unhappy            3.0            3.0          1.0       9  \n",
       "updated bless      clerical           3.0            3.0          1.0      10  \n",
       "        redefined  emerging           3.0            3.0          1.0      10  \n",
       "        watertight swallowing         3.0            3.0          1.0       6  \n",
       "total                                 NaN            NaN          NaN      54  "
      ]
     },
     "metadata": {},
     "output_type": "display_data"
    },
    {
     "name": "stdout",
     "output_type": "stream",
     "text": [
      "formatted output\n",
      "┍━━━━━━━━━━┯━━━━━━━━━━━━━━┯━━━━━━━━━━━━┯━━━━━━━━━━━━━┯━━━━━━━━━━━━━┯━━━━━━━━━┑\n",
      "│ ('',     │  ('newer',   │   ('newer' │   ('updated │   ('updated │   ('upd │\n",
      "│ '', 'd   │   'bless',   │   , 'water │          ', │   ', 'redef │   ated' │\n",
      "│ ixie')   │  'austral')  │   tight',  │   'bless',  │   ined', 'e │   , 'wa │\n",
      "│          │              │   'unhappy │   'clerical │   merging') │   terti │\n",
      "│          │              │         ') │          ') │             │   ght', │\n",
      "│          │              │            │             │             │   'swal │\n",
      "│          │              │            │             │             │   lowin │\n",
      "│          │              │            │             │             │     g') │\n",
      "┝━━━━━━━━━━┿━━━━━━━━━━━━━━┿━━━━━━━━━━━━┿━━━━━━━━━━━━━┿━━━━━━━━━━━━━┿━━━━━━━━━┥\n",
      "│ 12,901   │  2032-11-18  │   1,992.00 │       7.064 │     281.101 │   1,994 │\n",
      "├──────────┼──────────────┼────────────┼─────────────┼─────────────┼─────────┤\n",
      "│ 16,581   │  2029-08-28  │   1,991.00 │    435.089k │      29.508 │   2,014 │\n",
      "├──────────┼──────────────┼────────────┼─────────────┼─────────────┼─────────┤\n",
      "│ 17,700   │  2033-07-10  │   2,005.00 │      7.628M │     105.720 │   1,999 │\n",
      "├──────────┼──────────────┼────────────┼─────────────┼─────────────┼─────────┤\n",
      "│ 31,212   │  2028-05-26  │   2,010.00 │       3.086 │    221.790M │   1,996 │\n",
      "├──────────┼──────────────┼────────────┼─────────────┼─────────────┼─────────┤\n",
      "│ 35,164   │  2011-06-20  │   1,990.00 │     59.527M │      6.261k │   1,991 │\n",
      "┕━━━━━━━━━━┷━━━━━━━━━━━━━━┷━━━━━━━━━━━━┷━━━━━━━━━━━━━┷━━━━━━━━━━━━━┷━━━━━━━━━┙\n",
      "=*=*=*=*=*=*=*=*=*=*=*=*=*=*=*=*=*=*=*=*=*=*=*=*=*=*=*=*=*=*=*=*=*=*=*=*=*=*=*=*=*=*=*=*=*=*=*=*=*=*=*=*=*=*=*=*=*=*=*=*=*=*=*=*=*=*=*=*=*=*=*=*=*=*=*=*=*=*=*=*\n",
      "cw_target = 80 and input_target = 40\n",
      "Actual text table width by row   109\n",
      "top row                          │ ('   │ (''   │ ('   │     ('c │   (' │   ('c │  ('co  │    (' │   ('c │   ('co │     ('c │   ('t │  ('te  │\n",
      "actual widths by column          [ 7  8  7 10  7  8  9  8  8  9 10  8  9]\n",
      "acutal total width               109\n"
     ]
    },
    {
     "data": {
      "text/html": [
       "<div>\n",
       "<style scoped>\n",
       "    .dataframe tbody tr th:only-of-type {\n",
       "        vertical-align: middle;\n",
       "    }\n",
       "\n",
       "    .dataframe tbody tr th {\n",
       "        vertical-align: top;\n",
       "    }\n",
       "\n",
       "    .dataframe thead th {\n",
       "        text-align: right;\n",
       "    }\n",
       "</style>\n",
       "<table border=\"1\" class=\"dataframe\">\n",
       "  <thead>\n",
       "    <tr style=\"text-align: right;\">\n",
       "      <th></th>\n",
       "      <th></th>\n",
       "      <th></th>\n",
       "      <th>break_penalties</th>\n",
       "      <th>breakable_cols</th>\n",
       "      <th>min_possible_widths</th>\n",
       "      <th>ideal_widths</th>\n",
       "      <th>col_widths</th>\n",
       "      <th>headers_cw</th>\n",
       "      <th>headers_ideal</th>\n",
       "      <th>headers_min</th>\n",
       "      <th>actual</th>\n",
       "    </tr>\n",
       "    <tr>\n",
       "      <th></th>\n",
       "      <th></th>\n",
       "      <th></th>\n",
       "      <th></th>\n",
       "      <th></th>\n",
       "      <th></th>\n",
       "      <th></th>\n",
       "      <th></th>\n",
       "      <th></th>\n",
       "      <th></th>\n",
       "      <th></th>\n",
       "      <th></th>\n",
       "    </tr>\n",
       "  </thead>\n",
       "  <tbody>\n",
       "    <tr>\n",
       "      <th rowspan=\"3\" valign=\"top\"></th>\n",
       "      <th rowspan=\"3\" valign=\"top\"></th>\n",
       "      <th>shamrock</th>\n",
       "      <td>10.0</td>\n",
       "      <td>False</td>\n",
       "      <td>6.0</td>\n",
       "      <td>6.0</td>\n",
       "      <td>2.0</td>\n",
       "      <td>3.0</td>\n",
       "      <td>3.0</td>\n",
       "      <td>1.0</td>\n",
       "      <td>3</td>\n",
       "    </tr>\n",
       "    <tr>\n",
       "      <th>auspicious</th>\n",
       "      <td>1.0</td>\n",
       "      <td>True</td>\n",
       "      <td>8.0</td>\n",
       "      <td>8.0</td>\n",
       "      <td>3.0</td>\n",
       "      <td>3.0</td>\n",
       "      <td>3.0</td>\n",
       "      <td>1.0</td>\n",
       "      <td>4</td>\n",
       "    </tr>\n",
       "    <tr>\n",
       "      <th>viper</th>\n",
       "      <td>10.0</td>\n",
       "      <td>False</td>\n",
       "      <td>6.0</td>\n",
       "      <td>6.0</td>\n",
       "      <td>2.0</td>\n",
       "      <td>3.0</td>\n",
       "      <td>3.0</td>\n",
       "      <td>1.0</td>\n",
       "      <td>3</td>\n",
       "    </tr>\n",
       "    <tr>\n",
       "      <th rowspan=\"8\" valign=\"top\">commercially</th>\n",
       "      <th rowspan=\"3\" valign=\"top\">buttered</th>\n",
       "      <th>brodie</th>\n",
       "      <td>10.0</td>\n",
       "      <td>False</td>\n",
       "      <td>9.0</td>\n",
       "      <td>9.0</td>\n",
       "      <td>3.0</td>\n",
       "      <td>3.0</td>\n",
       "      <td>3.0</td>\n",
       "      <td>1.0</td>\n",
       "      <td>6</td>\n",
       "    </tr>\n",
       "    <tr>\n",
       "      <th>cursor</th>\n",
       "      <td>10.0</td>\n",
       "      <td>False</td>\n",
       "      <td>6.0</td>\n",
       "      <td>6.0</td>\n",
       "      <td>2.0</td>\n",
       "      <td>3.0</td>\n",
       "      <td>3.0</td>\n",
       "      <td>1.0</td>\n",
       "      <td>3</td>\n",
       "    </tr>\n",
       "    <tr>\n",
       "      <th>grading</th>\n",
       "      <td>10.0</td>\n",
       "      <td>False</td>\n",
       "      <td>9.0</td>\n",
       "      <td>9.0</td>\n",
       "      <td>3.0</td>\n",
       "      <td>3.0</td>\n",
       "      <td>3.0</td>\n",
       "      <td>1.0</td>\n",
       "      <td>4</td>\n",
       "    </tr>\n",
       "    <tr>\n",
       "      <th rowspan=\"2\" valign=\"top\">fertilization</th>\n",
       "      <th>attainable</th>\n",
       "      <td>5.0</td>\n",
       "      <td>False</td>\n",
       "      <td>10.0</td>\n",
       "      <td>10.0</td>\n",
       "      <td>4.0</td>\n",
       "      <td>3.0</td>\n",
       "      <td>3.0</td>\n",
       "      <td>1.0</td>\n",
       "      <td>5</td>\n",
       "    </tr>\n",
       "    <tr>\n",
       "      <th>sympathize</th>\n",
       "      <td>10.0</td>\n",
       "      <td>False</td>\n",
       "      <td>5.0</td>\n",
       "      <td>5.0</td>\n",
       "      <td>2.0</td>\n",
       "      <td>3.0</td>\n",
       "      <td>3.0</td>\n",
       "      <td>1.0</td>\n",
       "      <td>4</td>\n",
       "    </tr>\n",
       "    <tr>\n",
       "      <th rowspan=\"3\" valign=\"top\">foils</th>\n",
       "      <th>enumerate</th>\n",
       "      <td>10.0</td>\n",
       "      <td>False</td>\n",
       "      <td>9.0</td>\n",
       "      <td>9.0</td>\n",
       "      <td>3.0</td>\n",
       "      <td>3.0</td>\n",
       "      <td>3.0</td>\n",
       "      <td>1.0</td>\n",
       "      <td>4</td>\n",
       "    </tr>\n",
       "    <tr>\n",
       "      <th>pointless</th>\n",
       "      <td>10.0</td>\n",
       "      <td>False</td>\n",
       "      <td>11.0</td>\n",
       "      <td>11.0</td>\n",
       "      <td>4.0</td>\n",
       "      <td>3.0</td>\n",
       "      <td>3.0</td>\n",
       "      <td>1.0</td>\n",
       "      <td>5</td>\n",
       "    </tr>\n",
       "    <tr>\n",
       "      <th>promotes</th>\n",
       "      <td>10.0</td>\n",
       "      <td>False</td>\n",
       "      <td>8.0</td>\n",
       "      <td>8.0</td>\n",
       "      <td>3.0</td>\n",
       "      <td>3.0</td>\n",
       "      <td>3.0</td>\n",
       "      <td>1.0</td>\n",
       "      <td>6</td>\n",
       "    </tr>\n",
       "    <tr>\n",
       "      <th rowspan=\"2\" valign=\"top\">textile</th>\n",
       "      <th>buttered</th>\n",
       "      <th>infuriates</th>\n",
       "      <td>10.0</td>\n",
       "      <td>False</td>\n",
       "      <td>9.0</td>\n",
       "      <td>9.0</td>\n",
       "      <td>3.0</td>\n",
       "      <td>3.0</td>\n",
       "      <td>3.0</td>\n",
       "      <td>1.0</td>\n",
       "      <td>4</td>\n",
       "    </tr>\n",
       "    <tr>\n",
       "      <th>foils</th>\n",
       "      <th>accounting</th>\n",
       "      <td>5.0</td>\n",
       "      <td>False</td>\n",
       "      <td>10.0</td>\n",
       "      <td>10.0</td>\n",
       "      <td>4.0</td>\n",
       "      <td>3.0</td>\n",
       "      <td>3.0</td>\n",
       "      <td>1.0</td>\n",
       "      <td>5</td>\n",
       "    </tr>\n",
       "    <tr>\n",
       "      <th>total</th>\n",
       "      <th></th>\n",
       "      <th></th>\n",
       "      <td>NaN</td>\n",
       "      <td>NaN</td>\n",
       "      <td>NaN</td>\n",
       "      <td>NaN</td>\n",
       "      <td>NaN</td>\n",
       "      <td>NaN</td>\n",
       "      <td>NaN</td>\n",
       "      <td>NaN</td>\n",
       "      <td>57</td>\n",
       "    </tr>\n",
       "  </tbody>\n",
       "</table>\n",
       "</div>"
      ],
      "text/plain": [
       "                                       break_penalties breakable_cols  \\\n",
       "                                                                        \n",
       "                           shamrock               10.0          False   \n",
       "                           auspicious              1.0           True   \n",
       "                           viper                  10.0          False   \n",
       "commercially buttered      brodie                 10.0          False   \n",
       "                           cursor                 10.0          False   \n",
       "                           grading                10.0          False   \n",
       "             fertilization attainable              5.0          False   \n",
       "                           sympathize             10.0          False   \n",
       "             foils         enumerate              10.0          False   \n",
       "                           pointless              10.0          False   \n",
       "                           promotes               10.0          False   \n",
       "textile      buttered      infuriates             10.0          False   \n",
       "             foils         accounting              5.0          False   \n",
       "total                                              NaN            NaN   \n",
       "\n",
       "                                       min_possible_widths  ideal_widths  \\\n",
       "                                                                           \n",
       "                           shamrock                    6.0           6.0   \n",
       "                           auspicious                  8.0           8.0   \n",
       "                           viper                       6.0           6.0   \n",
       "commercially buttered      brodie                      9.0           9.0   \n",
       "                           cursor                      6.0           6.0   \n",
       "                           grading                     9.0           9.0   \n",
       "             fertilization attainable                 10.0          10.0   \n",
       "                           sympathize                  5.0           5.0   \n",
       "             foils         enumerate                   9.0           9.0   \n",
       "                           pointless                  11.0          11.0   \n",
       "                           promotes                    8.0           8.0   \n",
       "textile      buttered      infuriates                  9.0           9.0   \n",
       "             foils         accounting                 10.0          10.0   \n",
       "total                                                  NaN           NaN   \n",
       "\n",
       "                                       col_widths  headers_cw  headers_ideal  \\\n",
       "                                                                               \n",
       "                           shamrock           2.0         3.0            3.0   \n",
       "                           auspicious         3.0         3.0            3.0   \n",
       "                           viper              2.0         3.0            3.0   \n",
       "commercially buttered      brodie             3.0         3.0            3.0   \n",
       "                           cursor             2.0         3.0            3.0   \n",
       "                           grading            3.0         3.0            3.0   \n",
       "             fertilization attainable         4.0         3.0            3.0   \n",
       "                           sympathize         2.0         3.0            3.0   \n",
       "             foils         enumerate          3.0         3.0            3.0   \n",
       "                           pointless          4.0         3.0            3.0   \n",
       "                           promotes           3.0         3.0            3.0   \n",
       "textile      buttered      infuriates         3.0         3.0            3.0   \n",
       "             foils         accounting         4.0         3.0            3.0   \n",
       "total                                         NaN         NaN            NaN   \n",
       "\n",
       "                                       headers_min  actual  \n",
       "                                                            \n",
       "                           shamrock            1.0       3  \n",
       "                           auspicious          1.0       4  \n",
       "                           viper               1.0       3  \n",
       "commercially buttered      brodie              1.0       6  \n",
       "                           cursor              1.0       3  \n",
       "                           grading             1.0       4  \n",
       "             fertilization attainable          1.0       5  \n",
       "                           sympathize          1.0       4  \n",
       "             foils         enumerate           1.0       4  \n",
       "                           pointless           1.0       5  \n",
       "                           promotes            1.0       6  \n",
       "textile      buttered      infuriates          1.0       4  \n",
       "             foils         accounting          1.0       5  \n",
       "total                                          NaN      57  "
      ]
     },
     "metadata": {},
     "output_type": "display_data"
    },
    {
     "name": "stdout",
     "output_type": "stream",
     "text": [
      "formatted output\n",
      "┍━━━━━━┯━━━━━━━┯━━━━━━┯━━━━━━━━━┯━━━━━━┯━━━━━━━┯━━━━━━━━┯━━━━━━━┯━━━━━━━┯━━━━━━━━┯━━━━━━━━━┯━━━━━━━┯━━━━━━━━┑\n",
      "│ ('   │ (''   │ ('   │     ('c │   (' │   ('c │  ('co  │    (' │   ('c │   ('co │     ('c │   ('t │  ('te  │\n",
      "│ ',   │ ,     │ ',   │     omm │   co │   omm │  mmer  │    co │   omm │   mmer │     omm │   ext │  xtil  │\n",
      "│ ''   │ '',   │ ''   │     erc │   mm │   erc │  cial  │    mm │   erc │   cial │     erc │   ile │  e',   │\n",
      "│ ,    │ 'au   │ ,    │     ial │   er │   ial │  ly',  │    er │   ial │   ly', │     ial │   ',  │  'foi  │\n",
      "│ 's   │ spi   │ 'v   │     ly' │   ci │   ly' │  'fer  │    ci │   ly' │   'foi │     ly' │   'bu │  ls',  │\n",
      "│ ha   │ cio   │ ip   │     , ' │   al │   , ' │  tili  │    al │   , ' │   ls', │     , ' │   tte │  'acc  │\n",
      "│ mr   │ us'   │ er   │     but │   ly │   but │  zati  │    ly │   foi │   'poi │     foi │   red │  ount  │\n",
      "│ oc   │ )     │ ')   │     ter │   ', │   ter │  on',  │    ', │   ls' │   ntle │     ls' │   ',  │  ing'  │\n",
      "│ k'   │       │      │     ed' │   'b │   ed' │  'att  │    'f │   , ' │   ss') │     , ' │   'in │   )    │\n",
      "│ )    │       │      │     , ' │   ut │   , ' │  aina  │    er │   enu │        │     pro │   fur │        │\n",
      "│      │       │      │     bro │   te │   gra │  ble'  │    ti │   mer │        │     mot │   iat │        │\n",
      "│      │       │      │     die │   re │   din │   )    │    li │   ate │        │     es' │   es' │        │\n",
      "│      │       │      │      ') │   d' │   g') │        │    za │    ') │        │       ) │     ) │        │\n",
      "│      │       │      │         │   ,  │       │        │    ti │       │        │         │       │        │\n",
      "│      │       │      │         │   'c │       │        │    on │       │        │         │       │        │\n",
      "│      │       │      │         │   ur │       │        │    ', │       │        │         │       │        │\n",
      "│      │       │      │         │   so │       │        │    's │       │        │         │       │        │\n",
      "│      │       │      │         │   r' │       │        │    ym │       │        │         │       │        │\n",
      "│      │       │      │         │    ) │       │        │    pa │       │        │         │       │        │\n",
      "│      │       │      │         │      │       │        │    th │       │        │         │       │        │\n",
      "│      │       │      │         │      │       │        │    iz │       │        │         │       │        │\n",
      "│      │       │      │         │      │       │        │    e' │       │        │         │       │        │\n",
      "│      │       │      │         │      │       │        │     ) │       │        │         │       │        │\n",
      "┝━━━━━━┿━━━━━━━┿━━━━━━┿━━━━━━━━━┿━━━━━━┿━━━━━━━┿━━━━━━━━┿━━━━━━━┿━━━━━━━┿━━━━━━━━┿━━━━━━━━━┿━━━━━━━┿━━━━━━━━┥\n",
      "│ 35   │ med   │ 1,   │      3. │   1, │    28 │  2022  │ 1.507 │  1.02 │   816, │ -516.00 │   -1, │  2016  │\n",
      "│ ,0   │ ian   │ 25   │     591 │   91 │   9.5 │  -09-  │       │       │   528, │         │   734 │  -04-  │\n",
      "│ 67   │       │ 1    │       G │    5 │   56M │   24   │       │       │    688 │         │   .00 │   21   │\n",
      "├──────┼───────┼──────┼─────────┼──────┼───────┼────────┼───────┼───────┼────────┼─────────┼───────┼────────┤\n",
      "│      │       │ 52   │      28 │ -567 │    39 │  2014  │     0 │   nan │   404, │     4,8 │   5,3 │  2007  │\n",
      "│      │       │ ,7   │     3.8 │      │   8.0 │  -06-  │       │       │   481, │     63. │   73. │  -06-  │\n",
      "│      │       │ 25   │     91M │      │   08M │   03   │       │       │    854 │      00 │    00 │   29   │\n",
      "├──────┼───────┼──────┼─────────┼──────┼───────┼────────┼───────┼───────┼────────┼─────────┼───────┼────────┤\n",
      "│      │       │ 87   │  35.916 │   1, │   NaN │  2030  │   nan │  2.03 │   699, │     1,0 │   7,0 │  2028  │\n",
      "│      │       │ ,9   │         │   40 │       │  -04-  │       │       │   313, │     57. │   12. │  -09-  │\n",
      "│      │       │ 76   │         │    4 │       │   18   │       │       │    759 │      00 │    00 │   12   │\n",
      "├──────┼───────┼──────┼─────────┼──────┼───────┼────────┼───────┼───────┼────────┼─────────┼───────┼────────┤\n",
      "│      │ qua   │ 3,   │ 152.801 │   4, │    35 │  2030  │ 1.744 │  0.15 │   918, │     5,0 │   5,5 │  2032  │\n",
      "│      │ nti   │ 43   │         │   04 │   5.7 │  -03-  │       │       │   216, │     53. │   93. │  -04-  │\n",
      "│      │ fy    │ 4    │         │    4 │   07M │   14   │       │       │    715 │      00 │    00 │   07   │\n",
      "├──────┼───────┼──────┼─────────┼──────┼───────┼────────┼───────┼───────┼────────┼─────────┼───────┼────────┤\n",
      "│      │       │ 5,   │      57 │   -7 │    32 │  2009  │   nan │   24, │   712, │     4,6 │   8,1 │  2008  │\n",
      "│      │       │ 86   │     4.5 │   ,1 │   2.0 │  -03-  │       │   939 │   856, │     47. │   82. │  -09-  │\n",
      "│      │       │ 3    │     58k │   43 │   87M │   19   │       │   .59 │    967 │      00 │    00 │   19   │\n",
      "┕━━━━━━┷━━━━━━━┷━━━━━━┷━━━━━━━━━┷━━━━━━┷━━━━━━━┷━━━━━━━━┷━━━━━━━┷━━━━━━━┷━━━━━━━━┷━━━━━━━━━┷━━━━━━━┷━━━━━━━━┙\n",
      "=*=*=*=*=*=*=*=*=*=*=*=*=*=*=*=*=*=*=*=*=*=*=*=*=*=*=*=*=*=*=*=*=*=*=*=*=*=*=*=*=*=*=*=*=*=*=*=*=*=*=*=*=*=*=*=*=*=*=*=*=*=*=*=*=*=*=*=*=*=*=*=*=*=*=*=*=*=*=*=*\n",
      "time: 297 ms (started: 2025-05-30 22:06:33 +01:00)\n"
     ]
    }
   ],
   "source": [
    "for k, v in ts.items():\n",
    "    # if k != 'multiindex': continue\n",
    "    cw_target = 80\n",
    "    input_target = cw_target - 4 * v.shape[1]\n",
    "    print(f'{cw_target = } and {input_target = }')\n",
    "    f = (GT(v.head(), show_index=True, max_table_width=80 - 4 * v.shape[1], debug=True))\n",
    "    analysis(f)\n",
    "    # break\n",
    "    print('=*'*80)"
   ]
  },
  {
   "cell_type": "code",
   "execution_count": null,
   "id": "e0e4b9ed-ddd6-4f33-b92d-1a5f3c9e8605",
   "metadata": {},
   "outputs": [],
   "source": []
  }
 ],
 "metadata": {
  "kernelspec": {
   "display_name": "Python 3 (ipykernel)",
   "language": "python",
   "name": "python3"
  },
  "language_info": {
   "codemirror_mode": {
    "name": "ipython",
    "version": 3
   },
   "file_extension": ".py",
   "mimetype": "text/x-python",
   "name": "python",
   "nbconvert_exporter": "python",
   "pygments_lexer": "ipython3",
   "version": "3.10.13"
  }
 },
 "nbformat": 4,
 "nbformat_minor": 5
}
