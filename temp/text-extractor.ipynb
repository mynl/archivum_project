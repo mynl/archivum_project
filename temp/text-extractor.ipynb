{
 "cells": [
  {
   "cell_type": "markdown",
   "id": "d8e27447-065d-4d32-b267-d54ba92b32fb",
   "metadata": {},
   "source": [
    "# Text Extractor from PDF Files\n",
    "## Provenance\n",
    "* Created new 2025-05-17 at Bignor!"
   ]
  },
  {
   "cell_type": "code",
   "execution_count": 7,
   "id": "290bb032-5acb-4793-9901-c9f5cf88078f",
   "metadata": {},
   "outputs": [
    {
     "name": "stdout",
     "output_type": "stream",
     "text": [
      "The autotime extension is already loaded. To reload it, use:\n",
      "  %reload_ext autotime\n",
      "time: 0 ns (started: 2025-05-28 14:29:45 +01:00)\n"
     ]
    }
   ],
   "source": [
    "from pathlib import Path \n",
    "import pandas as pd\n",
    "import re\n",
    "import numpy as np\n",
    "from functools import partial\n",
    "from pprint import pprint as pp\n",
    "from random import sample\n",
    "\n",
    "import fitz  # PyMuPDF\n",
    "import Levenshtein\n",
    "\n",
    "import archivum.mendeley_port as arcm\n",
    "import archivum.library as arcl\n",
    "import archivum.utilities as arcu\n",
    "import archivum.document as arcd\n",
    "import archivum.crossref as arcc\n",
    "import archivum.gui as arcg\n",
    "import archivum.reference as arcr\n",
    "from archivum.utilities import fGT\n",
    "\n",
    "%load_ext autotime"
   ]
  },
  {
   "cell_type": "code",
   "execution_count": 4,
   "id": "5f08fff1-8fb7-418b-8e4f-f23221499e00",
   "metadata": {},
   "outputs": [
    {
     "data": {
      "text/html": [
       "<div>\n",
       "<style scoped>\n",
       "    .dataframe tbody tr th:only-of-type {\n",
       "        vertical-align: middle;\n",
       "    }\n",
       "\n",
       "    .dataframe tbody tr th {\n",
       "        vertical-align: top;\n",
       "    }\n",
       "\n",
       "    .dataframe thead th {\n",
       "        text-align: right;\n",
       "    }\n",
       "</style>\n",
       "<table border=\"1\" class=\"dataframe\">\n",
       "  <thead>\n",
       "    <tr style=\"text-align: right;\">\n",
       "      <th></th>\n",
       "      <th>references</th>\n",
       "      <th>documents</th>\n",
       "    </tr>\n",
       "  </thead>\n",
       "  <tbody>\n",
       "    <tr>\n",
       "      <th>objects</th>\n",
       "      <td>6118</td>\n",
       "      <td>6132</td>\n",
       "    </tr>\n",
       "    <tr>\n",
       "      <th>no children</th>\n",
       "      <td>167</td>\n",
       "      <td>156</td>\n",
       "    </tr>\n",
       "    <tr>\n",
       "      <th>children</th>\n",
       "      <td>5951</td>\n",
       "      <td>5976</td>\n",
       "    </tr>\n",
       "    <tr>\n",
       "      <th>1 child</th>\n",
       "      <td>5833</td>\n",
       "      <td>5883</td>\n",
       "    </tr>\n",
       "    <tr>\n",
       "      <th>2 children</th>\n",
       "      <td>108</td>\n",
       "      <td>86</td>\n",
       "    </tr>\n",
       "    <tr>\n",
       "      <th>3 children</th>\n",
       "      <td>10</td>\n",
       "      <td>4</td>\n",
       "    </tr>\n",
       "    <tr>\n",
       "      <th>4+ children</th>\n",
       "      <td>0</td>\n",
       "      <td>3</td>\n",
       "    </tr>\n",
       "  </tbody>\n",
       "</table>\n",
       "</div>"
      ],
      "text/plain": [
       "             references  documents\n",
       "objects            6118       6132\n",
       "no children         167        156\n",
       "children           5951       5976\n",
       "1 child            5833       5883\n",
       "2 children          108         86\n",
       "3 children           10          4\n",
       "4+ children           0          3"
      ]
     },
     "execution_count": 4,
     "metadata": {},
     "output_type": "execute_result"
    },
    {
     "name": "stdout",
     "output_type": "stream",
     "text": [
      "time: 813 ms (started: 2025-05-28 14:28:57 +01:00)\n"
     ]
    }
   ],
   "source": [
    "lib = arcl.Library('uber-library')\n",
    "lib.stats()"
   ]
  },
  {
   "cell_type": "code",
   "execution_count": 124,
   "id": "d311c78e-6597-49c4-b729-2003d9274625",
   "metadata": {},
   "outputs": [
    {
     "data": {
      "text/html": [
       "<div class=\"greater-table\">\n",
       "<style>\n",
       "    #TRX7WAR27DZSP  {\n",
       "    border-collapse: collapse;\n",
       "    font-family: \"Roboto\", \"Open Sans Condensed\", \"Arial\", 'Segoe UI', sans-serif;\n",
       "    font-size: 0.9em;\n",
       "    width: auto;\n",
       "    \n",
       "    margin: 10px auto;\n",
       "    border: none;\n",
       "    overflow: auto;\n",
       "    margin-left: auto;\n",
       "    margin-right: auto;\n",
       "    }\n",
       "    \n",
       "    #TRX7WAR27DZSP caption {\n",
       "        padding: 4px 10px 2px 10px;\n",
       "        font-size: 1.1em;\n",
       "        text-align: center;\n",
       "        font-weight: normal;\n",
       "        caption-side: top;\n",
       "    }\n",
       "    #TRX7WAR27DZSP thead {\n",
       "        \n",
       "        border-top: 1px solid #000;\n",
       "        border-bottom: 1px solid #000;\n",
       "        font-size: 1.0em;\n",
       "        }\n",
       "    #TRX7WAR27DZSP tbody {\n",
       "        \n",
       "        border-bottom: 1px solid #000;\n",
       "        }\n",
       "    #TRX7WAR27DZSP th  {\n",
       "        vertical-align: bottom;\n",
       "        padding: 4px 10px 4px 10px;\n",
       "    }\n",
       "    #TRX7WAR27DZSP td {\n",
       "        \n",
       "        padding: 2px 10px 2px 10px;\n",
       "        vertical-align: top;\n",
       "    }\n",
       "    \n",
       "    #TRX7WAR27DZSP .grt-hrule-0 {\n",
       "        border-top: 0px solid #000;\n",
       "    }\n",
       "    #TRX7WAR27DZSP .grt-hrule-1 {\n",
       "        border-top: 0px solid #000;\n",
       "    }\n",
       "    #TRX7WAR27DZSP .grt-hrule-2 {\n",
       "        border-top: 0px solid #000;\n",
       "    }\n",
       "    \n",
       "    #TRX7WAR27DZSP .grt-bhrule-0 {\n",
       "        border-bottom: 0px solid #000;\n",
       "    }\n",
       "    #TRX7WAR27DZSP .grt-bhrule-1 {\n",
       "        border-bottom: 0px solid #000;\n",
       "    }\n",
       "    #TRX7WAR27DZSP .grt-vrule-index {\n",
       "        border-left: 1px solid #000;\n",
       "    }\n",
       "    #TRX7WAR27DZSP .grt-vrule-0 {\n",
       "        border-left: 0px solid #000;\n",
       "    }\n",
       "    #TRX7WAR27DZSP .grt-vrule-1 {\n",
       "        border-left: 0px solid #000;\n",
       "    }\n",
       "    #TRX7WAR27DZSP .grt-vrule-2 {\n",
       "        border-left: 0px solid #000;\n",
       "    }\n",
       "    #TRX7WAR27DZSP .grt-left {\n",
       "        text-align: left;\n",
       "    }\n",
       "    #TRX7WAR27DZSP .grt-center {\n",
       "        text-align: center;\n",
       "    }\n",
       "    #TRX7WAR27DZSP .grt-right {\n",
       "        text-align: right;\n",
       "        font-variant-numeric: tabular-nums;\n",
       "    }\n",
       "    #TRX7WAR27DZSP .grt-head {\n",
       "        font-family: \"Times New Roman\", 'Courier New';\n",
       "        font-size: 1.0em;\n",
       "    }\n",
       "    #TRX7WAR27DZSP .grt-bold {\n",
       "        font-weight: bold;\n",
       "    }\n",
       "\n",
       "    #TRX7WAR27DZSP .grt-c-0 { width: 8.799999999999999em; }\n",
       "    #TRX7WAR27DZSP .grt-c-1 { width: 5.199999999999999em; }\n",
       "    #TRX7WAR27DZSP .grt-c-2 { width: 3.4em; }\n",
       "    #TRX7WAR27DZSP .grt-c-3 { width: 37.599999999999994em; }\n",
       "    #TRX7WAR27DZSP .grt-c-4 { width: 65.8em; }\n",
       "</style>\n",
       "<table id=\"TRX7WAR27DZSP\">\n",
       "<caption>Query: top 10 recent title ~ /Risk Measure/, 250 rows returned, showing top 10.</caption>\n",
       "<colgroup>\n",
       "<col style=\"width: 5.279999999999999em;\"/>\n",
       "<col style=\"width: 3.1199999999999997em;\"/>\n",
       "<col style=\"width: 2.04em;\"/>\n",
       "<col style=\"width: 22.559999999999995em;\"/>\n",
       "<col style=\"width: 39.48em;\"/>\n",
       "</colgroup>\n",
       "<thead>\n",
       "<tr>\n",
       "<th class=\"grt-left\" colspan=\"1\">tag</th>\n",
       "<th class=\"grt-center grt-vrule-0\" colspan=\"1\">type</th>\n",
       "<th class=\"grt-center grt-vrule-0\" colspan=\"1\">year</th>\n",
       "<th class=\"grt-center grt-vrule-0\" colspan=\"1\">author</th>\n",
       "<th class=\"grt-center grt-vrule-0\" colspan=\"1\">title</th>\n",
       "</tr>\n",
       "</thead>\n",
       "<tbody>\n",
       "<tr>\n",
       "<td class=\"grt-c-0 grt-left\">Ghossoub2024b</td>\n",
       "<td class=\"grt-c-1 grt-left grt-vrule-0\">article</td>\n",
       "<td class=\"grt-c-2 grt-right grt-vrule-0\">2024</td>\n",
       "<td class=\"grt-c-3 grt-left grt-vrule-0\">Ghossoub, Mario and Zhu, Michael Boyuan and Chong, Wing Fung</td>\n",
       "<td class=\"grt-c-4 grt-left grt-vrule-0\">Pareto-Optimal Peer-to-Peer Risk Sharing with Robust Distortion Risk Measures</td>\n",
       "</tr>\n",
       "<tr>\n",
       "<td class=\"grt-c-0 grt-left\">Bernard2024</td>\n",
       "<td class=\"grt-c-1 grt-left grt-vrule-0\">article</td>\n",
       "<td class=\"grt-c-2 grt-right grt-vrule-0\">2024</td>\n",
       "<td class=\"grt-c-3 grt-left grt-vrule-0\">Bernard, Carole and Pesenti, Silvana M. and Vanduffel, Steven</td>\n",
       "<td class=\"grt-c-4 grt-left grt-vrule-0\">Robust distortion risk measures</td>\n",
       "</tr>\n",
       "<tr>\n",
       "<td class=\"grt-c-0 grt-left\">Ghossoub2024</td>\n",
       "<td class=\"grt-c-1 grt-left grt-vrule-0\">article</td>\n",
       "<td class=\"grt-c-2 grt-right grt-vrule-0\">2024</td>\n",
       "<td class=\"grt-c-3 grt-left grt-vrule-0\">Ghossoub, Mario and Ren, Qinghua and Wang, Ruodu</td>\n",
       "<td class=\"grt-c-4 grt-left grt-vrule-0\">Counter-monotonic risk allocations and distortion risk measures</td>\n",
       "</tr>\n",
       "<tr>\n",
       "<td class=\"grt-c-0 grt-left\">Ghossoub2024c</td>\n",
       "<td class=\"grt-c-1 grt-left grt-vrule-0\">article</td>\n",
       "<td class=\"grt-c-2 grt-right grt-vrule-0\">2024</td>\n",
       "<td class=\"grt-c-3 grt-left grt-vrule-0\">Ghossoub, Mario and Ren, Qinghua and Wang, Ruodu</td>\n",
       "<td class=\"grt-c-4 grt-left grt-vrule-0\">Counter-monotonic Risk Sharing with Heterogeneous Distortion Risk Measures</td>\n",
       "</tr>\n",
       "<tr>\n",
       "<td class=\"grt-c-0 grt-left\">Yong2024</td>\n",
       "<td class=\"grt-c-1 grt-left grt-vrule-0\">article</td>\n",
       "<td class=\"grt-c-2 grt-right grt-vrule-0\">2024</td>\n",
       "<td class=\"grt-c-3 grt-left grt-vrule-0\">Yong, Yaodi and Cheung, Ka Chun and Zhang, Yiying</td>\n",
       "<td class=\"grt-c-4 grt-left grt-vrule-0\">Optimal reinsurance design under distortion risk measures and reinsurer's default risk with partial recovery</td>\n",
       "</tr>\n",
       "<tr>\n",
       "<td class=\"grt-c-0 grt-left\">Shen2024a</td>\n",
       "<td class=\"grt-c-1 grt-left grt-vrule-0\">article</td>\n",
       "<td class=\"grt-c-2 grt-right grt-vrule-0\">2024</td>\n",
       "<td class=\"grt-c-3 grt-left grt-vrule-0\">Shen, Yi and {Van Oosten}, Zachary and Wang, Ruodu</td>\n",
       "<td class=\"grt-c-4 grt-left grt-vrule-0\">Partially Law-Invariant Risk Measures</td>\n",
       "</tr>\n",
       "<tr>\n",
       "<td class=\"grt-c-0 grt-left\">Shen2024</td>\n",
       "<td class=\"grt-c-1 grt-left grt-vrule-0\">article</td>\n",
       "<td class=\"grt-c-2 grt-right grt-vrule-0\">2024</td>\n",
       "<td class=\"grt-c-3 grt-left grt-vrule-0\">Shen, Yi and {Van Oosten}, Zachary and Wang, Ruodu</td>\n",
       "<td class=\"grt-c-4 grt-left grt-vrule-0\">Partially Law-Invariant Risk Measures</td>\n",
       "</tr>\n",
       "<tr>\n",
       "<td class=\"grt-c-0 grt-left\">Bielecki2024</td>\n",
       "<td class=\"grt-c-1 grt-left grt-vrule-0\">article</td>\n",
       "<td class=\"grt-c-2 grt-right grt-vrule-0\">2024</td>\n",
       "<td class=\"grt-c-3 grt-left grt-vrule-0\">Bielecki, Tomasz R. and Cialenco, Igor and Liu, Hao</td>\n",
       "<td class=\"grt-c-4 grt-left grt-vrule-0\">Time consistency of dynamic risk measures and dynamic performance measures generated by distortion functions</td>\n",
       "</tr>\n",
       "<tr>\n",
       "<td class=\"grt-c-0 grt-left\">Huang2024</td>\n",
       "<td class=\"grt-c-1 grt-left grt-vrule-0\">article</td>\n",
       "<td class=\"grt-c-2 grt-right grt-vrule-0\">2024</td>\n",
       "<td class=\"grt-c-3 grt-left grt-vrule-0\">Huang, Muqiao and Wang, Ruodu</td>\n",
       "<td class=\"grt-c-4 grt-left grt-vrule-0\">Coherent risk measures and uniform integrability</td>\n",
       "</tr>\n",
       "<tr>\n",
       "<td class=\"grt-c-0 grt-left\">Bernard2023</td>\n",
       "<td class=\"grt-c-1 grt-left grt-vrule-0\">article</td>\n",
       "<td class=\"grt-c-2 grt-right grt-vrule-0\">2023</td>\n",
       "<td class=\"grt-c-3 grt-left grt-vrule-0\">Bernard, Carole and Pesenti, Silvana M. and Vanduffel, Steven</td>\n",
       "<td class=\"grt-c-4 grt-left grt-vrule-0\">Robust distortion risk measures</td>\n",
       "</tr>\n",
       "</tbody>\n",
       "</table></div>"
      ],
      "text/latex": [
       "\n",
       "\\begin{tikzpicture}[\n",
       "    auto,\n",
       "    transform shape,\n",
       "    nosep/.style={inner sep=0},\n",
       "    table/.style={\n",
       "        matrix of nodes,\n",
       "        row sep=0.125em,\n",
       "        column sep=0.375em,\n",
       "        nodes in empty cells,\n",
       "        nodes={rectangle, scale=0.635, text badly ragged },\n",
       "\trow 1/.style={nodes={text=black, anchor=north, inner ysep=0, text height=0, text depth=0}},\n",
       "\trow 2/.style={nodes={text=black, anchor=south, inner ysep=.2em, minimum height=1.3em, font=\\bfseries}},\n",
       "\tcolumn  1/.style={nodes={align=left  }, text height=0.9em, text depth=0.2em, inner xsep=0.375em, inner ysep=0, text width=7.80em},\n",
       "\tcolumn  2/.style={nodes={align=left  }, nosep, text width=4.20em},\n",
       "\tcolumn  3/.style={nodes={align=right }, nosep, text width=2.40em},\n",
       "\tcolumn  4/.style={nodes={align=left  }, nosep, text width=36.60em},\n",
       "\tcolumn  5/.style={nodes={align=left  }, nosep, text width=64.80em},\n",
       "\tcolumn  6/.style={text height=0.9em, text depth=0.2em, nosep, text width=0em}\t}]\n",
       "\\matrix (TRX7WAR27DZSP) [table, ampersand replacement=\\&]{\n",
       "               \\&         \\&      \\&                                                               \\&                                                                                                              \\& \\\\\n",
       " tag\\grtspacer \\& type\\grtspacer \\& year\\grtspacer \\& author\\grtspacer                                              \\& title\\grtspacer                                                                                              \\& \\\\\n",
       " Ghossoub2024b \\& article \\& 2024 \\& Ghossoub, Mario and Zhu, Michael Boyuan and Chong, Wing Fung  \\& Pareto-Optimal Peer-to-Peer Risk Sharing with Robust Distortion Risk Measures                                \\& \\\\\n",
       " Bernard2024   \\& article \\& 2024 \\& Bernard, Carole and Pesenti, Silvana M. and Vanduffel, Steven \\& Robust distortion risk measures                                                                              \\& \\\\\n",
       " Ghossoub2024  \\& article \\& 2024 \\& Ghossoub, Mario and Ren, Qinghua and Wang, Ruodu              \\& Counter-monotonic risk allocations and distortion risk measures                                              \\& \\\\\n",
       " Ghossoub2024c \\& article \\& 2024 \\& Ghossoub, Mario and Ren, Qinghua and Wang, Ruodu              \\& Counter-monotonic Risk Sharing with Heterogeneous Distortion Risk Measures                                   \\& \\\\\n",
       " Yong2024      \\& article \\& 2024 \\& Yong, Yaodi and Cheung, Ka Chun and Zhang, Yiying             \\& Optimal reinsurance design under distortion risk measures and reinsurer's default risk with partial recovery \\& \\\\\n",
       " Shen2024a     \\& article \\& 2024 \\& Shen, Yi and {Van Oosten}, Zachary and Wang, Ruodu            \\& Partially Law-Invariant Risk Measures                                                                        \\& \\\\\n",
       " Shen2024      \\& article \\& 2024 \\& Shen, Yi and {Van Oosten}, Zachary and Wang, Ruodu            \\& Partially Law-Invariant Risk Measures                                                                        \\& \\\\\n",
       " Bielecki2024  \\& article \\& 2024 \\& Bielecki, Tomasz R. and Cialenco, Igor and Liu, Hao           \\& Time consistency of dynamic risk measures and dynamic performance measures generated by distortion functions \\& \\\\\n",
       " Huang2024     \\& article \\& 2024 \\& Huang, Muqiao and Wang, Ruodu                                 \\& Coherent risk measures and uniform integrability                                                             \\& \\\\\n",
       " Bernard2023   \\& article \\& 2023 \\& Bernard, Carole and Pesenti, Silvana M. and Vanduffel, Steven \\& Robust distortion risk measures                                                                              \\& \\\\\n",
       "};\n",
       "\n",
       "\\path[draw, thick] (TRX7WAR27DZSP-1-1.south west)  -- (TRX7WAR27DZSP-1-6.south east);\n",
       "\\path[draw, semithick] ([yshift=-0.0625em]TRX7WAR27DZSP-2-1.south west)  -- ([yshift=-0.0625em]TRX7WAR27DZSP-2-6.south east);\n",
       "\\path[draw, thick] ([yshift=-0.3125em]TRX7WAR27DZSP-12-1.base west)  -- ([yshift=-0.3125em]TRX7WAR27DZSP-12-6.base east);\n",
       "\n",
       "\n",
       "\n",
       "\\end{tikzpicture}\n"
      ],
      "text/plain": [
       "GreaterTable(df_id=TRX7WAR27DZSP)"
      ]
     },
     "execution_count": 124,
     "metadata": {},
     "output_type": "execute_result"
    },
    {
     "name": "stdout",
     "output_type": "stream",
     "text": [
      "time: 31 ms (started: 2025-05-28 15:32:45 +01:00)\n"
     ]
    }
   ],
   "source": [
    "fGT(lib.ref_df.querex('top 10 recent title ~ /Risk Measure/'))"
   ]
  },
  {
   "cell_type": "code",
   "execution_count": 5,
   "id": "3298f722-6f16-40ff-8157-ddb5dc1b60bc",
   "metadata": {},
   "outputs": [
    {
     "data": {
      "text/html": [
       "<div>\n",
       "<style scoped>\n",
       "    .dataframe tbody tr th:only-of-type {\n",
       "        vertical-align: middle;\n",
       "    }\n",
       "\n",
       "    .dataframe tbody tr th {\n",
       "        vertical-align: top;\n",
       "    }\n",
       "\n",
       "    .dataframe thead th {\n",
       "        text-align: right;\n",
       "    }\n",
       "</style>\n",
       "<table border=\"1\" class=\"dataframe\">\n",
       "  <thead>\n",
       "    <tr style=\"text-align: right;\">\n",
       "      <th></th>\n",
       "      <th>distinct</th>\n",
       "      <th>missing</th>\n",
       "    </tr>\n",
       "  </thead>\n",
       "  <tbody>\n",
       "    <tr>\n",
       "      <th>tag</th>\n",
       "      <td>6118</td>\n",
       "      <td>0</td>\n",
       "    </tr>\n",
       "    <tr>\n",
       "      <th>type</th>\n",
       "      <td>10</td>\n",
       "      <td>0</td>\n",
       "    </tr>\n",
       "    <tr>\n",
       "      <th>author</th>\n",
       "      <td>4662</td>\n",
       "      <td>5</td>\n",
       "    </tr>\n",
       "    <tr>\n",
       "      <th>doi</th>\n",
       "      <td>2539</td>\n",
       "      <td>3431</td>\n",
       "    </tr>\n",
       "    <tr>\n",
       "      <th>journal</th>\n",
       "      <td>1225</td>\n",
       "      <td>2643</td>\n",
       "    </tr>\n",
       "    <tr>\n",
       "      <th>pages</th>\n",
       "      <td>2749</td>\n",
       "      <td>2233</td>\n",
       "    </tr>\n",
       "    <tr>\n",
       "      <th>title</th>\n",
       "      <td>5902</td>\n",
       "      <td>0</td>\n",
       "    </tr>\n",
       "    <tr>\n",
       "      <th>volume</th>\n",
       "      <td>454</td>\n",
       "      <td>3143</td>\n",
       "    </tr>\n",
       "    <tr>\n",
       "      <th>year</th>\n",
       "      <td>100</td>\n",
       "      <td>256</td>\n",
       "    </tr>\n",
       "    <tr>\n",
       "      <th>publisher</th>\n",
       "      <td>169</td>\n",
       "      <td>5579</td>\n",
       "    </tr>\n",
       "    <tr>\n",
       "      <th>url</th>\n",
       "      <td>1387</td>\n",
       "      <td>4672</td>\n",
       "    </tr>\n",
       "    <tr>\n",
       "      <th>institution</th>\n",
       "      <td>108</td>\n",
       "      <td>5983</td>\n",
       "    </tr>\n",
       "    <tr>\n",
       "      <th>number</th>\n",
       "      <td>371</td>\n",
       "      <td>2934</td>\n",
       "    </tr>\n",
       "    <tr>\n",
       "      <th>mendeley-tags</th>\n",
       "      <td>187</td>\n",
       "      <td>4425</td>\n",
       "    </tr>\n",
       "    <tr>\n",
       "      <th>booktitle</th>\n",
       "      <td>241</td>\n",
       "      <td>5842</td>\n",
       "    </tr>\n",
       "    <tr>\n",
       "      <th>edition</th>\n",
       "      <td>13</td>\n",
       "      <td>6053</td>\n",
       "    </tr>\n",
       "    <tr>\n",
       "      <th>month</th>\n",
       "      <td>13</td>\n",
       "      <td>5939</td>\n",
       "    </tr>\n",
       "    <tr>\n",
       "      <th>address</th>\n",
       "      <td>39</td>\n",
       "      <td>6029</td>\n",
       "    </tr>\n",
       "    <tr>\n",
       "      <th>editor</th>\n",
       "      <td>14</td>\n",
       "      <td>6105</td>\n",
       "    </tr>\n",
       "    <tr>\n",
       "      <th>arc-citations</th>\n",
       "      <td>144</td>\n",
       "      <td>5915</td>\n",
       "    </tr>\n",
       "    <tr>\n",
       "      <th>arc-source</th>\n",
       "      <td>1</td>\n",
       "      <td>0</td>\n",
       "    </tr>\n",
       "  </tbody>\n",
       "</table>\n",
       "</div>"
      ],
      "text/plain": [
       "               distinct  missing\n",
       "tag                6118        0\n",
       "type                 10        0\n",
       "author             4662        5\n",
       "doi                2539     3431\n",
       "journal            1225     2643\n",
       "pages              2749     2233\n",
       "title              5902        0\n",
       "volume              454     3143\n",
       "year                100      256\n",
       "publisher           169     5579\n",
       "url                1387     4672\n",
       "institution         108     5983\n",
       "number              371     2934\n",
       "mendeley-tags       187     4425\n",
       "booktitle           241     5842\n",
       "edition              13     6053\n",
       "month                13     5939\n",
       "address              39     6029\n",
       "editor               14     6105\n",
       "arc-citations       144     5915\n",
       "arc-source            1        0"
      ]
     },
     "execution_count": 5,
     "metadata": {},
     "output_type": "execute_result"
    },
    {
     "name": "stdout",
     "output_type": "stream",
     "text": [
      "time: 47 ms (started: 2025-05-28 14:29:06 +01:00)\n"
     ]
    }
   ],
   "source": [
    "lib.stats_ref_fields()"
   ]
  },
  {
   "cell_type": "code",
   "execution_count": 186,
   "id": "96ed0b40-4091-4818-a54c-021b3b406786",
   "metadata": {},
   "outputs": [
    {
     "data": {
      "text/plain": [
       "[WindowsPath('/users/steve/downloads/1-s2.0-S016766872500037X-main.pdf'),\n",
       " WindowsPath('/users/steve/downloads/1-s2.0-S0167668725000599-main.pdf'),\n",
       " WindowsPath('/users/steve/downloads/1176996608.pdf'),\n",
       " WindowsPath('/users/steve/downloads/12-AAP857.pdf'),\n",
       " WindowsPath('/users/steve/downloads/2023-Dhaene-Robert-Cheung-Denuit.pdf'),\n",
       " WindowsPath('/users/steve/downloads/2305.17743v2.pdf'),\n",
       " WindowsPath('/users/steve/downloads/3_Obstfeld.pdf'),\n",
       " WindowsPath('/users/steve/downloads/9309211v2.pdf'),\n",
       " WindowsPath('/users/steve/downloads/CT 12 10738 - Legacy Filing Packet 08-14-2012 {AFM ap}.pdf'),\n",
       " WindowsPath('/users/steve/downloads/Explanatory Memorandum.pdf'),\n",
       " WindowsPath('/users/steve/downloads/Gaussian emergence - accompanying note.pdf'),\n",
       " WindowsPath('/users/steve/downloads/Gaussian emergence for stochastic reserve risk modelling.pdf'),\n",
       " WindowsPath('/users/steve/downloads/gross-zagier.pdf'),\n",
       " WindowsPath('/users/steve/downloads/NJ HO 2024 Filing.pdf'),\n",
       " WindowsPath('/users/steve/downloads/rpm_2010_handouts_rr3-appel.pdf'),\n",
       " WindowsPath('/users/steve/downloads/ssrn-2143344.pdf'),\n",
       " WindowsPath('/users/steve/downloads/ssrn-4424087.pdf'),\n",
       " WindowsPath('/users/steve/downloads/ssrn-955472.pdf'),\n",
       " WindowsPath('/users/steve/downloads/Tanner-Wong-1987.pdf'),\n",
       " WindowsPath('/users/steve/downloads/Units of Risk.pdf')]"
      ]
     },
     "execution_count": 186,
     "metadata": {},
     "output_type": "execute_result"
    },
    {
     "name": "stdout",
     "output_type": "stream",
     "text": [
      "time: 0 ns (started: 2025-05-28 10:18:09 +01:00)\n"
     ]
    }
   ],
   "source": [
    "ps2 = list(Path('\\\\users\\\\steve\\\\downloads').glob('*.pdf'))\n",
    "ps2"
   ]
  },
  {
   "cell_type": "code",
   "execution_count": null,
   "id": "60f6fb49-2a1e-4eb5-be1b-d86fdc48a9a8",
   "metadata": {},
   "outputs": [],
   "source": [
    "text_dir_name='\\\\temp\\\\pdf-full-text'\n",
    "extractor='pdftotext'\n",
    "pDocument = partial(arcd.Document, text_dir_path=Path(text_dir_name), extractor=extractor)\n",
    "ps = lib.doc_df.sample(200).path\n",
    "\n",
    "ans = []\n",
    "for p in ps:\n",
    "    p = Path(p)\n",
    "    d = pDocument(p)\n",
    "    a = d.meta_data(lib)\n",
    "    ans.append([p.name, a.author, a.author_ex, a.subject, a.title, a.raw])\n",
    "\n",
    "df = pd.DataFrame(ans, columns=['name', 'author', 'author_ex', 'subject', 'title', 'raw'])\n",
    "fGT(df)"
   ]
  },
  {
   "cell_type": "markdown",
   "id": "53e9ff9a-6e28-4306-b221-63cc73d708d4",
   "metadata": {},
   "source": [
    "# GUI"
   ]
  },
  {
   "cell_type": "code",
   "execution_count": 10,
   "id": "f4ec87f0-3114-4f91-8fe6-cad2f0664e26",
   "metadata": {},
   "outputs": [
    {
     "name": "stdout",
     "output_type": "stream",
     "text": [
      "time: 0 ns (started: 2025-05-27 23:20:03 +01:00)\n"
     ]
    }
   ],
   "source": [
    "def edit_book_info():\n",
    "    import tkinter as tk\n",
    "    from tkinter import messagebox\n",
    "\n",
    "    def on_done():\n",
    "        nonlocal result\n",
    "        result = {\n",
    "            \"Title\": title_var.get(),\n",
    "            \"Author\": author_var.get(),\n",
    "            \"Year\": year_var.get()\n",
    "        }\n",
    "        root.destroy()\n",
    "\n",
    "    def on_cancel():\n",
    "        root.destroy()\n",
    "\n",
    "    result = None\n",
    "    root = tk.Tk()\n",
    "    root.title(\"Edit Book\")\n",
    "\n",
    "    tk.Label(root, text=\"Title\").grid(row=0, column=0, sticky=\"e\")\n",
    "    tk.Label(root, text=\"Author\").grid(row=1, column=0, sticky=\"e\")\n",
    "    tk.Label(root, text=\"Year\").grid(row=2, column=0, sticky=\"e\")\n",
    "\n",
    "    title_var = tk.StringVar(value=\"The Great Gatsby\")\n",
    "    author_var = tk.StringVar(value=\"F. Scott Fitzgerald\")\n",
    "    year_var = tk.StringVar(value=\"1925\")\n",
    "\n",
    "    tk.Entry(root, textvariable=title_var).grid(row=0, column=1)\n",
    "    tk.Entry(root, textvariable=author_var).grid(row=1, column=1)\n",
    "    tk.Entry(root, textvariable=year_var).grid(row=2, column=1)\n",
    "\n",
    "    tk.Button(root, text=\"Cancel\", command=on_cancel).grid(row=3, column=0, pady=10)\n",
    "    tk.Button(root, text=\"Done\", command=on_done).grid(row=3, column=1, pady=10)\n",
    "\n",
    "    root.mainloop()\n",
    "    return result\n"
   ]
  },
  {
   "cell_type": "code",
   "execution_count": 12,
   "id": "d21b5ca3-1ac6-42c4-b469-0e4dc250d5fd",
   "metadata": {},
   "outputs": [
    {
     "name": "stdout",
     "output_type": "stream",
     "text": [
      "time: 16 ms (started: 2025-05-27 23:23:06 +01:00)\n"
     ]
    }
   ],
   "source": [
    "import tkinter as tk\n",
    "\n",
    "def edit_fields(data, mandatory=(), title=\"Edit Info\"):\n",
    "    result = None\n",
    "    fields = dict(data)\n",
    "    for key in mandatory:\n",
    "        fields.setdefault(key, \"\")\n",
    "\n",
    "    def on_done():\n",
    "        nonlocal result\n",
    "        result = {k: vars_[k].get() for k in fields}\n",
    "        root.destroy()\n",
    "\n",
    "    def on_cancel():\n",
    "        root.destroy()\n",
    "\n",
    "    root = tk.Tk()\n",
    "    root.title(title)\n",
    "\n",
    "    vars_ = {}\n",
    "    for row, (key, value) in enumerate(fields.items()):\n",
    "        tk.Label(root, text=key).grid(row=row, column=0, sticky=\"e\", padx=5, pady=2)\n",
    "        var = tk.StringVar(value=value)\n",
    "        vars_[key] = var\n",
    "        tk.Entry(root, textvariable=var).grid(row=row, column=1, padx=5, pady=2)\n",
    "\n",
    "    row += 1\n",
    "    tk.Button(root, text=\"Cancel\", width=10, command=on_cancel).grid(row=row, column=0, pady=10)\n",
    "    tk.Button(root, text=\"Done\", width=10, command=on_done).grid(row=row, column=1, pady=10)\n",
    "\n",
    "    root.mainloop()\n",
    "    return result\n"
   ]
  },
  {
   "cell_type": "code",
   "execution_count": 13,
   "id": "153dd0aa-3d15-49a7-8c26-96bde32a74d2",
   "metadata": {},
   "outputs": [
    {
     "name": "stdout",
     "output_type": "stream",
     "text": [
      "time: 0 ns (started: 2025-05-27 23:23:51 +01:00)\n"
     ]
    }
   ],
   "source": [
    "bi = {'title': \"Once upon a time in America\", \n",
    "     'author': 'LeLilo, Don.', \n",
    "     'year': 2008}\n",
    "mand = ['title', 'publisher']"
   ]
  },
  {
   "cell_type": "code",
   "execution_count": 14,
   "id": "03ccfa66-9e09-45d6-bd56-3935f706509b",
   "metadata": {},
   "outputs": [
    {
     "data": {
      "text/plain": [
       "{'title': 'Once upon a time in America',\n",
       " 'author': 'LeLilo, Don.',\n",
       " 'year': '2008',\n",
       " 'publisher': ''}"
      ]
     },
     "execution_count": 14,
     "metadata": {},
     "output_type": "execute_result"
    },
    {
     "name": "stdout",
     "output_type": "stream",
     "text": [
      "time: 13.8 s (started: 2025-05-27 23:24:01 +01:00)\n"
     ]
    }
   ],
   "source": [
    "edit_fields(bi, mand)"
   ]
  },
  {
   "cell_type": "code",
   "execution_count": 11,
   "id": "bd3336c9-df1b-4657-a16c-d591583221fa",
   "metadata": {},
   "outputs": [
    {
     "data": {
      "text/plain": [
       "{'Title': 'The Great Gatsby', 'Author': 'F. Scott Fitzgerald', 'Year': '1925'}"
      ]
     },
     "execution_count": 11,
     "metadata": {},
     "output_type": "execute_result"
    },
    {
     "name": "stdout",
     "output_type": "stream",
     "text": [
      "time: 20.4 s (started: 2025-05-27 23:20:11 +01:00)\n"
     ]
    }
   ],
   "source": [
    "edit_book_info()"
   ]
  },
  {
   "cell_type": "code",
   "execution_count": 48,
   "id": "5db55708-b8f0-4c3d-812a-9f5cc01766c5",
   "metadata": {},
   "outputs": [
    {
     "name": "stdout",
     "output_type": "stream",
     "text": [
      "time: 0 ns (started: 2025-05-27 23:39:52 +01:00)\n"
     ]
    }
   ],
   "source": [
    "import tkinter as tk\n",
    "from tkinter import ttk\n",
    "\n",
    "def edit_fields(data, mandatory=(), title=\"Edit Info\", known_values=None):\n",
    "    result = None\n",
    "    fields = dict(data)\n",
    "    for key in mandatory:\n",
    "        fields.setdefault(key, \"\")\n",
    "\n",
    "    known_values = known_values or {}\n",
    "    vars_ = {}\n",
    "\n",
    "    def on_done():\n",
    "        nonlocal result\n",
    "        result = {k: vars_[k].get() for k in fields}\n",
    "        root.destroy()\n",
    "\n",
    "    def on_cancel():\n",
    "        root.destroy()\n",
    "\n",
    "    def setup_combobox(box, values):\n",
    "        def on_key(event):\n",
    "            val = box.get().lower()\n",
    "            matches = [v for v in values if val in v.lower()]\n",
    "            if matches:\n",
    "                box['values'] = matches\n",
    "            else:\n",
    "                box['values'] = values\n",
    "        box.bind('<KeyRelease>', on_key)\n",
    "        \n",
    "    root = tk.Tk()\n",
    "    root.title(title)\n",
    "    root.geometry(\"700x400\")  # wider window\n",
    "\n",
    "    for row, (key, value) in enumerate(fields.items()):\n",
    "        tk.Label(root, text=key).grid(row=row, column=0, sticky=\"e\", padx=5, pady=4)\n",
    "        var = tk.StringVar(value=value)\n",
    "        vars_[key] = var\n",
    "\n",
    "        if key in known_values:\n",
    "            box = ttk.Combobox(root, textvariable=var, values=known_values[key])\n",
    "            box.config(width=80)\n",
    "            box.grid(row=row, column=1, padx=5, pady=4)\n",
    "            setup_combobox(box, known_values[key])\n",
    "        else:\n",
    "            tk.Entry(root, textvariable=var, width=80).grid(row=row, column=1, padx=5, pady=4)\n",
    "\n",
    "    row += 1\n",
    "    btn_frame = tk.Frame(root)\n",
    "    btn_frame.grid(row=row, column=0, columnspan=2, pady=20)\n",
    "    tk.Button(btn_frame, text=\"Cancel\", width=12, command=on_cancel).pack(side=\"left\", padx=10)\n",
    "    tk.Button(btn_frame, text=\"Done\", width=12, command=on_done).pack(side=\"right\", padx=10)\n",
    "\n",
    "    root.mainloop()\n",
    "    return result\n"
   ]
  },
  {
   "cell_type": "code",
   "execution_count": 71,
   "id": "5d95a1dc-ade8-4d97-a04f-37ad404dc2b2",
   "metadata": {},
   "outputs": [
    {
     "name": "stdout",
     "output_type": "stream",
     "text": [
      "time: 0 ns (started: 2025-05-27 23:54:36 +01:00)\n"
     ]
    }
   ],
   "source": [
    "import tkinter as tk\n",
    "from tkinter import ttk\n",
    "from rapidfuzz import process\n",
    "\n",
    "def edit_fields(data, mandatory=(), title=\"Edit Info\", known_values=None):\n",
    "    result = None\n",
    "    fields = dict(data)\n",
    "    for key in mandatory:\n",
    "        fields.setdefault(key, \"\")\n",
    "    \n",
    "    FONT = (\"Segoe UI\", 10)\n",
    "\n",
    "    known_values = known_values or {}\n",
    "    vars_ = {}\n",
    "\n",
    "    def on_done():\n",
    "        nonlocal result\n",
    "        result = {k: vars_[k].get() for k in fields}\n",
    "        root.destroy()\n",
    "\n",
    "    def on_cancel():\n",
    "        root.destroy()\n",
    "\n",
    "    def on_next():\n",
    "\n",
    "    def on_previous()\n",
    "    \n",
    "    def setup_fuzzy_combobox(box, values):\n",
    "        def on_key(event):\n",
    "            current = box.get()\n",
    "            if current:\n",
    "                match, score, _ = process.extractOne(current, values, score_cutoff=40)\n",
    "                if match:\n",
    "                    box.set(match)\n",
    "        box.bind('<FocusOut>', on_key)\n",
    "        box.bind('<Tab>', on_key)\n",
    "\n",
    "    root = tk.Tk()\n",
    "    root.title(title)\n",
    "    root.geometry(\"800x500\")\n",
    "\n",
    "    for row, (key, value) in enumerate(fields.items()):\n",
    "        tk.Label(root, text=key).grid(row=row, column=0, sticky=\"e\", padx=5, pady=4)\n",
    "        var = tk.StringVar(value=value)\n",
    "        vars_[key] = var\n",
    "\n",
    "        if key in known_values:\n",
    "            box = ttk.Combobox(root, textvariable=var, values=known_values[key], width=80, font=FONT)\n",
    "            box.grid(row=row, column=1, padx=5, pady=4)\n",
    "            setup_fuzzy_combobox(box, known_values[key])\n",
    "        else:\n",
    "            tk.Entry(root, textvariable=var, width=82, font=FONT).grid(row=row, column=1, padx=5, pady=4)\n",
    "\n",
    "    row += 1\n",
    "    btn_frame = tk.Frame(root)\n",
    "    btn_frame.grid(row=row, column=0, columnspan=2, pady=20)\n",
    "    tk.Button(btn_frame, text=\"Cancel\", width=12, command=on_cancel).pack(side=\"left\", padx=10)\n",
    "    tk.Button(btn_frame, text=\"Done\", width=12, command=on_done).pack(side=\"right\", padx=10)\n",
    "    tk.Button(btn_frame, text=\"Previous\", width=12, command=on_previous).pack(side=\"right\", padx=10)\n",
    "    tk.Button(btn_frame, text=\"Next\", width=12, command=on_next).pack(side=\"right\", padx=10)\n",
    "\n",
    "    root.mainloop()\n",
    "    return result\n"
   ]
  },
  {
   "cell_type": "code",
   "execution_count": 76,
   "id": "047581d0-fe33-4954-aefa-eb79a636d5ea",
   "metadata": {},
   "outputs": [
    {
     "name": "stdout",
     "output_type": "stream",
     "text": [
      "time: 0 ns (started: 2025-05-28 00:02:34 +01:00)\n"
     ]
    }
   ],
   "source": [
    "import tkinter as tk\n",
    "from tkinter import ttk\n",
    "from rapidfuzz import process\n",
    "import pandas as pd\n",
    "\n",
    "def edit_fields_from_df(df, i, mandatory=(), title=\"Edit Row\", known_values=None):\n",
    "    result = None\n",
    "    rowcount = len(df)\n",
    "    fields = df.iloc[i].to_dict()\n",
    "    for key in mandatory:\n",
    "        fields.setdefault(key, \"\")\n",
    "\n",
    "    known_values = known_values or {}\n",
    "    vars_ = {}\n",
    "\n",
    "    def load_row(idx):\n",
    "        for k in fields:\n",
    "            val = str(df.iloc[idx].get(k, \"\"))\n",
    "            vars_[k].set(val)\n",
    "\n",
    "    def save_row():\n",
    "        return {k: vars_[k].get() for k in fields}\n",
    "\n",
    "    def on_done():\n",
    "        nonlocal result\n",
    "        result = (save_row(), current[0])\n",
    "        root.destroy()\n",
    "\n",
    "    def on_cancel():\n",
    "        root.destroy()\n",
    "\n",
    "    def on_prev():\n",
    "        if current[0] > 0:\n",
    "            current[0] -= 1\n",
    "            load_row(current[0])\n",
    "\n",
    "    def on_next():\n",
    "        if current[0] < rowcount - 1:\n",
    "            current[0] += 1\n",
    "            load_row(current[0])\n",
    "\n",
    "    def setup_fuzzy_combobox(box, values):\n",
    "        def on_key(event):\n",
    "            current = box.get()\n",
    "            if current:\n",
    "                match, score, _ = process.extractOne(current, values, score_cutoff=70)\n",
    "                if match and match != current:\n",
    "                    box.set(match)\n",
    "                    box.icursor(tk.END)\n",
    "        box.bind('<KeyRelease>', on_key)\n",
    "\n",
    "    current = [i]  # mutable index holder\n",
    "    root = tk.Tk()\n",
    "    root.title(title)\n",
    "    root.geometry(\"800x500\")\n",
    "\n",
    "    for row, key in enumerate(fields):\n",
    "        tk.Label(root, text=key).grid(row=row, column=0, sticky=\"e\", padx=5, pady=4)\n",
    "        var = tk.StringVar()\n",
    "        vars_[key] = var\n",
    "\n",
    "        if key in known_values:\n",
    "            box = ttk.Combobox(root, textvariable=var, values=known_values[key], width=80)\n",
    "            box.grid(row=row, column=1, padx=5, pady=4)\n",
    "            setup_fuzzy_combobox(box, known_values[key])\n",
    "        else:\n",
    "            tk.Entry(root, textvariable=var, width=80).grid(row=row, column=1, padx=5, pady=4)\n",
    "\n",
    "    load_row(i)\n",
    "\n",
    "    row += 1\n",
    "    btn_frame = tk.Frame(root)\n",
    "    btn_frame.grid(row=row, column=0, columnspan=2, pady=20)\n",
    "    tk.Button(btn_frame, text=\"Previous\", width=12, command=on_prev).pack(side=\"left\", padx=5)\n",
    "    tk.Button(btn_frame, text=\"Next\", width=12, command=on_next).pack(side=\"left\", padx=5)\n",
    "    tk.Button(btn_frame, text=\"Cancel\", width=12, command=on_cancel).pack(side=\"left\", padx=20)\n",
    "    tk.Button(btn_frame, text=\"Done\", width=12, command=on_done).pack(side=\"left\", padx=5)\n",
    "\n",
    "    root.mainloop()\n",
    "    return result\n"
   ]
  },
  {
   "cell_type": "code",
   "execution_count": 80,
   "id": "499838fe-a16b-429b-8bb5-d2c55becc416",
   "metadata": {},
   "outputs": [
    {
     "name": "stdout",
     "output_type": "stream",
     "text": [
      "time: 32 ms (started: 2025-05-28 00:04:24 +01:00)\n"
     ]
    }
   ],
   "source": [
    "mandatory = ['type', 'author', 'title', 'year', 'journal', 'publisher']\n",
    "defaults = {\n",
    "    k: lib.distinct(k) for k in mandatory\n",
    "}"
   ]
  },
  {
   "cell_type": "code",
   "execution_count": 81,
   "id": "7ba386a0-e1ec-4652-8f25-c5a416397f78",
   "metadata": {},
   "outputs": [
    {
     "name": "stdout",
     "output_type": "stream",
     "text": [
      "time: 58.5 s (started: 2025-05-28 00:04:29 +01:00)\n"
     ]
    }
   ],
   "source": [
    "# def edit_fields_from_df(df, i, mandatory=(), title=\"Edit Row\", known_values=None):\n",
    "updated = edit_fields_from_df(lib.ref_df.sample(20).reset_index(drop=True)[mandatory], 0, mandatory, title=\"Edit Book Info\", known_values=defaults)\n",
    "updated"
   ]
  },
  {
   "cell_type": "code",
   "execution_count": null,
   "id": "f741c1bf-e6a4-4e68-9dc2-9f8a61911b2e",
   "metadata": {},
   "outputs": [],
   "source": []
  },
  {
   "cell_type": "code",
   "execution_count": 79,
   "id": "81ac776e-0354-4400-893a-acf56baf664a",
   "metadata": {},
   "outputs": [
    {
     "data": {
      "text/html": [
       "<div>\n",
       "<style scoped>\n",
       "    .dataframe tbody tr th:only-of-type {\n",
       "        vertical-align: middle;\n",
       "    }\n",
       "\n",
       "    .dataframe tbody tr th {\n",
       "        vertical-align: top;\n",
       "    }\n",
       "\n",
       "    .dataframe thead th {\n",
       "        text-align: right;\n",
       "    }\n",
       "</style>\n",
       "<table border=\"1\" class=\"dataframe\">\n",
       "  <thead>\n",
       "    <tr style=\"text-align: right;\">\n",
       "      <th></th>\n",
       "      <th>0</th>\n",
       "      <th>1</th>\n",
       "      <th>2</th>\n",
       "      <th>3</th>\n",
       "      <th>4</th>\n",
       "    </tr>\n",
       "  </thead>\n",
       "  <tbody>\n",
       "    <tr>\n",
       "      <th>tag</th>\n",
       "      <td>Peng2019</td>\n",
       "      <td>Cummins2009a</td>\n",
       "      <td>Ali2017</td>\n",
       "      <td>Keich2005</td>\n",
       "      <td>Ridley1976</td>\n",
       "    </tr>\n",
       "    <tr>\n",
       "      <th>type</th>\n",
       "      <td>article</td>\n",
       "      <td>article</td>\n",
       "      <td>article</td>\n",
       "      <td>article</td>\n",
       "      <td>book</td>\n",
       "    </tr>\n",
       "    <tr>\n",
       "      <th>author</th>\n",
       "      <td>Peng, Shige</td>\n",
       "      <td>Cummins, J. David and Weiss, Mary A. and Zi, Hongmin</td>\n",
       "      <td>Ali, Muneeb and Shea, Ryan and Nelson, Jude and Freedman, Michael J.</td>\n",
       "      <td>Keich, Uri</td>\n",
       "      <td>Ridley, B. K.</td>\n",
       "    </tr>\n",
       "    <tr>\n",
       "      <th>doi</th>\n",
       "      <td>10.1186/s41546-019-0038-2</td>\n",
       "      <td>10.1287/mnsc.45.9.1254</td>\n",
       "      <td></td>\n",
       "      <td></td>\n",
       "      <td>10.1119/1.11114</td>\n",
       "    </tr>\n",
       "    <tr>\n",
       "      <th>journal</th>\n",
       "      <td>Probability, Uncertainty and Quantitative Risk</td>\n",
       "      <td>Management Science</td>\n",
       "      <td></td>\n",
       "      <td>Journal of Computational Biology</td>\n",
       "      <td></td>\n",
       "    </tr>\n",
       "    <tr>\n",
       "      <th>pages</th>\n",
       "      <td>1--8</td>\n",
       "      <td>1254--1269</td>\n",
       "      <td></td>\n",
       "      <td>416--430</td>\n",
       "      <td></td>\n",
       "    </tr>\n",
       "    <tr>\n",
       "      <th>title</th>\n",
       "      <td>{Law of large numbers and central limit theorem under nonlinear expectations}</td>\n",
       "      <td>{Organizational Form and Efficiency: The Coexistence of Stock and Mutual Property-Liability Insu...</td>\n",
       "      <td>{Blockstack: A New Internet for Decentralized Applications}</td>\n",
       "      <td>{sFFT: A Faster Accurate Computation of the p-Value of the Entropy Score}</td>\n",
       "      <td>{Time, Space and Things}</td>\n",
       "    </tr>\n",
       "    <tr>\n",
       "      <th>volume</th>\n",
       "      <td>4</td>\n",
       "      <td>45</td>\n",
       "      <td></td>\n",
       "      <td>12</td>\n",
       "      <td></td>\n",
       "    </tr>\n",
       "    <tr>\n",
       "      <th>year</th>\n",
       "      <td>2019</td>\n",
       "      <td>2009</td>\n",
       "      <td>2017</td>\n",
       "      <td>2005</td>\n",
       "      <td>1976</td>\n",
       "    </tr>\n",
       "    <tr>\n",
       "      <th>publisher</th>\n",
       "      <td></td>\n",
       "      <td></td>\n",
       "      <td></td>\n",
       "      <td></td>\n",
       "      <td>Penguin Books Ltd.</td>\n",
       "    </tr>\n",
       "    <tr>\n",
       "      <th>url</th>\n",
       "      <td></td>\n",
       "      <td></td>\n",
       "      <td>https://blockstack.org/whitepaper.pdf</td>\n",
       "      <td></td>\n",
       "      <td></td>\n",
       "    </tr>\n",
       "    <tr>\n",
       "      <th>institution</th>\n",
       "      <td></td>\n",
       "      <td></td>\n",
       "      <td></td>\n",
       "      <td></td>\n",
       "      <td></td>\n",
       "    </tr>\n",
       "    <tr>\n",
       "      <th>number</th>\n",
       "      <td>1</td>\n",
       "      <td>9</td>\n",
       "      <td></td>\n",
       "      <td>4</td>\n",
       "      <td></td>\n",
       "    </tr>\n",
       "    <tr>\n",
       "      <th>mendeley-tags</th>\n",
       "      <td></td>\n",
       "      <td>Cummins</td>\n",
       "      <td></td>\n",
       "      <td>FFT</td>\n",
       "      <td>Book</td>\n",
       "    </tr>\n",
       "    <tr>\n",
       "      <th>booktitle</th>\n",
       "      <td></td>\n",
       "      <td></td>\n",
       "      <td></td>\n",
       "      <td></td>\n",
       "      <td></td>\n",
       "    </tr>\n",
       "    <tr>\n",
       "      <th>edition</th>\n",
       "      <td></td>\n",
       "      <td></td>\n",
       "      <td></td>\n",
       "      <td></td>\n",
       "      <td></td>\n",
       "    </tr>\n",
       "    <tr>\n",
       "      <th>month</th>\n",
       "      <td></td>\n",
       "      <td></td>\n",
       "      <td></td>\n",
       "      <td></td>\n",
       "      <td></td>\n",
       "    </tr>\n",
       "    <tr>\n",
       "      <th>address</th>\n",
       "      <td></td>\n",
       "      <td></td>\n",
       "      <td></td>\n",
       "      <td></td>\n",
       "      <td></td>\n",
       "    </tr>\n",
       "    <tr>\n",
       "      <th>editor</th>\n",
       "      <td></td>\n",
       "      <td></td>\n",
       "      <td></td>\n",
       "      <td></td>\n",
       "      <td></td>\n",
       "    </tr>\n",
       "    <tr>\n",
       "      <th>arc-citations</th>\n",
       "      <td>0</td>\n",
       "      <td>0</td>\n",
       "      <td>0</td>\n",
       "      <td>0</td>\n",
       "      <td>0</td>\n",
       "    </tr>\n",
       "    <tr>\n",
       "      <th>arc-source</th>\n",
       "      <td>mendeley</td>\n",
       "      <td>mendeley</td>\n",
       "      <td>mendeley</td>\n",
       "      <td>mendeley</td>\n",
       "      <td>mendeley</td>\n",
       "    </tr>\n",
       "  </tbody>\n",
       "</table>\n",
       "</div>"
      ],
      "text/plain": [
       "                                                                                           0  \\\n",
       "tag                                                                                 Peng2019   \n",
       "type                                                                                 article   \n",
       "author                                                                           Peng, Shige   \n",
       "doi                                                                10.1186/s41546-019-0038-2   \n",
       "journal                                       Probability, Uncertainty and Quantitative Risk   \n",
       "pages                                                                                   1--8   \n",
       "title          {Law of large numbers and central limit theorem under nonlinear expectations}   \n",
       "volume                                                                                     4   \n",
       "year                                                                                    2019   \n",
       "publisher                                                                                      \n",
       "url                                                                                            \n",
       "institution                                                                                    \n",
       "number                                                                                     1   \n",
       "mendeley-tags                                                                                  \n",
       "booktitle                                                                                      \n",
       "edition                                                                                        \n",
       "month                                                                                          \n",
       "address                                                                                        \n",
       "editor                                                                                         \n",
       "arc-citations                                                                              0   \n",
       "arc-source                                                                          mendeley   \n",
       "\n",
       "                                                                                                                 1  \\\n",
       "tag                                                                                                   Cummins2009a   \n",
       "type                                                                                                       article   \n",
       "author                                                        Cummins, J. David and Weiss, Mary A. and Zi, Hongmin   \n",
       "doi                                                                                         10.1287/mnsc.45.9.1254   \n",
       "journal                                                                                         Management Science   \n",
       "pages                                                                                                   1254--1269   \n",
       "title          {Organizational Form and Efficiency: The Coexistence of Stock and Mutual Property-Liability Insu...   \n",
       "volume                                                                                                          45   \n",
       "year                                                                                                          2009   \n",
       "publisher                                                                                                            \n",
       "url                                                                                                                  \n",
       "institution                                                                                                          \n",
       "number                                                                                                           9   \n",
       "mendeley-tags                                                                                              Cummins   \n",
       "booktitle                                                                                                            \n",
       "edition                                                                                                              \n",
       "month                                                                                                                \n",
       "address                                                                                                              \n",
       "editor                                                                                                               \n",
       "arc-citations                                                                                                    0   \n",
       "arc-source                                                                                                mendeley   \n",
       "\n",
       "                                                                                  2  \\\n",
       "tag                                                                         Ali2017   \n",
       "type                                                                        article   \n",
       "author         Ali, Muneeb and Shea, Ryan and Nelson, Jude and Freedman, Michael J.   \n",
       "doi                                                                                   \n",
       "journal                                                                               \n",
       "pages                                                                                 \n",
       "title                   {Blockstack: A New Internet for Decentralized Applications}   \n",
       "volume                                                                                \n",
       "year                                                                           2017   \n",
       "publisher                                                                             \n",
       "url                                           https://blockstack.org/whitepaper.pdf   \n",
       "institution                                                                           \n",
       "number                                                                                \n",
       "mendeley-tags                                                                         \n",
       "booktitle                                                                             \n",
       "edition                                                                               \n",
       "month                                                                                 \n",
       "address                                                                               \n",
       "editor                                                                                \n",
       "arc-citations                                                                     0   \n",
       "arc-source                                                                 mendeley   \n",
       "\n",
       "                                                                                       3  \\\n",
       "tag                                                                            Keich2005   \n",
       "type                                                                             article   \n",
       "author                                                                        Keich, Uri   \n",
       "doi                                                                                        \n",
       "journal                                                 Journal of Computational Biology   \n",
       "pages                                                                           416--430   \n",
       "title          {sFFT: A Faster Accurate Computation of the p-Value of the Entropy Score}   \n",
       "volume                                                                                12   \n",
       "year                                                                                2005   \n",
       "publisher                                                                                  \n",
       "url                                                                                        \n",
       "institution                                                                                \n",
       "number                                                                                 4   \n",
       "mendeley-tags                                                                        FFT   \n",
       "booktitle                                                                                  \n",
       "edition                                                                                    \n",
       "month                                                                                      \n",
       "address                                                                                    \n",
       "editor                                                                                     \n",
       "arc-citations                                                                          0   \n",
       "arc-source                                                                      mendeley   \n",
       "\n",
       "                                      4  \n",
       "tag                          Ridley1976  \n",
       "type                               book  \n",
       "author                    Ridley, B. K.  \n",
       "doi                     10.1119/1.11114  \n",
       "journal                                  \n",
       "pages                                    \n",
       "title          {Time, Space and Things}  \n",
       "volume                                   \n",
       "year                               1976  \n",
       "publisher            Penguin Books Ltd.  \n",
       "url                                      \n",
       "institution                              \n",
       "number                                   \n",
       "mendeley-tags                      Book  \n",
       "booktitle                                \n",
       "edition                                  \n",
       "month                                    \n",
       "address                                  \n",
       "editor                                   \n",
       "arc-citations                         0  \n",
       "arc-source                     mendeley  "
      ]
     },
     "execution_count": 79,
     "metadata": {},
     "output_type": "execute_result"
    },
    {
     "name": "stdout",
     "output_type": "stream",
     "text": [
      "time: 0 ns (started: 2025-05-28 00:04:09 +01:00)\n"
     ]
    }
   ],
   "source": [
    "lib.ref_df.sample(20).reset_index(drop=True).head().T#[mandatory]"
   ]
  },
  {
   "cell_type": "code",
   "execution_count": 72,
   "id": "7afb7827-d7d0-4835-bcef-d05555c3d544",
   "metadata": {},
   "outputs": [
    {
     "name": "stdout",
     "output_type": "stream",
     "text": [
      "time: 4.7 s (started: 2025-05-27 23:54:36 +01:00)\n"
     ]
    }
   ],
   "source": [
    "i = i + 1\n",
    "data = {k:v for k, v in lib.ref_df.loc[i].items() if v != ''}\n",
    "updated = edit_fields(data, mandatory, title=\"Edit Book Info\", known_values=defaults)\n",
    "updated"
   ]
  },
  {
   "cell_type": "code",
   "execution_count": 19,
   "id": "0ab7ca4a-072a-4394-86c0-514dfa907170",
   "metadata": {},
   "outputs": [
    {
     "name": "stdout",
     "output_type": "stream",
     "text": [
      "time: 31 ms (started: 2025-05-27 23:29:58 +01:00)\n"
     ]
    }
   ],
   "source": [
    "lib = arcl.Library('uber-library')"
   ]
  },
  {
   "cell_type": "code",
   "execution_count": 63,
   "id": "78c7c879-1828-4a1a-817e-4086d5efe188",
   "metadata": {},
   "outputs": [
    {
     "name": "stdout",
     "output_type": "stream",
     "text": [
      "time: 0 ns (started: 2025-05-27 23:49:21 +01:00)\n"
     ]
    }
   ],
   "source": [
    "i = 202"
   ]
  },
  {
   "cell_type": "code",
   "execution_count": 37,
   "id": "8e5d1549-6fa3-4569-bb67-7b69fc0b081a",
   "metadata": {},
   "outputs": [
    {
     "name": "stdout",
     "output_type": "stream",
     "text": [
      "time: 0 ns (started: 2025-05-27 23:34:26 +01:00)\n"
     ]
    }
   ],
   "source": []
  },
  {
   "cell_type": "code",
   "execution_count": 38,
   "id": "d51dc88b-8b60-4235-8b5f-b5dfc6cb9f22",
   "metadata": {},
   "outputs": [
    {
     "name": "stdout",
     "output_type": "stream",
     "text": [
      "time: 16 ms (started: 2025-05-27 23:34:28 +01:00)\n"
     ]
    }
   ],
   "source": []
  },
  {
   "cell_type": "code",
   "execution_count": 40,
   "id": "d074cf68-64ed-41b1-ab99-422536c03faa",
   "metadata": {},
   "outputs": [
    {
     "name": "stdout",
     "output_type": "stream",
     "text": [
      "time: 15 ms (started: 2025-05-27 23:34:48 +01:00)\n"
     ]
    }
   ],
   "source": [
    "data = lib.ref_df.querex('select journal, publisher tag ~ Mildenhall2024')[mandatory].iloc[0].to_dict()"
   ]
  },
  {
   "cell_type": "code",
   "execution_count": 54,
   "id": "474b1975-e466-48dc-abcb-d920722c8d99",
   "metadata": {},
   "outputs": [
    {
     "data": {
      "text/plain": [
       "{'tag': 'Shen2024',\n",
       " 'type': 'article',\n",
       " 'author': 'Shen, Yi and {Van Oosten}, Zachary and Wang, Ruodu',\n",
       " 'pages': '1--51',\n",
       " 'title': '{Partially Law-Invariant Risk Measures}',\n",
       " 'year': '2024',\n",
       " 'url': 'http://arxiv.org/abs/2401.17265',\n",
       " 'number': 'June',\n",
       " 'mendeley-tags': 'WangR',\n",
       " 'arc-citations': 0,\n",
       " 'arc-source': 'mendeley'}"
      ]
     },
     "execution_count": 54,
     "metadata": {},
     "output_type": "execute_result"
    },
    {
     "name": "stdout",
     "output_type": "stream",
     "text": [
      "time: 0 ns (started: 2025-05-27 23:43:02 +01:00)\n"
     ]
    }
   ],
   "source": []
  },
  {
   "cell_type": "code",
   "execution_count": 18,
   "id": "747774f6-e2f0-4ba1-afc0-70897f0d5e28",
   "metadata": {},
   "outputs": [
    {
     "name": "stdout",
     "output_type": "stream",
     "text": [
      "{'Title': '1984', 'Author': 'George Orwell', 'Genre': 'Fiction|', 'Year': ''}\n",
      "time: 16.3 s (started: 2025-05-27 23:29:16 +01:00)\n"
     ]
    }
   ],
   "source": [
    "\n",
    "data = {\"Title\": \"1984\", \"Author\": \"George Orwell\", 'Genre': 'Fiction|'}\n",
    "mandatory = [\"Title\", \"Author\", \"Year\", \"Genre\"]\n",
    "known = {\"Genre\": [\"Fiction\", \"Non-fiction\", \"Sci-Fi\", \"Fantasy\", \"Other\"]}\n",
    "updated = edit_fields(data, mandatory, title=\"Edit Book Info\", known_values=known)\n",
    "print(updated)\n"
   ]
  },
  {
   "cell_type": "code",
   "execution_count": 51,
   "id": "59ad11d0-6ac2-4f2c-8165-3a8f3b49ca89",
   "metadata": {},
   "outputs": [
    {
     "data": {
      "text/plain": [
       "['Report',\n",
       " 'article',\n",
       " 'book',\n",
       " 'incollection',\n",
       " 'inproceedings',\n",
       " 'manual',\n",
       " 'misc',\n",
       " 'phdthesis',\n",
       " 'techreport',\n",
       " 'unpublished']"
      ]
     },
     "execution_count": 51,
     "metadata": {},
     "output_type": "execute_result"
    },
    {
     "name": "stdout",
     "output_type": "stream",
     "text": [
      "time: 16 ms (started: 2025-05-27 23:41:28 +01:00)\n"
     ]
    }
   ],
   "source": [
    "defaults['type']"
   ]
  },
  {
   "cell_type": "code",
   "execution_count": 200,
   "id": "4a3f42d3-43bc-46ad-b3af-94901a3e865a",
   "metadata": {},
   "outputs": [
    {
     "name": "stdout",
     "output_type": "stream",
     "text": [
      "time: 0 ns (started: 2025-05-28 10:55:25 +01:00)\n"
     ]
    }
   ],
   "source": [
    "lib._trie = None"
   ]
  },
  {
   "cell_type": "code",
   "execution_count": null,
   "id": "91254a21-c1e0-4e20-881d-512b4584fe75",
   "metadata": {},
   "outputs": [],
   "source": []
  },
  {
   "cell_type": "code",
   "execution_count": 203,
   "id": "16decea5-d928-4bd2-a998-29488ec37889",
   "metadata": {},
   "outputs": [
    {
     "name": "stdout",
     "output_type": "stream",
     "text": [
      "Tsanakas, Andr is not a key...adding\n"
     ]
    },
    {
     "data": {
      "text/plain": [
       "'Tsanakas, Andreas'"
      ]
     },
     "execution_count": 203,
     "metadata": {},
     "output_type": "execute_result"
    },
    {
     "name": "stdout",
     "output_type": "stream",
     "text": [
      "time: 15 ms (started: 2025-05-28 10:55:55 +01:00)\n"
     ]
    }
   ],
   "source": [
    "lib.to_name_ex('Tsanakas, Andr')"
   ]
  },
  {
   "cell_type": "code",
   "execution_count": 82,
   "id": "d31dabed-10c6-403e-9911-d04474e5e6bf",
   "metadata": {},
   "outputs": [
    {
     "name": "stdout",
     "output_type": "stream",
     "text": [
      "time: 156 ms (started: 2025-05-28 00:06:29 +01:00)\n"
     ]
    }
   ],
   "source": [
    "import requests\n",
    "\n",
    "def lookup_doi(doi: str) -> dict | None:\n",
    "    url = f\"https://api.crossref.org/works/{doi}\"\n",
    "    resp = requests.get(url, headers={\"User-Agent\": \"DOI lookup script\"})\n",
    "    if resp.status_code == 200:\n",
    "        return resp.json()[\"message\"]\n",
    "    return None\n"
   ]
  },
  {
   "cell_type": "code",
   "execution_count": 83,
   "id": "319ad04f-ae1f-4061-82a1-e0541262d859",
   "metadata": {},
   "outputs": [
    {
     "name": "stdout",
     "output_type": "stream",
     "text": [
      "Measured measurement\n",
      "Aspelmeyer Markus\n",
      "time: 1.11 s (started: 2025-05-28 00:06:42 +01:00)\n"
     ]
    }
   ],
   "source": [
    "data = lookup_doi(\"10.1038/nphys1170\")\n",
    "if data:\n",
    "    print(data[\"title\"][0])\n",
    "    print(data[\"author\"][0][\"family\"], data[\"author\"][0][\"given\"])\n"
   ]
  },
  {
   "cell_type": "code",
   "execution_count": 91,
   "id": "1b051f1b-d8ae-4b9a-b516-2b39dd4dd22c",
   "metadata": {},
   "outputs": [
    {
     "name": "stdout",
     "output_type": "stream",
     "text": [
      "time: 16 ms (started: 2025-05-28 00:10:55 +01:00)\n"
     ]
    }
   ],
   "source": [
    "def extract_bibtex_fields(data: dict) -> dict:\n",
    "    authors = data.get(\"author\", [])\n",
    "    author_str = \" and \".join(\n",
    "        f\"{a['family']}, {a.get('given', '')}\".strip() for a in authors\n",
    "    )\n",
    "\n",
    "    return {\n",
    "        \"title\": data.get(\"title\", [\"\"])[0],\n",
    "        \"author\": author_str,\n",
    "        \"year\": data.get(\"issued\", {}).get(\"date-parts\", [[None]])[0][0],\n",
    "        \"journal\": data.get(\"container-title\", [\"\"])[0],\n",
    "        \"volume\": data.get(\"volume\", \"\"),\n",
    "        \"number\": data.get(\"issue\", \"\"),\n",
    "        \"pages\": data.get(\"page\", \"\"),\n",
    "        \"doi\": data.get(\"DOI\", \"\"),\n",
    "        \"url\": data.get(\"URL\", \"\")\n",
    "    }\n"
   ]
  },
  {
   "cell_type": "code",
   "execution_count": null,
   "id": "5f373704-e457-4366-9558-6c65be6d4393",
   "metadata": {},
   "outputs": [],
   "source": [
    "for d in dois[40:45]:\n",
    "    data = lookup_doi(d)\n",
    "    if data:\n",
    "        print(d)\n",
    "        print('-' * len(d))\n",
    "        print(extract_bibtex_fields(data))\n",
    "        print()\n",
    "    else:\n",
    "        print(f'FAIL {d}\\n')"
   ]
  },
  {
   "cell_type": "code",
   "execution_count": 95,
   "id": "d6632c25-b919-4fb4-ab2a-c79ec9bd8c6b",
   "metadata": {},
   "outputs": [
    {
     "data": {
      "text/plain": [
       "2538"
      ]
     },
     "execution_count": 95,
     "metadata": {},
     "output_type": "execute_result"
    },
    {
     "name": "stdout",
     "output_type": "stream",
     "text": [
      "time: 0 ns (started: 2025-05-28 00:12:29 +01:00)\n"
     ]
    }
   ],
   "source": [
    "len(dois)"
   ]
  },
  {
   "cell_type": "code",
   "execution_count": 84,
   "id": "925cef4f-f35e-4823-b2a0-3b8db4b14f8e",
   "metadata": {},
   "outputs": [
    {
     "name": "stdout",
     "output_type": "stream",
     "text": [
      "time: 0 ns (started: 2025-05-28 00:07:03 +01:00)\n"
     ]
    }
   ],
   "source": [
    "dois = lib.distinct('doi')"
   ]
  },
  {
   "cell_type": "code",
   "execution_count": 96,
   "id": "56d73cc1-4626-4df8-977f-28f26f4e82e2",
   "metadata": {},
   "outputs": [
    {
     "name": "stdout",
     "output_type": "stream",
     "text": [
      "time: 0 ns (started: 2025-05-28 00:13:10 +01:00)\n"
     ]
    }
   ],
   "source": [
    "def search_doi_by_title(title: str) -> dict | None:\n",
    "    url = \"https://api.crossref.org/works\"\n",
    "    params = {\"query.title\": title, \"rows\": 1}\n",
    "    headers = {\n",
    "        \"User-Agent\": \"archivum/1.1 (mailto:mynl@me.com)\"\n",
    "    }\n",
    "    resp = requests.get(url, params=params, headers=headers)\n",
    "    if resp.status_code == 200:\n",
    "        items = resp.json()[\"message\"][\"items\"]\n",
    "        return items[0] if items else None\n",
    "    return None\n"
   ]
  },
  {
   "cell_type": "code",
   "execution_count": 102,
   "id": "59182686-2efa-47a5-88fd-540fabb88710",
   "metadata": {},
   "outputs": [
    {
     "name": "stdout",
     "output_type": "stream",
     "text": [
      "10.1007/bf01388809\n",
      "time: 2.75 s (started: 2025-05-28 00:19:46 +01:00)\n"
     ]
    }
   ],
   "source": [
    "result = search_doi_by_title()\n",
    "if result:\n",
    "    print(result[\"DOI\"])"
   ]
  },
  {
   "cell_type": "code",
   "execution_count": 103,
   "id": "6cc7fca9-16b0-4dd6-bd41-4eba133c45bd",
   "metadata": {},
   "outputs": [
    {
     "data": {
      "text/plain": [
       "{'title': 'Heegner points and derivatives ofL-series',\n",
       " 'author': 'Gross, Benedict H. and Zagier, Don B.',\n",
       " 'year': 1986,\n",
       " 'journal': 'Inventiones Mathematicae',\n",
       " 'volume': '84',\n",
       " 'number': '2',\n",
       " 'pages': '225-320',\n",
       " 'doi': '10.1007/bf01388809',\n",
       " 'url': 'https://doi.org/10.1007/bf01388809'}"
      ]
     },
     "execution_count": 103,
     "metadata": {},
     "output_type": "execute_result"
    },
    {
     "name": "stdout",
     "output_type": "stream",
     "text": [
      "time: 16 ms (started: 2025-05-28 00:19:51 +01:00)\n"
     ]
    }
   ],
   "source": [
    "extract_bibtex_fields(result)"
   ]
  },
  {
   "cell_type": "code",
   "execution_count": 100,
   "id": "c2f61cbc-6f4b-493d-b2ec-648858f569e1",
   "metadata": {},
   "outputs": [
    {
     "name": "stdout",
     "output_type": "stream",
     "text": [
      "time: 0 ns (started: 2025-05-28 00:18:12 +01:00)\n"
     ]
    }
   ],
   "source": [
    "from pprint import pprint"
   ]
  },
  {
   "cell_type": "code",
   "execution_count": null,
   "id": "2613ae1b-63c6-4a8b-9b68-ea7a8aa68c4e",
   "metadata": {},
   "outputs": [],
   "source": [
    "pprint(result)"
   ]
  },
  {
   "cell_type": "code",
   "execution_count": 220,
   "id": "d5e0dcc6-8fe0-4b00-8245-1b1ae57eff59",
   "metadata": {},
   "outputs": [
    {
     "data": {
      "text/plain": [
       "Library(uber-library.archivum-config)"
      ]
     },
     "execution_count": 220,
     "metadata": {},
     "output_type": "execute_result"
    },
    {
     "name": "stdout",
     "output_type": "stream",
     "text": [
      "time: 0 ns (started: 2025-05-28 11:44:31 +01:00)\n"
     ]
    }
   ],
   "source": [
    "lib"
   ]
  },
  {
   "cell_type": "code",
   "execution_count": 223,
   "id": "84c3beb8-0037-4ca1-8b6e-f1856795b7ec",
   "metadata": {},
   "outputs": [
    {
     "data": {
      "text/plain": [
       "1"
      ]
     },
     "execution_count": 223,
     "metadata": {},
     "output_type": "execute_result"
    },
    {
     "name": "stdout",
     "output_type": "stream",
     "text": [
      "time: 0 ns (started: 2025-05-28 11:45:44 +01:00)\n"
     ]
    }
   ],
   "source": [
    "len(r)"
   ]
  },
  {
   "cell_type": "code",
   "execution_count": null,
   "id": "afd6db55-6d9b-4b9c-8ace-dd234f8d234b",
   "metadata": {},
   "outputs": [],
   "source": [
    "r = arcc.search(title=\"Heegner points and derivatives of L-series\", rows=1)\n",
    "arcc.to_bibtex(r[0])\n",
    "\n",
    "arcc.to_bibtex(r[0], lib)"
   ]
  },
  {
   "cell_type": "code",
   "execution_count": 226,
   "id": "f08bb447-acc3-404e-adf2-5121e7933b7f",
   "metadata": {},
   "outputs": [
    {
     "data": {
      "text/plain": [
       "{'type': 'article',\n",
       " 'title': 'Heegner points and derivatives ofL-series',\n",
       " 'year': 1986,\n",
       " 'doi': '10.1007/bf01388809',\n",
       " 'url': 'https://doi.org/10.1007/bf01388809',\n",
       " 'author': 'Gross, Benedict H. and Zagier, Don B.',\n",
       " 'journal': 'Inventiones Mathematicae',\n",
       " 'volume': '84',\n",
       " 'number': '2',\n",
       " 'pages': '225-320'}"
      ]
     },
     "execution_count": 226,
     "metadata": {},
     "output_type": "execute_result"
    },
    {
     "name": "stdout",
     "output_type": "stream",
     "text": [
      "time: 0 ns (started: 2025-05-28 11:47:01 +01:00)\n"
     ]
    }
   ],
   "source": [
    "arcc.to_bibtex(r[0], lib)"
   ]
  },
  {
   "cell_type": "code",
   "execution_count": 231,
   "id": "8727b554-400b-4dfe-8565-3c2701120d1e",
   "metadata": {},
   "outputs": [
    {
     "name": "stdout",
     "output_type": "stream",
     "text": [
      "time: 0 ns (started: 2025-05-28 13:50:42 +01:00)\n"
     ]
    }
   ],
   "source": [
    "r = arcr.Reference('Mild2025', 'journal', 'My splendid thing', 2025, author='Mildenhall, Stephen J.')"
   ]
  },
  {
   "cell_type": "code",
   "execution_count": 232,
   "id": "c702b7ca-d408-4c04-9a3f-1ce214a01340",
   "metadata": {},
   "outputs": [
    {
     "data": {
      "text/plain": [
       "Reference(tag='Mild2025', type='journal', title='My splendid thing', year=2025, author='Mildenhall, Stephen J.', journal=None, volume=None, number=None, month=None, pages=None, edition=None, booktitle=None, editor=None, publisher=None, institution=None, address=None, doi=None, url=None, file=None, source=None, mendeley_tags=None, arc_citations=None, arc_source=None)"
      ]
     },
     "execution_count": 232,
     "metadata": {},
     "output_type": "execute_result"
    },
    {
     "name": "stdout",
     "output_type": "stream",
     "text": [
      "time: 0 ns (started: 2025-05-28 13:50:48 +01:00)\n"
     ]
    }
   ],
   "source": [
    "r"
   ]
  },
  {
   "cell_type": "code",
   "execution_count": 239,
   "id": "bc15fea3-6d2c-42df-bf56-0a43ba3238c0",
   "metadata": {},
   "outputs": [
    {
     "data": {
      "text/plain": [
       "{'tag': 'Mild2025',\n",
       " 'type': 'journal',\n",
       " 'title': 'My splendid thing',\n",
       " 'year': 2025,\n",
       " 'author': 'Mildenhall, Stephen J.',\n",
       " 'journal': '',\n",
       " 'volume': '',\n",
       " 'number': '',\n",
       " 'month': '',\n",
       " 'pages': '',\n",
       " 'edition': '',\n",
       " 'booktitle': '',\n",
       " 'editor': '',\n",
       " 'publisher': '',\n",
       " 'institution': '',\n",
       " 'address': '',\n",
       " 'doi': '',\n",
       " 'url': '',\n",
       " 'file': '',\n",
       " 'source': '',\n",
       " 'mendeley_tags': '',\n",
       " 'arc_citations': '',\n",
       " 'arc_source': ''}"
      ]
     },
     "execution_count": 239,
     "metadata": {},
     "output_type": "execute_result"
    },
    {
     "name": "stdout",
     "output_type": "stream",
     "text": [
      "time: 0 ns (started: 2025-05-28 13:58:26 +01:00)\n"
     ]
    }
   ],
   "source": [
    "r.to_dict(fillna='')"
   ]
  },
  {
   "cell_type": "code",
   "execution_count": null,
   "id": "b4d788bc-c747-48f4-b059-df0c6d1f67d9",
   "metadata": {},
   "outputs": [],
   "source": [
    "r = arcc.search(author='Stephen Mildenhall', rows=5)\n",
    "print(len(r))\n",
    "\n",
    "for _ in r:\n",
    "    ref = arcr.Reference.from_crossref(_, lib)\n",
    "    pp(ref.to_dict())"
   ]
  },
  {
   "cell_type": "code",
   "execution_count": 47,
   "id": "ac9906a4-d184-470e-b2a4-ade847d915dd",
   "metadata": {},
   "outputs": [
    {
     "data": {
      "text/plain": [
       "['mendeley']"
      ]
     },
     "execution_count": 47,
     "metadata": {},
     "output_type": "execute_result"
    },
    {
     "name": "stdout",
     "output_type": "stream",
     "text": [
      "time: 16 ms (started: 2025-05-28 15:03:19 +01:00)\n"
     ]
    }
   ],
   "source": [
    "lib.distinct('arc-source')"
   ]
  },
  {
   "cell_type": "code",
   "execution_count": 43,
   "id": "fedbafc8-11f5-412b-87c6-964fa26d631c",
   "metadata": {},
   "outputs": [
    {
     "name": "stdout",
     "output_type": "stream",
     "text": [
      "{'author': 'Mildenhall, Stephen J.',\n",
      " 'doi': '10.3390/risks5020031',\n",
      " 'journal': 'Risks',\n",
      " 'number': '2',\n",
      " 'pages': '31',\n",
      " 'source': 'crossref',\n",
      " 'tag': 'Mildenhall2017',\n",
      " 'title': 'Actuarial Geometry',\n",
      " 'type': 'article',\n",
      " 'url': 'https://doi.org/10.3390/risks5020031',\n",
      " 'volume': '5',\n",
      " 'year': 2017}\n",
      "time: 0 ns (started: 2025-05-28 15:01:57 +01:00)\n"
     ]
    }
   ],
   "source": [
    "pp(ref.to_dict())"
   ]
  },
  {
   "cell_type": "code",
   "execution_count": 67,
   "id": "e23628d9-8dc9-42f3-811b-18a71f08b124",
   "metadata": {},
   "outputs": [
    {
     "data": {
      "text/plain": [
       "'AMBest2008b'"
      ]
     },
     "execution_count": 67,
     "metadata": {},
     "output_type": "execute_result"
    },
    {
     "name": "stdout",
     "output_type": "stream",
     "text": [
      "time: 15 ms (started: 2025-05-28 15:07:13 +01:00)\n"
     ]
    }
   ],
   "source": [
    "s = [i for i in lib.distinct('tag') if re.search(r'^AMBest2008', i)][-1]\n",
    "s"
   ]
  },
  {
   "cell_type": "code",
   "execution_count": 71,
   "id": "751a92dc-5622-4a12-8054-8ad7762f778c",
   "metadata": {},
   "outputs": [
    {
     "data": {
      "text/plain": [
       "'b'"
      ]
     },
     "execution_count": 71,
     "metadata": {},
     "output_type": "execute_result"
    },
    {
     "name": "stdout",
     "output_type": "stream",
     "text": [
      "time: 0 ns (started: 2025-05-28 15:07:59 +01:00)\n"
     ]
    }
   ],
   "source": [
    "chr(ord('a') + 1)"
   ]
  },
  {
   "cell_type": "code",
   "execution_count": 72,
   "id": "c161a3f9-4c7d-4043-a719-b5b4992bd7a9",
   "metadata": {},
   "outputs": [
    {
     "data": {
      "text/plain": [
       "'AMBest2008c'"
      ]
     },
     "execution_count": 72,
     "metadata": {},
     "output_type": "execute_result"
    },
    {
     "name": "stdout",
     "output_type": "stream",
     "text": [
      "time: 0 ns (started: 2025-05-28 15:08:14 +01:00)\n"
     ]
    }
   ],
   "source": [
    "t = s[:-1] + chr(ord(s[-1])+1)\n",
    "t"
   ]
  },
  {
   "cell_type": "code",
   "execution_count": null,
   "id": "569baf36-9734-492e-b986-bb5dfe696d84",
   "metadata": {},
   "outputs": [],
   "source": []
  },
  {
   "cell_type": "code",
   "execution_count": null,
   "id": "09e70814-5b42-4f09-abde-82114e21493f",
   "metadata": {},
   "outputs": [],
   "source": []
  }
 ],
 "metadata": {
  "kernelspec": {
   "display_name": "Python 3 (ipykernel)",
   "language": "python",
   "name": "python3"
  },
  "language_info": {
   "codemirror_mode": {
    "name": "ipython",
    "version": 3
   },
   "file_extension": ".py",
   "mimetype": "text/x-python",
   "name": "python",
   "nbconvert_exporter": "python",
   "pygments_lexer": "ipython3",
   "version": "3.10.13"
  }
 },
 "nbformat": 4,
 "nbformat_minor": 5
}
